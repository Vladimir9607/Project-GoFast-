{
 "cells": [
  {
   "cell_type": "markdown",
   "id": "b3a8772e",
   "metadata": {},
   "source": [
    "# Исследование сервиса аренды самокатов GoFast"
   ]
  },
  {
   "cell_type": "markdown",
   "id": "b0f2219a",
   "metadata": {},
   "source": [
    "В вашем распоряжении данные о некоторых пользователях из нескольких городов, а также об их поездках. users_go.csv - данные о пользователях, rides_go.csv - данные о поездках, subscriptions_go.csv - данные о подписках.\n",
    "\n",
    "Цель исследования — проверьте гипотезы:\n",
    "\n",
    "- Важно понять, тратят ли пользователи с подпиской больше времени на поездки? Если да, то пользователи с подпиской могут быть «выгоднее» для компании.\n",
    "- Расстояние одной поездки в 3130 метров — оптимальное с точки зрения износа самоката. Можно ли сказать, что среднее расстояние, которое проезжают пользователи с подпиской за одну поездку, не превышает 3130 метров?\n",
    "- Проверьте гипотезу о том, будет ли помесячная выручка от пользователей с подпиской по месяцам выше, чем выручка от пользователей без подписки.\n",
    "\n",
    "Ход исследования: \n",
    "\n",
    "Получить данные из users_go.csv - данные о пользователях, rides_go.csv - данные о поездках, subscriptions_go.csv - данные о подписках. О качестве данных ничего не известно. Поэтому перед проверкой гипотез понадобится обзор данных.\n",
    "\n",
    "Проверить данные на ошибки и оцените их влияние на исследование. \n",
    "\n",
    "Описать и визуализировать общую информацию о пользователях и поездках.\n",
    "\n",
    "Объеденить данные.\n",
    "\n",
    "Подсчитать выручку.\n",
    "\n",
    "Проверить гипотезы."
   ]
  },
  {
   "cell_type": "code",
   "execution_count": 1,
   "id": "bdbe2114",
   "metadata": {},
   "outputs": [],
   "source": [
    "import pandas\n",
    "import pandas as pd\n",
    "import matplotlib.pyplot as plt # для постройки графиков\n",
    "import seaborn # для диаграммы\n",
    "import numpy as np # каждое значение из столбца duration округляется с помощью «потолка»: \n",
    "from scipy import stats as st # для проверки гипотезы в Python\n",
    "from math import factorial # для вероятностей\n",
    "from math import sqrt # для вероятностей\n",
    "from scipy.stats import binom # для вероятностей"
   ]
  },
  {
   "cell_type": "markdown",
   "id": "313c7e97",
   "metadata": {},
   "source": [
    "#### Шаг 1. Загрузка данных"
   ]
  },
  {
   "cell_type": "markdown",
   "id": "b38ccd6e",
   "metadata": {},
   "source": [
    "Данные с пользователями"
   ]
  },
  {
   "cell_type": "code",
   "execution_count": 2,
   "id": "1e6fcbb3",
   "metadata": {},
   "outputs": [],
   "source": [
    "try:\n",
    "    data_users_go = pd.read_csv('/datasets/users_go.csv')\n",
    "except:\n",
    "    data_users_go = pd.read_csv('https://code.s3.yandex.net/datasets/users_go.csv')"
   ]
  },
  {
   "cell_type": "markdown",
   "id": "c1c09c56",
   "metadata": {},
   "source": [
    "Посмотрим общую информацию data_users_go"
   ]
  },
  {
   "cell_type": "code",
   "execution_count": 3,
   "id": "2dfeebf1",
   "metadata": {},
   "outputs": [
    {
     "name": "stdout",
     "output_type": "stream",
     "text": [
      "<class 'pandas.core.frame.DataFrame'>\n",
      "RangeIndex: 1565 entries, 0 to 1564\n",
      "Data columns (total 5 columns):\n",
      " #   Column             Non-Null Count  Dtype \n",
      "---  ------             --------------  ----- \n",
      " 0   user_id            1565 non-null   int64 \n",
      " 1   name               1565 non-null   object\n",
      " 2   age                1565 non-null   int64 \n",
      " 3   city               1565 non-null   object\n",
      " 4   subscription_type  1565 non-null   object\n",
      "dtypes: int64(2), object(3)\n",
      "memory usage: 61.3+ KB\n"
     ]
    }
   ],
   "source": [
    "data_users_go.info()"
   ]
  },
  {
   "cell_type": "markdown",
   "id": "9d6119e9",
   "metadata": {},
   "source": [
    "Выведем первые 15 строк"
   ]
  },
  {
   "cell_type": "code",
   "execution_count": 4,
   "id": "dbc86505",
   "metadata": {},
   "outputs": [
    {
     "data": {
      "text/html": [
       "<div>\n",
       "<style scoped>\n",
       "    .dataframe tbody tr th:only-of-type {\n",
       "        vertical-align: middle;\n",
       "    }\n",
       "\n",
       "    .dataframe tbody tr th {\n",
       "        vertical-align: top;\n",
       "    }\n",
       "\n",
       "    .dataframe thead th {\n",
       "        text-align: right;\n",
       "    }\n",
       "</style>\n",
       "<table border=\"1\" class=\"dataframe\">\n",
       "  <thead>\n",
       "    <tr style=\"text-align: right;\">\n",
       "      <th></th>\n",
       "      <th>user_id</th>\n",
       "      <th>name</th>\n",
       "      <th>age</th>\n",
       "      <th>city</th>\n",
       "      <th>subscription_type</th>\n",
       "    </tr>\n",
       "  </thead>\n",
       "  <tbody>\n",
       "    <tr>\n",
       "      <th>0</th>\n",
       "      <td>1</td>\n",
       "      <td>Кира</td>\n",
       "      <td>22</td>\n",
       "      <td>Тюмень</td>\n",
       "      <td>ultra</td>\n",
       "    </tr>\n",
       "    <tr>\n",
       "      <th>1</th>\n",
       "      <td>2</td>\n",
       "      <td>Станислав</td>\n",
       "      <td>31</td>\n",
       "      <td>Омск</td>\n",
       "      <td>ultra</td>\n",
       "    </tr>\n",
       "    <tr>\n",
       "      <th>2</th>\n",
       "      <td>3</td>\n",
       "      <td>Алексей</td>\n",
       "      <td>20</td>\n",
       "      <td>Москва</td>\n",
       "      <td>ultra</td>\n",
       "    </tr>\n",
       "    <tr>\n",
       "      <th>3</th>\n",
       "      <td>4</td>\n",
       "      <td>Константин</td>\n",
       "      <td>26</td>\n",
       "      <td>Ростов-на-Дону</td>\n",
       "      <td>ultra</td>\n",
       "    </tr>\n",
       "    <tr>\n",
       "      <th>4</th>\n",
       "      <td>5</td>\n",
       "      <td>Адель</td>\n",
       "      <td>28</td>\n",
       "      <td>Омск</td>\n",
       "      <td>ultra</td>\n",
       "    </tr>\n",
       "    <tr>\n",
       "      <th>5</th>\n",
       "      <td>6</td>\n",
       "      <td>Регина</td>\n",
       "      <td>25</td>\n",
       "      <td>Краснодар</td>\n",
       "      <td>ultra</td>\n",
       "    </tr>\n",
       "    <tr>\n",
       "      <th>6</th>\n",
       "      <td>7</td>\n",
       "      <td>Игорь</td>\n",
       "      <td>23</td>\n",
       "      <td>Омск</td>\n",
       "      <td>ultra</td>\n",
       "    </tr>\n",
       "    <tr>\n",
       "      <th>7</th>\n",
       "      <td>8</td>\n",
       "      <td>Юрий</td>\n",
       "      <td>23</td>\n",
       "      <td>Краснодар</td>\n",
       "      <td>ultra</td>\n",
       "    </tr>\n",
       "    <tr>\n",
       "      <th>8</th>\n",
       "      <td>9</td>\n",
       "      <td>Ян</td>\n",
       "      <td>21</td>\n",
       "      <td>Пятигорск</td>\n",
       "      <td>ultra</td>\n",
       "    </tr>\n",
       "    <tr>\n",
       "      <th>9</th>\n",
       "      <td>10</td>\n",
       "      <td>Валерий</td>\n",
       "      <td>18</td>\n",
       "      <td>Екатеринбург</td>\n",
       "      <td>ultra</td>\n",
       "    </tr>\n",
       "    <tr>\n",
       "      <th>10</th>\n",
       "      <td>11</td>\n",
       "      <td>Агата</td>\n",
       "      <td>31</td>\n",
       "      <td>Краснодар</td>\n",
       "      <td>ultra</td>\n",
       "    </tr>\n",
       "    <tr>\n",
       "      <th>11</th>\n",
       "      <td>12</td>\n",
       "      <td>Марк</td>\n",
       "      <td>27</td>\n",
       "      <td>Тюмень</td>\n",
       "      <td>ultra</td>\n",
       "    </tr>\n",
       "    <tr>\n",
       "      <th>12</th>\n",
       "      <td>13</td>\n",
       "      <td>Ева</td>\n",
       "      <td>24</td>\n",
       "      <td>Краснодар</td>\n",
       "      <td>ultra</td>\n",
       "    </tr>\n",
       "    <tr>\n",
       "      <th>13</th>\n",
       "      <td>14</td>\n",
       "      <td>Антонина</td>\n",
       "      <td>18</td>\n",
       "      <td>Пятигорск</td>\n",
       "      <td>ultra</td>\n",
       "    </tr>\n",
       "    <tr>\n",
       "      <th>14</th>\n",
       "      <td>15</td>\n",
       "      <td>Валерия</td>\n",
       "      <td>24</td>\n",
       "      <td>Тюмень</td>\n",
       "      <td>ultra</td>\n",
       "    </tr>\n",
       "  </tbody>\n",
       "</table>\n",
       "</div>"
      ],
      "text/plain": [
       "    user_id        name  age            city subscription_type\n",
       "0         1        Кира   22          Тюмень             ultra\n",
       "1         2   Станислав   31            Омск             ultra\n",
       "2         3     Алексей   20          Москва             ultra\n",
       "3         4  Константин   26  Ростов-на-Дону             ultra\n",
       "4         5       Адель   28            Омск             ultra\n",
       "5         6      Регина   25       Краснодар             ultra\n",
       "6         7       Игорь   23            Омск             ultra\n",
       "7         8        Юрий   23       Краснодар             ultra\n",
       "8         9          Ян   21       Пятигорск             ultra\n",
       "9        10     Валерий   18    Екатеринбург             ultra\n",
       "10       11       Агата   31       Краснодар             ultra\n",
       "11       12        Марк   27          Тюмень             ultra\n",
       "12       13         Ева   24       Краснодар             ultra\n",
       "13       14    Антонина   18       Пятигорск             ultra\n",
       "14       15     Валерия   24          Тюмень             ultra"
      ]
     },
     "execution_count": 4,
     "metadata": {},
     "output_type": "execute_result"
    }
   ],
   "source": [
    "data_users_go.head(15)"
   ]
  },
  {
   "cell_type": "markdown",
   "id": "8bfea4f1",
   "metadata": {},
   "source": [
    "Посмотрим количество пользователей в разных городах"
   ]
  },
  {
   "cell_type": "code",
   "execution_count": 5,
   "id": "fd4bd68c",
   "metadata": {},
   "outputs": [
    {
     "data": {
      "text/plain": [
       "Пятигорск         226\n",
       "Екатеринбург      206\n",
       "Ростов-на-Дону    202\n",
       "Краснодар         196\n",
       "Сочи              192\n",
       "Омск              186\n",
       "Тюмень            185\n",
       "Москва            172\n",
       "Name: city, dtype: int64"
      ]
     },
     "execution_count": 5,
     "metadata": {},
     "output_type": "execute_result"
    }
   ],
   "source": [
    "users_go_city = data_users_go['city'].value_counts()\n",
    "users_go_city"
   ]
  },
  {
   "cell_type": "markdown",
   "id": "5b6a6869",
   "metadata": {},
   "source": [
    "Наибольшее количество пользователей в Пятигорске"
   ]
  },
  {
   "cell_type": "markdown",
   "id": "4118e164",
   "metadata": {},
   "source": [
    "Количество пользователей имеющие разные подписки"
   ]
  },
  {
   "cell_type": "code",
   "execution_count": 6,
   "id": "22984aac",
   "metadata": {},
   "outputs": [
    {
     "data": {
      "text/plain": [
       "free     846\n",
       "ultra    719\n",
       "Name: subscription_type, dtype: int64"
      ]
     },
     "execution_count": 6,
     "metadata": {},
     "output_type": "execute_result"
    }
   ],
   "source": [
    "users_go_subscription_type = data_users_go['subscription_type'].value_counts()\n",
    "users_go_subscription_type"
   ]
  },
  {
   "cell_type": "markdown",
   "id": "ae20142e",
   "metadata": {},
   "source": [
    "Большенства пользователей не имеют подписку"
   ]
  },
  {
   "cell_type": "markdown",
   "id": "143457b8",
   "metadata": {},
   "source": [
    "Данные с поездками"
   ]
  },
  {
   "cell_type": "code",
   "execution_count": 7,
   "id": "d735b900",
   "metadata": {},
   "outputs": [],
   "source": [
    "try:\n",
    "    data_rides_go = pd.read_csv('/datasets/rides_go.csv')\n",
    "except:\n",
    "    data_rides_go = pd.read_csv('https://code.s3.yandex.net/datasets/rides_go.csv')"
   ]
  },
  {
   "cell_type": "markdown",
   "id": "69169624",
   "metadata": {},
   "source": [
    "Выведем общую информацию"
   ]
  },
  {
   "cell_type": "code",
   "execution_count": 8,
   "id": "eb6c0e5c",
   "metadata": {},
   "outputs": [
    {
     "name": "stdout",
     "output_type": "stream",
     "text": [
      "<class 'pandas.core.frame.DataFrame'>\n",
      "RangeIndex: 18068 entries, 0 to 18067\n",
      "Data columns (total 4 columns):\n",
      " #   Column    Non-Null Count  Dtype  \n",
      "---  ------    --------------  -----  \n",
      " 0   user_id   18068 non-null  int64  \n",
      " 1   distance  18068 non-null  float64\n",
      " 2   duration  18068 non-null  float64\n",
      " 3   date      18068 non-null  object \n",
      "dtypes: float64(2), int64(1), object(1)\n",
      "memory usage: 564.8+ KB\n"
     ]
    }
   ],
   "source": [
    "data_rides_go.info()"
   ]
  },
  {
   "cell_type": "markdown",
   "id": "50964607",
   "metadata": {},
   "source": [
    "Выведем первые 15 строк"
   ]
  },
  {
   "cell_type": "code",
   "execution_count": 9,
   "id": "bf1c34ce",
   "metadata": {},
   "outputs": [
    {
     "data": {
      "text/html": [
       "<div>\n",
       "<style scoped>\n",
       "    .dataframe tbody tr th:only-of-type {\n",
       "        vertical-align: middle;\n",
       "    }\n",
       "\n",
       "    .dataframe tbody tr th {\n",
       "        vertical-align: top;\n",
       "    }\n",
       "\n",
       "    .dataframe thead th {\n",
       "        text-align: right;\n",
       "    }\n",
       "</style>\n",
       "<table border=\"1\" class=\"dataframe\">\n",
       "  <thead>\n",
       "    <tr style=\"text-align: right;\">\n",
       "      <th></th>\n",
       "      <th>user_id</th>\n",
       "      <th>distance</th>\n",
       "      <th>duration</th>\n",
       "      <th>date</th>\n",
       "    </tr>\n",
       "  </thead>\n",
       "  <tbody>\n",
       "    <tr>\n",
       "      <th>0</th>\n",
       "      <td>1</td>\n",
       "      <td>4409.919140</td>\n",
       "      <td>25.599769</td>\n",
       "      <td>2021-01-01</td>\n",
       "    </tr>\n",
       "    <tr>\n",
       "      <th>1</th>\n",
       "      <td>1</td>\n",
       "      <td>2617.592153</td>\n",
       "      <td>15.816871</td>\n",
       "      <td>2021-01-18</td>\n",
       "    </tr>\n",
       "    <tr>\n",
       "      <th>2</th>\n",
       "      <td>1</td>\n",
       "      <td>754.159807</td>\n",
       "      <td>6.232113</td>\n",
       "      <td>2021-04-20</td>\n",
       "    </tr>\n",
       "    <tr>\n",
       "      <th>3</th>\n",
       "      <td>1</td>\n",
       "      <td>2694.783254</td>\n",
       "      <td>18.511000</td>\n",
       "      <td>2021-08-11</td>\n",
       "    </tr>\n",
       "    <tr>\n",
       "      <th>4</th>\n",
       "      <td>1</td>\n",
       "      <td>4028.687306</td>\n",
       "      <td>26.265803</td>\n",
       "      <td>2021-08-28</td>\n",
       "    </tr>\n",
       "    <tr>\n",
       "      <th>5</th>\n",
       "      <td>1</td>\n",
       "      <td>2770.890808</td>\n",
       "      <td>16.650138</td>\n",
       "      <td>2021-10-09</td>\n",
       "    </tr>\n",
       "    <tr>\n",
       "      <th>6</th>\n",
       "      <td>1</td>\n",
       "      <td>3039.020292</td>\n",
       "      <td>14.927879</td>\n",
       "      <td>2021-10-19</td>\n",
       "    </tr>\n",
       "    <tr>\n",
       "      <th>7</th>\n",
       "      <td>1</td>\n",
       "      <td>2842.118050</td>\n",
       "      <td>23.117468</td>\n",
       "      <td>2021-11-06</td>\n",
       "    </tr>\n",
       "    <tr>\n",
       "      <th>8</th>\n",
       "      <td>1</td>\n",
       "      <td>3412.690668</td>\n",
       "      <td>15.238072</td>\n",
       "      <td>2021-11-14</td>\n",
       "    </tr>\n",
       "    <tr>\n",
       "      <th>9</th>\n",
       "      <td>1</td>\n",
       "      <td>748.690645</td>\n",
       "      <td>15.041884</td>\n",
       "      <td>2021-11-22</td>\n",
       "    </tr>\n",
       "    <tr>\n",
       "      <th>10</th>\n",
       "      <td>1</td>\n",
       "      <td>4031.020195</td>\n",
       "      <td>17.674448</td>\n",
       "      <td>2021-12-14</td>\n",
       "    </tr>\n",
       "    <tr>\n",
       "      <th>11</th>\n",
       "      <td>1</td>\n",
       "      <td>2720.609748</td>\n",
       "      <td>9.529463</td>\n",
       "      <td>2021-12-22</td>\n",
       "    </tr>\n",
       "    <tr>\n",
       "      <th>12</th>\n",
       "      <td>2</td>\n",
       "      <td>3105.086678</td>\n",
       "      <td>24.307514</td>\n",
       "      <td>2021-03-15</td>\n",
       "    </tr>\n",
       "    <tr>\n",
       "      <th>13</th>\n",
       "      <td>2</td>\n",
       "      <td>3053.519401</td>\n",
       "      <td>11.543256</td>\n",
       "      <td>2021-03-18</td>\n",
       "    </tr>\n",
       "    <tr>\n",
       "      <th>14</th>\n",
       "      <td>2</td>\n",
       "      <td>4029.116927</td>\n",
       "      <td>25.109188</td>\n",
       "      <td>2021-03-23</td>\n",
       "    </tr>\n",
       "  </tbody>\n",
       "</table>\n",
       "</div>"
      ],
      "text/plain": [
       "    user_id     distance   duration        date\n",
       "0         1  4409.919140  25.599769  2021-01-01\n",
       "1         1  2617.592153  15.816871  2021-01-18\n",
       "2         1   754.159807   6.232113  2021-04-20\n",
       "3         1  2694.783254  18.511000  2021-08-11\n",
       "4         1  4028.687306  26.265803  2021-08-28\n",
       "5         1  2770.890808  16.650138  2021-10-09\n",
       "6         1  3039.020292  14.927879  2021-10-19\n",
       "7         1  2842.118050  23.117468  2021-11-06\n",
       "8         1  3412.690668  15.238072  2021-11-14\n",
       "9         1   748.690645  15.041884  2021-11-22\n",
       "10        1  4031.020195  17.674448  2021-12-14\n",
       "11        1  2720.609748   9.529463  2021-12-22\n",
       "12        2  3105.086678  24.307514  2021-03-15\n",
       "13        2  3053.519401  11.543256  2021-03-18\n",
       "14        2  4029.116927  25.109188  2021-03-23"
      ]
     },
     "execution_count": 9,
     "metadata": {},
     "output_type": "execute_result"
    }
   ],
   "source": [
    "data_rides_go.head(15)"
   ]
  },
  {
   "cell_type": "markdown",
   "id": "7960328e",
   "metadata": {},
   "source": [
    "Количество поездок которые совершили пользователи"
   ]
  },
  {
   "cell_type": "code",
   "execution_count": 10,
   "id": "033e554a",
   "metadata": {},
   "outputs": [
    {
     "data": {
      "text/plain": [
       "1236    27\n",
       "783     26\n",
       "1063    26\n",
       "1204    24\n",
       "1149    23\n",
       "716     23\n",
       "1531    23\n",
       "1030    23\n",
       "1049    22\n",
       "895     22\n",
       "709     22\n",
       "1383    22\n",
       "734     22\n",
       "1421    22\n",
       "898     22\n",
       "Name: user_id, dtype: int64"
      ]
     },
     "execution_count": 10,
     "metadata": {},
     "output_type": "execute_result"
    }
   ],
   "source": [
    "rides_go_user_id_colichestvo = data_rides_go['user_id'].value_counts()\n",
    "rides_go_user_id_colichestvo.head(15)"
   ]
  },
  {
   "cell_type": "markdown",
   "id": "7ea50f13",
   "metadata": {},
   "source": [
    "Общая дистанция и время, проведенное в поездках каждым пользователем"
   ]
  },
  {
   "cell_type": "code",
   "execution_count": 11,
   "id": "f1417a1d",
   "metadata": {},
   "outputs": [
    {
     "data": {
      "text/html": [
       "<div>\n",
       "<style scoped>\n",
       "    .dataframe tbody tr th:only-of-type {\n",
       "        vertical-align: middle;\n",
       "    }\n",
       "\n",
       "    .dataframe tbody tr th {\n",
       "        vertical-align: top;\n",
       "    }\n",
       "\n",
       "    .dataframe thead th {\n",
       "        text-align: right;\n",
       "    }\n",
       "</style>\n",
       "<table border=\"1\" class=\"dataframe\">\n",
       "  <thead>\n",
       "    <tr style=\"text-align: right;\">\n",
       "      <th></th>\n",
       "      <th>distance</th>\n",
       "      <th>duration</th>\n",
       "    </tr>\n",
       "    <tr>\n",
       "      <th>user_id</th>\n",
       "      <th></th>\n",
       "      <th></th>\n",
       "    </tr>\n",
       "  </thead>\n",
       "  <tbody>\n",
       "    <tr>\n",
       "      <th>1</th>\n",
       "      <td>34070.182066</td>\n",
       "      <td>204.604909</td>\n",
       "    </tr>\n",
       "    <tr>\n",
       "      <th>2</th>\n",
       "      <td>33964.058614</td>\n",
       "      <td>197.644279</td>\n",
       "    </tr>\n",
       "    <tr>\n",
       "      <th>3</th>\n",
       "      <td>36907.597866</td>\n",
       "      <td>233.193513</td>\n",
       "    </tr>\n",
       "    <tr>\n",
       "      <th>4</th>\n",
       "      <td>44837.189916</td>\n",
       "      <td>288.563581</td>\n",
       "    </tr>\n",
       "    <tr>\n",
       "      <th>5</th>\n",
       "      <td>35556.949649</td>\n",
       "      <td>174.073932</td>\n",
       "    </tr>\n",
       "    <tr>\n",
       "      <th>6</th>\n",
       "      <td>34078.606693</td>\n",
       "      <td>203.299077</td>\n",
       "    </tr>\n",
       "    <tr>\n",
       "      <th>7</th>\n",
       "      <td>48707.479147</td>\n",
       "      <td>258.371222</td>\n",
       "    </tr>\n",
       "    <tr>\n",
       "      <th>8</th>\n",
       "      <td>15754.261455</td>\n",
       "      <td>90.681387</td>\n",
       "    </tr>\n",
       "    <tr>\n",
       "      <th>9</th>\n",
       "      <td>23730.942270</td>\n",
       "      <td>129.790228</td>\n",
       "    </tr>\n",
       "    <tr>\n",
       "      <th>10</th>\n",
       "      <td>29528.226111</td>\n",
       "      <td>171.863879</td>\n",
       "    </tr>\n",
       "    <tr>\n",
       "      <th>11</th>\n",
       "      <td>13781.761790</td>\n",
       "      <td>77.515915</td>\n",
       "    </tr>\n",
       "    <tr>\n",
       "      <th>12</th>\n",
       "      <td>27512.377826</td>\n",
       "      <td>186.571944</td>\n",
       "    </tr>\n",
       "    <tr>\n",
       "      <th>13</th>\n",
       "      <td>46848.438136</td>\n",
       "      <td>265.046838</td>\n",
       "    </tr>\n",
       "    <tr>\n",
       "      <th>14</th>\n",
       "      <td>23807.498232</td>\n",
       "      <td>136.173349</td>\n",
       "    </tr>\n",
       "    <tr>\n",
       "      <th>15</th>\n",
       "      <td>32109.856910</td>\n",
       "      <td>234.961875</td>\n",
       "    </tr>\n",
       "  </tbody>\n",
       "</table>\n",
       "</div>"
      ],
      "text/plain": [
       "             distance    duration\n",
       "user_id                          \n",
       "1        34070.182066  204.604909\n",
       "2        33964.058614  197.644279\n",
       "3        36907.597866  233.193513\n",
       "4        44837.189916  288.563581\n",
       "5        35556.949649  174.073932\n",
       "6        34078.606693  203.299077\n",
       "7        48707.479147  258.371222\n",
       "8        15754.261455   90.681387\n",
       "9        23730.942270  129.790228\n",
       "10       29528.226111  171.863879\n",
       "11       13781.761790   77.515915\n",
       "12       27512.377826  186.571944\n",
       "13       46848.438136  265.046838\n",
       "14       23807.498232  136.173349\n",
       "15       32109.856910  234.961875"
      ]
     },
     "execution_count": 11,
     "metadata": {},
     "output_type": "execute_result"
    }
   ],
   "source": [
    "rides_go_d_t = data_rides_go.groupby(['user_id']).sum('duration')\n",
    "rides_go_d_t.head(15)"
   ]
  },
  {
   "cell_type": "markdown",
   "id": "58a07fd1",
   "metadata": {},
   "source": [
    "Данные с подписками"
   ]
  },
  {
   "cell_type": "code",
   "execution_count": 12,
   "id": "8f8f0beb",
   "metadata": {},
   "outputs": [],
   "source": [
    "try:\n",
    "    data_subscriptions_go = pd.read_csv('/datasets/subscriptions_go.csv')\n",
    "except:\n",
    "    data_subscriptions_go = pd.read_csv('https://code.s3.yandex.net/subscriptions_go.csv')"
   ]
  },
  {
   "cell_type": "markdown",
   "id": "639d0791",
   "metadata": {},
   "source": [
    "Выведем общую информацию"
   ]
  },
  {
   "cell_type": "code",
   "execution_count": 13,
   "id": "6fc912e9",
   "metadata": {},
   "outputs": [
    {
     "name": "stdout",
     "output_type": "stream",
     "text": [
      "<class 'pandas.core.frame.DataFrame'>\n",
      "RangeIndex: 2 entries, 0 to 1\n",
      "Data columns (total 4 columns):\n",
      " #   Column             Non-Null Count  Dtype \n",
      "---  ------             --------------  ----- \n",
      " 0   subscription_type  2 non-null      object\n",
      " 1   minute_price       2 non-null      int64 \n",
      " 2   start_ride_price   2 non-null      int64 \n",
      " 3   subscription_fee   2 non-null      int64 \n",
      "dtypes: int64(3), object(1)\n",
      "memory usage: 192.0+ bytes\n"
     ]
    }
   ],
   "source": [
    "data_subscriptions_go.info()"
   ]
  },
  {
   "cell_type": "markdown",
   "id": "826d4c70",
   "metadata": {},
   "source": [
    "Выведем первые 15 строк"
   ]
  },
  {
   "cell_type": "code",
   "execution_count": 14,
   "id": "4edc97e5",
   "metadata": {},
   "outputs": [
    {
     "data": {
      "text/html": [
       "<div>\n",
       "<style scoped>\n",
       "    .dataframe tbody tr th:only-of-type {\n",
       "        vertical-align: middle;\n",
       "    }\n",
       "\n",
       "    .dataframe tbody tr th {\n",
       "        vertical-align: top;\n",
       "    }\n",
       "\n",
       "    .dataframe thead th {\n",
       "        text-align: right;\n",
       "    }\n",
       "</style>\n",
       "<table border=\"1\" class=\"dataframe\">\n",
       "  <thead>\n",
       "    <tr style=\"text-align: right;\">\n",
       "      <th></th>\n",
       "      <th>subscription_type</th>\n",
       "      <th>minute_price</th>\n",
       "      <th>start_ride_price</th>\n",
       "      <th>subscription_fee</th>\n",
       "    </tr>\n",
       "  </thead>\n",
       "  <tbody>\n",
       "    <tr>\n",
       "      <th>0</th>\n",
       "      <td>free</td>\n",
       "      <td>8</td>\n",
       "      <td>50</td>\n",
       "      <td>0</td>\n",
       "    </tr>\n",
       "    <tr>\n",
       "      <th>1</th>\n",
       "      <td>ultra</td>\n",
       "      <td>6</td>\n",
       "      <td>0</td>\n",
       "      <td>199</td>\n",
       "    </tr>\n",
       "  </tbody>\n",
       "</table>\n",
       "</div>"
      ],
      "text/plain": [
       "  subscription_type  minute_price  start_ride_price  subscription_fee\n",
       "0              free             8                50                 0\n",
       "1             ultra             6                 0               199"
      ]
     },
     "execution_count": 14,
     "metadata": {},
     "output_type": "execute_result"
    }
   ],
   "source": [
    "data_subscriptions_go.head(15)"
   ]
  },
  {
   "cell_type": "code",
   "execution_count": 15,
   "id": "4eeba75c",
   "metadata": {},
   "outputs": [],
   "source": [
    "#вывод сделать"
   ]
  },
  {
   "cell_type": "markdown",
   "id": "45bed283",
   "metadata": {},
   "source": [
    "Во время просмотра информации пропущенные значения не наблюдаются, наименование столбцов корректные. \n",
    "В data_rides_go.info в столбцп date необходимо будет поменять типу даты pandas.\n",
    "Исходя из данных можно сказать что, больше всего пользователей имеет г. Пятигорск. Так большенства пользователей не имеют подписку. "
   ]
  },
  {
   "cell_type": "markdown",
   "id": "a34f584e",
   "metadata": {},
   "source": [
    "#### Шаг 2. Предобработка данных"
   ]
  },
  {
   "cell_type": "markdown",
   "id": "7b499702",
   "metadata": {},
   "source": [
    "Проверим таблицы на наличие пропусков"
   ]
  },
  {
   "cell_type": "code",
   "execution_count": 16,
   "id": "d6273d17",
   "metadata": {},
   "outputs": [
    {
     "data": {
      "text/plain": [
       "user_id              0\n",
       "name                 0\n",
       "age                  0\n",
       "city                 0\n",
       "subscription_type    0\n",
       "dtype: int64"
      ]
     },
     "execution_count": 16,
     "metadata": {},
     "output_type": "execute_result"
    }
   ],
   "source": [
    "data_users_go.isna().sum()"
   ]
  },
  {
   "cell_type": "code",
   "execution_count": 17,
   "id": "2fe05607",
   "metadata": {},
   "outputs": [
    {
     "data": {
      "text/plain": [
       "user_id     0\n",
       "distance    0\n",
       "duration    0\n",
       "date        0\n",
       "dtype: int64"
      ]
     },
     "execution_count": 17,
     "metadata": {},
     "output_type": "execute_result"
    }
   ],
   "source": [
    "data_rides_go.isna().sum()"
   ]
  },
  {
   "cell_type": "code",
   "execution_count": 18,
   "id": "44a92f86",
   "metadata": {},
   "outputs": [
    {
     "data": {
      "text/plain": [
       "subscription_type    0\n",
       "minute_price         0\n",
       "start_ride_price     0\n",
       "subscription_fee     0\n",
       "dtype: int64"
      ]
     },
     "execution_count": 18,
     "metadata": {},
     "output_type": "execute_result"
    }
   ],
   "source": [
    "data_subscriptions_go.isna().sum()"
   ]
  },
  {
   "cell_type": "markdown",
   "id": "da62d604",
   "metadata": {},
   "source": [
    "Приведем в таблице data_rides_go столбец date к типу даты pandas."
   ]
  },
  {
   "cell_type": "code",
   "execution_count": 19,
   "id": "65cecd3e",
   "metadata": {},
   "outputs": [],
   "source": [
    "data_rides_go['date'] = pd.to_datetime(data_rides_go['date'], format = '%Y-%m-%d')"
   ]
  },
  {
   "cell_type": "code",
   "execution_count": 20,
   "id": "6645da21",
   "metadata": {},
   "outputs": [
    {
     "data": {
      "text/plain": [
       "0   2021-01-01\n",
       "1   2021-01-18\n",
       "2   2021-04-20\n",
       "3   2021-08-11\n",
       "4   2021-08-28\n",
       "Name: date, dtype: datetime64[ns]"
      ]
     },
     "execution_count": 20,
     "metadata": {},
     "output_type": "execute_result"
    }
   ],
   "source": [
    "data_rides_go['date'].head()"
   ]
  },
  {
   "cell_type": "markdown",
   "id": "188dff08",
   "metadata": {},
   "source": [
    "В таблице data_rides_go ждобавим столбец, обозначающий месяц"
   ]
  },
  {
   "cell_type": "markdown",
   "id": "13fa3745",
   "metadata": {},
   "source": [
    "Узнаем за какой период представлены данные"
   ]
  },
  {
   "cell_type": "code",
   "execution_count": 21,
   "id": "9e52b625",
   "metadata": {},
   "outputs": [
    {
     "data": {
      "text/plain": [
       "array(['2021-01-01T00:00:00.000000000', '2021-01-18T00:00:00.000000000',\n",
       "       '2021-04-20T00:00:00.000000000', '2021-08-11T00:00:00.000000000',\n",
       "       '2021-08-28T00:00:00.000000000', '2021-10-09T00:00:00.000000000',\n",
       "       '2021-10-19T00:00:00.000000000', '2021-11-06T00:00:00.000000000',\n",
       "       '2021-11-14T00:00:00.000000000', '2021-11-22T00:00:00.000000000',\n",
       "       '2021-12-14T00:00:00.000000000', '2021-12-22T00:00:00.000000000',\n",
       "       '2021-03-15T00:00:00.000000000', '2021-03-18T00:00:00.000000000',\n",
       "       '2021-03-23T00:00:00.000000000', '2021-04-08T00:00:00.000000000',\n",
       "       '2021-04-13T00:00:00.000000000', '2021-06-20T00:00:00.000000000',\n",
       "       '2021-07-02T00:00:00.000000000', '2021-07-18T00:00:00.000000000',\n",
       "       '2021-08-03T00:00:00.000000000', '2021-10-27T00:00:00.000000000',\n",
       "       '2021-12-18T00:00:00.000000000', '2021-01-31T00:00:00.000000000',\n",
       "       '2021-02-24T00:00:00.000000000', '2021-02-26T00:00:00.000000000',\n",
       "       '2021-04-12T00:00:00.000000000', '2021-05-07T00:00:00.000000000',\n",
       "       '2021-05-21T00:00:00.000000000', '2021-05-22T00:00:00.000000000',\n",
       "       '2021-07-04T00:00:00.000000000', '2021-07-07T00:00:00.000000000',\n",
       "       '2021-07-14T00:00:00.000000000', '2021-09-04T00:00:00.000000000',\n",
       "       '2021-02-10T00:00:00.000000000', '2021-02-16T00:00:00.000000000',\n",
       "       '2021-06-06T00:00:00.000000000', '2021-06-27T00:00:00.000000000',\n",
       "       '2021-07-06T00:00:00.000000000', '2021-07-17T00:00:00.000000000',\n",
       "       '2021-08-14T00:00:00.000000000', '2021-10-08T00:00:00.000000000',\n",
       "       '2021-10-24T00:00:00.000000000', '2021-10-30T00:00:00.000000000',\n",
       "       '2021-11-25T00:00:00.000000000', '2021-03-01T00:00:00.000000000',\n",
       "       '2021-03-13T00:00:00.000000000', '2021-03-25T00:00:00.000000000',\n",
       "       '2021-04-24T00:00:00.000000000', '2021-05-08T00:00:00.000000000',\n",
       "       '2021-05-30T00:00:00.000000000', '2021-07-24T00:00:00.000000000',\n",
       "       '2021-08-10T00:00:00.000000000', '2021-10-07T00:00:00.000000000',\n",
       "       '2021-02-25T00:00:00.000000000', '2021-05-04T00:00:00.000000000',\n",
       "       '2021-05-14T00:00:00.000000000', '2021-05-17T00:00:00.000000000',\n",
       "       '2021-08-15T00:00:00.000000000', '2021-09-27T00:00:00.000000000',\n",
       "       '2021-11-18T00:00:00.000000000', '2021-12-07T00:00:00.000000000',\n",
       "       '2021-12-08T00:00:00.000000000', '2021-01-10T00:00:00.000000000',\n",
       "       '2021-01-20T00:00:00.000000000', '2021-03-07T00:00:00.000000000',\n",
       "       '2021-04-09T00:00:00.000000000', '2021-04-28T00:00:00.000000000',\n",
       "       '2021-05-10T00:00:00.000000000', '2021-06-16T00:00:00.000000000',\n",
       "       '2021-11-05T00:00:00.000000000', '2021-11-08T00:00:00.000000000',\n",
       "       '2021-11-11T00:00:00.000000000', '2021-11-24T00:00:00.000000000',\n",
       "       '2021-12-19T00:00:00.000000000', '2021-12-27T00:00:00.000000000',\n",
       "       '2021-06-23T00:00:00.000000000', '2021-08-08T00:00:00.000000000',\n",
       "       '2021-08-19T00:00:00.000000000', '2021-12-09T00:00:00.000000000',\n",
       "       '2021-03-08T00:00:00.000000000', '2021-03-09T00:00:00.000000000',\n",
       "       '2021-04-17T00:00:00.000000000', '2021-06-30T00:00:00.000000000',\n",
       "       '2021-08-04T00:00:00.000000000', '2021-09-20T00:00:00.000000000',\n",
       "       '2021-02-04T00:00:00.000000000', '2021-02-21T00:00:00.000000000',\n",
       "       '2021-04-03T00:00:00.000000000', '2021-06-21T00:00:00.000000000',\n",
       "       '2021-08-12T00:00:00.000000000', '2021-11-21T00:00:00.000000000',\n",
       "       '2021-12-25T00:00:00.000000000', '2021-02-27T00:00:00.000000000',\n",
       "       '2021-09-01T00:00:00.000000000', '2021-12-06T00:00:00.000000000',\n",
       "       '2021-01-17T00:00:00.000000000', '2021-04-25T00:00:00.000000000',\n",
       "       '2021-05-23T00:00:00.000000000', '2021-07-11T00:00:00.000000000',\n",
       "       '2021-08-07T00:00:00.000000000', '2021-01-24T00:00:00.000000000',\n",
       "       '2021-01-27T00:00:00.000000000', '2021-04-14T00:00:00.000000000',\n",
       "       '2021-08-06T00:00:00.000000000', '2021-08-24T00:00:00.000000000',\n",
       "       '2021-09-23T00:00:00.000000000', '2021-09-26T00:00:00.000000000',\n",
       "       '2021-10-18T00:00:00.000000000', '2021-10-26T00:00:00.000000000',\n",
       "       '2021-11-10T00:00:00.000000000', '2021-12-23T00:00:00.000000000',\n",
       "       '2021-01-02T00:00:00.000000000', '2021-01-12T00:00:00.000000000',\n",
       "       '2021-03-27T00:00:00.000000000', '2021-03-29T00:00:00.000000000',\n",
       "       '2021-05-13T00:00:00.000000000', '2021-01-13T00:00:00.000000000',\n",
       "       '2021-02-13T00:00:00.000000000', '2021-03-02T00:00:00.000000000',\n",
       "       '2021-04-05T00:00:00.000000000', '2021-09-14T00:00:00.000000000',\n",
       "       '2021-10-04T00:00:00.000000000', '2021-11-15T00:00:00.000000000',\n",
       "       '2021-02-18T00:00:00.000000000', '2021-03-03T00:00:00.000000000',\n",
       "       '2021-03-06T00:00:00.000000000', '2021-04-02T00:00:00.000000000',\n",
       "       '2021-04-16T00:00:00.000000000', '2021-05-28T00:00:00.000000000',\n",
       "       '2021-06-15T00:00:00.000000000', '2021-07-19T00:00:00.000000000',\n",
       "       '2021-07-27T00:00:00.000000000', '2021-09-11T00:00:00.000000000',\n",
       "       '2021-09-21T00:00:00.000000000', '2021-05-25T00:00:00.000000000',\n",
       "       '2021-06-19T00:00:00.000000000', '2021-03-28T00:00:00.000000000',\n",
       "       '2021-04-10T00:00:00.000000000', '2021-05-19T00:00:00.000000000',\n",
       "       '2021-08-18T00:00:00.000000000', '2021-08-31T00:00:00.000000000',\n",
       "       '2021-09-07T00:00:00.000000000', '2021-09-17T00:00:00.000000000',\n",
       "       '2021-09-18T00:00:00.000000000', '2021-04-21T00:00:00.000000000',\n",
       "       '2021-04-27T00:00:00.000000000', '2021-05-18T00:00:00.000000000',\n",
       "       '2021-08-05T00:00:00.000000000', '2021-10-16T00:00:00.000000000',\n",
       "       '2021-11-17T00:00:00.000000000', '2021-05-03T00:00:00.000000000',\n",
       "       '2021-07-25T00:00:00.000000000', '2021-02-03T00:00:00.000000000',\n",
       "       '2021-02-12T00:00:00.000000000', '2021-02-19T00:00:00.000000000',\n",
       "       '2021-03-19T00:00:00.000000000', '2021-06-25T00:00:00.000000000',\n",
       "       '2021-10-01T00:00:00.000000000', '2021-11-09T00:00:00.000000000',\n",
       "       '2021-12-03T00:00:00.000000000', '2021-12-13T00:00:00.000000000',\n",
       "       '2021-01-14T00:00:00.000000000', '2021-05-06T00:00:00.000000000',\n",
       "       '2021-06-28T00:00:00.000000000', '2021-07-13T00:00:00.000000000',\n",
       "       '2021-09-25T00:00:00.000000000', '2021-02-20T00:00:00.000000000',\n",
       "       '2021-02-23T00:00:00.000000000', '2021-05-20T00:00:00.000000000',\n",
       "       '2021-07-16T00:00:00.000000000', '2021-08-26T00:00:00.000000000',\n",
       "       '2021-11-12T00:00:00.000000000', '2021-12-11T00:00:00.000000000',\n",
       "       '2021-03-14T00:00:00.000000000', '2021-03-24T00:00:00.000000000',\n",
       "       '2021-04-04T00:00:00.000000000', '2021-06-11T00:00:00.000000000',\n",
       "       '2021-11-20T00:00:00.000000000', '2021-01-26T00:00:00.000000000',\n",
       "       '2021-03-22T00:00:00.000000000', '2021-07-28T00:00:00.000000000',\n",
       "       '2021-10-20T00:00:00.000000000', '2021-12-29T00:00:00.000000000',\n",
       "       '2021-01-04T00:00:00.000000000', '2021-01-22T00:00:00.000000000',\n",
       "       '2021-04-22T00:00:00.000000000', '2021-06-08T00:00:00.000000000',\n",
       "       '2021-12-30T00:00:00.000000000', '2021-05-11T00:00:00.000000000',\n",
       "       '2021-07-12T00:00:00.000000000', '2021-08-17T00:00:00.000000000',\n",
       "       '2021-11-29T00:00:00.000000000', '2021-12-24T00:00:00.000000000',\n",
       "       '2021-07-31T00:00:00.000000000', '2021-08-16T00:00:00.000000000',\n",
       "       '2021-08-30T00:00:00.000000000', '2021-12-26T00:00:00.000000000',\n",
       "       '2021-07-10T00:00:00.000000000', '2021-08-20T00:00:00.000000000',\n",
       "       '2021-08-22T00:00:00.000000000', '2021-10-02T00:00:00.000000000',\n",
       "       '2021-01-28T00:00:00.000000000', '2021-04-11T00:00:00.000000000',\n",
       "       '2021-09-08T00:00:00.000000000', '2021-09-19T00:00:00.000000000',\n",
       "       '2021-10-11T00:00:00.000000000', '2021-10-21T00:00:00.000000000',\n",
       "       '2021-02-11T00:00:00.000000000', '2021-06-02T00:00:00.000000000',\n",
       "       '2021-06-10T00:00:00.000000000', '2021-07-15T00:00:00.000000000',\n",
       "       '2021-08-27T00:00:00.000000000', '2021-08-29T00:00:00.000000000',\n",
       "       '2021-01-25T00:00:00.000000000', '2021-05-01T00:00:00.000000000',\n",
       "       '2021-10-22T00:00:00.000000000', '2021-10-31T00:00:00.000000000',\n",
       "       '2021-06-22T00:00:00.000000000', '2021-11-13T00:00:00.000000000',\n",
       "       '2021-03-04T00:00:00.000000000', '2021-07-23T00:00:00.000000000',\n",
       "       '2021-08-02T00:00:00.000000000', '2021-02-22T00:00:00.000000000',\n",
       "       '2021-05-16T00:00:00.000000000', '2021-05-26T00:00:00.000000000',\n",
       "       '2021-06-04T00:00:00.000000000', '2021-06-24T00:00:00.000000000',\n",
       "       '2021-09-15T00:00:00.000000000', '2021-03-12T00:00:00.000000000',\n",
       "       '2021-06-05T00:00:00.000000000', '2021-06-14T00:00:00.000000000',\n",
       "       '2021-07-20T00:00:00.000000000', '2021-10-14T00:00:00.000000000',\n",
       "       '2021-09-28T00:00:00.000000000', '2021-11-19T00:00:00.000000000',\n",
       "       '2021-12-21T00:00:00.000000000', '2021-06-09T00:00:00.000000000',\n",
       "       '2021-11-04T00:00:00.000000000', '2021-07-22T00:00:00.000000000',\n",
       "       '2021-02-09T00:00:00.000000000', '2021-04-23T00:00:00.000000000',\n",
       "       '2021-08-13T00:00:00.000000000', '2021-08-21T00:00:00.000000000',\n",
       "       '2021-12-02T00:00:00.000000000', '2021-07-21T00:00:00.000000000',\n",
       "       '2021-10-25T00:00:00.000000000', '2021-12-05T00:00:00.000000000',\n",
       "       '2021-01-03T00:00:00.000000000', '2021-02-01T00:00:00.000000000',\n",
       "       '2021-02-07T00:00:00.000000000', '2021-07-08T00:00:00.000000000',\n",
       "       '2021-01-09T00:00:00.000000000', '2021-01-11T00:00:00.000000000',\n",
       "       '2021-06-26T00:00:00.000000000', '2021-10-28T00:00:00.000000000',\n",
       "       '2021-01-15T00:00:00.000000000', '2021-07-29T00:00:00.000000000',\n",
       "       '2021-09-02T00:00:00.000000000', '2021-09-24T00:00:00.000000000',\n",
       "       '2021-02-17T00:00:00.000000000', '2021-02-14T00:00:00.000000000',\n",
       "       '2021-04-29T00:00:00.000000000', '2021-06-07T00:00:00.000000000',\n",
       "       '2021-11-27T00:00:00.000000000', '2021-10-15T00:00:00.000000000',\n",
       "       '2021-02-08T00:00:00.000000000', '2021-03-26T00:00:00.000000000',\n",
       "       '2021-09-05T00:00:00.000000000', '2021-06-12T00:00:00.000000000',\n",
       "       '2021-08-23T00:00:00.000000000', '2021-09-10T00:00:00.000000000',\n",
       "       '2021-03-20T00:00:00.000000000', '2021-06-17T00:00:00.000000000',\n",
       "       '2021-03-21T00:00:00.000000000', '2021-05-12T00:00:00.000000000',\n",
       "       '2021-12-10T00:00:00.000000000', '2021-03-11T00:00:00.000000000',\n",
       "       '2021-12-01T00:00:00.000000000', '2021-01-29T00:00:00.000000000',\n",
       "       '2021-05-09T00:00:00.000000000', '2021-02-02T00:00:00.000000000',\n",
       "       '2021-04-30T00:00:00.000000000', '2021-05-29T00:00:00.000000000',\n",
       "       '2021-05-02T00:00:00.000000000', '2021-01-05T00:00:00.000000000',\n",
       "       '2021-05-15T00:00:00.000000000', '2021-09-22T00:00:00.000000000',\n",
       "       '2021-07-26T00:00:00.000000000', '2021-08-25T00:00:00.000000000',\n",
       "       '2021-10-03T00:00:00.000000000', '2021-01-07T00:00:00.000000000',\n",
       "       '2021-06-01T00:00:00.000000000', '2021-08-09T00:00:00.000000000',\n",
       "       '2021-09-13T00:00:00.000000000', '2021-12-17T00:00:00.000000000',\n",
       "       '2021-02-28T00:00:00.000000000', '2021-10-05T00:00:00.000000000',\n",
       "       '2021-03-10T00:00:00.000000000', '2021-03-17T00:00:00.000000000',\n",
       "       '2021-04-01T00:00:00.000000000', '2021-03-16T00:00:00.000000000',\n",
       "       '2021-04-26T00:00:00.000000000', '2021-12-15T00:00:00.000000000',\n",
       "       '2021-01-19T00:00:00.000000000', '2021-09-30T00:00:00.000000000',\n",
       "       '2021-10-12T00:00:00.000000000', '2021-11-07T00:00:00.000000000',\n",
       "       '2021-12-12T00:00:00.000000000', '2021-07-09T00:00:00.000000000',\n",
       "       '2021-07-30T00:00:00.000000000', '2021-08-01T00:00:00.000000000',\n",
       "       '2021-09-09T00:00:00.000000000', '2021-09-12T00:00:00.000000000',\n",
       "       '2021-10-06T00:00:00.000000000', '2021-12-04T00:00:00.000000000',\n",
       "       '2021-06-29T00:00:00.000000000', '2021-11-01T00:00:00.000000000',\n",
       "       '2021-04-15T00:00:00.000000000', '2021-05-24T00:00:00.000000000',\n",
       "       '2021-01-23T00:00:00.000000000', '2021-02-15T00:00:00.000000000',\n",
       "       '2021-12-28T00:00:00.000000000', '2021-01-08T00:00:00.000000000',\n",
       "       '2021-06-18T00:00:00.000000000', '2021-03-30T00:00:00.000000000',\n",
       "       '2021-04-06T00:00:00.000000000', '2021-04-19T00:00:00.000000000',\n",
       "       '2021-10-23T00:00:00.000000000', '2021-01-30T00:00:00.000000000',\n",
       "       '2021-07-05T00:00:00.000000000', '2021-06-13T00:00:00.000000000',\n",
       "       '2021-05-27T00:00:00.000000000', '2021-09-16T00:00:00.000000000',\n",
       "       '2021-03-31T00:00:00.000000000', '2021-11-23T00:00:00.000000000',\n",
       "       '2021-04-07T00:00:00.000000000', '2021-10-17T00:00:00.000000000',\n",
       "       '2021-05-05T00:00:00.000000000', '2021-12-20T00:00:00.000000000',\n",
       "       '2021-11-03T00:00:00.000000000', '2021-03-05T00:00:00.000000000',\n",
       "       '2021-01-06T00:00:00.000000000', '2021-09-06T00:00:00.000000000',\n",
       "       '2021-11-30T00:00:00.000000000', '2021-09-03T00:00:00.000000000',\n",
       "       '2021-01-16T00:00:00.000000000', '2021-09-29T00:00:00.000000000',\n",
       "       '2021-02-05T00:00:00.000000000', '2021-06-03T00:00:00.000000000',\n",
       "       '2021-10-13T00:00:00.000000000', '2021-07-01T00:00:00.000000000',\n",
       "       '2021-11-16T00:00:00.000000000', '2021-11-28T00:00:00.000000000',\n",
       "       '2021-10-10T00:00:00.000000000', '2021-11-02T00:00:00.000000000',\n",
       "       '2021-10-29T00:00:00.000000000', '2021-11-26T00:00:00.000000000',\n",
       "       '2021-04-18T00:00:00.000000000', '2021-07-03T00:00:00.000000000',\n",
       "       '2021-05-31T00:00:00.000000000', '2021-12-16T00:00:00.000000000',\n",
       "       '2021-01-21T00:00:00.000000000', '2021-02-06T00:00:00.000000000'],\n",
       "      dtype='datetime64[ns]')"
      ]
     },
     "execution_count": 21,
     "metadata": {},
     "output_type": "execute_result"
    }
   ],
   "source": [
    "data_rides_go['date'].unique()"
   ]
  },
  {
   "cell_type": "markdown",
   "id": "c32bc048",
   "metadata": {},
   "source": [
    "Видим только 2021 год, добавим столбец с месяцем"
   ]
  },
  {
   "cell_type": "code",
   "execution_count": 22,
   "id": "c3f3b400",
   "metadata": {},
   "outputs": [],
   "source": [
    "data_rides_go['month'] = data_rides_go['date'].dt.month"
   ]
  },
  {
   "cell_type": "code",
   "execution_count": 23,
   "id": "e7af2c84",
   "metadata": {},
   "outputs": [
    {
     "data": {
      "text/html": [
       "<div>\n",
       "<style scoped>\n",
       "    .dataframe tbody tr th:only-of-type {\n",
       "        vertical-align: middle;\n",
       "    }\n",
       "\n",
       "    .dataframe tbody tr th {\n",
       "        vertical-align: top;\n",
       "    }\n",
       "\n",
       "    .dataframe thead th {\n",
       "        text-align: right;\n",
       "    }\n",
       "</style>\n",
       "<table border=\"1\" class=\"dataframe\">\n",
       "  <thead>\n",
       "    <tr style=\"text-align: right;\">\n",
       "      <th></th>\n",
       "      <th>user_id</th>\n",
       "      <th>distance</th>\n",
       "      <th>duration</th>\n",
       "      <th>date</th>\n",
       "      <th>month</th>\n",
       "    </tr>\n",
       "  </thead>\n",
       "  <tbody>\n",
       "    <tr>\n",
       "      <th>0</th>\n",
       "      <td>1</td>\n",
       "      <td>4409.919140</td>\n",
       "      <td>25.599769</td>\n",
       "      <td>2021-01-01</td>\n",
       "      <td>1</td>\n",
       "    </tr>\n",
       "    <tr>\n",
       "      <th>1</th>\n",
       "      <td>1</td>\n",
       "      <td>2617.592153</td>\n",
       "      <td>15.816871</td>\n",
       "      <td>2021-01-18</td>\n",
       "      <td>1</td>\n",
       "    </tr>\n",
       "    <tr>\n",
       "      <th>2</th>\n",
       "      <td>1</td>\n",
       "      <td>754.159807</td>\n",
       "      <td>6.232113</td>\n",
       "      <td>2021-04-20</td>\n",
       "      <td>4</td>\n",
       "    </tr>\n",
       "    <tr>\n",
       "      <th>3</th>\n",
       "      <td>1</td>\n",
       "      <td>2694.783254</td>\n",
       "      <td>18.511000</td>\n",
       "      <td>2021-08-11</td>\n",
       "      <td>8</td>\n",
       "    </tr>\n",
       "    <tr>\n",
       "      <th>4</th>\n",
       "      <td>1</td>\n",
       "      <td>4028.687306</td>\n",
       "      <td>26.265803</td>\n",
       "      <td>2021-08-28</td>\n",
       "      <td>8</td>\n",
       "    </tr>\n",
       "  </tbody>\n",
       "</table>\n",
       "</div>"
      ],
      "text/plain": [
       "   user_id     distance   duration       date  month\n",
       "0        1  4409.919140  25.599769 2021-01-01      1\n",
       "1        1  2617.592153  15.816871 2021-01-18      1\n",
       "2        1   754.159807   6.232113 2021-04-20      4\n",
       "3        1  2694.783254  18.511000 2021-08-11      8\n",
       "4        1  4028.687306  26.265803 2021-08-28      8"
      ]
     },
     "execution_count": 23,
     "metadata": {},
     "output_type": "execute_result"
    }
   ],
   "source": [
    "data_rides_go.head()"
   ]
  },
  {
   "cell_type": "markdown",
   "id": "bf9a46a0",
   "metadata": {},
   "source": [
    "Добавим в data_rides_go с длительностью поездки в секундах"
   ]
  },
  {
   "cell_type": "markdown",
   "id": "8f9a1921",
   "metadata": {},
   "source": [
    "Проверем наличие пропущенных значений и дубликатов в датафреймах."
   ]
  },
  {
   "cell_type": "code",
   "execution_count": 24,
   "id": "9078a07f",
   "metadata": {},
   "outputs": [
    {
     "data": {
      "text/plain": [
       "31"
      ]
     },
     "execution_count": 24,
     "metadata": {},
     "output_type": "execute_result"
    }
   ],
   "source": [
    "data_users_go.duplicated().sum()"
   ]
  },
  {
   "cell_type": "code",
   "execution_count": 25,
   "id": "94d55377",
   "metadata": {},
   "outputs": [
    {
     "data": {
      "text/plain": [
       "0"
      ]
     },
     "execution_count": 25,
     "metadata": {},
     "output_type": "execute_result"
    }
   ],
   "source": [
    "data_rides_go.duplicated().sum()"
   ]
  },
  {
   "cell_type": "code",
   "execution_count": 26,
   "id": "1235fe5c",
   "metadata": {},
   "outputs": [
    {
     "data": {
      "text/plain": [
       "0"
      ]
     },
     "execution_count": 26,
     "metadata": {},
     "output_type": "execute_result"
    }
   ],
   "source": [
    "data_subscriptions_go.duplicated().sum()"
   ]
  },
  {
   "cell_type": "markdown",
   "id": "ca12a272",
   "metadata": {},
   "source": [
    "Удалим дубликаты в data_users_go"
   ]
  },
  {
   "cell_type": "code",
   "execution_count": 27,
   "id": "9fafeea2",
   "metadata": {},
   "outputs": [],
   "source": [
    "data_users_go.drop_duplicates(inplace=True)"
   ]
  },
  {
   "cell_type": "code",
   "execution_count": 28,
   "id": "c3b04b2b",
   "metadata": {},
   "outputs": [
    {
     "data": {
      "text/plain": [
       "0"
      ]
     },
     "execution_count": 28,
     "metadata": {},
     "output_type": "execute_result"
    }
   ],
   "source": [
    "data_users_go.duplicated().sum()"
   ]
  },
  {
   "cell_type": "code",
   "execution_count": 29,
   "id": "271d792f",
   "metadata": {},
   "outputs": [
    {
     "name": "stdout",
     "output_type": "stream",
     "text": [
      "<class 'pandas.core.frame.DataFrame'>\n",
      "Int64Index: 1534 entries, 0 to 1533\n",
      "Data columns (total 5 columns):\n",
      " #   Column             Non-Null Count  Dtype \n",
      "---  ------             --------------  ----- \n",
      " 0   user_id            1534 non-null   int64 \n",
      " 1   name               1534 non-null   object\n",
      " 2   age                1534 non-null   int64 \n",
      " 3   city               1534 non-null   object\n",
      " 4   subscription_type  1534 non-null   object\n",
      "dtypes: int64(2), object(3)\n",
      "memory usage: 71.9+ KB\n"
     ]
    }
   ],
   "source": [
    "data_users_go.info()"
   ]
  },
  {
   "cell_type": "markdown",
   "id": "10c6916a",
   "metadata": {},
   "source": [
    "Пропуски не были найдены в процессе провеки, был изменен формат в data_rides_go столбце date к типу даты pandas.\n",
    "В таблице data_rides_go ждобавим столбец, обозначающий месяц.\n",
    "Были убраны дубликаты в data_users_go"
   ]
  },
  {
   "cell_type": "markdown",
   "id": "73a64304",
   "metadata": {},
   "source": [
    "#### Шаг 3. Исследовательский анализ данных"
   ]
  },
  {
   "cell_type": "markdown",
   "id": "d7ca2aff",
   "metadata": {},
   "source": [
    "3.1 частота встречаемости городов"
   ]
  },
  {
   "cell_type": "code",
   "execution_count": 30,
   "id": "3fb23b41",
   "metadata": {},
   "outputs": [
    {
     "data": {
      "text/plain": [
       "Пятигорск         219\n",
       "Екатеринбург      204\n",
       "Ростов-на-Дону    198\n",
       "Краснодар         193\n",
       "Сочи              189\n",
       "Омск              183\n",
       "Тюмень            180\n",
       "Москва            168\n",
       "Name: city, dtype: int64"
      ]
     },
     "execution_count": 30,
     "metadata": {},
     "output_type": "execute_result"
    }
   ],
   "source": [
    "users_go_city = data_users_go['city'].value_counts()\n",
    "users_go_city"
   ]
  },
  {
   "cell_type": "code",
   "execution_count": 31,
   "id": "864aa0ce",
   "metadata": {},
   "outputs": [],
   "source": [
    "xxx = pandas.Series([219, 204, 198, 193, 189, 183, 180, 168])\n",
    "yyy = pandas.Series(['Пятигорск', 'Екатеринбург', 'Ростов-на-Дону', 'Краснодар', 'Сочи', 'Омск', 'Тюмень', 'Москва'])"
   ]
  },
  {
   "cell_type": "code",
   "execution_count": 32,
   "id": "c7696826",
   "metadata": {},
   "outputs": [
    {
     "data": {
      "image/png": "[encoded data removed]",
      "text/plain": [
       "<Figure size 432x288 with 1 Axes>"
      ]
     },
     "metadata": {
      "needs_background": "light"
     },
     "output_type": "display_data"
    }
   ],
   "source": [
    "seaborn.barplot(x=xxx, y=yyy)\n",
    "plt.title('Количество пользователей в разных городах')\n",
    "plt.xlabel('Количество пользователей')\n",
    "plt.ylabel('Города')\n",
    "\n",
    "plt.show()"
   ]
  },
  {
   "cell_type": "code",
   "execution_count": 33,
   "id": "6699be0b",
   "metadata": {},
   "outputs": [
    {
     "data": {
      "image/png": "[encoded data removed]",
      "text/plain": [
       "<Figure size 1080x360 with 1 Axes>"
      ]
     },
     "metadata": {
      "needs_background": "light"
     },
     "output_type": "display_data"
    }
   ],
   "source": [
    "users_go_city.plot(style='x', title ='количество пользователей в разных городах', grid=True, figsize=(15, 5))\n",
    "plt.xlabel('Города')\n",
    "plt.ylabel('Количество пользователей')\n",
    "\n",
    "plt.show()"
   ]
  },
  {
   "cell_type": "markdown",
   "id": "a76ebbee",
   "metadata": {},
   "source": [
    "Наиболее распространный город является Пятигорск, Екатеренбург и Ростов-на-Дону, меньше всего пользователей в Моксве и Тюмени.\n",
    "Сильно выделяющегося по количеству городу пользователей нет, так в Пятигорске 219 пользователей, когда как в Москве, где меньше всего пользователей, 168, что на 51 пользователя меньше чем в лидируещем по количеству пользователей г. Пятигорска."
   ]
  },
  {
   "cell_type": "markdown",
   "id": "d26f1282",
   "metadata": {},
   "source": [
    "3.2 соотношение пользователей с подпиской и без подписки;"
   ]
  },
  {
   "cell_type": "code",
   "execution_count": 34,
   "id": "f142d7ee",
   "metadata": {},
   "outputs": [
    {
     "data": {
      "text/plain": [
       "free     835\n",
       "ultra    699\n",
       "Name: subscription_type, dtype: int64"
      ]
     },
     "execution_count": 34,
     "metadata": {},
     "output_type": "execute_result"
    }
   ],
   "source": [
    "users_go_subscription_type = data_users_go['subscription_type'].value_counts()\n",
    "users_go_subscription_type"
   ]
  },
  {
   "cell_type": "code",
   "execution_count": 35,
   "id": "6b38605c",
   "metadata": {},
   "outputs": [
    {
     "data": {
      "image/png": "[encoded data removed]",
      "text/plain": [
       "<Figure size 720x720 with 1 Axes>"
      ]
     },
     "metadata": {},
     "output_type": "display_data"
    }
   ],
   "source": [
    "users_go_subscription_type.plot(kind='pie', title ='%-е соотношение количество пользователей с подпиской free и ultre', grid=True, autopct = '%1.0f%%', figsize=(10,10))\n",
    "plt.ylabel(' ')\n",
    "\n",
    "\n",
    "plt.show()"
   ]
  },
  {
   "cell_type": "markdown",
   "id": "c64693cb",
   "metadata": {},
   "source": [
    "Чуть больше половины пользователей (54%) не имеют подписки. Платную подписку имеют 46% пользователей."
   ]
  },
  {
   "cell_type": "markdown",
   "id": "c5f6c974",
   "metadata": {},
   "source": [
    "3.3 возраст пользователей;"
   ]
  },
  {
   "cell_type": "markdown",
   "id": "15f50761",
   "metadata": {},
   "source": [
    "Посмотрим количество пользователей по годам"
   ]
  },
  {
   "cell_type": "code",
   "execution_count": 36,
   "id": "510fcb49",
   "metadata": {},
   "outputs": [
    {
     "data": {
      "text/plain": [
       "25    145\n",
       "24    132\n",
       "26    131\n",
       "23    129\n",
       "27    119\n",
       "22    119\n",
       "28    112\n",
       "21     93\n",
       "20     71\n",
       "30     68\n",
       "29     68\n",
       "31     48\n",
       "19     47\n",
       "18     46\n",
       "32     41\n",
       "33     39\n",
       "17     26\n",
       "34     19\n",
       "16     19\n",
       "35     15\n",
       "15     13\n",
       "14      9\n",
       "13      8\n",
       "36      6\n",
       "12      4\n",
       "38      3\n",
       "37      2\n",
       "39      1\n",
       "43      1\n",
       "Name: age, dtype: int64"
      ]
     },
     "execution_count": 36,
     "metadata": {},
     "output_type": "execute_result"
    }
   ],
   "source": [
    "users_go_age = data_users_go['age'].value_counts()\n",
    "users_go_age"
   ]
  },
  {
   "cell_type": "code",
   "execution_count": 37,
   "id": "8be39544",
   "metadata": {},
   "outputs": [
    {
     "data": {
      "image/png": "[encoded data removed]",
      "text/plain": [
       "<Figure size 720x360 with 1 Axes>"
      ]
     },
     "metadata": {
      "needs_background": "light"
     },
     "output_type": "display_data"
    }
   ],
   "source": [
    "data_users_go['age'].plot(kind='hist', title ='Возраст пользователей', grid=True, figsize=(10,5))\n",
    "plt.xlabel('Возраст')\n",
    "plt.ylabel('Количество пользователей')\n",
    "\n",
    "plt.show()"
   ]
  },
  {
   "cell_type": "markdown",
   "id": "4c077347",
   "metadata": {},
   "source": [
    "Самые старшие и младшие пользователи"
   ]
  },
  {
   "cell_type": "code",
   "execution_count": 38,
   "id": "beb01941",
   "metadata": {},
   "outputs": [
    {
     "data": {
      "text/plain": [
       "664    12\n",
       "66     12\n",
       "727    12\n",
       "34     12\n",
       "235    13\n",
       "Name: age, dtype: int64"
      ]
     },
     "execution_count": 38,
     "metadata": {},
     "output_type": "execute_result"
    }
   ],
   "source": [
    "data_users_go['age'].sort_values().head()"
   ]
  },
  {
   "cell_type": "code",
   "execution_count": 39,
   "id": "aad529fe",
   "metadata": {},
   "outputs": [
    {
     "data": {
      "text/plain": [
       "1201    43\n",
       "961     39\n",
       "804     38\n",
       "453     38\n",
       "383     38\n",
       "Name: age, dtype: int64"
      ]
     },
     "execution_count": 39,
     "metadata": {},
     "output_type": "execute_result"
    }
   ],
   "source": [
    "data_users_go['age'].sort_values(ascending=False).head()"
   ]
  },
  {
   "cell_type": "markdown",
   "id": "3aed5247",
   "metadata": {},
   "source": [
    "Большую часть пользователей составляют от 20 до 30 лет, больше всего пользователей имеют возраст 24-26 лет. Диапозон возраста пользователей составляет от 12 до 43 лет."
   ]
  },
  {
   "cell_type": "markdown",
   "id": "afdd8026",
   "metadata": {},
   "source": [
    "3.4 расстояние, которое пользователь преодолел за одну поездку;"
   ]
  },
  {
   "cell_type": "markdown",
   "id": "236b2e15",
   "metadata": {},
   "source": [
    "Самые короткие и длинные дистанции за одну поездку:"
   ]
  },
  {
   "cell_type": "code",
   "execution_count": 40,
   "id": "1e8d321c",
   "metadata": {},
   "outputs": [
    {
     "data": {
      "text/plain": [
       "11555    0.86\n",
       "9541     2.57\n",
       "13690    4.33\n",
       "8658     6.78\n",
       "7841     7.10\n",
       "Name: distance, dtype: float64"
      ]
     },
     "execution_count": 40,
     "metadata": {},
     "output_type": "execute_result"
    }
   ],
   "source": [
    "round(data_rides_go['distance'].sort_values(), 2).head()"
   ]
  },
  {
   "cell_type": "code",
   "execution_count": 41,
   "id": "178480e1",
   "metadata": {},
   "outputs": [
    {
     "data": {
      "text/plain": [
       "16309    7211.01\n",
       "16484    7066.00\n",
       "15580    6908.49\n",
       "17171    6760.94\n",
       "17242    6724.93\n",
       "Name: distance, dtype: float64"
      ]
     },
     "execution_count": 41,
     "metadata": {},
     "output_type": "execute_result"
    }
   ],
   "source": [
    "round(data_rides_go['distance'].sort_values(ascending=False), 2).head()"
   ]
  },
  {
   "cell_type": "code",
   "execution_count": 42,
   "id": "4060d3bb",
   "metadata": {},
   "outputs": [
    {
     "name": "stdout",
     "output_type": "stream",
     "text": [
      "count    18068.000000\n",
      "mean      3070.659976\n",
      "std       1116.831209\n",
      "min          0.855683\n",
      "25%       2543.226360\n",
      "50%       3133.609994\n",
      "75%       3776.222735\n",
      "max       7211.007745\n",
      "Name: distance, dtype: float64\n"
     ]
    }
   ],
   "source": [
    "print(data_rides_go['distance'].describe())"
   ]
  },
  {
   "cell_type": "code",
   "execution_count": 43,
   "id": "4d060ebf",
   "metadata": {},
   "outputs": [
    {
     "data": {
      "image/png": "[encoded data removed]",
      "text/plain": [
       "<Figure size 720x360 with 1 Axes>"
      ]
     },
     "metadata": {
      "needs_background": "light"
     },
     "output_type": "display_data"
    }
   ],
   "source": [
    "data_rides_go['distance'].plot(kind='hist', title ='Расстояние за 1 поездку', bins = 50, grid=True, figsize=(10,5))\n",
    "plt.xlabel('Возраст')\n",
    "plt.ylabel('Расстояние в метрах')\n",
    "\n",
    "plt.show()"
   ]
  },
  {
   "cell_type": "markdown",
   "id": "bd0b6d9e",
   "metadata": {},
   "source": [
    "В основном пользователи проезжают от 2.5 км до 3,7 км. Максимальное расстояние за одну поездку составляет 7211,01 м."
   ]
  },
  {
   "cell_type": "markdown",
   "id": "5af320b9",
   "metadata": {},
   "source": [
    "3.5 Продолжительность поездок."
   ]
  },
  {
   "cell_type": "markdown",
   "id": "81b13b2d",
   "metadata": {},
   "source": [
    "Посмотрим минимальные и максимальные по времени поезки"
   ]
  },
  {
   "cell_type": "code",
   "execution_count": 44,
   "id": "a6f1ec66",
   "metadata": {},
   "outputs": [
    {
     "data": {
      "text/plain": [
       "12013    0.5\n",
       "17314    0.5\n",
       "15029    0.5\n",
       "7437     0.5\n",
       "12967    0.5\n",
       "Name: duration, dtype: float64"
      ]
     },
     "execution_count": 44,
     "metadata": {},
     "output_type": "execute_result"
    }
   ],
   "source": [
    "data_rides_go['duration'].sort_values().head()"
   ]
  },
  {
   "cell_type": "code",
   "execution_count": 45,
   "id": "eb2b5994",
   "metadata": {},
   "outputs": [
    {
     "data": {
      "text/plain": [
       "4215    40.823963\n",
       "4709    39.873856\n",
       "2623    39.526602\n",
       "1998    38.352763\n",
       "6453    38.265229\n",
       "Name: duration, dtype: float64"
      ]
     },
     "execution_count": 45,
     "metadata": {},
     "output_type": "execute_result"
    }
   ],
   "source": [
    "data_rides_go['duration'].sort_values(ascending=False).head()"
   ]
  },
  {
   "cell_type": "code",
   "execution_count": 46,
   "id": "63d8649e",
   "metadata": {},
   "outputs": [],
   "source": [
    "#print('в минутах', data_rides_go['duration'].min())"
   ]
  },
  {
   "cell_type": "code",
   "execution_count": 47,
   "id": "da2faf95",
   "metadata": {},
   "outputs": [],
   "source": [
    "#print('в минутах', round(data_rides_go['duration'].max(), 2))"
   ]
  },
  {
   "cell_type": "code",
   "execution_count": 48,
   "id": "36e56186",
   "metadata": {},
   "outputs": [],
   "source": [
    "#print('среднее арифметическое', round(data_rides_go['duration'].mean(), 2))"
   ]
  },
  {
   "cell_type": "code",
   "execution_count": 49,
   "id": "1b424b39",
   "metadata": {},
   "outputs": [],
   "source": [
    "#print('медиана', round(data_rides_go['duration'].median(), 2))"
   ]
  },
  {
   "cell_type": "code",
   "execution_count": 50,
   "id": "29072672",
   "metadata": {},
   "outputs": [
    {
     "name": "stdout",
     "output_type": "stream",
     "text": [
      "count    18068.000000\n",
      "mean        17.805011\n",
      "std          6.091051\n",
      "min          0.500000\n",
      "25%         13.597563\n",
      "50%         17.678395\n",
      "75%         21.724800\n",
      "max         40.823963\n",
      "Name: duration, dtype: float64\n"
     ]
    }
   ],
   "source": [
    "print(data_rides_go['duration'].describe())"
   ]
  },
  {
   "cell_type": "code",
   "execution_count": 51,
   "id": "77567472",
   "metadata": {},
   "outputs": [
    {
     "data": {
      "image/png": "[encoded data removed]",
      "text/plain": [
       "<Figure size 720x360 with 1 Axes>"
      ]
     },
     "metadata": {
      "needs_background": "light"
     },
     "output_type": "display_data"
    }
   ],
   "source": [
    "data_rides_go['duration'].plot(kind='hist', title ='Время за 1 поездку', grid=True, figsize=(10,5))\n",
    "plt.xlabel('Возраст')\n",
    "plt.ylabel('Время в минутах')\n",
    "\n",
    "plt.show()"
   ]
  },
  {
   "cell_type": "markdown",
   "id": "84433ea6",
   "metadata": {},
   "source": [
    "Чаще всего длительность поездки состовляет 13 - 21 минут. Максимальное время поездки составило 40,82 минуты."
   ]
  },
  {
   "cell_type": "markdown",
   "id": "97dbd342",
   "metadata": {},
   "source": [
    "Наиболее распространный город является Пятигорск, Екатеренбург и Ростов-на-Дону, меньше всего пользователей в Моксве и Тюмени. \n",
    "Чуть больше половины пользователей (54%) не имеют подписки. Платную подписку имеют 46% пользователей.\n",
    "Больше всего пользователей возраста от 20 до 30 лет. Диапозон возраста пользователей составляет от 12 до 43 лет.\n",
    "В основном пользователи проезжают от 2.5 км до 3,7 км. Максимальное расстояние за одну поездку составляет 7211,01 м.\n",
    "Чаще всего длительность поездки состовляет 13 - 21 минут. Максимальное время поездки составило 40,82 минуты."
   ]
  },
  {
   "cell_type": "markdown",
   "id": "82c874a5",
   "metadata": {},
   "source": [
    "#### Шаг 4. Объединение данных"
   ]
  },
  {
   "cell_type": "markdown",
   "id": "848e99c6",
   "metadata": {},
   "source": [
    "4.1 Объедините данные о пользователях, поездках и подписках в один датафрейм. Для этого воспользуйтесь методом merge()."
   ]
  },
  {
   "cell_type": "code",
   "execution_count": 52,
   "id": "2d7ee9ab",
   "metadata": {},
   "outputs": [
    {
     "name": "stdout",
     "output_type": "stream",
     "text": [
      "<class 'pandas.core.frame.DataFrame'>\n",
      "Int64Index: 1534 entries, 0 to 1533\n",
      "Data columns (total 5 columns):\n",
      " #   Column             Non-Null Count  Dtype \n",
      "---  ------             --------------  ----- \n",
      " 0   user_id            1534 non-null   int64 \n",
      " 1   name               1534 non-null   object\n",
      " 2   age                1534 non-null   int64 \n",
      " 3   city               1534 non-null   object\n",
      " 4   subscription_type  1534 non-null   object\n",
      "dtypes: int64(2), object(3)\n",
      "memory usage: 71.9+ KB\n"
     ]
    }
   ],
   "source": [
    "data_users_go.info()"
   ]
  },
  {
   "cell_type": "code",
   "execution_count": 53,
   "id": "0d0771fd",
   "metadata": {},
   "outputs": [
    {
     "name": "stdout",
     "output_type": "stream",
     "text": [
      "<class 'pandas.core.frame.DataFrame'>\n",
      "RangeIndex: 18068 entries, 0 to 18067\n",
      "Data columns (total 5 columns):\n",
      " #   Column    Non-Null Count  Dtype         \n",
      "---  ------    --------------  -----         \n",
      " 0   user_id   18068 non-null  int64         \n",
      " 1   distance  18068 non-null  float64       \n",
      " 2   duration  18068 non-null  float64       \n",
      " 3   date      18068 non-null  datetime64[ns]\n",
      " 4   month     18068 non-null  int64         \n",
      "dtypes: datetime64[ns](1), float64(2), int64(2)\n",
      "memory usage: 705.9 KB\n"
     ]
    }
   ],
   "source": [
    "data_rides_go.info()"
   ]
  },
  {
   "cell_type": "code",
   "execution_count": 54,
   "id": "55730c7b",
   "metadata": {},
   "outputs": [
    {
     "name": "stdout",
     "output_type": "stream",
     "text": [
      "<class 'pandas.core.frame.DataFrame'>\n",
      "RangeIndex: 2 entries, 0 to 1\n",
      "Data columns (total 4 columns):\n",
      " #   Column             Non-Null Count  Dtype \n",
      "---  ------             --------------  ----- \n",
      " 0   subscription_type  2 non-null      object\n",
      " 1   minute_price       2 non-null      int64 \n",
      " 2   start_ride_price   2 non-null      int64 \n",
      " 3   subscription_fee   2 non-null      int64 \n",
      "dtypes: int64(3), object(1)\n",
      "memory usage: 192.0+ bytes\n"
     ]
    }
   ],
   "source": [
    "data_subscriptions_go.info()"
   ]
  },
  {
   "cell_type": "code",
   "execution_count": 55,
   "id": "9fea2325",
   "metadata": {},
   "outputs": [],
   "source": [
    "itog_data = data_users_go.merge(data_rides_go, on='user_id')"
   ]
  },
  {
   "cell_type": "code",
   "execution_count": 56,
   "id": "4448ef7c",
   "metadata": {},
   "outputs": [],
   "source": [
    "itog_data = itog_data.merge(data_subscriptions_go, on='subscription_type')"
   ]
  },
  {
   "cell_type": "code",
   "execution_count": 57,
   "id": "80d86e1b",
   "metadata": {},
   "outputs": [
    {
     "data": {
      "text/html": [
       "<div>\n",
       "<style scoped>\n",
       "    .dataframe tbody tr th:only-of-type {\n",
       "        vertical-align: middle;\n",
       "    }\n",
       "\n",
       "    .dataframe tbody tr th {\n",
       "        vertical-align: top;\n",
       "    }\n",
       "\n",
       "    .dataframe thead th {\n",
       "        text-align: right;\n",
       "    }\n",
       "</style>\n",
       "<table border=\"1\" class=\"dataframe\">\n",
       "  <thead>\n",
       "    <tr style=\"text-align: right;\">\n",
       "      <th></th>\n",
       "      <th>user_id</th>\n",
       "      <th>name</th>\n",
       "      <th>age</th>\n",
       "      <th>city</th>\n",
       "      <th>subscription_type</th>\n",
       "      <th>distance</th>\n",
       "      <th>duration</th>\n",
       "      <th>date</th>\n",
       "      <th>month</th>\n",
       "      <th>minute_price</th>\n",
       "      <th>start_ride_price</th>\n",
       "      <th>subscription_fee</th>\n",
       "    </tr>\n",
       "  </thead>\n",
       "  <tbody>\n",
       "    <tr>\n",
       "      <th>0</th>\n",
       "      <td>1</td>\n",
       "      <td>Кира</td>\n",
       "      <td>22</td>\n",
       "      <td>Тюмень</td>\n",
       "      <td>ultra</td>\n",
       "      <td>4409.919140</td>\n",
       "      <td>25.599769</td>\n",
       "      <td>2021-01-01</td>\n",
       "      <td>1</td>\n",
       "      <td>6</td>\n",
       "      <td>0</td>\n",
       "      <td>199</td>\n",
       "    </tr>\n",
       "    <tr>\n",
       "      <th>1</th>\n",
       "      <td>1</td>\n",
       "      <td>Кира</td>\n",
       "      <td>22</td>\n",
       "      <td>Тюмень</td>\n",
       "      <td>ultra</td>\n",
       "      <td>2617.592153</td>\n",
       "      <td>15.816871</td>\n",
       "      <td>2021-01-18</td>\n",
       "      <td>1</td>\n",
       "      <td>6</td>\n",
       "      <td>0</td>\n",
       "      <td>199</td>\n",
       "    </tr>\n",
       "    <tr>\n",
       "      <th>2</th>\n",
       "      <td>1</td>\n",
       "      <td>Кира</td>\n",
       "      <td>22</td>\n",
       "      <td>Тюмень</td>\n",
       "      <td>ultra</td>\n",
       "      <td>754.159807</td>\n",
       "      <td>6.232113</td>\n",
       "      <td>2021-04-20</td>\n",
       "      <td>4</td>\n",
       "      <td>6</td>\n",
       "      <td>0</td>\n",
       "      <td>199</td>\n",
       "    </tr>\n",
       "    <tr>\n",
       "      <th>3</th>\n",
       "      <td>1</td>\n",
       "      <td>Кира</td>\n",
       "      <td>22</td>\n",
       "      <td>Тюмень</td>\n",
       "      <td>ultra</td>\n",
       "      <td>2694.783254</td>\n",
       "      <td>18.511000</td>\n",
       "      <td>2021-08-11</td>\n",
       "      <td>8</td>\n",
       "      <td>6</td>\n",
       "      <td>0</td>\n",
       "      <td>199</td>\n",
       "    </tr>\n",
       "    <tr>\n",
       "      <th>4</th>\n",
       "      <td>1</td>\n",
       "      <td>Кира</td>\n",
       "      <td>22</td>\n",
       "      <td>Тюмень</td>\n",
       "      <td>ultra</td>\n",
       "      <td>4028.687306</td>\n",
       "      <td>26.265803</td>\n",
       "      <td>2021-08-28</td>\n",
       "      <td>8</td>\n",
       "      <td>6</td>\n",
       "      <td>0</td>\n",
       "      <td>199</td>\n",
       "    </tr>\n",
       "    <tr>\n",
       "      <th>...</th>\n",
       "      <td>...</td>\n",
       "      <td>...</td>\n",
       "      <td>...</td>\n",
       "      <td>...</td>\n",
       "      <td>...</td>\n",
       "      <td>...</td>\n",
       "      <td>...</td>\n",
       "      <td>...</td>\n",
       "      <td>...</td>\n",
       "      <td>...</td>\n",
       "      <td>...</td>\n",
       "      <td>...</td>\n",
       "    </tr>\n",
       "    <tr>\n",
       "      <th>18063</th>\n",
       "      <td>1534</td>\n",
       "      <td>Альберт</td>\n",
       "      <td>25</td>\n",
       "      <td>Краснодар</td>\n",
       "      <td>free</td>\n",
       "      <td>3781.098080</td>\n",
       "      <td>19.822962</td>\n",
       "      <td>2021-11-04</td>\n",
       "      <td>11</td>\n",
       "      <td>8</td>\n",
       "      <td>50</td>\n",
       "      <td>0</td>\n",
       "    </tr>\n",
       "    <tr>\n",
       "      <th>18064</th>\n",
       "      <td>1534</td>\n",
       "      <td>Альберт</td>\n",
       "      <td>25</td>\n",
       "      <td>Краснодар</td>\n",
       "      <td>free</td>\n",
       "      <td>2840.423057</td>\n",
       "      <td>21.409799</td>\n",
       "      <td>2021-11-16</td>\n",
       "      <td>11</td>\n",
       "      <td>8</td>\n",
       "      <td>50</td>\n",
       "      <td>0</td>\n",
       "    </tr>\n",
       "    <tr>\n",
       "      <th>18065</th>\n",
       "      <td>1534</td>\n",
       "      <td>Альберт</td>\n",
       "      <td>25</td>\n",
       "      <td>Краснодар</td>\n",
       "      <td>free</td>\n",
       "      <td>3826.185507</td>\n",
       "      <td>18.435051</td>\n",
       "      <td>2021-11-18</td>\n",
       "      <td>11</td>\n",
       "      <td>8</td>\n",
       "      <td>50</td>\n",
       "      <td>0</td>\n",
       "    </tr>\n",
       "    <tr>\n",
       "      <th>18066</th>\n",
       "      <td>1534</td>\n",
       "      <td>Альберт</td>\n",
       "      <td>25</td>\n",
       "      <td>Краснодар</td>\n",
       "      <td>free</td>\n",
       "      <td>2902.308661</td>\n",
       "      <td>16.674362</td>\n",
       "      <td>2021-11-27</td>\n",
       "      <td>11</td>\n",
       "      <td>8</td>\n",
       "      <td>50</td>\n",
       "      <td>0</td>\n",
       "    </tr>\n",
       "    <tr>\n",
       "      <th>18067</th>\n",
       "      <td>1534</td>\n",
       "      <td>Альберт</td>\n",
       "      <td>25</td>\n",
       "      <td>Краснодар</td>\n",
       "      <td>free</td>\n",
       "      <td>2371.711192</td>\n",
       "      <td>15.893917</td>\n",
       "      <td>2021-12-29</td>\n",
       "      <td>12</td>\n",
       "      <td>8</td>\n",
       "      <td>50</td>\n",
       "      <td>0</td>\n",
       "    </tr>\n",
       "  </tbody>\n",
       "</table>\n",
       "<p>18068 rows × 12 columns</p>\n",
       "</div>"
      ],
      "text/plain": [
       "       user_id     name  age       city subscription_type     distance  \\\n",
       "0            1     Кира   22     Тюмень             ultra  4409.919140   \n",
       "1            1     Кира   22     Тюмень             ultra  2617.592153   \n",
       "2            1     Кира   22     Тюмень             ultra   754.159807   \n",
       "3            1     Кира   22     Тюмень             ultra  2694.783254   \n",
       "4            1     Кира   22     Тюмень             ultra  4028.687306   \n",
       "...        ...      ...  ...        ...               ...          ...   \n",
       "18063     1534  Альберт   25  Краснодар              free  3781.098080   \n",
       "18064     1534  Альберт   25  Краснодар              free  2840.423057   \n",
       "18065     1534  Альберт   25  Краснодар              free  3826.185507   \n",
       "18066     1534  Альберт   25  Краснодар              free  2902.308661   \n",
       "18067     1534  Альберт   25  Краснодар              free  2371.711192   \n",
       "\n",
       "        duration       date  month  minute_price  start_ride_price  \\\n",
       "0      25.599769 2021-01-01      1             6                 0   \n",
       "1      15.816871 2021-01-18      1             6                 0   \n",
       "2       6.232113 2021-04-20      4             6                 0   \n",
       "3      18.511000 2021-08-11      8             6                 0   \n",
       "4      26.265803 2021-08-28      8             6                 0   \n",
       "...          ...        ...    ...           ...               ...   \n",
       "18063  19.822962 2021-11-04     11             8                50   \n",
       "18064  21.409799 2021-11-16     11             8                50   \n",
       "18065  18.435051 2021-11-18     11             8                50   \n",
       "18066  16.674362 2021-11-27     11             8                50   \n",
       "18067  15.893917 2021-12-29     12             8                50   \n",
       "\n",
       "       subscription_fee  \n",
       "0                   199  \n",
       "1                   199  \n",
       "2                   199  \n",
       "3                   199  \n",
       "4                   199  \n",
       "...                 ...  \n",
       "18063                 0  \n",
       "18064                 0  \n",
       "18065                 0  \n",
       "18066                 0  \n",
       "18067                 0  \n",
       "\n",
       "[18068 rows x 12 columns]"
      ]
     },
     "execution_count": 57,
     "metadata": {},
     "output_type": "execute_result"
    }
   ],
   "source": [
    "itog_data"
   ]
  },
  {
   "cell_type": "code",
   "execution_count": 58,
   "id": "0494c6c6",
   "metadata": {},
   "outputs": [
    {
     "name": "stdout",
     "output_type": "stream",
     "text": [
      "<class 'pandas.core.frame.DataFrame'>\n",
      "Int64Index: 18068 entries, 0 to 18067\n",
      "Data columns (total 12 columns):\n",
      " #   Column             Non-Null Count  Dtype         \n",
      "---  ------             --------------  -----         \n",
      " 0   user_id            18068 non-null  int64         \n",
      " 1   name               18068 non-null  object        \n",
      " 2   age                18068 non-null  int64         \n",
      " 3   city               18068 non-null  object        \n",
      " 4   subscription_type  18068 non-null  object        \n",
      " 5   distance           18068 non-null  float64       \n",
      " 6   duration           18068 non-null  float64       \n",
      " 7   date               18068 non-null  datetime64[ns]\n",
      " 8   month              18068 non-null  int64         \n",
      " 9   minute_price       18068 non-null  int64         \n",
      " 10  start_ride_price   18068 non-null  int64         \n",
      " 11  subscription_fee   18068 non-null  int64         \n",
      "dtypes: datetime64[ns](1), float64(2), int64(6), object(3)\n",
      "memory usage: 1.8+ MB\n"
     ]
    }
   ],
   "source": [
    "itog_data.info()"
   ]
  },
  {
   "cell_type": "markdown",
   "id": "4453d705",
   "metadata": {},
   "source": [
    "4.2 Создайте ещё два датафрейма из датафрейма, созданного на этапе 4.1:"
   ]
  },
  {
   "cell_type": "markdown",
   "id": "a6b043d4",
   "metadata": {},
   "source": [
    "Создадитм датафрейм без подписки"
   ]
  },
  {
   "cell_type": "code",
   "execution_count": 59,
   "id": "b2d817e7",
   "metadata": {},
   "outputs": [],
   "source": [
    "free_subscription_data = itog_data.query(\"subscription_type == 'free'\")"
   ]
  },
  {
   "cell_type": "code",
   "execution_count": 60,
   "id": "2d378672",
   "metadata": {},
   "outputs": [
    {
     "data": {
      "text/html": [
       "<div>\n",
       "<style scoped>\n",
       "    .dataframe tbody tr th:only-of-type {\n",
       "        vertical-align: middle;\n",
       "    }\n",
       "\n",
       "    .dataframe tbody tr th {\n",
       "        vertical-align: top;\n",
       "    }\n",
       "\n",
       "    .dataframe thead th {\n",
       "        text-align: right;\n",
       "    }\n",
       "</style>\n",
       "<table border=\"1\" class=\"dataframe\">\n",
       "  <thead>\n",
       "    <tr style=\"text-align: right;\">\n",
       "      <th></th>\n",
       "      <th>user_id</th>\n",
       "      <th>name</th>\n",
       "      <th>age</th>\n",
       "      <th>city</th>\n",
       "      <th>subscription_type</th>\n",
       "      <th>distance</th>\n",
       "      <th>duration</th>\n",
       "      <th>date</th>\n",
       "      <th>month</th>\n",
       "      <th>minute_price</th>\n",
       "      <th>start_ride_price</th>\n",
       "      <th>subscription_fee</th>\n",
       "    </tr>\n",
       "  </thead>\n",
       "  <tbody>\n",
       "    <tr>\n",
       "      <th>6500</th>\n",
       "      <td>700</td>\n",
       "      <td>Айдар</td>\n",
       "      <td>22</td>\n",
       "      <td>Омск</td>\n",
       "      <td>free</td>\n",
       "      <td>2515.690719</td>\n",
       "      <td>14.944286</td>\n",
       "      <td>2021-01-02</td>\n",
       "      <td>1</td>\n",
       "      <td>8</td>\n",
       "      <td>50</td>\n",
       "      <td>0</td>\n",
       "    </tr>\n",
       "    <tr>\n",
       "      <th>6501</th>\n",
       "      <td>700</td>\n",
       "      <td>Айдар</td>\n",
       "      <td>22</td>\n",
       "      <td>Омск</td>\n",
       "      <td>free</td>\n",
       "      <td>846.932642</td>\n",
       "      <td>16.234663</td>\n",
       "      <td>2021-02-01</td>\n",
       "      <td>2</td>\n",
       "      <td>8</td>\n",
       "      <td>50</td>\n",
       "      <td>0</td>\n",
       "    </tr>\n",
       "    <tr>\n",
       "      <th>6502</th>\n",
       "      <td>700</td>\n",
       "      <td>Айдар</td>\n",
       "      <td>22</td>\n",
       "      <td>Омск</td>\n",
       "      <td>free</td>\n",
       "      <td>4004.434142</td>\n",
       "      <td>20.016628</td>\n",
       "      <td>2021-02-04</td>\n",
       "      <td>2</td>\n",
       "      <td>8</td>\n",
       "      <td>50</td>\n",
       "      <td>0</td>\n",
       "    </tr>\n",
       "    <tr>\n",
       "      <th>6503</th>\n",
       "      <td>700</td>\n",
       "      <td>Айдар</td>\n",
       "      <td>22</td>\n",
       "      <td>Омск</td>\n",
       "      <td>free</td>\n",
       "      <td>1205.911290</td>\n",
       "      <td>9.782872</td>\n",
       "      <td>2021-02-10</td>\n",
       "      <td>2</td>\n",
       "      <td>8</td>\n",
       "      <td>50</td>\n",
       "      <td>0</td>\n",
       "    </tr>\n",
       "    <tr>\n",
       "      <th>6504</th>\n",
       "      <td>700</td>\n",
       "      <td>Айдар</td>\n",
       "      <td>22</td>\n",
       "      <td>Омск</td>\n",
       "      <td>free</td>\n",
       "      <td>3047.379435</td>\n",
       "      <td>17.427673</td>\n",
       "      <td>2021-02-14</td>\n",
       "      <td>2</td>\n",
       "      <td>8</td>\n",
       "      <td>50</td>\n",
       "      <td>0</td>\n",
       "    </tr>\n",
       "    <tr>\n",
       "      <th>...</th>\n",
       "      <td>...</td>\n",
       "      <td>...</td>\n",
       "      <td>...</td>\n",
       "      <td>...</td>\n",
       "      <td>...</td>\n",
       "      <td>...</td>\n",
       "      <td>...</td>\n",
       "      <td>...</td>\n",
       "      <td>...</td>\n",
       "      <td>...</td>\n",
       "      <td>...</td>\n",
       "      <td>...</td>\n",
       "    </tr>\n",
       "    <tr>\n",
       "      <th>18063</th>\n",
       "      <td>1534</td>\n",
       "      <td>Альберт</td>\n",
       "      <td>25</td>\n",
       "      <td>Краснодар</td>\n",
       "      <td>free</td>\n",
       "      <td>3781.098080</td>\n",
       "      <td>19.822962</td>\n",
       "      <td>2021-11-04</td>\n",
       "      <td>11</td>\n",
       "      <td>8</td>\n",
       "      <td>50</td>\n",
       "      <td>0</td>\n",
       "    </tr>\n",
       "    <tr>\n",
       "      <th>18064</th>\n",
       "      <td>1534</td>\n",
       "      <td>Альберт</td>\n",
       "      <td>25</td>\n",
       "      <td>Краснодар</td>\n",
       "      <td>free</td>\n",
       "      <td>2840.423057</td>\n",
       "      <td>21.409799</td>\n",
       "      <td>2021-11-16</td>\n",
       "      <td>11</td>\n",
       "      <td>8</td>\n",
       "      <td>50</td>\n",
       "      <td>0</td>\n",
       "    </tr>\n",
       "    <tr>\n",
       "      <th>18065</th>\n",
       "      <td>1534</td>\n",
       "      <td>Альберт</td>\n",
       "      <td>25</td>\n",
       "      <td>Краснодар</td>\n",
       "      <td>free</td>\n",
       "      <td>3826.185507</td>\n",
       "      <td>18.435051</td>\n",
       "      <td>2021-11-18</td>\n",
       "      <td>11</td>\n",
       "      <td>8</td>\n",
       "      <td>50</td>\n",
       "      <td>0</td>\n",
       "    </tr>\n",
       "    <tr>\n",
       "      <th>18066</th>\n",
       "      <td>1534</td>\n",
       "      <td>Альберт</td>\n",
       "      <td>25</td>\n",
       "      <td>Краснодар</td>\n",
       "      <td>free</td>\n",
       "      <td>2902.308661</td>\n",
       "      <td>16.674362</td>\n",
       "      <td>2021-11-27</td>\n",
       "      <td>11</td>\n",
       "      <td>8</td>\n",
       "      <td>50</td>\n",
       "      <td>0</td>\n",
       "    </tr>\n",
       "    <tr>\n",
       "      <th>18067</th>\n",
       "      <td>1534</td>\n",
       "      <td>Альберт</td>\n",
       "      <td>25</td>\n",
       "      <td>Краснодар</td>\n",
       "      <td>free</td>\n",
       "      <td>2371.711192</td>\n",
       "      <td>15.893917</td>\n",
       "      <td>2021-12-29</td>\n",
       "      <td>12</td>\n",
       "      <td>8</td>\n",
       "      <td>50</td>\n",
       "      <td>0</td>\n",
       "    </tr>\n",
       "  </tbody>\n",
       "</table>\n",
       "<p>11568 rows × 12 columns</p>\n",
       "</div>"
      ],
      "text/plain": [
       "       user_id     name  age       city subscription_type     distance  \\\n",
       "6500       700    Айдар   22       Омск              free  2515.690719   \n",
       "6501       700    Айдар   22       Омск              free   846.932642   \n",
       "6502       700    Айдар   22       Омск              free  4004.434142   \n",
       "6503       700    Айдар   22       Омск              free  1205.911290   \n",
       "6504       700    Айдар   22       Омск              free  3047.379435   \n",
       "...        ...      ...  ...        ...               ...          ...   \n",
       "18063     1534  Альберт   25  Краснодар              free  3781.098080   \n",
       "18064     1534  Альберт   25  Краснодар              free  2840.423057   \n",
       "18065     1534  Альберт   25  Краснодар              free  3826.185507   \n",
       "18066     1534  Альберт   25  Краснодар              free  2902.308661   \n",
       "18067     1534  Альберт   25  Краснодар              free  2371.711192   \n",
       "\n",
       "        duration       date  month  minute_price  start_ride_price  \\\n",
       "6500   14.944286 2021-01-02      1             8                50   \n",
       "6501   16.234663 2021-02-01      2             8                50   \n",
       "6502   20.016628 2021-02-04      2             8                50   \n",
       "6503    9.782872 2021-02-10      2             8                50   \n",
       "6504   17.427673 2021-02-14      2             8                50   \n",
       "...          ...        ...    ...           ...               ...   \n",
       "18063  19.822962 2021-11-04     11             8                50   \n",
       "18064  21.409799 2021-11-16     11             8                50   \n",
       "18065  18.435051 2021-11-18     11             8                50   \n",
       "18066  16.674362 2021-11-27     11             8                50   \n",
       "18067  15.893917 2021-12-29     12             8                50   \n",
       "\n",
       "       subscription_fee  \n",
       "6500                  0  \n",
       "6501                  0  \n",
       "6502                  0  \n",
       "6503                  0  \n",
       "6504                  0  \n",
       "...                 ...  \n",
       "18063                 0  \n",
       "18064                 0  \n",
       "18065                 0  \n",
       "18066                 0  \n",
       "18067                 0  \n",
       "\n",
       "[11568 rows x 12 columns]"
      ]
     },
     "execution_count": 60,
     "metadata": {},
     "output_type": "execute_result"
    }
   ],
   "source": [
    "free_subscription_data"
   ]
  },
  {
   "cell_type": "markdown",
   "id": "1f03f8f2",
   "metadata": {},
   "source": [
    "Создадим датафрейм с данными о пользователях с подпиской."
   ]
  },
  {
   "cell_type": "code",
   "execution_count": 61,
   "id": "be4e7cfc",
   "metadata": {},
   "outputs": [],
   "source": [
    "ultra_subscription_data = itog_data.query(\"subscription_type == 'ultra'\")"
   ]
  },
  {
   "cell_type": "code",
   "execution_count": 62,
   "id": "424ecbc0",
   "metadata": {},
   "outputs": [
    {
     "data": {
      "text/html": [
       "<div>\n",
       "<style scoped>\n",
       "    .dataframe tbody tr th:only-of-type {\n",
       "        vertical-align: middle;\n",
       "    }\n",
       "\n",
       "    .dataframe tbody tr th {\n",
       "        vertical-align: top;\n",
       "    }\n",
       "\n",
       "    .dataframe thead th {\n",
       "        text-align: right;\n",
       "    }\n",
       "</style>\n",
       "<table border=\"1\" class=\"dataframe\">\n",
       "  <thead>\n",
       "    <tr style=\"text-align: right;\">\n",
       "      <th></th>\n",
       "      <th>user_id</th>\n",
       "      <th>name</th>\n",
       "      <th>age</th>\n",
       "      <th>city</th>\n",
       "      <th>subscription_type</th>\n",
       "      <th>distance</th>\n",
       "      <th>duration</th>\n",
       "      <th>date</th>\n",
       "      <th>month</th>\n",
       "      <th>minute_price</th>\n",
       "      <th>start_ride_price</th>\n",
       "      <th>subscription_fee</th>\n",
       "    </tr>\n",
       "  </thead>\n",
       "  <tbody>\n",
       "    <tr>\n",
       "      <th>0</th>\n",
       "      <td>1</td>\n",
       "      <td>Кира</td>\n",
       "      <td>22</td>\n",
       "      <td>Тюмень</td>\n",
       "      <td>ultra</td>\n",
       "      <td>4409.919140</td>\n",
       "      <td>25.599769</td>\n",
       "      <td>2021-01-01</td>\n",
       "      <td>1</td>\n",
       "      <td>6</td>\n",
       "      <td>0</td>\n",
       "      <td>199</td>\n",
       "    </tr>\n",
       "    <tr>\n",
       "      <th>1</th>\n",
       "      <td>1</td>\n",
       "      <td>Кира</td>\n",
       "      <td>22</td>\n",
       "      <td>Тюмень</td>\n",
       "      <td>ultra</td>\n",
       "      <td>2617.592153</td>\n",
       "      <td>15.816871</td>\n",
       "      <td>2021-01-18</td>\n",
       "      <td>1</td>\n",
       "      <td>6</td>\n",
       "      <td>0</td>\n",
       "      <td>199</td>\n",
       "    </tr>\n",
       "    <tr>\n",
       "      <th>2</th>\n",
       "      <td>1</td>\n",
       "      <td>Кира</td>\n",
       "      <td>22</td>\n",
       "      <td>Тюмень</td>\n",
       "      <td>ultra</td>\n",
       "      <td>754.159807</td>\n",
       "      <td>6.232113</td>\n",
       "      <td>2021-04-20</td>\n",
       "      <td>4</td>\n",
       "      <td>6</td>\n",
       "      <td>0</td>\n",
       "      <td>199</td>\n",
       "    </tr>\n",
       "    <tr>\n",
       "      <th>3</th>\n",
       "      <td>1</td>\n",
       "      <td>Кира</td>\n",
       "      <td>22</td>\n",
       "      <td>Тюмень</td>\n",
       "      <td>ultra</td>\n",
       "      <td>2694.783254</td>\n",
       "      <td>18.511000</td>\n",
       "      <td>2021-08-11</td>\n",
       "      <td>8</td>\n",
       "      <td>6</td>\n",
       "      <td>0</td>\n",
       "      <td>199</td>\n",
       "    </tr>\n",
       "    <tr>\n",
       "      <th>4</th>\n",
       "      <td>1</td>\n",
       "      <td>Кира</td>\n",
       "      <td>22</td>\n",
       "      <td>Тюмень</td>\n",
       "      <td>ultra</td>\n",
       "      <td>4028.687306</td>\n",
       "      <td>26.265803</td>\n",
       "      <td>2021-08-28</td>\n",
       "      <td>8</td>\n",
       "      <td>6</td>\n",
       "      <td>0</td>\n",
       "      <td>199</td>\n",
       "    </tr>\n",
       "    <tr>\n",
       "      <th>...</th>\n",
       "      <td>...</td>\n",
       "      <td>...</td>\n",
       "      <td>...</td>\n",
       "      <td>...</td>\n",
       "      <td>...</td>\n",
       "      <td>...</td>\n",
       "      <td>...</td>\n",
       "      <td>...</td>\n",
       "      <td>...</td>\n",
       "      <td>...</td>\n",
       "      <td>...</td>\n",
       "      <td>...</td>\n",
       "    </tr>\n",
       "    <tr>\n",
       "      <th>6495</th>\n",
       "      <td>699</td>\n",
       "      <td>Оксана</td>\n",
       "      <td>22</td>\n",
       "      <td>Москва</td>\n",
       "      <td>ultra</td>\n",
       "      <td>3973.046497</td>\n",
       "      <td>24.671163</td>\n",
       "      <td>2021-08-29</td>\n",
       "      <td>8</td>\n",
       "      <td>6</td>\n",
       "      <td>0</td>\n",
       "      <td>199</td>\n",
       "    </tr>\n",
       "    <tr>\n",
       "      <th>6496</th>\n",
       "      <td>699</td>\n",
       "      <td>Оксана</td>\n",
       "      <td>22</td>\n",
       "      <td>Москва</td>\n",
       "      <td>ultra</td>\n",
       "      <td>3288.702563</td>\n",
       "      <td>15.892886</td>\n",
       "      <td>2021-09-12</td>\n",
       "      <td>9</td>\n",
       "      <td>6</td>\n",
       "      <td>0</td>\n",
       "      <td>199</td>\n",
       "    </tr>\n",
       "    <tr>\n",
       "      <th>6497</th>\n",
       "      <td>699</td>\n",
       "      <td>Оксана</td>\n",
       "      <td>22</td>\n",
       "      <td>Москва</td>\n",
       "      <td>ultra</td>\n",
       "      <td>3076.159348</td>\n",
       "      <td>14.389525</td>\n",
       "      <td>2021-09-26</td>\n",
       "      <td>9</td>\n",
       "      <td>6</td>\n",
       "      <td>0</td>\n",
       "      <td>199</td>\n",
       "    </tr>\n",
       "    <tr>\n",
       "      <th>6498</th>\n",
       "      <td>699</td>\n",
       "      <td>Оксана</td>\n",
       "      <td>22</td>\n",
       "      <td>Москва</td>\n",
       "      <td>ultra</td>\n",
       "      <td>4707.845501</td>\n",
       "      <td>15.839579</td>\n",
       "      <td>2021-10-17</td>\n",
       "      <td>10</td>\n",
       "      <td>6</td>\n",
       "      <td>0</td>\n",
       "      <td>199</td>\n",
       "    </tr>\n",
       "    <tr>\n",
       "      <th>6499</th>\n",
       "      <td>699</td>\n",
       "      <td>Оксана</td>\n",
       "      <td>22</td>\n",
       "      <td>Москва</td>\n",
       "      <td>ultra</td>\n",
       "      <td>3202.890770</td>\n",
       "      <td>25.217345</td>\n",
       "      <td>2021-12-03</td>\n",
       "      <td>12</td>\n",
       "      <td>6</td>\n",
       "      <td>0</td>\n",
       "      <td>199</td>\n",
       "    </tr>\n",
       "  </tbody>\n",
       "</table>\n",
       "<p>6500 rows × 12 columns</p>\n",
       "</div>"
      ],
      "text/plain": [
       "      user_id    name  age    city subscription_type     distance   duration  \\\n",
       "0           1    Кира   22  Тюмень             ultra  4409.919140  25.599769   \n",
       "1           1    Кира   22  Тюмень             ultra  2617.592153  15.816871   \n",
       "2           1    Кира   22  Тюмень             ultra   754.159807   6.232113   \n",
       "3           1    Кира   22  Тюмень             ultra  2694.783254  18.511000   \n",
       "4           1    Кира   22  Тюмень             ultra  4028.687306  26.265803   \n",
       "...       ...     ...  ...     ...               ...          ...        ...   \n",
       "6495      699  Оксана   22  Москва             ultra  3973.046497  24.671163   \n",
       "6496      699  Оксана   22  Москва             ultra  3288.702563  15.892886   \n",
       "6497      699  Оксана   22  Москва             ultra  3076.159348  14.389525   \n",
       "6498      699  Оксана   22  Москва             ultra  4707.845501  15.839579   \n",
       "6499      699  Оксана   22  Москва             ultra  3202.890770  25.217345   \n",
       "\n",
       "           date  month  minute_price  start_ride_price  subscription_fee  \n",
       "0    2021-01-01      1             6                 0               199  \n",
       "1    2021-01-18      1             6                 0               199  \n",
       "2    2021-04-20      4             6                 0               199  \n",
       "3    2021-08-11      8             6                 0               199  \n",
       "4    2021-08-28      8             6                 0               199  \n",
       "...         ...    ...           ...               ...               ...  \n",
       "6495 2021-08-29      8             6                 0               199  \n",
       "6496 2021-09-12      9             6                 0               199  \n",
       "6497 2021-09-26      9             6                 0               199  \n",
       "6498 2021-10-17     10             6                 0               199  \n",
       "6499 2021-12-03     12             6                 0               199  \n",
       "\n",
       "[6500 rows x 12 columns]"
      ]
     },
     "execution_count": 62,
     "metadata": {},
     "output_type": "execute_result"
    }
   ],
   "source": [
    "ultra_subscription_data"
   ]
  },
  {
   "cell_type": "markdown",
   "id": "a35cbdb1",
   "metadata": {},
   "source": [
    "4.3 Визуализируйте информацию о расстоянии и времени поездок для пользователей обеих категорий."
   ]
  },
  {
   "cell_type": "markdown",
   "id": "70f5e0ba",
   "metadata": {},
   "source": [
    "Визуализируем информацию о расстоянии на бесплатном тарифе"
   ]
  },
  {
   "cell_type": "code",
   "execution_count": 63,
   "id": "eaec1acd",
   "metadata": {},
   "outputs": [
    {
     "data": {
      "image/png": "[encoded data removed]",
      "text/plain": [
       "<Figure size 720x720 with 1 Axes>"
      ]
     },
     "metadata": {
      "needs_background": "light"
     },
     "output_type": "display_data"
    }
   ],
   "source": [
    "free_subscription_data['distance'].plot(kind='hist', title ='бесплатный тариф', bins=30, grid=True, figsize=(10,10))\n",
    "plt.xlabel('Расстояние')\n",
    "plt.ylabel('Количество поездок')\n",
    "\n",
    "plt.show()"
   ]
  },
  {
   "cell_type": "markdown",
   "id": "c72ac96e",
   "metadata": {},
   "source": [
    "В основном пользователи без подписки проезжают расстояние от 2000 до 4000 м. На гистограмме можно увидить 2 пика, один небольшой на расстоянии 500 метров и другой 2500 метров. Первый пик можно отнести к пробным заездам, второй пик можно отнести к наиболее частым поездкам."
   ]
  },
  {
   "cell_type": "markdown",
   "id": "d289d99c",
   "metadata": {},
   "source": [
    "Визуализируем информацию о времени на бесплатном тарифе"
   ]
  },
  {
   "cell_type": "code",
   "execution_count": 64,
   "id": "b99083a1",
   "metadata": {},
   "outputs": [
    {
     "data": {
      "image/png": "[encoded data removed]",
      "text/plain": [
       "<Figure size 720x720 with 1 Axes>"
      ]
     },
     "metadata": {
      "needs_background": "light"
     },
     "output_type": "display_data"
    }
   ],
   "source": [
    "free_subscription_data['duration'].plot(kind='hist', title ='бесплатный тариф', bins=30, grid=True, figsize=(10,10))\n",
    "plt.xlabel('время, в минутах')\n",
    "plt.ylabel('Количество поездок')\n",
    "\n",
    "plt.show()"
   ]
  },
  {
   "cell_type": "markdown",
   "id": "1b2de79c",
   "metadata": {},
   "source": [
    "В основном время поездки у пользователей не имеющих подписку занимает 10-30 минут. Есть незначительный пик около 0, его можно засчитать за пробные поезки, так как на графике расстояния так же есть пик близкий к 0."
   ]
  },
  {
   "cell_type": "markdown",
   "id": "67bcc035",
   "metadata": {},
   "source": [
    "Визуализируем информацию о расстоянии на платном тарифе"
   ]
  },
  {
   "cell_type": "code",
   "execution_count": 65,
   "id": "c47835f5",
   "metadata": {},
   "outputs": [
    {
     "data": {
      "image/png": "[encoded data removed]",
      "text/plain": [
       "<Figure size 720x720 with 1 Axes>"
      ]
     },
     "metadata": {
      "needs_background": "light"
     },
     "output_type": "display_data"
    }
   ],
   "source": [
    "ultra_subscription_data['distance'].plot(kind='hist', title ='платный тариф', bins=30, grid=True, figsize=(10,10))\n",
    "plt.xlabel('Расстояние')\n",
    "plt.ylabel('Количество поездок')\n",
    "\n",
    "plt.show()"
   ]
  },
  {
   "cell_type": "markdown",
   "id": "35a7ca35",
   "metadata": {},
   "source": [
    "Чаще всего пользователи с подпиской проезжают 2500 - 4000 м. Пик расстояния приходится на 3км."
   ]
  },
  {
   "cell_type": "code",
   "execution_count": 66,
   "id": "f216eb08",
   "metadata": {},
   "outputs": [
    {
     "data": {
      "image/png": "[encoded data removed]",
      "text/plain": [
       "<Figure size 720x720 with 1 Axes>"
      ]
     },
     "metadata": {
      "needs_background": "light"
     },
     "output_type": "display_data"
    }
   ],
   "source": [
    "ultra_subscription_data['duration'].plot(kind='hist', title ='платный тариф', bins=30, grid=True, figsize=(10,10))\n",
    "plt.xlabel('время, в минутах')\n",
    "plt.ylabel('Количество поездок')\n",
    "\n",
    "plt.show()"
   ]
  },
  {
   "cell_type": "markdown",
   "id": "58f80fba",
   "metadata": {},
   "source": [
    "В основном время поездки у пользователей укладывается в промежуток от 10 до 25 минут. "
   ]
  },
  {
   "cell_type": "markdown",
   "id": "3f334ce9",
   "metadata": {},
   "source": [
    "Обьеденим группы для наглядности о расстоянии и о времени"
   ]
  },
  {
   "cell_type": "code",
   "execution_count": 67,
   "id": "98e71fcd",
   "metadata": {},
   "outputs": [
    {
     "data": {
      "text/plain": [
       "Text(0, 0.5, 'Количество поездок')"
      ]
     },
     "execution_count": 67,
     "metadata": {},
     "output_type": "execute_result"
    },
    {
     "data": {
      "image/png": "[encoded data removed]",
      "text/plain": [
       "<Figure size 720x720 with 1 Axes>"
      ]
     },
     "metadata": {
      "needs_background": "light"
     },
     "output_type": "display_data"
    }
   ],
   "source": [
    "free_subscription_data['distance'].plot(kind='hist', title ='тарифы', bins=30, grid=True, figsize=(10,10))\n",
    "plt.xlabel('Расстояние')\n",
    "plt.ylabel('Количество поездок')\n",
    "plt.legend(['бесплатный тариф', 'платный тариф'])\n",
    "\n",
    "ultra_subscription_data['distance'].plot(kind='hist', title ='тарифы', bins=30, grid=True, figsize=(10,10))\n",
    "plt.xlabel('Расстояние')\n",
    "plt.ylabel('Количество поездок')"
   ]
  },
  {
   "cell_type": "code",
   "execution_count": 68,
   "id": "0d4a5c13",
   "metadata": {},
   "outputs": [
    {
     "data": {
      "text/plain": [
       "Text(0, 0.5, 'Количество поездок')"
      ]
     },
     "execution_count": 68,
     "metadata": {},
     "output_type": "execute_result"
    },
    {
     "data": {
      "image/png": "[encoded data removed]",
      "text/plain": [
       "<Figure size 720x720 with 1 Axes>"
      ]
     },
     "metadata": {
      "needs_background": "light"
     },
     "output_type": "display_data"
    }
   ],
   "source": [
    "free_subscription_data['duration'].plot(kind='hist', title ='тарифы', bins=30, grid=True, figsize=(10,10))\n",
    "plt.xlabel('время, в минутах')\n",
    "plt.ylabel('Количество поездок')\n",
    "plt.legend(['бесплатный тариф', 'платный тариф'])\n",
    "\n",
    "ultra_subscription_data['duration'].plot(kind='hist', title ='тарифы', bins=30, grid=True, figsize=(10,10))\n",
    "plt.xlabel('время, в минутах')\n",
    "plt.ylabel('Количество поездок')"
   ]
  },
  {
   "cell_type": "code",
   "execution_count": 69,
   "id": "65d12fa9",
   "metadata": {},
   "outputs": [
    {
     "name": "stdout",
     "output_type": "stream",
     "text": [
      "данные о растоянии беслпатного тарифа: count    11568.000000\n",
      "mean      3045.495282\n",
      "std       1246.173806\n",
      "min          0.855683\n",
      "25%       2366.562689\n",
      "50%       3114.648465\n",
      "75%       3905.697894\n",
      "max       7211.007745\n",
      "Name: distance, dtype: float64\n"
     ]
    }
   ],
   "source": [
    "print('данные о растоянии беслпатного тарифа:', free_subscription_data['distance'].describe())"
   ]
  },
  {
   "cell_type": "code",
   "execution_count": 70,
   "id": "ff12dab6",
   "metadata": {},
   "outputs": [
    {
     "name": "stdout",
     "output_type": "stream",
     "text": [
      "данные о времени беслпатного тарифа: count    11568.000000\n",
      "mean        17.390909\n",
      "std          6.326803\n",
      "min          0.500000\n",
      "25%         12.958437\n",
      "50%         17.326890\n",
      "75%         21.594071\n",
      "max         34.948498\n",
      "Name: duration, dtype: float64\n"
     ]
    }
   ],
   "source": [
    "print('данные о времени беслпатного тарифа:', free_subscription_data['duration'].describe())"
   ]
  },
  {
   "cell_type": "code",
   "execution_count": 71,
   "id": "0e2fc243",
   "metadata": {},
   "outputs": [
    {
     "name": "stdout",
     "output_type": "stream",
     "text": [
      "данные о растоянии платного тарифа: count    6500.000000\n",
      "mean     3115.445388\n",
      "std       836.895330\n",
      "min       244.210438\n",
      "25%      2785.444017\n",
      "50%      3148.637229\n",
      "75%      3560.574425\n",
      "max      5699.769662\n",
      "Name: distance, dtype: float64\n"
     ]
    }
   ],
   "source": [
    "print('данные о растоянии платного тарифа:', ultra_subscription_data['distance'].describe())"
   ]
  },
  {
   "cell_type": "code",
   "execution_count": 72,
   "id": "0e3666a4",
   "metadata": {},
   "outputs": [
    {
     "name": "stdout",
     "output_type": "stream",
     "text": [
      "данные о времени платного тарифа: count    6500.000000\n",
      "mean       18.541985\n",
      "std         5.572048\n",
      "min         3.760353\n",
      "25%        14.524654\n",
      "50%        18.178153\n",
      "75%        21.884129\n",
      "max        40.823963\n",
      "Name: duration, dtype: float64\n"
     ]
    }
   ],
   "source": [
    "print('данные о времени платного тарифа:', ultra_subscription_data['duration'].describe())"
   ]
  },
  {
   "cell_type": "markdown",
   "id": "f46db76b",
   "metadata": {},
   "source": [
    "Объединили данные о пользователях, поездках и подписках в один датафрейм. На основе объединенного датафрейма создали еще 2 датафрейма: Для пользователей с ultra подпиской и free подпиской\n",
    "В основном пользователи без подписки проезжают расстояние от 2366 до 3905 м, Так же наблюдается 2 пика, один небольшой на расстоянии 500 метров и другой 2500 метров. Первый пик можно отнести к пробным заездам, второй пик можно отнести к наиболее частым поездкам. Время поездки занимает в среднем 12-21 минут. \n",
    "Пользователи с подпиской чаще всего проезжают 2785 - 3560 м. Пик расстояния приходится на 3км. Время поездки занимает в среднем 14-21 минут.\n",
    "Так как численность пользователей без подписка больше, то диапозон расстояния в среднем шире, от 2366 до 3905 м, однако пользователи с платной подпиской минимальные поездки совершают на более дальние поздки дальше."
   ]
  },
  {
   "cell_type": "markdown",
   "id": "401db288",
   "metadata": {},
   "source": [
    "#### Шаг 5. Подсчёт выручки"
   ]
  },
  {
   "cell_type": "markdown",
   "id": "58cd9783",
   "metadata": {},
   "source": [
    "5.1 Создайте датафрейм с агрегированными данными о поездках на основе датафрейма с объединёнными данными из шага 4: найдите суммарное расстояние, количество поездок и суммарное время для каждого пользователя за каждый месяц."
   ]
  },
  {
   "cell_type": "markdown",
   "id": "6fb35502",
   "metadata": {},
   "source": [
    "5.2 В этот же датафрейм добавьте столбец с помесячной выручкой, которую принёс каждый пользователь. Для этого обратитесь к информации об условиях оплаты для подписчиков и тех, у кого нет подписки. Продолжительность каждой поездки в каждой строке исходного датафрейма для подсчёта стоимости округляется до следующего целого числа: например, значения \n",
    "25.3\n",
    "25.3, \n",
    "25.5\n",
    "25.5 и \n",
    "26.0\n",
    "26.0 должны быть преобразованы к \n",
    "26\n",
    "26."
   ]
  },
  {
   "cell_type": "markdown",
   "id": "9f63ef6c",
   "metadata": {},
   "source": [
    "Создим датафрейм с агрегированными данными о поездках на основе датафрейма с объединёнными данными. Найдите суммарное расстояние, количество поездок и суммарное время для каждого пользователя за каждый месяц."
   ]
  },
  {
   "cell_type": "code",
   "execution_count": 73,
   "id": "8cd95f74",
   "metadata": {},
   "outputs": [],
   "source": [
    "itog_data['duration'] = np.ceil(itog_data['duration'])"
   ]
  },
  {
   "cell_type": "code",
   "execution_count": 74,
   "id": "28d899a1",
   "metadata": {},
   "outputs": [],
   "source": [
    "new_data = pd.pivot_table(itog_data, index=['month', 'user_id'], values = ['distance', 'duration', 'name', 'subscription_type'], aggfunc = {'distance': sum, 'duration' : sum, 'name' : len, 'subscription_type' : min})"
   ]
  },
  {
   "cell_type": "code",
   "execution_count": 75,
   "id": "6669f74b",
   "metadata": {},
   "outputs": [],
   "source": [
    "new_data.rename(columns = {'name' : 'name_count'}, inplace = True)"
   ]
  },
  {
   "cell_type": "code",
   "execution_count": 76,
   "id": "46c3fdf2",
   "metadata": {},
   "outputs": [
    {
     "data": {
      "text/html": [
       "<div>\n",
       "<style scoped>\n",
       "    .dataframe tbody tr th:only-of-type {\n",
       "        vertical-align: middle;\n",
       "    }\n",
       "\n",
       "    .dataframe tbody tr th {\n",
       "        vertical-align: top;\n",
       "    }\n",
       "\n",
       "    .dataframe thead th {\n",
       "        text-align: right;\n",
       "    }\n",
       "</style>\n",
       "<table border=\"1\" class=\"dataframe\">\n",
       "  <thead>\n",
       "    <tr style=\"text-align: right;\">\n",
       "      <th></th>\n",
       "      <th></th>\n",
       "      <th>distance</th>\n",
       "      <th>duration</th>\n",
       "      <th>name_count</th>\n",
       "      <th>subscription_type</th>\n",
       "    </tr>\n",
       "    <tr>\n",
       "      <th>month</th>\n",
       "      <th>user_id</th>\n",
       "      <th></th>\n",
       "      <th></th>\n",
       "      <th></th>\n",
       "      <th></th>\n",
       "    </tr>\n",
       "  </thead>\n",
       "  <tbody>\n",
       "    <tr>\n",
       "      <th rowspan=\"10\" valign=\"top\">1</th>\n",
       "      <th>1</th>\n",
       "      <td>7027.511294</td>\n",
       "      <td>42.0</td>\n",
       "      <td>2</td>\n",
       "      <td>ultra</td>\n",
       "    </tr>\n",
       "    <tr>\n",
       "      <th>1061</th>\n",
       "      <td>12637.249630</td>\n",
       "      <td>43.0</td>\n",
       "      <td>3</td>\n",
       "      <td>free</td>\n",
       "    </tr>\n",
       "    <tr>\n",
       "      <th>1063</th>\n",
       "      <td>3276.362299</td>\n",
       "      <td>10.0</td>\n",
       "      <td>1</td>\n",
       "      <td>free</td>\n",
       "    </tr>\n",
       "    <tr>\n",
       "      <th>1064</th>\n",
       "      <td>5297.324649</td>\n",
       "      <td>15.0</td>\n",
       "      <td>1</td>\n",
       "      <td>free</td>\n",
       "    </tr>\n",
       "    <tr>\n",
       "      <th>1065</th>\n",
       "      <td>14547.099333</td>\n",
       "      <td>99.0</td>\n",
       "      <td>4</td>\n",
       "      <td>free</td>\n",
       "    </tr>\n",
       "    <tr>\n",
       "      <th>1066</th>\n",
       "      <td>2809.064949</td>\n",
       "      <td>19.0</td>\n",
       "      <td>1</td>\n",
       "      <td>free</td>\n",
       "    </tr>\n",
       "    <tr>\n",
       "      <th>1067</th>\n",
       "      <td>3864.900780</td>\n",
       "      <td>22.0</td>\n",
       "      <td>1</td>\n",
       "      <td>free</td>\n",
       "    </tr>\n",
       "    <tr>\n",
       "      <th>1069</th>\n",
       "      <td>7007.076943</td>\n",
       "      <td>53.0</td>\n",
       "      <td>3</td>\n",
       "      <td>free</td>\n",
       "    </tr>\n",
       "    <tr>\n",
       "      <th>1071</th>\n",
       "      <td>3635.094136</td>\n",
       "      <td>15.0</td>\n",
       "      <td>1</td>\n",
       "      <td>free</td>\n",
       "    </tr>\n",
       "    <tr>\n",
       "      <th>1072</th>\n",
       "      <td>2498.615999</td>\n",
       "      <td>11.0</td>\n",
       "      <td>1</td>\n",
       "      <td>free</td>\n",
       "    </tr>\n",
       "  </tbody>\n",
       "</table>\n",
       "</div>"
      ],
      "text/plain": [
       "                   distance  duration  name_count subscription_type\n",
       "month user_id                                                      \n",
       "1     1         7027.511294      42.0           2             ultra\n",
       "      1061     12637.249630      43.0           3              free\n",
       "      1063      3276.362299      10.0           1              free\n",
       "      1064      5297.324649      15.0           1              free\n",
       "      1065     14547.099333      99.0           4              free\n",
       "      1066      2809.064949      19.0           1              free\n",
       "      1067      3864.900780      22.0           1              free\n",
       "      1069      7007.076943      53.0           3              free\n",
       "      1071      3635.094136      15.0           1              free\n",
       "      1072      2498.615999      11.0           1              free"
      ]
     },
     "execution_count": 76,
     "metadata": {},
     "output_type": "execute_result"
    }
   ],
   "source": [
    "new_data.sort_values(by='month').head(10)"
   ]
  },
  {
   "cell_type": "markdown",
   "id": "6506f005",
   "metadata": {},
   "source": [
    "Добавим столбец с помесячной выручкой"
   ]
  },
  {
   "cell_type": "code",
   "execution_count": 77,
   "id": "d0999863",
   "metadata": {},
   "outputs": [],
   "source": [
    "def ii(bb):\n",
    "    if bb['subscription_type'] == 'ultra':\n",
    "        return 6 * bb['duration'] + 199\n",
    "    elif bb['subscription_type'] == 'free':\n",
    "        return 50 * bb['name_count'] + 8 * bb['duration']"
   ]
  },
  {
   "cell_type": "code",
   "execution_count": 78,
   "id": "f6bf6a30",
   "metadata": {},
   "outputs": [],
   "source": [
    "new_data['revenue_name'] = new_data.apply(ii, axis=1)"
   ]
  },
  {
   "cell_type": "code",
   "execution_count": 79,
   "id": "af3d6d26",
   "metadata": {},
   "outputs": [
    {
     "data": {
      "text/plain": [
       "month  user_id\n",
       "1      1          451.0\n",
       "       3          277.0\n",
       "       5          277.0\n",
       "       7          367.0\n",
       "       12         397.0\n",
       "       13         451.0\n",
       "       14         409.0\n",
       "       15         433.0\n",
       "       20         373.0\n",
       "       22         277.0\n",
       "Name: revenue_name, dtype: float64"
      ]
     },
     "execution_count": 79,
     "metadata": {},
     "output_type": "execute_result"
    }
   ],
   "source": [
    "new_data['revenue_name'].head(10)"
   ]
  },
  {
   "cell_type": "code",
   "execution_count": 80,
   "id": "5393b954",
   "metadata": {},
   "outputs": [
    {
     "data": {
      "text/html": [
       "<div>\n",
       "<style scoped>\n",
       "    .dataframe tbody tr th:only-of-type {\n",
       "        vertical-align: middle;\n",
       "    }\n",
       "\n",
       "    .dataframe tbody tr th {\n",
       "        vertical-align: top;\n",
       "    }\n",
       "\n",
       "    .dataframe thead th {\n",
       "        text-align: right;\n",
       "    }\n",
       "</style>\n",
       "<table border=\"1\" class=\"dataframe\">\n",
       "  <thead>\n",
       "    <tr style=\"text-align: right;\">\n",
       "      <th></th>\n",
       "      <th></th>\n",
       "      <th>distance</th>\n",
       "      <th>duration</th>\n",
       "      <th>name_count</th>\n",
       "      <th>subscription_type</th>\n",
       "      <th>revenue_name</th>\n",
       "    </tr>\n",
       "    <tr>\n",
       "      <th>month</th>\n",
       "      <th>user_id</th>\n",
       "      <th></th>\n",
       "      <th></th>\n",
       "      <th></th>\n",
       "      <th></th>\n",
       "      <th></th>\n",
       "    </tr>\n",
       "  </thead>\n",
       "  <tbody>\n",
       "    <tr>\n",
       "      <th rowspan=\"10\" valign=\"top\">1</th>\n",
       "      <th>1</th>\n",
       "      <td>7027.511294</td>\n",
       "      <td>42.0</td>\n",
       "      <td>2</td>\n",
       "      <td>ultra</td>\n",
       "      <td>451.0</td>\n",
       "    </tr>\n",
       "    <tr>\n",
       "      <th>3</th>\n",
       "      <td>3061.777147</td>\n",
       "      <td>13.0</td>\n",
       "      <td>1</td>\n",
       "      <td>ultra</td>\n",
       "      <td>277.0</td>\n",
       "    </tr>\n",
       "    <tr>\n",
       "      <th>5</th>\n",
       "      <td>3914.646990</td>\n",
       "      <td>13.0</td>\n",
       "      <td>1</td>\n",
       "      <td>ultra</td>\n",
       "      <td>277.0</td>\n",
       "    </tr>\n",
       "    <tr>\n",
       "      <th>7</th>\n",
       "      <td>6478.080979</td>\n",
       "      <td>28.0</td>\n",
       "      <td>2</td>\n",
       "      <td>ultra</td>\n",
       "      <td>367.0</td>\n",
       "    </tr>\n",
       "    <tr>\n",
       "      <th>12</th>\n",
       "      <td>3577.151148</td>\n",
       "      <td>33.0</td>\n",
       "      <td>1</td>\n",
       "      <td>ultra</td>\n",
       "      <td>397.0</td>\n",
       "    </tr>\n",
       "    <tr>\n",
       "      <th>13</th>\n",
       "      <td>6687.987446</td>\n",
       "      <td>42.0</td>\n",
       "      <td>2</td>\n",
       "      <td>ultra</td>\n",
       "      <td>451.0</td>\n",
       "    </tr>\n",
       "    <tr>\n",
       "      <th>14</th>\n",
       "      <td>7699.643820</td>\n",
       "      <td>35.0</td>\n",
       "      <td>2</td>\n",
       "      <td>ultra</td>\n",
       "      <td>409.0</td>\n",
       "    </tr>\n",
       "    <tr>\n",
       "      <th>15</th>\n",
       "      <td>4187.621459</td>\n",
       "      <td>39.0</td>\n",
       "      <td>1</td>\n",
       "      <td>ultra</td>\n",
       "      <td>433.0</td>\n",
       "    </tr>\n",
       "    <tr>\n",
       "      <th>20</th>\n",
       "      <td>3516.719208</td>\n",
       "      <td>29.0</td>\n",
       "      <td>1</td>\n",
       "      <td>ultra</td>\n",
       "      <td>373.0</td>\n",
       "    </tr>\n",
       "    <tr>\n",
       "      <th>22</th>\n",
       "      <td>3058.692225</td>\n",
       "      <td>13.0</td>\n",
       "      <td>1</td>\n",
       "      <td>ultra</td>\n",
       "      <td>277.0</td>\n",
       "    </tr>\n",
       "  </tbody>\n",
       "</table>\n",
       "</div>"
      ],
      "text/plain": [
       "                  distance  duration  name_count subscription_type  \\\n",
       "month user_id                                                        \n",
       "1     1        7027.511294      42.0           2             ultra   \n",
       "      3        3061.777147      13.0           1             ultra   \n",
       "      5        3914.646990      13.0           1             ultra   \n",
       "      7        6478.080979      28.0           2             ultra   \n",
       "      12       3577.151148      33.0           1             ultra   \n",
       "      13       6687.987446      42.0           2             ultra   \n",
       "      14       7699.643820      35.0           2             ultra   \n",
       "      15       4187.621459      39.0           1             ultra   \n",
       "      20       3516.719208      29.0           1             ultra   \n",
       "      22       3058.692225      13.0           1             ultra   \n",
       "\n",
       "               revenue_name  \n",
       "month user_id                \n",
       "1     1               451.0  \n",
       "      3               277.0  \n",
       "      5               277.0  \n",
       "      7               367.0  \n",
       "      12              397.0  \n",
       "      13              451.0  \n",
       "      14              409.0  \n",
       "      15              433.0  \n",
       "      20              373.0  \n",
       "      22              277.0  "
      ]
     },
     "execution_count": 80,
     "metadata": {},
     "output_type": "execute_result"
    }
   ],
   "source": [
    "new_data.head(10)"
   ]
  },
  {
   "cell_type": "markdown",
   "id": "bec47a39",
   "metadata": {},
   "source": [
    "Создали новый датафрейм с агрегированными данными о поездках new_data на основе датафрейма с объединенными данными itog_data.\n",
    "Нашли суммарное расстояние, количество поездок и суммарное время для каждого пользователя за каждый месяц. Также добавили столбец revenue_name с помесячной выручкой, которую принес каждый пользователь."
   ]
  },
  {
   "cell_type": "markdown",
   "id": "91249a6e",
   "metadata": {},
   "source": [
    "#### Шаг 6. Проверка гипотез"
   ]
  },
  {
   "cell_type": "markdown",
   "id": "07d20010",
   "metadata": {},
   "source": [
    "6.1 Важно понять, тратят ли пользователи с подпиской больше времени на поездки? Если да, то пользователи с подпиской могут быть «выгоднее» для компании. Проверьте гипотезу. Используйте исходные данные о продолжительности каждой сессии — отдельно для подписчиков и тех, у кого нет подписки."
   ]
  },
  {
   "cell_type": "markdown",
   "id": "2dbb8239",
   "metadata": {},
   "source": [
    "Проверим гипотезу: пользователи с подпиской тратят больше времени на поездки, чем пользователи на бесплатном тарифе."
   ]
  },
  {
   "cell_type": "markdown",
   "id": "232d2ec1",
   "metadata": {},
   "source": [
    "H0: Время (duration) пользователей на подписке ultra = время (duration) пользователей на подписке free"
   ]
  },
  {
   "cell_type": "markdown",
   "id": "833a21a3",
   "metadata": {},
   "source": [
    "H1: Время (duration) пользователей на подписке ultra > время (duration) пользователей на подписке free"
   ]
  },
  {
   "cell_type": "markdown",
   "id": "23df3fef",
   "metadata": {},
   "source": [
    "alpha = 0.05"
   ]
  },
  {
   "cell_type": "code",
   "execution_count": 81,
   "id": "9d4a1580",
   "metadata": {},
   "outputs": [],
   "source": [
    "hypothesis_one_ultra = ultra_subscription_data['duration']"
   ]
  },
  {
   "cell_type": "code",
   "execution_count": 82,
   "id": "08a00a82",
   "metadata": {},
   "outputs": [],
   "source": [
    "hypothesis_one_free = free_subscription_data['duration']"
   ]
  },
  {
   "cell_type": "code",
   "execution_count": 83,
   "id": "181c8077",
   "metadata": {},
   "outputs": [],
   "source": [
    "alpha = 0.05"
   ]
  },
  {
   "cell_type": "code",
   "execution_count": 84,
   "id": "e1d3f7e5",
   "metadata": {},
   "outputs": [],
   "source": [
    "results = st.ttest_ind(hypothesis_one_ultra, hypothesis_one_free, alternative = 'greater')"
   ]
  },
  {
   "cell_type": "code",
   "execution_count": 85,
   "id": "feb5fea5",
   "metadata": {},
   "outputs": [
    {
     "name": "stdout",
     "output_type": "stream",
     "text": [
      "1.2804098316645618e-34\n"
     ]
    }
   ],
   "source": [
    "print(results.pvalue)"
   ]
  },
  {
   "cell_type": "code",
   "execution_count": 86,
   "id": "6f87bc43",
   "metadata": {},
   "outputs": [
    {
     "name": "stdout",
     "output_type": "stream",
     "text": [
      "Отвергаем нулевую гипотезу\n"
     ]
    }
   ],
   "source": [
    "if results.pvalue < alpha:\n",
    "    print('Отвергаем нулевую гипотезу')\n",
    "else:\n",
    "    print('Не удалось отвергнуть нулевую гипотезу')"
   ]
  },
  {
   "cell_type": "code",
   "execution_count": 87,
   "id": "36b25ac7",
   "metadata": {},
   "outputs": [
    {
     "name": "stdout",
     "output_type": "stream",
     "text": [
      "Среднее значение с подпиской: 18.54198516280583\n"
     ]
    }
   ],
   "source": [
    "print('Среднее значение с подпиской:', ultra_subscription_data['duration'].mean())"
   ]
  },
  {
   "cell_type": "code",
   "execution_count": 88,
   "id": "94111469",
   "metadata": {},
   "outputs": [
    {
     "name": "stdout",
     "output_type": "stream",
     "text": [
      "Среднее значение без подписки: 17.39090929866399\n"
     ]
    }
   ],
   "source": [
    "print('Среднее значение без подписки:', free_subscription_data['duration'].mean())"
   ]
  },
  {
   "cell_type": "markdown",
   "id": "49ec782d",
   "metadata": {},
   "source": [
    "Отвергли нулевую гипозезу. Пользователи с подпиской тратят больше времени на поездку, чем пользователи без подписки."
   ]
  },
  {
   "cell_type": "markdown",
   "id": "6f81fa97",
   "metadata": {},
   "source": [
    "6.2 Расстояние одной поездки в 3130 метров — оптимальное с точки зрения износа самоката. Можно ли сказать, что среднее расстояние, которое проезжают пользователи с подпиской за одну поездку, не превышает 3130 метров?"
   ]
  },
  {
   "cell_type": "markdown",
   "id": "9b4fe57b",
   "metadata": {},
   "source": [
    "Проверим гипотезу: пользователи с подпиской проезжают расстояние, не превышающее 3130 метров за одну поездку."
   ]
  },
  {
   "cell_type": "markdown",
   "id": "9fa2d165",
   "metadata": {},
   "source": [
    "H0: Расстояние (distance) пользователей на подписке ultra = 3130 метров"
   ]
  },
  {
   "cell_type": "markdown",
   "id": "e99e2775",
   "metadata": {},
   "source": [
    "H1: Расстояние (distance) пользователей на подписке ultra > 3130 метров"
   ]
  },
  {
   "cell_type": "markdown",
   "id": "6db5766d",
   "metadata": {},
   "source": [
    "alpha = 0.05"
   ]
  },
  {
   "cell_type": "code",
   "execution_count": 89,
   "id": "b8fc45fe",
   "metadata": {},
   "outputs": [],
   "source": [
    "hypothesis_two_ultra = ultra_subscription_data['distance']"
   ]
  },
  {
   "cell_type": "code",
   "execution_count": 90,
   "id": "6b3594da",
   "metadata": {},
   "outputs": [],
   "source": [
    "distance_hypothesis = 3130"
   ]
  },
  {
   "cell_type": "code",
   "execution_count": 91,
   "id": "2dbc8a4e",
   "metadata": {},
   "outputs": [],
   "source": [
    "alpha = 0.05"
   ]
  },
  {
   "cell_type": "code",
   "execution_count": 92,
   "id": "7ff8a1b3",
   "metadata": {},
   "outputs": [],
   "source": [
    "results = st.ttest_1samp(hypothesis_two_ultra, distance_hypothesis, alternative = 'greater')"
   ]
  },
  {
   "cell_type": "code",
   "execution_count": 93,
   "id": "8c2a5c6b",
   "metadata": {},
   "outputs": [
    {
     "name": "stdout",
     "output_type": "stream",
     "text": [
      "0.9195368847849785\n"
     ]
    }
   ],
   "source": [
    "print(results.pvalue)"
   ]
  },
  {
   "cell_type": "markdown",
   "id": "b777346e",
   "metadata": {},
   "source": [
    "<b>🔄Комментарий студента: Я видимо когда просматривал перед отправкой results = st.ttest_1samp(hypothesis_two_ultra, interested_value, alternative = 'less') записал в текутовую ячейку </b>. Исправил и занес уже в кодовую ячейку.\n"
   ]
  },
  {
   "cell_type": "code",
   "execution_count": 94,
   "id": "3edca1b2",
   "metadata": {},
   "outputs": [
    {
     "name": "stdout",
     "output_type": "stream",
     "text": [
      "Не удалось отвергнуть нулевую гипотезу\n"
     ]
    }
   ],
   "source": [
    "if results.pvalue < alpha:\n",
    "    print('Отвергаем нулевую гипотезу')\n",
    "else:\n",
    "    print('Не удалось отвергнуть нулевую гипотезу')"
   ]
  },
  {
   "cell_type": "markdown",
   "id": "a6403eb9",
   "metadata": {},
   "source": [
    "Проверили гипотезу, и мы не можем утверждать, что расстояние, которое проехали пользователи на тарифе ultra не превышает 3130 метров."
   ]
  },
  {
   "cell_type": "markdown",
   "id": "19a1047a",
   "metadata": {},
   "source": [
    "6.3 Проверьте гипотезу о том, будет ли помесячная выручка от пользователей с подпиской по месяцам выше, чем выручка от пользователей без подписки. Сделайте вывод."
   ]
  },
  {
   "cell_type": "markdown",
   "id": "d361ab19",
   "metadata": {},
   "source": [
    "H0: Выручка (revenue_name) пользователей на подписке ultra = выручка (revenue_per_month) пользователей на подписке free"
   ]
  },
  {
   "cell_type": "markdown",
   "id": "4fd98b30",
   "metadata": {},
   "source": [
    "H1: Выручка (revenue_name) пользователей на подписке ultra > выручка (revenue_per_month) пользователей на подписке free"
   ]
  },
  {
   "cell_type": "code",
   "execution_count": 95,
   "id": "dac789ae",
   "metadata": {},
   "outputs": [],
   "source": [
    "hypothesis_three_i = new_data.loc[new_data.subscription_type == 'ultra', 'revenue_name']"
   ]
  },
  {
   "cell_type": "code",
   "execution_count": 96,
   "id": "3f3043c2",
   "metadata": {},
   "outputs": [],
   "source": [
    "hypothesis_three_b = new_data.loc[new_data.subscription_type == 'free', 'revenue_name'] "
   ]
  },
  {
   "cell_type": "code",
   "execution_count": 97,
   "id": "6dc1e1bd",
   "metadata": {},
   "outputs": [],
   "source": [
    "alpha = 0.05"
   ]
  },
  {
   "cell_type": "code",
   "execution_count": 98,
   "id": "3eb07b8b",
   "metadata": {},
   "outputs": [],
   "source": [
    "results = st.ttest_ind(hypothesis_three_i, hypothesis_three_b, alternative = 'greater')"
   ]
  },
  {
   "cell_type": "code",
   "execution_count": 99,
   "id": "ba0388a3",
   "metadata": {},
   "outputs": [
    {
     "name": "stdout",
     "output_type": "stream",
     "text": [
      "1.8850394384715216e-31\n"
     ]
    }
   ],
   "source": [
    "print(results.pvalue)"
   ]
  },
  {
   "cell_type": "code",
   "execution_count": 100,
   "id": "14cdd968",
   "metadata": {},
   "outputs": [
    {
     "name": "stdout",
     "output_type": "stream",
     "text": [
      "Отвергаем нулевую гипотезу\n"
     ]
    }
   ],
   "source": [
    "if results.pvalue < alpha:\n",
    "    print('Отвергаем нулевую гипотезу')\n",
    "else:\n",
    "    print('Не удалось отвергнуть нулевую гипотезу')"
   ]
  },
  {
   "cell_type": "code",
   "execution_count": 101,
   "id": "6594098d",
   "metadata": {},
   "outputs": [
    {
     "name": "stdout",
     "output_type": "stream",
     "text": [
      "Среднее значение с подпиской: 362.7921906022502\n"
     ]
    }
   ],
   "source": [
    "print('Среднее значение с подпиской:', new_data.loc[new_data.subscription_type == 'ultra', 'revenue_name'].mean())"
   ]
  },
  {
   "cell_type": "code",
   "execution_count": 102,
   "id": "6704787c",
   "metadata": {},
   "outputs": [
    {
     "name": "stdout",
     "output_type": "stream",
     "text": [
      "Среднее значение без подписки: 328.6413651073845\n"
     ]
    }
   ],
   "source": [
    "print('Среднее значение без подписки:', new_data.loc[new_data.subscription_type == 'free', 'revenue_name'].mean())"
   ]
  },
  {
   "cell_type": "markdown",
   "id": "b7a9ea3a",
   "metadata": {},
   "source": [
    "Проверили гипотезу, соответственно, мы можем утверждать, что выручка с пользователей на подписке ultra превышает выручку с пользователей на подписке free"
   ]
  },
  {
   "cell_type": "markdown",
   "id": "d9c7bc3b",
   "metadata": {},
   "source": [
    "6.4 Представьте такую ситуацию: техническая команда сервиса обновила сервера, с которыми взаимодействует мобильное приложение. Она надеется, что из-за этого количество обращений в техподдержку значимо снизилось. Некоторый файл содержит для каждого пользователя данные о количестве обращений до обновления и после него. Какой тест вам понадобился бы для проверки этой гипотезы?"
   ]
  },
  {
   "cell_type": "markdown",
   "id": "970811bc",
   "metadata": {},
   "source": [
    "Нужно использовать гипотезу о равенстве средних для зависимых (парных) выборок"
   ]
  },
  {
   "cell_type": "markdown",
   "id": "12446da6",
   "metadata": {},
   "source": [
    "Гипотезы в таком случае будут сформулированы так:"
   ]
  },
  {
   "cell_type": "markdown",
   "id": "5773449c",
   "metadata": {},
   "source": [
    "H0 : μ1 = μ2"
   ]
  },
  {
   "cell_type": "markdown",
   "id": "b5ddd3aa",
   "metadata": {},
   "source": [
    "H1 : μ1 < μ2"
   ]
  },
  {
   "cell_type": "markdown",
   "id": "ea0fca69",
   "metadata": {},
   "source": [
    "μ1 - средние значения количество обращений в техподдержкуи после изменения.\n",
    "\n",
    "μ2 - средние значения количество обращений в техподдержку до изменения."
   ]
  },
  {
   "cell_type": "markdown",
   "id": "184dbaea",
   "metadata": {},
   "source": [
    "Метод, который нужно использовать при сравнении: scipy.stats.ttest_rel()"
   ]
  },
  {
   "cell_type": "markdown",
   "id": "6792e0c7",
   "metadata": {},
   "source": [
    "Проверили гипотезы:\n",
    "\n",
    "Отвергли нулевую гипозезу. Пользователи с подпиской тратят больше времени на поездку, чем пользователи без подписки.\n",
    "\n",
    "Проверили гипотезу, и мы не можем утверждать, что расстояние, которое проехали пользователи на тарифе ultra не превышает 3130 метров\n",
    "\n",
    "Проверили гипотезу, соответственно, мы можем утверждать, что выручка с пользователей на подписке ultra превышает выручку с пользователей на подписке free"
   ]
  },
  {
   "cell_type": "markdown",
   "id": "b424bc01",
   "metadata": {},
   "source": [
    "#### Шаг 7. Распределения"
   ]
  },
  {
   "cell_type": "markdown",
   "id": "91acd1aa",
   "metadata": {},
   "source": [
    "7.1 Отделу маркетинга GoFast поставили задачу: нужно провести акцию с раздачей промокодов на один бесплатный месяц подписки, в рамках которой как минимум 100 существующих клиентов должны продлить эту подписку. То есть по завершении периода действия подписки пользователь может либо отказаться от неё, либо продлить, совершив соответствующий платёж. "
   ]
  },
  {
   "cell_type": "markdown",
   "id": "c96401da",
   "metadata": {},
   "source": [
    "Эта акция уже проводилась ранее и по итогу выяснилось, что после бесплатного пробного периода подписку продлевают 10 % пользователей. \n",
    "Выясните, какое минимальное количество промокодов нужно разослать, чтобы вероятность не выполнить план была примерно 5 %. Подберите параметры распределения, описывающего эту ситуацию, постройте график распределения и сформулируйте ответ на вопрос о количестве промокодов."
   ]
  },
  {
   "cell_type": "code",
   "execution_count": 103,
   "id": "6247e81b",
   "metadata": {},
   "outputs": [],
   "source": [
    "n = 100 # количество попыток"
   ]
  },
  {
   "cell_type": "code",
   "execution_count": 104,
   "id": "62de64d8",
   "metadata": {},
   "outputs": [],
   "source": [
    "p = 0.1 # вероятность успеха"
   ]
  },
  {
   "cell_type": "code",
   "execution_count": 105,
   "id": "97456d76",
   "metadata": {},
   "outputs": [],
   "source": [
    "distr = []"
   ]
  },
  {
   "cell_type": "code",
   "execution_count": 106,
   "id": "6ae5eb54",
   "metadata": {},
   "outputs": [
    {
     "data": {
      "text/plain": [
       "<BarContainer object of 101 artists>"
      ]
     },
     "execution_count": 106,
     "metadata": {},
     "output_type": "execute_result"
    },
    {
     "data": {
      "image/png": "[encoded data removed]",
      "text/plain": [
       "<Figure size 432x288 with 1 Axes>"
      ]
     },
     "metadata": {
      "needs_background": "light"
     },
     "output_type": "display_data"
    }
   ],
   "source": [
    "for k in range(0, n + 1):\n",
    "    current_value = binom.pmf(k, n, p)\n",
    "    distr.append(current_value)\n",
    "    \n",
    "plt.bar(range(0, n + 1), distr)"
   ]
  },
  {
   "cell_type": "markdown",
   "id": "f5237db8",
   "metadata": {},
   "source": [
    "График скошен в левую сторону из-за малой вероятности, с вероятностью 10% при 100 попытках количество успехов будет не больше 22."
   ]
  },
  {
   "cell_type": "code",
   "execution_count": 107,
   "id": "ce39ea97",
   "metadata": {},
   "outputs": [],
   "source": [
    "#mu = 100 # среднее значение распределения"
   ]
  },
  {
   "cell_type": "code",
   "execution_count": 108,
   "id": "04129cd9",
   "metadata": {},
   "outputs": [],
   "source": [
    "#sigma = 100*0.1 #стандартное отклонение распределения"
   ]
  },
  {
   "cell_type": "code",
   "execution_count": 109,
   "id": "c7fa7b32",
   "metadata": {},
   "outputs": [],
   "source": [
    "#prob = 1-0.05 # вероятность"
   ]
  },
  {
   "cell_type": "code",
   "execution_count": 110,
   "id": "5c37da8c",
   "metadata": {},
   "outputs": [],
   "source": [
    "#distr = st.norm(mu, sigma) "
   ]
  },
  {
   "cell_type": "code",
   "execution_count": 111,
   "id": "0bed7467",
   "metadata": {},
   "outputs": [],
   "source": [
    "#n_shipment = distr.ppf(1-prob)"
   ]
  },
  {
   "cell_type": "code",
   "execution_count": 112,
   "id": "f3cd0363",
   "metadata": {},
   "outputs": [],
   "source": [
    "#print('Количество промокодов:', int(n_shipment))"
   ]
  },
  {
   "cell_type": "markdown",
   "id": "df92df92",
   "metadata": {},
   "source": [
    "План: 100 существующих клиентов должны продлить эту подписку. 10% что подписку оформят, n возьмем 1000."
   ]
  },
  {
   "cell_type": "code",
   "execution_count": 113,
   "id": "d75db8fd",
   "metadata": {},
   "outputs": [],
   "source": [
    "p = 0.1"
   ]
  },
  {
   "cell_type": "code",
   "execution_count": 114,
   "id": "bbda728e",
   "metadata": {},
   "outputs": [],
   "source": [
    "k = 100"
   ]
  },
  {
   "cell_type": "code",
   "execution_count": 115,
   "id": "54a0febb",
   "metadata": {},
   "outputs": [],
   "source": [
    "n = 1000"
   ]
  },
  {
   "cell_type": "code",
   "execution_count": 116,
   "id": "4b0bdc16",
   "metadata": {},
   "outputs": [],
   "source": [
    "prob = st.binom.cdf(k, n, p)"
   ]
  },
  {
   "cell_type": "code",
   "execution_count": 117,
   "id": "ab0e8a2b",
   "metadata": {},
   "outputs": [
    {
     "data": {
      "text/plain": [
       "0.5265990812951653"
      ]
     },
     "execution_count": 117,
     "metadata": {},
     "output_type": "execute_result"
    }
   ],
   "source": [
    "prob"
   ]
  },
  {
   "cell_type": "code",
   "execution_count": 118,
   "id": "0c36c463",
   "metadata": {},
   "outputs": [
    {
     "name": "stdout",
     "output_type": "stream",
     "text": [
      "1172\n"
     ]
    }
   ],
   "source": [
    "while prob > 0.05:\n",
    "    n +=1\n",
    "    prob = st.binom.cdf(k, n, p)\n",
    "print(n)"
   ]
  },
  {
   "cell_type": "markdown",
   "id": "639b93a0",
   "metadata": {},
   "source": [
    "Для того, что бы вероятность не выполнения плата была 5%, нужно разослать 1172 промокода."
   ]
  },
  {
   "cell_type": "markdown",
   "id": "a3cdd33c",
   "metadata": {},
   "source": []
  },
  {
   "cell_type": "markdown",
   "id": "3adcbfe2",
   "metadata": {},
   "source": [
    "7.2 Отдел маркетинга рассылает клиентам push-уведомления в мобильном приложении. Клиенты могут открыть его или не открывать. Известно, что уведомления открывают около 40 % получивших клиентов. \n",
    "Отдел планирует разослать 1 млн уведомлений. С помощью аппроксимации постройте примерный график распределения и оцените вероятность того, что уведомление откроют не более 399,5 тыс. пользователей."
   ]
  },
  {
   "cell_type": "code",
   "execution_count": 119,
   "id": "ec47a042",
   "metadata": {},
   "outputs": [],
   "source": [
    "# задаём параметры биномиального распределения\n",
    "n = 1000000\n",
    "p = 0.4"
   ]
  },
  {
   "cell_type": "code",
   "execution_count": 120,
   "id": "aa99058a",
   "metadata": {},
   "outputs": [],
   "source": [
    "# задаём параметры нормального распределения равными\n",
    "# мат.ожиданию и дисперсии биномиального распределения\n",
    "mu = n * p\n",
    "sigma = sqrt(n * p * (1 - p))"
   ]
  },
  {
   "cell_type": "code",
   "execution_count": 121,
   "id": "f73f6905",
   "metadata": {},
   "outputs": [],
   "source": [
    "# задаём нормальное распределение\n",
    "distr = st.norm(mu, sigma) "
   ]
  },
  {
   "cell_type": "code",
   "execution_count": 122,
   "id": "67ead7bb",
   "metadata": {},
   "outputs": [
    {
     "name": "stdout",
     "output_type": "stream",
     "text": [
      "0.15371708296369768\n"
     ]
    }
   ],
   "source": [
    "result = distr.cdf(399500)\n",
    "print(result)"
   ]
  },
  {
   "cell_type": "markdown",
   "id": "230abeeb",
   "metadata": {},
   "source": [
    "15.37% вероятность того, что уведомлений откроют менее 399,5 тыс. пользователей."
   ]
  },
  {
   "cell_type": "markdown",
   "id": "ab3a2f22",
   "metadata": {},
   "source": [
    "#### Шаг 8. Общий вывод"
   ]
  },
  {
   "cell_type": "markdown",
   "id": "9ac0ae34",
   "metadata": {},
   "source": [
    "Загрузили 3 датафрейма: users_go.csv - данные о пользователях, rides_go.csv - данные о поездках, subscriptions_go.csv - данные о подписках.\n",
    "\n",
    "Проверили данные на пропуски, изменили формат в data_rides_go столбце date к типу даты pandas. В таблице data_rides_go ждобавим столбец, обозначающий месяц.Были убраны дубликаты в data_users_go.\n",
    "\n",
    "Наиболее распространный город является Пятигорск, Екатеренбург и Ростов-на-Дону, меньше всего пользователей в Моксве и Тюмени. \n",
    "Чуть больше половины пользователей (54%) не имеют подписки. Платную подписку имеют 46% пользователей.\n",
    "Больше всего пользователей возраста от 20 до 30 лет. Диапозон возраста пользователей составляет от 12 до 43 лет.\n",
    "В основном пользователи проезжают от 2.5 км до 3,7 км. Максимальное расстояние за одну поездку составляет 7211,01 м.\n",
    "Чаще всего длительность поездки состовляет 13 - 21 минут. Максимальное время поездки составило 40,82 минуты.\n",
    "\n",
    "Объединили данные о пользователях, поездках и подписках в один датафрейм. На основе объединенного датафрейма создали еще 2 датафрейма: Для пользователей с ultra подпиской и free подпиской\n",
    "\n",
    "Визуализировали информацию о расстоянии и времени поездки для пользоватей каждого тарифа. В основном пользователи без подписки проезжают расстояние от 2366 до 3905 м, Так же наблюдается 2 пика, один небольшой на расстоянии 500 метров и другой 2500 метров. Первый пик можно отнести к пробным заездам, второй пик можно отнести к наиболее частым поездкам. Время поездки занимает в среднем 12-21 минут. \n",
    "Пользователи с подпиской чаще всего проезжают 2785 - 3560 м. Пик расстояния приходится на 3км. Время поездки занимает в среднем 14-21 минут.\n",
    "Так как численность пользователей без подписка больше, то диапозон расстояния в среднем шире, от 2366 до 3905 м, однако пользователи с платной подпиской проезжают в среднем больше минут и минимальные поздки дальше.\n",
    "\n",
    "Создали новый датафрейм с агрегированными данными о поездках new_data на основе датафрейма с объединенными данными itog_data. Нашли суммарное расстояние, количество поездок и суммарное время для каждого пользователя за каждый месяц. Также добавили столбец revenue_name с помесячной выручкой, которую принес каждый пользователь.\n",
    "\n",
    "Проверили гипотезы:\n",
    "\n",
    "Отвергли нулевую гипозезу. Пользователи с подпиской тратят больше времени на поездку, чем пользователи без подписки.\n",
    "\n",
    "Проверили гипотезу, и мы не можем утверждать, что расстояние, которое проехали пользователи на тарифе ultra не превышает 3130 метров.\n",
    "\n",
    "Проверили гипотезу, соответственно, мы можем утверждать, что выручка с пользователей на подписке ultra превышает выручку с пользователей на подписке free\n"
   ]
  }
 ],
 "metadata": {
  "ExecuteTimeLog": [
   {
    "duration": 1262,
    "start_time": "2023-10-07T08:58:40.537Z"
   },
   {
    "duration": 133,
    "start_time": "2023-10-07T09:00:24.086Z"
   },
   {
    "duration": 2,
    "start_time": "2023-10-07T09:00:28.424Z"
   },
   {
    "duration": 11,
    "start_time": "2023-10-07T09:00:28.805Z"
   },
   {
    "duration": 236,
    "start_time": "2023-10-07T09:02:41.229Z"
   },
   {
    "duration": 10,
    "start_time": "2023-10-07T09:03:29.030Z"
   },
   {
    "duration": 83,
    "start_time": "2023-10-07T09:06:26.042Z"
   },
   {
    "duration": 120,
    "start_time": "2023-10-07T09:09:53.702Z"
   },
   {
    "duration": 8,
    "start_time": "2023-10-07T09:09:57.773Z"
   },
   {
    "duration": 145,
    "start_time": "2023-10-07T09:10:56.028Z"
   },
   {
    "duration": 151,
    "start_time": "2023-10-07T09:11:03.598Z"
   },
   {
    "duration": 79,
    "start_time": "2023-10-07T09:12:13.751Z"
   },
   {
    "duration": 140,
    "start_time": "2023-10-07T09:12:47.376Z"
   },
   {
    "duration": 114,
    "start_time": "2023-10-07T09:15:31.338Z"
   },
   {
    "duration": 140,
    "start_time": "2023-10-07T09:15:46.258Z"
   },
   {
    "duration": 131,
    "start_time": "2023-10-07T09:16:39.331Z"
   },
   {
    "duration": 182,
    "start_time": "2023-10-07T09:16:44.435Z"
   },
   {
    "duration": 76,
    "start_time": "2023-10-07T09:21:11.064Z"
   },
   {
    "duration": 85,
    "start_time": "2023-10-07T09:28:16.108Z"
   },
   {
    "duration": 191,
    "start_time": "2023-10-07T09:30:09.977Z"
   },
   {
    "duration": 207,
    "start_time": "2023-10-07T09:30:32.366Z"
   },
   {
    "duration": 73,
    "start_time": "2023-10-07T09:30:45.503Z"
   },
   {
    "duration": 82,
    "start_time": "2023-10-07T09:30:53.471Z"
   },
   {
    "duration": 137,
    "start_time": "2023-10-07T09:32:31.530Z"
   },
   {
    "duration": 131,
    "start_time": "2023-10-07T09:33:21.456Z"
   },
   {
    "duration": 141,
    "start_time": "2023-10-07T09:33:29.648Z"
   },
   {
    "duration": 141,
    "start_time": "2023-10-07T09:34:33.929Z"
   },
   {
    "duration": 147,
    "start_time": "2023-10-07T09:34:40.236Z"
   },
   {
    "duration": 180,
    "start_time": "2023-10-07T09:35:16.459Z"
   },
   {
    "duration": 8,
    "start_time": "2023-10-07T09:36:30.844Z"
   },
   {
    "duration": 6,
    "start_time": "2023-10-07T09:37:12.043Z"
   },
   {
    "duration": 15,
    "start_time": "2023-10-07T09:42:46.272Z"
   },
   {
    "duration": 9,
    "start_time": "2023-10-07T09:43:06.665Z"
   },
   {
    "duration": 134,
    "start_time": "2023-10-07T09:43:35.369Z"
   },
   {
    "duration": 150,
    "start_time": "2023-10-07T09:44:34.690Z"
   },
   {
    "duration": 149,
    "start_time": "2023-10-07T09:47:09.908Z"
   },
   {
    "duration": 150,
    "start_time": "2023-10-07T09:47:44.956Z"
   },
   {
    "duration": 190,
    "start_time": "2023-10-07T09:49:13.533Z"
   },
   {
    "duration": 123,
    "start_time": "2023-10-07T09:49:42.973Z"
   },
   {
    "duration": 105,
    "start_time": "2023-10-07T09:50:31.359Z"
   },
   {
    "duration": 117,
    "start_time": "2023-10-07T09:50:58.343Z"
   },
   {
    "duration": 102,
    "start_time": "2023-10-07T09:51:08.478Z"
   },
   {
    "duration": 124,
    "start_time": "2023-10-07T09:51:33.216Z"
   },
   {
    "duration": 155,
    "start_time": "2023-10-07T09:51:40.129Z"
   },
   {
    "duration": 123,
    "start_time": "2023-10-07T09:51:49.421Z"
   },
   {
    "duration": 120,
    "start_time": "2023-10-07T09:51:56.095Z"
   },
   {
    "duration": 118,
    "start_time": "2023-10-07T09:53:39.153Z"
   },
   {
    "duration": 121,
    "start_time": "2023-10-07T09:53:47.770Z"
   },
   {
    "duration": 121,
    "start_time": "2023-10-07T09:55:04.266Z"
   },
   {
    "duration": 136,
    "start_time": "2023-10-07T09:55:13.428Z"
   },
   {
    "duration": 245,
    "start_time": "2023-10-07T09:55:33.028Z"
   },
   {
    "duration": 157,
    "start_time": "2023-10-07T09:55:46.120Z"
   },
   {
    "duration": 153,
    "start_time": "2023-10-07T09:55:53.866Z"
   },
   {
    "duration": 6,
    "start_time": "2023-10-07T09:57:53.292Z"
   },
   {
    "duration": 103,
    "start_time": "2023-10-07T09:57:57.493Z"
   },
   {
    "duration": 4,
    "start_time": "2023-10-07T09:58:24.606Z"
   },
   {
    "duration": 1183,
    "start_time": "2023-10-07T09:58:24.613Z"
   },
   {
    "duration": 101,
    "start_time": "2023-10-07T09:58:25.798Z"
   },
   {
    "duration": 3,
    "start_time": "2023-10-07T09:58:25.900Z"
   },
   {
    "duration": 12,
    "start_time": "2023-10-07T09:58:25.906Z"
   },
   {
    "duration": 11,
    "start_time": "2023-10-07T09:58:25.920Z"
   },
   {
    "duration": 19,
    "start_time": "2023-10-07T09:58:25.932Z"
   },
   {
    "duration": 7,
    "start_time": "2023-10-07T09:58:25.952Z"
   },
   {
    "duration": 200,
    "start_time": "2023-10-07T09:58:25.960Z"
   },
   {
    "duration": 2,
    "start_time": "2023-10-07T09:58:26.163Z"
   },
   {
    "duration": 11,
    "start_time": "2023-10-07T09:58:26.166Z"
   },
   {
    "duration": 167,
    "start_time": "2023-10-07T09:58:26.179Z"
   },
   {
    "duration": 2,
    "start_time": "2023-10-07T09:58:26.347Z"
   },
   {
    "duration": 8,
    "start_time": "2023-10-07T09:58:26.352Z"
   },
   {
    "duration": 120,
    "start_time": "2023-10-07T09:58:26.362Z"
   },
   {
    "duration": 113,
    "start_time": "2023-10-07T10:00:02.938Z"
   },
   {
    "duration": 4,
    "start_time": "2023-10-07T10:00:34.721Z"
   },
   {
    "duration": 1155,
    "start_time": "2023-10-07T10:00:34.727Z"
   },
   {
    "duration": 161,
    "start_time": "2023-10-07T10:00:35.884Z"
   },
   {
    "duration": 3,
    "start_time": "2023-10-07T10:00:36.047Z"
   },
   {
    "duration": 44,
    "start_time": "2023-10-07T10:00:36.053Z"
   },
   {
    "duration": 21,
    "start_time": "2023-10-07T10:00:36.099Z"
   },
   {
    "duration": 64,
    "start_time": "2023-10-07T10:00:36.122Z"
   },
   {
    "duration": 11,
    "start_time": "2023-10-07T10:00:36.188Z"
   },
   {
    "duration": 215,
    "start_time": "2023-10-07T10:00:36.201Z"
   },
   {
    "duration": 2,
    "start_time": "2023-10-07T10:00:36.418Z"
   },
   {
    "duration": 29,
    "start_time": "2023-10-07T10:00:36.422Z"
   },
   {
    "duration": 188,
    "start_time": "2023-10-07T10:00:36.452Z"
   },
   {
    "duration": 3,
    "start_time": "2023-10-07T10:00:36.641Z"
   },
   {
    "duration": 127,
    "start_time": "2023-10-07T10:00:36.646Z"
   },
   {
    "duration": 222,
    "start_time": "2023-10-07T10:00:36.775Z"
   },
   {
    "duration": 7,
    "start_time": "2023-10-07T10:01:19.025Z"
   },
   {
    "duration": 1153,
    "start_time": "2023-10-07T10:01:19.037Z"
   },
   {
    "duration": 140,
    "start_time": "2023-10-07T10:01:20.191Z"
   },
   {
    "duration": 3,
    "start_time": "2023-10-07T10:01:20.333Z"
   },
   {
    "duration": 37,
    "start_time": "2023-10-07T10:01:20.339Z"
   },
   {
    "duration": 21,
    "start_time": "2023-10-07T10:01:20.378Z"
   },
   {
    "duration": 34,
    "start_time": "2023-10-07T10:01:20.402Z"
   },
   {
    "duration": 2,
    "start_time": "2023-10-07T10:01:20.438Z"
   },
   {
    "duration": 217,
    "start_time": "2023-10-07T10:01:20.442Z"
   },
   {
    "duration": 3,
    "start_time": "2023-10-07T10:01:20.660Z"
   },
   {
    "duration": 26,
    "start_time": "2023-10-07T10:01:20.664Z"
   },
   {
    "duration": 165,
    "start_time": "2023-10-07T10:01:20.693Z"
   },
   {
    "duration": 2,
    "start_time": "2023-10-07T10:01:20.860Z"
   },
   {
    "duration": 27,
    "start_time": "2023-10-07T10:01:20.865Z"
   },
   {
    "duration": 144,
    "start_time": "2023-10-07T10:01:20.895Z"
   },
   {
    "duration": 5,
    "start_time": "2023-10-07T10:03:31.181Z"
   },
   {
    "duration": 1229,
    "start_time": "2023-10-07T10:03:31.188Z"
   },
   {
    "duration": 4,
    "start_time": "2023-10-07T10:03:32.419Z"
   },
   {
    "duration": 167,
    "start_time": "2023-10-07T10:03:32.425Z"
   },
   {
    "duration": 3,
    "start_time": "2023-10-07T10:03:32.595Z"
   },
   {
    "duration": 41,
    "start_time": "2023-10-07T10:03:32.600Z"
   },
   {
    "duration": 13,
    "start_time": "2023-10-07T10:03:32.645Z"
   },
   {
    "duration": 24,
    "start_time": "2023-10-07T10:03:32.660Z"
   },
   {
    "duration": 15,
    "start_time": "2023-10-07T10:03:32.686Z"
   },
   {
    "duration": 225,
    "start_time": "2023-10-07T10:03:32.702Z"
   },
   {
    "duration": 3,
    "start_time": "2023-10-07T10:03:32.928Z"
   },
   {
    "duration": 32,
    "start_time": "2023-10-07T10:03:32.932Z"
   },
   {
    "duration": 187,
    "start_time": "2023-10-07T10:03:32.966Z"
   },
   {
    "duration": 13,
    "start_time": "2023-10-07T10:03:33.157Z"
   },
   {
    "duration": 14,
    "start_time": "2023-10-07T10:03:33.172Z"
   },
   {
    "duration": 140,
    "start_time": "2023-10-07T10:03:33.188Z"
   },
   {
    "duration": 108,
    "start_time": "2023-10-07T10:05:27.127Z"
   },
   {
    "duration": 105,
    "start_time": "2023-10-07T10:05:49.375Z"
   },
   {
    "duration": 12,
    "start_time": "2023-10-07T10:05:58.368Z"
   },
   {
    "duration": 10,
    "start_time": "2023-10-07T10:06:34.232Z"
   },
   {
    "duration": 7,
    "start_time": "2023-10-07T10:08:30.106Z"
   },
   {
    "duration": 6,
    "start_time": "2023-10-07T10:08:48.450Z"
   },
   {
    "duration": 7,
    "start_time": "2023-10-07T10:09:28.754Z"
   },
   {
    "duration": 6,
    "start_time": "2023-10-07T10:11:20.267Z"
   },
   {
    "duration": 6,
    "start_time": "2023-10-07T10:15:56.631Z"
   },
   {
    "duration": 11,
    "start_time": "2023-10-07T10:16:17.952Z"
   },
   {
    "duration": 17,
    "start_time": "2023-10-07T10:17:16.349Z"
   },
   {
    "duration": 15,
    "start_time": "2023-10-07T10:18:00.936Z"
   },
   {
    "duration": 4,
    "start_time": "2023-10-07T10:19:11.380Z"
   },
   {
    "duration": 1120,
    "start_time": "2023-10-07T10:19:11.386Z"
   },
   {
    "duration": 2,
    "start_time": "2023-10-07T10:19:12.508Z"
   },
   {
    "duration": 109,
    "start_time": "2023-10-07T10:19:12.512Z"
   },
   {
    "duration": 3,
    "start_time": "2023-10-07T10:19:12.623Z"
   },
   {
    "duration": 30,
    "start_time": "2023-10-07T10:19:12.627Z"
   },
   {
    "duration": 16,
    "start_time": "2023-10-07T10:19:12.658Z"
   },
   {
    "duration": 57,
    "start_time": "2023-10-07T10:19:12.676Z"
   },
   {
    "duration": 39,
    "start_time": "2023-10-07T10:19:12.735Z"
   },
   {
    "duration": 235,
    "start_time": "2023-10-07T10:19:12.776Z"
   },
   {
    "duration": 2,
    "start_time": "2023-10-07T10:19:13.013Z"
   },
   {
    "duration": 30,
    "start_time": "2023-10-07T10:19:13.017Z"
   },
   {
    "duration": 173,
    "start_time": "2023-10-07T10:19:13.048Z"
   },
   {
    "duration": 3,
    "start_time": "2023-10-07T10:19:13.224Z"
   },
   {
    "duration": 17,
    "start_time": "2023-10-07T10:19:13.228Z"
   },
   {
    "duration": 107,
    "start_time": "2023-10-07T10:19:13.246Z"
   },
   {
    "duration": 2,
    "start_time": "2023-10-07T10:19:13.355Z"
   },
   {
    "duration": 132,
    "start_time": "2023-10-07T10:19:13.359Z"
   },
   {
    "duration": 11,
    "start_time": "2023-10-07T10:19:13.493Z"
   },
   {
    "duration": 35,
    "start_time": "2023-10-07T10:19:13.506Z"
   },
   {
    "duration": 26,
    "start_time": "2023-10-07T10:19:13.542Z"
   },
   {
    "duration": 37,
    "start_time": "2023-10-07T10:19:13.569Z"
   },
   {
    "duration": 26,
    "start_time": "2023-10-07T10:19:13.608Z"
   },
   {
    "duration": 69,
    "start_time": "2023-10-07T10:19:13.636Z"
   },
   {
    "duration": 240,
    "start_time": "2023-10-07T10:20:05.063Z"
   },
   {
    "duration": 224,
    "start_time": "2023-10-07T10:20:29.256Z"
   },
   {
    "duration": 183,
    "start_time": "2023-10-07T10:21:09.670Z"
   },
   {
    "duration": 190,
    "start_time": "2023-10-07T10:22:57.409Z"
   },
   {
    "duration": 63,
    "start_time": "2023-10-07T10:23:18.770Z"
   },
   {
    "duration": 3,
    "start_time": "2023-10-07T10:23:59.613Z"
   },
   {
    "duration": 1234,
    "start_time": "2023-10-07T10:23:59.618Z"
   },
   {
    "duration": 3,
    "start_time": "2023-10-07T10:24:00.854Z"
   },
   {
    "duration": 355,
    "start_time": "2023-10-07T10:24:00.858Z"
   },
   {
    "duration": 30,
    "start_time": "2023-10-07T10:24:01.216Z"
   },
   {
    "duration": 271,
    "start_time": "2023-10-07T10:24:01.248Z"
   },
   {
    "duration": 226,
    "start_time": "2023-10-07T10:24:01.520Z"
   },
   {
    "duration": 105,
    "start_time": "2023-10-07T10:24:01.748Z"
   },
   {
    "duration": 498,
    "start_time": "2023-10-07T10:24:01.855Z"
   },
   {
    "duration": 324,
    "start_time": "2023-10-07T10:24:02.355Z"
   },
   {
    "duration": 3,
    "start_time": "2023-10-07T10:24:02.680Z"
   },
   {
    "duration": 77,
    "start_time": "2023-10-07T10:24:02.684Z"
   },
   {
    "duration": 257,
    "start_time": "2023-10-07T10:24:02.763Z"
   },
   {
    "duration": 3,
    "start_time": "2023-10-07T10:24:03.022Z"
   },
   {
    "duration": 16,
    "start_time": "2023-10-07T10:24:03.027Z"
   },
   {
    "duration": 116,
    "start_time": "2023-10-07T10:24:03.045Z"
   },
   {
    "duration": 2,
    "start_time": "2023-10-07T10:24:03.163Z"
   },
   {
    "duration": 103,
    "start_time": "2023-10-07T10:24:03.167Z"
   },
   {
    "duration": 12,
    "start_time": "2023-10-07T10:24:03.271Z"
   },
   {
    "duration": 40,
    "start_time": "2023-10-07T10:24:03.285Z"
   },
   {
    "duration": 33,
    "start_time": "2023-10-07T10:24:03.327Z"
   },
   {
    "duration": 16,
    "start_time": "2023-10-07T10:24:03.362Z"
   },
   {
    "duration": 4,
    "start_time": "2023-10-07T10:24:03.380Z"
   },
   {
    "duration": 38,
    "start_time": "2023-10-07T10:24:03.385Z"
   },
   {
    "duration": 19,
    "start_time": "2023-10-07T10:24:03.424Z"
   },
   {
    "duration": 21,
    "start_time": "2023-10-07T10:24:03.445Z"
   },
   {
    "duration": 10,
    "start_time": "2023-10-07T10:24:47.099Z"
   },
   {
    "duration": 7,
    "start_time": "2023-10-07T10:24:56.731Z"
   },
   {
    "duration": 2,
    "start_time": "2023-10-07T11:37:12.696Z"
   },
   {
    "duration": 7,
    "start_time": "2023-10-07T11:37:13.623Z"
   },
   {
    "duration": 7,
    "start_time": "2023-10-07T11:37:15.308Z"
   },
   {
    "duration": 6,
    "start_time": "2023-10-07T11:37:16.287Z"
   },
   {
    "duration": 8,
    "start_time": "2023-10-07T11:43:25.020Z"
   },
   {
    "duration": 11,
    "start_time": "2023-10-07T11:43:43.529Z"
   },
   {
    "duration": 11,
    "start_time": "2023-10-07T11:43:44.404Z"
   },
   {
    "duration": 8,
    "start_time": "2023-10-07T11:43:44.859Z"
   },
   {
    "duration": 8,
    "start_time": "2023-10-07T11:46:41.470Z"
   },
   {
    "duration": 93,
    "start_time": "2023-10-07T11:46:42.006Z"
   },
   {
    "duration": 6,
    "start_time": "2023-10-07T11:46:49.247Z"
   },
   {
    "duration": 12,
    "start_time": "2023-10-07T11:50:33.705Z"
   },
   {
    "duration": 10,
    "start_time": "2023-10-07T11:50:43.042Z"
   },
   {
    "duration": 19,
    "start_time": "2023-10-07T11:58:09.928Z"
   },
   {
    "duration": 6,
    "start_time": "2023-10-07T11:58:11.272Z"
   },
   {
    "duration": 7,
    "start_time": "2023-10-07T11:58:44.432Z"
   },
   {
    "duration": 5,
    "start_time": "2023-10-07T11:58:45.072Z"
   },
   {
    "duration": 3,
    "start_time": "2023-10-07T11:58:59.683Z"
   },
   {
    "duration": 1125,
    "start_time": "2023-10-07T11:58:59.688Z"
   },
   {
    "duration": 3,
    "start_time": "2023-10-07T11:59:00.815Z"
   },
   {
    "duration": 90,
    "start_time": "2023-10-07T11:59:00.820Z"
   },
   {
    "duration": 13,
    "start_time": "2023-10-07T11:59:00.913Z"
   },
   {
    "duration": 57,
    "start_time": "2023-10-07T11:59:00.928Z"
   },
   {
    "duration": 52,
    "start_time": "2023-10-07T11:59:00.987Z"
   },
   {
    "duration": 148,
    "start_time": "2023-10-07T11:59:01.042Z"
   },
   {
    "duration": 136,
    "start_time": "2023-10-07T11:59:01.192Z"
   },
   {
    "duration": 316,
    "start_time": "2023-10-07T11:59:01.330Z"
   },
   {
    "duration": 3,
    "start_time": "2023-10-07T11:59:01.648Z"
   },
   {
    "duration": 82,
    "start_time": "2023-10-07T11:59:01.652Z"
   },
   {
    "duration": 191,
    "start_time": "2023-10-07T11:59:01.735Z"
   },
   {
    "duration": 2,
    "start_time": "2023-10-07T11:59:01.930Z"
   },
   {
    "duration": 56,
    "start_time": "2023-10-07T11:59:01.934Z"
   },
   {
    "duration": 161,
    "start_time": "2023-10-07T11:59:01.991Z"
   },
   {
    "duration": 2,
    "start_time": "2023-10-07T11:59:02.154Z"
   },
   {
    "duration": 94,
    "start_time": "2023-10-07T11:59:02.158Z"
   },
   {
    "duration": 31,
    "start_time": "2023-10-07T11:59:02.254Z"
   },
   {
    "duration": 54,
    "start_time": "2023-10-07T11:59:02.287Z"
   },
   {
    "duration": 27,
    "start_time": "2023-10-07T11:59:02.343Z"
   },
   {
    "duration": 40,
    "start_time": "2023-10-07T11:59:02.372Z"
   },
   {
    "duration": 115,
    "start_time": "2023-10-07T11:59:02.414Z"
   },
   {
    "duration": 67,
    "start_time": "2023-10-07T11:59:02.531Z"
   },
   {
    "duration": 41,
    "start_time": "2023-10-07T11:59:02.600Z"
   },
   {
    "duration": 48,
    "start_time": "2023-10-07T11:59:02.644Z"
   },
   {
    "duration": 21,
    "start_time": "2023-10-07T11:59:02.694Z"
   },
   {
    "duration": 30,
    "start_time": "2023-10-07T11:59:02.717Z"
   },
   {
    "duration": 17,
    "start_time": "2023-10-07T11:59:02.749Z"
   },
   {
    "duration": 13,
    "start_time": "2023-10-07T11:59:02.768Z"
   },
   {
    "duration": 53,
    "start_time": "2023-10-07T11:59:02.783Z"
   },
   {
    "duration": 40,
    "start_time": "2023-10-07T11:59:02.838Z"
   },
   {
    "duration": 15,
    "start_time": "2023-10-07T11:59:02.879Z"
   },
   {
    "duration": 19,
    "start_time": "2023-10-07T11:59:02.896Z"
   },
   {
    "duration": 24,
    "start_time": "2023-10-07T11:59:02.917Z"
   },
   {
    "duration": 23,
    "start_time": "2023-10-07T11:59:02.943Z"
   },
   {
    "duration": 13,
    "start_time": "2023-10-07T11:59:02.968Z"
   },
   {
    "duration": 9,
    "start_time": "2023-10-07T11:59:02.982Z"
   },
   {
    "duration": 27,
    "start_time": "2023-10-07T11:59:02.993Z"
   },
   {
    "duration": 7,
    "start_time": "2023-10-07T11:59:03.022Z"
   },
   {
    "duration": 3,
    "start_time": "2023-10-07T11:59:03.034Z"
   },
   {
    "duration": 16,
    "start_time": "2023-10-07T11:59:03.038Z"
   },
   {
    "duration": 25,
    "start_time": "2023-10-07T11:59:03.055Z"
   },
   {
    "duration": 16,
    "start_time": "2023-10-07T11:59:03.082Z"
   },
   {
    "duration": 15,
    "start_time": "2023-10-07T11:59:03.100Z"
   },
   {
    "duration": 1410,
    "start_time": "2023-10-07T11:59:03.117Z"
   },
   {
    "duration": 4,
    "start_time": "2023-10-07T11:59:38.548Z"
   },
   {
    "duration": 1408,
    "start_time": "2023-10-07T11:59:41.188Z"
   },
   {
    "duration": 9,
    "start_time": "2023-10-07T11:59:52.685Z"
   },
   {
    "duration": 5,
    "start_time": "2023-10-07T12:00:01.966Z"
   },
   {
    "duration": 10,
    "start_time": "2023-10-07T12:00:21.077Z"
   },
   {
    "duration": 5,
    "start_time": "2023-10-07T12:03:12.368Z"
   },
   {
    "duration": 3,
    "start_time": "2023-10-07T12:03:23.527Z"
   },
   {
    "duration": 19,
    "start_time": "2023-10-07T12:04:35.129Z"
   },
   {
    "duration": 10,
    "start_time": "2023-10-07T12:04:52.512Z"
   },
   {
    "duration": 6,
    "start_time": "2023-10-07T12:06:23.762Z"
   },
   {
    "duration": 8,
    "start_time": "2023-10-07T12:08:05.874Z"
   },
   {
    "duration": 3,
    "start_time": "2023-10-07T12:08:33.451Z"
   },
   {
    "duration": 1217,
    "start_time": "2023-10-07T12:08:33.457Z"
   },
   {
    "duration": 3,
    "start_time": "2023-10-07T12:08:34.678Z"
   },
   {
    "duration": 46,
    "start_time": "2023-10-07T12:08:34.684Z"
   },
   {
    "duration": 3,
    "start_time": "2023-10-07T12:08:34.732Z"
   },
   {
    "duration": 17,
    "start_time": "2023-10-07T12:08:34.737Z"
   },
   {
    "duration": 12,
    "start_time": "2023-10-07T12:08:34.755Z"
   },
   {
    "duration": 39,
    "start_time": "2023-10-07T12:08:34.768Z"
   },
   {
    "duration": 3,
    "start_time": "2023-10-07T12:08:34.809Z"
   },
   {
    "duration": 191,
    "start_time": "2023-10-07T12:08:34.813Z"
   },
   {
    "duration": 3,
    "start_time": "2023-10-07T12:08:35.006Z"
   },
   {
    "duration": 37,
    "start_time": "2023-10-07T12:08:35.010Z"
   },
   {
    "duration": 188,
    "start_time": "2023-10-07T12:08:35.052Z"
   },
   {
    "duration": 4,
    "start_time": "2023-10-07T12:08:35.241Z"
   },
   {
    "duration": 27,
    "start_time": "2023-10-07T12:08:35.247Z"
   },
   {
    "duration": 115,
    "start_time": "2023-10-07T12:08:35.276Z"
   },
   {
    "duration": 3,
    "start_time": "2023-10-07T12:08:35.392Z"
   },
   {
    "duration": 52,
    "start_time": "2023-10-07T12:08:35.397Z"
   },
   {
    "duration": 12,
    "start_time": "2023-10-07T12:08:35.452Z"
   },
   {
    "duration": 39,
    "start_time": "2023-10-07T12:08:35.466Z"
   },
   {
    "duration": 40,
    "start_time": "2023-10-07T12:08:35.507Z"
   },
   {
    "duration": 37,
    "start_time": "2023-10-07T12:08:35.550Z"
   },
   {
    "duration": 7,
    "start_time": "2023-10-07T12:08:35.589Z"
   },
   {
    "duration": 53,
    "start_time": "2023-10-07T12:08:35.598Z"
   },
   {
    "duration": 10,
    "start_time": "2023-10-07T12:08:35.653Z"
   },
   {
    "duration": 29,
    "start_time": "2023-10-07T12:08:35.665Z"
   },
   {
    "duration": 34,
    "start_time": "2023-10-07T12:08:35.696Z"
   },
   {
    "duration": 17,
    "start_time": "2023-10-07T12:08:35.732Z"
   },
   {
    "duration": 19,
    "start_time": "2023-10-07T12:08:35.751Z"
   },
   {
    "duration": 28,
    "start_time": "2023-10-07T12:08:35.772Z"
   },
   {
    "duration": 28,
    "start_time": "2023-10-07T12:08:35.801Z"
   },
   {
    "duration": 34,
    "start_time": "2023-10-07T12:08:35.830Z"
   },
   {
    "duration": 14,
    "start_time": "2023-10-07T12:08:35.865Z"
   },
   {
    "duration": 13,
    "start_time": "2023-10-07T12:08:35.880Z"
   },
   {
    "duration": 20,
    "start_time": "2023-10-07T12:08:35.895Z"
   },
   {
    "duration": 35,
    "start_time": "2023-10-07T12:08:35.917Z"
   },
   {
    "duration": 22,
    "start_time": "2023-10-07T12:08:35.954Z"
   },
   {
    "duration": 13,
    "start_time": "2023-10-07T12:08:35.978Z"
   },
   {
    "duration": 22,
    "start_time": "2023-10-07T12:08:35.993Z"
   },
   {
    "duration": 27,
    "start_time": "2023-10-07T12:08:36.019Z"
   },
   {
    "duration": 34,
    "start_time": "2023-10-07T12:08:36.048Z"
   },
   {
    "duration": 16,
    "start_time": "2023-10-07T12:08:36.084Z"
   },
   {
    "duration": 10,
    "start_time": "2023-10-07T12:08:36.102Z"
   },
   {
    "duration": 4,
    "start_time": "2023-10-07T12:08:36.114Z"
   },
   {
    "duration": 12,
    "start_time": "2023-10-07T12:08:36.120Z"
   },
   {
    "duration": 29,
    "start_time": "2023-10-07T12:08:36.133Z"
   },
   {
    "duration": 21,
    "start_time": "2023-10-07T12:08:36.164Z"
   },
   {
    "duration": 18,
    "start_time": "2023-10-07T12:08:36.187Z"
   },
   {
    "duration": 33,
    "start_time": "2023-10-07T12:08:36.207Z"
   },
   {
    "duration": 28,
    "start_time": "2023-10-07T12:08:36.241Z"
   },
   {
    "duration": 29,
    "start_time": "2023-10-07T12:08:36.271Z"
   },
   {
    "duration": 122,
    "start_time": "2023-10-07T12:08:36.302Z"
   },
   {
    "duration": 0,
    "start_time": "2023-10-07T12:08:36.426Z"
   },
   {
    "duration": 3,
    "start_time": "2023-10-07T12:09:08.577Z"
   },
   {
    "duration": 8,
    "start_time": "2023-10-07T12:09:09.712Z"
   },
   {
    "duration": 3,
    "start_time": "2023-10-07T12:09:43.233Z"
   },
   {
    "duration": 1203,
    "start_time": "2023-10-07T12:09:43.238Z"
   },
   {
    "duration": 3,
    "start_time": "2023-10-07T12:09:44.443Z"
   },
   {
    "duration": 43,
    "start_time": "2023-10-07T12:09:44.449Z"
   },
   {
    "duration": 2,
    "start_time": "2023-10-07T12:09:44.496Z"
   },
   {
    "duration": 25,
    "start_time": "2023-10-07T12:09:44.500Z"
   },
   {
    "duration": 20,
    "start_time": "2023-10-07T12:09:44.527Z"
   },
   {
    "duration": 37,
    "start_time": "2023-10-07T12:09:44.549Z"
   },
   {
    "duration": 3,
    "start_time": "2023-10-07T12:09:44.588Z"
   },
   {
    "duration": 254,
    "start_time": "2023-10-07T12:09:44.593Z"
   },
   {
    "duration": 3,
    "start_time": "2023-10-07T12:09:44.848Z"
   },
   {
    "duration": 13,
    "start_time": "2023-10-07T12:09:44.852Z"
   },
   {
    "duration": 187,
    "start_time": "2023-10-07T12:09:44.866Z"
   },
   {
    "duration": 4,
    "start_time": "2023-10-07T12:09:45.058Z"
   },
   {
    "duration": 19,
    "start_time": "2023-10-07T12:09:45.063Z"
   },
   {
    "duration": 118,
    "start_time": "2023-10-07T12:09:45.084Z"
   },
   {
    "duration": 2,
    "start_time": "2023-10-07T12:09:45.205Z"
   },
   {
    "duration": 46,
    "start_time": "2023-10-07T12:09:45.210Z"
   },
   {
    "duration": 13,
    "start_time": "2023-10-07T12:09:45.258Z"
   },
   {
    "duration": 9,
    "start_time": "2023-10-07T12:09:45.272Z"
   },
   {
    "duration": 30,
    "start_time": "2023-10-07T12:09:45.283Z"
   },
   {
    "duration": 24,
    "start_time": "2023-10-07T12:09:45.315Z"
   },
   {
    "duration": 6,
    "start_time": "2023-10-07T12:09:45.340Z"
   },
   {
    "duration": 21,
    "start_time": "2023-10-07T12:09:45.347Z"
   },
   {
    "duration": 3,
    "start_time": "2023-10-07T12:09:45.370Z"
   },
   {
    "duration": 20,
    "start_time": "2023-10-07T12:09:45.375Z"
   },
   {
    "duration": 10,
    "start_time": "2023-10-07T12:09:45.397Z"
   },
   {
    "duration": 11,
    "start_time": "2023-10-07T12:09:45.409Z"
   },
   {
    "duration": 18,
    "start_time": "2023-10-07T12:09:45.421Z"
   },
   {
    "duration": 19,
    "start_time": "2023-10-07T12:09:45.441Z"
   },
   {
    "duration": 19,
    "start_time": "2023-10-07T12:09:45.462Z"
   },
   {
    "duration": 18,
    "start_time": "2023-10-07T12:09:45.483Z"
   },
   {
    "duration": 17,
    "start_time": "2023-10-07T12:09:45.503Z"
   },
   {
    "duration": 2,
    "start_time": "2023-10-07T12:09:45.523Z"
   },
   {
    "duration": 12,
    "start_time": "2023-10-07T12:09:45.527Z"
   },
   {
    "duration": 27,
    "start_time": "2023-10-07T12:09:45.541Z"
   },
   {
    "duration": 25,
    "start_time": "2023-10-07T12:09:45.570Z"
   },
   {
    "duration": 9,
    "start_time": "2023-10-07T12:09:45.596Z"
   },
   {
    "duration": 33,
    "start_time": "2023-10-07T12:09:45.606Z"
   },
   {
    "duration": 99,
    "start_time": "2023-10-07T12:09:45.640Z"
   },
   {
    "duration": 4,
    "start_time": "2023-10-07T12:09:45.744Z"
   },
   {
    "duration": 21,
    "start_time": "2023-10-07T12:09:45.749Z"
   },
   {
    "duration": 18,
    "start_time": "2023-10-07T12:09:45.772Z"
   },
   {
    "duration": 9,
    "start_time": "2023-10-07T12:09:45.791Z"
   },
   {
    "duration": 11,
    "start_time": "2023-10-07T12:09:45.802Z"
   },
   {
    "duration": 20,
    "start_time": "2023-10-07T12:09:45.814Z"
   },
   {
    "duration": 23,
    "start_time": "2023-10-07T12:09:45.835Z"
   },
   {
    "duration": 23,
    "start_time": "2023-10-07T12:09:45.859Z"
   },
   {
    "duration": 162,
    "start_time": "2023-10-07T12:09:45.884Z"
   },
   {
    "duration": 21,
    "start_time": "2023-10-07T12:09:46.047Z"
   },
   {
    "duration": 14,
    "start_time": "2023-10-07T12:09:46.070Z"
   },
   {
    "duration": 97,
    "start_time": "2023-10-07T12:09:46.085Z"
   },
   {
    "duration": 0,
    "start_time": "2023-10-07T12:09:46.184Z"
   },
   {
    "duration": 6,
    "start_time": "2023-10-07T12:09:55.362Z"
   },
   {
    "duration": 9,
    "start_time": "2023-10-07T12:09:56.200Z"
   },
   {
    "duration": 6,
    "start_time": "2023-10-07T12:20:46.418Z"
   },
   {
    "duration": 9,
    "start_time": "2023-10-07T12:20:47.162Z"
   },
   {
    "duration": 11,
    "start_time": "2023-10-07T12:21:11.795Z"
   },
   {
    "duration": 5,
    "start_time": "2023-10-07T12:21:13.003Z"
   },
   {
    "duration": 5,
    "start_time": "2023-10-07T12:21:38.939Z"
   },
   {
    "duration": 7,
    "start_time": "2023-10-07T12:21:39.635Z"
   },
   {
    "duration": 11,
    "start_time": "2023-10-07T12:22:01.003Z"
   },
   {
    "duration": 5,
    "start_time": "2023-10-07T12:43:15.293Z"
   },
   {
    "duration": 10,
    "start_time": "2023-10-07T12:45:06.213Z"
   },
   {
    "duration": 10,
    "start_time": "2023-10-07T12:45:26.453Z"
   },
   {
    "duration": 5,
    "start_time": "2023-10-07T12:46:39.735Z"
   },
   {
    "duration": 10,
    "start_time": "2023-10-07T12:48:08.656Z"
   },
   {
    "duration": 6,
    "start_time": "2023-10-07T12:48:26.440Z"
   },
   {
    "duration": 6,
    "start_time": "2023-10-07T12:48:35.471Z"
   },
   {
    "duration": 8,
    "start_time": "2023-10-07T12:50:27.417Z"
   },
   {
    "duration": 6,
    "start_time": "2023-10-07T12:50:45.985Z"
   },
   {
    "duration": 6,
    "start_time": "2023-10-07T12:50:51.658Z"
   },
   {
    "duration": 5,
    "start_time": "2023-10-07T12:51:00.561Z"
   },
   {
    "duration": 6,
    "start_time": "2023-10-07T12:52:33.875Z"
   },
   {
    "duration": 391,
    "start_time": "2023-10-07T12:53:20.611Z"
   },
   {
    "duration": 158,
    "start_time": "2023-10-07T12:53:38.980Z"
   },
   {
    "duration": 6,
    "start_time": "2023-10-07T12:55:12.372Z"
   },
   {
    "duration": 158,
    "start_time": "2023-10-07T12:55:13.444Z"
   },
   {
    "duration": 3,
    "start_time": "2023-10-07T12:57:01.088Z"
   },
   {
    "duration": 1226,
    "start_time": "2023-10-07T12:57:01.093Z"
   },
   {
    "duration": 2,
    "start_time": "2023-10-07T12:57:02.321Z"
   },
   {
    "duration": 130,
    "start_time": "2023-10-07T12:57:02.326Z"
   },
   {
    "duration": 12,
    "start_time": "2023-10-07T12:57:02.459Z"
   },
   {
    "duration": 43,
    "start_time": "2023-10-07T12:57:02.473Z"
   },
   {
    "duration": 127,
    "start_time": "2023-10-07T12:57:02.517Z"
   },
   {
    "duration": 148,
    "start_time": "2023-10-07T12:57:02.646Z"
   },
   {
    "duration": 39,
    "start_time": "2023-10-07T12:57:02.795Z"
   },
   {
    "duration": 213,
    "start_time": "2023-10-07T12:57:02.835Z"
   },
   {
    "duration": 3,
    "start_time": "2023-10-07T12:57:03.050Z"
   },
   {
    "duration": 48,
    "start_time": "2023-10-07T12:57:03.054Z"
   },
   {
    "duration": 152,
    "start_time": "2023-10-07T12:57:03.104Z"
   },
   {
    "duration": 3,
    "start_time": "2023-10-07T12:57:03.260Z"
   },
   {
    "duration": 17,
    "start_time": "2023-10-07T12:57:03.265Z"
   },
   {
    "duration": 123,
    "start_time": "2023-10-07T12:57:03.284Z"
   },
   {
    "duration": 3,
    "start_time": "2023-10-07T12:57:03.409Z"
   },
   {
    "duration": 34,
    "start_time": "2023-10-07T12:57:03.413Z"
   },
   {
    "duration": 11,
    "start_time": "2023-10-07T12:57:03.449Z"
   },
   {
    "duration": 22,
    "start_time": "2023-10-07T12:57:03.462Z"
   },
   {
    "duration": 27,
    "start_time": "2023-10-07T12:57:03.486Z"
   },
   {
    "duration": 13,
    "start_time": "2023-10-07T12:57:03.514Z"
   },
   {
    "duration": 3,
    "start_time": "2023-10-07T12:57:03.528Z"
   },
   {
    "duration": 20,
    "start_time": "2023-10-07T12:57:03.532Z"
   },
   {
    "duration": 12,
    "start_time": "2023-10-07T12:57:03.553Z"
   },
   {
    "duration": 34,
    "start_time": "2023-10-07T12:57:03.567Z"
   },
   {
    "duration": 11,
    "start_time": "2023-10-07T12:57:03.603Z"
   },
   {
    "duration": 15,
    "start_time": "2023-10-07T12:57:03.616Z"
   },
   {
    "duration": 7,
    "start_time": "2023-10-07T12:57:03.633Z"
   },
   {
    "duration": 7,
    "start_time": "2023-10-07T12:57:03.642Z"
   },
   {
    "duration": 16,
    "start_time": "2023-10-07T12:57:03.651Z"
   },
   {
    "duration": 25,
    "start_time": "2023-10-07T12:57:03.668Z"
   },
   {
    "duration": 17,
    "start_time": "2023-10-07T12:57:03.694Z"
   },
   {
    "duration": 19,
    "start_time": "2023-10-07T12:57:03.713Z"
   },
   {
    "duration": 25,
    "start_time": "2023-10-07T12:57:03.733Z"
   },
   {
    "duration": 55,
    "start_time": "2023-10-07T12:57:03.760Z"
   },
   {
    "duration": 24,
    "start_time": "2023-10-07T12:57:03.817Z"
   },
   {
    "duration": 14,
    "start_time": "2023-10-07T12:57:03.843Z"
   },
   {
    "duration": 20,
    "start_time": "2023-10-07T12:57:03.858Z"
   },
   {
    "duration": 11,
    "start_time": "2023-10-07T12:57:03.880Z"
   },
   {
    "duration": 17,
    "start_time": "2023-10-07T12:57:03.895Z"
   },
   {
    "duration": 19,
    "start_time": "2023-10-07T12:57:03.914Z"
   },
   {
    "duration": 23,
    "start_time": "2023-10-07T12:57:03.934Z"
   },
   {
    "duration": 24,
    "start_time": "2023-10-07T12:57:03.958Z"
   },
   {
    "duration": 30,
    "start_time": "2023-10-07T12:57:03.983Z"
   },
   {
    "duration": 9,
    "start_time": "2023-10-07T12:57:04.015Z"
   },
   {
    "duration": 15,
    "start_time": "2023-10-07T12:57:04.025Z"
   },
   {
    "duration": 11,
    "start_time": "2023-10-07T12:57:04.042Z"
   },
   {
    "duration": 54,
    "start_time": "2023-10-07T12:57:04.054Z"
   },
   {
    "duration": 67,
    "start_time": "2023-10-07T12:57:04.110Z"
   },
   {
    "duration": 35,
    "start_time": "2023-10-07T12:57:04.178Z"
   },
   {
    "duration": 13,
    "start_time": "2023-10-07T12:57:04.215Z"
   },
   {
    "duration": 14,
    "start_time": "2023-10-07T12:57:04.229Z"
   },
   {
    "duration": 34,
    "start_time": "2023-10-07T12:57:04.245Z"
   },
   {
    "duration": 70,
    "start_time": "2023-10-07T12:57:04.281Z"
   },
   {
    "duration": 43,
    "start_time": "2023-10-07T12:57:04.353Z"
   },
   {
    "duration": 24,
    "start_time": "2023-10-07T12:57:04.399Z"
   },
   {
    "duration": 21,
    "start_time": "2023-10-07T12:57:04.426Z"
   },
   {
    "duration": 19,
    "start_time": "2023-10-07T12:57:04.449Z"
   },
   {
    "duration": 28,
    "start_time": "2023-10-07T12:57:04.471Z"
   },
   {
    "duration": 9,
    "start_time": "2023-10-07T12:57:04.502Z"
   },
   {
    "duration": 26,
    "start_time": "2023-10-07T12:57:04.514Z"
   },
   {
    "duration": 20,
    "start_time": "2023-10-07T12:57:04.545Z"
   },
   {
    "duration": 188,
    "start_time": "2023-10-07T12:57:04.567Z"
   },
   {
    "duration": 102,
    "start_time": "2023-10-07T13:00:45.689Z"
   },
   {
    "duration": 15,
    "start_time": "2023-10-07T13:01:00.281Z"
   },
   {
    "duration": 13,
    "start_time": "2023-10-07T13:01:08.753Z"
   },
   {
    "duration": 1336,
    "start_time": "2023-10-07T13:01:25.257Z"
   },
   {
    "duration": 218,
    "start_time": "2023-10-07T13:01:35.863Z"
   },
   {
    "duration": 150,
    "start_time": "2023-10-07T13:01:57.562Z"
   },
   {
    "duration": 166,
    "start_time": "2023-10-07T13:04:33.579Z"
   },
   {
    "duration": 169,
    "start_time": "2023-10-07T13:04:45.427Z"
   },
   {
    "duration": 148,
    "start_time": "2023-10-07T13:05:28.628Z"
   },
   {
    "duration": 6,
    "start_time": "2023-10-07T13:06:46.210Z"
   },
   {
    "duration": 176,
    "start_time": "2023-10-07T13:07:47.445Z"
   },
   {
    "duration": 123,
    "start_time": "2023-10-07T13:08:06.815Z"
   },
   {
    "duration": 163,
    "start_time": "2023-10-07T13:09:11.070Z"
   },
   {
    "duration": 147,
    "start_time": "2023-10-07T13:09:26.983Z"
   },
   {
    "duration": 161,
    "start_time": "2023-10-07T13:09:56.879Z"
   },
   {
    "duration": 161,
    "start_time": "2023-10-07T13:10:12.896Z"
   },
   {
    "duration": 214,
    "start_time": "2023-10-07T13:11:44.474Z"
   },
   {
    "duration": 143,
    "start_time": "2023-10-07T13:12:01.913Z"
   },
   {
    "duration": 158,
    "start_time": "2023-10-07T13:12:09.362Z"
   },
   {
    "duration": 170,
    "start_time": "2023-10-07T13:13:43.884Z"
   },
   {
    "duration": 155,
    "start_time": "2023-10-07T13:14:35.442Z"
   },
   {
    "duration": 207,
    "start_time": "2023-10-07T13:14:44.811Z"
   },
   {
    "duration": 146,
    "start_time": "2023-10-07T13:16:49.382Z"
   },
   {
    "duration": 137,
    "start_time": "2023-10-07T13:16:58.613Z"
   },
   {
    "duration": 147,
    "start_time": "2023-10-07T13:19:02.486Z"
   },
   {
    "duration": 153,
    "start_time": "2023-10-07T13:20:06.615Z"
   },
   {
    "duration": 200,
    "start_time": "2023-10-07T13:20:17.189Z"
   },
   {
    "duration": 171,
    "start_time": "2023-10-07T13:20:24.031Z"
   },
   {
    "duration": 147,
    "start_time": "2023-10-07T13:20:41.631Z"
   },
   {
    "duration": 137,
    "start_time": "2023-10-07T13:20:53.199Z"
   },
   {
    "duration": 154,
    "start_time": "2023-10-07T13:21:16.577Z"
   },
   {
    "duration": 4,
    "start_time": "2023-10-07T13:22:18.919Z"
   },
   {
    "duration": 1192,
    "start_time": "2023-10-07T13:22:18.924Z"
   },
   {
    "duration": 3,
    "start_time": "2023-10-07T13:22:20.118Z"
   },
   {
    "duration": 50,
    "start_time": "2023-10-07T13:22:20.123Z"
   },
   {
    "duration": 3,
    "start_time": "2023-10-07T13:22:20.176Z"
   },
   {
    "duration": 27,
    "start_time": "2023-10-07T13:22:20.180Z"
   },
   {
    "duration": 7,
    "start_time": "2023-10-07T13:22:20.209Z"
   },
   {
    "duration": 36,
    "start_time": "2023-10-07T13:22:20.217Z"
   },
   {
    "duration": 10,
    "start_time": "2023-10-07T13:22:20.254Z"
   },
   {
    "duration": 203,
    "start_time": "2023-10-07T13:22:20.265Z"
   },
   {
    "duration": 3,
    "start_time": "2023-10-07T13:22:20.469Z"
   },
   {
    "duration": 34,
    "start_time": "2023-10-07T13:22:20.473Z"
   },
   {
    "duration": 206,
    "start_time": "2023-10-07T13:22:20.509Z"
   },
   {
    "duration": 2,
    "start_time": "2023-10-07T13:22:20.718Z"
   },
   {
    "duration": 26,
    "start_time": "2023-10-07T13:22:20.722Z"
   },
   {
    "duration": 129,
    "start_time": "2023-10-07T13:22:20.750Z"
   },
   {
    "duration": 3,
    "start_time": "2023-10-07T13:22:20.881Z"
   },
   {
    "duration": 35,
    "start_time": "2023-10-07T13:22:20.886Z"
   },
   {
    "duration": 23,
    "start_time": "2023-10-07T13:22:20.923Z"
   },
   {
    "duration": 29,
    "start_time": "2023-10-07T13:22:20.947Z"
   },
   {
    "duration": 19,
    "start_time": "2023-10-07T13:22:20.978Z"
   },
   {
    "duration": 18,
    "start_time": "2023-10-07T13:22:20.999Z"
   },
   {
    "duration": 18,
    "start_time": "2023-10-07T13:22:21.019Z"
   },
   {
    "duration": 37,
    "start_time": "2023-10-07T13:22:21.039Z"
   },
   {
    "duration": 19,
    "start_time": "2023-10-07T13:22:21.079Z"
   },
   {
    "duration": 43,
    "start_time": "2023-10-07T13:22:21.100Z"
   },
   {
    "duration": 10,
    "start_time": "2023-10-07T13:22:21.145Z"
   },
   {
    "duration": 23,
    "start_time": "2023-10-07T13:22:21.156Z"
   },
   {
    "duration": 16,
    "start_time": "2023-10-07T13:22:21.181Z"
   },
   {
    "duration": 8,
    "start_time": "2023-10-07T13:22:21.199Z"
   },
   {
    "duration": 11,
    "start_time": "2023-10-07T13:22:21.208Z"
   },
   {
    "duration": 23,
    "start_time": "2023-10-07T13:22:21.221Z"
   },
   {
    "duration": 23,
    "start_time": "2023-10-07T13:22:21.246Z"
   },
   {
    "duration": 12,
    "start_time": "2023-10-07T13:22:21.271Z"
   },
   {
    "duration": 36,
    "start_time": "2023-10-07T13:22:21.284Z"
   },
   {
    "duration": 14,
    "start_time": "2023-10-07T13:22:21.321Z"
   },
   {
    "duration": 26,
    "start_time": "2023-10-07T13:22:21.336Z"
   },
   {
    "duration": 19,
    "start_time": "2023-10-07T13:22:21.363Z"
   },
   {
    "duration": 24,
    "start_time": "2023-10-07T13:22:21.384Z"
   },
   {
    "duration": 23,
    "start_time": "2023-10-07T13:22:21.411Z"
   },
   {
    "duration": 22,
    "start_time": "2023-10-07T13:22:21.438Z"
   },
   {
    "duration": 32,
    "start_time": "2023-10-07T13:22:21.462Z"
   },
   {
    "duration": 25,
    "start_time": "2023-10-07T13:22:21.496Z"
   },
   {
    "duration": 33,
    "start_time": "2023-10-07T13:22:21.523Z"
   },
   {
    "duration": 24,
    "start_time": "2023-10-07T13:22:21.559Z"
   },
   {
    "duration": 9,
    "start_time": "2023-10-07T13:22:21.585Z"
   },
   {
    "duration": 32,
    "start_time": "2023-10-07T13:22:21.596Z"
   },
   {
    "duration": 20,
    "start_time": "2023-10-07T13:22:21.630Z"
   },
   {
    "duration": 28,
    "start_time": "2023-10-07T13:22:21.652Z"
   },
   {
    "duration": 34,
    "start_time": "2023-10-07T13:22:21.682Z"
   },
   {
    "duration": 21,
    "start_time": "2023-10-07T13:22:21.718Z"
   },
   {
    "duration": 18,
    "start_time": "2023-10-07T13:22:21.741Z"
   },
   {
    "duration": 18,
    "start_time": "2023-10-07T13:22:21.760Z"
   },
   {
    "duration": 25,
    "start_time": "2023-10-07T13:22:21.780Z"
   },
   {
    "duration": 23,
    "start_time": "2023-10-07T13:22:21.807Z"
   },
   {
    "duration": 9,
    "start_time": "2023-10-07T13:22:21.831Z"
   },
   {
    "duration": 7,
    "start_time": "2023-10-07T13:22:21.842Z"
   },
   {
    "duration": 17,
    "start_time": "2023-10-07T13:22:21.850Z"
   },
   {
    "duration": 12,
    "start_time": "2023-10-07T13:22:21.868Z"
   },
   {
    "duration": 15,
    "start_time": "2023-10-07T13:22:21.881Z"
   },
   {
    "duration": 5,
    "start_time": "2023-10-07T13:22:21.897Z"
   },
   {
    "duration": 16,
    "start_time": "2023-10-07T13:22:21.903Z"
   },
   {
    "duration": 20,
    "start_time": "2023-10-07T13:22:21.921Z"
   },
   {
    "duration": 11,
    "start_time": "2023-10-07T13:22:21.943Z"
   },
   {
    "duration": 177,
    "start_time": "2023-10-07T13:22:21.957Z"
   },
   {
    "duration": 180,
    "start_time": "2023-10-07T13:22:22.136Z"
   },
   {
    "duration": 3,
    "start_time": "2023-10-07T13:22:22.317Z"
   },
   {
    "duration": 21,
    "start_time": "2023-10-07T13:22:22.322Z"
   },
   {
    "duration": 135,
    "start_time": "2023-10-07T13:22:22.344Z"
   },
   {
    "duration": 150,
    "start_time": "2023-10-07T13:22:22.481Z"
   },
   {
    "duration": 3,
    "start_time": "2023-10-07T13:22:22.632Z"
   },
   {
    "duration": 15,
    "start_time": "2023-10-07T13:22:22.644Z"
   },
   {
    "duration": 204,
    "start_time": "2023-10-07T13:22:22.660Z"
   },
   {
    "duration": 159,
    "start_time": "2023-10-07T13:22:33.413Z"
   },
   {
    "duration": 6,
    "start_time": "2023-10-07T13:25:05.992Z"
   },
   {
    "duration": 5,
    "start_time": "2023-10-07T13:25:59.224Z"
   },
   {
    "duration": 496,
    "start_time": "2023-10-07T13:27:20.169Z"
   },
   {
    "duration": 419,
    "start_time": "2023-10-07T13:27:41.264Z"
   },
   {
    "duration": 483,
    "start_time": "2023-10-07T13:27:48.696Z"
   },
   {
    "duration": 444,
    "start_time": "2023-10-07T13:28:42.538Z"
   },
   {
    "duration": 4,
    "start_time": "2023-10-07T13:30:23.178Z"
   },
   {
    "duration": 1127,
    "start_time": "2023-10-07T13:30:23.184Z"
   },
   {
    "duration": 2,
    "start_time": "2023-10-07T13:30:24.313Z"
   },
   {
    "duration": 36,
    "start_time": "2023-10-07T13:30:24.317Z"
   },
   {
    "duration": 3,
    "start_time": "2023-10-07T13:30:24.354Z"
   },
   {
    "duration": 25,
    "start_time": "2023-10-07T13:30:24.358Z"
   },
   {
    "duration": 3,
    "start_time": "2023-10-07T13:30:24.386Z"
   },
   {
    "duration": 17,
    "start_time": "2023-10-07T13:30:24.391Z"
   },
   {
    "duration": 17,
    "start_time": "2023-10-07T13:30:24.410Z"
   },
   {
    "duration": 253,
    "start_time": "2023-10-07T13:30:24.431Z"
   },
   {
    "duration": 3,
    "start_time": "2023-10-07T13:30:24.685Z"
   },
   {
    "duration": 19,
    "start_time": "2023-10-07T13:30:24.690Z"
   },
   {
    "duration": 168,
    "start_time": "2023-10-07T13:30:24.711Z"
   },
   {
    "duration": 3,
    "start_time": "2023-10-07T13:30:24.881Z"
   },
   {
    "duration": 11,
    "start_time": "2023-10-07T13:30:24.886Z"
   },
   {
    "duration": 129,
    "start_time": "2023-10-07T13:30:24.899Z"
   },
   {
    "duration": 3,
    "start_time": "2023-10-07T13:30:25.030Z"
   },
   {
    "duration": 29,
    "start_time": "2023-10-07T13:30:25.044Z"
   },
   {
    "duration": 12,
    "start_time": "2023-10-07T13:30:25.074Z"
   },
   {
    "duration": 10,
    "start_time": "2023-10-07T13:30:25.087Z"
   },
   {
    "duration": 46,
    "start_time": "2023-10-07T13:30:25.098Z"
   },
   {
    "duration": 10,
    "start_time": "2023-10-07T13:30:25.146Z"
   },
   {
    "duration": 2,
    "start_time": "2023-10-07T13:30:25.158Z"
   },
   {
    "duration": 22,
    "start_time": "2023-10-07T13:30:25.162Z"
   },
   {
    "duration": 2,
    "start_time": "2023-10-07T13:30:25.185Z"
   },
   {
    "duration": 18,
    "start_time": "2023-10-07T13:30:25.189Z"
   },
   {
    "duration": 10,
    "start_time": "2023-10-07T13:30:25.208Z"
   },
   {
    "duration": 11,
    "start_time": "2023-10-07T13:30:25.222Z"
   },
   {
    "duration": 7,
    "start_time": "2023-10-07T13:30:25.247Z"
   },
   {
    "duration": 6,
    "start_time": "2023-10-07T13:30:25.256Z"
   },
   {
    "duration": 8,
    "start_time": "2023-10-07T13:30:25.264Z"
   },
   {
    "duration": 10,
    "start_time": "2023-10-07T13:30:25.274Z"
   },
   {
    "duration": 11,
    "start_time": "2023-10-07T13:30:25.285Z"
   },
   {
    "duration": 26,
    "start_time": "2023-10-07T13:30:25.298Z"
   },
   {
    "duration": 18,
    "start_time": "2023-10-07T13:30:25.326Z"
   },
   {
    "duration": 10,
    "start_time": "2023-10-07T13:30:25.346Z"
   },
   {
    "duration": 15,
    "start_time": "2023-10-07T13:30:25.358Z"
   },
   {
    "duration": 5,
    "start_time": "2023-10-07T13:30:25.375Z"
   },
   {
    "duration": 9,
    "start_time": "2023-10-07T13:30:25.381Z"
   },
   {
    "duration": 12,
    "start_time": "2023-10-07T13:30:25.392Z"
   },
   {
    "duration": 19,
    "start_time": "2023-10-07T13:30:25.405Z"
   },
   {
    "duration": 7,
    "start_time": "2023-10-07T13:30:25.426Z"
   },
   {
    "duration": 14,
    "start_time": "2023-10-07T13:30:25.434Z"
   },
   {
    "duration": 4,
    "start_time": "2023-10-07T13:30:25.450Z"
   },
   {
    "duration": 13,
    "start_time": "2023-10-07T13:30:25.456Z"
   },
   {
    "duration": 23,
    "start_time": "2023-10-07T13:30:25.471Z"
   },
   {
    "duration": 52,
    "start_time": "2023-10-07T13:30:25.496Z"
   },
   {
    "duration": 17,
    "start_time": "2023-10-07T13:30:25.550Z"
   },
   {
    "duration": 24,
    "start_time": "2023-10-07T13:30:25.568Z"
   },
   {
    "duration": 47,
    "start_time": "2023-10-07T13:30:25.594Z"
   },
   {
    "duration": 9,
    "start_time": "2023-10-07T13:30:25.643Z"
   },
   {
    "duration": 13,
    "start_time": "2023-10-07T13:30:25.653Z"
   },
   {
    "duration": 11,
    "start_time": "2023-10-07T13:30:25.667Z"
   },
   {
    "duration": 11,
    "start_time": "2023-10-07T13:30:25.679Z"
   },
   {
    "duration": 24,
    "start_time": "2023-10-07T13:30:25.691Z"
   },
   {
    "duration": 21,
    "start_time": "2023-10-07T13:30:25.716Z"
   },
   {
    "duration": 12,
    "start_time": "2023-10-07T13:30:25.738Z"
   },
   {
    "duration": 16,
    "start_time": "2023-10-07T13:30:25.752Z"
   },
   {
    "duration": 14,
    "start_time": "2023-10-07T13:30:25.769Z"
   },
   {
    "duration": 31,
    "start_time": "2023-10-07T13:30:25.784Z"
   },
   {
    "duration": 27,
    "start_time": "2023-10-07T13:30:25.817Z"
   },
   {
    "duration": 16,
    "start_time": "2023-10-07T13:30:25.846Z"
   },
   {
    "duration": 4,
    "start_time": "2023-10-07T13:30:25.863Z"
   },
   {
    "duration": 10,
    "start_time": "2023-10-07T13:30:25.868Z"
   },
   {
    "duration": 163,
    "start_time": "2023-10-07T13:30:25.880Z"
   },
   {
    "duration": 164,
    "start_time": "2023-10-07T13:30:26.045Z"
   },
   {
    "duration": 3,
    "start_time": "2023-10-07T13:30:26.210Z"
   },
   {
    "duration": 25,
    "start_time": "2023-10-07T13:30:26.214Z"
   },
   {
    "duration": 116,
    "start_time": "2023-10-07T13:30:26.240Z"
   },
   {
    "duration": 147,
    "start_time": "2023-10-07T13:30:26.358Z"
   },
   {
    "duration": 2,
    "start_time": "2023-10-07T13:30:26.507Z"
   },
   {
    "duration": 9,
    "start_time": "2023-10-07T13:30:26.510Z"
   },
   {
    "duration": 23,
    "start_time": "2023-10-07T13:30:26.521Z"
   },
   {
    "duration": 151,
    "start_time": "2023-10-07T13:30:26.545Z"
   },
   {
    "duration": 125,
    "start_time": "2023-10-07T13:30:26.698Z"
   },
   {
    "duration": 6,
    "start_time": "2023-10-07T13:34:32.422Z"
   },
   {
    "duration": 234,
    "start_time": "2023-10-07T13:34:35.374Z"
   },
   {
    "duration": 6,
    "start_time": "2023-10-07T13:35:28.455Z"
   },
   {
    "duration": 4,
    "start_time": "2023-10-07T13:36:24.721Z"
   },
   {
    "duration": 1205,
    "start_time": "2023-10-07T13:36:24.728Z"
   },
   {
    "duration": 2,
    "start_time": "2023-10-07T13:36:25.935Z"
   },
   {
    "duration": 48,
    "start_time": "2023-10-07T13:36:25.946Z"
   },
   {
    "duration": 2,
    "start_time": "2023-10-07T13:36:25.996Z"
   },
   {
    "duration": 28,
    "start_time": "2023-10-07T13:36:26.000Z"
   },
   {
    "duration": 26,
    "start_time": "2023-10-07T13:36:26.030Z"
   },
   {
    "duration": 50,
    "start_time": "2023-10-07T13:36:26.058Z"
   },
   {
    "duration": 15,
    "start_time": "2023-10-07T13:36:26.110Z"
   },
   {
    "duration": 227,
    "start_time": "2023-10-07T13:36:26.128Z"
   },
   {
    "duration": 3,
    "start_time": "2023-10-07T13:36:26.356Z"
   },
   {
    "duration": 28,
    "start_time": "2023-10-07T13:36:26.360Z"
   },
   {
    "duration": 195,
    "start_time": "2023-10-07T13:36:26.390Z"
   },
   {
    "duration": 3,
    "start_time": "2023-10-07T13:36:26.587Z"
   },
   {
    "duration": 43,
    "start_time": "2023-10-07T13:36:26.592Z"
   },
   {
    "duration": 137,
    "start_time": "2023-10-07T13:36:26.637Z"
   },
   {
    "duration": 2,
    "start_time": "2023-10-07T13:36:26.776Z"
   },
   {
    "duration": 50,
    "start_time": "2023-10-07T13:36:26.779Z"
   },
   {
    "duration": 11,
    "start_time": "2023-10-07T13:36:26.831Z"
   },
   {
    "duration": 25,
    "start_time": "2023-10-07T13:36:26.844Z"
   },
   {
    "duration": 12,
    "start_time": "2023-10-07T13:36:26.871Z"
   },
   {
    "duration": 33,
    "start_time": "2023-10-07T13:36:26.884Z"
   },
   {
    "duration": 17,
    "start_time": "2023-10-07T13:36:26.919Z"
   },
   {
    "duration": 46,
    "start_time": "2023-10-07T13:36:26.938Z"
   },
   {
    "duration": 27,
    "start_time": "2023-10-07T13:36:26.986Z"
   },
   {
    "duration": 51,
    "start_time": "2023-10-07T13:36:27.015Z"
   },
   {
    "duration": 17,
    "start_time": "2023-10-07T13:36:27.068Z"
   },
   {
    "duration": 24,
    "start_time": "2023-10-07T13:36:27.090Z"
   },
   {
    "duration": 26,
    "start_time": "2023-10-07T13:36:27.116Z"
   },
   {
    "duration": 46,
    "start_time": "2023-10-07T13:36:27.144Z"
   },
   {
    "duration": 14,
    "start_time": "2023-10-07T13:36:27.192Z"
   },
   {
    "duration": 27,
    "start_time": "2023-10-07T13:36:27.208Z"
   },
   {
    "duration": 31,
    "start_time": "2023-10-07T13:36:27.237Z"
   },
   {
    "duration": 24,
    "start_time": "2023-10-07T13:36:27.269Z"
   },
   {
    "duration": 28,
    "start_time": "2023-10-07T13:36:27.295Z"
   },
   {
    "duration": 14,
    "start_time": "2023-10-07T13:36:27.325Z"
   },
   {
    "duration": 45,
    "start_time": "2023-10-07T13:36:27.340Z"
   },
   {
    "duration": 15,
    "start_time": "2023-10-07T13:36:27.387Z"
   },
   {
    "duration": 44,
    "start_time": "2023-10-07T13:36:27.404Z"
   },
   {
    "duration": 21,
    "start_time": "2023-10-07T13:36:27.449Z"
   },
   {
    "duration": 19,
    "start_time": "2023-10-07T13:36:27.472Z"
   },
   {
    "duration": 16,
    "start_time": "2023-10-07T13:36:27.493Z"
   },
   {
    "duration": 44,
    "start_time": "2023-10-07T13:36:27.511Z"
   },
   {
    "duration": 18,
    "start_time": "2023-10-07T13:36:27.556Z"
   },
   {
    "duration": 8,
    "start_time": "2023-10-07T13:36:27.575Z"
   },
   {
    "duration": 27,
    "start_time": "2023-10-07T13:36:27.585Z"
   },
   {
    "duration": 25,
    "start_time": "2023-10-07T13:36:27.614Z"
   },
   {
    "duration": 36,
    "start_time": "2023-10-07T13:36:27.640Z"
   },
   {
    "duration": 41,
    "start_time": "2023-10-07T13:36:27.679Z"
   },
   {
    "duration": 47,
    "start_time": "2023-10-07T13:36:27.721Z"
   },
   {
    "duration": 29,
    "start_time": "2023-10-07T13:36:27.770Z"
   },
   {
    "duration": 32,
    "start_time": "2023-10-07T13:36:27.800Z"
   },
   {
    "duration": 29,
    "start_time": "2023-10-07T13:36:27.833Z"
   },
   {
    "duration": 27,
    "start_time": "2023-10-07T13:36:27.864Z"
   },
   {
    "duration": 15,
    "start_time": "2023-10-07T13:36:27.893Z"
   },
   {
    "duration": 27,
    "start_time": "2023-10-07T13:36:27.909Z"
   },
   {
    "duration": 20,
    "start_time": "2023-10-07T13:36:27.938Z"
   },
   {
    "duration": 43,
    "start_time": "2023-10-07T13:36:27.960Z"
   },
   {
    "duration": 25,
    "start_time": "2023-10-07T13:36:28.004Z"
   },
   {
    "duration": 44,
    "start_time": "2023-10-07T13:36:28.031Z"
   },
   {
    "duration": 46,
    "start_time": "2023-10-07T13:36:28.076Z"
   },
   {
    "duration": 39,
    "start_time": "2023-10-07T13:36:28.124Z"
   },
   {
    "duration": 22,
    "start_time": "2023-10-07T13:36:28.165Z"
   },
   {
    "duration": 30,
    "start_time": "2023-10-07T13:36:28.189Z"
   },
   {
    "duration": 162,
    "start_time": "2023-10-07T13:36:28.220Z"
   },
   {
    "duration": 170,
    "start_time": "2023-10-07T13:36:28.383Z"
   },
   {
    "duration": 3,
    "start_time": "2023-10-07T13:36:28.554Z"
   },
   {
    "duration": 24,
    "start_time": "2023-10-07T13:36:28.558Z"
   },
   {
    "duration": 108,
    "start_time": "2023-10-07T13:36:28.583Z"
   },
   {
    "duration": 138,
    "start_time": "2023-10-07T13:36:28.693Z"
   },
   {
    "duration": 2,
    "start_time": "2023-10-07T13:36:28.833Z"
   },
   {
    "duration": 2,
    "start_time": "2023-10-07T13:36:28.844Z"
   },
   {
    "duration": 15,
    "start_time": "2023-10-07T13:36:28.848Z"
   },
   {
    "duration": 167,
    "start_time": "2023-10-07T13:36:28.864Z"
   },
   {
    "duration": 103,
    "start_time": "2023-10-07T13:36:29.033Z"
   },
   {
    "duration": 469,
    "start_time": "2023-10-07T13:37:18.975Z"
   },
   {
    "duration": 7,
    "start_time": "2023-10-07T13:39:01.853Z"
   },
   {
    "duration": 7,
    "start_time": "2023-10-07T13:39:21.878Z"
   },
   {
    "duration": 6,
    "start_time": "2023-10-07T13:39:43.879Z"
   },
   {
    "duration": 5,
    "start_time": "2023-10-07T13:40:21.487Z"
   },
   {
    "duration": 225,
    "start_time": "2023-10-07T13:40:28.382Z"
   },
   {
    "duration": 449,
    "start_time": "2023-10-07T13:40:33.135Z"
   },
   {
    "duration": 5,
    "start_time": "2023-10-07T13:43:10.449Z"
   },
   {
    "duration": 5,
    "start_time": "2023-10-07T13:43:11.296Z"
   },
   {
    "duration": 10,
    "start_time": "2023-10-07T13:45:36.954Z"
   },
   {
    "duration": 8,
    "start_time": "2023-10-07T13:45:37.683Z"
   },
   {
    "duration": 8,
    "start_time": "2023-10-07T13:47:36.757Z"
   },
   {
    "duration": 7,
    "start_time": "2023-10-07T13:47:37.333Z"
   },
   {
    "duration": 8,
    "start_time": "2023-10-07T13:49:12.957Z"
   },
   {
    "duration": 9,
    "start_time": "2023-10-07T13:49:14.094Z"
   },
   {
    "duration": 8,
    "start_time": "2023-10-07T13:49:26.525Z"
   },
   {
    "duration": 9,
    "start_time": "2023-10-07T13:49:31.134Z"
   },
   {
    "duration": 145,
    "start_time": "2023-10-07T13:50:21.664Z"
   },
   {
    "duration": 229,
    "start_time": "2023-10-07T13:51:07.127Z"
   },
   {
    "duration": 11,
    "start_time": "2023-10-07T13:53:46.499Z"
   },
   {
    "duration": 9,
    "start_time": "2023-10-07T13:55:12.059Z"
   },
   {
    "duration": 118,
    "start_time": "2023-10-07T13:57:36.485Z"
   },
   {
    "duration": 191,
    "start_time": "2023-10-07T13:57:52.221Z"
   },
   {
    "duration": 10,
    "start_time": "2023-10-07T13:58:10.493Z"
   },
   {
    "duration": 113,
    "start_time": "2023-10-07T13:58:17.967Z"
   },
   {
    "duration": 184,
    "start_time": "2023-10-07T14:01:25.713Z"
   },
   {
    "duration": 171,
    "start_time": "2023-10-07T14:02:15.053Z"
   },
   {
    "duration": 4,
    "start_time": "2023-10-07T14:07:19.286Z"
   },
   {
    "duration": 6,
    "start_time": "2023-10-07T14:07:37.990Z"
   },
   {
    "duration": 5,
    "start_time": "2023-10-07T14:08:52.934Z"
   },
   {
    "duration": 5,
    "start_time": "2023-10-07T14:08:53.671Z"
   },
   {
    "duration": 130,
    "start_time": "2023-10-07T14:11:47.001Z"
   },
   {
    "duration": 92,
    "start_time": "2023-10-07T14:12:36.867Z"
   },
   {
    "duration": 87,
    "start_time": "2023-10-07T14:12:52.810Z"
   },
   {
    "duration": 77,
    "start_time": "2023-10-07T14:12:58.453Z"
   },
   {
    "duration": 215,
    "start_time": "2023-10-07T14:13:06.570Z"
   },
   {
    "duration": 144,
    "start_time": "2023-10-07T14:13:13.237Z"
   },
   {
    "duration": 147,
    "start_time": "2023-10-07T14:13:37.127Z"
   },
   {
    "duration": 135,
    "start_time": "2023-10-07T14:13:45.811Z"
   },
   {
    "duration": 7,
    "start_time": "2023-10-07T14:15:49.141Z"
   },
   {
    "duration": 7,
    "start_time": "2023-10-07T14:15:49.885Z"
   },
   {
    "duration": 4,
    "start_time": "2023-10-07T14:16:13.997Z"
   },
   {
    "duration": 6,
    "start_time": "2023-10-07T14:16:14.390Z"
   },
   {
    "duration": 5,
    "start_time": "2023-10-07T14:16:14.763Z"
   },
   {
    "duration": 5,
    "start_time": "2023-10-07T14:16:15.085Z"
   },
   {
    "duration": 143,
    "start_time": "2023-10-07T14:16:15.637Z"
   },
   {
    "duration": 4,
    "start_time": "2023-10-07T14:23:26.156Z"
   },
   {
    "duration": 14,
    "start_time": "2023-10-07T14:23:43.164Z"
   },
   {
    "duration": 4,
    "start_time": "2023-10-07T14:24:25.132Z"
   },
   {
    "duration": 11,
    "start_time": "2023-10-07T14:24:25.833Z"
   },
   {
    "duration": 5,
    "start_time": "2023-10-07T14:24:32.533Z"
   },
   {
    "duration": 11,
    "start_time": "2023-10-07T14:24:33.056Z"
   },
   {
    "duration": 5,
    "start_time": "2023-10-07T14:24:39.029Z"
   },
   {
    "duration": 10,
    "start_time": "2023-10-07T14:24:39.534Z"
   },
   {
    "duration": 5,
    "start_time": "2023-10-07T14:24:50.781Z"
   },
   {
    "duration": 12,
    "start_time": "2023-10-07T14:24:51.590Z"
   },
   {
    "duration": 4,
    "start_time": "2023-10-07T14:26:12.032Z"
   },
   {
    "duration": 5,
    "start_time": "2023-10-07T14:26:51.266Z"
   },
   {
    "duration": 5,
    "start_time": "2023-10-07T14:27:22.944Z"
   },
   {
    "duration": 89,
    "start_time": "2023-10-07T14:29:09.675Z"
   },
   {
    "duration": 93,
    "start_time": "2023-10-07T14:29:36.572Z"
   },
   {
    "duration": 5,
    "start_time": "2023-10-07T14:31:53.975Z"
   },
   {
    "duration": 8,
    "start_time": "2023-10-07T14:32:20.648Z"
   },
   {
    "duration": 4,
    "start_time": "2023-10-07T14:32:37.919Z"
   },
   {
    "duration": 5,
    "start_time": "2023-10-07T14:33:20.771Z"
   },
   {
    "duration": 6,
    "start_time": "2023-10-07T14:33:21.441Z"
   },
   {
    "duration": 4,
    "start_time": "2023-10-07T14:34:48.514Z"
   },
   {
    "duration": 4,
    "start_time": "2023-10-07T14:34:48.993Z"
   },
   {
    "duration": 6,
    "start_time": "2023-10-07T14:35:23.001Z"
   },
   {
    "duration": 5,
    "start_time": "2023-10-07T14:36:00.619Z"
   },
   {
    "duration": 6,
    "start_time": "2023-10-07T14:36:01.084Z"
   },
   {
    "duration": 138,
    "start_time": "2023-10-07T14:36:27.075Z"
   },
   {
    "duration": 143,
    "start_time": "2023-10-07T14:36:31.875Z"
   },
   {
    "duration": 12,
    "start_time": "2023-10-07T14:40:39.607Z"
   },
   {
    "duration": 10,
    "start_time": "2023-10-07T14:40:40.183Z"
   },
   {
    "duration": 31,
    "start_time": "2023-10-07T14:40:40.659Z"
   },
   {
    "duration": 4,
    "start_time": "2023-10-07T14:40:57.511Z"
   },
   {
    "duration": 1213,
    "start_time": "2023-10-07T14:40:57.517Z"
   },
   {
    "duration": 4,
    "start_time": "2023-10-07T14:40:58.733Z"
   },
   {
    "duration": 49,
    "start_time": "2023-10-07T14:40:58.739Z"
   },
   {
    "duration": 7,
    "start_time": "2023-10-07T14:40:58.790Z"
   },
   {
    "duration": 71,
    "start_time": "2023-10-07T14:40:58.799Z"
   },
   {
    "duration": 11,
    "start_time": "2023-10-07T14:40:58.871Z"
   },
   {
    "duration": 34,
    "start_time": "2023-10-07T14:40:58.883Z"
   },
   {
    "duration": 7,
    "start_time": "2023-10-07T14:40:58.918Z"
   },
   {
    "duration": 209,
    "start_time": "2023-10-07T14:40:58.927Z"
   },
   {
    "duration": 10,
    "start_time": "2023-10-07T14:40:59.138Z"
   },
   {
    "duration": 16,
    "start_time": "2023-10-07T14:40:59.149Z"
   },
   {
    "duration": 182,
    "start_time": "2023-10-07T14:40:59.169Z"
   },
   {
    "duration": 8,
    "start_time": "2023-10-07T14:40:59.355Z"
   },
   {
    "duration": 7,
    "start_time": "2023-10-07T14:40:59.365Z"
   },
   {
    "duration": 152,
    "start_time": "2023-10-07T14:40:59.374Z"
   },
   {
    "duration": 3,
    "start_time": "2023-10-07T14:40:59.528Z"
   },
   {
    "duration": 76,
    "start_time": "2023-10-07T14:40:59.533Z"
   },
   {
    "duration": 13,
    "start_time": "2023-10-07T14:40:59.610Z"
   },
   {
    "duration": 45,
    "start_time": "2023-10-07T14:40:59.624Z"
   },
   {
    "duration": 43,
    "start_time": "2023-10-07T14:40:59.671Z"
   },
   {
    "duration": 41,
    "start_time": "2023-10-07T14:40:59.716Z"
   },
   {
    "duration": 23,
    "start_time": "2023-10-07T14:40:59.759Z"
   },
   {
    "duration": 52,
    "start_time": "2023-10-07T14:40:59.784Z"
   },
   {
    "duration": 31,
    "start_time": "2023-10-07T14:40:59.837Z"
   },
   {
    "duration": 51,
    "start_time": "2023-10-07T14:40:59.870Z"
   },
   {
    "duration": 29,
    "start_time": "2023-10-07T14:40:59.923Z"
   },
   {
    "duration": 28,
    "start_time": "2023-10-07T14:40:59.954Z"
   },
   {
    "duration": 40,
    "start_time": "2023-10-07T14:40:59.984Z"
   },
   {
    "duration": 86,
    "start_time": "2023-10-07T14:41:00.025Z"
   },
   {
    "duration": 48,
    "start_time": "2023-10-07T14:41:00.113Z"
   },
   {
    "duration": 20,
    "start_time": "2023-10-07T14:41:00.163Z"
   },
   {
    "duration": 42,
    "start_time": "2023-10-07T14:41:00.185Z"
   },
   {
    "duration": 61,
    "start_time": "2023-10-07T14:41:00.229Z"
   },
   {
    "duration": 56,
    "start_time": "2023-10-07T14:41:00.292Z"
   },
   {
    "duration": 44,
    "start_time": "2023-10-07T14:41:00.358Z"
   },
   {
    "duration": 55,
    "start_time": "2023-10-07T14:41:00.404Z"
   },
   {
    "duration": 38,
    "start_time": "2023-10-07T14:41:00.461Z"
   },
   {
    "duration": 40,
    "start_time": "2023-10-07T14:41:00.501Z"
   },
   {
    "duration": 52,
    "start_time": "2023-10-07T14:41:00.542Z"
   },
   {
    "duration": 52,
    "start_time": "2023-10-07T14:41:00.600Z"
   },
   {
    "duration": 124,
    "start_time": "2023-10-07T14:41:00.656Z"
   },
   {
    "duration": 116,
    "start_time": "2023-10-07T14:41:00.781Z"
   },
   {
    "duration": 70,
    "start_time": "2023-10-07T14:41:00.898Z"
   },
   {
    "duration": 71,
    "start_time": "2023-10-07T14:41:00.970Z"
   },
   {
    "duration": 151,
    "start_time": "2023-10-07T14:41:01.043Z"
   },
   {
    "duration": 72,
    "start_time": "2023-10-07T14:41:01.196Z"
   },
   {
    "duration": 60,
    "start_time": "2023-10-07T14:41:01.270Z"
   },
   {
    "duration": 125,
    "start_time": "2023-10-07T14:41:01.332Z"
   },
   {
    "duration": 84,
    "start_time": "2023-10-07T14:41:01.459Z"
   },
   {
    "duration": 68,
    "start_time": "2023-10-07T14:41:01.546Z"
   },
   {
    "duration": 64,
    "start_time": "2023-10-07T14:41:01.616Z"
   },
   {
    "duration": 57,
    "start_time": "2023-10-07T14:41:01.682Z"
   },
   {
    "duration": 121,
    "start_time": "2023-10-07T14:41:01.741Z"
   },
   {
    "duration": 145,
    "start_time": "2023-10-07T14:41:01.864Z"
   },
   {
    "duration": 125,
    "start_time": "2023-10-07T14:41:02.011Z"
   },
   {
    "duration": 81,
    "start_time": "2023-10-07T14:41:02.138Z"
   },
   {
    "duration": 60,
    "start_time": "2023-10-07T14:41:02.221Z"
   },
   {
    "duration": 77,
    "start_time": "2023-10-07T14:41:02.283Z"
   },
   {
    "duration": 57,
    "start_time": "2023-10-07T14:41:02.362Z"
   },
   {
    "duration": 39,
    "start_time": "2023-10-07T14:41:02.421Z"
   },
   {
    "duration": 50,
    "start_time": "2023-10-07T14:41:02.462Z"
   },
   {
    "duration": 46,
    "start_time": "2023-10-07T14:41:02.514Z"
   },
   {
    "duration": 32,
    "start_time": "2023-10-07T14:41:02.562Z"
   },
   {
    "duration": 59,
    "start_time": "2023-10-07T14:41:02.595Z"
   },
   {
    "duration": 43,
    "start_time": "2023-10-07T14:41:02.657Z"
   },
   {
    "duration": 16,
    "start_time": "2023-10-07T14:41:02.702Z"
   },
   {
    "duration": 53,
    "start_time": "2023-10-07T14:41:02.720Z"
   },
   {
    "duration": 72,
    "start_time": "2023-10-07T14:41:02.775Z"
   },
   {
    "duration": 175,
    "start_time": "2023-10-07T14:41:02.849Z"
   },
   {
    "duration": 174,
    "start_time": "2023-10-07T14:41:03.026Z"
   },
   {
    "duration": 2,
    "start_time": "2023-10-07T14:41:03.202Z"
   },
   {
    "duration": 14,
    "start_time": "2023-10-07T14:41:03.206Z"
   },
   {
    "duration": 126,
    "start_time": "2023-10-07T14:41:03.221Z"
   },
   {
    "duration": 151,
    "start_time": "2023-10-07T14:41:03.350Z"
   },
   {
    "duration": 2,
    "start_time": "2023-10-07T14:41:03.503Z"
   },
   {
    "duration": 27,
    "start_time": "2023-10-07T14:41:03.507Z"
   },
   {
    "duration": 23,
    "start_time": "2023-10-07T14:41:03.535Z"
   },
   {
    "duration": 182,
    "start_time": "2023-10-07T14:41:03.560Z"
   },
   {
    "duration": 509,
    "start_time": "2023-10-07T14:41:03.744Z"
   },
   {
    "duration": 3,
    "start_time": "2023-10-07T14:41:04.255Z"
   },
   {
    "duration": 24,
    "start_time": "2023-10-07T14:41:04.260Z"
   },
   {
    "duration": 24,
    "start_time": "2023-10-07T14:41:04.285Z"
   },
   {
    "duration": 35,
    "start_time": "2023-10-07T14:41:04.310Z"
   },
   {
    "duration": 16,
    "start_time": "2023-10-07T14:41:04.347Z"
   },
   {
    "duration": 32,
    "start_time": "2023-10-07T14:41:04.365Z"
   },
   {
    "duration": 20,
    "start_time": "2023-10-07T14:41:04.399Z"
   },
   {
    "duration": 14,
    "start_time": "2023-10-07T14:41:04.422Z"
   },
   {
    "duration": 22,
    "start_time": "2023-10-07T14:41:04.438Z"
   },
   {
    "duration": 5,
    "start_time": "2023-10-07T14:41:04.462Z"
   },
   {
    "duration": 10,
    "start_time": "2023-10-07T14:41:04.471Z"
   },
   {
    "duration": 271,
    "start_time": "2023-10-07T14:41:04.484Z"
   },
   {
    "duration": 4,
    "start_time": "2023-10-07T14:41:04.757Z"
   },
   {
    "duration": 29,
    "start_time": "2023-10-07T14:41:04.763Z"
   },
   {
    "duration": 29,
    "start_time": "2023-10-07T14:41:04.795Z"
   },
   {
    "duration": 11,
    "start_time": "2023-10-07T14:41:04.826Z"
   },
   {
    "duration": 18,
    "start_time": "2023-10-07T14:41:04.839Z"
   },
   {
    "duration": 11,
    "start_time": "2023-10-07T14:41:04.861Z"
   },
   {
    "duration": 13,
    "start_time": "2023-10-07T14:41:04.874Z"
   },
   {
    "duration": 7,
    "start_time": "2023-10-07T14:41:04.890Z"
   },
   {
    "duration": 167,
    "start_time": "2023-10-07T14:41:04.899Z"
   },
   {
    "duration": 3,
    "start_time": "2023-10-07T14:41:05.068Z"
   },
   {
    "duration": 26,
    "start_time": "2023-10-07T14:41:05.072Z"
   },
   {
    "duration": 24,
    "start_time": "2023-10-07T14:41:05.100Z"
   },
   {
    "duration": 39,
    "start_time": "2023-10-07T14:41:05.125Z"
   },
   {
    "duration": 28,
    "start_time": "2023-10-07T14:41:05.166Z"
   },
   {
    "duration": 44,
    "start_time": "2023-10-07T14:41:05.196Z"
   },
   {
    "duration": 10,
    "start_time": "2023-10-07T14:54:55.857Z"
   },
   {
    "duration": 22,
    "start_time": "2023-10-07T14:54:56.257Z"
   },
   {
    "duration": 1066,
    "start_time": "2023-10-07T14:56:18.346Z"
   },
   {
    "duration": 0,
    "start_time": "2023-10-07T14:56:19.414Z"
   },
   {
    "duration": 7,
    "start_time": "2023-10-07T14:56:31.548Z"
   },
   {
    "duration": 20,
    "start_time": "2023-10-07T14:56:32.011Z"
   },
   {
    "duration": 6,
    "start_time": "2023-10-07T14:56:49.371Z"
   },
   {
    "duration": 21,
    "start_time": "2023-10-07T14:56:49.794Z"
   },
   {
    "duration": 7,
    "start_time": "2023-10-07T14:57:06.306Z"
   },
   {
    "duration": 20,
    "start_time": "2023-10-07T14:57:06.723Z"
   },
   {
    "duration": 185,
    "start_time": "2023-10-07T14:59:23.542Z"
   },
   {
    "duration": 164,
    "start_time": "2023-10-07T15:00:22.494Z"
   },
   {
    "duration": 163,
    "start_time": "2023-10-07T15:01:53.024Z"
   },
   {
    "duration": 166,
    "start_time": "2023-10-07T15:02:30.439Z"
   },
   {
    "duration": 192,
    "start_time": "2023-10-07T15:03:18.568Z"
   },
   {
    "duration": 237,
    "start_time": "2023-10-07T15:03:34.489Z"
   },
   {
    "duration": 218,
    "start_time": "2023-10-07T15:04:20.113Z"
   },
   {
    "duration": 179,
    "start_time": "2023-10-07T15:05:35.739Z"
   },
   {
    "duration": 200,
    "start_time": "2023-10-07T15:05:38.714Z"
   },
   {
    "duration": 864,
    "start_time": "2023-10-07T15:22:30.546Z"
   },
   {
    "duration": 12,
    "start_time": "2023-10-07T15:22:32.506Z"
   },
   {
    "duration": 9,
    "start_time": "2023-10-07T15:26:21.141Z"
   },
   {
    "duration": 9,
    "start_time": "2023-10-07T15:26:24.940Z"
   },
   {
    "duration": 109,
    "start_time": "2023-10-07T15:26:35.077Z"
   },
   {
    "duration": 15,
    "start_time": "2023-10-07T15:29:18.831Z"
   },
   {
    "duration": 10,
    "start_time": "2023-10-07T15:29:20.927Z"
   },
   {
    "duration": 9,
    "start_time": "2023-10-07T15:31:48.688Z"
   },
   {
    "duration": 18,
    "start_time": "2023-10-07T15:32:10.681Z"
   },
   {
    "duration": 84,
    "start_time": "2023-10-07T15:33:06.777Z"
   },
   {
    "duration": 12,
    "start_time": "2023-10-07T15:33:08.401Z"
   },
   {
    "duration": 859,
    "start_time": "2023-10-07T15:34:55.281Z"
   },
   {
    "duration": 12,
    "start_time": "2023-10-07T15:34:57.249Z"
   },
   {
    "duration": 11,
    "start_time": "2023-10-07T15:36:27.827Z"
   },
   {
    "duration": 4,
    "start_time": "2023-10-07T15:38:19.044Z"
   },
   {
    "duration": 22,
    "start_time": "2023-10-07T15:38:49.108Z"
   },
   {
    "duration": 5,
    "start_time": "2023-10-07T15:39:31.524Z"
   },
   {
    "duration": 6,
    "start_time": "2023-10-07T15:40:14.260Z"
   },
   {
    "duration": 5,
    "start_time": "2023-10-07T15:41:15.229Z"
   },
   {
    "duration": 9,
    "start_time": "2023-10-07T15:43:33.583Z"
   },
   {
    "duration": 30,
    "start_time": "2023-10-07T15:43:54.608Z"
   },
   {
    "duration": 17,
    "start_time": "2023-10-07T15:46:18.497Z"
   },
   {
    "duration": 4,
    "start_time": "2023-10-07T15:47:11.697Z"
   },
   {
    "duration": 1190,
    "start_time": "2023-10-07T15:47:11.703Z"
   },
   {
    "duration": 2,
    "start_time": "2023-10-07T15:47:12.895Z"
   },
   {
    "duration": 53,
    "start_time": "2023-10-07T15:47:12.899Z"
   },
   {
    "duration": 7,
    "start_time": "2023-10-07T15:47:12.954Z"
   },
   {
    "duration": 24,
    "start_time": "2023-10-07T15:47:12.963Z"
   },
   {
    "duration": 26,
    "start_time": "2023-10-07T15:47:12.989Z"
   },
   {
    "duration": 32,
    "start_time": "2023-10-07T15:47:13.017Z"
   },
   {
    "duration": 3,
    "start_time": "2023-10-07T15:47:13.050Z"
   },
   {
    "duration": 212,
    "start_time": "2023-10-07T15:47:13.056Z"
   },
   {
    "duration": 2,
    "start_time": "2023-10-07T15:47:13.270Z"
   },
   {
    "duration": 21,
    "start_time": "2023-10-07T15:47:13.273Z"
   },
   {
    "duration": 164,
    "start_time": "2023-10-07T15:47:13.295Z"
   },
   {
    "duration": 3,
    "start_time": "2023-10-07T15:47:13.460Z"
   },
   {
    "duration": 13,
    "start_time": "2023-10-07T15:47:13.464Z"
   },
   {
    "duration": 142,
    "start_time": "2023-10-07T15:47:13.479Z"
   },
   {
    "duration": 3,
    "start_time": "2023-10-07T15:47:13.623Z"
   },
   {
    "duration": 31,
    "start_time": "2023-10-07T15:47:13.627Z"
   },
   {
    "duration": 12,
    "start_time": "2023-10-07T15:47:13.659Z"
   },
   {
    "duration": 10,
    "start_time": "2023-10-07T15:47:13.672Z"
   },
   {
    "duration": 6,
    "start_time": "2023-10-07T15:47:13.683Z"
   },
   {
    "duration": 9,
    "start_time": "2023-10-07T15:47:13.690Z"
   },
   {
    "duration": 6,
    "start_time": "2023-10-07T15:47:13.700Z"
   },
   {
    "duration": 42,
    "start_time": "2023-10-07T15:47:13.707Z"
   },
   {
    "duration": 2,
    "start_time": "2023-10-07T15:47:13.751Z"
   },
   {
    "duration": 21,
    "start_time": "2023-10-07T15:47:13.755Z"
   },
   {
    "duration": 16,
    "start_time": "2023-10-07T15:47:13.778Z"
   },
   {
    "duration": 37,
    "start_time": "2023-10-07T15:47:13.800Z"
   },
   {
    "duration": 15,
    "start_time": "2023-10-07T15:47:13.838Z"
   },
   {
    "duration": 8,
    "start_time": "2023-10-07T15:47:13.856Z"
   },
   {
    "duration": 19,
    "start_time": "2023-10-07T15:47:13.866Z"
   },
   {
    "duration": 18,
    "start_time": "2023-10-07T15:47:13.887Z"
   },
   {
    "duration": 8,
    "start_time": "2023-10-07T15:47:13.907Z"
   },
   {
    "duration": 12,
    "start_time": "2023-10-07T15:47:13.917Z"
   },
   {
    "duration": 18,
    "start_time": "2023-10-07T15:47:13.931Z"
   },
   {
    "duration": 12,
    "start_time": "2023-10-07T15:47:13.951Z"
   },
   {
    "duration": 10,
    "start_time": "2023-10-07T15:47:13.964Z"
   },
   {
    "duration": 12,
    "start_time": "2023-10-07T15:47:13.976Z"
   },
   {
    "duration": 18,
    "start_time": "2023-10-07T15:47:13.990Z"
   },
   {
    "duration": 16,
    "start_time": "2023-10-07T15:47:14.010Z"
   },
   {
    "duration": 3,
    "start_time": "2023-10-07T15:47:14.028Z"
   },
   {
    "duration": 7,
    "start_time": "2023-10-07T15:47:14.033Z"
   },
   {
    "duration": 17,
    "start_time": "2023-10-07T15:47:14.042Z"
   },
   {
    "duration": 14,
    "start_time": "2023-10-07T15:47:14.061Z"
   },
   {
    "duration": 12,
    "start_time": "2023-10-07T15:47:14.076Z"
   },
   {
    "duration": 22,
    "start_time": "2023-10-07T15:47:14.089Z"
   },
   {
    "duration": 9,
    "start_time": "2023-10-07T15:47:14.112Z"
   },
   {
    "duration": 19,
    "start_time": "2023-10-07T15:47:14.122Z"
   },
   {
    "duration": 15,
    "start_time": "2023-10-07T15:47:14.143Z"
   },
   {
    "duration": 30,
    "start_time": "2023-10-07T15:47:14.160Z"
   },
   {
    "duration": 30,
    "start_time": "2023-10-07T15:47:14.192Z"
   },
   {
    "duration": 20,
    "start_time": "2023-10-07T15:47:14.224Z"
   },
   {
    "duration": 20,
    "start_time": "2023-10-07T15:47:14.246Z"
   },
   {
    "duration": 28,
    "start_time": "2023-10-07T15:47:14.268Z"
   },
   {
    "duration": 19,
    "start_time": "2023-10-07T15:47:14.298Z"
   },
   {
    "duration": 26,
    "start_time": "2023-10-07T15:47:14.319Z"
   },
   {
    "duration": 20,
    "start_time": "2023-10-07T15:47:14.347Z"
   },
   {
    "duration": 48,
    "start_time": "2023-10-07T15:47:14.369Z"
   },
   {
    "duration": 14,
    "start_time": "2023-10-07T15:47:14.419Z"
   },
   {
    "duration": 18,
    "start_time": "2023-10-07T15:47:14.435Z"
   },
   {
    "duration": 12,
    "start_time": "2023-10-07T15:47:14.455Z"
   },
   {
    "duration": 19,
    "start_time": "2023-10-07T15:47:14.469Z"
   },
   {
    "duration": 18,
    "start_time": "2023-10-07T15:47:14.490Z"
   },
   {
    "duration": 10,
    "start_time": "2023-10-07T15:47:14.510Z"
   },
   {
    "duration": 18,
    "start_time": "2023-10-07T15:47:14.522Z"
   },
   {
    "duration": 5,
    "start_time": "2023-10-07T15:47:14.542Z"
   },
   {
    "duration": 14,
    "start_time": "2023-10-07T15:47:14.549Z"
   },
   {
    "duration": 29,
    "start_time": "2023-10-07T15:47:14.565Z"
   },
   {
    "duration": 70,
    "start_time": "2023-10-07T15:47:14.596Z"
   },
   {
    "duration": 167,
    "start_time": "2023-10-07T15:47:14.667Z"
   },
   {
    "duration": 168,
    "start_time": "2023-10-07T15:47:14.836Z"
   },
   {
    "duration": 3,
    "start_time": "2023-10-07T15:47:15.005Z"
   },
   {
    "duration": 100,
    "start_time": "2023-10-07T15:47:15.010Z"
   },
   {
    "duration": 169,
    "start_time": "2023-10-07T15:47:15.112Z"
   },
   {
    "duration": 139,
    "start_time": "2023-10-07T15:47:15.282Z"
   },
   {
    "duration": 3,
    "start_time": "2023-10-07T15:47:15.423Z"
   },
   {
    "duration": 46,
    "start_time": "2023-10-07T15:47:15.427Z"
   },
   {
    "duration": 31,
    "start_time": "2023-10-07T15:47:15.474Z"
   },
   {
    "duration": 195,
    "start_time": "2023-10-07T15:47:15.507Z"
   },
   {
    "duration": 454,
    "start_time": "2023-10-07T15:47:15.703Z"
   },
   {
    "duration": 2,
    "start_time": "2023-10-07T15:47:16.159Z"
   },
   {
    "duration": 25,
    "start_time": "2023-10-07T15:47:16.167Z"
   },
   {
    "duration": 49,
    "start_time": "2023-10-07T15:47:16.193Z"
   },
   {
    "duration": 17,
    "start_time": "2023-10-07T15:47:16.244Z"
   },
   {
    "duration": 28,
    "start_time": "2023-10-07T15:47:16.263Z"
   },
   {
    "duration": 19,
    "start_time": "2023-10-07T15:47:16.292Z"
   },
   {
    "duration": 27,
    "start_time": "2023-10-07T15:47:16.313Z"
   },
   {
    "duration": 7,
    "start_time": "2023-10-07T15:47:16.341Z"
   },
   {
    "duration": 35,
    "start_time": "2023-10-07T15:47:16.349Z"
   },
   {
    "duration": 129,
    "start_time": "2023-10-07T15:47:16.386Z"
   },
   {
    "duration": 68,
    "start_time": "2023-10-07T15:47:16.516Z"
   },
   {
    "duration": 224,
    "start_time": "2023-10-07T15:47:16.586Z"
   },
   {
    "duration": 2,
    "start_time": "2023-10-07T15:47:16.812Z"
   },
   {
    "duration": 14,
    "start_time": "2023-10-07T15:47:16.816Z"
   },
   {
    "duration": 13,
    "start_time": "2023-10-07T15:47:16.831Z"
   },
   {
    "duration": 8,
    "start_time": "2023-10-07T15:47:16.845Z"
   },
   {
    "duration": 26,
    "start_time": "2023-10-07T15:47:16.855Z"
   },
   {
    "duration": 8,
    "start_time": "2023-10-07T15:47:16.883Z"
   },
   {
    "duration": 6,
    "start_time": "2023-10-07T15:47:16.892Z"
   },
   {
    "duration": 17,
    "start_time": "2023-10-07T15:47:16.899Z"
   },
   {
    "duration": 155,
    "start_time": "2023-10-07T15:47:16.917Z"
   },
   {
    "duration": 3,
    "start_time": "2023-10-07T15:47:17.075Z"
   },
   {
    "duration": 7,
    "start_time": "2023-10-07T15:47:17.079Z"
   },
   {
    "duration": 14,
    "start_time": "2023-10-07T15:47:17.088Z"
   },
   {
    "duration": 13,
    "start_time": "2023-10-07T15:47:17.104Z"
   },
   {
    "duration": 10,
    "start_time": "2023-10-07T15:47:17.119Z"
   },
   {
    "duration": 34,
    "start_time": "2023-10-07T15:47:17.131Z"
   },
   {
    "duration": 3,
    "start_time": "2023-10-07T15:47:17.166Z"
   },
   {
    "duration": 98,
    "start_time": "2023-10-07T15:47:17.171Z"
   },
   {
    "duration": 13,
    "start_time": "2023-10-07T15:47:17.271Z"
   },
   {
    "duration": 30,
    "start_time": "2023-10-07T15:47:17.286Z"
   },
   {
    "duration": 23,
    "start_time": "2023-10-07T15:47:17.317Z"
   },
   {
    "duration": 8,
    "start_time": "2023-10-07T15:47:17.342Z"
   },
   {
    "duration": 24,
    "start_time": "2023-10-07T15:47:17.351Z"
   },
   {
    "duration": 3,
    "start_time": "2023-10-07T15:47:17.377Z"
   },
   {
    "duration": 7,
    "start_time": "2023-10-07T15:47:17.382Z"
   },
   {
    "duration": 202,
    "start_time": "2023-10-07T15:47:17.391Z"
   },
   {
    "duration": 2,
    "start_time": "2023-10-07T15:47:17.596Z"
   },
   {
    "duration": 43,
    "start_time": "2023-10-07T15:47:17.601Z"
   },
   {
    "duration": 204,
    "start_time": "2023-10-07T15:47:17.646Z"
   },
   {
    "duration": 3,
    "start_time": "2023-10-07T15:47:17.852Z"
   },
   {
    "duration": 225,
    "start_time": "2023-10-07T15:47:17.857Z"
   },
   {
    "duration": 216,
    "start_time": "2023-10-07T15:47:18.084Z"
   },
   {
    "duration": 3,
    "start_time": "2023-10-07T15:47:18.302Z"
   },
   {
    "duration": 15,
    "start_time": "2023-10-07T15:47:18.307Z"
   },
   {
    "duration": 957,
    "start_time": "2023-10-07T15:47:18.323Z"
   },
   {
    "duration": 17,
    "start_time": "2023-10-07T15:47:19.282Z"
   },
   {
    "duration": 28,
    "start_time": "2023-10-07T15:47:19.300Z"
   },
   {
    "duration": 10,
    "start_time": "2023-10-07T15:47:48.470Z"
   },
   {
    "duration": 4,
    "start_time": "2023-10-07T16:02:00.328Z"
   },
   {
    "duration": 12,
    "start_time": "2023-10-07T16:02:04.167Z"
   },
   {
    "duration": 17,
    "start_time": "2023-10-07T16:02:17.793Z"
   },
   {
    "duration": 4,
    "start_time": "2023-10-07T16:02:19.624Z"
   },
   {
    "duration": 12,
    "start_time": "2023-10-07T16:02:20.040Z"
   },
   {
    "duration": 4,
    "start_time": "2023-10-07T16:02:35.532Z"
   },
   {
    "duration": 1164,
    "start_time": "2023-10-07T16:02:35.538Z"
   },
   {
    "duration": 2,
    "start_time": "2023-10-07T16:02:36.704Z"
   },
   {
    "duration": 44,
    "start_time": "2023-10-07T16:02:36.708Z"
   },
   {
    "duration": 35,
    "start_time": "2023-10-07T16:02:36.754Z"
   },
   {
    "duration": 84,
    "start_time": "2023-10-07T16:02:36.791Z"
   },
   {
    "duration": 103,
    "start_time": "2023-10-07T16:02:36.876Z"
   },
   {
    "duration": 97,
    "start_time": "2023-10-07T16:02:36.980Z"
   },
   {
    "duration": 80,
    "start_time": "2023-10-07T16:02:37.078Z"
   },
   {
    "duration": 206,
    "start_time": "2023-10-07T16:02:37.160Z"
   },
   {
    "duration": 3,
    "start_time": "2023-10-07T16:02:37.367Z"
   },
   {
    "duration": 19,
    "start_time": "2023-10-07T16:02:37.371Z"
   },
   {
    "duration": 176,
    "start_time": "2023-10-07T16:02:37.392Z"
   },
   {
    "duration": 2,
    "start_time": "2023-10-07T16:02:37.570Z"
   },
   {
    "duration": 9,
    "start_time": "2023-10-07T16:02:37.574Z"
   },
   {
    "duration": 118,
    "start_time": "2023-10-07T16:02:37.585Z"
   },
   {
    "duration": 2,
    "start_time": "2023-10-07T16:02:37.705Z"
   },
   {
    "duration": 69,
    "start_time": "2023-10-07T16:02:37.708Z"
   },
   {
    "duration": 11,
    "start_time": "2023-10-07T16:02:37.779Z"
   },
   {
    "duration": 13,
    "start_time": "2023-10-07T16:02:37.792Z"
   },
   {
    "duration": 16,
    "start_time": "2023-10-07T16:02:37.806Z"
   },
   {
    "duration": 28,
    "start_time": "2023-10-07T16:02:37.824Z"
   },
   {
    "duration": 3,
    "start_time": "2023-10-07T16:02:37.854Z"
   },
   {
    "duration": 39,
    "start_time": "2023-10-07T16:02:37.858Z"
   },
   {
    "duration": 19,
    "start_time": "2023-10-07T16:02:37.899Z"
   },
   {
    "duration": 26,
    "start_time": "2023-10-07T16:02:37.920Z"
   },
   {
    "duration": 29,
    "start_time": "2023-10-07T16:02:37.947Z"
   },
   {
    "duration": 24,
    "start_time": "2023-10-07T16:02:37.980Z"
   },
   {
    "duration": 30,
    "start_time": "2023-10-07T16:02:38.006Z"
   },
   {
    "duration": 23,
    "start_time": "2023-10-07T16:02:38.038Z"
   },
   {
    "duration": 29,
    "start_time": "2023-10-07T16:02:38.063Z"
   },
   {
    "duration": 10,
    "start_time": "2023-10-07T16:02:38.094Z"
   },
   {
    "duration": 40,
    "start_time": "2023-10-07T16:02:38.105Z"
   },
   {
    "duration": 41,
    "start_time": "2023-10-07T16:02:38.146Z"
   },
   {
    "duration": 31,
    "start_time": "2023-10-07T16:02:38.188Z"
   },
   {
    "duration": 33,
    "start_time": "2023-10-07T16:02:38.220Z"
   },
   {
    "duration": 19,
    "start_time": "2023-10-07T16:02:38.255Z"
   },
   {
    "duration": 8,
    "start_time": "2023-10-07T16:02:38.275Z"
   },
   {
    "duration": 19,
    "start_time": "2023-10-07T16:02:38.284Z"
   },
   {
    "duration": 19,
    "start_time": "2023-10-07T16:02:38.304Z"
   },
   {
    "duration": 41,
    "start_time": "2023-10-07T16:02:38.324Z"
   },
   {
    "duration": 26,
    "start_time": "2023-10-07T16:02:38.366Z"
   },
   {
    "duration": 19,
    "start_time": "2023-10-07T16:02:38.394Z"
   },
   {
    "duration": 16,
    "start_time": "2023-10-07T16:02:38.415Z"
   },
   {
    "duration": 20,
    "start_time": "2023-10-07T16:02:38.433Z"
   },
   {
    "duration": 15,
    "start_time": "2023-10-07T16:02:38.454Z"
   },
   {
    "duration": 22,
    "start_time": "2023-10-07T16:02:38.471Z"
   },
   {
    "duration": 9,
    "start_time": "2023-10-07T16:02:38.495Z"
   },
   {
    "duration": 14,
    "start_time": "2023-10-07T16:02:38.506Z"
   },
   {
    "duration": 29,
    "start_time": "2023-10-07T16:02:38.522Z"
   },
   {
    "duration": 9,
    "start_time": "2023-10-07T16:02:38.552Z"
   },
   {
    "duration": 27,
    "start_time": "2023-10-07T16:02:38.562Z"
   },
   {
    "duration": 17,
    "start_time": "2023-10-07T16:02:38.590Z"
   },
   {
    "duration": 20,
    "start_time": "2023-10-07T16:02:38.609Z"
   },
   {
    "duration": 16,
    "start_time": "2023-10-07T16:02:38.631Z"
   },
   {
    "duration": 5,
    "start_time": "2023-10-07T16:02:38.649Z"
   },
   {
    "duration": 9,
    "start_time": "2023-10-07T16:02:38.656Z"
   },
   {
    "duration": 12,
    "start_time": "2023-10-07T16:02:38.667Z"
   },
   {
    "duration": 5,
    "start_time": "2023-10-07T16:02:38.681Z"
   },
   {
    "duration": 17,
    "start_time": "2023-10-07T16:02:38.687Z"
   },
   {
    "duration": 10,
    "start_time": "2023-10-07T16:02:38.706Z"
   },
   {
    "duration": 20,
    "start_time": "2023-10-07T16:02:38.718Z"
   },
   {
    "duration": 20,
    "start_time": "2023-10-07T16:02:38.740Z"
   },
   {
    "duration": 8,
    "start_time": "2023-10-07T16:02:38.762Z"
   },
   {
    "duration": 23,
    "start_time": "2023-10-07T16:02:38.771Z"
   },
   {
    "duration": 10,
    "start_time": "2023-10-07T16:02:38.796Z"
   },
   {
    "duration": 18,
    "start_time": "2023-10-07T16:02:38.808Z"
   },
   {
    "duration": 23,
    "start_time": "2023-10-07T16:02:38.828Z"
   },
   {
    "duration": 10,
    "start_time": "2023-10-07T16:02:38.853Z"
   },
   {
    "duration": 184,
    "start_time": "2023-10-07T16:02:38.864Z"
   },
   {
    "duration": 170,
    "start_time": "2023-10-07T16:02:39.050Z"
   },
   {
    "duration": 3,
    "start_time": "2023-10-07T16:02:39.222Z"
   },
   {
    "duration": 104,
    "start_time": "2023-10-07T16:02:39.226Z"
   },
   {
    "duration": 121,
    "start_time": "2023-10-07T16:02:39.331Z"
   },
   {
    "duration": 160,
    "start_time": "2023-10-07T16:02:39.453Z"
   },
   {
    "duration": 2,
    "start_time": "2023-10-07T16:02:39.615Z"
   },
   {
    "duration": 42,
    "start_time": "2023-10-07T16:02:39.619Z"
   },
   {
    "duration": 11,
    "start_time": "2023-10-07T16:02:39.663Z"
   },
   {
    "duration": 164,
    "start_time": "2023-10-07T16:02:39.676Z"
   },
   {
    "duration": 468,
    "start_time": "2023-10-07T16:02:39.842Z"
   },
   {
    "duration": 3,
    "start_time": "2023-10-07T16:02:40.311Z"
   },
   {
    "duration": 30,
    "start_time": "2023-10-07T16:02:40.320Z"
   },
   {
    "duration": 20,
    "start_time": "2023-10-07T16:02:40.352Z"
   },
   {
    "duration": 16,
    "start_time": "2023-10-07T16:02:40.374Z"
   },
   {
    "duration": 43,
    "start_time": "2023-10-07T16:02:40.392Z"
   },
   {
    "duration": 17,
    "start_time": "2023-10-07T16:02:40.437Z"
   },
   {
    "duration": 8,
    "start_time": "2023-10-07T16:02:40.456Z"
   },
   {
    "duration": 29,
    "start_time": "2023-10-07T16:02:40.465Z"
   },
   {
    "duration": 32,
    "start_time": "2023-10-07T16:02:40.496Z"
   },
   {
    "duration": 18,
    "start_time": "2023-10-07T16:02:40.529Z"
   },
   {
    "duration": 36,
    "start_time": "2023-10-07T16:02:40.549Z"
   },
   {
    "duration": 261,
    "start_time": "2023-10-07T16:02:40.587Z"
   },
   {
    "duration": 2,
    "start_time": "2023-10-07T16:02:40.850Z"
   },
   {
    "duration": 14,
    "start_time": "2023-10-07T16:02:40.853Z"
   },
   {
    "duration": 24,
    "start_time": "2023-10-07T16:02:40.868Z"
   },
   {
    "duration": 12,
    "start_time": "2023-10-07T16:02:40.894Z"
   },
   {
    "duration": 6,
    "start_time": "2023-10-07T16:02:40.908Z"
   },
   {
    "duration": 20,
    "start_time": "2023-10-07T16:02:40.915Z"
   },
   {
    "duration": 18,
    "start_time": "2023-10-07T16:02:40.936Z"
   },
   {
    "duration": 18,
    "start_time": "2023-10-07T16:02:40.956Z"
   },
   {
    "duration": 160,
    "start_time": "2023-10-07T16:02:40.975Z"
   },
   {
    "duration": 8,
    "start_time": "2023-10-07T16:02:41.137Z"
   },
   {
    "duration": 23,
    "start_time": "2023-10-07T16:02:41.147Z"
   },
   {
    "duration": 9,
    "start_time": "2023-10-07T16:02:41.171Z"
   },
   {
    "duration": 21,
    "start_time": "2023-10-07T16:02:41.182Z"
   },
   {
    "duration": 9,
    "start_time": "2023-10-07T16:02:41.205Z"
   },
   {
    "duration": 24,
    "start_time": "2023-10-07T16:02:41.215Z"
   },
   {
    "duration": 3,
    "start_time": "2023-10-07T16:02:41.240Z"
   },
   {
    "duration": 5,
    "start_time": "2023-10-07T16:02:41.244Z"
   },
   {
    "duration": 23,
    "start_time": "2023-10-07T16:02:41.250Z"
   },
   {
    "duration": 21,
    "start_time": "2023-10-07T16:02:41.274Z"
   },
   {
    "duration": 2,
    "start_time": "2023-10-07T16:02:41.297Z"
   },
   {
    "duration": 18,
    "start_time": "2023-10-07T16:02:41.301Z"
   },
   {
    "duration": 25,
    "start_time": "2023-10-07T16:02:41.321Z"
   },
   {
    "duration": 8,
    "start_time": "2023-10-07T16:02:41.348Z"
   },
   {
    "duration": 12,
    "start_time": "2023-10-07T16:02:41.357Z"
   },
   {
    "duration": 192,
    "start_time": "2023-10-07T16:02:41.371Z"
   },
   {
    "duration": 2,
    "start_time": "2023-10-07T16:02:41.565Z"
   },
   {
    "duration": 9,
    "start_time": "2023-10-07T16:02:41.569Z"
   },
   {
    "duration": 217,
    "start_time": "2023-10-07T16:02:41.580Z"
   },
   {
    "duration": 3,
    "start_time": "2023-10-07T16:02:41.799Z"
   },
   {
    "duration": 195,
    "start_time": "2023-10-07T16:02:41.804Z"
   },
   {
    "duration": 243,
    "start_time": "2023-10-07T16:02:42.001Z"
   },
   {
    "duration": 3,
    "start_time": "2023-10-07T16:02:42.246Z"
   },
   {
    "duration": 5,
    "start_time": "2023-10-07T16:02:42.251Z"
   },
   {
    "duration": 921,
    "start_time": "2023-10-07T16:02:42.258Z"
   },
   {
    "duration": 20,
    "start_time": "2023-10-07T16:02:43.181Z"
   },
   {
    "duration": 4,
    "start_time": "2023-10-07T16:02:43.203Z"
   },
   {
    "duration": 25,
    "start_time": "2023-10-07T16:02:43.208Z"
   },
   {
    "duration": 25,
    "start_time": "2023-10-07T16:02:43.244Z"
   },
   {
    "duration": 13,
    "start_time": "2023-10-07T16:02:43.270Z"
   },
   {
    "duration": 26,
    "start_time": "2023-10-07T16:02:43.285Z"
   },
   {
    "duration": 11,
    "start_time": "2023-10-07T16:02:43.313Z"
   },
   {
    "duration": 7,
    "start_time": "2023-10-07T16:02:43.325Z"
   },
   {
    "duration": 10,
    "start_time": "2023-10-07T16:02:43.334Z"
   },
   {
    "duration": 9,
    "start_time": "2023-10-07T16:02:43.345Z"
   },
   {
    "duration": 6,
    "start_time": "2023-10-07T16:02:43.356Z"
   },
   {
    "duration": 17,
    "start_time": "2023-10-07T16:04:40.059Z"
   },
   {
    "duration": 3,
    "start_time": "2023-10-07T16:05:40.795Z"
   },
   {
    "duration": 3,
    "start_time": "2023-10-07T16:05:41.907Z"
   },
   {
    "duration": 12,
    "start_time": "2023-10-07T16:05:42.363Z"
   },
   {
    "duration": 3,
    "start_time": "2023-10-07T16:16:57.710Z"
   },
   {
    "duration": 131,
    "start_time": "2023-10-07T16:20:21.721Z"
   },
   {
    "duration": 6,
    "start_time": "2023-10-07T16:20:45.276Z"
   },
   {
    "duration": 11,
    "start_time": "2023-10-07T16:20:59.617Z"
   },
   {
    "duration": 4,
    "start_time": "2023-10-08T09:19:16.043Z"
   },
   {
    "duration": 3,
    "start_time": "2023-10-08T09:19:16.489Z"
   },
   {
    "duration": 3,
    "start_time": "2023-10-08T09:22:21.390Z"
   },
   {
    "duration": 4,
    "start_time": "2023-10-08T09:22:21.995Z"
   },
   {
    "duration": 3,
    "start_time": "2023-10-08T09:25:59.439Z"
   },
   {
    "duration": 3,
    "start_time": "2023-10-08T09:26:03.160Z"
   },
   {
    "duration": 2,
    "start_time": "2023-10-08T10:04:50.837Z"
   },
   {
    "duration": 3,
    "start_time": "2023-10-08T10:05:01.206Z"
   },
   {
    "duration": 5,
    "start_time": "2023-10-08T10:05:32.159Z"
   },
   {
    "duration": 4,
    "start_time": "2023-10-08T10:05:45.252Z"
   },
   {
    "duration": 4,
    "start_time": "2023-10-08T10:05:45.649Z"
   },
   {
    "duration": 1944,
    "start_time": "2023-10-08T10:12:20.148Z"
   },
   {
    "duration": 5,
    "start_time": "2023-10-08T10:13:33.636Z"
   },
   {
    "duration": 5,
    "start_time": "2023-10-08T10:15:01.398Z"
   },
   {
    "duration": 5,
    "start_time": "2023-10-08T10:15:28.831Z"
   },
   {
    "duration": 2,
    "start_time": "2023-10-08T10:15:29.295Z"
   },
   {
    "duration": 4,
    "start_time": "2023-10-08T10:15:35.867Z"
   },
   {
    "duration": 1251,
    "start_time": "2023-10-08T10:15:35.873Z"
   },
   {
    "duration": 2,
    "start_time": "2023-10-08T10:15:37.126Z"
   },
   {
    "duration": 57,
    "start_time": "2023-10-08T10:15:37.131Z"
   },
   {
    "duration": 2,
    "start_time": "2023-10-08T10:15:37.190Z"
   },
   {
    "duration": 30,
    "start_time": "2023-10-08T10:15:37.195Z"
   },
   {
    "duration": 28,
    "start_time": "2023-10-08T10:15:37.227Z"
   },
   {
    "duration": 14,
    "start_time": "2023-10-08T10:15:37.257Z"
   },
   {
    "duration": 3,
    "start_time": "2023-10-08T10:15:37.273Z"
   },
   {
    "duration": 202,
    "start_time": "2023-10-08T10:15:37.278Z"
   },
   {
    "duration": 3,
    "start_time": "2023-10-08T10:15:37.481Z"
   },
   {
    "duration": 17,
    "start_time": "2023-10-08T10:15:37.486Z"
   },
   {
    "duration": 189,
    "start_time": "2023-10-08T10:15:37.504Z"
   },
   {
    "duration": 3,
    "start_time": "2023-10-08T10:15:37.694Z"
   },
   {
    "duration": 45,
    "start_time": "2023-10-08T10:15:37.698Z"
   },
   {
    "duration": 144,
    "start_time": "2023-10-08T10:15:37.745Z"
   },
   {
    "duration": 3,
    "start_time": "2023-10-08T10:15:37.890Z"
   },
   {
    "duration": 85,
    "start_time": "2023-10-08T10:15:37.894Z"
   },
   {
    "duration": 10,
    "start_time": "2023-10-08T10:15:37.980Z"
   },
   {
    "duration": 13,
    "start_time": "2023-10-08T10:15:37.992Z"
   },
   {
    "duration": 22,
    "start_time": "2023-10-08T10:15:38.007Z"
   },
   {
    "duration": 20,
    "start_time": "2023-10-08T10:15:38.030Z"
   },
   {
    "duration": 3,
    "start_time": "2023-10-08T10:15:38.052Z"
   },
   {
    "duration": 15,
    "start_time": "2023-10-08T10:15:38.056Z"
   },
   {
    "duration": 7,
    "start_time": "2023-10-08T10:15:38.073Z"
   },
   {
    "duration": 26,
    "start_time": "2023-10-08T10:15:38.082Z"
   },
   {
    "duration": 10,
    "start_time": "2023-10-08T10:15:38.109Z"
   },
   {
    "duration": 22,
    "start_time": "2023-10-08T10:15:38.122Z"
   },
   {
    "duration": 9,
    "start_time": "2023-10-08T10:15:38.146Z"
   },
   {
    "duration": 23,
    "start_time": "2023-10-08T10:15:38.157Z"
   },
   {
    "duration": 12,
    "start_time": "2023-10-08T10:15:38.182Z"
   },
   {
    "duration": 10,
    "start_time": "2023-10-08T10:15:38.196Z"
   },
   {
    "duration": 6,
    "start_time": "2023-10-08T10:15:38.208Z"
   },
   {
    "duration": 7,
    "start_time": "2023-10-08T10:15:38.216Z"
   },
   {
    "duration": 16,
    "start_time": "2023-10-08T10:15:38.225Z"
   },
   {
    "duration": 13,
    "start_time": "2023-10-08T10:15:38.243Z"
   },
   {
    "duration": 9,
    "start_time": "2023-10-08T10:15:38.258Z"
   },
   {
    "duration": 11,
    "start_time": "2023-10-08T10:15:38.269Z"
   },
   {
    "duration": 23,
    "start_time": "2023-10-08T10:15:38.281Z"
   },
   {
    "duration": 5,
    "start_time": "2023-10-08T10:15:38.305Z"
   },
   {
    "duration": 12,
    "start_time": "2023-10-08T10:15:38.312Z"
   },
   {
    "duration": 3,
    "start_time": "2023-10-08T10:15:38.326Z"
   },
   {
    "duration": 10,
    "start_time": "2023-10-08T10:15:38.331Z"
   },
   {
    "duration": 5,
    "start_time": "2023-10-08T10:15:38.343Z"
   },
   {
    "duration": 13,
    "start_time": "2023-10-08T10:15:38.350Z"
   },
   {
    "duration": 10,
    "start_time": "2023-10-08T10:15:38.364Z"
   },
   {
    "duration": 28,
    "start_time": "2023-10-08T10:15:38.375Z"
   },
   {
    "duration": 36,
    "start_time": "2023-10-08T10:15:38.405Z"
   },
   {
    "duration": 30,
    "start_time": "2023-10-08T10:15:38.443Z"
   },
   {
    "duration": 49,
    "start_time": "2023-10-08T10:15:38.475Z"
   },
   {
    "duration": 24,
    "start_time": "2023-10-08T10:15:38.526Z"
   },
   {
    "duration": 27,
    "start_time": "2023-10-08T10:15:38.552Z"
   },
   {
    "duration": 24,
    "start_time": "2023-10-08T10:15:38.581Z"
   },
   {
    "duration": 14,
    "start_time": "2023-10-08T10:15:38.607Z"
   },
   {
    "duration": 14,
    "start_time": "2023-10-08T10:15:38.623Z"
   },
   {
    "duration": 19,
    "start_time": "2023-10-08T10:15:38.639Z"
   },
   {
    "duration": 10,
    "start_time": "2023-10-08T10:15:38.660Z"
   },
   {
    "duration": 39,
    "start_time": "2023-10-08T10:15:38.671Z"
   },
   {
    "duration": 16,
    "start_time": "2023-10-08T10:15:38.712Z"
   },
   {
    "duration": 26,
    "start_time": "2023-10-08T10:15:38.729Z"
   },
   {
    "duration": 28,
    "start_time": "2023-10-08T10:15:38.757Z"
   },
   {
    "duration": 8,
    "start_time": "2023-10-08T10:15:38.786Z"
   },
   {
    "duration": 9,
    "start_time": "2023-10-08T10:15:38.796Z"
   },
   {
    "duration": 14,
    "start_time": "2023-10-08T10:15:38.806Z"
   },
   {
    "duration": 14,
    "start_time": "2023-10-08T10:15:38.822Z"
   },
   {
    "duration": 17,
    "start_time": "2023-10-08T10:15:38.838Z"
   },
   {
    "duration": 37,
    "start_time": "2023-10-08T10:15:38.857Z"
   },
   {
    "duration": 19,
    "start_time": "2023-10-08T10:15:38.896Z"
   },
   {
    "duration": 21,
    "start_time": "2023-10-08T10:15:38.917Z"
   },
   {
    "duration": 209,
    "start_time": "2023-10-08T10:15:38.939Z"
   },
   {
    "duration": 179,
    "start_time": "2023-10-08T10:15:39.150Z"
   },
   {
    "duration": 3,
    "start_time": "2023-10-08T10:15:39.331Z"
   },
   {
    "duration": 31,
    "start_time": "2023-10-08T10:15:39.336Z"
   },
   {
    "duration": 139,
    "start_time": "2023-10-08T10:15:39.369Z"
   },
   {
    "duration": 170,
    "start_time": "2023-10-08T10:15:39.509Z"
   },
   {
    "duration": 3,
    "start_time": "2023-10-08T10:15:39.681Z"
   },
   {
    "duration": 7,
    "start_time": "2023-10-08T10:15:39.685Z"
   },
   {
    "duration": 8,
    "start_time": "2023-10-08T10:15:39.694Z"
   },
   {
    "duration": 184,
    "start_time": "2023-10-08T10:15:39.703Z"
   },
   {
    "duration": 526,
    "start_time": "2023-10-08T10:15:39.888Z"
   },
   {
    "duration": 3,
    "start_time": "2023-10-08T10:15:40.416Z"
   },
   {
    "duration": 6,
    "start_time": "2023-10-08T10:15:40.520Z"
   },
   {
    "duration": 12,
    "start_time": "2023-10-08T10:15:40.528Z"
   },
   {
    "duration": 12,
    "start_time": "2023-10-08T10:15:40.543Z"
   },
   {
    "duration": 5,
    "start_time": "2023-10-08T10:15:40.557Z"
   },
   {
    "duration": 9,
    "start_time": "2023-10-08T10:15:40.564Z"
   },
   {
    "duration": 11,
    "start_time": "2023-10-08T10:15:40.575Z"
   },
   {
    "duration": 4,
    "start_time": "2023-10-08T10:15:40.588Z"
   },
   {
    "duration": 9,
    "start_time": "2023-10-08T10:15:40.594Z"
   },
   {
    "duration": 9,
    "start_time": "2023-10-08T10:15:40.604Z"
   },
   {
    "duration": 10,
    "start_time": "2023-10-08T10:15:40.614Z"
   },
   {
    "duration": 165,
    "start_time": "2023-10-08T10:15:40.626Z"
   },
   {
    "duration": 3,
    "start_time": "2023-10-08T10:15:40.793Z"
   },
   {
    "duration": 23,
    "start_time": "2023-10-08T10:15:40.798Z"
   },
   {
    "duration": 31,
    "start_time": "2023-10-08T10:15:40.822Z"
   },
   {
    "duration": 17,
    "start_time": "2023-10-08T10:15:40.855Z"
   },
   {
    "duration": 5,
    "start_time": "2023-10-08T10:15:40.873Z"
   },
   {
    "duration": 8,
    "start_time": "2023-10-08T10:15:40.879Z"
   },
   {
    "duration": 17,
    "start_time": "2023-10-08T10:15:40.889Z"
   },
   {
    "duration": 10,
    "start_time": "2023-10-08T10:15:40.908Z"
   },
   {
    "duration": 170,
    "start_time": "2023-10-08T10:15:40.919Z"
   },
   {
    "duration": 2,
    "start_time": "2023-10-08T10:15:41.091Z"
   },
   {
    "duration": 21,
    "start_time": "2023-10-08T10:15:41.094Z"
   },
   {
    "duration": 24,
    "start_time": "2023-10-08T10:15:41.117Z"
   },
   {
    "duration": 80,
    "start_time": "2023-10-08T10:15:41.142Z"
   },
   {
    "duration": 19,
    "start_time": "2023-10-08T10:15:41.223Z"
   },
   {
    "duration": 44,
    "start_time": "2023-10-08T10:15:41.243Z"
   },
   {
    "duration": 24,
    "start_time": "2023-10-08T10:15:41.289Z"
   },
   {
    "duration": 17,
    "start_time": "2023-10-08T10:15:41.314Z"
   },
   {
    "duration": 36,
    "start_time": "2023-10-08T10:15:41.332Z"
   },
   {
    "duration": 39,
    "start_time": "2023-10-08T10:15:41.370Z"
   },
   {
    "duration": 17,
    "start_time": "2023-10-08T10:15:41.411Z"
   },
   {
    "duration": 28,
    "start_time": "2023-10-08T10:15:41.430Z"
   },
   {
    "duration": 34,
    "start_time": "2023-10-08T10:15:41.459Z"
   },
   {
    "duration": 4,
    "start_time": "2023-10-08T10:15:41.495Z"
   },
   {
    "duration": 43,
    "start_time": "2023-10-08T10:15:41.501Z"
   },
   {
    "duration": 211,
    "start_time": "2023-10-08T10:15:41.545Z"
   },
   {
    "duration": 3,
    "start_time": "2023-10-08T10:15:41.758Z"
   },
   {
    "duration": 16,
    "start_time": "2023-10-08T10:15:41.763Z"
   },
   {
    "duration": 216,
    "start_time": "2023-10-08T10:15:41.781Z"
   },
   {
    "duration": 3,
    "start_time": "2023-10-08T10:15:41.999Z"
   },
   {
    "duration": 197,
    "start_time": "2023-10-08T10:15:42.003Z"
   },
   {
    "duration": 206,
    "start_time": "2023-10-08T10:15:42.203Z"
   },
   {
    "duration": 2,
    "start_time": "2023-10-08T10:15:42.412Z"
   },
   {
    "duration": 27,
    "start_time": "2023-10-08T10:15:42.416Z"
   },
   {
    "duration": 992,
    "start_time": "2023-10-08T10:15:42.444Z"
   },
   {
    "duration": 9,
    "start_time": "2023-10-08T10:15:43.437Z"
   },
   {
    "duration": 26,
    "start_time": "2023-10-08T10:15:43.448Z"
   },
   {
    "duration": 32,
    "start_time": "2023-10-08T10:15:43.475Z"
   },
   {
    "duration": 15,
    "start_time": "2023-10-08T10:15:43.509Z"
   },
   {
    "duration": 19,
    "start_time": "2023-10-08T10:15:43.526Z"
   },
   {
    "duration": 15,
    "start_time": "2023-10-08T10:15:43.547Z"
   },
   {
    "duration": 11,
    "start_time": "2023-10-08T10:15:43.563Z"
   },
   {
    "duration": 14,
    "start_time": "2023-10-08T10:15:43.576Z"
   },
   {
    "duration": 24,
    "start_time": "2023-10-08T10:15:43.592Z"
   },
   {
    "duration": 24,
    "start_time": "2023-10-08T10:15:43.618Z"
   },
   {
    "duration": 7,
    "start_time": "2023-10-08T10:15:43.645Z"
   },
   {
    "duration": 18,
    "start_time": "2023-10-08T10:15:43.654Z"
   },
   {
    "duration": 188,
    "start_time": "2023-10-08T10:15:43.673Z"
   },
   {
    "duration": 8,
    "start_time": "2023-10-08T10:15:43.863Z"
   },
   {
    "duration": 25,
    "start_time": "2023-10-08T10:15:43.872Z"
   },
   {
    "duration": 8,
    "start_time": "2023-10-08T10:15:43.898Z"
   },
   {
    "duration": 22,
    "start_time": "2023-10-08T10:15:43.907Z"
   },
   {
    "duration": 17,
    "start_time": "2023-10-08T10:15:43.930Z"
   },
   {
    "duration": 42,
    "start_time": "2023-10-08T10:15:43.949Z"
   },
   {
    "duration": 10,
    "start_time": "2023-10-08T10:15:43.993Z"
   },
   {
    "duration": 15,
    "start_time": "2023-10-08T10:15:44.004Z"
   },
   {
    "duration": 20,
    "start_time": "2023-10-08T10:15:44.020Z"
   },
   {
    "duration": 53,
    "start_time": "2023-10-08T10:15:44.041Z"
   },
   {
    "duration": 25,
    "start_time": "2023-10-08T10:15:44.096Z"
   },
   {
    "duration": 37,
    "start_time": "2023-10-08T10:15:44.122Z"
   },
   {
    "duration": 15,
    "start_time": "2023-10-08T10:15:44.161Z"
   },
   {
    "duration": 18,
    "start_time": "2023-10-08T10:15:44.178Z"
   },
   {
    "duration": 30,
    "start_time": "2023-10-08T10:15:44.198Z"
   },
   {
    "duration": 9,
    "start_time": "2023-10-08T10:15:44.230Z"
   },
   {
    "duration": 33,
    "start_time": "2023-10-08T10:15:44.240Z"
   },
   {
    "duration": 41,
    "start_time": "2023-10-08T10:15:44.275Z"
   },
   {
    "duration": 9,
    "start_time": "2023-10-08T10:15:44.318Z"
   },
   {
    "duration": 24,
    "start_time": "2023-10-08T10:15:44.329Z"
   },
   {
    "duration": 10,
    "start_time": "2023-10-08T10:15:44.355Z"
   },
   {
    "duration": 22,
    "start_time": "2023-10-08T10:15:44.367Z"
   },
   {
    "duration": 26,
    "start_time": "2023-10-08T10:15:44.390Z"
   },
   {
    "duration": 29,
    "start_time": "2023-10-08T10:15:44.420Z"
   },
   {
    "duration": 26,
    "start_time": "2023-10-08T10:15:44.451Z"
   },
   {
    "duration": 6,
    "start_time": "2023-10-08T10:15:44.479Z"
   },
   {
    "duration": 33,
    "start_time": "2023-10-08T10:15:44.487Z"
   },
   {
    "duration": 26,
    "start_time": "2023-10-08T10:15:44.524Z"
   },
   {
    "duration": 23,
    "start_time": "2023-10-08T10:15:44.552Z"
   },
   {
    "duration": 13,
    "start_time": "2023-10-08T10:15:44.577Z"
   },
   {
    "duration": 20,
    "start_time": "2023-10-08T10:15:44.592Z"
   },
   {
    "duration": 21,
    "start_time": "2023-10-08T10:15:44.614Z"
   },
   {
    "duration": 33,
    "start_time": "2023-10-08T10:15:44.637Z"
   },
   {
    "duration": 18,
    "start_time": "2023-10-08T10:15:44.671Z"
   },
   {
    "duration": 6,
    "start_time": "2023-10-08T10:16:30.755Z"
   },
   {
    "duration": 4,
    "start_time": "2023-10-08T10:16:39.771Z"
   },
   {
    "duration": 4,
    "start_time": "2023-10-08T10:16:48.228Z"
   },
   {
    "duration": 3,
    "start_time": "2023-10-08T10:41:58.131Z"
   },
   {
    "duration": 1197,
    "start_time": "2023-10-08T10:41:58.136Z"
   },
   {
    "duration": 2,
    "start_time": "2023-10-08T10:41:59.334Z"
   },
   {
    "duration": 35,
    "start_time": "2023-10-08T10:41:59.344Z"
   },
   {
    "duration": 4,
    "start_time": "2023-10-08T10:41:59.380Z"
   },
   {
    "duration": 20,
    "start_time": "2023-10-08T10:41:59.386Z"
   },
   {
    "duration": 26,
    "start_time": "2023-10-08T10:41:59.408Z"
   },
   {
    "duration": 41,
    "start_time": "2023-10-08T10:41:59.436Z"
   },
   {
    "duration": 8,
    "start_time": "2023-10-08T10:41:59.478Z"
   },
   {
    "duration": 208,
    "start_time": "2023-10-08T10:41:59.488Z"
   },
   {
    "duration": 3,
    "start_time": "2023-10-08T10:41:59.697Z"
   },
   {
    "duration": 10,
    "start_time": "2023-10-08T10:41:59.701Z"
   },
   {
    "duration": 194,
    "start_time": "2023-10-08T10:41:59.712Z"
   },
   {
    "duration": 2,
    "start_time": "2023-10-08T10:41:59.908Z"
   },
   {
    "duration": 23,
    "start_time": "2023-10-08T10:41:59.912Z"
   },
   {
    "duration": 130,
    "start_time": "2023-10-08T10:41:59.937Z"
   },
   {
    "duration": 2,
    "start_time": "2023-10-08T10:42:00.069Z"
   },
   {
    "duration": 82,
    "start_time": "2023-10-08T10:42:00.073Z"
   },
   {
    "duration": 20,
    "start_time": "2023-10-08T10:42:00.157Z"
   },
   {
    "duration": 35,
    "start_time": "2023-10-08T10:42:00.179Z"
   },
   {
    "duration": 32,
    "start_time": "2023-10-08T10:42:00.216Z"
   },
   {
    "duration": 41,
    "start_time": "2023-10-08T10:42:00.250Z"
   },
   {
    "duration": 46,
    "start_time": "2023-10-08T10:42:00.293Z"
   },
   {
    "duration": 51,
    "start_time": "2023-10-08T10:42:00.341Z"
   },
   {
    "duration": 97,
    "start_time": "2023-10-08T10:42:00.394Z"
   },
   {
    "duration": 95,
    "start_time": "2023-10-08T10:42:00.493Z"
   },
   {
    "duration": 127,
    "start_time": "2023-10-08T10:42:00.589Z"
   },
   {
    "duration": 50,
    "start_time": "2023-10-08T10:42:00.720Z"
   },
   {
    "duration": 76,
    "start_time": "2023-10-08T10:42:00.772Z"
   },
   {
    "duration": 59,
    "start_time": "2023-10-08T10:42:00.850Z"
   },
   {
    "duration": 60,
    "start_time": "2023-10-08T10:42:00.910Z"
   },
   {
    "duration": 60,
    "start_time": "2023-10-08T10:42:00.972Z"
   },
   {
    "duration": 56,
    "start_time": "2023-10-08T10:42:01.034Z"
   },
   {
    "duration": 103,
    "start_time": "2023-10-08T10:42:01.091Z"
   },
   {
    "duration": 94,
    "start_time": "2023-10-08T10:42:01.195Z"
   },
   {
    "duration": 108,
    "start_time": "2023-10-08T10:42:01.290Z"
   },
   {
    "duration": 227,
    "start_time": "2023-10-08T10:42:01.399Z"
   },
   {
    "duration": 158,
    "start_time": "2023-10-08T10:42:01.628Z"
   },
   {
    "duration": 113,
    "start_time": "2023-10-08T10:42:01.788Z"
   },
   {
    "duration": 384,
    "start_time": "2023-10-08T10:42:01.903Z"
   },
   {
    "duration": 40,
    "start_time": "2023-10-08T10:42:02.289Z"
   },
   {
    "duration": 37,
    "start_time": "2023-10-08T10:42:02.331Z"
   },
   {
    "duration": 61,
    "start_time": "2023-10-08T10:42:02.370Z"
   },
   {
    "duration": 35,
    "start_time": "2023-10-08T10:42:02.433Z"
   },
   {
    "duration": 54,
    "start_time": "2023-10-08T10:42:02.470Z"
   },
   {
    "duration": 61,
    "start_time": "2023-10-08T10:42:02.526Z"
   },
   {
    "duration": 24,
    "start_time": "2023-10-08T10:42:02.588Z"
   },
   {
    "duration": 62,
    "start_time": "2023-10-08T10:42:02.614Z"
   },
   {
    "duration": 47,
    "start_time": "2023-10-08T10:42:02.677Z"
   },
   {
    "duration": 77,
    "start_time": "2023-10-08T10:42:02.726Z"
   },
   {
    "duration": 65,
    "start_time": "2023-10-08T10:42:02.805Z"
   },
   {
    "duration": 32,
    "start_time": "2023-10-08T10:42:02.872Z"
   },
   {
    "duration": 21,
    "start_time": "2023-10-08T10:42:02.906Z"
   },
   {
    "duration": 32,
    "start_time": "2023-10-08T10:42:02.929Z"
   },
   {
    "duration": 51,
    "start_time": "2023-10-08T10:42:02.963Z"
   },
   {
    "duration": 36,
    "start_time": "2023-10-08T10:42:03.016Z"
   },
   {
    "duration": 57,
    "start_time": "2023-10-08T10:42:03.054Z"
   },
   {
    "duration": 31,
    "start_time": "2023-10-08T10:42:03.112Z"
   },
   {
    "duration": 86,
    "start_time": "2023-10-08T10:42:03.145Z"
   },
   {
    "duration": 25,
    "start_time": "2023-10-08T10:42:03.233Z"
   },
   {
    "duration": 42,
    "start_time": "2023-10-08T10:42:03.260Z"
   },
   {
    "duration": 51,
    "start_time": "2023-10-08T10:42:03.303Z"
   },
   {
    "duration": 15,
    "start_time": "2023-10-08T10:42:03.356Z"
   },
   {
    "duration": 28,
    "start_time": "2023-10-08T10:42:03.373Z"
   },
   {
    "duration": 28,
    "start_time": "2023-10-08T10:42:03.403Z"
   },
   {
    "duration": 46,
    "start_time": "2023-10-08T10:42:03.432Z"
   },
   {
    "duration": 24,
    "start_time": "2023-10-08T10:42:03.480Z"
   },
   {
    "duration": 81,
    "start_time": "2023-10-08T10:42:03.506Z"
   },
   {
    "duration": 23,
    "start_time": "2023-10-08T10:42:03.589Z"
   },
   {
    "duration": 225,
    "start_time": "2023-10-08T10:42:03.614Z"
   },
   {
    "duration": 171,
    "start_time": "2023-10-08T10:42:03.841Z"
   },
   {
    "duration": 3,
    "start_time": "2023-10-08T10:42:04.014Z"
   },
   {
    "duration": 28,
    "start_time": "2023-10-08T10:42:04.019Z"
   },
   {
    "duration": 135,
    "start_time": "2023-10-08T10:42:04.049Z"
   },
   {
    "duration": 182,
    "start_time": "2023-10-08T10:42:04.186Z"
   },
   {
    "duration": 2,
    "start_time": "2023-10-08T10:42:04.371Z"
   },
   {
    "duration": 57,
    "start_time": "2023-10-08T10:42:04.375Z"
   },
   {
    "duration": 19,
    "start_time": "2023-10-08T10:42:04.434Z"
   },
   {
    "duration": 200,
    "start_time": "2023-10-08T10:42:04.455Z"
   },
   {
    "duration": 515,
    "start_time": "2023-10-08T10:42:04.658Z"
   },
   {
    "duration": 2,
    "start_time": "2023-10-08T10:42:05.175Z"
   },
   {
    "duration": 5,
    "start_time": "2023-10-08T10:42:05.273Z"
   },
   {
    "duration": 18,
    "start_time": "2023-10-08T10:42:05.280Z"
   },
   {
    "duration": 28,
    "start_time": "2023-10-08T10:42:05.299Z"
   },
   {
    "duration": 34,
    "start_time": "2023-10-08T10:42:05.329Z"
   },
   {
    "duration": 42,
    "start_time": "2023-10-08T10:42:05.365Z"
   },
   {
    "duration": 25,
    "start_time": "2023-10-08T10:42:05.409Z"
   },
   {
    "duration": 17,
    "start_time": "2023-10-08T10:42:05.435Z"
   },
   {
    "duration": 23,
    "start_time": "2023-10-08T10:42:05.454Z"
   },
   {
    "duration": 37,
    "start_time": "2023-10-08T10:42:05.479Z"
   },
   {
    "duration": 25,
    "start_time": "2023-10-08T10:42:05.517Z"
   },
   {
    "duration": 161,
    "start_time": "2023-10-08T10:42:05.544Z"
   },
   {
    "duration": 2,
    "start_time": "2023-10-08T10:42:05.707Z"
   },
   {
    "duration": 45,
    "start_time": "2023-10-08T10:42:05.711Z"
   },
   {
    "duration": 25,
    "start_time": "2023-10-08T10:42:05.758Z"
   },
   {
    "duration": 27,
    "start_time": "2023-10-08T10:42:05.785Z"
   },
   {
    "duration": 21,
    "start_time": "2023-10-08T10:42:05.814Z"
   },
   {
    "duration": 24,
    "start_time": "2023-10-08T10:42:05.837Z"
   },
   {
    "duration": 9,
    "start_time": "2023-10-08T10:42:05.863Z"
   },
   {
    "duration": 27,
    "start_time": "2023-10-08T10:42:05.874Z"
   },
   {
    "duration": 173,
    "start_time": "2023-10-08T10:42:05.903Z"
   },
   {
    "duration": 2,
    "start_time": "2023-10-08T10:42:06.078Z"
   },
   {
    "duration": 23,
    "start_time": "2023-10-08T10:42:06.081Z"
   },
   {
    "duration": 17,
    "start_time": "2023-10-08T10:42:06.105Z"
   },
   {
    "duration": 35,
    "start_time": "2023-10-08T10:42:06.124Z"
   },
   {
    "duration": 29,
    "start_time": "2023-10-08T10:42:06.161Z"
   },
   {
    "duration": 50,
    "start_time": "2023-10-08T10:42:06.191Z"
   },
   {
    "duration": 13,
    "start_time": "2023-10-08T10:42:06.242Z"
   },
   {
    "duration": 14,
    "start_time": "2023-10-08T10:42:06.257Z"
   },
   {
    "duration": 19,
    "start_time": "2023-10-08T10:42:06.272Z"
   },
   {
    "duration": 35,
    "start_time": "2023-10-08T10:42:06.292Z"
   },
   {
    "duration": 18,
    "start_time": "2023-10-08T10:42:06.329Z"
   },
   {
    "duration": 25,
    "start_time": "2023-10-08T10:42:06.349Z"
   },
   {
    "duration": 31,
    "start_time": "2023-10-08T10:42:06.376Z"
   },
   {
    "duration": 12,
    "start_time": "2023-10-08T10:42:06.409Z"
   },
   {
    "duration": 11,
    "start_time": "2023-10-08T10:42:06.422Z"
   },
   {
    "duration": 221,
    "start_time": "2023-10-08T10:42:06.435Z"
   },
   {
    "duration": 2,
    "start_time": "2023-10-08T10:42:06.658Z"
   },
   {
    "duration": 49,
    "start_time": "2023-10-08T10:42:06.662Z"
   },
   {
    "duration": 268,
    "start_time": "2023-10-08T10:42:06.713Z"
   },
   {
    "duration": 2,
    "start_time": "2023-10-08T10:42:06.983Z"
   },
   {
    "duration": 202,
    "start_time": "2023-10-08T10:42:06.986Z"
   },
   {
    "duration": 204,
    "start_time": "2023-10-08T10:42:07.190Z"
   },
   {
    "duration": 2,
    "start_time": "2023-10-08T10:42:07.396Z"
   },
   {
    "duration": 26,
    "start_time": "2023-10-08T10:42:07.399Z"
   },
   {
    "duration": 915,
    "start_time": "2023-10-08T10:42:07.426Z"
   },
   {
    "duration": 4,
    "start_time": "2023-10-08T10:42:08.344Z"
   },
   {
    "duration": 16,
    "start_time": "2023-10-08T10:42:08.350Z"
   },
   {
    "duration": 13,
    "start_time": "2023-10-08T10:42:08.368Z"
   },
   {
    "duration": 3,
    "start_time": "2023-10-08T10:42:08.382Z"
   },
   {
    "duration": 12,
    "start_time": "2023-10-08T10:42:08.387Z"
   },
   {
    "duration": 30,
    "start_time": "2023-10-08T10:42:08.400Z"
   },
   {
    "duration": 6,
    "start_time": "2023-10-08T10:42:08.431Z"
   },
   {
    "duration": 18,
    "start_time": "2023-10-08T10:42:08.439Z"
   },
   {
    "duration": 7,
    "start_time": "2023-10-08T10:42:08.459Z"
   },
   {
    "duration": 14,
    "start_time": "2023-10-08T10:42:08.468Z"
   },
   {
    "duration": 12,
    "start_time": "2023-10-08T10:42:08.483Z"
   },
   {
    "duration": 15,
    "start_time": "2023-10-08T10:42:08.496Z"
   },
   {
    "duration": 170,
    "start_time": "2023-10-08T10:42:08.512Z"
   },
   {
    "duration": 6,
    "start_time": "2023-10-08T10:42:08.683Z"
   },
   {
    "duration": 25,
    "start_time": "2023-10-08T10:42:08.691Z"
   },
   {
    "duration": 21,
    "start_time": "2023-10-08T10:42:08.718Z"
   },
   {
    "duration": 6,
    "start_time": "2023-10-08T10:42:08.741Z"
   },
   {
    "duration": 19,
    "start_time": "2023-10-08T10:42:08.749Z"
   },
   {
    "duration": 24,
    "start_time": "2023-10-08T10:42:08.770Z"
   },
   {
    "duration": 27,
    "start_time": "2023-10-08T10:42:08.796Z"
   },
   {
    "duration": 22,
    "start_time": "2023-10-08T10:42:08.825Z"
   },
   {
    "duration": 21,
    "start_time": "2023-10-08T10:42:08.849Z"
   },
   {
    "duration": 27,
    "start_time": "2023-10-08T10:42:08.871Z"
   },
   {
    "duration": 8,
    "start_time": "2023-10-08T10:42:08.900Z"
   },
   {
    "duration": 17,
    "start_time": "2023-10-08T10:42:08.909Z"
   },
   {
    "duration": 11,
    "start_time": "2023-10-08T10:42:08.927Z"
   },
   {
    "duration": 15,
    "start_time": "2023-10-08T10:42:08.939Z"
   },
   {
    "duration": 8,
    "start_time": "2023-10-08T10:42:08.956Z"
   },
   {
    "duration": 16,
    "start_time": "2023-10-08T10:42:08.966Z"
   },
   {
    "duration": 23,
    "start_time": "2023-10-08T10:42:08.983Z"
   },
   {
    "duration": 26,
    "start_time": "2023-10-08T10:42:09.007Z"
   },
   {
    "duration": 17,
    "start_time": "2023-10-08T10:42:09.035Z"
   },
   {
    "duration": 9,
    "start_time": "2023-10-08T10:42:09.054Z"
   },
   {
    "duration": 22,
    "start_time": "2023-10-08T10:42:09.065Z"
   },
   {
    "duration": 27,
    "start_time": "2023-10-08T10:42:09.089Z"
   },
   {
    "duration": 16,
    "start_time": "2023-10-08T10:42:09.118Z"
   },
   {
    "duration": 29,
    "start_time": "2023-10-08T10:42:09.136Z"
   },
   {
    "duration": 24,
    "start_time": "2023-10-08T10:42:09.167Z"
   },
   {
    "duration": 17,
    "start_time": "2023-10-08T10:42:09.193Z"
   },
   {
    "duration": 23,
    "start_time": "2023-10-08T10:42:09.211Z"
   },
   {
    "duration": 6,
    "start_time": "2023-10-08T10:42:09.235Z"
   },
   {
    "duration": 23,
    "start_time": "2023-10-08T10:42:09.243Z"
   },
   {
    "duration": 24,
    "start_time": "2023-10-08T10:42:09.268Z"
   },
   {
    "duration": 31,
    "start_time": "2023-10-08T10:42:09.294Z"
   },
   {
    "duration": 35,
    "start_time": "2023-10-08T10:42:09.327Z"
   },
   {
    "duration": 10,
    "start_time": "2023-10-08T10:42:09.364Z"
   },
   {
    "duration": 8,
    "start_time": "2023-10-08T10:42:09.376Z"
   },
   {
    "duration": 11,
    "start_time": "2023-10-08T10:42:09.385Z"
   },
   {
    "duration": 7,
    "start_time": "2023-10-08T10:42:09.397Z"
   },
   {
    "duration": 5,
    "start_time": "2023-10-08T10:42:09.405Z"
   },
   {
    "duration": 16,
    "start_time": "2023-10-08T10:42:09.412Z"
   },
   {
    "duration": 18,
    "start_time": "2023-10-08T10:42:09.429Z"
   },
   {
    "duration": 7,
    "start_time": "2023-10-08T10:42:09.449Z"
   },
   {
    "duration": 3,
    "start_time": "2023-10-08T10:44:09.221Z"
   },
   {
    "duration": 6,
    "start_time": "2023-10-08T10:44:09.644Z"
   },
   {
    "duration": 3,
    "start_time": "2023-10-08T10:44:10.051Z"
   },
   {
    "duration": 309,
    "start_time": "2023-10-08T10:44:10.717Z"
   },
   {
    "duration": 3,
    "start_time": "2023-10-08T10:57:24.895Z"
   },
   {
    "duration": 110,
    "start_time": "2023-10-08T10:57:25.287Z"
   },
   {
    "duration": 3,
    "start_time": "2023-10-08T10:58:30.128Z"
   },
   {
    "duration": 12,
    "start_time": "2023-10-08T10:58:47.345Z"
   },
   {
    "duration": 4,
    "start_time": "2023-10-08T10:59:44.349Z"
   },
   {
    "duration": 1214,
    "start_time": "2023-10-08T10:59:44.356Z"
   },
   {
    "duration": 3,
    "start_time": "2023-10-08T10:59:45.571Z"
   },
   {
    "duration": 87,
    "start_time": "2023-10-08T10:59:45.576Z"
   },
   {
    "duration": 2,
    "start_time": "2023-10-08T10:59:45.665Z"
   },
   {
    "duration": 36,
    "start_time": "2023-10-08T10:59:45.669Z"
   },
   {
    "duration": 16,
    "start_time": "2023-10-08T10:59:45.707Z"
   },
   {
    "duration": 22,
    "start_time": "2023-10-08T10:59:45.725Z"
   },
   {
    "duration": 7,
    "start_time": "2023-10-08T10:59:45.748Z"
   },
   {
    "duration": 194,
    "start_time": "2023-10-08T10:59:45.758Z"
   },
   {
    "duration": 3,
    "start_time": "2023-10-08T10:59:45.954Z"
   },
   {
    "duration": 44,
    "start_time": "2023-10-08T10:59:45.958Z"
   },
   {
    "duration": 185,
    "start_time": "2023-10-08T10:59:46.004Z"
   },
   {
    "duration": 3,
    "start_time": "2023-10-08T10:59:46.190Z"
   },
   {
    "duration": 30,
    "start_time": "2023-10-08T10:59:46.194Z"
   },
   {
    "duration": 132,
    "start_time": "2023-10-08T10:59:46.226Z"
   },
   {
    "duration": 3,
    "start_time": "2023-10-08T10:59:46.360Z"
   },
   {
    "duration": 49,
    "start_time": "2023-10-08T10:59:46.365Z"
   },
   {
    "duration": 12,
    "start_time": "2023-10-08T10:59:46.416Z"
   },
   {
    "duration": 13,
    "start_time": "2023-10-08T10:59:46.429Z"
   },
   {
    "duration": 16,
    "start_time": "2023-10-08T10:59:46.447Z"
   },
   {
    "duration": 16,
    "start_time": "2023-10-08T10:59:46.465Z"
   },
   {
    "duration": 41,
    "start_time": "2023-10-08T10:59:46.482Z"
   },
   {
    "duration": 29,
    "start_time": "2023-10-08T10:59:46.525Z"
   },
   {
    "duration": 15,
    "start_time": "2023-10-08T10:59:46.556Z"
   },
   {
    "duration": 31,
    "start_time": "2023-10-08T10:59:46.573Z"
   },
   {
    "duration": 19,
    "start_time": "2023-10-08T10:59:46.605Z"
   },
   {
    "duration": 22,
    "start_time": "2023-10-08T10:59:46.629Z"
   },
   {
    "duration": 35,
    "start_time": "2023-10-08T10:59:46.654Z"
   },
   {
    "duration": 49,
    "start_time": "2023-10-08T10:59:46.691Z"
   },
   {
    "duration": 48,
    "start_time": "2023-10-08T10:59:46.742Z"
   },
   {
    "duration": 33,
    "start_time": "2023-10-08T10:59:46.792Z"
   },
   {
    "duration": 28,
    "start_time": "2023-10-08T10:59:46.827Z"
   },
   {
    "duration": 33,
    "start_time": "2023-10-08T10:59:46.857Z"
   },
   {
    "duration": 35,
    "start_time": "2023-10-08T10:59:46.892Z"
   },
   {
    "duration": 41,
    "start_time": "2023-10-08T10:59:46.928Z"
   },
   {
    "duration": 25,
    "start_time": "2023-10-08T10:59:46.971Z"
   },
   {
    "duration": 22,
    "start_time": "2023-10-08T10:59:46.998Z"
   },
   {
    "duration": 36,
    "start_time": "2023-10-08T10:59:47.022Z"
   },
   {
    "duration": 10,
    "start_time": "2023-10-08T10:59:47.060Z"
   },
   {
    "duration": 32,
    "start_time": "2023-10-08T10:59:47.072Z"
   },
   {
    "duration": 5,
    "start_time": "2023-10-08T10:59:47.106Z"
   },
   {
    "duration": 17,
    "start_time": "2023-10-08T10:59:47.112Z"
   },
   {
    "duration": 5,
    "start_time": "2023-10-08T10:59:47.130Z"
   },
   {
    "duration": 8,
    "start_time": "2023-10-08T10:59:47.136Z"
   },
   {
    "duration": 11,
    "start_time": "2023-10-08T10:59:47.146Z"
   },
   {
    "duration": 14,
    "start_time": "2023-10-08T10:59:47.159Z"
   },
   {
    "duration": 7,
    "start_time": "2023-10-08T10:59:47.174Z"
   },
   {
    "duration": 5,
    "start_time": "2023-10-08T10:59:47.183Z"
   },
   {
    "duration": 19,
    "start_time": "2023-10-08T10:59:47.189Z"
   },
   {
    "duration": 9,
    "start_time": "2023-10-08T10:59:47.210Z"
   },
   {
    "duration": 15,
    "start_time": "2023-10-08T10:59:47.221Z"
   },
   {
    "duration": 31,
    "start_time": "2023-10-08T10:59:47.238Z"
   },
   {
    "duration": 19,
    "start_time": "2023-10-08T10:59:47.270Z"
   },
   {
    "duration": 8,
    "start_time": "2023-10-08T10:59:47.290Z"
   },
   {
    "duration": 3,
    "start_time": "2023-10-08T10:59:47.300Z"
   },
   {
    "duration": 9,
    "start_time": "2023-10-08T10:59:47.305Z"
   },
   {
    "duration": 17,
    "start_time": "2023-10-08T10:59:47.315Z"
   },
   {
    "duration": 14,
    "start_time": "2023-10-08T10:59:47.334Z"
   },
   {
    "duration": 15,
    "start_time": "2023-10-08T10:59:47.350Z"
   },
   {
    "duration": 8,
    "start_time": "2023-10-08T10:59:47.367Z"
   },
   {
    "duration": 5,
    "start_time": "2023-10-08T10:59:47.377Z"
   },
   {
    "duration": 5,
    "start_time": "2023-10-08T10:59:47.383Z"
   },
   {
    "duration": 6,
    "start_time": "2023-10-08T10:59:47.390Z"
   },
   {
    "duration": 12,
    "start_time": "2023-10-08T10:59:47.397Z"
   },
   {
    "duration": 2,
    "start_time": "2023-10-08T10:59:47.411Z"
   },
   {
    "duration": 8,
    "start_time": "2023-10-08T10:59:47.415Z"
   },
   {
    "duration": 3,
    "start_time": "2023-10-08T10:59:47.444Z"
   },
   {
    "duration": 16,
    "start_time": "2023-10-08T10:59:47.449Z"
   },
   {
    "duration": 172,
    "start_time": "2023-10-08T10:59:47.467Z"
   },
   {
    "duration": 168,
    "start_time": "2023-10-08T10:59:47.641Z"
   },
   {
    "duration": 2,
    "start_time": "2023-10-08T10:59:47.811Z"
   },
   {
    "duration": 15,
    "start_time": "2023-10-08T10:59:47.815Z"
   },
   {
    "duration": 118,
    "start_time": "2023-10-08T10:59:47.832Z"
   },
   {
    "duration": 155,
    "start_time": "2023-10-08T10:59:47.952Z"
   },
   {
    "duration": 2,
    "start_time": "2023-10-08T10:59:48.109Z"
   },
   {
    "duration": 6,
    "start_time": "2023-10-08T10:59:48.112Z"
   },
   {
    "duration": 10,
    "start_time": "2023-10-08T10:59:48.119Z"
   },
   {
    "duration": 190,
    "start_time": "2023-10-08T10:59:48.130Z"
   },
   {
    "duration": 483,
    "start_time": "2023-10-08T10:59:48.321Z"
   },
   {
    "duration": 2,
    "start_time": "2023-10-08T10:59:48.806Z"
   },
   {
    "duration": 7,
    "start_time": "2023-10-08T10:59:48.901Z"
   },
   {
    "duration": 73,
    "start_time": "2023-10-08T10:59:48.909Z"
   },
   {
    "duration": 43,
    "start_time": "2023-10-08T10:59:48.984Z"
   },
   {
    "duration": 20,
    "start_time": "2023-10-08T10:59:49.029Z"
   },
   {
    "duration": 29,
    "start_time": "2023-10-08T10:59:49.051Z"
   },
   {
    "duration": 8,
    "start_time": "2023-10-08T10:59:49.081Z"
   },
   {
    "duration": 13,
    "start_time": "2023-10-08T10:59:49.090Z"
   },
   {
    "duration": 11,
    "start_time": "2023-10-08T10:59:49.104Z"
   },
   {
    "duration": 10,
    "start_time": "2023-10-08T10:59:49.117Z"
   },
   {
    "duration": 8,
    "start_time": "2023-10-08T10:59:49.128Z"
   },
   {
    "duration": 141,
    "start_time": "2023-10-08T10:59:49.138Z"
   },
   {
    "duration": 2,
    "start_time": "2023-10-08T10:59:49.282Z"
   },
   {
    "duration": 8,
    "start_time": "2023-10-08T10:59:49.285Z"
   },
   {
    "duration": 9,
    "start_time": "2023-10-08T10:59:49.294Z"
   },
   {
    "duration": 7,
    "start_time": "2023-10-08T10:59:49.304Z"
   },
   {
    "duration": 5,
    "start_time": "2023-10-08T10:59:49.312Z"
   },
   {
    "duration": 5,
    "start_time": "2023-10-08T10:59:49.346Z"
   },
   {
    "duration": 13,
    "start_time": "2023-10-08T10:59:49.353Z"
   },
   {
    "duration": 10,
    "start_time": "2023-10-08T10:59:49.368Z"
   },
   {
    "duration": 144,
    "start_time": "2023-10-08T10:59:49.379Z"
   },
   {
    "duration": 2,
    "start_time": "2023-10-08T10:59:49.525Z"
   },
   {
    "duration": 15,
    "start_time": "2023-10-08T10:59:49.529Z"
   },
   {
    "duration": 32,
    "start_time": "2023-10-08T10:59:49.545Z"
   },
   {
    "duration": 16,
    "start_time": "2023-10-08T10:59:49.579Z"
   },
   {
    "duration": 10,
    "start_time": "2023-10-08T10:59:49.596Z"
   },
   {
    "duration": 22,
    "start_time": "2023-10-08T10:59:49.607Z"
   },
   {
    "duration": 3,
    "start_time": "2023-10-08T10:59:49.630Z"
   },
   {
    "duration": 6,
    "start_time": "2023-10-08T10:59:49.634Z"
   },
   {
    "duration": 19,
    "start_time": "2023-10-08T10:59:49.641Z"
   },
   {
    "duration": 21,
    "start_time": "2023-10-08T10:59:49.662Z"
   },
   {
    "duration": 6,
    "start_time": "2023-10-08T10:59:49.685Z"
   },
   {
    "duration": 18,
    "start_time": "2023-10-08T10:59:49.692Z"
   },
   {
    "duration": 20,
    "start_time": "2023-10-08T10:59:49.711Z"
   },
   {
    "duration": 2,
    "start_time": "2023-10-08T10:59:49.732Z"
   },
   {
    "duration": 9,
    "start_time": "2023-10-08T10:59:49.735Z"
   },
   {
    "duration": 219,
    "start_time": "2023-10-08T10:59:49.746Z"
   },
   {
    "duration": 3,
    "start_time": "2023-10-08T10:59:49.967Z"
   },
   {
    "duration": 28,
    "start_time": "2023-10-08T10:59:49.972Z"
   },
   {
    "duration": 260,
    "start_time": "2023-10-08T10:59:50.001Z"
   },
   {
    "duration": 5,
    "start_time": "2023-10-08T10:59:50.263Z"
   },
   {
    "duration": 209,
    "start_time": "2023-10-08T10:59:50.270Z"
   },
   {
    "duration": 214,
    "start_time": "2023-10-08T10:59:50.480Z"
   },
   {
    "duration": 3,
    "start_time": "2023-10-08T10:59:50.696Z"
   },
   {
    "duration": 28,
    "start_time": "2023-10-08T10:59:50.700Z"
   },
   {
    "duration": 865,
    "start_time": "2023-10-08T10:59:50.730Z"
   },
   {
    "duration": 4,
    "start_time": "2023-10-08T10:59:51.596Z"
   },
   {
    "duration": 68,
    "start_time": "2023-10-08T10:59:51.602Z"
   },
   {
    "duration": 26,
    "start_time": "2023-10-08T10:59:51.672Z"
   },
   {
    "duration": 36,
    "start_time": "2023-10-08T10:59:51.699Z"
   },
   {
    "duration": 32,
    "start_time": "2023-10-08T10:59:51.738Z"
   },
   {
    "duration": 52,
    "start_time": "2023-10-08T10:59:51.772Z"
   },
   {
    "duration": 57,
    "start_time": "2023-10-08T10:59:51.826Z"
   },
   {
    "duration": 36,
    "start_time": "2023-10-08T10:59:51.884Z"
   },
   {
    "duration": 31,
    "start_time": "2023-10-08T10:59:51.921Z"
   },
   {
    "duration": 32,
    "start_time": "2023-10-08T10:59:51.955Z"
   },
   {
    "duration": 39,
    "start_time": "2023-10-08T10:59:51.989Z"
   },
   {
    "duration": 20,
    "start_time": "2023-10-08T10:59:52.029Z"
   },
   {
    "duration": 194,
    "start_time": "2023-10-08T10:59:52.051Z"
   },
   {
    "duration": 11,
    "start_time": "2023-10-08T10:59:52.247Z"
   },
   {
    "duration": 35,
    "start_time": "2023-10-08T10:59:52.260Z"
   },
   {
    "duration": 41,
    "start_time": "2023-10-08T10:59:52.297Z"
   },
   {
    "duration": 24,
    "start_time": "2023-10-08T10:59:52.340Z"
   },
   {
    "duration": 31,
    "start_time": "2023-10-08T10:59:52.366Z"
   },
   {
    "duration": 36,
    "start_time": "2023-10-08T10:59:52.399Z"
   },
   {
    "duration": 52,
    "start_time": "2023-10-08T10:59:52.437Z"
   },
   {
    "duration": 53,
    "start_time": "2023-10-08T10:59:52.490Z"
   },
   {
    "duration": 36,
    "start_time": "2023-10-08T10:59:52.545Z"
   },
   {
    "duration": 42,
    "start_time": "2023-10-08T10:59:52.583Z"
   },
   {
    "duration": 38,
    "start_time": "2023-10-08T10:59:52.627Z"
   },
   {
    "duration": 27,
    "start_time": "2023-10-08T10:59:52.667Z"
   },
   {
    "duration": 61,
    "start_time": "2023-10-08T10:59:52.695Z"
   },
   {
    "duration": 34,
    "start_time": "2023-10-08T10:59:52.758Z"
   },
   {
    "duration": 21,
    "start_time": "2023-10-08T10:59:52.794Z"
   },
   {
    "duration": 33,
    "start_time": "2023-10-08T10:59:52.816Z"
   },
   {
    "duration": 25,
    "start_time": "2023-10-08T10:59:52.850Z"
   },
   {
    "duration": 36,
    "start_time": "2023-10-08T10:59:52.876Z"
   },
   {
    "duration": 42,
    "start_time": "2023-10-08T10:59:52.914Z"
   },
   {
    "duration": 41,
    "start_time": "2023-10-08T10:59:52.958Z"
   },
   {
    "duration": 83,
    "start_time": "2023-10-08T10:59:53.001Z"
   },
   {
    "duration": 30,
    "start_time": "2023-10-08T10:59:53.086Z"
   },
   {
    "duration": 46,
    "start_time": "2023-10-08T10:59:53.118Z"
   },
   {
    "duration": 39,
    "start_time": "2023-10-08T10:59:53.166Z"
   },
   {
    "duration": 56,
    "start_time": "2023-10-08T10:59:53.207Z"
   },
   {
    "duration": 36,
    "start_time": "2023-10-08T10:59:53.265Z"
   },
   {
    "duration": 24,
    "start_time": "2023-10-08T10:59:53.303Z"
   },
   {
    "duration": 35,
    "start_time": "2023-10-08T10:59:53.329Z"
   },
   {
    "duration": 23,
    "start_time": "2023-10-08T10:59:53.366Z"
   },
   {
    "duration": 25,
    "start_time": "2023-10-08T10:59:53.391Z"
   },
   {
    "duration": 42,
    "start_time": "2023-10-08T10:59:53.418Z"
   },
   {
    "duration": 19,
    "start_time": "2023-10-08T10:59:53.462Z"
   },
   {
    "duration": 23,
    "start_time": "2023-10-08T10:59:53.483Z"
   },
   {
    "duration": 20,
    "start_time": "2023-10-08T10:59:53.508Z"
   },
   {
    "duration": 20,
    "start_time": "2023-10-08T10:59:53.530Z"
   },
   {
    "duration": 22,
    "start_time": "2023-10-08T10:59:53.552Z"
   },
   {
    "duration": 28,
    "start_time": "2023-10-08T10:59:53.576Z"
   },
   {
    "duration": 35,
    "start_time": "2023-10-08T10:59:53.605Z"
   },
   {
    "duration": 21,
    "start_time": "2023-10-08T10:59:53.642Z"
   },
   {
    "duration": 17,
    "start_time": "2023-10-08T10:59:53.665Z"
   },
   {
    "duration": 15,
    "start_time": "2023-10-08T10:59:53.683Z"
   },
   {
    "duration": 26,
    "start_time": "2023-10-08T10:59:53.699Z"
   },
   {
    "duration": 42,
    "start_time": "2023-10-08T10:59:53.726Z"
   },
   {
    "duration": 268,
    "start_time": "2023-10-08T10:59:53.771Z"
   },
   {
    "duration": 2,
    "start_time": "2023-10-08T10:59:54.041Z"
   },
   {
    "duration": 30,
    "start_time": "2023-10-08T10:59:54.045Z"
   },
   {
    "duration": 116,
    "start_time": "2023-10-08T10:59:54.076Z"
   },
   {
    "duration": 5,
    "start_time": "2023-10-08T11:00:21.353Z"
   },
   {
    "duration": 4,
    "start_time": "2023-10-08T11:00:44.457Z"
   },
   {
    "duration": 3,
    "start_time": "2023-10-08T11:00:50.274Z"
   },
   {
    "duration": 3,
    "start_time": "2023-10-08T11:27:57.858Z"
   },
   {
    "duration": 3,
    "start_time": "2023-10-08T11:27:58.338Z"
   },
   {
    "duration": 3,
    "start_time": "2023-10-08T11:28:21.554Z"
   },
   {
    "duration": 4,
    "start_time": "2023-10-08T11:28:35.818Z"
   },
   {
    "duration": 3,
    "start_time": "2023-10-08T11:28:58.850Z"
   },
   {
    "duration": 14458,
    "start_time": "2023-10-08T11:30:13.342Z"
   },
   {
    "duration": 2,
    "start_time": "2023-10-08T11:30:55.004Z"
   },
   {
    "duration": 4,
    "start_time": "2023-10-08T11:32:06.748Z"
   },
   {
    "duration": 1243,
    "start_time": "2023-10-08T11:32:06.754Z"
   },
   {
    "duration": 2,
    "start_time": "2023-10-08T11:32:07.999Z"
   },
   {
    "duration": 36,
    "start_time": "2023-10-08T11:32:08.003Z"
   },
   {
    "duration": 2,
    "start_time": "2023-10-08T11:32:08.041Z"
   },
   {
    "duration": 34,
    "start_time": "2023-10-08T11:32:08.045Z"
   },
   {
    "duration": 14,
    "start_time": "2023-10-08T11:32:08.081Z"
   },
   {
    "duration": 35,
    "start_time": "2023-10-08T11:32:08.096Z"
   },
   {
    "duration": 9,
    "start_time": "2023-10-08T11:32:08.133Z"
   },
   {
    "duration": 214,
    "start_time": "2023-10-08T11:32:08.145Z"
   },
   {
    "duration": 2,
    "start_time": "2023-10-08T11:32:08.361Z"
   },
   {
    "duration": 15,
    "start_time": "2023-10-08T11:32:08.365Z"
   },
   {
    "duration": 158,
    "start_time": "2023-10-08T11:32:08.382Z"
   },
   {
    "duration": 2,
    "start_time": "2023-10-08T11:32:08.543Z"
   },
   {
    "duration": 16,
    "start_time": "2023-10-08T11:32:08.547Z"
   },
   {
    "duration": 127,
    "start_time": "2023-10-08T11:32:08.565Z"
   },
   {
    "duration": 2,
    "start_time": "2023-10-08T11:32:08.694Z"
   },
   {
    "duration": 38,
    "start_time": "2023-10-08T11:32:08.698Z"
   },
   {
    "duration": 11,
    "start_time": "2023-10-08T11:32:08.737Z"
   },
   {
    "duration": 14,
    "start_time": "2023-10-08T11:32:08.750Z"
   },
   {
    "duration": 20,
    "start_time": "2023-10-08T11:32:08.765Z"
   },
   {
    "duration": 9,
    "start_time": "2023-10-08T11:32:08.787Z"
   },
   {
    "duration": 10,
    "start_time": "2023-10-08T11:32:08.798Z"
   },
   {
    "duration": 29,
    "start_time": "2023-10-08T11:32:08.809Z"
   },
   {
    "duration": 11,
    "start_time": "2023-10-08T11:32:08.839Z"
   },
   {
    "duration": 24,
    "start_time": "2023-10-08T11:32:08.852Z"
   },
   {
    "duration": 12,
    "start_time": "2023-10-08T11:32:08.878Z"
   },
   {
    "duration": 16,
    "start_time": "2023-10-08T11:32:08.895Z"
   },
   {
    "duration": 35,
    "start_time": "2023-10-08T11:32:08.913Z"
   },
   {
    "duration": 15,
    "start_time": "2023-10-08T11:32:08.949Z"
   },
   {
    "duration": 21,
    "start_time": "2023-10-08T11:32:08.966Z"
   },
   {
    "duration": 25,
    "start_time": "2023-10-08T11:32:08.989Z"
   },
   {
    "duration": 11,
    "start_time": "2023-10-08T11:32:09.015Z"
   },
   {
    "duration": 6,
    "start_time": "2023-10-08T11:32:09.028Z"
   },
   {
    "duration": 19,
    "start_time": "2023-10-08T11:32:09.036Z"
   },
   {
    "duration": 19,
    "start_time": "2023-10-08T11:32:09.057Z"
   },
   {
    "duration": 12,
    "start_time": "2023-10-08T11:32:09.078Z"
   },
   {
    "duration": 22,
    "start_time": "2023-10-08T11:32:09.092Z"
   },
   {
    "duration": 11,
    "start_time": "2023-10-08T11:32:09.116Z"
   },
   {
    "duration": 26,
    "start_time": "2023-10-08T11:32:09.129Z"
   },
   {
    "duration": 12,
    "start_time": "2023-10-08T11:32:09.156Z"
   },
   {
    "duration": 10,
    "start_time": "2023-10-08T11:32:09.170Z"
   },
   {
    "duration": 69,
    "start_time": "2023-10-08T11:32:09.182Z"
   },
   {
    "duration": 18,
    "start_time": "2023-10-08T11:32:09.253Z"
   },
   {
    "duration": 15,
    "start_time": "2023-10-08T11:32:09.272Z"
   },
   {
    "duration": 16,
    "start_time": "2023-10-08T11:32:09.288Z"
   },
   {
    "duration": 11,
    "start_time": "2023-10-08T11:32:09.305Z"
   },
   {
    "duration": 12,
    "start_time": "2023-10-08T11:32:09.317Z"
   },
   {
    "duration": 10,
    "start_time": "2023-10-08T11:32:09.330Z"
   },
   {
    "duration": 38,
    "start_time": "2023-10-08T11:32:09.342Z"
   },
   {
    "duration": 24,
    "start_time": "2023-10-08T11:32:09.381Z"
   },
   {
    "duration": 12,
    "start_time": "2023-10-08T11:32:09.406Z"
   },
   {
    "duration": 16,
    "start_time": "2023-10-08T11:32:09.420Z"
   },
   {
    "duration": 27,
    "start_time": "2023-10-08T11:32:09.438Z"
   },
   {
    "duration": 45,
    "start_time": "2023-10-08T11:32:09.466Z"
   },
   {
    "duration": 17,
    "start_time": "2023-10-08T11:32:09.513Z"
   },
   {
    "duration": 13,
    "start_time": "2023-10-08T11:32:09.532Z"
   },
   {
    "duration": 24,
    "start_time": "2023-10-08T11:32:09.547Z"
   },
   {
    "duration": 13,
    "start_time": "2023-10-08T11:32:09.573Z"
   },
   {
    "duration": 21,
    "start_time": "2023-10-08T11:32:09.587Z"
   },
   {
    "duration": 23,
    "start_time": "2023-10-08T11:32:09.610Z"
   },
   {
    "duration": 5,
    "start_time": "2023-10-08T11:32:09.635Z"
   },
   {
    "duration": 28,
    "start_time": "2023-10-08T11:32:09.641Z"
   },
   {
    "duration": 31,
    "start_time": "2023-10-08T11:32:09.670Z"
   },
   {
    "duration": 19,
    "start_time": "2023-10-08T11:32:09.703Z"
   },
   {
    "duration": 35,
    "start_time": "2023-10-08T11:32:09.723Z"
   },
   {
    "duration": 14,
    "start_time": "2023-10-08T11:32:09.760Z"
   },
   {
    "duration": 44,
    "start_time": "2023-10-08T11:32:09.775Z"
   },
   {
    "duration": 22,
    "start_time": "2023-10-08T11:32:09.821Z"
   },
   {
    "duration": 206,
    "start_time": "2023-10-08T11:32:09.844Z"
   },
   {
    "duration": 155,
    "start_time": "2023-10-08T11:32:10.051Z"
   },
   {
    "duration": 2,
    "start_time": "2023-10-08T11:32:10.208Z"
   },
   {
    "duration": 14,
    "start_time": "2023-10-08T11:32:10.212Z"
   },
   {
    "duration": 130,
    "start_time": "2023-10-08T11:32:10.228Z"
   },
   {
    "duration": 173,
    "start_time": "2023-10-08T11:32:10.359Z"
   },
   {
    "duration": 3,
    "start_time": "2023-10-08T11:32:10.533Z"
   },
   {
    "duration": 12,
    "start_time": "2023-10-08T11:32:10.544Z"
   },
   {
    "duration": 19,
    "start_time": "2023-10-08T11:32:10.557Z"
   },
   {
    "duration": 165,
    "start_time": "2023-10-08T11:32:10.577Z"
   },
   {
    "duration": 456,
    "start_time": "2023-10-08T11:32:10.743Z"
   },
   {
    "duration": 2,
    "start_time": "2023-10-08T11:32:11.201Z"
   },
   {
    "duration": 5,
    "start_time": "2023-10-08T11:32:11.289Z"
   },
   {
    "duration": 16,
    "start_time": "2023-10-08T11:32:11.295Z"
   },
   {
    "duration": 36,
    "start_time": "2023-10-08T11:32:11.312Z"
   },
   {
    "duration": 13,
    "start_time": "2023-10-08T11:32:11.350Z"
   },
   {
    "duration": 8,
    "start_time": "2023-10-08T11:32:11.365Z"
   },
   {
    "duration": 6,
    "start_time": "2023-10-08T11:32:11.375Z"
   },
   {
    "duration": 12,
    "start_time": "2023-10-08T11:32:11.383Z"
   },
   {
    "duration": 31,
    "start_time": "2023-10-08T11:32:11.397Z"
   },
   {
    "duration": 10,
    "start_time": "2023-10-08T11:32:11.430Z"
   },
   {
    "duration": 33,
    "start_time": "2023-10-08T11:32:11.442Z"
   },
   {
    "duration": 177,
    "start_time": "2023-10-08T11:32:11.476Z"
   },
   {
    "duration": 2,
    "start_time": "2023-10-08T11:32:11.655Z"
   },
   {
    "duration": 36,
    "start_time": "2023-10-08T11:32:11.659Z"
   },
   {
    "duration": 32,
    "start_time": "2023-10-08T11:32:11.697Z"
   },
   {
    "duration": 21,
    "start_time": "2023-10-08T11:32:11.730Z"
   },
   {
    "duration": 19,
    "start_time": "2023-10-08T11:32:11.753Z"
   },
   {
    "duration": 31,
    "start_time": "2023-10-08T11:32:11.774Z"
   },
   {
    "duration": 13,
    "start_time": "2023-10-08T11:32:11.807Z"
   },
   {
    "duration": 20,
    "start_time": "2023-10-08T11:32:11.822Z"
   },
   {
    "duration": 150,
    "start_time": "2023-10-08T11:32:11.843Z"
   },
   {
    "duration": 2,
    "start_time": "2023-10-08T11:32:11.995Z"
   },
   {
    "duration": 31,
    "start_time": "2023-10-08T11:32:11.998Z"
   },
   {
    "duration": 33,
    "start_time": "2023-10-08T11:32:12.030Z"
   },
   {
    "duration": 20,
    "start_time": "2023-10-08T11:32:12.065Z"
   },
   {
    "duration": 32,
    "start_time": "2023-10-08T11:32:12.086Z"
   },
   {
    "duration": 77,
    "start_time": "2023-10-08T11:32:12.120Z"
   },
   {
    "duration": 14,
    "start_time": "2023-10-08T11:32:12.199Z"
   },
   {
    "duration": 19,
    "start_time": "2023-10-08T11:32:12.214Z"
   },
   {
    "duration": 18,
    "start_time": "2023-10-08T11:32:12.235Z"
   },
   {
    "duration": 39,
    "start_time": "2023-10-08T11:32:12.255Z"
   },
   {
    "duration": 30,
    "start_time": "2023-10-08T11:32:12.296Z"
   },
   {
    "duration": 11,
    "start_time": "2023-10-08T11:32:12.327Z"
   },
   {
    "duration": 30,
    "start_time": "2023-10-08T11:32:12.340Z"
   },
   {
    "duration": 6,
    "start_time": "2023-10-08T11:32:12.372Z"
   },
   {
    "duration": 12,
    "start_time": "2023-10-08T11:32:12.379Z"
   },
   {
    "duration": 214,
    "start_time": "2023-10-08T11:32:12.393Z"
   },
   {
    "duration": 3,
    "start_time": "2023-10-08T11:32:12.609Z"
   },
   {
    "duration": 12,
    "start_time": "2023-10-08T11:32:12.614Z"
   },
   {
    "duration": 202,
    "start_time": "2023-10-08T11:32:12.628Z"
   },
   {
    "duration": 2,
    "start_time": "2023-10-08T11:32:12.832Z"
   },
   {
    "duration": 183,
    "start_time": "2023-10-08T11:32:12.843Z"
   },
   {
    "duration": 202,
    "start_time": "2023-10-08T11:32:13.028Z"
   },
   {
    "duration": 3,
    "start_time": "2023-10-08T11:32:13.231Z"
   },
   {
    "duration": 73,
    "start_time": "2023-10-08T11:32:13.243Z"
   },
   {
    "duration": 882,
    "start_time": "2023-10-08T11:32:13.318Z"
   },
   {
    "duration": 3,
    "start_time": "2023-10-08T11:32:14.202Z"
   },
   {
    "duration": 29,
    "start_time": "2023-10-08T11:32:14.207Z"
   },
   {
    "duration": 40,
    "start_time": "2023-10-08T11:32:14.238Z"
   },
   {
    "duration": 17,
    "start_time": "2023-10-08T11:32:14.280Z"
   },
   {
    "duration": 32,
    "start_time": "2023-10-08T11:32:14.299Z"
   },
   {
    "duration": 71,
    "start_time": "2023-10-08T11:32:14.332Z"
   },
   {
    "duration": 29,
    "start_time": "2023-10-08T11:32:14.405Z"
   },
   {
    "duration": 31,
    "start_time": "2023-10-08T11:32:14.436Z"
   },
   {
    "duration": 28,
    "start_time": "2023-10-08T11:32:14.470Z"
   },
   {
    "duration": 33,
    "start_time": "2023-10-08T11:32:14.500Z"
   },
   {
    "duration": 33,
    "start_time": "2023-10-08T11:32:14.535Z"
   },
   {
    "duration": 21,
    "start_time": "2023-10-08T11:32:14.570Z"
   },
   {
    "duration": 168,
    "start_time": "2023-10-08T11:32:14.593Z"
   },
   {
    "duration": 6,
    "start_time": "2023-10-08T11:32:14.763Z"
   },
   {
    "duration": 28,
    "start_time": "2023-10-08T11:32:14.771Z"
   },
   {
    "duration": 20,
    "start_time": "2023-10-08T11:32:14.800Z"
   },
   {
    "duration": 13,
    "start_time": "2023-10-08T11:32:14.822Z"
   },
   {
    "duration": 36,
    "start_time": "2023-10-08T11:32:14.837Z"
   },
   {
    "duration": 57,
    "start_time": "2023-10-08T11:32:14.875Z"
   },
   {
    "duration": 21,
    "start_time": "2023-10-08T11:32:14.934Z"
   },
   {
    "duration": 22,
    "start_time": "2023-10-08T11:32:14.957Z"
   },
   {
    "duration": 25,
    "start_time": "2023-10-08T11:32:14.980Z"
   },
   {
    "duration": 61,
    "start_time": "2023-10-08T11:32:15.006Z"
   },
   {
    "duration": 31,
    "start_time": "2023-10-08T11:32:15.068Z"
   },
   {
    "duration": 50,
    "start_time": "2023-10-08T11:32:15.101Z"
   },
   {
    "duration": 17,
    "start_time": "2023-10-08T11:32:15.152Z"
   },
   {
    "duration": 22,
    "start_time": "2023-10-08T11:32:15.170Z"
   },
   {
    "duration": 35,
    "start_time": "2023-10-08T11:32:15.193Z"
   },
   {
    "duration": 20,
    "start_time": "2023-10-08T11:32:15.230Z"
   },
   {
    "duration": 17,
    "start_time": "2023-10-08T11:32:15.252Z"
   },
   {
    "duration": 25,
    "start_time": "2023-10-08T11:32:15.271Z"
   },
   {
    "duration": 30,
    "start_time": "2023-10-08T11:32:15.297Z"
   },
   {
    "duration": 15,
    "start_time": "2023-10-08T11:32:15.329Z"
   },
   {
    "duration": 24,
    "start_time": "2023-10-08T11:32:15.345Z"
   },
   {
    "duration": 12,
    "start_time": "2023-10-08T11:32:15.371Z"
   },
   {
    "duration": 26,
    "start_time": "2023-10-08T11:32:15.385Z"
   },
   {
    "duration": 21,
    "start_time": "2023-10-08T11:32:15.413Z"
   },
   {
    "duration": 26,
    "start_time": "2023-10-08T11:32:15.436Z"
   },
   {
    "duration": 7,
    "start_time": "2023-10-08T11:32:15.464Z"
   },
   {
    "duration": 47,
    "start_time": "2023-10-08T11:32:15.472Z"
   },
   {
    "duration": 25,
    "start_time": "2023-10-08T11:32:15.521Z"
   },
   {
    "duration": 18,
    "start_time": "2023-10-08T11:32:15.547Z"
   },
   {
    "duration": 36,
    "start_time": "2023-10-08T11:32:15.567Z"
   },
   {
    "duration": 36,
    "start_time": "2023-10-08T11:32:15.605Z"
   },
   {
    "duration": 33,
    "start_time": "2023-10-08T11:32:15.643Z"
   },
   {
    "duration": 36,
    "start_time": "2023-10-08T11:32:15.678Z"
   },
   {
    "duration": 17,
    "start_time": "2023-10-08T11:32:15.715Z"
   },
   {
    "duration": 8,
    "start_time": "2023-10-08T11:32:15.734Z"
   },
   {
    "duration": 25,
    "start_time": "2023-10-08T11:32:15.743Z"
   },
   {
    "duration": 26,
    "start_time": "2023-10-08T11:32:15.769Z"
   },
   {
    "duration": 14,
    "start_time": "2023-10-08T11:32:15.797Z"
   },
   {
    "duration": 32,
    "start_time": "2023-10-08T11:32:15.812Z"
   },
   {
    "duration": 54,
    "start_time": "2023-10-08T11:32:15.846Z"
   },
   {
    "duration": 54,
    "start_time": "2023-10-08T11:32:15.902Z"
   },
   {
    "duration": 27,
    "start_time": "2023-10-08T11:32:15.958Z"
   },
   {
    "duration": 32,
    "start_time": "2023-10-08T11:32:15.987Z"
   },
   {
    "duration": 279,
    "start_time": "2023-10-08T11:32:16.020Z"
   },
   {
    "duration": 3,
    "start_time": "2023-10-08T11:32:16.300Z"
   },
   {
    "duration": 26,
    "start_time": "2023-10-08T11:32:16.305Z"
   },
   {
    "duration": 27,
    "start_time": "2023-10-08T11:32:16.333Z"
   },
   {
    "duration": 20,
    "start_time": "2023-10-08T11:32:16.362Z"
   },
   {
    "duration": 26,
    "start_time": "2023-10-08T11:32:16.384Z"
   },
   {
    "duration": 16,
    "start_time": "2023-10-08T11:32:16.412Z"
   },
   {
    "duration": 25,
    "start_time": "2023-10-08T11:32:16.429Z"
   },
   {
    "duration": 36,
    "start_time": "2023-10-08T11:32:16.455Z"
   },
   {
    "duration": 8,
    "start_time": "2023-10-08T11:32:16.493Z"
   },
   {
    "duration": 15,
    "start_time": "2023-10-08T11:32:16.503Z"
   },
   {
    "duration": 5,
    "start_time": "2023-10-08T11:32:34.635Z"
   },
   {
    "duration": 1173,
    "start_time": "2023-10-08T11:32:34.642Z"
   },
   {
    "duration": 2,
    "start_time": "2023-10-08T11:32:35.817Z"
   },
   {
    "duration": 42,
    "start_time": "2023-10-08T11:32:35.821Z"
   },
   {
    "duration": 3,
    "start_time": "2023-10-08T11:32:35.864Z"
   },
   {
    "duration": 22,
    "start_time": "2023-10-08T11:32:35.868Z"
   },
   {
    "duration": 19,
    "start_time": "2023-10-08T11:32:35.891Z"
   },
   {
    "duration": 21,
    "start_time": "2023-10-08T11:32:35.911Z"
   },
   {
    "duration": 15,
    "start_time": "2023-10-08T11:32:35.934Z"
   },
   {
    "duration": 192,
    "start_time": "2023-10-08T11:32:35.952Z"
   },
   {
    "duration": 2,
    "start_time": "2023-10-08T11:32:36.146Z"
   },
   {
    "duration": 27,
    "start_time": "2023-10-08T11:32:36.149Z"
   },
   {
    "duration": 158,
    "start_time": "2023-10-08T11:32:36.178Z"
   },
   {
    "duration": 3,
    "start_time": "2023-10-08T11:32:36.337Z"
   },
   {
    "duration": 15,
    "start_time": "2023-10-08T11:32:36.344Z"
   },
   {
    "duration": 117,
    "start_time": "2023-10-08T11:32:36.361Z"
   },
   {
    "duration": 3,
    "start_time": "2023-10-08T11:32:36.479Z"
   },
   {
    "duration": 33,
    "start_time": "2023-10-08T11:32:36.484Z"
   },
   {
    "duration": 11,
    "start_time": "2023-10-08T11:32:36.519Z"
   },
   {
    "duration": 16,
    "start_time": "2023-10-08T11:32:36.531Z"
   },
   {
    "duration": 7,
    "start_time": "2023-10-08T11:32:36.548Z"
   },
   {
    "duration": 23,
    "start_time": "2023-10-08T11:32:36.557Z"
   },
   {
    "duration": 11,
    "start_time": "2023-10-08T11:32:36.583Z"
   },
   {
    "duration": 29,
    "start_time": "2023-10-08T11:32:36.596Z"
   },
   {
    "duration": 10,
    "start_time": "2023-10-08T11:32:36.627Z"
   },
   {
    "duration": 35,
    "start_time": "2023-10-08T11:32:36.638Z"
   },
   {
    "duration": 12,
    "start_time": "2023-10-08T11:32:36.675Z"
   },
   {
    "duration": 9,
    "start_time": "2023-10-08T11:32:36.691Z"
   },
   {
    "duration": 13,
    "start_time": "2023-10-08T11:32:36.701Z"
   },
   {
    "duration": 11,
    "start_time": "2023-10-08T11:32:36.716Z"
   },
   {
    "duration": 27,
    "start_time": "2023-10-08T11:32:36.729Z"
   },
   {
    "duration": 15,
    "start_time": "2023-10-08T11:32:36.757Z"
   },
   {
    "duration": 19,
    "start_time": "2023-10-08T11:32:36.774Z"
   },
   {
    "duration": 54,
    "start_time": "2023-10-08T11:32:36.795Z"
   },
   {
    "duration": 19,
    "start_time": "2023-10-08T11:32:36.850Z"
   },
   {
    "duration": 33,
    "start_time": "2023-10-08T11:32:36.871Z"
   },
   {
    "duration": 14,
    "start_time": "2023-10-08T11:32:36.905Z"
   },
   {
    "duration": 22,
    "start_time": "2023-10-08T11:32:36.920Z"
   },
   {
    "duration": 25,
    "start_time": "2023-10-08T11:32:36.944Z"
   },
   {
    "duration": 43,
    "start_time": "2023-10-08T11:32:36.971Z"
   },
   {
    "duration": 33,
    "start_time": "2023-10-08T11:32:37.015Z"
   },
   {
    "duration": 7,
    "start_time": "2023-10-08T11:32:37.050Z"
   },
   {
    "duration": 10,
    "start_time": "2023-10-08T11:32:37.059Z"
   },
   {
    "duration": 14,
    "start_time": "2023-10-08T11:32:37.071Z"
   },
   {
    "duration": 10,
    "start_time": "2023-10-08T11:32:37.086Z"
   },
   {
    "duration": 22,
    "start_time": "2023-10-08T11:32:37.097Z"
   },
   {
    "duration": 11,
    "start_time": "2023-10-08T11:32:37.121Z"
   },
   {
    "duration": 28,
    "start_time": "2023-10-08T11:32:37.134Z"
   },
   {
    "duration": 29,
    "start_time": "2023-10-08T11:32:37.164Z"
   },
   {
    "duration": 20,
    "start_time": "2023-10-08T11:32:37.195Z"
   },
   {
    "duration": 18,
    "start_time": "2023-10-08T11:32:37.217Z"
   },
   {
    "duration": 12,
    "start_time": "2023-10-08T11:32:37.237Z"
   },
   {
    "duration": 28,
    "start_time": "2023-10-08T11:32:37.251Z"
   },
   {
    "duration": 12,
    "start_time": "2023-10-08T11:32:37.280Z"
   },
   {
    "duration": 25,
    "start_time": "2023-10-08T11:32:37.293Z"
   },
   {
    "duration": 13,
    "start_time": "2023-10-08T11:32:37.320Z"
   },
   {
    "duration": 26,
    "start_time": "2023-10-08T11:32:37.334Z"
   },
   {
    "duration": 32,
    "start_time": "2023-10-08T11:32:37.361Z"
   },
   {
    "duration": 14,
    "start_time": "2023-10-08T11:32:37.395Z"
   },
   {
    "duration": 25,
    "start_time": "2023-10-08T11:32:37.411Z"
   },
   {
    "duration": 19,
    "start_time": "2023-10-08T11:32:37.438Z"
   },
   {
    "duration": 24,
    "start_time": "2023-10-08T11:32:37.459Z"
   },
   {
    "duration": 32,
    "start_time": "2023-10-08T11:32:37.485Z"
   },
   {
    "duration": 29,
    "start_time": "2023-10-08T11:32:37.518Z"
   },
   {
    "duration": 18,
    "start_time": "2023-10-08T11:32:37.549Z"
   },
   {
    "duration": 22,
    "start_time": "2023-10-08T11:32:37.569Z"
   },
   {
    "duration": 9,
    "start_time": "2023-10-08T11:32:37.593Z"
   },
   {
    "duration": 15,
    "start_time": "2023-10-08T11:32:37.604Z"
   },
   {
    "duration": 15,
    "start_time": "2023-10-08T11:32:37.621Z"
   },
   {
    "duration": 174,
    "start_time": "2023-10-08T11:32:37.638Z"
   },
   {
    "duration": 157,
    "start_time": "2023-10-08T11:32:37.814Z"
   },
   {
    "duration": 2,
    "start_time": "2023-10-08T11:32:37.973Z"
   },
   {
    "duration": 25,
    "start_time": "2023-10-08T11:32:37.976Z"
   },
   {
    "duration": 143,
    "start_time": "2023-10-08T11:32:38.002Z"
   },
   {
    "duration": 144,
    "start_time": "2023-10-08T11:32:38.147Z"
   },
   {
    "duration": 3,
    "start_time": "2023-10-08T11:32:38.293Z"
   },
   {
    "duration": 24,
    "start_time": "2023-10-08T11:32:38.298Z"
   },
   {
    "duration": 32,
    "start_time": "2023-10-08T11:32:38.323Z"
   },
   {
    "duration": 164,
    "start_time": "2023-10-08T11:32:38.357Z"
   },
   {
    "duration": 448,
    "start_time": "2023-10-08T11:32:38.523Z"
   },
   {
    "duration": 3,
    "start_time": "2023-10-08T11:32:38.973Z"
   },
   {
    "duration": 6,
    "start_time": "2023-10-08T11:32:39.074Z"
   },
   {
    "duration": 27,
    "start_time": "2023-10-08T11:32:39.081Z"
   },
   {
    "duration": 14,
    "start_time": "2023-10-08T11:32:39.110Z"
   },
   {
    "duration": 12,
    "start_time": "2023-10-08T11:32:39.126Z"
   },
   {
    "duration": 33,
    "start_time": "2023-10-08T11:32:39.139Z"
   },
   {
    "duration": 24,
    "start_time": "2023-10-08T11:32:39.174Z"
   },
   {
    "duration": 39,
    "start_time": "2023-10-08T11:32:39.200Z"
   },
   {
    "duration": 22,
    "start_time": "2023-10-08T11:32:39.241Z"
   },
   {
    "duration": 27,
    "start_time": "2023-10-08T11:32:39.265Z"
   },
   {
    "duration": 24,
    "start_time": "2023-10-08T11:32:39.294Z"
   },
   {
    "duration": 155,
    "start_time": "2023-10-08T11:32:39.320Z"
   },
   {
    "duration": 3,
    "start_time": "2023-10-08T11:32:39.477Z"
   },
   {
    "duration": 12,
    "start_time": "2023-10-08T11:32:39.482Z"
   },
   {
    "duration": 31,
    "start_time": "2023-10-08T11:32:39.496Z"
   },
   {
    "duration": 19,
    "start_time": "2023-10-08T11:32:39.529Z"
   },
   {
    "duration": 38,
    "start_time": "2023-10-08T11:32:39.550Z"
   },
   {
    "duration": 24,
    "start_time": "2023-10-08T11:32:39.590Z"
   },
   {
    "duration": 19,
    "start_time": "2023-10-08T11:32:39.616Z"
   },
   {
    "duration": 19,
    "start_time": "2023-10-08T11:32:39.637Z"
   },
   {
    "duration": 139,
    "start_time": "2023-10-08T11:32:39.657Z"
   },
   {
    "duration": 3,
    "start_time": "2023-10-08T11:32:39.798Z"
   },
   {
    "duration": 19,
    "start_time": "2023-10-08T11:32:39.802Z"
   },
   {
    "duration": 29,
    "start_time": "2023-10-08T11:32:39.822Z"
   },
   {
    "duration": 21,
    "start_time": "2023-10-08T11:32:39.852Z"
   },
   {
    "duration": 34,
    "start_time": "2023-10-08T11:32:39.874Z"
   },
   {
    "duration": 35,
    "start_time": "2023-10-08T11:32:39.909Z"
   },
   {
    "duration": 8,
    "start_time": "2023-10-08T11:32:39.946Z"
   },
   {
    "duration": 22,
    "start_time": "2023-10-08T11:32:39.956Z"
   },
   {
    "duration": 29,
    "start_time": "2023-10-08T11:32:39.980Z"
   },
   {
    "duration": 44,
    "start_time": "2023-10-08T11:32:40.011Z"
   },
   {
    "duration": 21,
    "start_time": "2023-10-08T11:32:40.057Z"
   },
   {
    "duration": 40,
    "start_time": "2023-10-08T11:32:40.080Z"
   },
   {
    "duration": 31,
    "start_time": "2023-10-08T11:32:40.122Z"
   },
   {
    "duration": 11,
    "start_time": "2023-10-08T11:32:40.155Z"
   },
   {
    "duration": 41,
    "start_time": "2023-10-08T11:32:40.167Z"
   },
   {
    "duration": 208,
    "start_time": "2023-10-08T11:32:40.210Z"
   },
   {
    "duration": 2,
    "start_time": "2023-10-08T11:32:40.420Z"
   },
   {
    "duration": 16,
    "start_time": "2023-10-08T11:32:40.424Z"
   },
   {
    "duration": 205,
    "start_time": "2023-10-08T11:32:40.441Z"
   },
   {
    "duration": 2,
    "start_time": "2023-10-08T11:32:40.648Z"
   },
   {
    "duration": 201,
    "start_time": "2023-10-08T11:32:40.651Z"
   },
   {
    "duration": 190,
    "start_time": "2023-10-08T11:32:40.854Z"
   },
   {
    "duration": 3,
    "start_time": "2023-10-08T11:32:41.046Z"
   },
   {
    "duration": 14,
    "start_time": "2023-10-08T11:32:41.050Z"
   },
   {
    "duration": 852,
    "start_time": "2023-10-08T11:32:41.066Z"
   },
   {
    "duration": 4,
    "start_time": "2023-10-08T11:32:41.919Z"
   },
   {
    "duration": 9,
    "start_time": "2023-10-08T11:32:41.924Z"
   },
   {
    "duration": 27,
    "start_time": "2023-10-08T11:32:41.934Z"
   },
   {
    "duration": 4,
    "start_time": "2023-10-08T11:32:41.963Z"
   },
   {
    "duration": 5,
    "start_time": "2023-10-08T11:32:41.969Z"
   },
   {
    "duration": 13,
    "start_time": "2023-10-08T11:32:41.975Z"
   },
   {
    "duration": 6,
    "start_time": "2023-10-08T11:32:41.990Z"
   },
   {
    "duration": 8,
    "start_time": "2023-10-08T11:32:41.998Z"
   },
   {
    "duration": 10,
    "start_time": "2023-10-08T11:32:42.007Z"
   },
   {
    "duration": 21,
    "start_time": "2023-10-08T11:32:42.019Z"
   },
   {
    "duration": 21,
    "start_time": "2023-10-08T11:32:42.042Z"
   },
   {
    "duration": 52,
    "start_time": "2023-10-08T11:32:42.065Z"
   },
   {
    "duration": 156,
    "start_time": "2023-10-08T11:32:42.118Z"
   },
   {
    "duration": 6,
    "start_time": "2023-10-08T11:32:42.276Z"
   },
   {
    "duration": 28,
    "start_time": "2023-10-08T11:32:42.283Z"
   },
   {
    "duration": 23,
    "start_time": "2023-10-08T11:32:42.312Z"
   },
   {
    "duration": 33,
    "start_time": "2023-10-08T11:32:42.337Z"
   },
   {
    "duration": 15,
    "start_time": "2023-10-08T11:32:42.372Z"
   },
   {
    "duration": 32,
    "start_time": "2023-10-08T11:32:42.389Z"
   },
   {
    "duration": 33,
    "start_time": "2023-10-08T11:32:42.423Z"
   },
   {
    "duration": 23,
    "start_time": "2023-10-08T11:32:42.458Z"
   },
   {
    "duration": 38,
    "start_time": "2023-10-08T11:32:42.482Z"
   },
   {
    "duration": 19,
    "start_time": "2023-10-08T11:32:42.522Z"
   },
   {
    "duration": 32,
    "start_time": "2023-10-08T11:32:42.544Z"
   },
   {
    "duration": 37,
    "start_time": "2023-10-08T11:32:42.578Z"
   },
   {
    "duration": 16,
    "start_time": "2023-10-08T11:32:42.616Z"
   },
   {
    "duration": 31,
    "start_time": "2023-10-08T11:32:42.634Z"
   },
   {
    "duration": 23,
    "start_time": "2023-10-08T11:32:42.666Z"
   },
   {
    "duration": 45,
    "start_time": "2023-10-08T11:32:42.691Z"
   },
   {
    "duration": 21,
    "start_time": "2023-10-08T11:32:42.738Z"
   },
   {
    "duration": 13,
    "start_time": "2023-10-08T11:32:42.761Z"
   },
   {
    "duration": 34,
    "start_time": "2023-10-08T11:32:42.775Z"
   },
   {
    "duration": 16,
    "start_time": "2023-10-08T11:32:42.811Z"
   },
   {
    "duration": 23,
    "start_time": "2023-10-08T11:32:42.829Z"
   },
   {
    "duration": 29,
    "start_time": "2023-10-08T11:32:42.854Z"
   },
   {
    "duration": 27,
    "start_time": "2023-10-08T11:32:42.884Z"
   },
   {
    "duration": 44,
    "start_time": "2023-10-08T11:32:42.913Z"
   },
   {
    "duration": 26,
    "start_time": "2023-10-08T11:32:42.958Z"
   },
   {
    "duration": 27,
    "start_time": "2023-10-08T11:32:42.985Z"
   },
   {
    "duration": 31,
    "start_time": "2023-10-08T11:32:43.013Z"
   },
   {
    "duration": 22,
    "start_time": "2023-10-08T11:32:43.046Z"
   },
   {
    "duration": 21,
    "start_time": "2023-10-08T11:32:43.069Z"
   },
   {
    "duration": 32,
    "start_time": "2023-10-08T11:32:43.091Z"
   },
   {
    "duration": 46,
    "start_time": "2023-10-08T11:32:43.125Z"
   },
   {
    "duration": 23,
    "start_time": "2023-10-08T11:32:43.173Z"
   },
   {
    "duration": 34,
    "start_time": "2023-10-08T11:32:43.198Z"
   },
   {
    "duration": 24,
    "start_time": "2023-10-08T11:32:43.234Z"
   },
   {
    "duration": 22,
    "start_time": "2023-10-08T11:32:43.260Z"
   },
   {
    "duration": 45,
    "start_time": "2023-10-08T11:32:43.283Z"
   },
   {
    "duration": 26,
    "start_time": "2023-10-08T11:32:43.331Z"
   },
   {
    "duration": 12,
    "start_time": "2023-10-08T11:32:43.359Z"
   },
   {
    "duration": 19,
    "start_time": "2023-10-08T11:32:43.373Z"
   },
   {
    "duration": 19,
    "start_time": "2023-10-08T11:32:43.393Z"
   },
   {
    "duration": 18,
    "start_time": "2023-10-08T11:32:43.414Z"
   },
   {
    "duration": 26,
    "start_time": "2023-10-08T11:32:43.434Z"
   },
   {
    "duration": 23,
    "start_time": "2023-10-08T11:32:43.462Z"
   },
   {
    "duration": 240,
    "start_time": "2023-10-08T11:32:43.487Z"
   },
   {
    "duration": 3,
    "start_time": "2023-10-08T11:32:43.728Z"
   },
   {
    "duration": 31,
    "start_time": "2023-10-08T11:32:43.733Z"
   },
   {
    "duration": 18,
    "start_time": "2023-10-08T11:32:43.765Z"
   },
   {
    "duration": 34,
    "start_time": "2023-10-08T11:32:43.785Z"
   },
   {
    "duration": 9,
    "start_time": "2023-10-08T11:32:43.821Z"
   },
   {
    "duration": 19,
    "start_time": "2023-10-08T11:32:43.832Z"
   },
   {
    "duration": 26,
    "start_time": "2023-10-08T11:32:43.852Z"
   },
   {
    "duration": 3,
    "start_time": "2023-10-08T11:35:31.009Z"
   },
   {
    "duration": 1403,
    "start_time": "2023-10-08T11:35:31.014Z"
   },
   {
    "duration": 2,
    "start_time": "2023-10-08T11:35:32.419Z"
   },
   {
    "duration": 72,
    "start_time": "2023-10-08T11:35:32.423Z"
   },
   {
    "duration": 3,
    "start_time": "2023-10-08T11:35:32.498Z"
   },
   {
    "duration": 40,
    "start_time": "2023-10-08T11:35:32.503Z"
   },
   {
    "duration": 33,
    "start_time": "2023-10-08T11:35:32.551Z"
   },
   {
    "duration": 52,
    "start_time": "2023-10-08T11:35:32.585Z"
   },
   {
    "duration": 50,
    "start_time": "2023-10-08T11:35:32.639Z"
   },
   {
    "duration": 233,
    "start_time": "2023-10-08T11:35:32.691Z"
   },
   {
    "duration": 3,
    "start_time": "2023-10-08T11:35:32.925Z"
   },
   {
    "duration": 60,
    "start_time": "2023-10-08T11:35:32.930Z"
   },
   {
    "duration": 225,
    "start_time": "2023-10-08T11:35:32.992Z"
   },
   {
    "duration": 3,
    "start_time": "2023-10-08T11:35:33.221Z"
   },
   {
    "duration": 124,
    "start_time": "2023-10-08T11:35:33.226Z"
   },
   {
    "duration": 148,
    "start_time": "2023-10-08T11:35:33.352Z"
   },
   {
    "duration": 3,
    "start_time": "2023-10-08T11:35:33.502Z"
   },
   {
    "duration": 71,
    "start_time": "2023-10-08T11:35:33.506Z"
   },
   {
    "duration": 18,
    "start_time": "2023-10-08T11:35:33.579Z"
   },
   {
    "duration": 41,
    "start_time": "2023-10-08T11:35:33.598Z"
   },
   {
    "duration": 29,
    "start_time": "2023-10-08T11:35:33.641Z"
   },
   {
    "duration": 26,
    "start_time": "2023-10-08T11:35:33.672Z"
   },
   {
    "duration": 14,
    "start_time": "2023-10-08T11:35:33.700Z"
   },
   {
    "duration": 30,
    "start_time": "2023-10-08T11:35:33.716Z"
   },
   {
    "duration": 39,
    "start_time": "2023-10-08T11:35:33.749Z"
   },
   {
    "duration": 69,
    "start_time": "2023-10-08T11:35:33.790Z"
   },
   {
    "duration": 24,
    "start_time": "2023-10-08T11:35:33.861Z"
   },
   {
    "duration": 36,
    "start_time": "2023-10-08T11:35:33.887Z"
   },
   {
    "duration": 38,
    "start_time": "2023-10-08T11:35:33.925Z"
   },
   {
    "duration": 71,
    "start_time": "2023-10-08T11:35:33.964Z"
   },
   {
    "duration": 41,
    "start_time": "2023-10-08T11:35:34.037Z"
   },
   {
    "duration": 49,
    "start_time": "2023-10-08T11:35:34.080Z"
   },
   {
    "duration": 42,
    "start_time": "2023-10-08T11:35:34.131Z"
   },
   {
    "duration": 13,
    "start_time": "2023-10-08T11:35:34.175Z"
   },
   {
    "duration": 22,
    "start_time": "2023-10-08T11:35:34.189Z"
   },
   {
    "duration": 39,
    "start_time": "2023-10-08T11:35:34.213Z"
   },
   {
    "duration": 25,
    "start_time": "2023-10-08T11:35:34.254Z"
   },
   {
    "duration": 6,
    "start_time": "2023-10-08T11:35:34.281Z"
   },
   {
    "duration": 15,
    "start_time": "2023-10-08T11:35:34.288Z"
   },
   {
    "duration": 19,
    "start_time": "2023-10-08T11:35:34.304Z"
   },
   {
    "duration": 18,
    "start_time": "2023-10-08T11:35:34.328Z"
   },
   {
    "duration": 9,
    "start_time": "2023-10-08T11:35:34.348Z"
   },
   {
    "duration": 29,
    "start_time": "2023-10-08T11:35:34.358Z"
   },
   {
    "duration": 8,
    "start_time": "2023-10-08T11:35:34.389Z"
   },
   {
    "duration": 21,
    "start_time": "2023-10-08T11:35:34.399Z"
   },
   {
    "duration": 24,
    "start_time": "2023-10-08T11:35:34.422Z"
   },
   {
    "duration": 21,
    "start_time": "2023-10-08T11:35:34.447Z"
   },
   {
    "duration": 15,
    "start_time": "2023-10-08T11:35:34.470Z"
   },
   {
    "duration": 18,
    "start_time": "2023-10-08T11:35:34.487Z"
   },
   {
    "duration": 32,
    "start_time": "2023-10-08T11:35:34.508Z"
   },
   {
    "duration": 42,
    "start_time": "2023-10-08T11:35:34.546Z"
   },
   {
    "duration": 17,
    "start_time": "2023-10-08T11:35:34.590Z"
   },
   {
    "duration": 19,
    "start_time": "2023-10-08T11:35:34.609Z"
   },
   {
    "duration": 28,
    "start_time": "2023-10-08T11:35:34.630Z"
   },
   {
    "duration": 25,
    "start_time": "2023-10-08T11:35:34.660Z"
   },
   {
    "duration": 23,
    "start_time": "2023-10-08T11:35:34.687Z"
   },
   {
    "duration": 46,
    "start_time": "2023-10-08T11:35:34.713Z"
   },
   {
    "duration": 26,
    "start_time": "2023-10-08T11:35:34.760Z"
   },
   {
    "duration": 42,
    "start_time": "2023-10-08T11:35:34.788Z"
   },
   {
    "duration": 9,
    "start_time": "2023-10-08T11:35:34.832Z"
   },
   {
    "duration": 35,
    "start_time": "2023-10-08T11:35:34.842Z"
   },
   {
    "duration": 16,
    "start_time": "2023-10-08T11:35:34.879Z"
   },
   {
    "duration": 28,
    "start_time": "2023-10-08T11:35:34.897Z"
   },
   {
    "duration": 17,
    "start_time": "2023-10-08T11:35:34.926Z"
   },
   {
    "duration": 22,
    "start_time": "2023-10-08T11:35:34.945Z"
   },
   {
    "duration": 19,
    "start_time": "2023-10-08T11:35:34.969Z"
   },
   {
    "duration": 22,
    "start_time": "2023-10-08T11:35:34.990Z"
   },
   {
    "duration": 25,
    "start_time": "2023-10-08T11:35:35.014Z"
   },
   {
    "duration": 35,
    "start_time": "2023-10-08T11:35:35.040Z"
   },
   {
    "duration": 170,
    "start_time": "2023-10-08T11:35:35.077Z"
   },
   {
    "duration": 175,
    "start_time": "2023-10-08T11:35:35.249Z"
   },
   {
    "duration": 3,
    "start_time": "2023-10-08T11:35:35.426Z"
   },
   {
    "duration": 6,
    "start_time": "2023-10-08T11:35:35.444Z"
   },
   {
    "duration": 140,
    "start_time": "2023-10-08T11:35:35.452Z"
   },
   {
    "duration": 139,
    "start_time": "2023-10-08T11:35:35.593Z"
   },
   {
    "duration": 10,
    "start_time": "2023-10-08T11:35:35.735Z"
   },
   {
    "duration": 6,
    "start_time": "2023-10-08T11:35:35.747Z"
   },
   {
    "duration": 36,
    "start_time": "2023-10-08T11:35:35.755Z"
   },
   {
    "duration": 192,
    "start_time": "2023-10-08T11:35:35.793Z"
   },
   {
    "duration": 486,
    "start_time": "2023-10-08T11:35:35.986Z"
   },
   {
    "duration": 3,
    "start_time": "2023-10-08T11:35:36.473Z"
   },
   {
    "duration": 13,
    "start_time": "2023-10-08T11:35:36.478Z"
   },
   {
    "duration": 48,
    "start_time": "2023-10-08T11:35:36.493Z"
   },
   {
    "duration": 11,
    "start_time": "2023-10-08T11:35:36.543Z"
   },
   {
    "duration": 8,
    "start_time": "2023-10-08T11:35:36.556Z"
   },
   {
    "duration": 14,
    "start_time": "2023-10-08T11:35:36.566Z"
   },
   {
    "duration": 9,
    "start_time": "2023-10-08T11:35:36.581Z"
   },
   {
    "duration": 25,
    "start_time": "2023-10-08T11:35:36.592Z"
   },
   {
    "duration": 21,
    "start_time": "2023-10-08T11:35:36.619Z"
   },
   {
    "duration": 14,
    "start_time": "2023-10-08T11:35:36.642Z"
   },
   {
    "duration": 20,
    "start_time": "2023-10-08T11:35:36.660Z"
   },
   {
    "duration": 206,
    "start_time": "2023-10-08T11:35:36.682Z"
   },
   {
    "duration": 2,
    "start_time": "2023-10-08T11:35:36.890Z"
   },
   {
    "duration": 22,
    "start_time": "2023-10-08T11:35:36.893Z"
   },
   {
    "duration": 18,
    "start_time": "2023-10-08T11:35:36.916Z"
   },
   {
    "duration": 16,
    "start_time": "2023-10-08T11:35:36.935Z"
   },
   {
    "duration": 5,
    "start_time": "2023-10-08T11:35:36.953Z"
   },
   {
    "duration": 16,
    "start_time": "2023-10-08T11:35:36.959Z"
   },
   {
    "duration": 8,
    "start_time": "2023-10-08T11:35:36.976Z"
   },
   {
    "duration": 12,
    "start_time": "2023-10-08T11:35:36.985Z"
   },
   {
    "duration": 151,
    "start_time": "2023-10-08T11:35:36.999Z"
   },
   {
    "duration": 3,
    "start_time": "2023-10-08T11:35:37.152Z"
   },
   {
    "duration": 14,
    "start_time": "2023-10-08T11:35:37.157Z"
   },
   {
    "duration": 10,
    "start_time": "2023-10-08T11:35:37.173Z"
   },
   {
    "duration": 13,
    "start_time": "2023-10-08T11:35:37.184Z"
   },
   {
    "duration": 27,
    "start_time": "2023-10-08T11:35:37.199Z"
   },
   {
    "duration": 25,
    "start_time": "2023-10-08T11:35:37.227Z"
   },
   {
    "duration": 3,
    "start_time": "2023-10-08T11:35:37.254Z"
   },
   {
    "duration": 19,
    "start_time": "2023-10-08T11:35:37.259Z"
   },
   {
    "duration": 29,
    "start_time": "2023-10-08T11:35:37.280Z"
   },
   {
    "duration": 22,
    "start_time": "2023-10-08T11:35:37.311Z"
   },
   {
    "duration": 21,
    "start_time": "2023-10-08T11:35:37.335Z"
   },
   {
    "duration": 13,
    "start_time": "2023-10-08T11:35:37.358Z"
   },
   {
    "duration": 21,
    "start_time": "2023-10-08T11:35:37.373Z"
   },
   {
    "duration": 2,
    "start_time": "2023-10-08T11:35:37.396Z"
   },
   {
    "duration": 11,
    "start_time": "2023-10-08T11:35:37.400Z"
   },
   {
    "duration": 216,
    "start_time": "2023-10-08T11:35:37.413Z"
   },
   {
    "duration": 3,
    "start_time": "2023-10-08T11:35:37.630Z"
   },
   {
    "duration": 3,
    "start_time": "2023-10-08T11:35:37.643Z"
   },
   {
    "duration": 248,
    "start_time": "2023-10-08T11:35:37.648Z"
   },
   {
    "duration": 2,
    "start_time": "2023-10-08T11:35:37.898Z"
   },
   {
    "duration": 198,
    "start_time": "2023-10-08T11:35:37.908Z"
   },
   {
    "duration": 202,
    "start_time": "2023-10-08T11:35:38.108Z"
   },
   {
    "duration": 3,
    "start_time": "2023-10-08T11:35:38.311Z"
   },
   {
    "duration": 6,
    "start_time": "2023-10-08T11:35:38.315Z"
   },
   {
    "duration": 912,
    "start_time": "2023-10-08T11:35:38.322Z"
   },
   {
    "duration": 11,
    "start_time": "2023-10-08T11:35:39.235Z"
   },
   {
    "duration": 39,
    "start_time": "2023-10-08T11:35:39.247Z"
   },
   {
    "duration": 21,
    "start_time": "2023-10-08T11:35:39.288Z"
   },
   {
    "duration": 8,
    "start_time": "2023-10-08T11:35:39.311Z"
   },
   {
    "duration": 13,
    "start_time": "2023-10-08T11:35:39.321Z"
   },
   {
    "duration": 12,
    "start_time": "2023-10-08T11:35:39.335Z"
   },
   {
    "duration": 6,
    "start_time": "2023-10-08T11:35:39.348Z"
   },
   {
    "duration": 19,
    "start_time": "2023-10-08T11:35:39.355Z"
   },
   {
    "duration": 9,
    "start_time": "2023-10-08T11:35:39.375Z"
   },
   {
    "duration": 8,
    "start_time": "2023-10-08T11:35:39.386Z"
   },
   {
    "duration": 19,
    "start_time": "2023-10-08T11:35:39.395Z"
   },
   {
    "duration": 18,
    "start_time": "2023-10-08T11:35:39.416Z"
   },
   {
    "duration": 157,
    "start_time": "2023-10-08T11:35:39.436Z"
   },
   {
    "duration": 5,
    "start_time": "2023-10-08T11:35:39.595Z"
   },
   {
    "duration": 13,
    "start_time": "2023-10-08T11:35:39.602Z"
   },
   {
    "duration": 4,
    "start_time": "2023-10-08T11:35:39.617Z"
   },
   {
    "duration": 9,
    "start_time": "2023-10-08T11:35:39.622Z"
   },
   {
    "duration": 18,
    "start_time": "2023-10-08T11:35:39.633Z"
   },
   {
    "duration": 13,
    "start_time": "2023-10-08T11:35:39.653Z"
   },
   {
    "duration": 7,
    "start_time": "2023-10-08T11:35:39.669Z"
   },
   {
    "duration": 8,
    "start_time": "2023-10-08T11:35:39.677Z"
   },
   {
    "duration": 5,
    "start_time": "2023-10-08T11:35:39.686Z"
   },
   {
    "duration": 10,
    "start_time": "2023-10-08T11:35:39.692Z"
   },
   {
    "duration": 19,
    "start_time": "2023-10-08T11:35:39.704Z"
   },
   {
    "duration": 17,
    "start_time": "2023-10-08T11:35:39.725Z"
   },
   {
    "duration": 10,
    "start_time": "2023-10-08T11:35:39.743Z"
   },
   {
    "duration": 9,
    "start_time": "2023-10-08T11:35:39.754Z"
   },
   {
    "duration": 15,
    "start_time": "2023-10-08T11:35:39.764Z"
   },
   {
    "duration": 9,
    "start_time": "2023-10-08T11:35:39.781Z"
   },
   {
    "duration": 14,
    "start_time": "2023-10-08T11:35:39.792Z"
   },
   {
    "duration": 7,
    "start_time": "2023-10-08T11:35:39.807Z"
   },
   {
    "duration": 7,
    "start_time": "2023-10-08T11:35:39.815Z"
   },
   {
    "duration": 6,
    "start_time": "2023-10-08T11:35:39.823Z"
   },
   {
    "duration": 5,
    "start_time": "2023-10-08T11:35:39.830Z"
   },
   {
    "duration": 4,
    "start_time": "2023-10-08T11:35:39.836Z"
   },
   {
    "duration": 6,
    "start_time": "2023-10-08T11:35:39.842Z"
   },
   {
    "duration": 7,
    "start_time": "2023-10-08T11:35:39.849Z"
   },
   {
    "duration": 9,
    "start_time": "2023-10-08T11:35:39.857Z"
   },
   {
    "duration": 10,
    "start_time": "2023-10-08T11:35:39.867Z"
   },
   {
    "duration": 6,
    "start_time": "2023-10-08T11:35:39.878Z"
   },
   {
    "duration": 4,
    "start_time": "2023-10-08T11:35:39.886Z"
   },
   {
    "duration": 12,
    "start_time": "2023-10-08T11:35:39.891Z"
   },
   {
    "duration": 20,
    "start_time": "2023-10-08T11:35:39.904Z"
   },
   {
    "duration": 6,
    "start_time": "2023-10-08T11:35:39.926Z"
   },
   {
    "duration": 7,
    "start_time": "2023-10-08T11:35:39.933Z"
   },
   {
    "duration": 6,
    "start_time": "2023-10-08T11:35:39.941Z"
   },
   {
    "duration": 4,
    "start_time": "2023-10-08T11:35:39.949Z"
   },
   {
    "duration": 7,
    "start_time": "2023-10-08T11:35:39.954Z"
   },
   {
    "duration": 12,
    "start_time": "2023-10-08T11:35:39.963Z"
   },
   {
    "duration": 6,
    "start_time": "2023-10-08T11:35:39.977Z"
   },
   {
    "duration": 4,
    "start_time": "2023-10-08T11:35:39.984Z"
   },
   {
    "duration": 4,
    "start_time": "2023-10-08T11:35:39.989Z"
   },
   {
    "duration": 5,
    "start_time": "2023-10-08T11:35:39.994Z"
   },
   {
    "duration": 7,
    "start_time": "2023-10-08T11:35:40.000Z"
   },
   {
    "duration": 29,
    "start_time": "2023-10-08T11:35:40.009Z"
   },
   {
    "duration": 8,
    "start_time": "2023-10-08T11:35:40.040Z"
   },
   {
    "duration": 232,
    "start_time": "2023-10-08T11:35:40.050Z"
   },
   {
    "duration": 3,
    "start_time": "2023-10-08T11:35:40.284Z"
   },
   {
    "duration": 5,
    "start_time": "2023-10-08T11:35:40.289Z"
   },
   {
    "duration": 6,
    "start_time": "2023-10-08T11:35:40.295Z"
   },
   {
    "duration": 4,
    "start_time": "2023-10-08T11:35:40.303Z"
   },
   {
    "duration": 4,
    "start_time": "2023-10-08T11:35:40.309Z"
   },
   {
    "duration": 4,
    "start_time": "2023-10-08T11:35:40.315Z"
   },
   {
    "duration": 3,
    "start_time": "2023-10-08T11:35:40.344Z"
   },
   {
    "duration": 7,
    "start_time": "2023-10-08T11:35:40.349Z"
   },
   {
    "duration": 11,
    "start_time": "2023-10-08T11:35:40.357Z"
   },
   {
    "duration": 3,
    "start_time": "2023-10-08T11:37:18.156Z"
   },
   {
    "duration": 3,
    "start_time": "2023-10-08T11:37:18.688Z"
   },
   {
    "duration": 3,
    "start_time": "2023-10-08T11:37:31.607Z"
   },
   {
    "duration": 1248,
    "start_time": "2023-10-08T11:37:31.611Z"
   },
   {
    "duration": 3,
    "start_time": "2023-10-08T11:37:32.861Z"
   },
   {
    "duration": 42,
    "start_time": "2023-10-08T11:37:32.866Z"
   },
   {
    "duration": 2,
    "start_time": "2023-10-08T11:37:32.910Z"
   },
   {
    "duration": 16,
    "start_time": "2023-10-08T11:37:32.914Z"
   },
   {
    "duration": 6,
    "start_time": "2023-10-08T11:37:32.932Z"
   },
   {
    "duration": 22,
    "start_time": "2023-10-08T11:37:32.940Z"
   },
   {
    "duration": 10,
    "start_time": "2023-10-08T11:37:32.966Z"
   },
   {
    "duration": 212,
    "start_time": "2023-10-08T11:37:32.978Z"
   },
   {
    "duration": 2,
    "start_time": "2023-10-08T11:37:33.192Z"
   },
   {
    "duration": 8,
    "start_time": "2023-10-08T11:37:33.196Z"
   },
   {
    "duration": 184,
    "start_time": "2023-10-08T11:37:33.205Z"
   },
   {
    "duration": 2,
    "start_time": "2023-10-08T11:37:33.391Z"
   },
   {
    "duration": 15,
    "start_time": "2023-10-08T11:37:33.395Z"
   },
   {
    "duration": 131,
    "start_time": "2023-10-08T11:37:33.411Z"
   },
   {
    "duration": 3,
    "start_time": "2023-10-08T11:37:33.544Z"
   },
   {
    "duration": 34,
    "start_time": "2023-10-08T11:37:33.549Z"
   },
   {
    "duration": 10,
    "start_time": "2023-10-08T11:37:33.584Z"
   },
   {
    "duration": 12,
    "start_time": "2023-10-08T11:37:33.596Z"
   },
   {
    "duration": 32,
    "start_time": "2023-10-08T11:37:33.609Z"
   },
   {
    "duration": 17,
    "start_time": "2023-10-08T11:37:33.643Z"
   },
   {
    "duration": 4,
    "start_time": "2023-10-08T11:37:33.662Z"
   },
   {
    "duration": 12,
    "start_time": "2023-10-08T11:37:33.670Z"
   },
   {
    "duration": 11,
    "start_time": "2023-10-08T11:37:33.684Z"
   },
   {
    "duration": 24,
    "start_time": "2023-10-08T11:37:33.696Z"
   },
   {
    "duration": 11,
    "start_time": "2023-10-08T11:37:33.722Z"
   },
   {
    "duration": 15,
    "start_time": "2023-10-08T11:37:33.735Z"
   },
   {
    "duration": 6,
    "start_time": "2023-10-08T11:37:33.753Z"
   },
   {
    "duration": 6,
    "start_time": "2023-10-08T11:37:33.762Z"
   },
   {
    "duration": 13,
    "start_time": "2023-10-08T11:37:33.770Z"
   },
   {
    "duration": 15,
    "start_time": "2023-10-08T11:37:33.785Z"
   },
   {
    "duration": 16,
    "start_time": "2023-10-08T11:37:33.802Z"
   },
   {
    "duration": 11,
    "start_time": "2023-10-08T11:37:33.820Z"
   },
   {
    "duration": 24,
    "start_time": "2023-10-08T11:37:33.833Z"
   },
   {
    "duration": 12,
    "start_time": "2023-10-08T11:37:33.858Z"
   },
   {
    "duration": 10,
    "start_time": "2023-10-08T11:37:33.872Z"
   },
   {
    "duration": 8,
    "start_time": "2023-10-08T11:37:33.883Z"
   },
   {
    "duration": 12,
    "start_time": "2023-10-08T11:37:33.892Z"
   },
   {
    "duration": 27,
    "start_time": "2023-10-08T11:37:33.905Z"
   },
   {
    "duration": 9,
    "start_time": "2023-10-08T11:37:33.933Z"
   },
   {
    "duration": 4,
    "start_time": "2023-10-08T11:37:33.944Z"
   },
   {
    "duration": 17,
    "start_time": "2023-10-08T11:37:33.950Z"
   },
   {
    "duration": 19,
    "start_time": "2023-10-08T11:37:33.969Z"
   },
   {
    "duration": 12,
    "start_time": "2023-10-08T11:37:33.990Z"
   },
   {
    "duration": 9,
    "start_time": "2023-10-08T11:37:34.004Z"
   },
   {
    "duration": 13,
    "start_time": "2023-10-08T11:37:34.014Z"
   },
   {
    "duration": 27,
    "start_time": "2023-10-08T11:37:34.028Z"
   },
   {
    "duration": 4,
    "start_time": "2023-10-08T11:37:34.057Z"
   },
   {
    "duration": 21,
    "start_time": "2023-10-08T11:37:34.063Z"
   },
   {
    "duration": 13,
    "start_time": "2023-10-08T11:37:34.085Z"
   },
   {
    "duration": 9,
    "start_time": "2023-10-08T11:37:34.100Z"
   },
   {
    "duration": 16,
    "start_time": "2023-10-08T11:37:34.110Z"
   },
   {
    "duration": 6,
    "start_time": "2023-10-08T11:37:34.128Z"
   },
   {
    "duration": 16,
    "start_time": "2023-10-08T11:37:34.136Z"
   },
   {
    "duration": 8,
    "start_time": "2023-10-08T11:37:34.154Z"
   },
   {
    "duration": 5,
    "start_time": "2023-10-08T11:37:34.164Z"
   },
   {
    "duration": 10,
    "start_time": "2023-10-08T11:37:34.171Z"
   },
   {
    "duration": 5,
    "start_time": "2023-10-08T11:37:34.182Z"
   },
   {
    "duration": 20,
    "start_time": "2023-10-08T11:37:34.188Z"
   },
   {
    "duration": 8,
    "start_time": "2023-10-08T11:37:34.210Z"
   },
   {
    "duration": 6,
    "start_time": "2023-10-08T11:37:34.220Z"
   },
   {
    "duration": 22,
    "start_time": "2023-10-08T11:37:34.227Z"
   },
   {
    "duration": 7,
    "start_time": "2023-10-08T11:37:34.251Z"
   },
   {
    "duration": 9,
    "start_time": "2023-10-08T11:37:34.260Z"
   },
   {
    "duration": 6,
    "start_time": "2023-10-08T11:37:34.271Z"
   },
   {
    "duration": 13,
    "start_time": "2023-10-08T11:37:34.278Z"
   },
   {
    "duration": 23,
    "start_time": "2023-10-08T11:37:34.292Z"
   },
   {
    "duration": 5,
    "start_time": "2023-10-08T11:37:34.323Z"
   },
   {
    "duration": 224,
    "start_time": "2023-10-08T11:37:34.330Z"
   },
   {
    "duration": 211,
    "start_time": "2023-10-08T11:37:34.556Z"
   },
   {
    "duration": 2,
    "start_time": "2023-10-08T11:37:34.769Z"
   },
   {
    "duration": 28,
    "start_time": "2023-10-08T11:37:34.773Z"
   },
   {
    "duration": 128,
    "start_time": "2023-10-08T11:37:34.803Z"
   },
   {
    "duration": 167,
    "start_time": "2023-10-08T11:37:34.932Z"
   },
   {
    "duration": 2,
    "start_time": "2023-10-08T11:37:35.102Z"
   },
   {
    "duration": 29,
    "start_time": "2023-10-08T11:37:35.106Z"
   },
   {
    "duration": 29,
    "start_time": "2023-10-08T11:37:35.136Z"
   },
   {
    "duration": 186,
    "start_time": "2023-10-08T11:37:35.167Z"
   },
   {
    "duration": 560,
    "start_time": "2023-10-08T11:37:35.355Z"
   },
   {
    "duration": 3,
    "start_time": "2023-10-08T11:37:35.917Z"
   },
   {
    "duration": 20,
    "start_time": "2023-10-08T11:37:35.922Z"
   },
   {
    "duration": 25,
    "start_time": "2023-10-08T11:37:35.944Z"
   },
   {
    "duration": 19,
    "start_time": "2023-10-08T11:37:35.971Z"
   },
   {
    "duration": 29,
    "start_time": "2023-10-08T11:37:35.991Z"
   },
   {
    "duration": 52,
    "start_time": "2023-10-08T11:37:36.022Z"
   },
   {
    "duration": 137,
    "start_time": "2023-10-08T11:37:36.076Z"
   },
   {
    "duration": 43,
    "start_time": "2023-10-08T11:37:36.215Z"
   },
   {
    "duration": 17,
    "start_time": "2023-10-08T11:37:36.260Z"
   },
   {
    "duration": 13,
    "start_time": "2023-10-08T11:37:36.278Z"
   },
   {
    "duration": 16,
    "start_time": "2023-10-08T11:37:36.293Z"
   },
   {
    "duration": 170,
    "start_time": "2023-10-08T11:37:36.311Z"
   },
   {
    "duration": 2,
    "start_time": "2023-10-08T11:37:36.483Z"
   },
   {
    "duration": 5,
    "start_time": "2023-10-08T11:37:36.487Z"
   },
   {
    "duration": 24,
    "start_time": "2023-10-08T11:37:36.494Z"
   },
   {
    "duration": 28,
    "start_time": "2023-10-08T11:37:36.520Z"
   },
   {
    "duration": 23,
    "start_time": "2023-10-08T11:37:36.550Z"
   },
   {
    "duration": 18,
    "start_time": "2023-10-08T11:37:36.574Z"
   },
   {
    "duration": 23,
    "start_time": "2023-10-08T11:37:36.593Z"
   },
   {
    "duration": 8,
    "start_time": "2023-10-08T11:37:36.618Z"
   },
   {
    "duration": 161,
    "start_time": "2023-10-08T11:37:36.628Z"
   },
   {
    "duration": 2,
    "start_time": "2023-10-08T11:37:36.791Z"
   },
   {
    "duration": 39,
    "start_time": "2023-10-08T11:37:36.795Z"
   },
   {
    "duration": 14,
    "start_time": "2023-10-08T11:37:36.836Z"
   },
   {
    "duration": 24,
    "start_time": "2023-10-08T11:37:36.852Z"
   },
   {
    "duration": 12,
    "start_time": "2023-10-08T11:37:36.878Z"
   },
   {
    "duration": 21,
    "start_time": "2023-10-08T11:37:36.892Z"
   },
   {
    "duration": 25,
    "start_time": "2023-10-08T11:37:36.915Z"
   },
   {
    "duration": 19,
    "start_time": "2023-10-08T11:37:36.941Z"
   },
   {
    "duration": 21,
    "start_time": "2023-10-08T11:37:36.962Z"
   },
   {
    "duration": 21,
    "start_time": "2023-10-08T11:37:36.984Z"
   },
   {
    "duration": 3,
    "start_time": "2023-10-08T11:37:37.006Z"
   },
   {
    "duration": 32,
    "start_time": "2023-10-08T11:37:37.010Z"
   },
   {
    "duration": 40,
    "start_time": "2023-10-08T11:37:37.044Z"
   },
   {
    "duration": 6,
    "start_time": "2023-10-08T11:37:37.086Z"
   },
   {
    "duration": 29,
    "start_time": "2023-10-08T11:37:37.093Z"
   },
   {
    "duration": 213,
    "start_time": "2023-10-08T11:37:37.124Z"
   },
   {
    "duration": 3,
    "start_time": "2023-10-08T11:37:37.343Z"
   },
   {
    "duration": 5,
    "start_time": "2023-10-08T11:37:37.348Z"
   },
   {
    "duration": 236,
    "start_time": "2023-10-08T11:37:37.355Z"
   },
   {
    "duration": 2,
    "start_time": "2023-10-08T11:37:37.593Z"
   },
   {
    "duration": 203,
    "start_time": "2023-10-08T11:37:37.596Z"
   },
   {
    "duration": 220,
    "start_time": "2023-10-08T11:37:37.801Z"
   },
   {
    "duration": 2,
    "start_time": "2023-10-08T11:37:38.023Z"
   },
   {
    "duration": 16,
    "start_time": "2023-10-08T11:37:38.027Z"
   },
   {
    "duration": 900,
    "start_time": "2023-10-08T11:37:38.045Z"
   },
   {
    "duration": 4,
    "start_time": "2023-10-08T11:37:38.947Z"
   },
   {
    "duration": 17,
    "start_time": "2023-10-08T11:37:38.953Z"
   },
   {
    "duration": 21,
    "start_time": "2023-10-08T11:37:38.972Z"
   },
   {
    "duration": 4,
    "start_time": "2023-10-08T11:37:38.994Z"
   },
   {
    "duration": 20,
    "start_time": "2023-10-08T11:37:38.999Z"
   },
   {
    "duration": 7,
    "start_time": "2023-10-08T11:37:39.021Z"
   },
   {
    "duration": 14,
    "start_time": "2023-10-08T11:37:39.029Z"
   },
   {
    "duration": 23,
    "start_time": "2023-10-08T11:37:39.045Z"
   },
   {
    "duration": 8,
    "start_time": "2023-10-08T11:37:39.070Z"
   },
   {
    "duration": 11,
    "start_time": "2023-10-08T11:37:39.079Z"
   },
   {
    "duration": 4,
    "start_time": "2023-10-08T11:37:39.092Z"
   },
   {
    "duration": 16,
    "start_time": "2023-10-08T11:37:39.098Z"
   },
   {
    "duration": 162,
    "start_time": "2023-10-08T11:37:39.115Z"
   },
   {
    "duration": 6,
    "start_time": "2023-10-08T11:37:39.278Z"
   },
   {
    "duration": 89,
    "start_time": "2023-10-08T11:37:39.285Z"
   },
   {
    "duration": 119,
    "start_time": "2023-10-08T11:37:39.376Z"
   },
   {
    "duration": 160,
    "start_time": "2023-10-08T11:37:39.497Z"
   },
   {
    "duration": 6,
    "start_time": "2023-10-08T11:37:39.659Z"
   },
   {
    "duration": 11,
    "start_time": "2023-10-08T11:37:39.666Z"
   },
   {
    "duration": 5,
    "start_time": "2023-10-08T11:37:39.678Z"
   },
   {
    "duration": 6,
    "start_time": "2023-10-08T11:37:39.685Z"
   },
   {
    "duration": 18,
    "start_time": "2023-10-08T11:37:39.692Z"
   },
   {
    "duration": 17,
    "start_time": "2023-10-08T11:37:39.711Z"
   },
   {
    "duration": 5,
    "start_time": "2023-10-08T11:37:39.730Z"
   },
   {
    "duration": 8,
    "start_time": "2023-10-08T11:37:39.736Z"
   },
   {
    "duration": 5,
    "start_time": "2023-10-08T11:37:39.746Z"
   },
   {
    "duration": 6,
    "start_time": "2023-10-08T11:37:39.752Z"
   },
   {
    "duration": 5,
    "start_time": "2023-10-08T11:37:39.759Z"
   },
   {
    "duration": 5,
    "start_time": "2023-10-08T11:37:39.765Z"
   },
   {
    "duration": 4,
    "start_time": "2023-10-08T11:37:39.772Z"
   },
   {
    "duration": 5,
    "start_time": "2023-10-08T11:37:39.777Z"
   },
   {
    "duration": 4,
    "start_time": "2023-10-08T11:37:39.784Z"
   },
   {
    "duration": 5,
    "start_time": "2023-10-08T11:37:39.790Z"
   },
   {
    "duration": 4,
    "start_time": "2023-10-08T11:37:39.796Z"
   },
   {
    "duration": 8,
    "start_time": "2023-10-08T11:37:39.801Z"
   },
   {
    "duration": 34,
    "start_time": "2023-10-08T11:37:39.810Z"
   },
   {
    "duration": 3,
    "start_time": "2023-10-08T11:37:39.846Z"
   },
   {
    "duration": 14,
    "start_time": "2023-10-08T11:37:39.851Z"
   },
   {
    "duration": 5,
    "start_time": "2023-10-08T11:37:39.866Z"
   },
   {
    "duration": 5,
    "start_time": "2023-10-08T11:37:39.873Z"
   },
   {
    "duration": 11,
    "start_time": "2023-10-08T11:37:39.879Z"
   },
   {
    "duration": 8,
    "start_time": "2023-10-08T11:37:39.891Z"
   },
   {
    "duration": 6,
    "start_time": "2023-10-08T11:37:39.901Z"
   },
   {
    "duration": 13,
    "start_time": "2023-10-08T11:37:39.908Z"
   },
   {
    "duration": 10,
    "start_time": "2023-10-08T11:37:39.923Z"
   },
   {
    "duration": 11,
    "start_time": "2023-10-08T11:37:39.934Z"
   },
   {
    "duration": 17,
    "start_time": "2023-10-08T11:37:39.947Z"
   },
   {
    "duration": 8,
    "start_time": "2023-10-08T11:37:39.967Z"
   },
   {
    "duration": 6,
    "start_time": "2023-10-08T11:37:39.976Z"
   },
   {
    "duration": 23,
    "start_time": "2023-10-08T11:37:39.983Z"
   },
   {
    "duration": 23,
    "start_time": "2023-10-08T11:37:40.008Z"
   },
   {
    "duration": 23,
    "start_time": "2023-10-08T11:37:40.033Z"
   },
   {
    "duration": 37,
    "start_time": "2023-10-08T11:37:40.058Z"
   },
   {
    "duration": 12,
    "start_time": "2023-10-08T11:37:40.097Z"
   },
   {
    "duration": 26,
    "start_time": "2023-10-08T11:37:40.111Z"
   },
   {
    "duration": 25,
    "start_time": "2023-10-08T11:37:40.138Z"
   },
   {
    "duration": 255,
    "start_time": "2023-10-08T11:37:40.165Z"
   },
   {
    "duration": 3,
    "start_time": "2023-10-08T11:37:40.422Z"
   },
   {
    "duration": 21,
    "start_time": "2023-10-08T11:37:40.427Z"
   },
   {
    "duration": 27,
    "start_time": "2023-10-08T11:37:40.450Z"
   },
   {
    "duration": 19,
    "start_time": "2023-10-08T11:37:40.479Z"
   },
   {
    "duration": 23,
    "start_time": "2023-10-08T11:37:40.500Z"
   },
   {
    "duration": 18,
    "start_time": "2023-10-08T11:37:40.525Z"
   },
   {
    "duration": 7,
    "start_time": "2023-10-08T11:37:40.545Z"
   },
   {
    "duration": 14,
    "start_time": "2023-10-08T11:37:40.554Z"
   },
   {
    "duration": 36,
    "start_time": "2023-10-08T11:37:40.570Z"
   },
   {
    "duration": 4,
    "start_time": "2023-10-08T11:38:46.726Z"
   },
   {
    "duration": 1385,
    "start_time": "2023-10-08T11:38:46.732Z"
   },
   {
    "duration": 2,
    "start_time": "2023-10-08T11:38:48.119Z"
   },
   {
    "duration": 51,
    "start_time": "2023-10-08T11:38:48.123Z"
   },
   {
    "duration": 6,
    "start_time": "2023-10-08T11:38:48.176Z"
   },
   {
    "duration": 17,
    "start_time": "2023-10-08T11:38:48.183Z"
   },
   {
    "duration": 21,
    "start_time": "2023-10-08T11:38:48.201Z"
   },
   {
    "duration": 20,
    "start_time": "2023-10-08T11:38:48.224Z"
   },
   {
    "duration": 5,
    "start_time": "2023-10-08T11:38:48.245Z"
   },
   {
    "duration": 194,
    "start_time": "2023-10-08T11:38:48.253Z"
   },
   {
    "duration": 3,
    "start_time": "2023-10-08T11:38:48.449Z"
   },
   {
    "duration": 33,
    "start_time": "2023-10-08T11:38:48.453Z"
   },
   {
    "duration": 186,
    "start_time": "2023-10-08T11:38:48.487Z"
   },
   {
    "duration": 2,
    "start_time": "2023-10-08T11:38:48.675Z"
   },
   {
    "duration": 26,
    "start_time": "2023-10-08T11:38:48.678Z"
   },
   {
    "duration": 134,
    "start_time": "2023-10-08T11:38:48.705Z"
   },
   {
    "duration": 4,
    "start_time": "2023-10-08T11:38:48.840Z"
   },
   {
    "duration": 38,
    "start_time": "2023-10-08T11:38:48.845Z"
   },
   {
    "duration": 11,
    "start_time": "2023-10-08T11:38:48.885Z"
   },
   {
    "duration": 12,
    "start_time": "2023-10-08T11:38:48.898Z"
   },
   {
    "duration": 7,
    "start_time": "2023-10-08T11:38:48.912Z"
   },
   {
    "duration": 9,
    "start_time": "2023-10-08T11:38:48.921Z"
   },
   {
    "duration": 2,
    "start_time": "2023-10-08T11:38:48.932Z"
   },
   {
    "duration": 17,
    "start_time": "2023-10-08T11:38:48.936Z"
   },
   {
    "duration": 2,
    "start_time": "2023-10-08T11:38:48.955Z"
   },
   {
    "duration": 27,
    "start_time": "2023-10-08T11:38:48.959Z"
   },
   {
    "duration": 10,
    "start_time": "2023-10-08T11:38:48.988Z"
   },
   {
    "duration": 8,
    "start_time": "2023-10-08T11:38:49.003Z"
   },
   {
    "duration": 9,
    "start_time": "2023-10-08T11:38:49.013Z"
   },
   {
    "duration": 14,
    "start_time": "2023-10-08T11:38:49.024Z"
   },
   {
    "duration": 15,
    "start_time": "2023-10-08T11:38:49.040Z"
   },
   {
    "duration": 27,
    "start_time": "2023-10-08T11:38:49.057Z"
   },
   {
    "duration": 19,
    "start_time": "2023-10-08T11:38:49.086Z"
   },
   {
    "duration": 8,
    "start_time": "2023-10-08T11:38:49.106Z"
   },
   {
    "duration": 21,
    "start_time": "2023-10-08T11:38:49.115Z"
   },
   {
    "duration": 23,
    "start_time": "2023-10-08T11:38:49.138Z"
   },
   {
    "duration": 44,
    "start_time": "2023-10-08T11:38:49.163Z"
   },
   {
    "duration": 10,
    "start_time": "2023-10-08T11:38:49.208Z"
   },
   {
    "duration": 31,
    "start_time": "2023-10-08T11:38:49.220Z"
   },
   {
    "duration": 10,
    "start_time": "2023-10-08T11:38:49.253Z"
   },
   {
    "duration": 26,
    "start_time": "2023-10-08T11:38:49.265Z"
   },
   {
    "duration": 19,
    "start_time": "2023-10-08T11:38:49.293Z"
   },
   {
    "duration": 25,
    "start_time": "2023-10-08T11:38:49.314Z"
   },
   {
    "duration": 129,
    "start_time": "2023-10-08T11:38:49.341Z"
   },
   {
    "duration": 20,
    "start_time": "2023-10-08T11:38:49.472Z"
   },
   {
    "duration": 20,
    "start_time": "2023-10-08T11:38:49.494Z"
   },
   {
    "duration": 9,
    "start_time": "2023-10-08T11:38:49.516Z"
   },
   {
    "duration": 14,
    "start_time": "2023-10-08T11:38:49.527Z"
   },
   {
    "duration": 16,
    "start_time": "2023-10-08T11:38:49.543Z"
   },
   {
    "duration": 47,
    "start_time": "2023-10-08T11:38:49.561Z"
   },
   {
    "duration": 23,
    "start_time": "2023-10-08T11:38:49.610Z"
   },
   {
    "duration": 7,
    "start_time": "2023-10-08T11:38:49.635Z"
   },
   {
    "duration": 13,
    "start_time": "2023-10-08T11:38:49.644Z"
   },
   {
    "duration": 19,
    "start_time": "2023-10-08T11:38:49.659Z"
   },
   {
    "duration": 31,
    "start_time": "2023-10-08T11:38:49.679Z"
   },
   {
    "duration": 11,
    "start_time": "2023-10-08T11:38:49.712Z"
   },
   {
    "duration": 22,
    "start_time": "2023-10-08T11:38:49.725Z"
   },
   {
    "duration": 24,
    "start_time": "2023-10-08T11:38:49.749Z"
   },
   {
    "duration": 17,
    "start_time": "2023-10-08T11:38:49.774Z"
   },
   {
    "duration": 16,
    "start_time": "2023-10-08T11:38:49.793Z"
   },
   {
    "duration": 13,
    "start_time": "2023-10-08T11:38:49.810Z"
   },
   {
    "duration": 6,
    "start_time": "2023-10-08T11:38:49.825Z"
   },
   {
    "duration": 34,
    "start_time": "2023-10-08T11:38:49.833Z"
   },
   {
    "duration": 12,
    "start_time": "2023-10-08T11:38:49.868Z"
   },
   {
    "duration": 19,
    "start_time": "2023-10-08T11:38:49.882Z"
   },
   {
    "duration": 16,
    "start_time": "2023-10-08T11:38:49.903Z"
   },
   {
    "duration": 14,
    "start_time": "2023-10-08T11:38:49.920Z"
   },
   {
    "duration": 22,
    "start_time": "2023-10-08T11:38:49.936Z"
   },
   {
    "duration": 33,
    "start_time": "2023-10-08T11:38:49.960Z"
   },
   {
    "duration": 212,
    "start_time": "2023-10-08T11:38:49.994Z"
   },
   {
    "duration": 182,
    "start_time": "2023-10-08T11:38:50.207Z"
   },
   {
    "duration": 2,
    "start_time": "2023-10-08T11:38:50.391Z"
   },
   {
    "duration": 38,
    "start_time": "2023-10-08T11:38:50.395Z"
   },
   {
    "duration": 157,
    "start_time": "2023-10-08T11:38:50.434Z"
   },
   {
    "duration": 154,
    "start_time": "2023-10-08T11:38:50.593Z"
   },
   {
    "duration": 3,
    "start_time": "2023-10-08T11:38:50.749Z"
   },
   {
    "duration": 13,
    "start_time": "2023-10-08T11:38:50.755Z"
   },
   {
    "duration": 16,
    "start_time": "2023-10-08T11:38:50.770Z"
   },
   {
    "duration": 168,
    "start_time": "2023-10-08T11:38:50.787Z"
   },
   {
    "duration": 494,
    "start_time": "2023-10-08T11:38:50.957Z"
   },
   {
    "duration": 3,
    "start_time": "2023-10-08T11:38:51.453Z"
   },
   {
    "duration": 6,
    "start_time": "2023-10-08T11:38:51.555Z"
   },
   {
    "duration": 59,
    "start_time": "2023-10-08T11:38:51.563Z"
   },
   {
    "duration": 24,
    "start_time": "2023-10-08T11:38:51.623Z"
   },
   {
    "duration": 14,
    "start_time": "2023-10-08T11:38:51.648Z"
   },
   {
    "duration": 41,
    "start_time": "2023-10-08T11:38:51.663Z"
   },
   {
    "duration": 26,
    "start_time": "2023-10-08T11:38:51.705Z"
   },
   {
    "duration": 9,
    "start_time": "2023-10-08T11:38:51.733Z"
   },
   {
    "duration": 9,
    "start_time": "2023-10-08T11:38:51.744Z"
   },
   {
    "duration": 53,
    "start_time": "2023-10-08T11:38:51.755Z"
   },
   {
    "duration": 16,
    "start_time": "2023-10-08T11:38:51.810Z"
   },
   {
    "duration": 164,
    "start_time": "2023-10-08T11:38:51.828Z"
   },
   {
    "duration": 2,
    "start_time": "2023-10-08T11:38:51.994Z"
   },
   {
    "duration": 27,
    "start_time": "2023-10-08T11:38:51.998Z"
   },
   {
    "duration": 27,
    "start_time": "2023-10-08T11:38:52.027Z"
   },
   {
    "duration": 34,
    "start_time": "2023-10-08T11:38:52.056Z"
   },
   {
    "duration": 27,
    "start_time": "2023-10-08T11:38:52.092Z"
   },
   {
    "duration": 26,
    "start_time": "2023-10-08T11:38:52.121Z"
   },
   {
    "duration": 28,
    "start_time": "2023-10-08T11:38:52.149Z"
   },
   {
    "duration": 39,
    "start_time": "2023-10-08T11:38:52.179Z"
   },
   {
    "duration": 152,
    "start_time": "2023-10-08T11:38:52.219Z"
   },
   {
    "duration": 3,
    "start_time": "2023-10-08T11:38:52.372Z"
   },
   {
    "duration": 15,
    "start_time": "2023-10-08T11:38:52.376Z"
   },
   {
    "duration": 23,
    "start_time": "2023-10-08T11:38:52.392Z"
   },
   {
    "duration": 25,
    "start_time": "2023-10-08T11:38:52.417Z"
   },
   {
    "duration": 17,
    "start_time": "2023-10-08T11:38:52.445Z"
   },
   {
    "duration": 60,
    "start_time": "2023-10-08T11:38:52.463Z"
   },
   {
    "duration": 3,
    "start_time": "2023-10-08T11:38:52.524Z"
   },
   {
    "duration": 18,
    "start_time": "2023-10-08T11:38:52.528Z"
   },
   {
    "duration": 30,
    "start_time": "2023-10-08T11:38:52.548Z"
   },
   {
    "duration": 25,
    "start_time": "2023-10-08T11:38:52.580Z"
   },
   {
    "duration": 9,
    "start_time": "2023-10-08T11:38:52.606Z"
   },
   {
    "duration": 26,
    "start_time": "2023-10-08T11:38:52.616Z"
   },
   {
    "duration": 27,
    "start_time": "2023-10-08T11:38:52.643Z"
   },
   {
    "duration": 18,
    "start_time": "2023-10-08T11:38:52.672Z"
   },
   {
    "duration": 11,
    "start_time": "2023-10-08T11:38:52.692Z"
   },
   {
    "duration": 200,
    "start_time": "2023-10-08T11:38:52.704Z"
   },
   {
    "duration": 2,
    "start_time": "2023-10-08T11:38:52.906Z"
   },
   {
    "duration": 155,
    "start_time": "2023-10-08T11:38:52.910Z"
   },
   {
    "duration": 411,
    "start_time": "2023-10-08T11:38:53.067Z"
   },
   {
    "duration": 2,
    "start_time": "2023-10-08T11:38:53.479Z"
   },
   {
    "duration": 261,
    "start_time": "2023-10-08T11:38:53.483Z"
   },
   {
    "duration": 243,
    "start_time": "2023-10-08T11:38:53.745Z"
   },
   {
    "duration": 3,
    "start_time": "2023-10-08T11:38:53.990Z"
   },
   {
    "duration": 7,
    "start_time": "2023-10-08T11:38:53.994Z"
   },
   {
    "duration": 1007,
    "start_time": "2023-10-08T11:38:54.002Z"
   },
   {
    "duration": 4,
    "start_time": "2023-10-08T11:38:55.010Z"
   },
   {
    "duration": 15,
    "start_time": "2023-10-08T11:38:55.016Z"
   },
   {
    "duration": 31,
    "start_time": "2023-10-08T11:38:55.033Z"
   },
   {
    "duration": 5,
    "start_time": "2023-10-08T11:38:55.066Z"
   },
   {
    "duration": 23,
    "start_time": "2023-10-08T11:38:55.073Z"
   },
   {
    "duration": 9,
    "start_time": "2023-10-08T11:38:55.098Z"
   },
   {
    "duration": 10,
    "start_time": "2023-10-08T11:38:55.109Z"
   },
   {
    "duration": 16,
    "start_time": "2023-10-08T11:38:55.122Z"
   },
   {
    "duration": 7,
    "start_time": "2023-10-08T11:38:55.140Z"
   },
   {
    "duration": 23,
    "start_time": "2023-10-08T11:38:55.149Z"
   },
   {
    "duration": 31,
    "start_time": "2023-10-08T11:38:55.174Z"
   },
   {
    "duration": 16,
    "start_time": "2023-10-08T11:38:55.207Z"
   },
   {
    "duration": 138,
    "start_time": "2023-10-08T11:38:55.225Z"
   },
   {
    "duration": 6,
    "start_time": "2023-10-08T11:38:55.365Z"
   },
   {
    "duration": 18,
    "start_time": "2023-10-08T11:38:55.373Z"
   },
   {
    "duration": 18,
    "start_time": "2023-10-08T11:38:55.392Z"
   },
   {
    "duration": 16,
    "start_time": "2023-10-08T11:38:55.412Z"
   },
   {
    "duration": 18,
    "start_time": "2023-10-08T11:38:55.429Z"
   },
   {
    "duration": 15,
    "start_time": "2023-10-08T11:38:55.449Z"
   },
   {
    "duration": 18,
    "start_time": "2023-10-08T11:38:55.466Z"
   },
   {
    "duration": 8,
    "start_time": "2023-10-08T11:38:55.486Z"
   },
   {
    "duration": 16,
    "start_time": "2023-10-08T11:38:55.496Z"
   },
   {
    "duration": 28,
    "start_time": "2023-10-08T11:38:55.514Z"
   },
   {
    "duration": 10,
    "start_time": "2023-10-08T11:38:55.544Z"
   },
   {
    "duration": 22,
    "start_time": "2023-10-08T11:38:55.556Z"
   },
   {
    "duration": 19,
    "start_time": "2023-10-08T11:38:55.579Z"
   },
   {
    "duration": 30,
    "start_time": "2023-10-08T11:38:55.600Z"
   },
   {
    "duration": 7,
    "start_time": "2023-10-08T11:38:55.632Z"
   },
   {
    "duration": 9,
    "start_time": "2023-10-08T11:38:55.641Z"
   },
   {
    "duration": 17,
    "start_time": "2023-10-08T11:38:55.651Z"
   },
   {
    "duration": 26,
    "start_time": "2023-10-08T11:38:55.670Z"
   },
   {
    "duration": 9,
    "start_time": "2023-10-08T11:38:55.698Z"
   },
   {
    "duration": 5,
    "start_time": "2023-10-08T11:38:55.708Z"
   },
   {
    "duration": 19,
    "start_time": "2023-10-08T11:38:55.714Z"
   },
   {
    "duration": 5,
    "start_time": "2023-10-08T11:38:55.734Z"
   },
   {
    "duration": 4,
    "start_time": "2023-10-08T11:38:55.741Z"
   },
   {
    "duration": 6,
    "start_time": "2023-10-08T11:38:55.747Z"
   },
   {
    "duration": 8,
    "start_time": "2023-10-08T11:38:55.755Z"
   },
   {
    "duration": 5,
    "start_time": "2023-10-08T11:38:55.765Z"
   },
   {
    "duration": 13,
    "start_time": "2023-10-08T11:38:55.771Z"
   },
   {
    "duration": 4,
    "start_time": "2023-10-08T11:38:55.785Z"
   },
   {
    "duration": 7,
    "start_time": "2023-10-08T11:38:55.790Z"
   },
   {
    "duration": 7,
    "start_time": "2023-10-08T11:38:55.798Z"
   },
   {
    "duration": 8,
    "start_time": "2023-10-08T11:38:55.806Z"
   },
   {
    "duration": 19,
    "start_time": "2023-10-08T11:38:55.815Z"
   },
   {
    "duration": 6,
    "start_time": "2023-10-08T11:38:55.835Z"
   },
   {
    "duration": 4,
    "start_time": "2023-10-08T11:38:55.842Z"
   },
   {
    "duration": 12,
    "start_time": "2023-10-08T11:38:55.848Z"
   },
   {
    "duration": 22,
    "start_time": "2023-10-08T11:38:55.861Z"
   },
   {
    "duration": 26,
    "start_time": "2023-10-08T11:38:55.885Z"
   },
   {
    "duration": 23,
    "start_time": "2023-10-08T11:38:55.913Z"
   },
   {
    "duration": 23,
    "start_time": "2023-10-08T11:38:55.937Z"
   },
   {
    "duration": 14,
    "start_time": "2023-10-08T11:38:55.962Z"
   },
   {
    "duration": 19,
    "start_time": "2023-10-08T11:38:55.977Z"
   },
   {
    "duration": 17,
    "start_time": "2023-10-08T11:38:55.997Z"
   },
   {
    "duration": 30,
    "start_time": "2023-10-08T11:38:56.015Z"
   },
   {
    "duration": 261,
    "start_time": "2023-10-08T11:38:56.047Z"
   },
   {
    "duration": 2,
    "start_time": "2023-10-08T11:38:56.310Z"
   },
   {
    "duration": 22,
    "start_time": "2023-10-08T11:38:56.314Z"
   },
   {
    "duration": 12,
    "start_time": "2023-10-08T11:38:56.338Z"
   },
   {
    "duration": 31,
    "start_time": "2023-10-08T11:38:56.351Z"
   },
   {
    "duration": 15,
    "start_time": "2023-10-08T11:38:56.383Z"
   },
   {
    "duration": 23,
    "start_time": "2023-10-08T11:38:56.399Z"
   },
   {
    "duration": 31,
    "start_time": "2023-10-08T11:38:56.423Z"
   },
   {
    "duration": 9,
    "start_time": "2023-10-08T11:38:56.455Z"
   },
   {
    "duration": 18,
    "start_time": "2023-10-08T11:38:56.466Z"
   },
   {
    "duration": 3,
    "start_time": "2023-10-08T12:37:28.389Z"
   },
   {
    "duration": 3,
    "start_time": "2023-10-08T12:37:28.693Z"
   },
   {
    "duration": 3,
    "start_time": "2023-10-08T12:37:29.089Z"
   },
   {
    "duration": 3,
    "start_time": "2023-10-08T12:38:14.107Z"
   },
   {
    "duration": 1251,
    "start_time": "2023-10-08T12:38:14.112Z"
   },
   {
    "duration": 3,
    "start_time": "2023-10-08T12:38:15.364Z"
   },
   {
    "duration": 43,
    "start_time": "2023-10-08T12:38:15.368Z"
   },
   {
    "duration": 9,
    "start_time": "2023-10-08T12:38:15.412Z"
   },
   {
    "duration": 27,
    "start_time": "2023-10-08T12:38:15.422Z"
   },
   {
    "duration": 12,
    "start_time": "2023-10-08T12:38:15.451Z"
   },
   {
    "duration": 21,
    "start_time": "2023-10-08T12:38:15.464Z"
   },
   {
    "duration": 12,
    "start_time": "2023-10-08T12:38:15.488Z"
   },
   {
    "duration": 214,
    "start_time": "2023-10-08T12:38:15.502Z"
   },
   {
    "duration": 2,
    "start_time": "2023-10-08T12:38:15.718Z"
   },
   {
    "duration": 12,
    "start_time": "2023-10-08T12:38:15.722Z"
   },
   {
    "duration": 191,
    "start_time": "2023-10-08T12:38:15.746Z"
   },
   {
    "duration": 6,
    "start_time": "2023-10-08T12:38:15.939Z"
   },
   {
    "duration": 16,
    "start_time": "2023-10-08T12:38:15.948Z"
   },
   {
    "duration": 129,
    "start_time": "2023-10-08T12:38:15.966Z"
   },
   {
    "duration": 2,
    "start_time": "2023-10-08T12:38:16.097Z"
   },
   {
    "duration": 34,
    "start_time": "2023-10-08T12:38:16.101Z"
   },
   {
    "duration": 15,
    "start_time": "2023-10-08T12:38:16.136Z"
   },
   {
    "duration": 15,
    "start_time": "2023-10-08T12:38:16.156Z"
   },
   {
    "duration": 5,
    "start_time": "2023-10-08T12:38:16.173Z"
   },
   {
    "duration": 37,
    "start_time": "2023-10-08T12:38:16.180Z"
   },
   {
    "duration": 12,
    "start_time": "2023-10-08T12:38:16.219Z"
   },
   {
    "duration": 24,
    "start_time": "2023-10-08T12:38:16.236Z"
   },
   {
    "duration": 24,
    "start_time": "2023-10-08T12:38:16.262Z"
   },
   {
    "duration": 31,
    "start_time": "2023-10-08T12:38:16.287Z"
   },
   {
    "duration": 16,
    "start_time": "2023-10-08T12:38:16.320Z"
   },
   {
    "duration": 23,
    "start_time": "2023-10-08T12:38:16.339Z"
   },
   {
    "duration": 14,
    "start_time": "2023-10-08T12:38:16.364Z"
   },
   {
    "duration": 27,
    "start_time": "2023-10-08T12:38:16.380Z"
   },
   {
    "duration": 18,
    "start_time": "2023-10-08T12:38:16.409Z"
   },
   {
    "duration": 33,
    "start_time": "2023-10-08T12:38:16.430Z"
   },
   {
    "duration": 28,
    "start_time": "2023-10-08T12:38:16.465Z"
   },
   {
    "duration": 23,
    "start_time": "2023-10-08T12:38:16.495Z"
   },
   {
    "duration": 31,
    "start_time": "2023-10-08T12:38:16.520Z"
   },
   {
    "duration": 36,
    "start_time": "2023-10-08T12:38:16.552Z"
   },
   {
    "duration": 44,
    "start_time": "2023-10-08T12:38:16.590Z"
   },
   {
    "duration": 63,
    "start_time": "2023-10-08T12:38:16.636Z"
   },
   {
    "duration": 142,
    "start_time": "2023-10-08T12:38:16.700Z"
   },
   {
    "duration": 85,
    "start_time": "2023-10-08T12:38:16.843Z"
   },
   {
    "duration": 128,
    "start_time": "2023-10-08T12:38:16.930Z"
   },
   {
    "duration": 17,
    "start_time": "2023-10-08T12:38:17.060Z"
   },
   {
    "duration": 14,
    "start_time": "2023-10-08T12:38:17.079Z"
   },
   {
    "duration": 9,
    "start_time": "2023-10-08T12:38:17.095Z"
   },
   {
    "duration": 10,
    "start_time": "2023-10-08T12:38:17.105Z"
   },
   {
    "duration": 26,
    "start_time": "2023-10-08T12:38:17.117Z"
   },
   {
    "duration": 22,
    "start_time": "2023-10-08T12:38:17.147Z"
   },
   {
    "duration": 13,
    "start_time": "2023-10-08T12:38:17.171Z"
   },
   {
    "duration": 12,
    "start_time": "2023-10-08T12:38:17.186Z"
   },
   {
    "duration": 30,
    "start_time": "2023-10-08T12:38:17.200Z"
   },
   {
    "duration": 22,
    "start_time": "2023-10-08T12:38:17.231Z"
   },
   {
    "duration": 10,
    "start_time": "2023-10-08T12:38:17.255Z"
   },
   {
    "duration": 16,
    "start_time": "2023-10-08T12:38:17.266Z"
   },
   {
    "duration": 12,
    "start_time": "2023-10-08T12:38:17.284Z"
   },
   {
    "duration": 11,
    "start_time": "2023-10-08T12:38:17.297Z"
   },
   {
    "duration": 4,
    "start_time": "2023-10-08T12:38:17.309Z"
   },
   {
    "duration": 17,
    "start_time": "2023-10-08T12:38:17.315Z"
   },
   {
    "duration": 33,
    "start_time": "2023-10-08T12:38:17.334Z"
   },
   {
    "duration": 195,
    "start_time": "2023-10-08T12:38:17.368Z"
   },
   {
    "duration": 14,
    "start_time": "2023-10-08T12:38:17.565Z"
   },
   {
    "duration": 10,
    "start_time": "2023-10-08T12:38:17.580Z"
   },
   {
    "duration": 21,
    "start_time": "2023-10-08T12:38:17.591Z"
   },
   {
    "duration": 27,
    "start_time": "2023-10-08T12:38:17.613Z"
   },
   {
    "duration": 13,
    "start_time": "2023-10-08T12:38:17.642Z"
   },
   {
    "duration": 12,
    "start_time": "2023-10-08T12:38:17.657Z"
   },
   {
    "duration": 3,
    "start_time": "2023-10-08T12:38:17.671Z"
   },
   {
    "duration": 5,
    "start_time": "2023-10-08T12:38:17.675Z"
   },
   {
    "duration": 11,
    "start_time": "2023-10-08T12:38:17.681Z"
   },
   {
    "duration": 19,
    "start_time": "2023-10-08T12:38:17.699Z"
   },
   {
    "duration": 210,
    "start_time": "2023-10-08T12:38:17.720Z"
   },
   {
    "duration": 177,
    "start_time": "2023-10-08T12:38:17.932Z"
   },
   {
    "duration": 3,
    "start_time": "2023-10-08T12:38:18.111Z"
   },
   {
    "duration": 12,
    "start_time": "2023-10-08T12:38:18.116Z"
   },
   {
    "duration": 143,
    "start_time": "2023-10-08T12:38:18.130Z"
   },
   {
    "duration": 146,
    "start_time": "2023-10-08T12:38:18.275Z"
   },
   {
    "duration": 2,
    "start_time": "2023-10-08T12:38:18.424Z"
   },
   {
    "duration": 27,
    "start_time": "2023-10-08T12:38:18.427Z"
   },
   {
    "duration": 9,
    "start_time": "2023-10-08T12:38:18.456Z"
   },
   {
    "duration": 174,
    "start_time": "2023-10-08T12:38:18.466Z"
   },
   {
    "duration": 575,
    "start_time": "2023-10-08T12:38:18.642Z"
   },
   {
    "duration": 2,
    "start_time": "2023-10-08T12:38:19.219Z"
   },
   {
    "duration": 48,
    "start_time": "2023-10-08T12:38:19.223Z"
   },
   {
    "duration": 18,
    "start_time": "2023-10-08T12:38:19.272Z"
   },
   {
    "duration": 6,
    "start_time": "2023-10-08T12:38:19.292Z"
   },
   {
    "duration": 18,
    "start_time": "2023-10-08T12:38:19.300Z"
   },
   {
    "duration": 64,
    "start_time": "2023-10-08T12:38:19.320Z"
   },
   {
    "duration": 11,
    "start_time": "2023-10-08T12:38:19.385Z"
   },
   {
    "duration": 37,
    "start_time": "2023-10-08T12:38:19.398Z"
   },
   {
    "duration": 21,
    "start_time": "2023-10-08T12:38:19.436Z"
   },
   {
    "duration": 19,
    "start_time": "2023-10-08T12:38:19.459Z"
   },
   {
    "duration": 52,
    "start_time": "2023-10-08T12:38:19.480Z"
   },
   {
    "duration": 147,
    "start_time": "2023-10-08T12:38:19.533Z"
   },
   {
    "duration": 2,
    "start_time": "2023-10-08T12:38:19.682Z"
   },
   {
    "duration": 20,
    "start_time": "2023-10-08T12:38:19.685Z"
   },
   {
    "duration": 29,
    "start_time": "2023-10-08T12:38:19.707Z"
   },
   {
    "duration": 29,
    "start_time": "2023-10-08T12:38:19.738Z"
   },
   {
    "duration": 11,
    "start_time": "2023-10-08T12:38:19.769Z"
   },
   {
    "duration": 6,
    "start_time": "2023-10-08T12:38:19.783Z"
   },
   {
    "duration": 6,
    "start_time": "2023-10-08T12:38:19.792Z"
   },
   {
    "duration": 5,
    "start_time": "2023-10-08T12:38:19.800Z"
   },
   {
    "duration": 155,
    "start_time": "2023-10-08T12:38:19.806Z"
   },
   {
    "duration": 2,
    "start_time": "2023-10-08T12:38:19.963Z"
   },
   {
    "duration": 53,
    "start_time": "2023-10-08T12:38:19.966Z"
   },
   {
    "duration": 39,
    "start_time": "2023-10-08T12:38:20.021Z"
   },
   {
    "duration": 47,
    "start_time": "2023-10-08T12:38:20.061Z"
   },
   {
    "duration": 50,
    "start_time": "2023-10-08T12:38:20.110Z"
   },
   {
    "duration": 53,
    "start_time": "2023-10-08T12:38:20.161Z"
   },
   {
    "duration": 25,
    "start_time": "2023-10-08T12:38:20.215Z"
   },
   {
    "duration": 107,
    "start_time": "2023-10-08T12:38:20.242Z"
   },
   {
    "duration": 44,
    "start_time": "2023-10-08T12:38:20.350Z"
   },
   {
    "duration": 40,
    "start_time": "2023-10-08T12:38:20.396Z"
   },
   {
    "duration": 30,
    "start_time": "2023-10-08T12:38:20.437Z"
   },
   {
    "duration": 35,
    "start_time": "2023-10-08T12:38:20.469Z"
   },
   {
    "duration": 39,
    "start_time": "2023-10-08T12:38:20.506Z"
   },
   {
    "duration": 16,
    "start_time": "2023-10-08T12:38:20.547Z"
   },
   {
    "duration": 18,
    "start_time": "2023-10-08T12:38:20.565Z"
   },
   {
    "duration": 222,
    "start_time": "2023-10-08T12:38:20.584Z"
   },
   {
    "duration": 3,
    "start_time": "2023-10-08T12:38:20.808Z"
   },
   {
    "duration": 28,
    "start_time": "2023-10-08T12:38:20.812Z"
   },
   {
    "duration": 246,
    "start_time": "2023-10-08T12:38:20.841Z"
   },
   {
    "duration": 3,
    "start_time": "2023-10-08T12:38:21.089Z"
   },
   {
    "duration": 202,
    "start_time": "2023-10-08T12:38:21.094Z"
   },
   {
    "duration": 212,
    "start_time": "2023-10-08T12:38:21.298Z"
   },
   {
    "duration": 3,
    "start_time": "2023-10-08T12:38:21.511Z"
   },
   {
    "duration": 16,
    "start_time": "2023-10-08T12:38:21.516Z"
   },
   {
    "duration": 929,
    "start_time": "2023-10-08T12:38:21.534Z"
   },
   {
    "duration": 3,
    "start_time": "2023-10-08T12:38:22.465Z"
   },
   {
    "duration": 45,
    "start_time": "2023-10-08T12:38:22.470Z"
   },
   {
    "duration": 49,
    "start_time": "2023-10-08T12:38:22.517Z"
   },
   {
    "duration": 34,
    "start_time": "2023-10-08T12:38:22.567Z"
   },
   {
    "duration": 29,
    "start_time": "2023-10-08T12:38:22.603Z"
   },
   {
    "duration": 29,
    "start_time": "2023-10-08T12:38:22.633Z"
   },
   {
    "duration": 21,
    "start_time": "2023-10-08T12:38:22.664Z"
   },
   {
    "duration": 25,
    "start_time": "2023-10-08T12:38:22.687Z"
   },
   {
    "duration": 24,
    "start_time": "2023-10-08T12:38:22.714Z"
   },
   {
    "duration": 25,
    "start_time": "2023-10-08T12:38:22.739Z"
   },
   {
    "duration": 24,
    "start_time": "2023-10-08T12:38:22.766Z"
   },
   {
    "duration": 41,
    "start_time": "2023-10-08T12:38:22.792Z"
   },
   {
    "duration": 174,
    "start_time": "2023-10-08T12:38:22.835Z"
   },
   {
    "duration": 7,
    "start_time": "2023-10-08T12:38:23.010Z"
   },
   {
    "duration": 46,
    "start_time": "2023-10-08T12:38:23.019Z"
   },
   {
    "duration": 34,
    "start_time": "2023-10-08T12:38:23.068Z"
   },
   {
    "duration": 28,
    "start_time": "2023-10-08T12:38:23.103Z"
   },
   {
    "duration": 33,
    "start_time": "2023-10-08T12:38:23.133Z"
   },
   {
    "duration": 6,
    "start_time": "2023-10-08T12:38:23.167Z"
   },
   {
    "duration": 10,
    "start_time": "2023-10-08T12:38:23.174Z"
   },
   {
    "duration": 20,
    "start_time": "2023-10-08T12:38:23.186Z"
   },
   {
    "duration": 12,
    "start_time": "2023-10-08T12:38:23.207Z"
   },
   {
    "duration": 16,
    "start_time": "2023-10-08T12:38:23.220Z"
   },
   {
    "duration": 16,
    "start_time": "2023-10-08T12:38:23.238Z"
   },
   {
    "duration": 15,
    "start_time": "2023-10-08T12:38:23.255Z"
   },
   {
    "duration": 22,
    "start_time": "2023-10-08T12:38:23.271Z"
   },
   {
    "duration": 18,
    "start_time": "2023-10-08T12:38:23.294Z"
   },
   {
    "duration": 15,
    "start_time": "2023-10-08T12:38:23.314Z"
   },
   {
    "duration": 22,
    "start_time": "2023-10-08T12:38:23.331Z"
   },
   {
    "duration": 26,
    "start_time": "2023-10-08T12:38:23.356Z"
   },
   {
    "duration": 9,
    "start_time": "2023-10-08T12:38:23.384Z"
   },
   {
    "duration": 31,
    "start_time": "2023-10-08T12:38:23.395Z"
   },
   {
    "duration": 36,
    "start_time": "2023-10-08T12:38:23.428Z"
   },
   {
    "duration": 27,
    "start_time": "2023-10-08T12:38:23.466Z"
   },
   {
    "duration": 20,
    "start_time": "2023-10-08T12:38:23.494Z"
   },
   {
    "duration": 13,
    "start_time": "2023-10-08T12:38:23.515Z"
   },
   {
    "duration": 29,
    "start_time": "2023-10-08T12:38:23.530Z"
   },
   {
    "duration": 16,
    "start_time": "2023-10-08T12:38:23.560Z"
   },
   {
    "duration": 9,
    "start_time": "2023-10-08T12:38:23.577Z"
   },
   {
    "duration": 22,
    "start_time": "2023-10-08T12:38:23.588Z"
   },
   {
    "duration": 19,
    "start_time": "2023-10-08T12:38:23.612Z"
   },
   {
    "duration": 16,
    "start_time": "2023-10-08T12:38:23.633Z"
   },
   {
    "duration": 10,
    "start_time": "2023-10-08T12:38:23.652Z"
   },
   {
    "duration": 15,
    "start_time": "2023-10-08T12:38:23.664Z"
   },
   {
    "duration": 23,
    "start_time": "2023-10-08T12:38:23.680Z"
   },
   {
    "duration": 32,
    "start_time": "2023-10-08T12:38:23.705Z"
   },
   {
    "duration": 9,
    "start_time": "2023-10-08T12:38:23.739Z"
   },
   {
    "duration": 12,
    "start_time": "2023-10-08T12:38:23.753Z"
   },
   {
    "duration": 28,
    "start_time": "2023-10-08T12:38:23.767Z"
   },
   {
    "duration": 11,
    "start_time": "2023-10-08T12:38:23.797Z"
   },
   {
    "duration": 14,
    "start_time": "2023-10-08T12:38:23.810Z"
   },
   {
    "duration": 15,
    "start_time": "2023-10-08T12:38:23.826Z"
   },
   {
    "duration": 27,
    "start_time": "2023-10-08T12:38:23.843Z"
   },
   {
    "duration": 11,
    "start_time": "2023-10-08T12:38:23.873Z"
   },
   {
    "duration": 8,
    "start_time": "2023-10-08T12:38:23.887Z"
   },
   {
    "duration": 24,
    "start_time": "2023-10-08T12:38:23.897Z"
   },
   {
    "duration": 287,
    "start_time": "2023-10-08T12:38:23.923Z"
   },
   {
    "duration": 4,
    "start_time": "2023-10-08T12:38:24.212Z"
   },
   {
    "duration": 14,
    "start_time": "2023-10-08T12:38:24.218Z"
   },
   {
    "duration": 44,
    "start_time": "2023-10-08T12:38:24.234Z"
   },
   {
    "duration": 15,
    "start_time": "2023-10-08T12:38:24.280Z"
   },
   {
    "duration": 23,
    "start_time": "2023-10-08T12:38:24.298Z"
   },
   {
    "duration": 15,
    "start_time": "2023-10-08T12:38:24.323Z"
   },
   {
    "duration": 21,
    "start_time": "2023-10-08T12:38:24.340Z"
   },
   {
    "duration": 15,
    "start_time": "2023-10-08T12:38:24.362Z"
   },
   {
    "duration": 17,
    "start_time": "2023-10-08T12:38:24.379Z"
   },
   {
    "duration": 3,
    "start_time": "2023-10-08T12:43:54.106Z"
   },
   {
    "duration": 1310,
    "start_time": "2023-10-08T12:43:54.111Z"
   },
   {
    "duration": 2,
    "start_time": "2023-10-08T12:43:55.423Z"
   },
   {
    "duration": 91,
    "start_time": "2023-10-08T12:43:55.427Z"
   },
   {
    "duration": 8,
    "start_time": "2023-10-08T12:43:55.519Z"
   },
   {
    "duration": 65,
    "start_time": "2023-10-08T12:43:55.529Z"
   },
   {
    "duration": 57,
    "start_time": "2023-10-08T12:43:55.596Z"
   },
   {
    "duration": 37,
    "start_time": "2023-10-08T12:43:55.654Z"
   },
   {
    "duration": 15,
    "start_time": "2023-10-08T12:43:55.694Z"
   },
   {
    "duration": 201,
    "start_time": "2023-10-08T12:43:55.712Z"
   },
   {
    "duration": 2,
    "start_time": "2023-10-08T12:43:55.915Z"
   },
   {
    "duration": 27,
    "start_time": "2023-10-08T12:43:55.919Z"
   },
   {
    "duration": 216,
    "start_time": "2023-10-08T12:43:55.948Z"
   },
   {
    "duration": 4,
    "start_time": "2023-10-08T12:43:56.166Z"
   },
   {
    "duration": 36,
    "start_time": "2023-10-08T12:43:56.171Z"
   },
   {
    "duration": 124,
    "start_time": "2023-10-08T12:43:56.209Z"
   },
   {
    "duration": 3,
    "start_time": "2023-10-08T12:43:56.336Z"
   },
   {
    "duration": 36,
    "start_time": "2023-10-08T12:43:56.352Z"
   },
   {
    "duration": 14,
    "start_time": "2023-10-08T12:43:56.389Z"
   },
   {
    "duration": 18,
    "start_time": "2023-10-08T12:43:56.404Z"
   },
   {
    "duration": 5,
    "start_time": "2023-10-08T12:43:56.424Z"
   },
   {
    "duration": 26,
    "start_time": "2023-10-08T12:43:56.431Z"
   },
   {
    "duration": 3,
    "start_time": "2023-10-08T12:43:56.460Z"
   },
   {
    "duration": 43,
    "start_time": "2023-10-08T12:43:56.465Z"
   },
   {
    "duration": 3,
    "start_time": "2023-10-08T12:43:56.510Z"
   },
   {
    "duration": 38,
    "start_time": "2023-10-08T12:43:56.514Z"
   },
   {
    "duration": 13,
    "start_time": "2023-10-08T12:43:56.554Z"
   },
   {
    "duration": 11,
    "start_time": "2023-10-08T12:43:56.571Z"
   },
   {
    "duration": 10,
    "start_time": "2023-10-08T12:43:56.583Z"
   },
   {
    "duration": 11,
    "start_time": "2023-10-08T12:43:56.595Z"
   },
   {
    "duration": 17,
    "start_time": "2023-10-08T12:43:56.608Z"
   },
   {
    "duration": 29,
    "start_time": "2023-10-08T12:43:56.626Z"
   },
   {
    "duration": 8,
    "start_time": "2023-10-08T12:43:56.656Z"
   },
   {
    "duration": 8,
    "start_time": "2023-10-08T12:43:56.665Z"
   },
   {
    "duration": 23,
    "start_time": "2023-10-08T12:43:56.675Z"
   },
   {
    "duration": 11,
    "start_time": "2023-10-08T12:43:56.700Z"
   },
   {
    "duration": 8,
    "start_time": "2023-10-08T12:43:56.713Z"
   },
   {
    "duration": 5,
    "start_time": "2023-10-08T12:43:56.722Z"
   },
   {
    "duration": 10,
    "start_time": "2023-10-08T12:43:56.728Z"
   },
   {
    "duration": 20,
    "start_time": "2023-10-08T12:43:56.739Z"
   },
   {
    "duration": 3,
    "start_time": "2023-10-08T12:43:56.761Z"
   },
   {
    "duration": 6,
    "start_time": "2023-10-08T12:43:56.766Z"
   },
   {
    "duration": 12,
    "start_time": "2023-10-08T12:43:56.773Z"
   },
   {
    "duration": 14,
    "start_time": "2023-10-08T12:43:56.787Z"
   },
   {
    "duration": 11,
    "start_time": "2023-10-08T12:43:56.802Z"
   },
   {
    "duration": 13,
    "start_time": "2023-10-08T12:43:56.814Z"
   },
   {
    "duration": 7,
    "start_time": "2023-10-08T12:43:56.828Z"
   },
   {
    "duration": 7,
    "start_time": "2023-10-08T12:43:56.836Z"
   },
   {
    "duration": 14,
    "start_time": "2023-10-08T12:43:56.846Z"
   },
   {
    "duration": 22,
    "start_time": "2023-10-08T12:43:56.863Z"
   },
   {
    "duration": 11,
    "start_time": "2023-10-08T12:43:56.887Z"
   },
   {
    "duration": 19,
    "start_time": "2023-10-08T12:43:56.899Z"
   },
   {
    "duration": 11,
    "start_time": "2023-10-08T12:43:56.920Z"
   },
   {
    "duration": 10,
    "start_time": "2023-10-08T12:43:56.933Z"
   },
   {
    "duration": 23,
    "start_time": "2023-10-08T12:43:56.945Z"
   },
   {
    "duration": 16,
    "start_time": "2023-10-08T12:43:56.971Z"
   },
   {
    "duration": 35,
    "start_time": "2023-10-08T12:43:56.988Z"
   },
   {
    "duration": 18,
    "start_time": "2023-10-08T12:43:57.024Z"
   },
   {
    "duration": 4,
    "start_time": "2023-10-08T12:43:57.049Z"
   },
   {
    "duration": 21,
    "start_time": "2023-10-08T12:43:57.056Z"
   },
   {
    "duration": 15,
    "start_time": "2023-10-08T12:43:57.080Z"
   },
   {
    "duration": 25,
    "start_time": "2023-10-08T12:43:57.097Z"
   },
   {
    "duration": 29,
    "start_time": "2023-10-08T12:43:57.124Z"
   },
   {
    "duration": 12,
    "start_time": "2023-10-08T12:43:57.154Z"
   },
   {
    "duration": 15,
    "start_time": "2023-10-08T12:43:57.168Z"
   },
   {
    "duration": 14,
    "start_time": "2023-10-08T12:43:57.185Z"
   },
   {
    "duration": 33,
    "start_time": "2023-10-08T12:43:57.200Z"
   },
   {
    "duration": 26,
    "start_time": "2023-10-08T12:43:57.235Z"
   },
   {
    "duration": 33,
    "start_time": "2023-10-08T12:43:57.263Z"
   },
   {
    "duration": 177,
    "start_time": "2023-10-08T12:43:57.298Z"
   },
   {
    "duration": 181,
    "start_time": "2023-10-08T12:43:57.477Z"
   },
   {
    "duration": 3,
    "start_time": "2023-10-08T12:43:57.660Z"
   },
   {
    "duration": 10,
    "start_time": "2023-10-08T12:43:57.664Z"
   },
   {
    "duration": 136,
    "start_time": "2023-10-08T12:43:57.675Z"
   },
   {
    "duration": 162,
    "start_time": "2023-10-08T12:43:57.813Z"
   },
   {
    "duration": 3,
    "start_time": "2023-10-08T12:43:57.977Z"
   },
   {
    "duration": 22,
    "start_time": "2023-10-08T12:43:57.981Z"
   },
   {
    "duration": 57,
    "start_time": "2023-10-08T12:43:58.005Z"
   },
   {
    "duration": 201,
    "start_time": "2023-10-08T12:43:58.064Z"
   },
   {
    "duration": 482,
    "start_time": "2023-10-08T12:43:58.267Z"
   },
   {
    "duration": 5,
    "start_time": "2023-10-08T12:43:58.751Z"
   },
   {
    "duration": 13,
    "start_time": "2023-10-08T12:43:58.847Z"
   },
   {
    "duration": 22,
    "start_time": "2023-10-08T12:43:58.863Z"
   },
   {
    "duration": 15,
    "start_time": "2023-10-08T12:43:58.887Z"
   },
   {
    "duration": 11,
    "start_time": "2023-10-08T12:43:58.904Z"
   },
   {
    "duration": 21,
    "start_time": "2023-10-08T12:43:58.917Z"
   },
   {
    "duration": 15,
    "start_time": "2023-10-08T12:43:58.940Z"
   },
   {
    "duration": 10,
    "start_time": "2023-10-08T12:43:58.957Z"
   },
   {
    "duration": 9,
    "start_time": "2023-10-08T12:43:58.968Z"
   },
   {
    "duration": 33,
    "start_time": "2023-10-08T12:43:58.978Z"
   },
   {
    "duration": 21,
    "start_time": "2023-10-08T12:43:59.013Z"
   },
   {
    "duration": 186,
    "start_time": "2023-10-08T12:43:59.036Z"
   },
   {
    "duration": 2,
    "start_time": "2023-10-08T12:43:59.224Z"
   },
   {
    "duration": 26,
    "start_time": "2023-10-08T12:43:59.228Z"
   },
   {
    "duration": 24,
    "start_time": "2023-10-08T12:43:59.257Z"
   },
   {
    "duration": 16,
    "start_time": "2023-10-08T12:43:59.283Z"
   },
   {
    "duration": 36,
    "start_time": "2023-10-08T12:43:59.300Z"
   },
   {
    "duration": 22,
    "start_time": "2023-10-08T12:43:59.339Z"
   },
   {
    "duration": 20,
    "start_time": "2023-10-08T12:43:59.363Z"
   },
   {
    "duration": 13,
    "start_time": "2023-10-08T12:43:59.386Z"
   },
   {
    "duration": 176,
    "start_time": "2023-10-08T12:43:59.401Z"
   },
   {
    "duration": 3,
    "start_time": "2023-10-08T12:43:59.579Z"
   },
   {
    "duration": 10,
    "start_time": "2023-10-08T12:43:59.583Z"
   },
   {
    "duration": 11,
    "start_time": "2023-10-08T12:43:59.595Z"
   },
   {
    "duration": 23,
    "start_time": "2023-10-08T12:43:59.607Z"
   },
   {
    "duration": 23,
    "start_time": "2023-10-08T12:43:59.632Z"
   },
   {
    "duration": 27,
    "start_time": "2023-10-08T12:43:59.662Z"
   },
   {
    "duration": 15,
    "start_time": "2023-10-08T12:43:59.690Z"
   },
   {
    "duration": 9,
    "start_time": "2023-10-08T12:43:59.707Z"
   },
   {
    "duration": 38,
    "start_time": "2023-10-08T12:43:59.717Z"
   },
   {
    "duration": 24,
    "start_time": "2023-10-08T12:43:59.757Z"
   },
   {
    "duration": 7,
    "start_time": "2023-10-08T12:43:59.783Z"
   },
   {
    "duration": 26,
    "start_time": "2023-10-08T12:43:59.791Z"
   },
   {
    "duration": 52,
    "start_time": "2023-10-08T12:43:59.819Z"
   },
   {
    "duration": 11,
    "start_time": "2023-10-08T12:43:59.872Z"
   },
   {
    "duration": 16,
    "start_time": "2023-10-08T12:43:59.885Z"
   },
   {
    "duration": 228,
    "start_time": "2023-10-08T12:43:59.903Z"
   },
   {
    "duration": 3,
    "start_time": "2023-10-08T12:44:00.133Z"
   },
   {
    "duration": 60,
    "start_time": "2023-10-08T12:44:00.143Z"
   },
   {
    "duration": 257,
    "start_time": "2023-10-08T12:44:00.204Z"
   },
   {
    "duration": 2,
    "start_time": "2023-10-08T12:44:00.463Z"
   },
   {
    "duration": 224,
    "start_time": "2023-10-08T12:44:00.467Z"
   },
   {
    "duration": 231,
    "start_time": "2023-10-08T12:44:00.693Z"
   },
   {
    "duration": 3,
    "start_time": "2023-10-08T12:44:00.926Z"
   },
   {
    "duration": 57,
    "start_time": "2023-10-08T12:44:00.931Z"
   },
   {
    "duration": 939,
    "start_time": "2023-10-08T12:44:00.990Z"
   },
   {
    "duration": 21,
    "start_time": "2023-10-08T12:44:01.931Z"
   },
   {
    "duration": 55,
    "start_time": "2023-10-08T12:44:01.957Z"
   },
   {
    "duration": 60,
    "start_time": "2023-10-08T12:44:02.013Z"
   },
   {
    "duration": 38,
    "start_time": "2023-10-08T12:44:02.075Z"
   },
   {
    "duration": 83,
    "start_time": "2023-10-08T12:44:02.115Z"
   },
   {
    "duration": 108,
    "start_time": "2023-10-08T12:44:02.200Z"
   },
   {
    "duration": 161,
    "start_time": "2023-10-08T12:44:02.310Z"
   },
   {
    "duration": 85,
    "start_time": "2023-10-08T12:44:02.473Z"
   },
   {
    "duration": 81,
    "start_time": "2023-10-08T12:44:02.560Z"
   },
   {
    "duration": 131,
    "start_time": "2023-10-08T12:44:02.642Z"
   },
   {
    "duration": 136,
    "start_time": "2023-10-08T12:44:02.775Z"
   },
   {
    "duration": 124,
    "start_time": "2023-10-08T12:44:02.913Z"
   },
   {
    "duration": 171,
    "start_time": "2023-10-08T12:44:03.039Z"
   },
   {
    "duration": 6,
    "start_time": "2023-10-08T12:44:03.212Z"
   },
   {
    "duration": 51,
    "start_time": "2023-10-08T12:44:03.219Z"
   },
   {
    "duration": 22,
    "start_time": "2023-10-08T12:44:03.272Z"
   },
   {
    "duration": 17,
    "start_time": "2023-10-08T12:44:03.296Z"
   },
   {
    "duration": 14,
    "start_time": "2023-10-08T12:44:03.315Z"
   },
   {
    "duration": 26,
    "start_time": "2023-10-08T12:44:03.331Z"
   },
   {
    "duration": 17,
    "start_time": "2023-10-08T12:44:03.359Z"
   },
   {
    "duration": 22,
    "start_time": "2023-10-08T12:44:03.379Z"
   },
   {
    "duration": 7,
    "start_time": "2023-10-08T12:44:03.404Z"
   },
   {
    "duration": 40,
    "start_time": "2023-10-08T12:44:03.413Z"
   },
   {
    "duration": 22,
    "start_time": "2023-10-08T12:44:03.455Z"
   },
   {
    "duration": 26,
    "start_time": "2023-10-08T12:44:03.479Z"
   },
   {
    "duration": 37,
    "start_time": "2023-10-08T12:44:03.507Z"
   },
   {
    "duration": 42,
    "start_time": "2023-10-08T12:44:03.546Z"
   },
   {
    "duration": 36,
    "start_time": "2023-10-08T12:44:03.590Z"
   },
   {
    "duration": 19,
    "start_time": "2023-10-08T12:44:03.645Z"
   },
   {
    "duration": 34,
    "start_time": "2023-10-08T12:44:03.666Z"
   },
   {
    "duration": 47,
    "start_time": "2023-10-08T12:44:03.702Z"
   },
   {
    "duration": 43,
    "start_time": "2023-10-08T12:44:03.752Z"
   },
   {
    "duration": 61,
    "start_time": "2023-10-08T12:44:03.797Z"
   },
   {
    "duration": 47,
    "start_time": "2023-10-08T12:44:03.860Z"
   },
   {
    "duration": 45,
    "start_time": "2023-10-08T12:44:03.910Z"
   },
   {
    "duration": 50,
    "start_time": "2023-10-08T12:44:03.959Z"
   },
   {
    "duration": 25,
    "start_time": "2023-10-08T12:44:04.011Z"
   },
   {
    "duration": 31,
    "start_time": "2023-10-08T12:44:04.038Z"
   },
   {
    "duration": 10,
    "start_time": "2023-10-08T12:44:04.072Z"
   },
   {
    "duration": 21,
    "start_time": "2023-10-08T12:44:04.085Z"
   },
   {
    "duration": 31,
    "start_time": "2023-10-08T12:44:04.108Z"
   },
   {
    "duration": 22,
    "start_time": "2023-10-08T12:44:04.142Z"
   },
   {
    "duration": 23,
    "start_time": "2023-10-08T12:44:04.167Z"
   },
   {
    "duration": 23,
    "start_time": "2023-10-08T12:44:04.193Z"
   },
   {
    "duration": 39,
    "start_time": "2023-10-08T12:44:04.219Z"
   },
   {
    "duration": 15,
    "start_time": "2023-10-08T12:44:04.260Z"
   },
   {
    "duration": 21,
    "start_time": "2023-10-08T12:44:04.276Z"
   },
   {
    "duration": 31,
    "start_time": "2023-10-08T12:44:04.299Z"
   },
   {
    "duration": 24,
    "start_time": "2023-10-08T12:44:04.332Z"
   },
   {
    "duration": 26,
    "start_time": "2023-10-08T12:44:04.358Z"
   },
   {
    "duration": 37,
    "start_time": "2023-10-08T12:44:04.386Z"
   },
   {
    "duration": 42,
    "start_time": "2023-10-08T12:44:04.425Z"
   },
   {
    "duration": 36,
    "start_time": "2023-10-08T12:44:04.471Z"
   },
   {
    "duration": 47,
    "start_time": "2023-10-08T12:44:04.509Z"
   },
   {
    "duration": 28,
    "start_time": "2023-10-08T12:44:04.560Z"
   },
   {
    "duration": 41,
    "start_time": "2023-10-08T12:44:04.590Z"
   },
   {
    "duration": 140,
    "start_time": "2023-10-08T12:44:04.633Z"
   },
   {
    "duration": 0,
    "start_time": "2023-10-08T12:44:04.775Z"
   },
   {
    "duration": 0,
    "start_time": "2023-10-08T12:44:04.777Z"
   },
   {
    "duration": 0,
    "start_time": "2023-10-08T12:44:04.779Z"
   },
   {
    "duration": 0,
    "start_time": "2023-10-08T12:44:04.781Z"
   },
   {
    "duration": 0,
    "start_time": "2023-10-08T12:44:04.782Z"
   },
   {
    "duration": 0,
    "start_time": "2023-10-08T12:44:04.784Z"
   },
   {
    "duration": 0,
    "start_time": "2023-10-08T12:44:04.786Z"
   },
   {
    "duration": 0,
    "start_time": "2023-10-08T12:44:04.788Z"
   },
   {
    "duration": 0,
    "start_time": "2023-10-08T12:44:04.789Z"
   },
   {
    "duration": 0,
    "start_time": "2023-10-08T12:44:04.791Z"
   },
   {
    "duration": 4,
    "start_time": "2023-10-08T12:45:03.074Z"
   },
   {
    "duration": 1355,
    "start_time": "2023-10-08T12:45:03.080Z"
   },
   {
    "duration": 2,
    "start_time": "2023-10-08T12:45:04.438Z"
   },
   {
    "duration": 44,
    "start_time": "2023-10-08T12:45:04.449Z"
   },
   {
    "duration": 2,
    "start_time": "2023-10-08T12:45:04.496Z"
   },
   {
    "duration": 21,
    "start_time": "2023-10-08T12:45:04.502Z"
   },
   {
    "duration": 23,
    "start_time": "2023-10-08T12:45:04.525Z"
   },
   {
    "duration": 25,
    "start_time": "2023-10-08T12:45:04.552Z"
   },
   {
    "duration": 11,
    "start_time": "2023-10-08T12:45:04.581Z"
   },
   {
    "duration": 274,
    "start_time": "2023-10-08T12:45:04.594Z"
   },
   {
    "duration": 2,
    "start_time": "2023-10-08T12:45:04.870Z"
   },
   {
    "duration": 65,
    "start_time": "2023-10-08T12:45:04.874Z"
   },
   {
    "duration": 236,
    "start_time": "2023-10-08T12:45:04.941Z"
   },
   {
    "duration": 2,
    "start_time": "2023-10-08T12:45:05.179Z"
   },
   {
    "duration": 13,
    "start_time": "2023-10-08T12:45:05.183Z"
   },
   {
    "duration": 122,
    "start_time": "2023-10-08T12:45:05.197Z"
   },
   {
    "duration": 2,
    "start_time": "2023-10-08T12:45:05.321Z"
   },
   {
    "duration": 54,
    "start_time": "2023-10-08T12:45:05.324Z"
   },
   {
    "duration": 13,
    "start_time": "2023-10-08T12:45:05.380Z"
   },
   {
    "duration": 29,
    "start_time": "2023-10-08T12:45:05.395Z"
   },
   {
    "duration": 42,
    "start_time": "2023-10-08T12:45:05.426Z"
   },
   {
    "duration": 44,
    "start_time": "2023-10-08T12:45:05.470Z"
   },
   {
    "duration": 17,
    "start_time": "2023-10-08T12:45:05.516Z"
   },
   {
    "duration": 15,
    "start_time": "2023-10-08T12:45:05.537Z"
   },
   {
    "duration": 23,
    "start_time": "2023-10-08T12:45:05.554Z"
   },
   {
    "duration": 55,
    "start_time": "2023-10-08T12:45:05.579Z"
   },
   {
    "duration": 17,
    "start_time": "2023-10-08T12:45:05.636Z"
   },
   {
    "duration": 49,
    "start_time": "2023-10-08T12:45:05.654Z"
   },
   {
    "duration": 35,
    "start_time": "2023-10-08T12:45:05.705Z"
   },
   {
    "duration": 39,
    "start_time": "2023-10-08T12:45:05.741Z"
   },
   {
    "duration": 49,
    "start_time": "2023-10-08T12:45:05.782Z"
   },
   {
    "duration": 44,
    "start_time": "2023-10-08T12:45:05.832Z"
   },
   {
    "duration": 64,
    "start_time": "2023-10-08T12:45:05.878Z"
   },
   {
    "duration": 70,
    "start_time": "2023-10-08T12:45:05.943Z"
   },
   {
    "duration": 114,
    "start_time": "2023-10-08T12:45:06.015Z"
   },
   {
    "duration": 153,
    "start_time": "2023-10-08T12:45:06.131Z"
   },
   {
    "duration": 32,
    "start_time": "2023-10-08T12:45:06.285Z"
   },
   {
    "duration": 45,
    "start_time": "2023-10-08T12:45:06.318Z"
   },
   {
    "duration": 27,
    "start_time": "2023-10-08T12:45:06.365Z"
   },
   {
    "duration": 49,
    "start_time": "2023-10-08T12:45:06.394Z"
   },
   {
    "duration": 61,
    "start_time": "2023-10-08T12:45:06.452Z"
   },
   {
    "duration": 34,
    "start_time": "2023-10-08T12:45:06.515Z"
   },
   {
    "duration": 39,
    "start_time": "2023-10-08T12:45:06.550Z"
   },
   {
    "duration": 62,
    "start_time": "2023-10-08T12:45:06.591Z"
   },
   {
    "duration": 43,
    "start_time": "2023-10-08T12:45:06.656Z"
   },
   {
    "duration": 60,
    "start_time": "2023-10-08T12:45:06.700Z"
   },
   {
    "duration": 61,
    "start_time": "2023-10-08T12:45:06.761Z"
   },
   {
    "duration": 47,
    "start_time": "2023-10-08T12:45:06.823Z"
   },
   {
    "duration": 35,
    "start_time": "2023-10-08T12:45:06.871Z"
   },
   {
    "duration": 62,
    "start_time": "2023-10-08T12:45:06.907Z"
   },
   {
    "duration": 70,
    "start_time": "2023-10-08T12:45:06.971Z"
   },
   {
    "duration": 35,
    "start_time": "2023-10-08T12:45:07.044Z"
   },
   {
    "duration": 31,
    "start_time": "2023-10-08T12:45:07.081Z"
   },
   {
    "duration": 42,
    "start_time": "2023-10-08T12:45:07.113Z"
   },
   {
    "duration": 38,
    "start_time": "2023-10-08T12:45:07.156Z"
   },
   {
    "duration": 34,
    "start_time": "2023-10-08T12:45:07.195Z"
   },
   {
    "duration": 49,
    "start_time": "2023-10-08T12:45:07.230Z"
   },
   {
    "duration": 33,
    "start_time": "2023-10-08T12:45:07.281Z"
   },
   {
    "duration": 55,
    "start_time": "2023-10-08T12:45:07.315Z"
   },
   {
    "duration": 58,
    "start_time": "2023-10-08T12:45:07.371Z"
   },
   {
    "duration": 91,
    "start_time": "2023-10-08T12:45:07.431Z"
   },
   {
    "duration": 39,
    "start_time": "2023-10-08T12:45:07.524Z"
   },
   {
    "duration": 45,
    "start_time": "2023-10-08T12:45:07.564Z"
   },
   {
    "duration": 48,
    "start_time": "2023-10-08T12:45:07.611Z"
   },
   {
    "duration": 22,
    "start_time": "2023-10-08T12:45:07.661Z"
   },
   {
    "duration": 19,
    "start_time": "2023-10-08T12:45:07.685Z"
   },
   {
    "duration": 25,
    "start_time": "2023-10-08T12:45:07.705Z"
   },
   {
    "duration": 43,
    "start_time": "2023-10-08T12:45:07.731Z"
   },
   {
    "duration": 27,
    "start_time": "2023-10-08T12:45:07.782Z"
   },
   {
    "duration": 185,
    "start_time": "2023-10-08T12:45:07.811Z"
   },
   {
    "duration": 180,
    "start_time": "2023-10-08T12:45:07.998Z"
   },
   {
    "duration": 3,
    "start_time": "2023-10-08T12:45:08.179Z"
   },
   {
    "duration": 32,
    "start_time": "2023-10-08T12:45:08.184Z"
   },
   {
    "duration": 150,
    "start_time": "2023-10-08T12:45:08.217Z"
   },
   {
    "duration": 150,
    "start_time": "2023-10-08T12:45:08.368Z"
   },
   {
    "duration": 2,
    "start_time": "2023-10-08T12:45:08.520Z"
   },
   {
    "duration": 81,
    "start_time": "2023-10-08T12:45:08.523Z"
   },
   {
    "duration": 182,
    "start_time": "2023-10-08T12:45:08.606Z"
   },
   {
    "duration": 196,
    "start_time": "2023-10-08T12:45:08.789Z"
   },
   {
    "duration": 574,
    "start_time": "2023-10-08T12:45:08.986Z"
   },
   {
    "duration": 3,
    "start_time": "2023-10-08T12:45:09.562Z"
   },
   {
    "duration": 44,
    "start_time": "2023-10-08T12:45:09.567Z"
   },
   {
    "duration": 38,
    "start_time": "2023-10-08T12:45:09.613Z"
   },
   {
    "duration": 29,
    "start_time": "2023-10-08T12:45:09.654Z"
   },
   {
    "duration": 23,
    "start_time": "2023-10-08T12:45:09.684Z"
   },
   {
    "duration": 40,
    "start_time": "2023-10-08T12:45:09.708Z"
   },
   {
    "duration": 19,
    "start_time": "2023-10-08T12:45:09.751Z"
   },
   {
    "duration": 17,
    "start_time": "2023-10-08T12:45:09.772Z"
   },
   {
    "duration": 40,
    "start_time": "2023-10-08T12:45:09.791Z"
   },
   {
    "duration": 26,
    "start_time": "2023-10-08T12:45:09.833Z"
   },
   {
    "duration": 28,
    "start_time": "2023-10-08T12:45:09.861Z"
   },
   {
    "duration": 178,
    "start_time": "2023-10-08T12:45:09.890Z"
   },
   {
    "duration": 2,
    "start_time": "2023-10-08T12:45:10.070Z"
   },
   {
    "duration": 57,
    "start_time": "2023-10-08T12:45:10.074Z"
   },
   {
    "duration": 50,
    "start_time": "2023-10-08T12:45:10.133Z"
   },
   {
    "duration": 27,
    "start_time": "2023-10-08T12:45:10.185Z"
   },
   {
    "duration": 44,
    "start_time": "2023-10-08T12:45:10.213Z"
   },
   {
    "duration": 19,
    "start_time": "2023-10-08T12:45:10.259Z"
   },
   {
    "duration": 40,
    "start_time": "2023-10-08T12:45:10.280Z"
   },
   {
    "duration": 32,
    "start_time": "2023-10-08T12:45:10.321Z"
   },
   {
    "duration": 168,
    "start_time": "2023-10-08T12:45:10.355Z"
   },
   {
    "duration": 3,
    "start_time": "2023-10-08T12:45:10.524Z"
   },
   {
    "duration": 47,
    "start_time": "2023-10-08T12:45:10.529Z"
   },
   {
    "duration": 30,
    "start_time": "2023-10-08T12:45:10.578Z"
   },
   {
    "duration": 40,
    "start_time": "2023-10-08T12:45:10.610Z"
   },
   {
    "duration": 65,
    "start_time": "2023-10-08T12:45:10.652Z"
   },
   {
    "duration": 48,
    "start_time": "2023-10-08T12:45:10.719Z"
   },
   {
    "duration": 20,
    "start_time": "2023-10-08T12:45:10.769Z"
   },
   {
    "duration": 22,
    "start_time": "2023-10-08T12:45:10.791Z"
   },
   {
    "duration": 48,
    "start_time": "2023-10-08T12:45:10.815Z"
   },
   {
    "duration": 48,
    "start_time": "2023-10-08T12:45:10.865Z"
   },
   {
    "duration": 27,
    "start_time": "2023-10-08T12:45:10.915Z"
   },
   {
    "duration": 14,
    "start_time": "2023-10-08T12:45:10.949Z"
   },
   {
    "duration": 39,
    "start_time": "2023-10-08T12:45:10.964Z"
   },
   {
    "duration": 13,
    "start_time": "2023-10-08T12:45:11.005Z"
   },
   {
    "duration": 18,
    "start_time": "2023-10-08T12:45:11.020Z"
   },
   {
    "duration": 248,
    "start_time": "2023-10-08T12:45:11.040Z"
   },
   {
    "duration": 2,
    "start_time": "2023-10-08T12:45:11.290Z"
   },
   {
    "duration": 20,
    "start_time": "2023-10-08T12:45:11.294Z"
   },
   {
    "duration": 223,
    "start_time": "2023-10-08T12:45:11.315Z"
   },
   {
    "duration": 3,
    "start_time": "2023-10-08T12:45:11.539Z"
   },
   {
    "duration": 187,
    "start_time": "2023-10-08T12:45:11.549Z"
   },
   {
    "duration": 228,
    "start_time": "2023-10-08T12:45:11.737Z"
   },
   {
    "duration": 3,
    "start_time": "2023-10-08T12:45:11.967Z"
   },
   {
    "duration": 62,
    "start_time": "2023-10-08T12:45:11.971Z"
   },
   {
    "duration": 951,
    "start_time": "2023-10-08T12:45:12.035Z"
   },
   {
    "duration": 3,
    "start_time": "2023-10-08T12:45:12.988Z"
   },
   {
    "duration": 28,
    "start_time": "2023-10-08T12:45:12.993Z"
   },
   {
    "duration": 45,
    "start_time": "2023-10-08T12:45:13.023Z"
   },
   {
    "duration": 13,
    "start_time": "2023-10-08T12:45:13.070Z"
   },
   {
    "duration": 25,
    "start_time": "2023-10-08T12:45:13.084Z"
   },
   {
    "duration": 48,
    "start_time": "2023-10-08T12:45:13.111Z"
   },
   {
    "duration": 27,
    "start_time": "2023-10-08T12:45:13.161Z"
   },
   {
    "duration": 16,
    "start_time": "2023-10-08T12:45:13.190Z"
   },
   {
    "duration": 45,
    "start_time": "2023-10-08T12:45:13.208Z"
   },
   {
    "duration": 25,
    "start_time": "2023-10-08T12:45:13.255Z"
   },
   {
    "duration": 30,
    "start_time": "2023-10-08T12:45:13.282Z"
   },
   {
    "duration": 33,
    "start_time": "2023-10-08T12:45:13.314Z"
   },
   {
    "duration": 175,
    "start_time": "2023-10-08T12:45:13.354Z"
   },
   {
    "duration": 6,
    "start_time": "2023-10-08T12:45:13.530Z"
   },
   {
    "duration": 34,
    "start_time": "2023-10-08T12:45:13.543Z"
   },
   {
    "duration": 24,
    "start_time": "2023-10-08T12:45:13.579Z"
   },
   {
    "duration": 27,
    "start_time": "2023-10-08T12:45:13.605Z"
   },
   {
    "duration": 24,
    "start_time": "2023-10-08T12:45:13.634Z"
   },
   {
    "duration": 30,
    "start_time": "2023-10-08T12:45:13.660Z"
   },
   {
    "duration": 32,
    "start_time": "2023-10-08T12:45:13.691Z"
   },
   {
    "duration": 42,
    "start_time": "2023-10-08T12:45:13.725Z"
   },
   {
    "duration": 36,
    "start_time": "2023-10-08T12:45:13.769Z"
   },
   {
    "duration": 25,
    "start_time": "2023-10-08T12:45:13.808Z"
   },
   {
    "duration": 32,
    "start_time": "2023-10-08T12:45:13.834Z"
   },
   {
    "duration": 22,
    "start_time": "2023-10-08T12:45:13.868Z"
   },
   {
    "duration": 23,
    "start_time": "2023-10-08T12:45:13.892Z"
   },
   {
    "duration": 20,
    "start_time": "2023-10-08T12:45:13.917Z"
   },
   {
    "duration": 23,
    "start_time": "2023-10-08T12:45:13.939Z"
   },
   {
    "duration": 74,
    "start_time": "2023-10-08T12:45:13.964Z"
   },
   {
    "duration": 40,
    "start_time": "2023-10-08T12:45:14.040Z"
   },
   {
    "duration": 23,
    "start_time": "2023-10-08T12:45:14.082Z"
   },
   {
    "duration": 49,
    "start_time": "2023-10-08T12:45:14.107Z"
   },
   {
    "duration": 15,
    "start_time": "2023-10-08T12:45:14.157Z"
   },
   {
    "duration": 20,
    "start_time": "2023-10-08T12:45:14.173Z"
   },
   {
    "duration": 21,
    "start_time": "2023-10-08T12:45:14.195Z"
   },
   {
    "duration": 29,
    "start_time": "2023-10-08T12:45:14.218Z"
   },
   {
    "duration": 20,
    "start_time": "2023-10-08T12:45:14.259Z"
   },
   {
    "duration": 24,
    "start_time": "2023-10-08T12:45:14.280Z"
   },
   {
    "duration": 31,
    "start_time": "2023-10-08T12:45:14.305Z"
   },
   {
    "duration": 19,
    "start_time": "2023-10-08T12:45:14.338Z"
   },
   {
    "duration": 14,
    "start_time": "2023-10-08T12:45:14.359Z"
   },
   {
    "duration": 30,
    "start_time": "2023-10-08T12:45:14.375Z"
   },
   {
    "duration": 24,
    "start_time": "2023-10-08T12:45:14.407Z"
   },
   {
    "duration": 31,
    "start_time": "2023-10-08T12:45:14.433Z"
   },
   {
    "duration": 21,
    "start_time": "2023-10-08T12:45:14.468Z"
   },
   {
    "duration": 23,
    "start_time": "2023-10-08T12:45:14.491Z"
   },
   {
    "duration": 29,
    "start_time": "2023-10-08T12:45:14.515Z"
   },
   {
    "duration": 21,
    "start_time": "2023-10-08T12:45:14.546Z"
   },
   {
    "duration": 23,
    "start_time": "2023-10-08T12:45:14.569Z"
   },
   {
    "duration": 33,
    "start_time": "2023-10-08T12:45:14.593Z"
   },
   {
    "duration": 22,
    "start_time": "2023-10-08T12:45:14.628Z"
   },
   {
    "duration": 27,
    "start_time": "2023-10-08T12:45:14.652Z"
   },
   {
    "duration": 23,
    "start_time": "2023-10-08T12:45:14.681Z"
   },
   {
    "duration": 36,
    "start_time": "2023-10-08T12:45:14.705Z"
   },
   {
    "duration": 30,
    "start_time": "2023-10-08T12:45:14.743Z"
   },
   {
    "duration": 17,
    "start_time": "2023-10-08T12:45:14.775Z"
   },
   {
    "duration": 288,
    "start_time": "2023-10-08T12:45:14.793Z"
   },
   {
    "duration": 3,
    "start_time": "2023-10-08T12:45:15.083Z"
   },
   {
    "duration": 28,
    "start_time": "2023-10-08T12:45:15.087Z"
   },
   {
    "duration": 24,
    "start_time": "2023-10-08T12:45:15.118Z"
   },
   {
    "duration": 27,
    "start_time": "2023-10-08T12:45:15.150Z"
   },
   {
    "duration": 35,
    "start_time": "2023-10-08T12:45:15.179Z"
   },
   {
    "duration": 42,
    "start_time": "2023-10-08T12:45:15.216Z"
   },
   {
    "duration": 5,
    "start_time": "2023-10-08T12:45:15.260Z"
   },
   {
    "duration": 22,
    "start_time": "2023-10-08T12:45:15.266Z"
   },
   {
    "duration": 30,
    "start_time": "2023-10-08T12:45:15.289Z"
   },
   {
    "duration": 15511,
    "start_time": "2023-10-08T12:45:15.321Z"
   },
   {
    "duration": 3,
    "start_time": "2023-10-08T12:54:34.656Z"
   },
   {
    "duration": 3,
    "start_time": "2023-10-08T12:54:35.088Z"
   },
   {
    "duration": 3,
    "start_time": "2023-10-08T12:54:35.489Z"
   },
   {
    "duration": 4,
    "start_time": "2023-10-08T12:54:36.040Z"
   },
   {
    "duration": 3,
    "start_time": "2023-10-08T12:54:52.497Z"
   },
   {
    "duration": 3,
    "start_time": "2023-10-08T12:55:23.961Z"
   },
   {
    "duration": 4,
    "start_time": "2023-10-08T12:57:43.500Z"
   },
   {
    "duration": 1260,
    "start_time": "2023-10-08T12:57:43.505Z"
   },
   {
    "duration": 3,
    "start_time": "2023-10-08T12:57:44.767Z"
   },
   {
    "duration": 65,
    "start_time": "2023-10-08T12:57:44.772Z"
   },
   {
    "duration": 2,
    "start_time": "2023-10-08T12:57:44.838Z"
   },
   {
    "duration": 40,
    "start_time": "2023-10-08T12:57:44.842Z"
   },
   {
    "duration": 10,
    "start_time": "2023-10-08T12:57:44.884Z"
   },
   {
    "duration": 35,
    "start_time": "2023-10-08T12:57:44.895Z"
   },
   {
    "duration": 16,
    "start_time": "2023-10-08T12:57:44.932Z"
   },
   {
    "duration": 205,
    "start_time": "2023-10-08T12:57:44.950Z"
   },
   {
    "duration": 2,
    "start_time": "2023-10-08T12:57:45.157Z"
   },
   {
    "duration": 27,
    "start_time": "2023-10-08T12:57:45.160Z"
   },
   {
    "duration": 191,
    "start_time": "2023-10-08T12:57:45.188Z"
   },
   {
    "duration": 3,
    "start_time": "2023-10-08T12:57:45.381Z"
   },
   {
    "duration": 26,
    "start_time": "2023-10-08T12:57:45.385Z"
   },
   {
    "duration": 136,
    "start_time": "2023-10-08T12:57:45.413Z"
   },
   {
    "duration": 3,
    "start_time": "2023-10-08T12:57:45.550Z"
   },
   {
    "duration": 40,
    "start_time": "2023-10-08T12:57:45.554Z"
   },
   {
    "duration": 12,
    "start_time": "2023-10-08T12:57:45.595Z"
   },
   {
    "duration": 27,
    "start_time": "2023-10-08T12:57:45.609Z"
   },
   {
    "duration": 16,
    "start_time": "2023-10-08T12:57:45.638Z"
   },
   {
    "duration": 25,
    "start_time": "2023-10-08T12:57:45.656Z"
   },
   {
    "duration": 29,
    "start_time": "2023-10-08T12:57:45.682Z"
   },
   {
    "duration": 49,
    "start_time": "2023-10-08T12:57:45.712Z"
   },
   {
    "duration": 25,
    "start_time": "2023-10-08T12:57:45.762Z"
   },
   {
    "duration": 29,
    "start_time": "2023-10-08T12:57:45.789Z"
   },
   {
    "duration": 10,
    "start_time": "2023-10-08T12:57:45.820Z"
   },
   {
    "duration": 17,
    "start_time": "2023-10-08T12:57:45.834Z"
   },
   {
    "duration": 4,
    "start_time": "2023-10-08T12:57:45.852Z"
   },
   {
    "duration": 7,
    "start_time": "2023-10-08T12:57:45.858Z"
   },
   {
    "duration": 49,
    "start_time": "2023-10-08T12:57:45.866Z"
   },
   {
    "duration": 12,
    "start_time": "2023-10-08T12:57:45.917Z"
   },
   {
    "duration": 7,
    "start_time": "2023-10-08T12:57:45.931Z"
   },
   {
    "duration": 18,
    "start_time": "2023-10-08T12:57:45.940Z"
   },
   {
    "duration": 20,
    "start_time": "2023-10-08T12:57:45.959Z"
   },
   {
    "duration": 31,
    "start_time": "2023-10-08T12:57:45.981Z"
   },
   {
    "duration": 30,
    "start_time": "2023-10-08T12:57:46.014Z"
   },
   {
    "duration": 23,
    "start_time": "2023-10-08T12:57:46.046Z"
   },
   {
    "duration": 9,
    "start_time": "2023-10-08T12:57:46.071Z"
   },
   {
    "duration": 24,
    "start_time": "2023-10-08T12:57:46.081Z"
   },
   {
    "duration": 29,
    "start_time": "2023-10-08T12:57:46.106Z"
   },
   {
    "duration": 23,
    "start_time": "2023-10-08T12:57:46.136Z"
   },
   {
    "duration": 15,
    "start_time": "2023-10-08T12:57:46.160Z"
   },
   {
    "duration": 10,
    "start_time": "2023-10-08T12:57:46.177Z"
   },
   {
    "duration": 17,
    "start_time": "2023-10-08T12:57:46.188Z"
   },
   {
    "duration": 23,
    "start_time": "2023-10-08T12:57:46.206Z"
   },
   {
    "duration": 13,
    "start_time": "2023-10-08T12:57:46.231Z"
   },
   {
    "duration": 19,
    "start_time": "2023-10-08T12:57:46.245Z"
   },
   {
    "duration": 13,
    "start_time": "2023-10-08T12:57:46.265Z"
   },
   {
    "duration": 25,
    "start_time": "2023-10-08T12:57:46.279Z"
   },
   {
    "duration": 16,
    "start_time": "2023-10-08T12:57:46.305Z"
   },
   {
    "duration": 18,
    "start_time": "2023-10-08T12:57:46.323Z"
   },
   {
    "duration": 17,
    "start_time": "2023-10-08T12:57:46.343Z"
   },
   {
    "duration": 10,
    "start_time": "2023-10-08T12:57:46.362Z"
   },
   {
    "duration": 12,
    "start_time": "2023-10-08T12:57:46.373Z"
   },
   {
    "duration": 10,
    "start_time": "2023-10-08T12:57:46.387Z"
   },
   {
    "duration": 6,
    "start_time": "2023-10-08T12:57:46.399Z"
   },
   {
    "duration": 44,
    "start_time": "2023-10-08T12:57:46.407Z"
   },
   {
    "duration": 25,
    "start_time": "2023-10-08T12:57:46.452Z"
   },
   {
    "duration": 14,
    "start_time": "2023-10-08T12:57:46.479Z"
   },
   {
    "duration": 29,
    "start_time": "2023-10-08T12:57:46.494Z"
   },
   {
    "duration": 5,
    "start_time": "2023-10-08T12:57:46.525Z"
   },
   {
    "duration": 13,
    "start_time": "2023-10-08T12:57:46.531Z"
   },
   {
    "duration": 11,
    "start_time": "2023-10-08T12:57:46.545Z"
   },
   {
    "duration": 17,
    "start_time": "2023-10-08T12:57:46.557Z"
   },
   {
    "duration": 14,
    "start_time": "2023-10-08T12:57:46.576Z"
   },
   {
    "duration": 9,
    "start_time": "2023-10-08T12:57:46.591Z"
   },
   {
    "duration": 18,
    "start_time": "2023-10-08T12:57:46.602Z"
   },
   {
    "duration": 17,
    "start_time": "2023-10-08T12:57:46.622Z"
   },
   {
    "duration": 159,
    "start_time": "2023-10-08T12:57:46.640Z"
   },
   {
    "duration": 156,
    "start_time": "2023-10-08T12:57:46.801Z"
   },
   {
    "duration": 3,
    "start_time": "2023-10-08T12:57:46.958Z"
   },
   {
    "duration": 21,
    "start_time": "2023-10-08T12:57:46.962Z"
   },
   {
    "duration": 120,
    "start_time": "2023-10-08T12:57:46.984Z"
   },
   {
    "duration": 149,
    "start_time": "2023-10-08T12:57:47.106Z"
   },
   {
    "duration": 3,
    "start_time": "2023-10-08T12:57:47.257Z"
   },
   {
    "duration": 13,
    "start_time": "2023-10-08T12:57:47.261Z"
   },
   {
    "duration": 10,
    "start_time": "2023-10-08T12:57:47.275Z"
   },
   {
    "duration": 170,
    "start_time": "2023-10-08T12:57:47.286Z"
   },
   {
    "duration": 453,
    "start_time": "2023-10-08T12:57:47.458Z"
   },
   {
    "duration": 2,
    "start_time": "2023-10-08T12:57:47.913Z"
   },
   {
    "duration": 6,
    "start_time": "2023-10-08T12:57:48.003Z"
   },
   {
    "duration": 25,
    "start_time": "2023-10-08T12:57:48.011Z"
   },
   {
    "duration": 20,
    "start_time": "2023-10-08T12:57:48.038Z"
   },
   {
    "duration": 14,
    "start_time": "2023-10-08T12:57:48.059Z"
   },
   {
    "duration": 22,
    "start_time": "2023-10-08T12:57:48.075Z"
   },
   {
    "duration": 10,
    "start_time": "2023-10-08T12:57:48.098Z"
   },
   {
    "duration": 4,
    "start_time": "2023-10-08T12:57:48.111Z"
   },
   {
    "duration": 28,
    "start_time": "2023-10-08T12:57:48.116Z"
   },
   {
    "duration": 23,
    "start_time": "2023-10-08T12:57:48.146Z"
   },
   {
    "duration": 27,
    "start_time": "2023-10-08T12:57:48.171Z"
   },
   {
    "duration": 136,
    "start_time": "2023-10-08T12:57:48.200Z"
   },
   {
    "duration": 6,
    "start_time": "2023-10-08T12:57:48.338Z"
   },
   {
    "duration": 15,
    "start_time": "2023-10-08T12:57:48.346Z"
   },
   {
    "duration": 31,
    "start_time": "2023-10-08T12:57:48.363Z"
   },
   {
    "duration": 21,
    "start_time": "2023-10-08T12:57:48.395Z"
   },
   {
    "duration": 16,
    "start_time": "2023-10-08T12:57:48.418Z"
   },
   {
    "duration": 12,
    "start_time": "2023-10-08T12:57:48.436Z"
   },
   {
    "duration": 16,
    "start_time": "2023-10-08T12:57:48.450Z"
   },
   {
    "duration": 13,
    "start_time": "2023-10-08T12:57:48.468Z"
   },
   {
    "duration": 185,
    "start_time": "2023-10-08T12:57:48.483Z"
   },
   {
    "duration": 2,
    "start_time": "2023-10-08T12:57:48.671Z"
   },
   {
    "duration": 40,
    "start_time": "2023-10-08T12:57:48.676Z"
   },
   {
    "duration": 13,
    "start_time": "2023-10-08T12:57:48.719Z"
   },
   {
    "duration": 19,
    "start_time": "2023-10-08T12:57:48.734Z"
   },
   {
    "duration": 15,
    "start_time": "2023-10-08T12:57:48.755Z"
   },
   {
    "duration": 32,
    "start_time": "2023-10-08T12:57:48.772Z"
   },
   {
    "duration": 3,
    "start_time": "2023-10-08T12:57:48.806Z"
   },
   {
    "duration": 20,
    "start_time": "2023-10-08T12:57:48.811Z"
   },
   {
    "duration": 34,
    "start_time": "2023-10-08T12:57:48.833Z"
   },
   {
    "duration": 31,
    "start_time": "2023-10-08T12:57:48.869Z"
   },
   {
    "duration": 12,
    "start_time": "2023-10-08T12:57:48.902Z"
   },
   {
    "duration": 13,
    "start_time": "2023-10-08T12:57:48.916Z"
   },
   {
    "duration": 25,
    "start_time": "2023-10-08T12:57:48.931Z"
   },
   {
    "duration": 17,
    "start_time": "2023-10-08T12:57:48.958Z"
   },
   {
    "duration": 16,
    "start_time": "2023-10-08T12:57:48.976Z"
   },
   {
    "duration": 203,
    "start_time": "2023-10-08T12:57:48.994Z"
   },
   {
    "duration": 3,
    "start_time": "2023-10-08T12:57:49.199Z"
   },
   {
    "duration": 17,
    "start_time": "2023-10-08T12:57:49.203Z"
   },
   {
    "duration": 256,
    "start_time": "2023-10-08T12:57:49.222Z"
   },
   {
    "duration": 3,
    "start_time": "2023-10-08T12:57:49.480Z"
   },
   {
    "duration": 192,
    "start_time": "2023-10-08T12:57:49.485Z"
   },
   {
    "duration": 201,
    "start_time": "2023-10-08T12:57:49.679Z"
   },
   {
    "duration": 3,
    "start_time": "2023-10-08T12:57:49.881Z"
   },
   {
    "duration": 30,
    "start_time": "2023-10-08T12:57:49.886Z"
   },
   {
    "duration": 858,
    "start_time": "2023-10-08T12:57:49.917Z"
   },
   {
    "duration": 3,
    "start_time": "2023-10-08T12:57:50.777Z"
   },
   {
    "duration": 31,
    "start_time": "2023-10-08T12:57:50.781Z"
   },
   {
    "duration": 17,
    "start_time": "2023-10-08T12:57:50.814Z"
   },
   {
    "duration": 13,
    "start_time": "2023-10-08T12:57:50.833Z"
   },
   {
    "duration": 17,
    "start_time": "2023-10-08T12:57:50.848Z"
   },
   {
    "duration": 31,
    "start_time": "2023-10-08T12:57:50.866Z"
   },
   {
    "duration": 24,
    "start_time": "2023-10-08T12:57:50.899Z"
   },
   {
    "duration": 26,
    "start_time": "2023-10-08T12:57:50.925Z"
   },
   {
    "duration": 29,
    "start_time": "2023-10-08T12:57:50.953Z"
   },
   {
    "duration": 38,
    "start_time": "2023-10-08T12:57:50.983Z"
   },
   {
    "duration": 30,
    "start_time": "2023-10-08T12:57:51.023Z"
   },
   {
    "duration": 28,
    "start_time": "2023-10-08T12:57:51.054Z"
   },
   {
    "duration": 164,
    "start_time": "2023-10-08T12:57:51.084Z"
   },
   {
    "duration": 7,
    "start_time": "2023-10-08T12:57:51.250Z"
   },
   {
    "duration": 39,
    "start_time": "2023-10-08T12:57:51.258Z"
   },
   {
    "duration": 21,
    "start_time": "2023-10-08T12:57:51.298Z"
   },
   {
    "duration": 28,
    "start_time": "2023-10-08T12:57:51.321Z"
   },
   {
    "duration": 28,
    "start_time": "2023-10-08T12:57:51.351Z"
   },
   {
    "duration": 29,
    "start_time": "2023-10-08T12:57:51.381Z"
   },
   {
    "duration": 58,
    "start_time": "2023-10-08T12:57:51.412Z"
   },
   {
    "duration": 14,
    "start_time": "2023-10-08T12:57:51.471Z"
   },
   {
    "duration": 12,
    "start_time": "2023-10-08T12:57:51.487Z"
   },
   {
    "duration": 36,
    "start_time": "2023-10-08T12:57:51.501Z"
   },
   {
    "duration": 14,
    "start_time": "2023-10-08T12:57:51.539Z"
   },
   {
    "duration": 16,
    "start_time": "2023-10-08T12:57:51.555Z"
   },
   {
    "duration": 28,
    "start_time": "2023-10-08T12:57:51.572Z"
   },
   {
    "duration": 16,
    "start_time": "2023-10-08T12:57:51.602Z"
   },
   {
    "duration": 30,
    "start_time": "2023-10-08T12:57:51.619Z"
   },
   {
    "duration": 24,
    "start_time": "2023-10-08T12:57:51.650Z"
   },
   {
    "duration": 28,
    "start_time": "2023-10-08T12:57:51.676Z"
   },
   {
    "duration": 27,
    "start_time": "2023-10-08T12:57:51.706Z"
   },
   {
    "duration": 32,
    "start_time": "2023-10-08T12:57:51.734Z"
   },
   {
    "duration": 39,
    "start_time": "2023-10-08T12:57:51.767Z"
   },
   {
    "duration": 15,
    "start_time": "2023-10-08T12:57:51.808Z"
   },
   {
    "duration": 43,
    "start_time": "2023-10-08T12:57:51.824Z"
   },
   {
    "duration": 27,
    "start_time": "2023-10-08T12:57:51.869Z"
   },
   {
    "duration": 37,
    "start_time": "2023-10-08T12:57:51.897Z"
   },
   {
    "duration": 16,
    "start_time": "2023-10-08T12:57:51.936Z"
   },
   {
    "duration": 29,
    "start_time": "2023-10-08T12:57:51.954Z"
   },
   {
    "duration": 41,
    "start_time": "2023-10-08T12:57:51.985Z"
   },
   {
    "duration": 25,
    "start_time": "2023-10-08T12:57:52.028Z"
   },
   {
    "duration": 23,
    "start_time": "2023-10-08T12:57:52.055Z"
   },
   {
    "duration": 22,
    "start_time": "2023-10-08T12:57:52.080Z"
   },
   {
    "duration": 26,
    "start_time": "2023-10-08T12:57:52.104Z"
   },
   {
    "duration": 38,
    "start_time": "2023-10-08T12:57:52.132Z"
   },
   {
    "duration": 30,
    "start_time": "2023-10-08T12:57:52.172Z"
   },
   {
    "duration": 20,
    "start_time": "2023-10-08T12:57:52.204Z"
   },
   {
    "duration": 37,
    "start_time": "2023-10-08T12:57:52.226Z"
   },
   {
    "duration": 26,
    "start_time": "2023-10-08T12:57:52.265Z"
   },
   {
    "duration": 16,
    "start_time": "2023-10-08T12:57:52.293Z"
   },
   {
    "duration": 26,
    "start_time": "2023-10-08T12:57:52.311Z"
   },
   {
    "duration": 37,
    "start_time": "2023-10-08T12:57:52.339Z"
   },
   {
    "duration": 42,
    "start_time": "2023-10-08T12:57:52.378Z"
   },
   {
    "duration": 24,
    "start_time": "2023-10-08T12:57:52.421Z"
   },
   {
    "duration": 16,
    "start_time": "2023-10-08T12:57:52.447Z"
   },
   {
    "duration": 49,
    "start_time": "2023-10-08T12:57:52.464Z"
   },
   {
    "duration": 255,
    "start_time": "2023-10-08T12:57:52.515Z"
   },
   {
    "duration": 3,
    "start_time": "2023-10-08T12:57:52.771Z"
   },
   {
    "duration": 13,
    "start_time": "2023-10-08T12:57:52.776Z"
   },
   {
    "duration": 8,
    "start_time": "2023-10-08T12:57:52.790Z"
   },
   {
    "duration": 11,
    "start_time": "2023-10-08T12:57:52.800Z"
   },
   {
    "duration": 16,
    "start_time": "2023-10-08T12:57:52.813Z"
   },
   {
    "duration": 9,
    "start_time": "2023-10-08T12:57:52.830Z"
   },
   {
    "duration": 8,
    "start_time": "2023-10-08T12:57:52.841Z"
   },
   {
    "duration": 6,
    "start_time": "2023-10-08T12:57:52.851Z"
   },
   {
    "duration": 94,
    "start_time": "2023-10-08T12:57:52.858Z"
   },
   {
    "duration": 0,
    "start_time": "2023-10-08T12:57:52.953Z"
   },
   {
    "duration": 0,
    "start_time": "2023-10-08T12:57:52.955Z"
   },
   {
    "duration": 0,
    "start_time": "2023-10-08T12:57:52.956Z"
   },
   {
    "duration": 3,
    "start_time": "2023-10-08T12:58:17.134Z"
   },
   {
    "duration": 1168,
    "start_time": "2023-10-08T12:58:17.139Z"
   },
   {
    "duration": 2,
    "start_time": "2023-10-08T12:58:18.309Z"
   },
   {
    "duration": 50,
    "start_time": "2023-10-08T12:58:18.313Z"
   },
   {
    "duration": 3,
    "start_time": "2023-10-08T12:58:18.364Z"
   },
   {
    "duration": 38,
    "start_time": "2023-10-08T12:58:18.369Z"
   },
   {
    "duration": 38,
    "start_time": "2023-10-08T12:58:18.409Z"
   },
   {
    "duration": 16,
    "start_time": "2023-10-08T12:58:18.448Z"
   },
   {
    "duration": 23,
    "start_time": "2023-10-08T12:58:18.466Z"
   },
   {
    "duration": 211,
    "start_time": "2023-10-08T12:58:18.491Z"
   },
   {
    "duration": 2,
    "start_time": "2023-10-08T12:58:18.704Z"
   },
   {
    "duration": 18,
    "start_time": "2023-10-08T12:58:18.707Z"
   },
   {
    "duration": 204,
    "start_time": "2023-10-08T12:58:18.727Z"
   },
   {
    "duration": 3,
    "start_time": "2023-10-08T12:58:18.932Z"
   },
   {
    "duration": 28,
    "start_time": "2023-10-08T12:58:18.936Z"
   },
   {
    "duration": 129,
    "start_time": "2023-10-08T12:58:18.965Z"
   },
   {
    "duration": 3,
    "start_time": "2023-10-08T12:58:19.095Z"
   },
   {
    "duration": 69,
    "start_time": "2023-10-08T12:58:19.099Z"
   },
   {
    "duration": 12,
    "start_time": "2023-10-08T12:58:19.170Z"
   },
   {
    "duration": 9,
    "start_time": "2023-10-08T12:58:19.184Z"
   },
   {
    "duration": 20,
    "start_time": "2023-10-08T12:58:19.195Z"
   },
   {
    "duration": 11,
    "start_time": "2023-10-08T12:58:19.217Z"
   },
   {
    "duration": 3,
    "start_time": "2023-10-08T12:58:19.230Z"
   },
   {
    "duration": 16,
    "start_time": "2023-10-08T12:58:19.237Z"
   },
   {
    "duration": 21,
    "start_time": "2023-10-08T12:58:19.255Z"
   },
   {
    "duration": 46,
    "start_time": "2023-10-08T12:58:19.278Z"
   },
   {
    "duration": 10,
    "start_time": "2023-10-08T12:58:19.326Z"
   },
   {
    "duration": 27,
    "start_time": "2023-10-08T12:58:19.337Z"
   },
   {
    "duration": 15,
    "start_time": "2023-10-08T12:58:19.365Z"
   },
   {
    "duration": 32,
    "start_time": "2023-10-08T12:58:19.381Z"
   },
   {
    "duration": 26,
    "start_time": "2023-10-08T12:58:19.415Z"
   },
   {
    "duration": 33,
    "start_time": "2023-10-08T12:58:19.442Z"
   },
   {
    "duration": 30,
    "start_time": "2023-10-08T12:58:19.476Z"
   },
   {
    "duration": 35,
    "start_time": "2023-10-08T12:58:19.508Z"
   },
   {
    "duration": 23,
    "start_time": "2023-10-08T12:58:19.544Z"
   },
   {
    "duration": 18,
    "start_time": "2023-10-08T12:58:19.568Z"
   },
   {
    "duration": 20,
    "start_time": "2023-10-08T12:58:19.587Z"
   },
   {
    "duration": 15,
    "start_time": "2023-10-08T12:58:19.609Z"
   },
   {
    "duration": 27,
    "start_time": "2023-10-08T12:58:19.626Z"
   },
   {
    "duration": 21,
    "start_time": "2023-10-08T12:58:19.655Z"
   },
   {
    "duration": 17,
    "start_time": "2023-10-08T12:58:19.677Z"
   },
   {
    "duration": 33,
    "start_time": "2023-10-08T12:58:19.695Z"
   },
   {
    "duration": 31,
    "start_time": "2023-10-08T12:58:19.730Z"
   },
   {
    "duration": 55,
    "start_time": "2023-10-08T12:58:19.763Z"
   },
   {
    "duration": 32,
    "start_time": "2023-10-08T12:58:19.820Z"
   },
   {
    "duration": 12,
    "start_time": "2023-10-08T12:58:19.854Z"
   },
   {
    "duration": 23,
    "start_time": "2023-10-08T12:58:19.867Z"
   },
   {
    "duration": 14,
    "start_time": "2023-10-08T12:58:19.891Z"
   },
   {
    "duration": 24,
    "start_time": "2023-10-08T12:58:19.907Z"
   },
   {
    "duration": 37,
    "start_time": "2023-10-08T12:58:19.933Z"
   },
   {
    "duration": 53,
    "start_time": "2023-10-08T12:58:19.972Z"
   },
   {
    "duration": 30,
    "start_time": "2023-10-08T12:58:20.027Z"
   },
   {
    "duration": 18,
    "start_time": "2023-10-08T12:58:20.059Z"
   },
   {
    "duration": 43,
    "start_time": "2023-10-08T12:58:20.079Z"
   },
   {
    "duration": 42,
    "start_time": "2023-10-08T12:58:20.124Z"
   },
   {
    "duration": 41,
    "start_time": "2023-10-08T12:58:20.167Z"
   },
   {
    "duration": 26,
    "start_time": "2023-10-08T12:58:20.210Z"
   },
   {
    "duration": 39,
    "start_time": "2023-10-08T12:58:20.238Z"
   },
   {
    "duration": 48,
    "start_time": "2023-10-08T12:58:20.278Z"
   },
   {
    "duration": 33,
    "start_time": "2023-10-08T12:58:20.327Z"
   },
   {
    "duration": 32,
    "start_time": "2023-10-08T12:58:20.362Z"
   },
   {
    "duration": 13,
    "start_time": "2023-10-08T12:58:20.396Z"
   },
   {
    "duration": 26,
    "start_time": "2023-10-08T12:58:20.410Z"
   },
   {
    "duration": 35,
    "start_time": "2023-10-08T12:58:20.438Z"
   },
   {
    "duration": 24,
    "start_time": "2023-10-08T12:58:20.475Z"
   },
   {
    "duration": 35,
    "start_time": "2023-10-08T12:58:20.500Z"
   },
   {
    "duration": 32,
    "start_time": "2023-10-08T12:58:20.536Z"
   },
   {
    "duration": 54,
    "start_time": "2023-10-08T12:58:20.570Z"
   },
   {
    "duration": 24,
    "start_time": "2023-10-08T12:58:20.632Z"
   },
   {
    "duration": 185,
    "start_time": "2023-10-08T12:58:20.658Z"
   },
   {
    "duration": 161,
    "start_time": "2023-10-08T12:58:20.845Z"
   },
   {
    "duration": 3,
    "start_time": "2023-10-08T12:58:21.007Z"
   },
   {
    "duration": 74,
    "start_time": "2023-10-08T12:58:21.011Z"
   },
   {
    "duration": 109,
    "start_time": "2023-10-08T12:58:21.087Z"
   },
   {
    "duration": 150,
    "start_time": "2023-10-08T12:58:21.198Z"
   },
   {
    "duration": 3,
    "start_time": "2023-10-08T12:58:21.349Z"
   },
   {
    "duration": 11,
    "start_time": "2023-10-08T12:58:21.353Z"
   },
   {
    "duration": 26,
    "start_time": "2023-10-08T12:58:21.365Z"
   },
   {
    "duration": 179,
    "start_time": "2023-10-08T12:58:21.393Z"
   },
   {
    "duration": 536,
    "start_time": "2023-10-08T12:58:21.573Z"
   },
   {
    "duration": 2,
    "start_time": "2023-10-08T12:58:22.111Z"
   },
   {
    "duration": 26,
    "start_time": "2023-10-08T12:58:22.114Z"
   },
   {
    "duration": 26,
    "start_time": "2023-10-08T12:58:22.141Z"
   },
   {
    "duration": 36,
    "start_time": "2023-10-08T12:58:22.169Z"
   },
   {
    "duration": 31,
    "start_time": "2023-10-08T12:58:22.207Z"
   },
   {
    "duration": 19,
    "start_time": "2023-10-08T12:58:22.240Z"
   },
   {
    "duration": 16,
    "start_time": "2023-10-08T12:58:22.261Z"
   },
   {
    "duration": 13,
    "start_time": "2023-10-08T12:58:22.279Z"
   },
   {
    "duration": 16,
    "start_time": "2023-10-08T12:58:22.294Z"
   },
   {
    "duration": 9,
    "start_time": "2023-10-08T12:58:22.311Z"
   },
   {
    "duration": 17,
    "start_time": "2023-10-08T12:58:22.322Z"
   },
   {
    "duration": 147,
    "start_time": "2023-10-08T12:58:22.341Z"
   },
   {
    "duration": 2,
    "start_time": "2023-10-08T12:58:22.490Z"
   },
   {
    "duration": 43,
    "start_time": "2023-10-08T12:58:22.494Z"
   },
   {
    "duration": 46,
    "start_time": "2023-10-08T12:58:22.539Z"
   },
   {
    "duration": 27,
    "start_time": "2023-10-08T12:58:22.587Z"
   },
   {
    "duration": 27,
    "start_time": "2023-10-08T12:58:22.615Z"
   },
   {
    "duration": 17,
    "start_time": "2023-10-08T12:58:22.643Z"
   },
   {
    "duration": 35,
    "start_time": "2023-10-08T12:58:22.662Z"
   },
   {
    "duration": 30,
    "start_time": "2023-10-08T12:58:22.699Z"
   },
   {
    "duration": 164,
    "start_time": "2023-10-08T12:58:22.731Z"
   },
   {
    "duration": 2,
    "start_time": "2023-10-08T12:58:22.897Z"
   },
   {
    "duration": 23,
    "start_time": "2023-10-08T12:58:22.900Z"
   },
   {
    "duration": 11,
    "start_time": "2023-10-08T12:58:22.925Z"
   },
   {
    "duration": 18,
    "start_time": "2023-10-08T12:58:22.938Z"
   },
   {
    "duration": 28,
    "start_time": "2023-10-08T12:58:22.958Z"
   },
   {
    "duration": 32,
    "start_time": "2023-10-08T12:58:22.988Z"
   },
   {
    "duration": 18,
    "start_time": "2023-10-08T12:58:23.021Z"
   },
   {
    "duration": 14,
    "start_time": "2023-10-08T12:58:23.040Z"
   },
   {
    "duration": 41,
    "start_time": "2023-10-08T12:58:23.056Z"
   },
   {
    "duration": 35,
    "start_time": "2023-10-08T12:58:23.099Z"
   },
   {
    "duration": 33,
    "start_time": "2023-10-08T12:58:23.136Z"
   },
   {
    "duration": 14,
    "start_time": "2023-10-08T12:58:23.171Z"
   },
   {
    "duration": 38,
    "start_time": "2023-10-08T12:58:23.187Z"
   },
   {
    "duration": 28,
    "start_time": "2023-10-08T12:58:23.227Z"
   },
   {
    "duration": 33,
    "start_time": "2023-10-08T12:58:23.257Z"
   },
   {
    "duration": 213,
    "start_time": "2023-10-08T12:58:23.292Z"
   },
   {
    "duration": 2,
    "start_time": "2023-10-08T12:58:23.507Z"
   },
   {
    "duration": 28,
    "start_time": "2023-10-08T12:58:23.511Z"
   },
   {
    "duration": 222,
    "start_time": "2023-10-08T12:58:23.540Z"
   },
   {
    "duration": 3,
    "start_time": "2023-10-08T12:58:23.764Z"
   },
   {
    "duration": 201,
    "start_time": "2023-10-08T12:58:23.768Z"
   },
   {
    "duration": 189,
    "start_time": "2023-10-08T12:58:23.971Z"
   },
   {
    "duration": 3,
    "start_time": "2023-10-08T12:58:24.162Z"
   },
   {
    "duration": 18,
    "start_time": "2023-10-08T12:58:24.167Z"
   },
   {
    "duration": 1012,
    "start_time": "2023-10-08T12:58:24.187Z"
   },
   {
    "duration": 4,
    "start_time": "2023-10-08T12:58:25.200Z"
   },
   {
    "duration": 24,
    "start_time": "2023-10-08T12:58:25.206Z"
   },
   {
    "duration": 24,
    "start_time": "2023-10-08T12:58:25.232Z"
   },
   {
    "duration": 27,
    "start_time": "2023-10-08T12:58:25.257Z"
   },
   {
    "duration": 23,
    "start_time": "2023-10-08T12:58:25.285Z"
   },
   {
    "duration": 26,
    "start_time": "2023-10-08T12:58:25.310Z"
   },
   {
    "duration": 47,
    "start_time": "2023-10-08T12:58:25.337Z"
   },
   {
    "duration": 37,
    "start_time": "2023-10-08T12:58:25.385Z"
   },
   {
    "duration": 27,
    "start_time": "2023-10-08T12:58:25.423Z"
   },
   {
    "duration": 7,
    "start_time": "2023-10-08T12:58:25.452Z"
   },
   {
    "duration": 33,
    "start_time": "2023-10-08T12:58:25.460Z"
   },
   {
    "duration": 22,
    "start_time": "2023-10-08T12:58:25.494Z"
   },
   {
    "duration": 187,
    "start_time": "2023-10-08T12:58:25.518Z"
   },
   {
    "duration": 6,
    "start_time": "2023-10-08T12:58:25.707Z"
   },
   {
    "duration": 28,
    "start_time": "2023-10-08T12:58:25.714Z"
   },
   {
    "duration": 23,
    "start_time": "2023-10-08T12:58:25.743Z"
   },
   {
    "duration": 36,
    "start_time": "2023-10-08T12:58:25.767Z"
   },
   {
    "duration": 18,
    "start_time": "2023-10-08T12:58:25.805Z"
   },
   {
    "duration": 33,
    "start_time": "2023-10-08T12:58:25.824Z"
   },
   {
    "duration": 24,
    "start_time": "2023-10-08T12:58:25.859Z"
   },
   {
    "duration": 24,
    "start_time": "2023-10-08T12:58:25.885Z"
   },
   {
    "duration": 12,
    "start_time": "2023-10-08T12:58:25.911Z"
   },
   {
    "duration": 31,
    "start_time": "2023-10-08T12:58:25.925Z"
   },
   {
    "duration": 23,
    "start_time": "2023-10-08T12:58:25.957Z"
   },
   {
    "duration": 30,
    "start_time": "2023-10-08T12:58:25.982Z"
   },
   {
    "duration": 26,
    "start_time": "2023-10-08T12:58:26.014Z"
   },
   {
    "duration": 19,
    "start_time": "2023-10-08T12:58:26.042Z"
   },
   {
    "duration": 22,
    "start_time": "2023-10-08T12:58:26.062Z"
   },
   {
    "duration": 40,
    "start_time": "2023-10-08T12:58:26.086Z"
   },
   {
    "duration": 35,
    "start_time": "2023-10-08T12:58:26.128Z"
   },
   {
    "duration": 33,
    "start_time": "2023-10-08T12:58:26.166Z"
   },
   {
    "duration": 42,
    "start_time": "2023-10-08T12:58:26.201Z"
   },
   {
    "duration": 19,
    "start_time": "2023-10-08T12:58:26.244Z"
   },
   {
    "duration": 27,
    "start_time": "2023-10-08T12:58:26.264Z"
   },
   {
    "duration": 24,
    "start_time": "2023-10-08T12:58:26.293Z"
   },
   {
    "duration": 25,
    "start_time": "2023-10-08T12:58:26.319Z"
   },
   {
    "duration": 31,
    "start_time": "2023-10-08T12:58:26.346Z"
   },
   {
    "duration": 50,
    "start_time": "2023-10-08T12:58:26.379Z"
   },
   {
    "duration": 43,
    "start_time": "2023-10-08T12:58:26.430Z"
   },
   {
    "duration": 27,
    "start_time": "2023-10-08T12:58:26.474Z"
   },
   {
    "duration": 25,
    "start_time": "2023-10-08T12:58:26.503Z"
   },
   {
    "duration": 25,
    "start_time": "2023-10-08T12:58:26.529Z"
   },
   {
    "duration": 16,
    "start_time": "2023-10-08T12:58:26.556Z"
   },
   {
    "duration": 53,
    "start_time": "2023-10-08T12:58:26.573Z"
   },
   {
    "duration": 45,
    "start_time": "2023-10-08T12:58:26.628Z"
   },
   {
    "duration": 10,
    "start_time": "2023-10-08T12:58:26.675Z"
   },
   {
    "duration": 27,
    "start_time": "2023-10-08T12:58:26.687Z"
   },
   {
    "duration": 15,
    "start_time": "2023-10-08T12:58:26.715Z"
   },
   {
    "duration": 23,
    "start_time": "2023-10-08T12:58:26.732Z"
   },
   {
    "duration": 36,
    "start_time": "2023-10-08T12:58:26.756Z"
   },
   {
    "duration": 31,
    "start_time": "2023-10-08T12:58:26.794Z"
   },
   {
    "duration": 21,
    "start_time": "2023-10-08T12:58:26.827Z"
   },
   {
    "duration": 22,
    "start_time": "2023-10-08T12:58:26.849Z"
   },
   {
    "duration": 22,
    "start_time": "2023-10-08T12:58:26.873Z"
   },
   {
    "duration": 14,
    "start_time": "2023-10-08T12:58:26.897Z"
   },
   {
    "duration": 35,
    "start_time": "2023-10-08T12:58:26.912Z"
   },
   {
    "duration": 272,
    "start_time": "2023-10-08T12:58:26.948Z"
   },
   {
    "duration": 2,
    "start_time": "2023-10-08T12:58:27.222Z"
   },
   {
    "duration": 94,
    "start_time": "2023-10-08T12:58:27.226Z"
   },
   {
    "duration": 65,
    "start_time": "2023-10-08T12:58:27.322Z"
   },
   {
    "duration": 53,
    "start_time": "2023-10-08T12:58:27.389Z"
   },
   {
    "duration": 44,
    "start_time": "2023-10-08T12:58:27.443Z"
   },
   {
    "duration": 47,
    "start_time": "2023-10-08T12:58:27.489Z"
   },
   {
    "duration": 14,
    "start_time": "2023-10-08T12:58:27.538Z"
   },
   {
    "duration": 40,
    "start_time": "2023-10-08T12:58:27.554Z"
   },
   {
    "duration": 37,
    "start_time": "2023-10-08T12:58:27.596Z"
   },
   {
    "duration": 24,
    "start_time": "2023-10-08T12:58:27.635Z"
   },
   {
    "duration": 134,
    "start_time": "2023-10-09T16:08:17.127Z"
   },
   {
    "duration": 1284,
    "start_time": "2023-10-09T16:46:35.549Z"
   },
   {
    "duration": 90,
    "start_time": "2023-10-09T16:46:36.835Z"
   },
   {
    "duration": 13,
    "start_time": "2023-10-09T16:46:36.927Z"
   },
   {
    "duration": 64,
    "start_time": "2023-10-09T16:46:36.942Z"
   },
   {
    "duration": 219,
    "start_time": "2023-10-09T16:46:37.008Z"
   },
   {
    "duration": 6,
    "start_time": "2023-10-09T16:46:37.229Z"
   },
   {
    "duration": 201,
    "start_time": "2023-10-09T16:46:37.236Z"
   },
   {
    "duration": 9,
    "start_time": "2023-10-09T16:46:37.439Z"
   },
   {
    "duration": 124,
    "start_time": "2023-10-09T16:46:37.450Z"
   },
   {
    "duration": 153,
    "start_time": "2023-10-09T16:46:37.577Z"
   },
   {
    "duration": 14,
    "start_time": "2023-10-09T16:46:37.731Z"
   },
   {
    "duration": 15,
    "start_time": "2023-10-09T16:46:37.746Z"
   },
   {
    "duration": 25,
    "start_time": "2023-10-09T16:46:37.763Z"
   },
   {
    "duration": 48,
    "start_time": "2023-10-09T16:46:37.789Z"
   },
   {
    "duration": 85,
    "start_time": "2023-10-09T16:46:37.839Z"
   },
   {
    "duration": 12,
    "start_time": "2023-10-09T16:46:37.927Z"
   },
   {
    "duration": 40,
    "start_time": "2023-10-09T16:46:37.940Z"
   },
   {
    "duration": 16,
    "start_time": "2023-10-09T16:46:37.981Z"
   },
   {
    "duration": 23,
    "start_time": "2023-10-09T16:46:37.999Z"
   },
   {
    "duration": 21,
    "start_time": "2023-10-09T16:46:38.023Z"
   },
   {
    "duration": 6,
    "start_time": "2023-10-09T16:46:38.045Z"
   },
   {
    "duration": 22,
    "start_time": "2023-10-09T16:46:38.052Z"
   },
   {
    "duration": 10,
    "start_time": "2023-10-09T16:46:38.076Z"
   },
   {
    "duration": 11,
    "start_time": "2023-10-09T16:46:38.087Z"
   },
   {
    "duration": 6,
    "start_time": "2023-10-09T16:46:38.100Z"
   },
   {
    "duration": 10,
    "start_time": "2023-10-09T16:46:38.108Z"
   },
   {
    "duration": 11,
    "start_time": "2023-10-09T16:46:38.119Z"
   },
   {
    "duration": 4,
    "start_time": "2023-10-09T16:46:38.145Z"
   },
   {
    "duration": 19,
    "start_time": "2023-10-09T16:46:38.150Z"
   },
   {
    "duration": 12,
    "start_time": "2023-10-09T16:46:38.170Z"
   },
   {
    "duration": 99,
    "start_time": "2023-10-09T16:46:38.183Z"
   },
   {
    "duration": 0,
    "start_time": "2023-10-09T16:46:38.285Z"
   },
   {
    "duration": 0,
    "start_time": "2023-10-09T16:46:38.286Z"
   },
   {
    "duration": 0,
    "start_time": "2023-10-09T16:46:38.287Z"
   },
   {
    "duration": 0,
    "start_time": "2023-10-09T16:46:38.288Z"
   },
   {
    "duration": 0,
    "start_time": "2023-10-09T16:46:38.289Z"
   },
   {
    "duration": 0,
    "start_time": "2023-10-09T16:46:38.290Z"
   },
   {
    "duration": 0,
    "start_time": "2023-10-09T16:46:38.291Z"
   },
   {
    "duration": 0,
    "start_time": "2023-10-09T16:46:38.292Z"
   },
   {
    "duration": 0,
    "start_time": "2023-10-09T16:46:38.293Z"
   },
   {
    "duration": 0,
    "start_time": "2023-10-09T16:46:38.294Z"
   },
   {
    "duration": 0,
    "start_time": "2023-10-09T16:46:38.295Z"
   },
   {
    "duration": 0,
    "start_time": "2023-10-09T16:46:38.297Z"
   },
   {
    "duration": 0,
    "start_time": "2023-10-09T16:46:38.298Z"
   },
   {
    "duration": 0,
    "start_time": "2023-10-09T16:46:38.298Z"
   },
   {
    "duration": 0,
    "start_time": "2023-10-09T16:46:38.299Z"
   },
   {
    "duration": 0,
    "start_time": "2023-10-09T16:46:38.300Z"
   },
   {
    "duration": 0,
    "start_time": "2023-10-09T16:46:38.301Z"
   },
   {
    "duration": 0,
    "start_time": "2023-10-09T16:46:38.302Z"
   },
   {
    "duration": 0,
    "start_time": "2023-10-09T16:46:38.303Z"
   },
   {
    "duration": 0,
    "start_time": "2023-10-09T16:46:38.305Z"
   },
   {
    "duration": 0,
    "start_time": "2023-10-09T16:46:38.306Z"
   },
   {
    "duration": 0,
    "start_time": "2023-10-09T16:46:38.307Z"
   },
   {
    "duration": 0,
    "start_time": "2023-10-09T16:46:38.308Z"
   },
   {
    "duration": 0,
    "start_time": "2023-10-09T16:46:38.309Z"
   },
   {
    "duration": 0,
    "start_time": "2023-10-09T16:46:38.310Z"
   },
   {
    "duration": 0,
    "start_time": "2023-10-09T16:46:38.311Z"
   },
   {
    "duration": 0,
    "start_time": "2023-10-09T16:46:38.312Z"
   },
   {
    "duration": 0,
    "start_time": "2023-10-09T16:46:38.313Z"
   },
   {
    "duration": 0,
    "start_time": "2023-10-09T16:46:38.314Z"
   },
   {
    "duration": 0,
    "start_time": "2023-10-09T16:46:38.315Z"
   },
   {
    "duration": 0,
    "start_time": "2023-10-09T16:46:38.316Z"
   },
   {
    "duration": 0,
    "start_time": "2023-10-09T16:46:38.317Z"
   },
   {
    "duration": 0,
    "start_time": "2023-10-09T16:46:38.318Z"
   },
   {
    "duration": 0,
    "start_time": "2023-10-09T16:46:38.319Z"
   },
   {
    "duration": 0,
    "start_time": "2023-10-09T16:46:38.344Z"
   },
   {
    "duration": 0,
    "start_time": "2023-10-09T16:46:38.345Z"
   },
   {
    "duration": 0,
    "start_time": "2023-10-09T16:46:38.346Z"
   },
   {
    "duration": 0,
    "start_time": "2023-10-09T16:46:38.347Z"
   },
   {
    "duration": 0,
    "start_time": "2023-10-09T16:46:38.348Z"
   },
   {
    "duration": 0,
    "start_time": "2023-10-09T16:46:38.349Z"
   },
   {
    "duration": 0,
    "start_time": "2023-10-09T16:46:38.351Z"
   },
   {
    "duration": 0,
    "start_time": "2023-10-09T16:46:38.352Z"
   },
   {
    "duration": 1,
    "start_time": "2023-10-09T16:46:38.353Z"
   },
   {
    "duration": 0,
    "start_time": "2023-10-09T16:46:38.355Z"
   },
   {
    "duration": 0,
    "start_time": "2023-10-09T16:46:38.356Z"
   },
   {
    "duration": 0,
    "start_time": "2023-10-09T16:46:38.357Z"
   },
   {
    "duration": 0,
    "start_time": "2023-10-09T16:46:38.357Z"
   },
   {
    "duration": 0,
    "start_time": "2023-10-09T16:46:38.358Z"
   },
   {
    "duration": 0,
    "start_time": "2023-10-09T16:46:38.359Z"
   },
   {
    "duration": 0,
    "start_time": "2023-10-09T16:46:38.360Z"
   },
   {
    "duration": 0,
    "start_time": "2023-10-09T16:46:38.361Z"
   },
   {
    "duration": 0,
    "start_time": "2023-10-09T16:46:38.362Z"
   },
   {
    "duration": 0,
    "start_time": "2023-10-09T16:46:38.364Z"
   },
   {
    "duration": 0,
    "start_time": "2023-10-09T16:46:38.365Z"
   },
   {
    "duration": 0,
    "start_time": "2023-10-09T16:46:38.366Z"
   },
   {
    "duration": 0,
    "start_time": "2023-10-09T16:46:38.367Z"
   },
   {
    "duration": 0,
    "start_time": "2023-10-09T16:46:38.367Z"
   },
   {
    "duration": 0,
    "start_time": "2023-10-09T16:46:38.369Z"
   },
   {
    "duration": 0,
    "start_time": "2023-10-09T16:46:38.370Z"
   },
   {
    "duration": 0,
    "start_time": "2023-10-09T16:46:38.371Z"
   },
   {
    "duration": 0,
    "start_time": "2023-10-09T16:46:38.372Z"
   },
   {
    "duration": 0,
    "start_time": "2023-10-09T16:46:38.372Z"
   },
   {
    "duration": 0,
    "start_time": "2023-10-09T16:46:38.373Z"
   },
   {
    "duration": 0,
    "start_time": "2023-10-09T16:46:38.374Z"
   },
   {
    "duration": 0,
    "start_time": "2023-10-09T16:46:38.375Z"
   },
   {
    "duration": 0,
    "start_time": "2023-10-09T16:46:38.376Z"
   },
   {
    "duration": 0,
    "start_time": "2023-10-09T16:46:38.377Z"
   },
   {
    "duration": 0,
    "start_time": "2023-10-09T16:46:38.378Z"
   },
   {
    "duration": 0,
    "start_time": "2023-10-09T16:46:38.379Z"
   },
   {
    "duration": 0,
    "start_time": "2023-10-09T16:46:38.444Z"
   },
   {
    "duration": 0,
    "start_time": "2023-10-09T16:46:38.445Z"
   },
   {
    "duration": 0,
    "start_time": "2023-10-09T16:46:38.447Z"
   },
   {
    "duration": 0,
    "start_time": "2023-10-09T16:46:38.449Z"
   },
   {
    "duration": 0,
    "start_time": "2023-10-09T16:46:38.450Z"
   },
   {
    "duration": 0,
    "start_time": "2023-10-09T16:46:38.451Z"
   },
   {
    "duration": 0,
    "start_time": "2023-10-09T16:46:38.452Z"
   },
   {
    "duration": 0,
    "start_time": "2023-10-09T16:46:38.453Z"
   },
   {
    "duration": 0,
    "start_time": "2023-10-09T16:46:38.454Z"
   },
   {
    "duration": 0,
    "start_time": "2023-10-09T16:46:38.456Z"
   },
   {
    "duration": 0,
    "start_time": "2023-10-09T16:46:38.457Z"
   },
   {
    "duration": 0,
    "start_time": "2023-10-09T16:46:38.458Z"
   },
   {
    "duration": 0,
    "start_time": "2023-10-09T16:46:38.459Z"
   },
   {
    "duration": 0,
    "start_time": "2023-10-09T16:46:38.460Z"
   },
   {
    "duration": 0,
    "start_time": "2023-10-09T16:46:38.461Z"
   },
   {
    "duration": 0,
    "start_time": "2023-10-09T16:46:38.463Z"
   },
   {
    "duration": 0,
    "start_time": "2023-10-09T16:46:38.465Z"
   },
   {
    "duration": 0,
    "start_time": "2023-10-09T16:46:38.466Z"
   },
   {
    "duration": 0,
    "start_time": "2023-10-09T16:46:38.468Z"
   },
   {
    "duration": 0,
    "start_time": "2023-10-09T16:46:38.469Z"
   },
   {
    "duration": 0,
    "start_time": "2023-10-09T16:46:38.470Z"
   },
   {
    "duration": 1095,
    "start_time": "2023-10-09T16:47:24.786Z"
   },
   {
    "duration": 30,
    "start_time": "2023-10-09T16:47:25.883Z"
   },
   {
    "duration": 12,
    "start_time": "2023-10-09T16:47:25.914Z"
   },
   {
    "duration": 21,
    "start_time": "2023-10-09T16:47:25.928Z"
   },
   {
    "duration": 191,
    "start_time": "2023-10-09T16:47:25.951Z"
   },
   {
    "duration": 5,
    "start_time": "2023-10-09T16:47:26.144Z"
   },
   {
    "duration": 166,
    "start_time": "2023-10-09T16:47:26.151Z"
   },
   {
    "duration": 34,
    "start_time": "2023-10-09T16:47:26.318Z"
   },
   {
    "duration": 99,
    "start_time": "2023-10-09T16:47:26.354Z"
   },
   {
    "duration": 26,
    "start_time": "2023-10-09T16:47:26.455Z"
   },
   {
    "duration": 10,
    "start_time": "2023-10-09T16:47:26.483Z"
   },
   {
    "duration": 39,
    "start_time": "2023-10-09T16:47:26.494Z"
   },
   {
    "duration": 5,
    "start_time": "2023-10-09T16:47:26.535Z"
   },
   {
    "duration": 25,
    "start_time": "2023-10-09T16:47:26.543Z"
   },
   {
    "duration": 15,
    "start_time": "2023-10-09T16:47:26.570Z"
   },
   {
    "duration": 63,
    "start_time": "2023-10-09T16:47:26.587Z"
   },
   {
    "duration": 21,
    "start_time": "2023-10-09T16:47:26.652Z"
   },
   {
    "duration": 11,
    "start_time": "2023-10-09T16:47:26.675Z"
   },
   {
    "duration": 10,
    "start_time": "2023-10-09T16:47:26.688Z"
   },
   {
    "duration": 12,
    "start_time": "2023-10-09T16:47:26.700Z"
   },
   {
    "duration": 8,
    "start_time": "2023-10-09T16:47:26.714Z"
   },
   {
    "duration": 18,
    "start_time": "2023-10-09T16:47:26.723Z"
   },
   {
    "duration": 19,
    "start_time": "2023-10-09T16:47:26.743Z"
   },
   {
    "duration": 12,
    "start_time": "2023-10-09T16:47:26.763Z"
   },
   {
    "duration": 8,
    "start_time": "2023-10-09T16:47:26.777Z"
   },
   {
    "duration": 9,
    "start_time": "2023-10-09T16:47:26.787Z"
   },
   {
    "duration": 9,
    "start_time": "2023-10-09T16:47:26.798Z"
   },
   {
    "duration": 22,
    "start_time": "2023-10-09T16:47:26.808Z"
   },
   {
    "duration": 24,
    "start_time": "2023-10-09T16:47:26.832Z"
   },
   {
    "duration": 15,
    "start_time": "2023-10-09T16:47:26.858Z"
   },
   {
    "duration": 7,
    "start_time": "2023-10-09T16:47:26.875Z"
   },
   {
    "duration": 6,
    "start_time": "2023-10-09T16:47:26.883Z"
   },
   {
    "duration": 25,
    "start_time": "2023-10-09T16:47:26.891Z"
   },
   {
    "duration": 99,
    "start_time": "2023-10-09T16:47:26.917Z"
   },
   {
    "duration": 0,
    "start_time": "2023-10-09T16:47:27.020Z"
   },
   {
    "duration": 0,
    "start_time": "2023-10-09T16:47:27.021Z"
   },
   {
    "duration": 0,
    "start_time": "2023-10-09T16:47:27.022Z"
   },
   {
    "duration": 0,
    "start_time": "2023-10-09T16:47:27.023Z"
   },
   {
    "duration": 0,
    "start_time": "2023-10-09T16:47:27.024Z"
   },
   {
    "duration": 0,
    "start_time": "2023-10-09T16:47:27.025Z"
   },
   {
    "duration": 0,
    "start_time": "2023-10-09T16:47:27.026Z"
   },
   {
    "duration": 0,
    "start_time": "2023-10-09T16:47:27.027Z"
   },
   {
    "duration": 0,
    "start_time": "2023-10-09T16:47:27.028Z"
   },
   {
    "duration": 0,
    "start_time": "2023-10-09T16:47:27.029Z"
   },
   {
    "duration": 0,
    "start_time": "2023-10-09T16:47:27.031Z"
   },
   {
    "duration": 0,
    "start_time": "2023-10-09T16:47:27.032Z"
   },
   {
    "duration": 0,
    "start_time": "2023-10-09T16:47:27.034Z"
   },
   {
    "duration": 0,
    "start_time": "2023-10-09T16:47:27.035Z"
   },
   {
    "duration": 0,
    "start_time": "2023-10-09T16:47:27.036Z"
   },
   {
    "duration": 0,
    "start_time": "2023-10-09T16:47:27.038Z"
   },
   {
    "duration": 0,
    "start_time": "2023-10-09T16:47:27.040Z"
   },
   {
    "duration": 0,
    "start_time": "2023-10-09T16:47:27.041Z"
   },
   {
    "duration": 0,
    "start_time": "2023-10-09T16:47:27.042Z"
   },
   {
    "duration": 0,
    "start_time": "2023-10-09T16:47:27.043Z"
   },
   {
    "duration": 0,
    "start_time": "2023-10-09T16:47:27.044Z"
   },
   {
    "duration": 0,
    "start_time": "2023-10-09T16:47:27.045Z"
   },
   {
    "duration": 0,
    "start_time": "2023-10-09T16:47:27.046Z"
   },
   {
    "duration": 0,
    "start_time": "2023-10-09T16:47:27.047Z"
   },
   {
    "duration": 0,
    "start_time": "2023-10-09T16:47:27.048Z"
   },
   {
    "duration": 0,
    "start_time": "2023-10-09T16:47:27.048Z"
   },
   {
    "duration": 0,
    "start_time": "2023-10-09T16:47:27.049Z"
   },
   {
    "duration": 0,
    "start_time": "2023-10-09T16:47:27.050Z"
   },
   {
    "duration": 0,
    "start_time": "2023-10-09T16:47:27.051Z"
   },
   {
    "duration": 0,
    "start_time": "2023-10-09T16:47:27.052Z"
   },
   {
    "duration": 0,
    "start_time": "2023-10-09T16:47:27.053Z"
   },
   {
    "duration": 0,
    "start_time": "2023-10-09T16:47:27.054Z"
   },
   {
    "duration": 0,
    "start_time": "2023-10-09T16:47:27.055Z"
   },
   {
    "duration": 0,
    "start_time": "2023-10-09T16:47:27.056Z"
   },
   {
    "duration": 0,
    "start_time": "2023-10-09T16:47:27.056Z"
   },
   {
    "duration": 0,
    "start_time": "2023-10-09T16:47:27.057Z"
   },
   {
    "duration": 0,
    "start_time": "2023-10-09T16:47:27.058Z"
   },
   {
    "duration": 0,
    "start_time": "2023-10-09T16:47:27.059Z"
   },
   {
    "duration": 0,
    "start_time": "2023-10-09T16:47:27.060Z"
   },
   {
    "duration": 0,
    "start_time": "2023-10-09T16:47:27.061Z"
   },
   {
    "duration": 0,
    "start_time": "2023-10-09T16:47:27.062Z"
   },
   {
    "duration": 0,
    "start_time": "2023-10-09T16:47:27.063Z"
   },
   {
    "duration": 0,
    "start_time": "2023-10-09T16:47:27.064Z"
   },
   {
    "duration": 0,
    "start_time": "2023-10-09T16:47:27.065Z"
   },
   {
    "duration": 0,
    "start_time": "2023-10-09T16:47:27.066Z"
   },
   {
    "duration": 0,
    "start_time": "2023-10-09T16:47:27.066Z"
   },
   {
    "duration": 0,
    "start_time": "2023-10-09T16:47:27.067Z"
   },
   {
    "duration": 0,
    "start_time": "2023-10-09T16:47:27.068Z"
   },
   {
    "duration": 0,
    "start_time": "2023-10-09T16:47:27.069Z"
   },
   {
    "duration": 0,
    "start_time": "2023-10-09T16:47:27.069Z"
   },
   {
    "duration": 0,
    "start_time": "2023-10-09T16:47:27.070Z"
   },
   {
    "duration": 0,
    "start_time": "2023-10-09T16:47:27.071Z"
   },
   {
    "duration": 0,
    "start_time": "2023-10-09T16:47:27.071Z"
   },
   {
    "duration": 0,
    "start_time": "2023-10-09T16:47:27.072Z"
   },
   {
    "duration": 0,
    "start_time": "2023-10-09T16:47:27.073Z"
   },
   {
    "duration": 0,
    "start_time": "2023-10-09T16:47:27.074Z"
   },
   {
    "duration": 0,
    "start_time": "2023-10-09T16:47:27.075Z"
   },
   {
    "duration": 0,
    "start_time": "2023-10-09T16:47:27.076Z"
   },
   {
    "duration": 0,
    "start_time": "2023-10-09T16:47:27.077Z"
   },
   {
    "duration": 0,
    "start_time": "2023-10-09T16:47:27.077Z"
   },
   {
    "duration": 0,
    "start_time": "2023-10-09T16:47:27.078Z"
   },
   {
    "duration": 0,
    "start_time": "2023-10-09T16:47:27.079Z"
   },
   {
    "duration": 0,
    "start_time": "2023-10-09T16:47:27.080Z"
   },
   {
    "duration": 0,
    "start_time": "2023-10-09T16:47:27.081Z"
   },
   {
    "duration": 0,
    "start_time": "2023-10-09T16:47:27.082Z"
   },
   {
    "duration": 0,
    "start_time": "2023-10-09T16:47:27.082Z"
   },
   {
    "duration": 0,
    "start_time": "2023-10-09T16:47:27.083Z"
   },
   {
    "duration": 0,
    "start_time": "2023-10-09T16:47:27.144Z"
   },
   {
    "duration": 0,
    "start_time": "2023-10-09T16:47:27.146Z"
   },
   {
    "duration": 0,
    "start_time": "2023-10-09T16:47:27.146Z"
   },
   {
    "duration": 0,
    "start_time": "2023-10-09T16:47:27.147Z"
   },
   {
    "duration": 0,
    "start_time": "2023-10-09T16:47:27.148Z"
   },
   {
    "duration": 0,
    "start_time": "2023-10-09T16:47:27.149Z"
   },
   {
    "duration": 0,
    "start_time": "2023-10-09T16:47:27.151Z"
   },
   {
    "duration": 0,
    "start_time": "2023-10-09T16:47:27.152Z"
   },
   {
    "duration": 0,
    "start_time": "2023-10-09T16:47:27.153Z"
   },
   {
    "duration": 0,
    "start_time": "2023-10-09T16:47:27.155Z"
   },
   {
    "duration": 0,
    "start_time": "2023-10-09T16:47:27.155Z"
   },
   {
    "duration": 0,
    "start_time": "2023-10-09T16:47:27.156Z"
   },
   {
    "duration": 0,
    "start_time": "2023-10-09T16:47:27.157Z"
   },
   {
    "duration": 0,
    "start_time": "2023-10-09T16:47:27.158Z"
   },
   {
    "duration": 0,
    "start_time": "2023-10-09T16:47:27.159Z"
   },
   {
    "duration": 0,
    "start_time": "2023-10-09T16:47:27.160Z"
   },
   {
    "duration": 0,
    "start_time": "2023-10-09T16:47:27.160Z"
   },
   {
    "duration": 0,
    "start_time": "2023-10-09T16:47:27.161Z"
   },
   {
    "duration": 0,
    "start_time": "2023-10-09T16:47:27.162Z"
   },
   {
    "duration": 1153,
    "start_time": "2023-10-09T16:47:47.947Z"
   },
   {
    "duration": 30,
    "start_time": "2023-10-09T16:47:49.102Z"
   },
   {
    "duration": 16,
    "start_time": "2023-10-09T16:47:49.134Z"
   },
   {
    "duration": 35,
    "start_time": "2023-10-09T16:47:49.153Z"
   },
   {
    "duration": 217,
    "start_time": "2023-10-09T16:47:49.190Z"
   },
   {
    "duration": 6,
    "start_time": "2023-10-09T16:47:49.409Z"
   },
   {
    "duration": 178,
    "start_time": "2023-10-09T16:47:49.417Z"
   },
   {
    "duration": 6,
    "start_time": "2023-10-09T16:47:49.597Z"
   },
   {
    "duration": 133,
    "start_time": "2023-10-09T16:47:49.604Z"
   },
   {
    "duration": 27,
    "start_time": "2023-10-09T16:47:49.744Z"
   },
   {
    "duration": 12,
    "start_time": "2023-10-09T16:47:49.773Z"
   },
   {
    "duration": 18,
    "start_time": "2023-10-09T16:47:49.786Z"
   },
   {
    "duration": 22,
    "start_time": "2023-10-09T16:47:49.805Z"
   },
   {
    "duration": 13,
    "start_time": "2023-10-09T16:47:49.829Z"
   },
   {
    "duration": 28,
    "start_time": "2023-10-09T16:47:49.844Z"
   },
   {
    "duration": 11,
    "start_time": "2023-10-09T16:47:49.873Z"
   },
   {
    "duration": 30,
    "start_time": "2023-10-09T16:47:49.886Z"
   },
   {
    "duration": 3,
    "start_time": "2023-10-09T16:47:49.918Z"
   },
   {
    "duration": 13,
    "start_time": "2023-10-09T16:47:49.923Z"
   },
   {
    "duration": 8,
    "start_time": "2023-10-09T16:47:49.937Z"
   },
   {
    "duration": 13,
    "start_time": "2023-10-09T16:47:49.947Z"
   },
   {
    "duration": 9,
    "start_time": "2023-10-09T16:47:49.962Z"
   },
   {
    "duration": 16,
    "start_time": "2023-10-09T16:47:49.972Z"
   },
   {
    "duration": 57,
    "start_time": "2023-10-09T16:47:49.990Z"
   },
   {
    "duration": 25,
    "start_time": "2023-10-09T16:47:50.049Z"
   },
   {
    "duration": 31,
    "start_time": "2023-10-09T16:47:50.076Z"
   },
   {
    "duration": 34,
    "start_time": "2023-10-09T16:47:50.109Z"
   },
   {
    "duration": 22,
    "start_time": "2023-10-09T16:47:50.148Z"
   },
   {
    "duration": 62,
    "start_time": "2023-10-09T16:47:50.172Z"
   },
   {
    "duration": 31,
    "start_time": "2023-10-09T16:47:50.235Z"
   },
   {
    "duration": 37,
    "start_time": "2023-10-09T16:47:50.267Z"
   },
   {
    "duration": 28,
    "start_time": "2023-10-09T16:47:50.306Z"
   },
   {
    "duration": 45,
    "start_time": "2023-10-09T16:47:50.336Z"
   },
   {
    "duration": 13,
    "start_time": "2023-10-09T16:47:50.382Z"
   },
   {
    "duration": 29,
    "start_time": "2023-10-09T16:47:50.397Z"
   },
   {
    "duration": 23,
    "start_time": "2023-10-09T16:47:50.428Z"
   },
   {
    "duration": 31,
    "start_time": "2023-10-09T16:47:50.452Z"
   },
   {
    "duration": 9,
    "start_time": "2023-10-09T16:47:50.484Z"
   },
   {
    "duration": 25,
    "start_time": "2023-10-09T16:47:50.494Z"
   },
   {
    "duration": 27,
    "start_time": "2023-10-09T16:47:50.521Z"
   },
   {
    "duration": 81,
    "start_time": "2023-10-09T16:47:50.550Z"
   },
   {
    "duration": 20,
    "start_time": "2023-10-09T16:47:50.633Z"
   },
   {
    "duration": 186,
    "start_time": "2023-10-09T16:47:50.655Z"
   },
   {
    "duration": 167,
    "start_time": "2023-10-09T16:47:50.844Z"
   },
   {
    "duration": 5,
    "start_time": "2023-10-09T16:47:51.013Z"
   },
   {
    "duration": 116,
    "start_time": "2023-10-09T16:47:51.020Z"
   },
   {
    "duration": 133,
    "start_time": "2023-10-09T16:47:51.143Z"
   },
   {
    "duration": 6,
    "start_time": "2023-10-09T16:47:51.277Z"
   },
   {
    "duration": 195,
    "start_time": "2023-10-09T16:47:51.284Z"
   },
   {
    "duration": 429,
    "start_time": "2023-10-09T16:47:51.481Z"
   },
   {
    "duration": 79,
    "start_time": "2023-10-09T16:47:51.912Z"
   },
   {
    "duration": 0,
    "start_time": "2023-10-09T16:47:51.994Z"
   },
   {
    "duration": 0,
    "start_time": "2023-10-09T16:47:52.064Z"
   },
   {
    "duration": 0,
    "start_time": "2023-10-09T16:47:52.066Z"
   },
   {
    "duration": 0,
    "start_time": "2023-10-09T16:47:52.067Z"
   },
   {
    "duration": 0,
    "start_time": "2023-10-09T16:47:52.068Z"
   },
   {
    "duration": 0,
    "start_time": "2023-10-09T16:47:52.070Z"
   },
   {
    "duration": 0,
    "start_time": "2023-10-09T16:47:52.071Z"
   },
   {
    "duration": 0,
    "start_time": "2023-10-09T16:47:52.072Z"
   },
   {
    "duration": 0,
    "start_time": "2023-10-09T16:47:52.073Z"
   },
   {
    "duration": 0,
    "start_time": "2023-10-09T16:47:52.074Z"
   },
   {
    "duration": 0,
    "start_time": "2023-10-09T16:47:52.075Z"
   },
   {
    "duration": 0,
    "start_time": "2023-10-09T16:47:52.076Z"
   },
   {
    "duration": 0,
    "start_time": "2023-10-09T16:47:52.077Z"
   },
   {
    "duration": 0,
    "start_time": "2023-10-09T16:47:52.078Z"
   },
   {
    "duration": 0,
    "start_time": "2023-10-09T16:47:52.079Z"
   },
   {
    "duration": 0,
    "start_time": "2023-10-09T16:47:52.080Z"
   },
   {
    "duration": 0,
    "start_time": "2023-10-09T16:47:52.080Z"
   },
   {
    "duration": 0,
    "start_time": "2023-10-09T16:47:52.081Z"
   },
   {
    "duration": 0,
    "start_time": "2023-10-09T16:47:52.082Z"
   },
   {
    "duration": 0,
    "start_time": "2023-10-09T16:47:52.083Z"
   },
   {
    "duration": 0,
    "start_time": "2023-10-09T16:47:52.084Z"
   },
   {
    "duration": 0,
    "start_time": "2023-10-09T16:47:52.085Z"
   },
   {
    "duration": 0,
    "start_time": "2023-10-09T16:47:52.086Z"
   },
   {
    "duration": 0,
    "start_time": "2023-10-09T16:47:52.088Z"
   },
   {
    "duration": 0,
    "start_time": "2023-10-09T16:47:52.089Z"
   },
   {
    "duration": 1,
    "start_time": "2023-10-09T16:47:52.089Z"
   },
   {
    "duration": 0,
    "start_time": "2023-10-09T16:47:52.091Z"
   },
   {
    "duration": 0,
    "start_time": "2023-10-09T16:47:52.092Z"
   },
   {
    "duration": 0,
    "start_time": "2023-10-09T16:47:52.093Z"
   },
   {
    "duration": 0,
    "start_time": "2023-10-09T16:47:52.094Z"
   },
   {
    "duration": 0,
    "start_time": "2023-10-09T16:47:52.144Z"
   },
   {
    "duration": 0,
    "start_time": "2023-10-09T16:47:52.146Z"
   },
   {
    "duration": 0,
    "start_time": "2023-10-09T16:47:52.148Z"
   },
   {
    "duration": 0,
    "start_time": "2023-10-09T16:47:52.149Z"
   },
   {
    "duration": 0,
    "start_time": "2023-10-09T16:47:52.150Z"
   },
   {
    "duration": 0,
    "start_time": "2023-10-09T16:47:52.152Z"
   },
   {
    "duration": 0,
    "start_time": "2023-10-09T16:47:52.153Z"
   },
   {
    "duration": 0,
    "start_time": "2023-10-09T16:47:52.154Z"
   },
   {
    "duration": 0,
    "start_time": "2023-10-09T16:47:52.156Z"
   },
   {
    "duration": 0,
    "start_time": "2023-10-09T16:47:52.157Z"
   },
   {
    "duration": 0,
    "start_time": "2023-10-09T16:47:52.158Z"
   },
   {
    "duration": 0,
    "start_time": "2023-10-09T16:47:52.159Z"
   },
   {
    "duration": 0,
    "start_time": "2023-10-09T16:47:52.160Z"
   },
   {
    "duration": 0,
    "start_time": "2023-10-09T16:47:52.161Z"
   },
   {
    "duration": 0,
    "start_time": "2023-10-09T16:47:52.162Z"
   },
   {
    "duration": 0,
    "start_time": "2023-10-09T16:47:52.162Z"
   },
   {
    "duration": 0,
    "start_time": "2023-10-09T16:47:52.163Z"
   },
   {
    "duration": 0,
    "start_time": "2023-10-09T16:47:52.164Z"
   },
   {
    "duration": 0,
    "start_time": "2023-10-09T16:47:52.165Z"
   },
   {
    "duration": 0,
    "start_time": "2023-10-09T16:47:52.166Z"
   },
   {
    "duration": 0,
    "start_time": "2023-10-09T16:47:52.167Z"
   },
   {
    "duration": 0,
    "start_time": "2023-10-09T16:47:52.169Z"
   },
   {
    "duration": 0,
    "start_time": "2023-10-09T16:47:52.170Z"
   },
   {
    "duration": 0,
    "start_time": "2023-10-09T16:47:52.171Z"
   },
   {
    "duration": 0,
    "start_time": "2023-10-09T16:47:52.172Z"
   },
   {
    "duration": 0,
    "start_time": "2023-10-09T16:47:52.173Z"
   },
   {
    "duration": 0,
    "start_time": "2023-10-09T16:47:52.174Z"
   },
   {
    "duration": 0,
    "start_time": "2023-10-09T16:47:52.175Z"
   },
   {
    "duration": 0,
    "start_time": "2023-10-09T16:47:52.176Z"
   },
   {
    "duration": 0,
    "start_time": "2023-10-09T16:47:52.177Z"
   },
   {
    "duration": 0,
    "start_time": "2023-10-09T16:47:52.178Z"
   },
   {
    "duration": 0,
    "start_time": "2023-10-09T16:47:52.179Z"
   },
   {
    "duration": 0,
    "start_time": "2023-10-09T16:47:52.181Z"
   },
   {
    "duration": 0,
    "start_time": "2023-10-09T16:47:52.182Z"
   },
   {
    "duration": 0,
    "start_time": "2023-10-09T16:47:52.245Z"
   },
   {
    "duration": 0,
    "start_time": "2023-10-09T16:47:52.247Z"
   },
   {
    "duration": 0,
    "start_time": "2023-10-09T16:47:52.248Z"
   },
   {
    "duration": 0,
    "start_time": "2023-10-09T16:47:52.249Z"
   },
   {
    "duration": 1112,
    "start_time": "2023-10-09T16:49:12.685Z"
   },
   {
    "duration": 29,
    "start_time": "2023-10-09T16:49:13.799Z"
   },
   {
    "duration": 12,
    "start_time": "2023-10-09T16:49:13.830Z"
   },
   {
    "duration": 11,
    "start_time": "2023-10-09T16:49:13.844Z"
   },
   {
    "duration": 214,
    "start_time": "2023-10-09T16:49:13.857Z"
   },
   {
    "duration": 6,
    "start_time": "2023-10-09T16:49:14.072Z"
   },
   {
    "duration": 237,
    "start_time": "2023-10-09T16:49:14.079Z"
   },
   {
    "duration": 6,
    "start_time": "2023-10-09T16:49:14.319Z"
   },
   {
    "duration": 127,
    "start_time": "2023-10-09T16:49:14.327Z"
   },
   {
    "duration": 28,
    "start_time": "2023-10-09T16:49:14.456Z"
   },
   {
    "duration": 11,
    "start_time": "2023-10-09T16:49:14.485Z"
   },
   {
    "duration": 28,
    "start_time": "2023-10-09T16:49:14.497Z"
   },
   {
    "duration": 10,
    "start_time": "2023-10-09T16:49:14.526Z"
   },
   {
    "duration": 10,
    "start_time": "2023-10-09T16:49:14.539Z"
   },
   {
    "duration": 15,
    "start_time": "2023-10-09T16:49:14.551Z"
   },
   {
    "duration": 10,
    "start_time": "2023-10-09T16:49:14.568Z"
   },
   {
    "duration": 21,
    "start_time": "2023-10-09T16:49:14.579Z"
   },
   {
    "duration": 4,
    "start_time": "2023-10-09T16:49:14.602Z"
   },
   {
    "duration": 7,
    "start_time": "2023-10-09T16:49:14.608Z"
   },
   {
    "duration": 7,
    "start_time": "2023-10-09T16:49:14.616Z"
   },
   {
    "duration": 15,
    "start_time": "2023-10-09T16:49:14.624Z"
   },
   {
    "duration": 12,
    "start_time": "2023-10-09T16:49:14.645Z"
   },
   {
    "duration": 21,
    "start_time": "2023-10-09T16:49:14.659Z"
   },
   {
    "duration": 14,
    "start_time": "2023-10-09T16:49:14.682Z"
   },
   {
    "duration": 21,
    "start_time": "2023-10-09T16:49:14.697Z"
   },
   {
    "duration": 13,
    "start_time": "2023-10-09T16:49:14.719Z"
   },
   {
    "duration": 10,
    "start_time": "2023-10-09T16:49:14.734Z"
   },
   {
    "duration": 10,
    "start_time": "2023-10-09T16:49:14.745Z"
   },
   {
    "duration": 22,
    "start_time": "2023-10-09T16:49:14.756Z"
   },
   {
    "duration": 20,
    "start_time": "2023-10-09T16:49:14.780Z"
   },
   {
    "duration": 33,
    "start_time": "2023-10-09T16:49:14.801Z"
   },
   {
    "duration": 36,
    "start_time": "2023-10-09T16:49:14.836Z"
   },
   {
    "duration": 20,
    "start_time": "2023-10-09T16:49:14.874Z"
   },
   {
    "duration": 39,
    "start_time": "2023-10-09T16:49:14.895Z"
   },
   {
    "duration": 15,
    "start_time": "2023-10-09T16:49:14.936Z"
   },
   {
    "duration": 7,
    "start_time": "2023-10-09T16:49:14.952Z"
   },
   {
    "duration": 22,
    "start_time": "2023-10-09T16:49:14.961Z"
   },
   {
    "duration": 12,
    "start_time": "2023-10-09T16:49:14.984Z"
   },
   {
    "duration": 51,
    "start_time": "2023-10-09T16:49:14.997Z"
   },
   {
    "duration": 45,
    "start_time": "2023-10-09T16:49:15.050Z"
   },
   {
    "duration": 28,
    "start_time": "2023-10-09T16:49:15.100Z"
   },
   {
    "duration": 17,
    "start_time": "2023-10-09T16:49:15.130Z"
   },
   {
    "duration": 197,
    "start_time": "2023-10-09T16:49:15.149Z"
   },
   {
    "duration": 162,
    "start_time": "2023-10-09T16:49:15.349Z"
   },
   {
    "duration": 5,
    "start_time": "2023-10-09T16:49:15.512Z"
   },
   {
    "duration": 119,
    "start_time": "2023-10-09T16:49:15.519Z"
   },
   {
    "duration": 176,
    "start_time": "2023-10-09T16:49:15.644Z"
   },
   {
    "duration": 5,
    "start_time": "2023-10-09T16:49:15.822Z"
   },
   {
    "duration": 158,
    "start_time": "2023-10-09T16:49:15.829Z"
   },
   {
    "duration": 451,
    "start_time": "2023-10-09T16:49:15.989Z"
   },
   {
    "duration": 6,
    "start_time": "2023-10-09T16:49:16.444Z"
   },
   {
    "duration": 8,
    "start_time": "2023-10-09T16:49:16.451Z"
   },
   {
    "duration": 7,
    "start_time": "2023-10-09T16:49:16.461Z"
   },
   {
    "duration": 7,
    "start_time": "2023-10-09T16:49:16.470Z"
   },
   {
    "duration": 6,
    "start_time": "2023-10-09T16:49:16.478Z"
   },
   {
    "duration": 17,
    "start_time": "2023-10-09T16:49:16.485Z"
   },
   {
    "duration": 9,
    "start_time": "2023-10-09T16:49:16.503Z"
   },
   {
    "duration": 7,
    "start_time": "2023-10-09T16:49:16.513Z"
   },
   {
    "duration": 236,
    "start_time": "2023-10-09T16:49:16.521Z"
   },
   {
    "duration": 6,
    "start_time": "2023-10-09T16:49:16.759Z"
   },
   {
    "duration": 11,
    "start_time": "2023-10-09T16:49:16.767Z"
   },
   {
    "duration": 4,
    "start_time": "2023-10-09T16:49:16.779Z"
   },
   {
    "duration": 6,
    "start_time": "2023-10-09T16:49:16.785Z"
   },
   {
    "duration": 15,
    "start_time": "2023-10-09T16:49:16.792Z"
   },
   {
    "duration": 5,
    "start_time": "2023-10-09T16:49:16.809Z"
   },
   {
    "duration": 149,
    "start_time": "2023-10-09T16:49:16.815Z"
   },
   {
    "duration": 12,
    "start_time": "2023-10-09T16:49:16.965Z"
   },
   {
    "duration": 11,
    "start_time": "2023-10-09T16:49:16.979Z"
   },
   {
    "duration": 58,
    "start_time": "2023-10-09T16:49:16.992Z"
   },
   {
    "duration": 13,
    "start_time": "2023-10-09T16:49:17.053Z"
   },
   {
    "duration": 31,
    "start_time": "2023-10-09T16:49:17.068Z"
   },
   {
    "duration": 6,
    "start_time": "2023-10-09T16:49:17.100Z"
   },
   {
    "duration": 37,
    "start_time": "2023-10-09T16:49:17.108Z"
   },
   {
    "duration": 187,
    "start_time": "2023-10-09T16:49:17.147Z"
   },
   {
    "duration": 138,
    "start_time": "2023-10-09T16:49:17.336Z"
   },
   {
    "duration": 0,
    "start_time": "2023-10-09T16:49:17.476Z"
   },
   {
    "duration": 0,
    "start_time": "2023-10-09T16:49:17.477Z"
   },
   {
    "duration": 0,
    "start_time": "2023-10-09T16:49:17.478Z"
   },
   {
    "duration": 0,
    "start_time": "2023-10-09T16:49:17.479Z"
   },
   {
    "duration": 0,
    "start_time": "2023-10-09T16:49:17.480Z"
   },
   {
    "duration": 0,
    "start_time": "2023-10-09T16:49:17.481Z"
   },
   {
    "duration": 0,
    "start_time": "2023-10-09T16:49:17.482Z"
   },
   {
    "duration": 0,
    "start_time": "2023-10-09T16:49:17.483Z"
   },
   {
    "duration": 0,
    "start_time": "2023-10-09T16:49:17.484Z"
   },
   {
    "duration": 0,
    "start_time": "2023-10-09T16:49:17.485Z"
   },
   {
    "duration": 0,
    "start_time": "2023-10-09T16:49:17.486Z"
   },
   {
    "duration": 0,
    "start_time": "2023-10-09T16:49:17.489Z"
   },
   {
    "duration": 0,
    "start_time": "2023-10-09T16:49:17.490Z"
   },
   {
    "duration": 0,
    "start_time": "2023-10-09T16:49:17.491Z"
   },
   {
    "duration": 0,
    "start_time": "2023-10-09T16:49:17.493Z"
   },
   {
    "duration": 0,
    "start_time": "2023-10-09T16:49:17.494Z"
   },
   {
    "duration": 0,
    "start_time": "2023-10-09T16:49:17.496Z"
   },
   {
    "duration": 0,
    "start_time": "2023-10-09T16:49:17.497Z"
   },
   {
    "duration": 0,
    "start_time": "2023-10-09T16:49:17.499Z"
   },
   {
    "duration": 0,
    "start_time": "2023-10-09T16:49:17.500Z"
   },
   {
    "duration": 0,
    "start_time": "2023-10-09T16:49:17.501Z"
   },
   {
    "duration": 0,
    "start_time": "2023-10-09T16:49:17.502Z"
   },
   {
    "duration": 0,
    "start_time": "2023-10-09T16:49:17.503Z"
   },
   {
    "duration": 0,
    "start_time": "2023-10-09T16:49:17.504Z"
   },
   {
    "duration": 0,
    "start_time": "2023-10-09T16:49:17.505Z"
   },
   {
    "duration": 0,
    "start_time": "2023-10-09T16:49:17.506Z"
   },
   {
    "duration": 0,
    "start_time": "2023-10-09T16:49:17.508Z"
   },
   {
    "duration": 0,
    "start_time": "2023-10-09T16:49:17.509Z"
   },
   {
    "duration": 0,
    "start_time": "2023-10-09T16:49:17.510Z"
   },
   {
    "duration": 0,
    "start_time": "2023-10-09T16:49:17.511Z"
   },
   {
    "duration": 0,
    "start_time": "2023-10-09T16:49:17.512Z"
   },
   {
    "duration": 0,
    "start_time": "2023-10-09T16:49:17.544Z"
   },
   {
    "duration": 0,
    "start_time": "2023-10-09T16:49:17.546Z"
   },
   {
    "duration": 0,
    "start_time": "2023-10-09T16:49:17.546Z"
   },
   {
    "duration": 0,
    "start_time": "2023-10-09T16:49:17.548Z"
   },
   {
    "duration": 0,
    "start_time": "2023-10-09T16:49:17.549Z"
   },
   {
    "duration": 0,
    "start_time": "2023-10-09T16:49:17.549Z"
   },
   {
    "duration": 0,
    "start_time": "2023-10-09T16:49:17.550Z"
   },
   {
    "duration": 0,
    "start_time": "2023-10-09T16:49:17.552Z"
   },
   {
    "duration": 0,
    "start_time": "2023-10-09T16:49:17.553Z"
   },
   {
    "duration": 0,
    "start_time": "2023-10-09T16:49:17.554Z"
   },
   {
    "duration": 0,
    "start_time": "2023-10-09T16:49:17.555Z"
   },
   {
    "duration": 0,
    "start_time": "2023-10-09T16:49:17.556Z"
   },
   {
    "duration": 1323,
    "start_time": "2023-10-09T16:49:45.038Z"
   },
   {
    "duration": 30,
    "start_time": "2023-10-09T16:49:46.363Z"
   },
   {
    "duration": 12,
    "start_time": "2023-10-09T16:49:46.394Z"
   },
   {
    "duration": 41,
    "start_time": "2023-10-09T16:49:46.407Z"
   },
   {
    "duration": 237,
    "start_time": "2023-10-09T16:49:46.450Z"
   },
   {
    "duration": 6,
    "start_time": "2023-10-09T16:49:46.688Z"
   },
   {
    "duration": 171,
    "start_time": "2023-10-09T16:49:46.696Z"
   },
   {
    "duration": 6,
    "start_time": "2023-10-09T16:49:46.868Z"
   },
   {
    "duration": 139,
    "start_time": "2023-10-09T16:49:46.875Z"
   },
   {
    "duration": 28,
    "start_time": "2023-10-09T16:49:47.016Z"
   },
   {
    "duration": 11,
    "start_time": "2023-10-09T16:49:47.046Z"
   },
   {
    "duration": 26,
    "start_time": "2023-10-09T16:49:47.059Z"
   },
   {
    "duration": 23,
    "start_time": "2023-10-09T16:49:47.086Z"
   },
   {
    "duration": 28,
    "start_time": "2023-10-09T16:49:47.110Z"
   },
   {
    "duration": 35,
    "start_time": "2023-10-09T16:49:47.139Z"
   },
   {
    "duration": 18,
    "start_time": "2023-10-09T16:49:47.175Z"
   },
   {
    "duration": 33,
    "start_time": "2023-10-09T16:49:47.194Z"
   },
   {
    "duration": 19,
    "start_time": "2023-10-09T16:49:47.228Z"
   },
   {
    "duration": 33,
    "start_time": "2023-10-09T16:49:47.249Z"
   },
   {
    "duration": 33,
    "start_time": "2023-10-09T16:49:47.284Z"
   },
   {
    "duration": 49,
    "start_time": "2023-10-09T16:49:47.318Z"
   },
   {
    "duration": 24,
    "start_time": "2023-10-09T16:49:47.369Z"
   },
   {
    "duration": 27,
    "start_time": "2023-10-09T16:49:47.394Z"
   },
   {
    "duration": 11,
    "start_time": "2023-10-09T16:49:47.422Z"
   },
   {
    "duration": 20,
    "start_time": "2023-10-09T16:49:47.435Z"
   },
   {
    "duration": 25,
    "start_time": "2023-10-09T16:49:47.456Z"
   },
   {
    "duration": 23,
    "start_time": "2023-10-09T16:49:47.483Z"
   },
   {
    "duration": 29,
    "start_time": "2023-10-09T16:49:47.510Z"
   },
   {
    "duration": 35,
    "start_time": "2023-10-09T16:49:47.541Z"
   },
   {
    "duration": 39,
    "start_time": "2023-10-09T16:49:47.577Z"
   },
   {
    "duration": 13,
    "start_time": "2023-10-09T16:49:47.618Z"
   },
   {
    "duration": 51,
    "start_time": "2023-10-09T16:49:47.633Z"
   },
   {
    "duration": 33,
    "start_time": "2023-10-09T16:49:47.686Z"
   },
   {
    "duration": 4,
    "start_time": "2023-10-09T16:49:47.721Z"
   },
   {
    "duration": 10,
    "start_time": "2023-10-09T16:49:47.726Z"
   },
   {
    "duration": 6,
    "start_time": "2023-10-09T16:49:47.737Z"
   },
   {
    "duration": 8,
    "start_time": "2023-10-09T16:49:47.745Z"
   },
   {
    "duration": 5,
    "start_time": "2023-10-09T16:49:47.754Z"
   },
   {
    "duration": 6,
    "start_time": "2023-10-09T16:49:47.760Z"
   },
   {
    "duration": 5,
    "start_time": "2023-10-09T16:49:47.767Z"
   },
   {
    "duration": 12,
    "start_time": "2023-10-09T16:49:47.773Z"
   },
   {
    "duration": 30,
    "start_time": "2023-10-09T16:49:47.786Z"
   },
   {
    "duration": 151,
    "start_time": "2023-10-09T16:49:47.818Z"
   },
   {
    "duration": 158,
    "start_time": "2023-10-09T16:49:47.971Z"
   },
   {
    "duration": 5,
    "start_time": "2023-10-09T16:49:48.131Z"
   },
   {
    "duration": 107,
    "start_time": "2023-10-09T16:49:48.144Z"
   },
   {
    "duration": 140,
    "start_time": "2023-10-09T16:49:48.253Z"
   },
   {
    "duration": 5,
    "start_time": "2023-10-09T16:49:48.395Z"
   },
   {
    "duration": 155,
    "start_time": "2023-10-09T16:49:48.401Z"
   },
   {
    "duration": 428,
    "start_time": "2023-10-09T16:49:48.558Z"
   },
   {
    "duration": 6,
    "start_time": "2023-10-09T16:49:48.988Z"
   },
   {
    "duration": 11,
    "start_time": "2023-10-09T16:49:48.995Z"
   },
   {
    "duration": 8,
    "start_time": "2023-10-09T16:49:49.007Z"
   },
   {
    "duration": 7,
    "start_time": "2023-10-09T16:49:49.017Z"
   },
   {
    "duration": 37,
    "start_time": "2023-10-09T16:49:49.043Z"
   },
   {
    "duration": 6,
    "start_time": "2023-10-09T16:49:49.082Z"
   },
   {
    "duration": 6,
    "start_time": "2023-10-09T16:49:49.089Z"
   },
   {
    "duration": 6,
    "start_time": "2023-10-09T16:49:49.096Z"
   },
   {
    "duration": 206,
    "start_time": "2023-10-09T16:49:49.103Z"
   },
   {
    "duration": 8,
    "start_time": "2023-10-09T16:49:49.311Z"
   },
   {
    "duration": 34,
    "start_time": "2023-10-09T16:49:49.320Z"
   },
   {
    "duration": 8,
    "start_time": "2023-10-09T16:49:49.356Z"
   },
   {
    "duration": 9,
    "start_time": "2023-10-09T16:49:49.366Z"
   },
   {
    "duration": 22,
    "start_time": "2023-10-09T16:49:49.377Z"
   },
   {
    "duration": 12,
    "start_time": "2023-10-09T16:49:49.401Z"
   },
   {
    "duration": 144,
    "start_time": "2023-10-09T16:49:49.414Z"
   },
   {
    "duration": 12,
    "start_time": "2023-10-09T16:49:49.560Z"
   },
   {
    "duration": 10,
    "start_time": "2023-10-09T16:49:49.573Z"
   },
   {
    "duration": 31,
    "start_time": "2023-10-09T16:49:49.585Z"
   },
   {
    "duration": 9,
    "start_time": "2023-10-09T16:49:49.618Z"
   },
   {
    "duration": 22,
    "start_time": "2023-10-09T16:49:49.648Z"
   },
   {
    "duration": 6,
    "start_time": "2023-10-09T16:49:49.672Z"
   },
   {
    "duration": 31,
    "start_time": "2023-10-09T16:49:49.679Z"
   },
   {
    "duration": 203,
    "start_time": "2023-10-09T16:49:49.712Z"
   },
   {
    "duration": 206,
    "start_time": "2023-10-09T16:49:49.917Z"
   },
   {
    "duration": 186,
    "start_time": "2023-10-09T16:49:50.125Z"
   },
   {
    "duration": 199,
    "start_time": "2023-10-09T16:49:50.313Z"
   },
   {
    "duration": 833,
    "start_time": "2023-10-09T16:49:50.514Z"
   },
   {
    "duration": 3,
    "start_time": "2023-10-09T16:49:51.349Z"
   },
   {
    "duration": 13,
    "start_time": "2023-10-09T16:49:51.354Z"
   },
   {
    "duration": 30,
    "start_time": "2023-10-09T16:49:51.369Z"
   },
   {
    "duration": 34,
    "start_time": "2023-10-09T16:49:51.405Z"
   },
   {
    "duration": 142,
    "start_time": "2023-10-09T16:49:51.441Z"
   },
   {
    "duration": 6,
    "start_time": "2023-10-09T16:49:51.584Z"
   },
   {
    "duration": 39,
    "start_time": "2023-10-09T16:49:51.591Z"
   },
   {
    "duration": 18,
    "start_time": "2023-10-09T16:49:51.632Z"
   },
   {
    "duration": 43,
    "start_time": "2023-10-09T16:49:51.651Z"
   },
   {
    "duration": 18,
    "start_time": "2023-10-09T16:49:51.696Z"
   },
   {
    "duration": 26,
    "start_time": "2023-10-09T16:49:51.715Z"
   },
   {
    "duration": 18,
    "start_time": "2023-10-09T16:49:51.743Z"
   },
   {
    "duration": 31,
    "start_time": "2023-10-09T16:49:51.762Z"
   },
   {
    "duration": 87,
    "start_time": "2023-10-09T16:49:51.794Z"
   },
   {
    "duration": 0,
    "start_time": "2023-10-09T16:49:51.882Z"
   },
   {
    "duration": 0,
    "start_time": "2023-10-09T16:49:51.883Z"
   },
   {
    "duration": 0,
    "start_time": "2023-10-09T16:49:51.884Z"
   },
   {
    "duration": 0,
    "start_time": "2023-10-09T16:49:51.885Z"
   },
   {
    "duration": 0,
    "start_time": "2023-10-09T16:49:51.887Z"
   },
   {
    "duration": 0,
    "start_time": "2023-10-09T16:49:51.887Z"
   },
   {
    "duration": 0,
    "start_time": "2023-10-09T16:49:51.889Z"
   },
   {
    "duration": 1,
    "start_time": "2023-10-09T16:49:51.889Z"
   },
   {
    "duration": 0,
    "start_time": "2023-10-09T16:49:51.890Z"
   },
   {
    "duration": 1,
    "start_time": "2023-10-09T16:49:51.891Z"
   },
   {
    "duration": 0,
    "start_time": "2023-10-09T16:49:51.893Z"
   },
   {
    "duration": 0,
    "start_time": "2023-10-09T16:49:51.894Z"
   },
   {
    "duration": 0,
    "start_time": "2023-10-09T16:49:51.895Z"
   },
   {
    "duration": 0,
    "start_time": "2023-10-09T16:49:51.896Z"
   },
   {
    "duration": 0,
    "start_time": "2023-10-09T16:49:51.897Z"
   },
   {
    "duration": 0,
    "start_time": "2023-10-09T16:49:51.898Z"
   },
   {
    "duration": 0,
    "start_time": "2023-10-09T16:49:51.899Z"
   },
   {
    "duration": 0,
    "start_time": "2023-10-09T16:49:51.900Z"
   },
   {
    "duration": 0,
    "start_time": "2023-10-09T16:49:51.901Z"
   },
   {
    "duration": 0,
    "start_time": "2023-10-09T16:49:51.903Z"
   },
   {
    "duration": 0,
    "start_time": "2023-10-09T16:49:51.904Z"
   },
   {
    "duration": 0,
    "start_time": "2023-10-09T16:49:51.905Z"
   },
   {
    "duration": 0,
    "start_time": "2023-10-09T16:49:51.906Z"
   },
   {
    "duration": 0,
    "start_time": "2023-10-09T16:49:51.907Z"
   },
   {
    "duration": 0,
    "start_time": "2023-10-09T16:49:51.908Z"
   },
   {
    "duration": 1102,
    "start_time": "2023-10-09T16:50:10.786Z"
   },
   {
    "duration": 30,
    "start_time": "2023-10-09T16:50:11.890Z"
   },
   {
    "duration": 12,
    "start_time": "2023-10-09T16:50:11.921Z"
   },
   {
    "duration": 31,
    "start_time": "2023-10-09T16:50:11.934Z"
   },
   {
    "duration": 183,
    "start_time": "2023-10-09T16:50:11.967Z"
   },
   {
    "duration": 5,
    "start_time": "2023-10-09T16:50:12.151Z"
   },
   {
    "duration": 174,
    "start_time": "2023-10-09T16:50:12.158Z"
   },
   {
    "duration": 10,
    "start_time": "2023-10-09T16:50:12.334Z"
   },
   {
    "duration": 111,
    "start_time": "2023-10-09T16:50:12.346Z"
   },
   {
    "duration": 28,
    "start_time": "2023-10-09T16:50:12.458Z"
   },
   {
    "duration": 10,
    "start_time": "2023-10-09T16:50:12.488Z"
   },
   {
    "duration": 24,
    "start_time": "2023-10-09T16:50:12.500Z"
   },
   {
    "duration": 19,
    "start_time": "2023-10-09T16:50:12.526Z"
   },
   {
    "duration": 26,
    "start_time": "2023-10-09T16:50:12.548Z"
   },
   {
    "duration": 20,
    "start_time": "2023-10-09T16:50:12.576Z"
   },
   {
    "duration": 20,
    "start_time": "2023-10-09T16:50:12.598Z"
   },
   {
    "duration": 16,
    "start_time": "2023-10-09T16:50:12.620Z"
   },
   {
    "duration": 32,
    "start_time": "2023-10-09T16:50:12.638Z"
   },
   {
    "duration": 24,
    "start_time": "2023-10-09T16:50:12.671Z"
   },
   {
    "duration": 16,
    "start_time": "2023-10-09T16:50:12.696Z"
   },
   {
    "duration": 19,
    "start_time": "2023-10-09T16:50:12.713Z"
   },
   {
    "duration": 13,
    "start_time": "2023-10-09T16:50:12.734Z"
   },
   {
    "duration": 6,
    "start_time": "2023-10-09T16:50:12.749Z"
   },
   {
    "duration": 16,
    "start_time": "2023-10-09T16:50:12.756Z"
   },
   {
    "duration": 20,
    "start_time": "2023-10-09T16:50:12.773Z"
   },
   {
    "duration": 32,
    "start_time": "2023-10-09T16:50:12.794Z"
   },
   {
    "duration": 24,
    "start_time": "2023-10-09T16:50:12.827Z"
   },
   {
    "duration": 17,
    "start_time": "2023-10-09T16:50:12.853Z"
   },
   {
    "duration": 31,
    "start_time": "2023-10-09T16:50:12.871Z"
   },
   {
    "duration": 27,
    "start_time": "2023-10-09T16:50:12.903Z"
   },
   {
    "duration": 27,
    "start_time": "2023-10-09T16:50:12.932Z"
   },
   {
    "duration": 22,
    "start_time": "2023-10-09T16:50:12.961Z"
   },
   {
    "duration": 13,
    "start_time": "2023-10-09T16:50:12.985Z"
   },
   {
    "duration": 11,
    "start_time": "2023-10-09T16:50:13.000Z"
   },
   {
    "duration": 13,
    "start_time": "2023-10-09T16:50:13.013Z"
   },
   {
    "duration": 9,
    "start_time": "2023-10-09T16:50:13.027Z"
   },
   {
    "duration": 18,
    "start_time": "2023-10-09T16:50:13.038Z"
   },
   {
    "duration": 7,
    "start_time": "2023-10-09T16:50:13.058Z"
   },
   {
    "duration": 17,
    "start_time": "2023-10-09T16:50:13.067Z"
   },
   {
    "duration": 13,
    "start_time": "2023-10-09T16:50:13.086Z"
   },
   {
    "duration": 22,
    "start_time": "2023-10-09T16:50:13.103Z"
   },
   {
    "duration": 12,
    "start_time": "2023-10-09T16:50:13.127Z"
   },
   {
    "duration": 166,
    "start_time": "2023-10-09T16:50:13.140Z"
   },
   {
    "duration": 153,
    "start_time": "2023-10-09T16:50:13.308Z"
   },
   {
    "duration": 5,
    "start_time": "2023-10-09T16:50:13.462Z"
   },
   {
    "duration": 125,
    "start_time": "2023-10-09T16:50:13.469Z"
   },
   {
    "duration": 140,
    "start_time": "2023-10-09T16:50:13.596Z"
   },
   {
    "duration": 10,
    "start_time": "2023-10-09T16:50:13.737Z"
   },
   {
    "duration": 157,
    "start_time": "2023-10-09T16:50:13.749Z"
   },
   {
    "duration": 528,
    "start_time": "2023-10-09T16:50:13.907Z"
   },
   {
    "duration": 8,
    "start_time": "2023-10-09T16:50:14.436Z"
   },
   {
    "duration": 11,
    "start_time": "2023-10-09T16:50:14.445Z"
   },
   {
    "duration": 14,
    "start_time": "2023-10-09T16:50:14.458Z"
   },
   {
    "duration": 9,
    "start_time": "2023-10-09T16:50:14.473Z"
   },
   {
    "duration": 11,
    "start_time": "2023-10-09T16:50:14.483Z"
   },
   {
    "duration": 22,
    "start_time": "2023-10-09T16:50:14.496Z"
   },
   {
    "duration": 5,
    "start_time": "2023-10-09T16:50:14.520Z"
   },
   {
    "duration": 12,
    "start_time": "2023-10-09T16:50:14.526Z"
   },
   {
    "duration": 219,
    "start_time": "2023-10-09T16:50:14.539Z"
   },
   {
    "duration": 6,
    "start_time": "2023-10-09T16:50:14.760Z"
   },
   {
    "duration": 32,
    "start_time": "2023-10-09T16:50:14.767Z"
   },
   {
    "duration": 17,
    "start_time": "2023-10-09T16:50:14.801Z"
   },
   {
    "duration": 16,
    "start_time": "2023-10-09T16:50:14.819Z"
   },
   {
    "duration": 16,
    "start_time": "2023-10-09T16:50:14.836Z"
   },
   {
    "duration": 12,
    "start_time": "2023-10-09T16:50:14.853Z"
   },
   {
    "duration": 131,
    "start_time": "2023-10-09T16:50:14.866Z"
   },
   {
    "duration": 10,
    "start_time": "2023-10-09T16:50:14.999Z"
   },
   {
    "duration": 38,
    "start_time": "2023-10-09T16:50:15.011Z"
   },
   {
    "duration": 80,
    "start_time": "2023-10-09T16:50:15.051Z"
   },
   {
    "duration": 13,
    "start_time": "2023-10-09T16:50:15.133Z"
   },
   {
    "duration": 23,
    "start_time": "2023-10-09T16:50:15.147Z"
   },
   {
    "duration": 7,
    "start_time": "2023-10-09T16:50:15.171Z"
   },
   {
    "duration": 34,
    "start_time": "2023-10-09T16:50:15.179Z"
   },
   {
    "duration": 196,
    "start_time": "2023-10-09T16:50:15.215Z"
   },
   {
    "duration": 215,
    "start_time": "2023-10-09T16:50:15.412Z"
   },
   {
    "duration": 189,
    "start_time": "2023-10-09T16:50:15.629Z"
   },
   {
    "duration": 194,
    "start_time": "2023-10-09T16:50:15.820Z"
   },
   {
    "duration": 836,
    "start_time": "2023-10-09T16:50:16.016Z"
   },
   {
    "duration": 4,
    "start_time": "2023-10-09T16:50:16.854Z"
   },
   {
    "duration": 69,
    "start_time": "2023-10-09T16:50:16.860Z"
   },
   {
    "duration": 23,
    "start_time": "2023-10-09T16:50:16.930Z"
   },
   {
    "duration": 7,
    "start_time": "2023-10-09T16:50:16.955Z"
   },
   {
    "duration": 160,
    "start_time": "2023-10-09T16:50:16.963Z"
   },
   {
    "duration": 6,
    "start_time": "2023-10-09T16:50:17.126Z"
   },
   {
    "duration": 169,
    "start_time": "2023-10-09T16:50:17.133Z"
   },
   {
    "duration": 12,
    "start_time": "2023-10-09T16:50:17.304Z"
   },
   {
    "duration": 9,
    "start_time": "2023-10-09T16:50:17.318Z"
   },
   {
    "duration": 9,
    "start_time": "2023-10-09T16:50:17.328Z"
   },
   {
    "duration": 5,
    "start_time": "2023-10-09T16:50:17.339Z"
   },
   {
    "duration": 12,
    "start_time": "2023-10-09T16:50:17.346Z"
   },
   {
    "duration": 10,
    "start_time": "2023-10-09T16:50:17.360Z"
   },
   {
    "duration": 13,
    "start_time": "2023-10-09T16:50:17.371Z"
   },
   {
    "duration": 5,
    "start_time": "2023-10-09T16:50:17.386Z"
   },
   {
    "duration": 5,
    "start_time": "2023-10-09T16:50:17.393Z"
   },
   {
    "duration": 6,
    "start_time": "2023-10-09T16:50:17.399Z"
   },
   {
    "duration": 13,
    "start_time": "2023-10-09T16:50:17.406Z"
   },
   {
    "duration": 65,
    "start_time": "2023-10-09T16:50:17.420Z"
   },
   {
    "duration": 7,
    "start_time": "2023-10-09T16:50:17.487Z"
   },
   {
    "duration": 24,
    "start_time": "2023-10-09T16:50:17.496Z"
   },
   {
    "duration": 12,
    "start_time": "2023-10-09T16:50:17.522Z"
   },
   {
    "duration": 29,
    "start_time": "2023-10-09T16:50:17.535Z"
   },
   {
    "duration": 14,
    "start_time": "2023-10-09T16:50:17.566Z"
   },
   {
    "duration": 31,
    "start_time": "2023-10-09T16:50:17.581Z"
   },
   {
    "duration": 10,
    "start_time": "2023-10-09T16:50:17.613Z"
   },
   {
    "duration": 37,
    "start_time": "2023-10-09T16:50:17.625Z"
   },
   {
    "duration": 254,
    "start_time": "2023-10-09T16:50:17.664Z"
   },
   {
    "duration": 2,
    "start_time": "2023-10-09T16:50:17.920Z"
   },
   {
    "duration": 18,
    "start_time": "2023-10-09T16:50:17.923Z"
   },
   {
    "duration": 12,
    "start_time": "2023-10-09T16:50:17.943Z"
   },
   {
    "duration": 9,
    "start_time": "2023-10-09T16:50:17.957Z"
   },
   {
    "duration": 5,
    "start_time": "2023-10-09T16:50:17.968Z"
   },
   {
    "duration": 11,
    "start_time": "2023-10-09T16:50:17.974Z"
   },
   {
    "duration": 19,
    "start_time": "2023-10-09T16:50:17.986Z"
   },
   {
    "duration": 8,
    "start_time": "2023-10-09T16:50:18.007Z"
   },
   {
    "duration": 14,
    "start_time": "2023-10-09T16:50:18.017Z"
   },
   {
    "duration": 7,
    "start_time": "2023-10-09T16:50:18.033Z"
   },
   {
    "duration": 1375,
    "start_time": "2023-10-10T01:11:36.319Z"
   },
   {
    "duration": 76,
    "start_time": "2023-10-10T01:11:37.696Z"
   },
   {
    "duration": 14,
    "start_time": "2023-10-10T01:11:37.773Z"
   },
   {
    "duration": 58,
    "start_time": "2023-10-10T01:11:37.789Z"
   },
   {
    "duration": 206,
    "start_time": "2023-10-10T01:11:37.849Z"
   },
   {
    "duration": 6,
    "start_time": "2023-10-10T01:11:38.057Z"
   },
   {
    "duration": 190,
    "start_time": "2023-10-10T01:11:38.064Z"
   },
   {
    "duration": 6,
    "start_time": "2023-10-10T01:11:38.256Z"
   },
   {
    "duration": 130,
    "start_time": "2023-10-10T01:11:38.263Z"
   },
   {
    "duration": 70,
    "start_time": "2023-10-10T01:11:38.396Z"
   },
   {
    "duration": 11,
    "start_time": "2023-10-10T01:11:38.468Z"
   },
   {
    "duration": 21,
    "start_time": "2023-10-10T01:11:38.481Z"
   },
   {
    "duration": 27,
    "start_time": "2023-10-10T01:11:38.504Z"
   },
   {
    "duration": 17,
    "start_time": "2023-10-10T01:11:38.532Z"
   },
   {
    "duration": 57,
    "start_time": "2023-10-10T01:11:38.551Z"
   },
   {
    "duration": 10,
    "start_time": "2023-10-10T01:11:38.610Z"
   },
   {
    "duration": 14,
    "start_time": "2023-10-10T01:11:38.622Z"
   },
   {
    "duration": 29,
    "start_time": "2023-10-10T01:11:38.638Z"
   },
   {
    "duration": 22,
    "start_time": "2023-10-10T01:11:38.668Z"
   },
   {
    "duration": 35,
    "start_time": "2023-10-10T01:11:38.692Z"
   },
   {
    "duration": 17,
    "start_time": "2023-10-10T01:11:38.729Z"
   },
   {
    "duration": 31,
    "start_time": "2023-10-10T01:11:38.748Z"
   },
   {
    "duration": 19,
    "start_time": "2023-10-10T01:11:38.781Z"
   },
   {
    "duration": 32,
    "start_time": "2023-10-10T01:11:38.802Z"
   },
   {
    "duration": 21,
    "start_time": "2023-10-10T01:11:38.836Z"
   },
   {
    "duration": 19,
    "start_time": "2023-10-10T01:11:38.858Z"
   },
   {
    "duration": 16,
    "start_time": "2023-10-10T01:11:38.879Z"
   },
   {
    "duration": 13,
    "start_time": "2023-10-10T01:11:38.899Z"
   },
   {
    "duration": 28,
    "start_time": "2023-10-10T01:11:38.914Z"
   },
   {
    "duration": 14,
    "start_time": "2023-10-10T01:11:38.944Z"
   },
   {
    "duration": 8,
    "start_time": "2023-10-10T01:11:38.960Z"
   },
   {
    "duration": 9,
    "start_time": "2023-10-10T01:11:38.970Z"
   },
   {
    "duration": 14,
    "start_time": "2023-10-10T01:11:38.981Z"
   },
   {
    "duration": 5,
    "start_time": "2023-10-10T01:11:38.997Z"
   },
   {
    "duration": 16,
    "start_time": "2023-10-10T01:11:39.004Z"
   },
   {
    "duration": 22,
    "start_time": "2023-10-10T01:11:39.021Z"
   },
   {
    "duration": 34,
    "start_time": "2023-10-10T01:11:39.044Z"
   },
   {
    "duration": 13,
    "start_time": "2023-10-10T01:11:39.079Z"
   },
   {
    "duration": 8,
    "start_time": "2023-10-10T01:11:39.093Z"
   },
   {
    "duration": 19,
    "start_time": "2023-10-10T01:11:39.102Z"
   },
   {
    "duration": 16,
    "start_time": "2023-10-10T01:11:39.123Z"
   },
   {
    "duration": 31,
    "start_time": "2023-10-10T01:11:39.141Z"
   },
   {
    "duration": 175,
    "start_time": "2023-10-10T01:11:39.174Z"
   },
   {
    "duration": 169,
    "start_time": "2023-10-10T01:11:39.350Z"
   },
   {
    "duration": 6,
    "start_time": "2023-10-10T01:11:39.521Z"
   },
   {
    "duration": 129,
    "start_time": "2023-10-10T01:11:39.528Z"
   },
   {
    "duration": 153,
    "start_time": "2023-10-10T01:11:39.659Z"
   },
   {
    "duration": 6,
    "start_time": "2023-10-10T01:11:39.814Z"
   },
   {
    "duration": 196,
    "start_time": "2023-10-10T01:11:39.822Z"
   },
   {
    "duration": 474,
    "start_time": "2023-10-10T01:11:40.020Z"
   },
   {
    "duration": 4,
    "start_time": "2023-10-10T01:11:40.496Z"
   },
   {
    "duration": 31,
    "start_time": "2023-10-10T01:11:40.502Z"
   },
   {
    "duration": 140,
    "start_time": "2023-10-10T01:11:40.535Z"
   },
   {
    "duration": 58,
    "start_time": "2023-10-10T01:11:40.676Z"
   },
   {
    "duration": 15,
    "start_time": "2023-10-10T01:11:40.736Z"
   },
   {
    "duration": 20,
    "start_time": "2023-10-10T01:11:40.752Z"
   },
   {
    "duration": 7,
    "start_time": "2023-10-10T01:11:40.774Z"
   },
   {
    "duration": 8,
    "start_time": "2023-10-10T01:11:40.782Z"
   },
   {
    "duration": 210,
    "start_time": "2023-10-10T01:11:40.791Z"
   },
   {
    "duration": 7,
    "start_time": "2023-10-10T01:11:41.003Z"
   },
   {
    "duration": 7,
    "start_time": "2023-10-10T01:11:41.012Z"
   },
   {
    "duration": 9,
    "start_time": "2023-10-10T01:11:41.021Z"
   },
   {
    "duration": 9,
    "start_time": "2023-10-10T01:11:41.032Z"
   },
   {
    "duration": 17,
    "start_time": "2023-10-10T01:11:41.043Z"
   },
   {
    "duration": 10,
    "start_time": "2023-10-10T01:11:41.062Z"
   },
   {
    "duration": 159,
    "start_time": "2023-10-10T01:11:41.074Z"
   },
   {
    "duration": 12,
    "start_time": "2023-10-10T01:11:41.235Z"
   },
   {
    "duration": 10,
    "start_time": "2023-10-10T01:11:41.248Z"
   },
   {
    "duration": 42,
    "start_time": "2023-10-10T01:11:41.260Z"
   },
   {
    "duration": 9,
    "start_time": "2023-10-10T01:11:41.304Z"
   },
   {
    "duration": 25,
    "start_time": "2023-10-10T01:11:41.314Z"
   },
   {
    "duration": 19,
    "start_time": "2023-10-10T01:11:41.340Z"
   },
   {
    "duration": 50,
    "start_time": "2023-10-10T01:11:41.361Z"
   },
   {
    "duration": 212,
    "start_time": "2023-10-10T01:11:41.412Z"
   },
   {
    "duration": 211,
    "start_time": "2023-10-10T01:11:41.626Z"
   },
   {
    "duration": 196,
    "start_time": "2023-10-10T01:11:41.838Z"
   },
   {
    "duration": 203,
    "start_time": "2023-10-10T01:11:42.036Z"
   },
   {
    "duration": 871,
    "start_time": "2023-10-10T01:11:42.241Z"
   },
   {
    "duration": 3,
    "start_time": "2023-10-10T01:11:43.113Z"
   },
   {
    "duration": 19,
    "start_time": "2023-10-10T01:11:43.118Z"
   },
   {
    "duration": 26,
    "start_time": "2023-10-10T01:11:43.139Z"
   },
   {
    "duration": 44,
    "start_time": "2023-10-10T01:11:43.171Z"
   },
   {
    "duration": 159,
    "start_time": "2023-10-10T01:11:43.217Z"
   },
   {
    "duration": 7,
    "start_time": "2023-10-10T01:11:43.378Z"
   },
   {
    "duration": 30,
    "start_time": "2023-10-10T01:11:43.387Z"
   },
   {
    "duration": 20,
    "start_time": "2023-10-10T01:11:43.419Z"
   },
   {
    "duration": 24,
    "start_time": "2023-10-10T01:11:43.441Z"
   },
   {
    "duration": 21,
    "start_time": "2023-10-10T01:11:43.467Z"
   },
   {
    "duration": 13,
    "start_time": "2023-10-10T01:11:43.490Z"
   },
   {
    "duration": 17,
    "start_time": "2023-10-10T01:11:43.505Z"
   },
   {
    "duration": 41,
    "start_time": "2023-10-10T01:11:43.524Z"
   },
   {
    "duration": 20,
    "start_time": "2023-10-10T01:11:43.567Z"
   },
   {
    "duration": 30,
    "start_time": "2023-10-10T01:11:43.589Z"
   },
   {
    "duration": 18,
    "start_time": "2023-10-10T01:11:43.621Z"
   },
   {
    "duration": 67,
    "start_time": "2023-10-10T01:11:43.641Z"
   },
   {
    "duration": 49,
    "start_time": "2023-10-10T01:11:43.710Z"
   },
   {
    "duration": 24,
    "start_time": "2023-10-10T01:11:43.761Z"
   },
   {
    "duration": 18,
    "start_time": "2023-10-10T01:11:43.786Z"
   },
   {
    "duration": 22,
    "start_time": "2023-10-10T01:11:43.805Z"
   },
   {
    "duration": 59,
    "start_time": "2023-10-10T01:11:43.829Z"
   },
   {
    "duration": 16,
    "start_time": "2023-10-10T01:11:43.890Z"
   },
   {
    "duration": 33,
    "start_time": "2023-10-10T01:11:43.908Z"
   },
   {
    "duration": 23,
    "start_time": "2023-10-10T01:11:43.943Z"
   },
   {
    "duration": 17,
    "start_time": "2023-10-10T01:11:43.968Z"
   },
   {
    "duration": 137,
    "start_time": "2023-10-10T01:11:43.987Z"
   },
   {
    "duration": 297,
    "start_time": "2023-10-10T01:11:44.126Z"
   },
   {
    "duration": 3,
    "start_time": "2023-10-10T01:11:44.426Z"
   },
   {
    "duration": 51,
    "start_time": "2023-10-10T01:11:44.430Z"
   },
   {
    "duration": 59,
    "start_time": "2023-10-10T01:11:44.483Z"
   },
   {
    "duration": 44,
    "start_time": "2023-10-10T01:11:44.544Z"
   },
   {
    "duration": 38,
    "start_time": "2023-10-10T01:11:44.591Z"
   },
   {
    "duration": 53,
    "start_time": "2023-10-10T01:11:44.632Z"
   },
   {
    "duration": 142,
    "start_time": "2023-10-10T01:11:44.687Z"
   },
   {
    "duration": 39,
    "start_time": "2023-10-10T01:11:44.831Z"
   },
   {
    "duration": 67,
    "start_time": "2023-10-10T01:11:44.872Z"
   },
   {
    "duration": 29,
    "start_time": "2023-10-10T01:11:44.941Z"
   },
   {
    "duration": 6,
    "start_time": "2023-10-10T01:27:20.480Z"
   },
   {
    "duration": 1167,
    "start_time": "2023-10-10T01:34:39.681Z"
   },
   {
    "duration": 29,
    "start_time": "2023-10-10T01:34:40.850Z"
   },
   {
    "duration": 36,
    "start_time": "2023-10-10T01:34:40.880Z"
   },
   {
    "duration": 82,
    "start_time": "2023-10-10T01:34:40.918Z"
   },
   {
    "duration": 423,
    "start_time": "2023-10-10T01:34:41.002Z"
   },
   {
    "duration": 6,
    "start_time": "2023-10-10T01:34:41.426Z"
   },
   {
    "duration": 179,
    "start_time": "2023-10-10T01:34:41.433Z"
   },
   {
    "duration": 6,
    "start_time": "2023-10-10T01:34:41.613Z"
   },
   {
    "duration": 136,
    "start_time": "2023-10-10T01:34:41.620Z"
   },
   {
    "duration": 27,
    "start_time": "2023-10-10T01:34:41.759Z"
   },
   {
    "duration": 14,
    "start_time": "2023-10-10T01:34:41.788Z"
   },
   {
    "duration": 19,
    "start_time": "2023-10-10T01:34:41.804Z"
   },
   {
    "duration": 47,
    "start_time": "2023-10-10T01:34:41.825Z"
   },
   {
    "duration": 45,
    "start_time": "2023-10-10T01:34:41.874Z"
   },
   {
    "duration": 40,
    "start_time": "2023-10-10T01:34:41.921Z"
   },
   {
    "duration": 10,
    "start_time": "2023-10-10T01:34:41.962Z"
   },
   {
    "duration": 31,
    "start_time": "2023-10-10T01:34:41.974Z"
   },
   {
    "duration": 18,
    "start_time": "2023-10-10T01:34:42.007Z"
   },
   {
    "duration": 34,
    "start_time": "2023-10-10T01:34:42.027Z"
   },
   {
    "duration": 20,
    "start_time": "2023-10-10T01:34:42.063Z"
   },
   {
    "duration": 20,
    "start_time": "2023-10-10T01:34:42.085Z"
   },
   {
    "duration": 22,
    "start_time": "2023-10-10T01:34:42.106Z"
   },
   {
    "duration": 16,
    "start_time": "2023-10-10T01:34:42.130Z"
   },
   {
    "duration": 31,
    "start_time": "2023-10-10T01:34:42.148Z"
   },
   {
    "duration": 24,
    "start_time": "2023-10-10T01:34:42.181Z"
   },
   {
    "duration": 18,
    "start_time": "2023-10-10T01:34:42.207Z"
   },
   {
    "duration": 7,
    "start_time": "2023-10-10T01:34:42.226Z"
   },
   {
    "duration": 11,
    "start_time": "2023-10-10T01:34:42.237Z"
   },
   {
    "duration": 27,
    "start_time": "2023-10-10T01:34:42.250Z"
   },
   {
    "duration": 15,
    "start_time": "2023-10-10T01:34:42.279Z"
   },
   {
    "duration": 20,
    "start_time": "2023-10-10T01:34:42.296Z"
   },
   {
    "duration": 25,
    "start_time": "2023-10-10T01:34:42.318Z"
   },
   {
    "duration": 15,
    "start_time": "2023-10-10T01:34:42.345Z"
   },
   {
    "duration": 25,
    "start_time": "2023-10-10T01:34:42.362Z"
   },
   {
    "duration": 17,
    "start_time": "2023-10-10T01:34:42.389Z"
   },
   {
    "duration": 16,
    "start_time": "2023-10-10T01:34:42.408Z"
   },
   {
    "duration": 21,
    "start_time": "2023-10-10T01:34:42.426Z"
   },
   {
    "duration": 7,
    "start_time": "2023-10-10T01:34:42.449Z"
   },
   {
    "duration": 11,
    "start_time": "2023-10-10T01:34:42.457Z"
   },
   {
    "duration": 12,
    "start_time": "2023-10-10T01:34:42.470Z"
   },
   {
    "duration": 19,
    "start_time": "2023-10-10T01:34:42.484Z"
   },
   {
    "duration": 22,
    "start_time": "2023-10-10T01:34:42.505Z"
   },
   {
    "duration": 172,
    "start_time": "2023-10-10T01:34:42.529Z"
   },
   {
    "duration": 169,
    "start_time": "2023-10-10T01:34:42.704Z"
   },
   {
    "duration": 5,
    "start_time": "2023-10-10T01:34:42.875Z"
   },
   {
    "duration": 128,
    "start_time": "2023-10-10T01:34:42.882Z"
   },
   {
    "duration": 147,
    "start_time": "2023-10-10T01:34:43.012Z"
   },
   {
    "duration": 5,
    "start_time": "2023-10-10T01:34:43.160Z"
   },
   {
    "duration": 246,
    "start_time": "2023-10-10T01:34:43.167Z"
   },
   {
    "duration": 516,
    "start_time": "2023-10-10T01:34:43.414Z"
   },
   {
    "duration": 6,
    "start_time": "2023-10-10T01:34:43.932Z"
   },
   {
    "duration": 11,
    "start_time": "2023-10-10T01:34:43.939Z"
   },
   {
    "duration": 8,
    "start_time": "2023-10-10T01:34:43.951Z"
   },
   {
    "duration": 10,
    "start_time": "2023-10-10T01:34:43.961Z"
   },
   {
    "duration": 4,
    "start_time": "2023-10-10T01:34:43.973Z"
   },
   {
    "duration": 5,
    "start_time": "2023-10-10T01:34:43.978Z"
   },
   {
    "duration": 11,
    "start_time": "2023-10-10T01:34:43.985Z"
   },
   {
    "duration": 18,
    "start_time": "2023-10-10T01:34:43.998Z"
   },
   {
    "duration": 223,
    "start_time": "2023-10-10T01:34:44.017Z"
   },
   {
    "duration": 8,
    "start_time": "2023-10-10T01:34:44.242Z"
   },
   {
    "duration": 15,
    "start_time": "2023-10-10T01:34:44.251Z"
   },
   {
    "duration": 20,
    "start_time": "2023-10-10T01:34:44.267Z"
   },
   {
    "duration": 22,
    "start_time": "2023-10-10T01:34:44.289Z"
   },
   {
    "duration": 12,
    "start_time": "2023-10-10T01:34:44.312Z"
   },
   {
    "duration": 5,
    "start_time": "2023-10-10T01:34:44.326Z"
   },
   {
    "duration": 138,
    "start_time": "2023-10-10T01:34:44.333Z"
   },
   {
    "duration": 12,
    "start_time": "2023-10-10T01:34:44.473Z"
   },
   {
    "duration": 22,
    "start_time": "2023-10-10T01:34:44.487Z"
   },
   {
    "duration": 22,
    "start_time": "2023-10-10T01:34:44.511Z"
   },
   {
    "duration": 9,
    "start_time": "2023-10-10T01:34:44.534Z"
   },
   {
    "duration": 39,
    "start_time": "2023-10-10T01:34:44.545Z"
   },
   {
    "duration": 9,
    "start_time": "2023-10-10T01:34:44.600Z"
   },
   {
    "duration": 31,
    "start_time": "2023-10-10T01:34:44.611Z"
   },
   {
    "duration": 224,
    "start_time": "2023-10-10T01:34:44.644Z"
   },
   {
    "duration": 211,
    "start_time": "2023-10-10T01:34:44.870Z"
   },
   {
    "duration": 180,
    "start_time": "2023-10-10T01:34:45.083Z"
   },
   {
    "duration": 203,
    "start_time": "2023-10-10T01:34:45.265Z"
   },
   {
    "duration": 814,
    "start_time": "2023-10-10T01:34:45.469Z"
   },
   {
    "duration": 3,
    "start_time": "2023-10-10T01:34:46.284Z"
   },
   {
    "duration": 12,
    "start_time": "2023-10-10T01:34:46.289Z"
   },
   {
    "duration": 15,
    "start_time": "2023-10-10T01:34:46.303Z"
   },
   {
    "duration": 3,
    "start_time": "2023-10-10T01:34:46.324Z"
   },
   {
    "duration": 145,
    "start_time": "2023-10-10T01:34:46.328Z"
   },
   {
    "duration": 6,
    "start_time": "2023-10-10T01:34:46.475Z"
   },
   {
    "duration": 27,
    "start_time": "2023-10-10T01:34:46.483Z"
   },
   {
    "duration": 47,
    "start_time": "2023-10-10T01:34:46.512Z"
   },
   {
    "duration": 14,
    "start_time": "2023-10-10T01:34:46.561Z"
   },
   {
    "duration": 11,
    "start_time": "2023-10-10T01:34:46.576Z"
   },
   {
    "duration": 11,
    "start_time": "2023-10-10T01:34:46.588Z"
   },
   {
    "duration": 14,
    "start_time": "2023-10-10T01:34:46.601Z"
   },
   {
    "duration": 7,
    "start_time": "2023-10-10T01:34:46.616Z"
   },
   {
    "duration": 6,
    "start_time": "2023-10-10T01:34:46.625Z"
   },
   {
    "duration": 6,
    "start_time": "2023-10-10T01:34:46.632Z"
   },
   {
    "duration": 14,
    "start_time": "2023-10-10T01:34:46.639Z"
   },
   {
    "duration": 6,
    "start_time": "2023-10-10T01:34:46.654Z"
   },
   {
    "duration": 9,
    "start_time": "2023-10-10T01:34:46.661Z"
   },
   {
    "duration": 11,
    "start_time": "2023-10-10T01:34:46.671Z"
   },
   {
    "duration": 4,
    "start_time": "2023-10-10T01:34:46.684Z"
   },
   {
    "duration": 11,
    "start_time": "2023-10-10T01:34:46.690Z"
   },
   {
    "duration": 12,
    "start_time": "2023-10-10T01:34:46.703Z"
   },
   {
    "duration": 4,
    "start_time": "2023-10-10T01:34:46.717Z"
   },
   {
    "duration": 10,
    "start_time": "2023-10-10T01:34:46.722Z"
   },
   {
    "duration": 11,
    "start_time": "2023-10-10T01:34:46.734Z"
   },
   {
    "duration": 21,
    "start_time": "2023-10-10T01:34:46.746Z"
   },
   {
    "duration": 10,
    "start_time": "2023-10-10T01:34:46.768Z"
   },
   {
    "duration": 254,
    "start_time": "2023-10-10T01:34:46.779Z"
   },
   {
    "duration": 2,
    "start_time": "2023-10-10T01:34:47.035Z"
   },
   {
    "duration": 8,
    "start_time": "2023-10-10T01:34:47.038Z"
   },
   {
    "duration": 7,
    "start_time": "2023-10-10T01:34:47.047Z"
   },
   {
    "duration": 29,
    "start_time": "2023-10-10T01:34:47.057Z"
   },
   {
    "duration": 94,
    "start_time": "2023-10-10T01:34:47.088Z"
   },
   {
    "duration": 8,
    "start_time": "2023-10-10T01:34:47.184Z"
   },
   {
    "duration": 12,
    "start_time": "2023-10-10T01:34:47.194Z"
   },
   {
    "duration": 6,
    "start_time": "2023-10-10T01:34:47.208Z"
   },
   {
    "duration": 13,
    "start_time": "2023-10-10T01:34:47.215Z"
   },
   {
    "duration": 12,
    "start_time": "2023-10-10T01:34:47.229Z"
   },
   {
    "duration": 1162,
    "start_time": "2023-10-10T01:36:51.013Z"
   },
   {
    "duration": 28,
    "start_time": "2023-10-10T01:36:52.177Z"
   },
   {
    "duration": 19,
    "start_time": "2023-10-10T01:36:52.207Z"
   },
   {
    "duration": 23,
    "start_time": "2023-10-10T01:36:52.229Z"
   },
   {
    "duration": 205,
    "start_time": "2023-10-10T01:36:52.254Z"
   },
   {
    "duration": 7,
    "start_time": "2023-10-10T01:36:52.460Z"
   },
   {
    "duration": 200,
    "start_time": "2023-10-10T01:36:52.468Z"
   },
   {
    "duration": 7,
    "start_time": "2023-10-10T01:36:52.669Z"
   },
   {
    "duration": 123,
    "start_time": "2023-10-10T01:36:52.678Z"
   },
   {
    "duration": 28,
    "start_time": "2023-10-10T01:36:52.804Z"
   },
   {
    "duration": 12,
    "start_time": "2023-10-10T01:36:52.833Z"
   },
   {
    "duration": 78,
    "start_time": "2023-10-10T01:36:52.847Z"
   },
   {
    "duration": 23,
    "start_time": "2023-10-10T01:36:52.926Z"
   },
   {
    "duration": 23,
    "start_time": "2023-10-10T01:36:52.951Z"
   },
   {
    "duration": 16,
    "start_time": "2023-10-10T01:36:52.975Z"
   },
   {
    "duration": 18,
    "start_time": "2023-10-10T01:36:52.992Z"
   },
   {
    "duration": 17,
    "start_time": "2023-10-10T01:36:53.012Z"
   },
   {
    "duration": 17,
    "start_time": "2023-10-10T01:36:53.031Z"
   },
   {
    "duration": 29,
    "start_time": "2023-10-10T01:36:53.050Z"
   },
   {
    "duration": 35,
    "start_time": "2023-10-10T01:36:53.080Z"
   },
   {
    "duration": 8,
    "start_time": "2023-10-10T01:36:53.116Z"
   },
   {
    "duration": 23,
    "start_time": "2023-10-10T01:36:53.126Z"
   },
   {
    "duration": 8,
    "start_time": "2023-10-10T01:36:53.151Z"
   },
   {
    "duration": 11,
    "start_time": "2023-10-10T01:36:53.160Z"
   },
   {
    "duration": 7,
    "start_time": "2023-10-10T01:36:53.172Z"
   },
   {
    "duration": 24,
    "start_time": "2023-10-10T01:36:53.180Z"
   },
   {
    "duration": 12,
    "start_time": "2023-10-10T01:36:53.206Z"
   },
   {
    "duration": 14,
    "start_time": "2023-10-10T01:36:53.222Z"
   },
   {
    "duration": 22,
    "start_time": "2023-10-10T01:36:53.237Z"
   },
   {
    "duration": 17,
    "start_time": "2023-10-10T01:36:53.261Z"
   },
   {
    "duration": 23,
    "start_time": "2023-10-10T01:36:53.280Z"
   },
   {
    "duration": 7,
    "start_time": "2023-10-10T01:36:53.304Z"
   },
   {
    "duration": 9,
    "start_time": "2023-10-10T01:36:53.313Z"
   },
   {
    "duration": 13,
    "start_time": "2023-10-10T01:36:53.323Z"
   },
   {
    "duration": 15,
    "start_time": "2023-10-10T01:36:53.337Z"
   },
   {
    "duration": 13,
    "start_time": "2023-10-10T01:36:53.353Z"
   },
   {
    "duration": 17,
    "start_time": "2023-10-10T01:36:53.368Z"
   },
   {
    "duration": 5,
    "start_time": "2023-10-10T01:36:53.387Z"
   },
   {
    "duration": 16,
    "start_time": "2023-10-10T01:36:53.394Z"
   },
   {
    "duration": 6,
    "start_time": "2023-10-10T01:36:53.411Z"
   },
   {
    "duration": 14,
    "start_time": "2023-10-10T01:36:53.418Z"
   },
   {
    "duration": 25,
    "start_time": "2023-10-10T01:36:53.434Z"
   },
   {
    "duration": 198,
    "start_time": "2023-10-10T01:36:53.460Z"
   },
   {
    "duration": 174,
    "start_time": "2023-10-10T01:36:53.660Z"
   },
   {
    "duration": 5,
    "start_time": "2023-10-10T01:36:53.836Z"
   },
   {
    "duration": 126,
    "start_time": "2023-10-10T01:36:53.843Z"
   },
   {
    "duration": 149,
    "start_time": "2023-10-10T01:36:53.970Z"
   },
   {
    "duration": 5,
    "start_time": "2023-10-10T01:36:54.121Z"
   },
   {
    "duration": 181,
    "start_time": "2023-10-10T01:36:54.127Z"
   },
   {
    "duration": 544,
    "start_time": "2023-10-10T01:36:54.310Z"
   },
   {
    "duration": 7,
    "start_time": "2023-10-10T01:36:54.857Z"
   },
   {
    "duration": 13,
    "start_time": "2023-10-10T01:36:54.866Z"
   },
   {
    "duration": 36,
    "start_time": "2023-10-10T01:36:54.881Z"
   },
   {
    "duration": 22,
    "start_time": "2023-10-10T01:36:54.919Z"
   },
   {
    "duration": 32,
    "start_time": "2023-10-10T01:36:54.943Z"
   },
   {
    "duration": 28,
    "start_time": "2023-10-10T01:36:54.977Z"
   },
   {
    "duration": 25,
    "start_time": "2023-10-10T01:36:55.006Z"
   },
   {
    "duration": 71,
    "start_time": "2023-10-10T01:36:55.032Z"
   },
   {
    "duration": 219,
    "start_time": "2023-10-10T01:36:55.105Z"
   },
   {
    "duration": 7,
    "start_time": "2023-10-10T01:36:55.325Z"
   },
   {
    "duration": 29,
    "start_time": "2023-10-10T01:36:55.333Z"
   },
   {
    "duration": 14,
    "start_time": "2023-10-10T01:36:55.363Z"
   },
   {
    "duration": 17,
    "start_time": "2023-10-10T01:36:55.379Z"
   },
   {
    "duration": 18,
    "start_time": "2023-10-10T01:36:55.398Z"
   },
   {
    "duration": 5,
    "start_time": "2023-10-10T01:36:55.418Z"
   },
   {
    "duration": 134,
    "start_time": "2023-10-10T01:36:55.425Z"
   },
   {
    "duration": 15,
    "start_time": "2023-10-10T01:36:55.561Z"
   },
   {
    "duration": 38,
    "start_time": "2023-10-10T01:36:55.578Z"
   },
   {
    "duration": 31,
    "start_time": "2023-10-10T01:36:55.618Z"
   },
   {
    "duration": 18,
    "start_time": "2023-10-10T01:36:55.650Z"
   },
   {
    "duration": 34,
    "start_time": "2023-10-10T01:36:55.670Z"
   },
   {
    "duration": 34,
    "start_time": "2023-10-10T01:36:55.706Z"
   },
   {
    "duration": 38,
    "start_time": "2023-10-10T01:36:55.742Z"
   },
   {
    "duration": 206,
    "start_time": "2023-10-10T01:36:55.782Z"
   },
   {
    "duration": 209,
    "start_time": "2023-10-10T01:36:55.990Z"
   },
   {
    "duration": 189,
    "start_time": "2023-10-10T01:36:56.200Z"
   },
   {
    "duration": 213,
    "start_time": "2023-10-10T01:36:56.390Z"
   },
   {
    "duration": 838,
    "start_time": "2023-10-10T01:36:56.605Z"
   },
   {
    "duration": 3,
    "start_time": "2023-10-10T01:36:57.445Z"
   },
   {
    "duration": 168,
    "start_time": "2023-10-10T01:36:57.449Z"
   },
   {
    "duration": 65,
    "start_time": "2023-10-10T01:36:57.619Z"
   },
   {
    "duration": 47,
    "start_time": "2023-10-10T01:36:57.690Z"
   },
   {
    "duration": 171,
    "start_time": "2023-10-10T01:36:57.739Z"
   },
   {
    "duration": 6,
    "start_time": "2023-10-10T01:36:57.912Z"
   },
   {
    "duration": 230,
    "start_time": "2023-10-10T01:36:57.920Z"
   },
   {
    "duration": 34,
    "start_time": "2023-10-10T01:36:58.151Z"
   },
   {
    "duration": 43,
    "start_time": "2023-10-10T01:36:58.186Z"
   },
   {
    "duration": 44,
    "start_time": "2023-10-10T01:36:58.231Z"
   },
   {
    "duration": 45,
    "start_time": "2023-10-10T01:36:58.276Z"
   },
   {
    "duration": 17,
    "start_time": "2023-10-10T01:36:58.323Z"
   },
   {
    "duration": 17,
    "start_time": "2023-10-10T01:36:58.341Z"
   },
   {
    "duration": 15,
    "start_time": "2023-10-10T01:36:58.359Z"
   },
   {
    "duration": 32,
    "start_time": "2023-10-10T01:36:58.376Z"
   },
   {
    "duration": 37,
    "start_time": "2023-10-10T01:36:58.409Z"
   },
   {
    "duration": 31,
    "start_time": "2023-10-10T01:36:58.447Z"
   },
   {
    "duration": 16,
    "start_time": "2023-10-10T01:36:58.479Z"
   },
   {
    "duration": 33,
    "start_time": "2023-10-10T01:36:58.497Z"
   },
   {
    "duration": 22,
    "start_time": "2023-10-10T01:36:58.532Z"
   },
   {
    "duration": 3,
    "start_time": "2023-10-10T01:36:58.556Z"
   },
   {
    "duration": 25,
    "start_time": "2023-10-10T01:36:58.561Z"
   },
   {
    "duration": 39,
    "start_time": "2023-10-10T01:36:58.588Z"
   },
   {
    "duration": 9,
    "start_time": "2023-10-10T01:36:58.629Z"
   },
   {
    "duration": 21,
    "start_time": "2023-10-10T01:36:58.640Z"
   },
   {
    "duration": 10,
    "start_time": "2023-10-10T01:36:58.663Z"
   },
   {
    "duration": 17,
    "start_time": "2023-10-10T01:36:58.675Z"
   },
   {
    "duration": 261,
    "start_time": "2023-10-10T01:36:58.694Z"
   },
   {
    "duration": 2,
    "start_time": "2023-10-10T01:36:58.957Z"
   },
   {
    "duration": 5,
    "start_time": "2023-10-10T01:36:58.961Z"
   },
   {
    "duration": 6,
    "start_time": "2023-10-10T01:36:58.967Z"
   },
   {
    "duration": 9,
    "start_time": "2023-10-10T01:36:58.974Z"
   },
   {
    "duration": 23,
    "start_time": "2023-10-10T01:36:58.984Z"
   },
   {
    "duration": 6,
    "start_time": "2023-10-10T01:36:59.009Z"
   },
   {
    "duration": 16,
    "start_time": "2023-10-10T01:36:59.017Z"
   },
   {
    "duration": 13,
    "start_time": "2023-10-10T01:36:59.034Z"
   },
   {
    "duration": 22,
    "start_time": "2023-10-10T01:36:59.049Z"
   },
   {
    "duration": 24,
    "start_time": "2023-10-10T01:36:59.073Z"
   },
   {
    "duration": 1449,
    "start_time": "2023-10-10T15:53:46.956Z"
   },
   {
    "duration": 77,
    "start_time": "2023-10-10T15:53:48.408Z"
   },
   {
    "duration": 13,
    "start_time": "2023-10-10T15:53:48.487Z"
   },
   {
    "duration": 27,
    "start_time": "2023-10-10T15:53:48.504Z"
   },
   {
    "duration": 213,
    "start_time": "2023-10-10T15:53:48.533Z"
   },
   {
    "duration": 7,
    "start_time": "2023-10-10T15:53:48.748Z"
   },
   {
    "duration": 208,
    "start_time": "2023-10-10T15:53:48.757Z"
   },
   {
    "duration": 7,
    "start_time": "2023-10-10T15:53:48.967Z"
   },
   {
    "duration": 175,
    "start_time": "2023-10-10T15:53:48.976Z"
   },
   {
    "duration": 72,
    "start_time": "2023-10-10T15:53:49.155Z"
   },
   {
    "duration": 15,
    "start_time": "2023-10-10T15:53:49.229Z"
   },
   {
    "duration": 10,
    "start_time": "2023-10-10T15:53:49.246Z"
   },
   {
    "duration": 25,
    "start_time": "2023-10-10T15:53:49.258Z"
   },
   {
    "duration": 16,
    "start_time": "2023-10-10T15:53:49.285Z"
   },
   {
    "duration": 61,
    "start_time": "2023-10-10T15:53:49.303Z"
   },
   {
    "duration": 14,
    "start_time": "2023-10-10T15:53:49.366Z"
   },
   {
    "duration": 31,
    "start_time": "2023-10-10T15:53:49.382Z"
   },
   {
    "duration": 19,
    "start_time": "2023-10-10T15:53:49.415Z"
   },
   {
    "duration": 23,
    "start_time": "2023-10-10T15:53:49.437Z"
   },
   {
    "duration": 33,
    "start_time": "2023-10-10T15:53:49.462Z"
   },
   {
    "duration": 15,
    "start_time": "2023-10-10T15:53:49.497Z"
   },
   {
    "duration": 24,
    "start_time": "2023-10-10T15:53:49.514Z"
   },
   {
    "duration": 29,
    "start_time": "2023-10-10T15:53:49.541Z"
   },
   {
    "duration": 34,
    "start_time": "2023-10-10T15:53:49.572Z"
   },
   {
    "duration": 16,
    "start_time": "2023-10-10T15:53:49.608Z"
   },
   {
    "duration": 11,
    "start_time": "2023-10-10T15:53:49.626Z"
   },
   {
    "duration": 10,
    "start_time": "2023-10-10T15:53:49.640Z"
   },
   {
    "duration": 5,
    "start_time": "2023-10-10T15:53:49.659Z"
   },
   {
    "duration": 54,
    "start_time": "2023-10-10T15:53:49.666Z"
   },
   {
    "duration": 20,
    "start_time": "2023-10-10T15:53:49.723Z"
   },
   {
    "duration": 30,
    "start_time": "2023-10-10T15:53:49.744Z"
   },
   {
    "duration": 32,
    "start_time": "2023-10-10T15:53:49.776Z"
   },
   {
    "duration": 24,
    "start_time": "2023-10-10T15:53:49.810Z"
   },
   {
    "duration": 18,
    "start_time": "2023-10-10T15:53:49.836Z"
   },
   {
    "duration": 57,
    "start_time": "2023-10-10T15:53:49.857Z"
   },
   {
    "duration": 35,
    "start_time": "2023-10-10T15:53:49.915Z"
   },
   {
    "duration": 15,
    "start_time": "2023-10-10T15:53:49.952Z"
   },
   {
    "duration": 18,
    "start_time": "2023-10-10T15:53:49.969Z"
   },
   {
    "duration": 28,
    "start_time": "2023-10-10T15:53:49.989Z"
   },
   {
    "duration": 51,
    "start_time": "2023-10-10T15:53:50.019Z"
   },
   {
    "duration": 38,
    "start_time": "2023-10-10T15:53:50.072Z"
   },
   {
    "duration": 24,
    "start_time": "2023-10-10T15:53:50.112Z"
   },
   {
    "duration": 199,
    "start_time": "2023-10-10T15:53:50.138Z"
   },
   {
    "duration": 7,
    "start_time": "2023-10-10T15:53:50.339Z"
   },
   {
    "duration": 0,
    "start_time": "2023-10-10T15:53:50.349Z"
   },
   {
    "duration": 0,
    "start_time": "2023-10-10T15:53:50.351Z"
   },
   {
    "duration": 0,
    "start_time": "2023-10-10T15:53:50.352Z"
   },
   {
    "duration": 0,
    "start_time": "2023-10-10T15:53:50.354Z"
   },
   {
    "duration": 0,
    "start_time": "2023-10-10T15:53:50.355Z"
   },
   {
    "duration": 0,
    "start_time": "2023-10-10T15:53:50.356Z"
   },
   {
    "duration": 0,
    "start_time": "2023-10-10T15:53:50.357Z"
   },
   {
    "duration": 0,
    "start_time": "2023-10-10T15:53:50.358Z"
   },
   {
    "duration": 0,
    "start_time": "2023-10-10T15:53:50.360Z"
   },
   {
    "duration": 0,
    "start_time": "2023-10-10T15:53:50.361Z"
   },
   {
    "duration": 0,
    "start_time": "2023-10-10T15:53:50.362Z"
   },
   {
    "duration": 0,
    "start_time": "2023-10-10T15:53:50.363Z"
   },
   {
    "duration": 0,
    "start_time": "2023-10-10T15:53:50.364Z"
   },
   {
    "duration": 0,
    "start_time": "2023-10-10T15:53:50.366Z"
   },
   {
    "duration": 0,
    "start_time": "2023-10-10T15:53:50.367Z"
   },
   {
    "duration": 0,
    "start_time": "2023-10-10T15:53:50.369Z"
   },
   {
    "duration": 0,
    "start_time": "2023-10-10T15:53:50.370Z"
   },
   {
    "duration": 0,
    "start_time": "2023-10-10T15:53:50.372Z"
   },
   {
    "duration": 0,
    "start_time": "2023-10-10T15:53:50.373Z"
   },
   {
    "duration": 0,
    "start_time": "2023-10-10T15:53:50.374Z"
   },
   {
    "duration": 0,
    "start_time": "2023-10-10T15:53:50.376Z"
   },
   {
    "duration": 0,
    "start_time": "2023-10-10T15:53:50.378Z"
   },
   {
    "duration": 0,
    "start_time": "2023-10-10T15:53:50.379Z"
   },
   {
    "duration": 0,
    "start_time": "2023-10-10T15:53:50.380Z"
   },
   {
    "duration": 0,
    "start_time": "2023-10-10T15:53:50.382Z"
   },
   {
    "duration": 0,
    "start_time": "2023-10-10T15:53:50.383Z"
   },
   {
    "duration": 0,
    "start_time": "2023-10-10T15:53:50.448Z"
   },
   {
    "duration": 0,
    "start_time": "2023-10-10T15:53:50.449Z"
   },
   {
    "duration": 0,
    "start_time": "2023-10-10T15:53:50.451Z"
   },
   {
    "duration": 0,
    "start_time": "2023-10-10T15:53:50.453Z"
   },
   {
    "duration": 0,
    "start_time": "2023-10-10T15:53:50.454Z"
   },
   {
    "duration": 0,
    "start_time": "2023-10-10T15:53:50.456Z"
   },
   {
    "duration": 0,
    "start_time": "2023-10-10T15:53:50.457Z"
   },
   {
    "duration": 0,
    "start_time": "2023-10-10T15:53:50.458Z"
   },
   {
    "duration": 0,
    "start_time": "2023-10-10T15:53:50.461Z"
   },
   {
    "duration": 0,
    "start_time": "2023-10-10T15:53:50.462Z"
   },
   {
    "duration": 0,
    "start_time": "2023-10-10T15:53:50.464Z"
   },
   {
    "duration": 0,
    "start_time": "2023-10-10T15:53:50.465Z"
   },
   {
    "duration": 0,
    "start_time": "2023-10-10T15:53:50.466Z"
   },
   {
    "duration": 0,
    "start_time": "2023-10-10T15:53:50.466Z"
   },
   {
    "duration": 0,
    "start_time": "2023-10-10T15:53:50.467Z"
   },
   {
    "duration": 0,
    "start_time": "2023-10-10T15:53:50.467Z"
   },
   {
    "duration": 0,
    "start_time": "2023-10-10T15:53:50.468Z"
   },
   {
    "duration": 0,
    "start_time": "2023-10-10T15:53:50.470Z"
   },
   {
    "duration": 0,
    "start_time": "2023-10-10T15:53:50.471Z"
   },
   {
    "duration": 0,
    "start_time": "2023-10-10T15:53:50.473Z"
   },
   {
    "duration": 0,
    "start_time": "2023-10-10T15:53:50.474Z"
   },
   {
    "duration": 0,
    "start_time": "2023-10-10T15:53:50.475Z"
   },
   {
    "duration": 0,
    "start_time": "2023-10-10T15:53:50.477Z"
   },
   {
    "duration": 0,
    "start_time": "2023-10-10T15:53:50.478Z"
   },
   {
    "duration": 0,
    "start_time": "2023-10-10T15:53:50.480Z"
   },
   {
    "duration": 0,
    "start_time": "2023-10-10T15:53:50.482Z"
   },
   {
    "duration": 0,
    "start_time": "2023-10-10T15:53:50.483Z"
   },
   {
    "duration": 0,
    "start_time": "2023-10-10T15:53:50.484Z"
   },
   {
    "duration": 0,
    "start_time": "2023-10-10T15:53:50.547Z"
   },
   {
    "duration": 0,
    "start_time": "2023-10-10T15:53:50.549Z"
   },
   {
    "duration": 0,
    "start_time": "2023-10-10T15:53:50.550Z"
   },
   {
    "duration": 0,
    "start_time": "2023-10-10T15:53:50.551Z"
   },
   {
    "duration": 0,
    "start_time": "2023-10-10T15:53:50.554Z"
   },
   {
    "duration": 0,
    "start_time": "2023-10-10T15:53:50.556Z"
   },
   {
    "duration": 0,
    "start_time": "2023-10-10T15:53:50.558Z"
   },
   {
    "duration": 0,
    "start_time": "2023-10-10T15:53:50.559Z"
   },
   {
    "duration": 0,
    "start_time": "2023-10-10T15:53:50.561Z"
   },
   {
    "duration": 0,
    "start_time": "2023-10-10T15:53:50.562Z"
   },
   {
    "duration": 0,
    "start_time": "2023-10-10T15:53:50.563Z"
   },
   {
    "duration": 0,
    "start_time": "2023-10-10T15:53:50.565Z"
   },
   {
    "duration": 0,
    "start_time": "2023-10-10T15:53:50.567Z"
   },
   {
    "duration": 0,
    "start_time": "2023-10-10T15:53:50.569Z"
   },
   {
    "duration": 0,
    "start_time": "2023-10-10T15:53:50.570Z"
   },
   {
    "duration": 0,
    "start_time": "2023-10-10T15:53:50.571Z"
   },
   {
    "duration": 0,
    "start_time": "2023-10-10T15:53:50.571Z"
   },
   {
    "duration": 0,
    "start_time": "2023-10-10T15:53:50.572Z"
   },
   {
    "duration": 0,
    "start_time": "2023-10-10T15:53:50.573Z"
   },
   {
    "duration": 137,
    "start_time": "2023-10-10T15:54:26.080Z"
   },
   {
    "duration": 164,
    "start_time": "2023-10-10T15:54:30.385Z"
   },
   {
    "duration": 160,
    "start_time": "2023-10-10T15:54:48.033Z"
   },
   {
    "duration": 10,
    "start_time": "2023-10-10T15:58:44.312Z"
   },
   {
    "duration": 1236,
    "start_time": "2023-10-10T15:59:36.659Z"
   },
   {
    "duration": 30,
    "start_time": "2023-10-10T15:59:37.897Z"
   },
   {
    "duration": 12,
    "start_time": "2023-10-10T15:59:37.929Z"
   },
   {
    "duration": 24,
    "start_time": "2023-10-10T15:59:37.943Z"
   },
   {
    "duration": 232,
    "start_time": "2023-10-10T15:59:37.968Z"
   },
   {
    "duration": 6,
    "start_time": "2023-10-10T15:59:38.202Z"
   },
   {
    "duration": 195,
    "start_time": "2023-10-10T15:59:38.209Z"
   },
   {
    "duration": 7,
    "start_time": "2023-10-10T15:59:38.406Z"
   },
   {
    "duration": 139,
    "start_time": "2023-10-10T15:59:38.414Z"
   },
   {
    "duration": 30,
    "start_time": "2023-10-10T15:59:38.555Z"
   },
   {
    "duration": 17,
    "start_time": "2023-10-10T15:59:38.587Z"
   },
   {
    "duration": 22,
    "start_time": "2023-10-10T15:59:38.606Z"
   },
   {
    "duration": 33,
    "start_time": "2023-10-10T15:59:38.630Z"
   },
   {
    "duration": 35,
    "start_time": "2023-10-10T15:59:38.665Z"
   },
   {
    "duration": 28,
    "start_time": "2023-10-10T15:59:38.702Z"
   },
   {
    "duration": 32,
    "start_time": "2023-10-10T15:59:38.732Z"
   },
   {
    "duration": 29,
    "start_time": "2023-10-10T15:59:38.766Z"
   },
   {
    "duration": 16,
    "start_time": "2023-10-10T15:59:38.797Z"
   },
   {
    "duration": 16,
    "start_time": "2023-10-10T15:59:38.815Z"
   },
   {
    "duration": 23,
    "start_time": "2023-10-10T15:59:38.833Z"
   },
   {
    "duration": 18,
    "start_time": "2023-10-10T15:59:38.858Z"
   },
   {
    "duration": 21,
    "start_time": "2023-10-10T15:59:38.878Z"
   },
   {
    "duration": 14,
    "start_time": "2023-10-10T15:59:38.900Z"
   },
   {
    "duration": 13,
    "start_time": "2023-10-10T15:59:38.916Z"
   },
   {
    "duration": 14,
    "start_time": "2023-10-10T15:59:38.931Z"
   },
   {
    "duration": 10,
    "start_time": "2023-10-10T15:59:38.947Z"
   },
   {
    "duration": 9,
    "start_time": "2023-10-10T15:59:38.959Z"
   },
   {
    "duration": 8,
    "start_time": "2023-10-10T15:59:38.973Z"
   },
   {
    "duration": 40,
    "start_time": "2023-10-10T15:59:38.982Z"
   },
   {
    "duration": 14,
    "start_time": "2023-10-10T15:59:39.024Z"
   },
   {
    "duration": 20,
    "start_time": "2023-10-10T15:59:39.039Z"
   },
   {
    "duration": 30,
    "start_time": "2023-10-10T15:59:39.061Z"
   },
   {
    "duration": 19,
    "start_time": "2023-10-10T15:59:39.093Z"
   },
   {
    "duration": 19,
    "start_time": "2023-10-10T15:59:39.114Z"
   },
   {
    "duration": 22,
    "start_time": "2023-10-10T15:59:39.134Z"
   },
   {
    "duration": 13,
    "start_time": "2023-10-10T15:59:39.157Z"
   },
   {
    "duration": 12,
    "start_time": "2023-10-10T15:59:39.171Z"
   },
   {
    "duration": 13,
    "start_time": "2023-10-10T15:59:39.184Z"
   },
   {
    "duration": 32,
    "start_time": "2023-10-10T15:59:39.199Z"
   },
   {
    "duration": 6,
    "start_time": "2023-10-10T15:59:39.232Z"
   },
   {
    "duration": 24,
    "start_time": "2023-10-10T15:59:39.240Z"
   },
   {
    "duration": 8,
    "start_time": "2023-10-10T15:59:39.266Z"
   },
   {
    "duration": 17,
    "start_time": "2023-10-10T15:59:39.276Z"
   },
   {
    "duration": 141,
    "start_time": "2023-10-10T15:59:39.295Z"
   },
   {
    "duration": 4,
    "start_time": "2023-10-10T15:59:39.438Z"
   },
   {
    "duration": 0,
    "start_time": "2023-10-10T15:59:39.446Z"
   },
   {
    "duration": 0,
    "start_time": "2023-10-10T15:59:39.448Z"
   },
   {
    "duration": 0,
    "start_time": "2023-10-10T15:59:39.449Z"
   },
   {
    "duration": 0,
    "start_time": "2023-10-10T15:59:39.450Z"
   },
   {
    "duration": 0,
    "start_time": "2023-10-10T15:59:39.451Z"
   },
   {
    "duration": 0,
    "start_time": "2023-10-10T15:59:39.453Z"
   },
   {
    "duration": 1,
    "start_time": "2023-10-10T15:59:39.453Z"
   },
   {
    "duration": 0,
    "start_time": "2023-10-10T15:59:39.455Z"
   },
   {
    "duration": 0,
    "start_time": "2023-10-10T15:59:39.456Z"
   },
   {
    "duration": 0,
    "start_time": "2023-10-10T15:59:39.457Z"
   },
   {
    "duration": 0,
    "start_time": "2023-10-10T15:59:39.458Z"
   },
   {
    "duration": 0,
    "start_time": "2023-10-10T15:59:39.459Z"
   },
   {
    "duration": 0,
    "start_time": "2023-10-10T15:59:39.459Z"
   },
   {
    "duration": 0,
    "start_time": "2023-10-10T15:59:39.461Z"
   },
   {
    "duration": 0,
    "start_time": "2023-10-10T15:59:39.462Z"
   },
   {
    "duration": 0,
    "start_time": "2023-10-10T15:59:39.462Z"
   },
   {
    "duration": 0,
    "start_time": "2023-10-10T15:59:39.463Z"
   },
   {
    "duration": 0,
    "start_time": "2023-10-10T15:59:39.465Z"
   },
   {
    "duration": 0,
    "start_time": "2023-10-10T15:59:39.465Z"
   },
   {
    "duration": 0,
    "start_time": "2023-10-10T15:59:39.466Z"
   },
   {
    "duration": 0,
    "start_time": "2023-10-10T15:59:39.467Z"
   },
   {
    "duration": 0,
    "start_time": "2023-10-10T15:59:39.469Z"
   },
   {
    "duration": 0,
    "start_time": "2023-10-10T15:59:39.470Z"
   },
   {
    "duration": 0,
    "start_time": "2023-10-10T15:59:39.471Z"
   },
   {
    "duration": 0,
    "start_time": "2023-10-10T15:59:39.472Z"
   },
   {
    "duration": 0,
    "start_time": "2023-10-10T15:59:39.473Z"
   },
   {
    "duration": 0,
    "start_time": "2023-10-10T15:59:39.474Z"
   },
   {
    "duration": 0,
    "start_time": "2023-10-10T15:59:39.476Z"
   },
   {
    "duration": 0,
    "start_time": "2023-10-10T15:59:39.477Z"
   },
   {
    "duration": 0,
    "start_time": "2023-10-10T15:59:39.478Z"
   },
   {
    "duration": 0,
    "start_time": "2023-10-10T15:59:39.479Z"
   },
   {
    "duration": 0,
    "start_time": "2023-10-10T15:59:39.480Z"
   },
   {
    "duration": 0,
    "start_time": "2023-10-10T15:59:39.481Z"
   },
   {
    "duration": 0,
    "start_time": "2023-10-10T15:59:39.482Z"
   },
   {
    "duration": 0,
    "start_time": "2023-10-10T15:59:39.483Z"
   },
   {
    "duration": 0,
    "start_time": "2023-10-10T15:59:39.485Z"
   },
   {
    "duration": 0,
    "start_time": "2023-10-10T15:59:39.547Z"
   },
   {
    "duration": 0,
    "start_time": "2023-10-10T15:59:39.548Z"
   },
   {
    "duration": 0,
    "start_time": "2023-10-10T15:59:39.549Z"
   },
   {
    "duration": 0,
    "start_time": "2023-10-10T15:59:39.553Z"
   },
   {
    "duration": 0,
    "start_time": "2023-10-10T15:59:39.554Z"
   },
   {
    "duration": 0,
    "start_time": "2023-10-10T15:59:39.555Z"
   },
   {
    "duration": 0,
    "start_time": "2023-10-10T15:59:39.556Z"
   },
   {
    "duration": 0,
    "start_time": "2023-10-10T15:59:39.558Z"
   },
   {
    "duration": 0,
    "start_time": "2023-10-10T15:59:39.559Z"
   },
   {
    "duration": 0,
    "start_time": "2023-10-10T15:59:39.561Z"
   },
   {
    "duration": 0,
    "start_time": "2023-10-10T15:59:39.562Z"
   },
   {
    "duration": 0,
    "start_time": "2023-10-10T15:59:39.563Z"
   },
   {
    "duration": 0,
    "start_time": "2023-10-10T15:59:39.565Z"
   },
   {
    "duration": 0,
    "start_time": "2023-10-10T15:59:39.566Z"
   },
   {
    "duration": 0,
    "start_time": "2023-10-10T15:59:39.567Z"
   },
   {
    "duration": 0,
    "start_time": "2023-10-10T15:59:39.568Z"
   },
   {
    "duration": 0,
    "start_time": "2023-10-10T15:59:39.569Z"
   },
   {
    "duration": 0,
    "start_time": "2023-10-10T15:59:39.570Z"
   },
   {
    "duration": 0,
    "start_time": "2023-10-10T15:59:39.571Z"
   },
   {
    "duration": 0,
    "start_time": "2023-10-10T15:59:39.572Z"
   },
   {
    "duration": 0,
    "start_time": "2023-10-10T15:59:39.574Z"
   },
   {
    "duration": 0,
    "start_time": "2023-10-10T15:59:39.575Z"
   },
   {
    "duration": 0,
    "start_time": "2023-10-10T15:59:39.576Z"
   },
   {
    "duration": 0,
    "start_time": "2023-10-10T15:59:39.577Z"
   },
   {
    "duration": 0,
    "start_time": "2023-10-10T15:59:39.578Z"
   },
   {
    "duration": 0,
    "start_time": "2023-10-10T15:59:39.580Z"
   },
   {
    "duration": 0,
    "start_time": "2023-10-10T15:59:39.581Z"
   },
   {
    "duration": 0,
    "start_time": "2023-10-10T15:59:39.582Z"
   },
   {
    "duration": 0,
    "start_time": "2023-10-10T15:59:39.647Z"
   },
   {
    "duration": 0,
    "start_time": "2023-10-10T15:59:39.649Z"
   },
   {
    "duration": 0,
    "start_time": "2023-10-10T15:59:39.650Z"
   },
   {
    "duration": 0,
    "start_time": "2023-10-10T15:59:39.651Z"
   },
   {
    "duration": 0,
    "start_time": "2023-10-10T15:59:39.652Z"
   },
   {
    "duration": 0,
    "start_time": "2023-10-10T15:59:39.654Z"
   },
   {
    "duration": 0,
    "start_time": "2023-10-10T15:59:39.655Z"
   },
   {
    "duration": 0,
    "start_time": "2023-10-10T15:59:39.656Z"
   },
   {
    "duration": 0,
    "start_time": "2023-10-10T15:59:39.657Z"
   },
   {
    "duration": 4,
    "start_time": "2023-10-10T16:00:27.980Z"
   },
   {
    "duration": 158,
    "start_time": "2023-10-10T16:00:28.467Z"
   },
   {
    "duration": 137,
    "start_time": "2023-10-10T16:01:22.212Z"
   },
   {
    "duration": 222,
    "start_time": "2023-10-10T16:02:13.212Z"
   },
   {
    "duration": 125,
    "start_time": "2023-10-10T16:02:21.325Z"
   },
   {
    "duration": 223,
    "start_time": "2023-10-10T16:02:31.348Z"
   },
   {
    "duration": 170,
    "start_time": "2023-10-10T16:02:40.800Z"
   },
   {
    "duration": 71,
    "start_time": "2023-10-10T16:03:24.070Z"
   },
   {
    "duration": 6,
    "start_time": "2023-10-10T16:12:00.602Z"
   },
   {
    "duration": 121,
    "start_time": "2023-10-10T16:12:01.562Z"
   },
   {
    "duration": 153,
    "start_time": "2023-10-10T16:12:15.434Z"
   },
   {
    "duration": 7,
    "start_time": "2023-10-10T16:13:11.931Z"
   },
   {
    "duration": 168,
    "start_time": "2023-10-10T16:13:13.483Z"
   },
   {
    "duration": 510,
    "start_time": "2023-10-10T16:13:24.227Z"
   },
   {
    "duration": 120,
    "start_time": "2023-10-10T16:13:49.079Z"
   },
   {
    "duration": 6,
    "start_time": "2023-10-10T16:14:11.299Z"
   },
   {
    "duration": 6,
    "start_time": "2023-10-10T16:14:11.907Z"
   },
   {
    "duration": 8,
    "start_time": "2023-10-10T16:14:18.829Z"
   },
   {
    "duration": 8,
    "start_time": "2023-10-10T16:14:19.163Z"
   },
   {
    "duration": 5,
    "start_time": "2023-10-10T16:14:19.796Z"
   },
   {
    "duration": 5,
    "start_time": "2023-10-10T16:14:20.260Z"
   },
   {
    "duration": 4,
    "start_time": "2023-10-10T16:14:20.996Z"
   },
   {
    "duration": 5,
    "start_time": "2023-10-10T16:14:33.044Z"
   },
   {
    "duration": 8,
    "start_time": "2023-10-10T16:16:17.046Z"
   },
   {
    "duration": 163,
    "start_time": "2023-10-10T16:16:53.666Z"
   },
   {
    "duration": 167,
    "start_time": "2023-10-10T16:19:57.503Z"
   },
   {
    "duration": 171,
    "start_time": "2023-10-10T16:20:36.864Z"
   },
   {
    "duration": 8,
    "start_time": "2023-10-10T16:21:54.399Z"
   },
   {
    "duration": 8,
    "start_time": "2023-10-10T16:21:57.302Z"
   },
   {
    "duration": 5,
    "start_time": "2023-10-10T16:21:58.407Z"
   },
   {
    "duration": 5,
    "start_time": "2023-10-10T16:21:58.943Z"
   },
   {
    "duration": 4,
    "start_time": "2023-10-10T16:22:05.095Z"
   },
   {
    "duration": 4,
    "start_time": "2023-10-10T16:22:05.681Z"
   },
   {
    "duration": 150,
    "start_time": "2023-10-10T16:22:07.671Z"
   },
   {
    "duration": 259,
    "start_time": "2023-10-10T16:23:45.052Z"
   },
   {
    "duration": 89,
    "start_time": "2023-10-10T16:26:13.825Z"
   },
   {
    "duration": 1300,
    "start_time": "2023-10-10T16:32:51.977Z"
   },
   {
    "duration": 30,
    "start_time": "2023-10-10T16:32:53.279Z"
   },
   {
    "duration": 12,
    "start_time": "2023-10-10T16:32:53.310Z"
   },
   {
    "duration": 49,
    "start_time": "2023-10-10T16:32:53.324Z"
   },
   {
    "duration": 233,
    "start_time": "2023-10-10T16:32:53.374Z"
   },
   {
    "duration": 6,
    "start_time": "2023-10-10T16:32:53.609Z"
   },
   {
    "duration": 201,
    "start_time": "2023-10-10T16:32:53.617Z"
   },
   {
    "duration": 6,
    "start_time": "2023-10-10T16:32:53.820Z"
   },
   {
    "duration": 132,
    "start_time": "2023-10-10T16:32:53.828Z"
   },
   {
    "duration": 29,
    "start_time": "2023-10-10T16:32:53.964Z"
   },
   {
    "duration": 12,
    "start_time": "2023-10-10T16:32:53.995Z"
   },
   {
    "duration": 27,
    "start_time": "2023-10-10T16:32:54.010Z"
   },
   {
    "duration": 21,
    "start_time": "2023-10-10T16:32:54.039Z"
   },
   {
    "duration": 16,
    "start_time": "2023-10-10T16:32:54.062Z"
   },
   {
    "duration": 15,
    "start_time": "2023-10-10T16:32:54.080Z"
   },
   {
    "duration": 12,
    "start_time": "2023-10-10T16:32:54.097Z"
   },
   {
    "duration": 16,
    "start_time": "2023-10-10T16:32:54.111Z"
   },
   {
    "duration": 16,
    "start_time": "2023-10-10T16:32:54.129Z"
   },
   {
    "duration": 18,
    "start_time": "2023-10-10T16:32:54.147Z"
   },
   {
    "duration": 8,
    "start_time": "2023-10-10T16:32:54.167Z"
   },
   {
    "duration": 17,
    "start_time": "2023-10-10T16:32:54.177Z"
   },
   {
    "duration": 17,
    "start_time": "2023-10-10T16:32:54.195Z"
   },
   {
    "duration": 5,
    "start_time": "2023-10-10T16:32:54.214Z"
   },
   {
    "duration": 23,
    "start_time": "2023-10-10T16:32:54.220Z"
   },
   {
    "duration": 22,
    "start_time": "2023-10-10T16:32:54.245Z"
   },
   {
    "duration": 9,
    "start_time": "2023-10-10T16:32:54.269Z"
   },
   {
    "duration": 25,
    "start_time": "2023-10-10T16:32:54.280Z"
   },
   {
    "duration": 21,
    "start_time": "2023-10-10T16:32:54.310Z"
   },
   {
    "duration": 18,
    "start_time": "2023-10-10T16:32:54.333Z"
   },
   {
    "duration": 21,
    "start_time": "2023-10-10T16:32:54.353Z"
   },
   {
    "duration": 9,
    "start_time": "2023-10-10T16:32:54.376Z"
   },
   {
    "duration": 11,
    "start_time": "2023-10-10T16:32:54.387Z"
   },
   {
    "duration": 20,
    "start_time": "2023-10-10T16:32:54.399Z"
   },
   {
    "duration": 16,
    "start_time": "2023-10-10T16:32:54.421Z"
   },
   {
    "duration": 148,
    "start_time": "2023-10-10T16:32:54.439Z"
   },
   {
    "duration": 181,
    "start_time": "2023-10-10T16:32:54.589Z"
   },
   {
    "duration": 6,
    "start_time": "2023-10-10T16:32:54.772Z"
   },
   {
    "duration": 141,
    "start_time": "2023-10-10T16:32:54.780Z"
   },
   {
    "duration": 5,
    "start_time": "2023-10-10T16:32:54.923Z"
   },
   {
    "duration": 198,
    "start_time": "2023-10-10T16:32:54.930Z"
   },
   {
    "duration": 6,
    "start_time": "2023-10-10T16:32:55.130Z"
   },
   {
    "duration": 21,
    "start_time": "2023-10-10T16:32:55.137Z"
   },
   {
    "duration": 35,
    "start_time": "2023-10-10T16:32:55.160Z"
   },
   {
    "duration": 21,
    "start_time": "2023-10-10T16:32:55.198Z"
   },
   {
    "duration": 7,
    "start_time": "2023-10-10T16:32:55.221Z"
   },
   {
    "duration": 16,
    "start_time": "2023-10-10T16:32:55.230Z"
   },
   {
    "duration": 25,
    "start_time": "2023-10-10T16:32:55.248Z"
   },
   {
    "duration": 22,
    "start_time": "2023-10-10T16:32:55.275Z"
   },
   {
    "duration": 29,
    "start_time": "2023-10-10T16:32:55.299Z"
   },
   {
    "duration": 200,
    "start_time": "2023-10-10T16:32:55.330Z"
   },
   {
    "duration": 15,
    "start_time": "2023-10-10T16:32:55.533Z"
   },
   {
    "duration": 7,
    "start_time": "2023-10-10T16:32:55.550Z"
   },
   {
    "duration": 28,
    "start_time": "2023-10-10T16:32:55.559Z"
   },
   {
    "duration": 17,
    "start_time": "2023-10-10T16:32:55.588Z"
   },
   {
    "duration": 16,
    "start_time": "2023-10-10T16:32:55.607Z"
   },
   {
    "duration": 18,
    "start_time": "2023-10-10T16:32:55.624Z"
   },
   {
    "duration": 47,
    "start_time": "2023-10-10T16:32:55.644Z"
   },
   {
    "duration": 254,
    "start_time": "2023-10-10T16:32:55.693Z"
   },
   {
    "duration": 4,
    "start_time": "2023-10-10T16:32:55.949Z"
   },
   {
    "duration": 0,
    "start_time": "2023-10-10T16:32:55.955Z"
   },
   {
    "duration": 0,
    "start_time": "2023-10-10T16:32:55.957Z"
   },
   {
    "duration": 0,
    "start_time": "2023-10-10T16:32:55.958Z"
   },
   {
    "duration": 0,
    "start_time": "2023-10-10T16:32:55.959Z"
   },
   {
    "duration": 0,
    "start_time": "2023-10-10T16:32:55.960Z"
   },
   {
    "duration": 0,
    "start_time": "2023-10-10T16:32:55.961Z"
   },
   {
    "duration": 0,
    "start_time": "2023-10-10T16:32:55.962Z"
   },
   {
    "duration": 0,
    "start_time": "2023-10-10T16:32:55.963Z"
   },
   {
    "duration": 0,
    "start_time": "2023-10-10T16:32:55.965Z"
   },
   {
    "duration": 0,
    "start_time": "2023-10-10T16:32:55.966Z"
   },
   {
    "duration": 0,
    "start_time": "2023-10-10T16:32:55.967Z"
   },
   {
    "duration": 0,
    "start_time": "2023-10-10T16:32:55.968Z"
   },
   {
    "duration": 0,
    "start_time": "2023-10-10T16:32:55.969Z"
   },
   {
    "duration": 0,
    "start_time": "2023-10-10T16:32:55.971Z"
   },
   {
    "duration": 0,
    "start_time": "2023-10-10T16:32:55.972Z"
   },
   {
    "duration": 0,
    "start_time": "2023-10-10T16:32:55.973Z"
   },
   {
    "duration": 0,
    "start_time": "2023-10-10T16:32:55.975Z"
   },
   {
    "duration": 0,
    "start_time": "2023-10-10T16:32:55.976Z"
   },
   {
    "duration": 0,
    "start_time": "2023-10-10T16:32:55.978Z"
   },
   {
    "duration": 0,
    "start_time": "2023-10-10T16:32:55.979Z"
   },
   {
    "duration": 0,
    "start_time": "2023-10-10T16:32:55.980Z"
   },
   {
    "duration": 0,
    "start_time": "2023-10-10T16:32:55.981Z"
   },
   {
    "duration": 0,
    "start_time": "2023-10-10T16:32:55.982Z"
   },
   {
    "duration": 0,
    "start_time": "2023-10-10T16:32:55.983Z"
   },
   {
    "duration": 0,
    "start_time": "2023-10-10T16:32:55.985Z"
   },
   {
    "duration": 0,
    "start_time": "2023-10-10T16:32:55.986Z"
   },
   {
    "duration": 0,
    "start_time": "2023-10-10T16:32:55.987Z"
   },
   {
    "duration": 0,
    "start_time": "2023-10-10T16:32:55.988Z"
   },
   {
    "duration": 0,
    "start_time": "2023-10-10T16:32:55.989Z"
   },
   {
    "duration": 0,
    "start_time": "2023-10-10T16:32:56.047Z"
   },
   {
    "duration": 0,
    "start_time": "2023-10-10T16:32:56.048Z"
   },
   {
    "duration": 0,
    "start_time": "2023-10-10T16:32:56.049Z"
   },
   {
    "duration": 0,
    "start_time": "2023-10-10T16:32:56.050Z"
   },
   {
    "duration": 0,
    "start_time": "2023-10-10T16:32:56.051Z"
   },
   {
    "duration": 0,
    "start_time": "2023-10-10T16:32:56.051Z"
   },
   {
    "duration": 0,
    "start_time": "2023-10-10T16:32:56.052Z"
   },
   {
    "duration": 0,
    "start_time": "2023-10-10T16:32:56.053Z"
   },
   {
    "duration": 0,
    "start_time": "2023-10-10T16:32:56.054Z"
   },
   {
    "duration": 0,
    "start_time": "2023-10-10T16:32:56.055Z"
   },
   {
    "duration": 0,
    "start_time": "2023-10-10T16:32:56.055Z"
   },
   {
    "duration": 0,
    "start_time": "2023-10-10T16:32:56.056Z"
   },
   {
    "duration": 0,
    "start_time": "2023-10-10T16:32:56.061Z"
   },
   {
    "duration": 0,
    "start_time": "2023-10-10T16:32:56.062Z"
   },
   {
    "duration": 0,
    "start_time": "2023-10-10T16:32:56.063Z"
   },
   {
    "duration": 0,
    "start_time": "2023-10-10T16:32:56.063Z"
   },
   {
    "duration": 0,
    "start_time": "2023-10-10T16:32:56.064Z"
   },
   {
    "duration": 0,
    "start_time": "2023-10-10T16:32:56.065Z"
   },
   {
    "duration": 0,
    "start_time": "2023-10-10T16:32:56.066Z"
   },
   {
    "duration": 0,
    "start_time": "2023-10-10T16:32:56.066Z"
   },
   {
    "duration": 82,
    "start_time": "2023-10-10T16:34:21.192Z"
   },
   {
    "duration": 1266,
    "start_time": "2023-10-10T16:38:29.158Z"
   },
   {
    "duration": 29,
    "start_time": "2023-10-10T16:38:30.426Z"
   },
   {
    "duration": 386,
    "start_time": "2023-10-10T16:38:30.457Z"
   },
   {
    "duration": 136,
    "start_time": "2023-10-10T16:38:30.846Z"
   },
   {
    "duration": 106,
    "start_time": "2023-10-10T16:38:30.984Z"
   },
   {
    "duration": 211,
    "start_time": "2023-10-10T16:38:31.091Z"
   },
   {
    "duration": 576,
    "start_time": "2023-10-10T16:38:31.303Z"
   },
   {
    "duration": 43,
    "start_time": "2023-10-10T16:38:31.881Z"
   },
   {
    "duration": 23,
    "start_time": "2023-10-10T16:38:31.925Z"
   },
   {
    "duration": 22,
    "start_time": "2023-10-10T16:38:31.951Z"
   },
   {
    "duration": 68,
    "start_time": "2023-10-10T16:38:31.974Z"
   },
   {
    "duration": 28,
    "start_time": "2023-10-10T16:38:32.043Z"
   },
   {
    "duration": 29,
    "start_time": "2023-10-10T16:38:32.073Z"
   },
   {
    "duration": 20,
    "start_time": "2023-10-10T16:38:32.104Z"
   },
   {
    "duration": 24,
    "start_time": "2023-10-10T16:38:32.126Z"
   },
   {
    "duration": 42,
    "start_time": "2023-10-10T16:38:32.152Z"
   },
   {
    "duration": 20,
    "start_time": "2023-10-10T16:38:32.196Z"
   },
   {
    "duration": 27,
    "start_time": "2023-10-10T16:38:32.218Z"
   },
   {
    "duration": 38,
    "start_time": "2023-10-10T16:38:32.247Z"
   },
   {
    "duration": 25,
    "start_time": "2023-10-10T16:38:32.287Z"
   },
   {
    "duration": 43,
    "start_time": "2023-10-10T16:38:32.314Z"
   },
   {
    "duration": 82,
    "start_time": "2023-10-10T16:38:32.359Z"
   },
   {
    "duration": 30,
    "start_time": "2023-10-10T16:38:32.443Z"
   },
   {
    "duration": 52,
    "start_time": "2023-10-10T16:38:32.475Z"
   },
   {
    "duration": 34,
    "start_time": "2023-10-10T16:38:32.529Z"
   },
   {
    "duration": 37,
    "start_time": "2023-10-10T16:38:32.565Z"
   },
   {
    "duration": 61,
    "start_time": "2023-10-10T16:38:32.604Z"
   },
   {
    "duration": 30,
    "start_time": "2023-10-10T16:38:32.669Z"
   },
   {
    "duration": 31,
    "start_time": "2023-10-10T16:38:32.701Z"
   },
   {
    "duration": 28,
    "start_time": "2023-10-10T16:38:32.734Z"
   },
   {
    "duration": 109,
    "start_time": "2023-10-10T16:38:32.764Z"
   },
   {
    "duration": 207,
    "start_time": "2023-10-10T16:38:32.875Z"
   },
   {
    "duration": 188,
    "start_time": "2023-10-10T16:38:33.084Z"
   },
   {
    "duration": 6,
    "start_time": "2023-10-10T16:38:33.274Z"
   },
   {
    "duration": 507,
    "start_time": "2023-10-10T16:38:33.281Z"
   },
   {
    "duration": 171,
    "start_time": "2023-10-10T16:38:33.790Z"
   },
   {
    "duration": 206,
    "start_time": "2023-10-10T16:38:33.963Z"
   },
   {
    "duration": 7,
    "start_time": "2023-10-10T16:38:34.170Z"
   },
   {
    "duration": 11,
    "start_time": "2023-10-10T16:38:34.179Z"
   },
   {
    "duration": 11,
    "start_time": "2023-10-10T16:38:34.192Z"
   },
   {
    "duration": 8,
    "start_time": "2023-10-10T16:38:34.204Z"
   },
   {
    "duration": 33,
    "start_time": "2023-10-10T16:38:34.214Z"
   },
   {
    "duration": 2,
    "start_time": "2023-10-10T16:38:34.249Z"
   },
   {
    "duration": 34,
    "start_time": "2023-10-10T16:38:34.253Z"
   },
   {
    "duration": 30,
    "start_time": "2023-10-10T16:38:34.290Z"
   },
   {
    "duration": 16,
    "start_time": "2023-10-10T16:38:34.322Z"
   },
   {
    "duration": 212,
    "start_time": "2023-10-10T16:38:34.340Z"
   },
   {
    "duration": 8,
    "start_time": "2023-10-10T16:38:34.554Z"
   },
   {
    "duration": 83,
    "start_time": "2023-10-10T16:38:34.564Z"
   },
   {
    "duration": 2,
    "start_time": "2023-10-10T16:38:34.649Z"
   },
   {
    "duration": 4,
    "start_time": "2023-10-10T16:38:34.653Z"
   },
   {
    "duration": 33,
    "start_time": "2023-10-10T16:38:34.659Z"
   },
   {
    "duration": 16,
    "start_time": "2023-10-10T16:38:34.694Z"
   },
   {
    "duration": 57,
    "start_time": "2023-10-10T16:38:34.711Z"
   },
   {
    "duration": 195,
    "start_time": "2023-10-10T16:38:34.770Z"
   },
   {
    "duration": 3,
    "start_time": "2023-10-10T16:38:34.967Z"
   },
   {
    "duration": 0,
    "start_time": "2023-10-10T16:38:34.973Z"
   },
   {
    "duration": 0,
    "start_time": "2023-10-10T16:38:34.974Z"
   },
   {
    "duration": 0,
    "start_time": "2023-10-10T16:38:34.975Z"
   },
   {
    "duration": 0,
    "start_time": "2023-10-10T16:38:34.977Z"
   },
   {
    "duration": 0,
    "start_time": "2023-10-10T16:38:34.978Z"
   },
   {
    "duration": 0,
    "start_time": "2023-10-10T16:38:34.979Z"
   },
   {
    "duration": 0,
    "start_time": "2023-10-10T16:38:34.981Z"
   },
   {
    "duration": 0,
    "start_time": "2023-10-10T16:38:34.982Z"
   },
   {
    "duration": 0,
    "start_time": "2023-10-10T16:38:34.983Z"
   },
   {
    "duration": 0,
    "start_time": "2023-10-10T16:38:34.984Z"
   },
   {
    "duration": 0,
    "start_time": "2023-10-10T16:38:34.985Z"
   },
   {
    "duration": 0,
    "start_time": "2023-10-10T16:38:34.986Z"
   },
   {
    "duration": 0,
    "start_time": "2023-10-10T16:38:34.987Z"
   },
   {
    "duration": 0,
    "start_time": "2023-10-10T16:38:34.989Z"
   },
   {
    "duration": 0,
    "start_time": "2023-10-10T16:38:34.990Z"
   },
   {
    "duration": 0,
    "start_time": "2023-10-10T16:38:34.991Z"
   },
   {
    "duration": 0,
    "start_time": "2023-10-10T16:38:34.992Z"
   },
   {
    "duration": 0,
    "start_time": "2023-10-10T16:38:34.993Z"
   },
   {
    "duration": 0,
    "start_time": "2023-10-10T16:38:34.994Z"
   },
   {
    "duration": 0,
    "start_time": "2023-10-10T16:38:34.995Z"
   },
   {
    "duration": 0,
    "start_time": "2023-10-10T16:38:34.996Z"
   },
   {
    "duration": 0,
    "start_time": "2023-10-10T16:38:35.047Z"
   },
   {
    "duration": 0,
    "start_time": "2023-10-10T16:38:35.048Z"
   },
   {
    "duration": 0,
    "start_time": "2023-10-10T16:38:35.049Z"
   },
   {
    "duration": 0,
    "start_time": "2023-10-10T16:38:35.051Z"
   },
   {
    "duration": 0,
    "start_time": "2023-10-10T16:38:35.052Z"
   },
   {
    "duration": 0,
    "start_time": "2023-10-10T16:38:35.053Z"
   },
   {
    "duration": 0,
    "start_time": "2023-10-10T16:38:35.054Z"
   },
   {
    "duration": 0,
    "start_time": "2023-10-10T16:38:35.056Z"
   },
   {
    "duration": 0,
    "start_time": "2023-10-10T16:38:35.057Z"
   },
   {
    "duration": 0,
    "start_time": "2023-10-10T16:38:35.058Z"
   },
   {
    "duration": 0,
    "start_time": "2023-10-10T16:38:35.059Z"
   },
   {
    "duration": 0,
    "start_time": "2023-10-10T16:38:35.060Z"
   },
   {
    "duration": 0,
    "start_time": "2023-10-10T16:38:35.061Z"
   },
   {
    "duration": 0,
    "start_time": "2023-10-10T16:38:35.063Z"
   },
   {
    "duration": 0,
    "start_time": "2023-10-10T16:38:35.065Z"
   },
   {
    "duration": 0,
    "start_time": "2023-10-10T16:38:35.066Z"
   },
   {
    "duration": 0,
    "start_time": "2023-10-10T16:38:35.067Z"
   },
   {
    "duration": 0,
    "start_time": "2023-10-10T16:38:35.068Z"
   },
   {
    "duration": 0,
    "start_time": "2023-10-10T16:38:35.069Z"
   },
   {
    "duration": 0,
    "start_time": "2023-10-10T16:38:35.070Z"
   },
   {
    "duration": 0,
    "start_time": "2023-10-10T16:38:35.071Z"
   },
   {
    "duration": 0,
    "start_time": "2023-10-10T16:38:35.072Z"
   },
   {
    "duration": 0,
    "start_time": "2023-10-10T16:38:35.073Z"
   },
   {
    "duration": 0,
    "start_time": "2023-10-10T16:38:35.074Z"
   },
   {
    "duration": 0,
    "start_time": "2023-10-10T16:38:35.076Z"
   },
   {
    "duration": 0,
    "start_time": "2023-10-10T16:38:35.076Z"
   },
   {
    "duration": 0,
    "start_time": "2023-10-10T16:38:35.077Z"
   },
   {
    "duration": 0,
    "start_time": "2023-10-10T16:38:35.079Z"
   },
   {
    "duration": 91,
    "start_time": "2023-10-10T16:42:59.630Z"
   },
   {
    "duration": 11,
    "start_time": "2023-10-10T16:46:15.958Z"
   },
   {
    "duration": 10,
    "start_time": "2023-10-10T16:46:18.807Z"
   },
   {
    "duration": 20,
    "start_time": "2023-10-10T16:46:38.271Z"
   },
   {
    "duration": 16,
    "start_time": "2023-10-10T16:47:01.127Z"
   },
   {
    "duration": 11,
    "start_time": "2023-10-10T16:47:35.513Z"
   },
   {
    "duration": 1309,
    "start_time": "2023-10-10T16:48:49.095Z"
   },
   {
    "duration": 30,
    "start_time": "2023-10-10T16:48:50.407Z"
   },
   {
    "duration": 13,
    "start_time": "2023-10-10T16:48:50.438Z"
   },
   {
    "duration": 47,
    "start_time": "2023-10-10T16:48:50.453Z"
   },
   {
    "duration": 36,
    "start_time": "2023-10-10T16:48:50.502Z"
   },
   {
    "duration": 19,
    "start_time": "2023-10-10T16:48:50.540Z"
   },
   {
    "duration": 50,
    "start_time": "2023-10-10T16:48:50.561Z"
   },
   {
    "duration": 23,
    "start_time": "2023-10-10T16:48:50.613Z"
   },
   {
    "duration": 40,
    "start_time": "2023-10-10T16:48:50.638Z"
   },
   {
    "duration": 25,
    "start_time": "2023-10-10T16:48:50.682Z"
   },
   {
    "duration": 38,
    "start_time": "2023-10-10T16:48:50.710Z"
   },
   {
    "duration": 51,
    "start_time": "2023-10-10T16:48:50.750Z"
   },
   {
    "duration": 33,
    "start_time": "2023-10-10T16:48:50.803Z"
   },
   {
    "duration": 53,
    "start_time": "2023-10-10T16:48:50.838Z"
   },
   {
    "duration": 51,
    "start_time": "2023-10-10T16:48:50.893Z"
   },
   {
    "duration": 55,
    "start_time": "2023-10-10T16:48:50.946Z"
   },
   {
    "duration": 81,
    "start_time": "2023-10-10T16:48:51.003Z"
   },
   {
    "duration": 81,
    "start_time": "2023-10-10T16:48:51.085Z"
   },
   {
    "duration": 16,
    "start_time": "2023-10-10T16:48:51.168Z"
   },
   {
    "duration": 34,
    "start_time": "2023-10-10T16:48:51.186Z"
   },
   {
    "duration": 27,
    "start_time": "2023-10-10T16:48:51.221Z"
   },
   {
    "duration": 32,
    "start_time": "2023-10-10T16:48:51.250Z"
   },
   {
    "duration": 54,
    "start_time": "2023-10-10T16:48:51.283Z"
   },
   {
    "duration": 66,
    "start_time": "2023-10-10T16:48:51.339Z"
   },
   {
    "duration": 45,
    "start_time": "2023-10-10T16:48:51.407Z"
   },
   {
    "duration": 43,
    "start_time": "2023-10-10T16:48:51.453Z"
   },
   {
    "duration": 57,
    "start_time": "2023-10-10T16:48:51.498Z"
   },
   {
    "duration": 31,
    "start_time": "2023-10-10T16:48:51.561Z"
   },
   {
    "duration": 72,
    "start_time": "2023-10-10T16:48:51.594Z"
   },
   {
    "duration": 26,
    "start_time": "2023-10-10T16:48:51.668Z"
   },
   {
    "duration": 36,
    "start_time": "2023-10-10T16:48:51.696Z"
   },
   {
    "duration": 178,
    "start_time": "2023-10-10T16:48:51.734Z"
   },
   {
    "duration": 200,
    "start_time": "2023-10-10T16:48:51.913Z"
   },
   {
    "duration": 6,
    "start_time": "2023-10-10T16:48:52.115Z"
   },
   {
    "duration": 137,
    "start_time": "2023-10-10T16:48:52.123Z"
   },
   {
    "duration": 8,
    "start_time": "2023-10-10T16:48:52.262Z"
   },
   {
    "duration": 211,
    "start_time": "2023-10-10T16:48:52.271Z"
   },
   {
    "duration": 6,
    "start_time": "2023-10-10T16:48:52.484Z"
   },
   {
    "duration": 40,
    "start_time": "2023-10-10T16:48:52.491Z"
   },
   {
    "duration": 26,
    "start_time": "2023-10-10T16:48:52.533Z"
   },
   {
    "duration": 25,
    "start_time": "2023-10-10T16:48:52.560Z"
   },
   {
    "duration": 32,
    "start_time": "2023-10-10T16:48:52.586Z"
   },
   {
    "duration": 50,
    "start_time": "2023-10-10T16:48:52.619Z"
   },
   {
    "duration": 19,
    "start_time": "2023-10-10T16:48:52.671Z"
   },
   {
    "duration": 71,
    "start_time": "2023-10-10T16:48:52.691Z"
   },
   {
    "duration": 36,
    "start_time": "2023-10-10T16:48:52.763Z"
   },
   {
    "duration": 167,
    "start_time": "2023-10-10T16:48:52.801Z"
   },
   {
    "duration": 8,
    "start_time": "2023-10-10T16:48:52.971Z"
   },
   {
    "duration": 24,
    "start_time": "2023-10-10T16:48:52.981Z"
   },
   {
    "duration": 15,
    "start_time": "2023-10-10T16:48:53.007Z"
   },
   {
    "duration": 21,
    "start_time": "2023-10-10T16:48:53.023Z"
   },
   {
    "duration": 45,
    "start_time": "2023-10-10T16:48:53.045Z"
   },
   {
    "duration": 28,
    "start_time": "2023-10-10T16:48:53.091Z"
   },
   {
    "duration": 33,
    "start_time": "2023-10-10T16:48:53.120Z"
   },
   {
    "duration": 172,
    "start_time": "2023-10-10T16:48:53.155Z"
   },
   {
    "duration": 2,
    "start_time": "2023-10-10T16:48:53.330Z"
   },
   {
    "duration": 17,
    "start_time": "2023-10-10T16:48:53.334Z"
   },
   {
    "duration": 20,
    "start_time": "2023-10-10T16:48:53.353Z"
   },
   {
    "duration": 22,
    "start_time": "2023-10-10T16:48:53.375Z"
   },
   {
    "duration": 28,
    "start_time": "2023-10-10T16:48:53.398Z"
   },
   {
    "duration": 31,
    "start_time": "2023-10-10T16:48:53.428Z"
   },
   {
    "duration": 11,
    "start_time": "2023-10-10T16:48:53.460Z"
   },
   {
    "duration": 28,
    "start_time": "2023-10-10T16:48:53.472Z"
   },
   {
    "duration": 117,
    "start_time": "2023-10-10T16:48:53.502Z"
   },
   {
    "duration": 0,
    "start_time": "2023-10-10T16:48:53.622Z"
   },
   {
    "duration": 0,
    "start_time": "2023-10-10T16:48:53.623Z"
   },
   {
    "duration": 0,
    "start_time": "2023-10-10T16:48:53.624Z"
   },
   {
    "duration": 0,
    "start_time": "2023-10-10T16:48:53.626Z"
   },
   {
    "duration": 0,
    "start_time": "2023-10-10T16:48:53.627Z"
   },
   {
    "duration": 0,
    "start_time": "2023-10-10T16:48:53.628Z"
   },
   {
    "duration": 0,
    "start_time": "2023-10-10T16:48:53.629Z"
   },
   {
    "duration": 0,
    "start_time": "2023-10-10T16:48:53.630Z"
   },
   {
    "duration": 0,
    "start_time": "2023-10-10T16:48:53.631Z"
   },
   {
    "duration": 0,
    "start_time": "2023-10-10T16:48:53.632Z"
   },
   {
    "duration": 0,
    "start_time": "2023-10-10T16:48:53.646Z"
   },
   {
    "duration": 0,
    "start_time": "2023-10-10T16:48:53.648Z"
   },
   {
    "duration": 0,
    "start_time": "2023-10-10T16:48:53.649Z"
   },
   {
    "duration": 0,
    "start_time": "2023-10-10T16:48:53.650Z"
   },
   {
    "duration": 0,
    "start_time": "2023-10-10T16:48:53.651Z"
   },
   {
    "duration": 0,
    "start_time": "2023-10-10T16:48:53.652Z"
   },
   {
    "duration": 0,
    "start_time": "2023-10-10T16:48:53.653Z"
   },
   {
    "duration": 0,
    "start_time": "2023-10-10T16:48:53.654Z"
   },
   {
    "duration": 0,
    "start_time": "2023-10-10T16:48:53.655Z"
   },
   {
    "duration": 0,
    "start_time": "2023-10-10T16:48:53.656Z"
   },
   {
    "duration": 0,
    "start_time": "2023-10-10T16:48:53.657Z"
   },
   {
    "duration": 0,
    "start_time": "2023-10-10T16:48:53.658Z"
   },
   {
    "duration": 0,
    "start_time": "2023-10-10T16:48:53.659Z"
   },
   {
    "duration": 1,
    "start_time": "2023-10-10T16:48:53.660Z"
   },
   {
    "duration": 0,
    "start_time": "2023-10-10T16:48:53.661Z"
   },
   {
    "duration": 0,
    "start_time": "2023-10-10T16:48:53.662Z"
   },
   {
    "duration": 0,
    "start_time": "2023-10-10T16:48:53.664Z"
   },
   {
    "duration": 0,
    "start_time": "2023-10-10T16:48:53.665Z"
   },
   {
    "duration": 0,
    "start_time": "2023-10-10T16:48:53.666Z"
   },
   {
    "duration": 0,
    "start_time": "2023-10-10T16:48:53.667Z"
   },
   {
    "duration": 0,
    "start_time": "2023-10-10T16:48:53.668Z"
   },
   {
    "duration": 0,
    "start_time": "2023-10-10T16:48:53.669Z"
   },
   {
    "duration": 0,
    "start_time": "2023-10-10T16:48:53.670Z"
   },
   {
    "duration": 0,
    "start_time": "2023-10-10T16:48:53.671Z"
   },
   {
    "duration": 0,
    "start_time": "2023-10-10T16:48:53.673Z"
   },
   {
    "duration": 0,
    "start_time": "2023-10-10T16:48:53.674Z"
   },
   {
    "duration": 0,
    "start_time": "2023-10-10T16:48:53.675Z"
   },
   {
    "duration": 0,
    "start_time": "2023-10-10T16:48:53.676Z"
   },
   {
    "duration": 0,
    "start_time": "2023-10-10T16:48:53.677Z"
   },
   {
    "duration": 0,
    "start_time": "2023-10-10T16:48:53.678Z"
   },
   {
    "duration": 0,
    "start_time": "2023-10-10T16:48:53.679Z"
   },
   {
    "duration": 0,
    "start_time": "2023-10-10T16:48:53.680Z"
   },
   {
    "duration": 0,
    "start_time": "2023-10-10T16:48:53.681Z"
   },
   {
    "duration": 0,
    "start_time": "2023-10-10T16:48:53.683Z"
   },
   {
    "duration": 0,
    "start_time": "2023-10-10T16:48:53.684Z"
   },
   {
    "duration": 1286,
    "start_time": "2023-10-10T16:51:48.820Z"
   },
   {
    "duration": 29,
    "start_time": "2023-10-10T16:51:50.108Z"
   },
   {
    "duration": 13,
    "start_time": "2023-10-10T16:51:50.139Z"
   },
   {
    "duration": 28,
    "start_time": "2023-10-10T16:51:50.154Z"
   },
   {
    "duration": 17,
    "start_time": "2023-10-10T16:51:50.183Z"
   },
   {
    "duration": 31,
    "start_time": "2023-10-10T16:51:50.201Z"
   },
   {
    "duration": 64,
    "start_time": "2023-10-10T16:51:50.234Z"
   },
   {
    "duration": 14,
    "start_time": "2023-10-10T16:51:50.303Z"
   },
   {
    "duration": 39,
    "start_time": "2023-10-10T16:51:50.319Z"
   },
   {
    "duration": 43,
    "start_time": "2023-10-10T16:51:50.361Z"
   },
   {
    "duration": 38,
    "start_time": "2023-10-10T16:51:50.406Z"
   },
   {
    "duration": 29,
    "start_time": "2023-10-10T16:51:50.446Z"
   },
   {
    "duration": 28,
    "start_time": "2023-10-10T16:51:50.477Z"
   },
   {
    "duration": 27,
    "start_time": "2023-10-10T16:51:50.507Z"
   },
   {
    "duration": 31,
    "start_time": "2023-10-10T16:51:50.536Z"
   },
   {
    "duration": 21,
    "start_time": "2023-10-10T16:51:50.568Z"
   },
   {
    "duration": 43,
    "start_time": "2023-10-10T16:51:50.590Z"
   },
   {
    "duration": 27,
    "start_time": "2023-10-10T16:51:50.635Z"
   },
   {
    "duration": 26,
    "start_time": "2023-10-10T16:51:50.664Z"
   },
   {
    "duration": 39,
    "start_time": "2023-10-10T16:51:50.692Z"
   },
   {
    "duration": 40,
    "start_time": "2023-10-10T16:51:50.733Z"
   },
   {
    "duration": 28,
    "start_time": "2023-10-10T16:51:50.775Z"
   },
   {
    "duration": 38,
    "start_time": "2023-10-10T16:51:50.805Z"
   },
   {
    "duration": 32,
    "start_time": "2023-10-10T16:51:50.845Z"
   },
   {
    "duration": 40,
    "start_time": "2023-10-10T16:51:50.878Z"
   },
   {
    "duration": 38,
    "start_time": "2023-10-10T16:51:50.920Z"
   },
   {
    "duration": 8,
    "start_time": "2023-10-10T16:51:50.960Z"
   },
   {
    "duration": 47,
    "start_time": "2023-10-10T16:51:50.972Z"
   },
   {
    "duration": 24,
    "start_time": "2023-10-10T16:51:51.020Z"
   },
   {
    "duration": 23,
    "start_time": "2023-10-10T16:51:51.046Z"
   },
   {
    "duration": 12,
    "start_time": "2023-10-10T16:51:51.071Z"
   },
   {
    "duration": 185,
    "start_time": "2023-10-10T16:51:51.085Z"
   },
   {
    "duration": 189,
    "start_time": "2023-10-10T16:51:51.272Z"
   },
   {
    "duration": 6,
    "start_time": "2023-10-10T16:51:51.463Z"
   },
   {
    "duration": 131,
    "start_time": "2023-10-10T16:51:51.471Z"
   },
   {
    "duration": 6,
    "start_time": "2023-10-10T16:51:51.603Z"
   },
   {
    "duration": 190,
    "start_time": "2023-10-10T16:51:51.611Z"
   },
   {
    "duration": 6,
    "start_time": "2023-10-10T16:51:51.803Z"
   },
   {
    "duration": 36,
    "start_time": "2023-10-10T16:51:51.810Z"
   },
   {
    "duration": 17,
    "start_time": "2023-10-10T16:51:51.848Z"
   },
   {
    "duration": 7,
    "start_time": "2023-10-10T16:51:51.867Z"
   },
   {
    "duration": 7,
    "start_time": "2023-10-10T16:51:51.875Z"
   },
   {
    "duration": 17,
    "start_time": "2023-10-10T16:51:51.883Z"
   },
   {
    "duration": 26,
    "start_time": "2023-10-10T16:51:51.901Z"
   },
   {
    "duration": 29,
    "start_time": "2023-10-10T16:51:51.928Z"
   },
   {
    "duration": 17,
    "start_time": "2023-10-10T16:51:51.959Z"
   },
   {
    "duration": 185,
    "start_time": "2023-10-10T16:51:51.978Z"
   },
   {
    "duration": 7,
    "start_time": "2023-10-10T16:51:52.165Z"
   },
   {
    "duration": 30,
    "start_time": "2023-10-10T16:51:52.173Z"
   },
   {
    "duration": 22,
    "start_time": "2023-10-10T16:51:52.204Z"
   },
   {
    "duration": 18,
    "start_time": "2023-10-10T16:51:52.228Z"
   },
   {
    "duration": 16,
    "start_time": "2023-10-10T16:51:52.248Z"
   },
   {
    "duration": 34,
    "start_time": "2023-10-10T16:51:52.265Z"
   },
   {
    "duration": 33,
    "start_time": "2023-10-10T16:51:52.301Z"
   },
   {
    "duration": 188,
    "start_time": "2023-10-10T16:51:52.336Z"
   },
   {
    "duration": 3,
    "start_time": "2023-10-10T16:51:52.526Z"
   },
   {
    "duration": 12,
    "start_time": "2023-10-10T16:51:52.530Z"
   },
   {
    "duration": 22,
    "start_time": "2023-10-10T16:51:52.547Z"
   },
   {
    "duration": 10,
    "start_time": "2023-10-10T16:51:52.570Z"
   },
   {
    "duration": 41,
    "start_time": "2023-10-10T16:51:52.582Z"
   },
   {
    "duration": 15,
    "start_time": "2023-10-10T16:51:52.625Z"
   },
   {
    "duration": 12,
    "start_time": "2023-10-10T16:51:52.642Z"
   },
   {
    "duration": 24,
    "start_time": "2023-10-10T16:51:52.656Z"
   },
   {
    "duration": 112,
    "start_time": "2023-10-10T16:51:52.682Z"
   },
   {
    "duration": 0,
    "start_time": "2023-10-10T16:51:52.796Z"
   },
   {
    "duration": 0,
    "start_time": "2023-10-10T16:51:52.797Z"
   },
   {
    "duration": 0,
    "start_time": "2023-10-10T16:51:52.799Z"
   },
   {
    "duration": 0,
    "start_time": "2023-10-10T16:51:52.799Z"
   },
   {
    "duration": 0,
    "start_time": "2023-10-10T16:51:52.800Z"
   },
   {
    "duration": 0,
    "start_time": "2023-10-10T16:51:52.801Z"
   },
   {
    "duration": 0,
    "start_time": "2023-10-10T16:51:52.802Z"
   },
   {
    "duration": 0,
    "start_time": "2023-10-10T16:51:52.803Z"
   },
   {
    "duration": 0,
    "start_time": "2023-10-10T16:51:52.804Z"
   },
   {
    "duration": 0,
    "start_time": "2023-10-10T16:51:52.806Z"
   },
   {
    "duration": 0,
    "start_time": "2023-10-10T16:51:52.807Z"
   },
   {
    "duration": 0,
    "start_time": "2023-10-10T16:51:52.808Z"
   },
   {
    "duration": 0,
    "start_time": "2023-10-10T16:51:52.809Z"
   },
   {
    "duration": 0,
    "start_time": "2023-10-10T16:51:52.810Z"
   },
   {
    "duration": 0,
    "start_time": "2023-10-10T16:51:52.811Z"
   },
   {
    "duration": 0,
    "start_time": "2023-10-10T16:51:52.812Z"
   },
   {
    "duration": 0,
    "start_time": "2023-10-10T16:51:52.813Z"
   },
   {
    "duration": 0,
    "start_time": "2023-10-10T16:51:52.814Z"
   },
   {
    "duration": 0,
    "start_time": "2023-10-10T16:51:52.815Z"
   },
   {
    "duration": 0,
    "start_time": "2023-10-10T16:51:52.816Z"
   },
   {
    "duration": 0,
    "start_time": "2023-10-10T16:51:52.817Z"
   },
   {
    "duration": 0,
    "start_time": "2023-10-10T16:51:52.818Z"
   },
   {
    "duration": 0,
    "start_time": "2023-10-10T16:51:52.846Z"
   },
   {
    "duration": 0,
    "start_time": "2023-10-10T16:51:52.847Z"
   },
   {
    "duration": 0,
    "start_time": "2023-10-10T16:51:52.848Z"
   },
   {
    "duration": 0,
    "start_time": "2023-10-10T16:51:52.849Z"
   },
   {
    "duration": 0,
    "start_time": "2023-10-10T16:51:52.850Z"
   },
   {
    "duration": 0,
    "start_time": "2023-10-10T16:51:52.851Z"
   },
   {
    "duration": 0,
    "start_time": "2023-10-10T16:51:52.852Z"
   },
   {
    "duration": 0,
    "start_time": "2023-10-10T16:51:52.853Z"
   },
   {
    "duration": 0,
    "start_time": "2023-10-10T16:51:52.853Z"
   },
   {
    "duration": 0,
    "start_time": "2023-10-10T16:51:52.854Z"
   },
   {
    "duration": 0,
    "start_time": "2023-10-10T16:51:52.856Z"
   },
   {
    "duration": 0,
    "start_time": "2023-10-10T16:51:52.857Z"
   },
   {
    "duration": 0,
    "start_time": "2023-10-10T16:51:52.858Z"
   },
   {
    "duration": 0,
    "start_time": "2023-10-10T16:51:52.859Z"
   },
   {
    "duration": 0,
    "start_time": "2023-10-10T16:51:52.860Z"
   },
   {
    "duration": 0,
    "start_time": "2023-10-10T16:51:52.862Z"
   },
   {
    "duration": 0,
    "start_time": "2023-10-10T16:51:52.863Z"
   },
   {
    "duration": 0,
    "start_time": "2023-10-10T16:51:52.864Z"
   },
   {
    "duration": 0,
    "start_time": "2023-10-10T16:51:52.865Z"
   },
   {
    "duration": 0,
    "start_time": "2023-10-10T16:51:52.866Z"
   },
   {
    "duration": 0,
    "start_time": "2023-10-10T16:51:52.867Z"
   },
   {
    "duration": 0,
    "start_time": "2023-10-10T16:51:52.868Z"
   },
   {
    "duration": 0,
    "start_time": "2023-10-10T16:51:52.869Z"
   },
   {
    "duration": 1269,
    "start_time": "2023-10-10T16:52:44.390Z"
   },
   {
    "duration": 30,
    "start_time": "2023-10-10T16:52:45.661Z"
   },
   {
    "duration": 13,
    "start_time": "2023-10-10T16:52:45.692Z"
   },
   {
    "duration": 35,
    "start_time": "2023-10-10T16:52:45.707Z"
   },
   {
    "duration": 22,
    "start_time": "2023-10-10T16:52:45.744Z"
   },
   {
    "duration": 24,
    "start_time": "2023-10-10T16:52:45.768Z"
   },
   {
    "duration": 45,
    "start_time": "2023-10-10T16:52:45.794Z"
   },
   {
    "duration": 13,
    "start_time": "2023-10-10T16:52:45.840Z"
   },
   {
    "duration": 28,
    "start_time": "2023-10-10T16:52:45.855Z"
   },
   {
    "duration": 24,
    "start_time": "2023-10-10T16:52:45.886Z"
   },
   {
    "duration": 14,
    "start_time": "2023-10-10T16:52:45.912Z"
   },
   {
    "duration": 45,
    "start_time": "2023-10-10T16:52:45.927Z"
   },
   {
    "duration": 11,
    "start_time": "2023-10-10T16:52:45.974Z"
   },
   {
    "duration": 29,
    "start_time": "2023-10-10T16:52:45.987Z"
   },
   {
    "duration": 18,
    "start_time": "2023-10-10T16:52:46.018Z"
   },
   {
    "duration": 26,
    "start_time": "2023-10-10T16:52:46.038Z"
   },
   {
    "duration": 24,
    "start_time": "2023-10-10T16:52:46.066Z"
   },
   {
    "duration": 28,
    "start_time": "2023-10-10T16:52:46.092Z"
   },
   {
    "duration": 28,
    "start_time": "2023-10-10T16:52:46.122Z"
   },
   {
    "duration": 26,
    "start_time": "2023-10-10T16:52:46.152Z"
   },
   {
    "duration": 25,
    "start_time": "2023-10-10T16:52:46.180Z"
   },
   {
    "duration": 20,
    "start_time": "2023-10-10T16:52:46.207Z"
   },
   {
    "duration": 13,
    "start_time": "2023-10-10T16:52:46.229Z"
   },
   {
    "duration": 33,
    "start_time": "2023-10-10T16:52:46.244Z"
   },
   {
    "duration": 31,
    "start_time": "2023-10-10T16:52:46.278Z"
   },
   {
    "duration": 7,
    "start_time": "2023-10-10T16:52:46.311Z"
   },
   {
    "duration": 27,
    "start_time": "2023-10-10T16:52:46.320Z"
   },
   {
    "duration": 25,
    "start_time": "2023-10-10T16:52:46.351Z"
   },
   {
    "duration": 35,
    "start_time": "2023-10-10T16:52:46.378Z"
   },
   {
    "duration": 14,
    "start_time": "2023-10-10T16:52:46.415Z"
   },
   {
    "duration": 8,
    "start_time": "2023-10-10T16:52:46.431Z"
   },
   {
    "duration": 184,
    "start_time": "2023-10-10T16:52:46.440Z"
   },
   {
    "duration": 200,
    "start_time": "2023-10-10T16:52:46.626Z"
   },
   {
    "duration": 8,
    "start_time": "2023-10-10T16:52:46.828Z"
   },
   {
    "duration": 320,
    "start_time": "2023-10-10T16:52:46.847Z"
   },
   {
    "duration": 6,
    "start_time": "2023-10-10T16:52:47.168Z"
   },
   {
    "duration": 190,
    "start_time": "2023-10-10T16:52:47.176Z"
   },
   {
    "duration": 5,
    "start_time": "2023-10-10T16:52:47.368Z"
   },
   {
    "duration": 35,
    "start_time": "2023-10-10T16:52:47.375Z"
   },
   {
    "duration": 25,
    "start_time": "2023-10-10T16:52:47.412Z"
   },
   {
    "duration": 13,
    "start_time": "2023-10-10T16:52:47.439Z"
   },
   {
    "duration": 9,
    "start_time": "2023-10-10T16:52:47.453Z"
   },
   {
    "duration": 18,
    "start_time": "2023-10-10T16:52:47.464Z"
   },
   {
    "duration": 14,
    "start_time": "2023-10-10T16:52:47.484Z"
   },
   {
    "duration": 13,
    "start_time": "2023-10-10T16:52:47.500Z"
   },
   {
    "duration": 19,
    "start_time": "2023-10-10T16:52:47.515Z"
   },
   {
    "duration": 192,
    "start_time": "2023-10-10T16:52:47.536Z"
   },
   {
    "duration": 8,
    "start_time": "2023-10-10T16:52:47.730Z"
   },
   {
    "duration": 19,
    "start_time": "2023-10-10T16:52:47.739Z"
   },
   {
    "duration": 3,
    "start_time": "2023-10-10T16:52:47.760Z"
   },
   {
    "duration": 14,
    "start_time": "2023-10-10T16:52:47.764Z"
   },
   {
    "duration": 21,
    "start_time": "2023-10-10T16:52:47.780Z"
   },
   {
    "duration": 4,
    "start_time": "2023-10-10T16:52:47.803Z"
   },
   {
    "duration": 10,
    "start_time": "2023-10-10T16:52:47.809Z"
   },
   {
    "duration": 173,
    "start_time": "2023-10-10T16:52:47.821Z"
   },
   {
    "duration": 4,
    "start_time": "2023-10-10T16:52:47.995Z"
   },
   {
    "duration": 5,
    "start_time": "2023-10-10T16:52:48.000Z"
   },
   {
    "duration": 14,
    "start_time": "2023-10-10T16:52:48.007Z"
   },
   {
    "duration": 3,
    "start_time": "2023-10-10T16:52:48.023Z"
   },
   {
    "duration": 34,
    "start_time": "2023-10-10T16:52:48.027Z"
   },
   {
    "duration": 14,
    "start_time": "2023-10-10T16:52:48.062Z"
   },
   {
    "duration": 11,
    "start_time": "2023-10-10T16:52:48.077Z"
   },
   {
    "duration": 11,
    "start_time": "2023-10-10T16:52:48.090Z"
   },
   {
    "duration": 137,
    "start_time": "2023-10-10T16:52:48.103Z"
   },
   {
    "duration": 0,
    "start_time": "2023-10-10T16:52:48.247Z"
   },
   {
    "duration": 0,
    "start_time": "2023-10-10T16:52:48.249Z"
   },
   {
    "duration": 0,
    "start_time": "2023-10-10T16:52:48.250Z"
   },
   {
    "duration": 0,
    "start_time": "2023-10-10T16:52:48.251Z"
   },
   {
    "duration": 0,
    "start_time": "2023-10-10T16:52:48.252Z"
   },
   {
    "duration": 0,
    "start_time": "2023-10-10T16:52:48.253Z"
   },
   {
    "duration": 0,
    "start_time": "2023-10-10T16:52:48.255Z"
   },
   {
    "duration": 0,
    "start_time": "2023-10-10T16:52:48.256Z"
   },
   {
    "duration": 0,
    "start_time": "2023-10-10T16:52:48.257Z"
   },
   {
    "duration": 0,
    "start_time": "2023-10-10T16:52:48.258Z"
   },
   {
    "duration": 0,
    "start_time": "2023-10-10T16:52:48.259Z"
   },
   {
    "duration": 0,
    "start_time": "2023-10-10T16:52:48.260Z"
   },
   {
    "duration": 0,
    "start_time": "2023-10-10T16:52:48.261Z"
   },
   {
    "duration": 0,
    "start_time": "2023-10-10T16:52:48.263Z"
   },
   {
    "duration": 0,
    "start_time": "2023-10-10T16:52:48.264Z"
   },
   {
    "duration": 0,
    "start_time": "2023-10-10T16:52:48.265Z"
   },
   {
    "duration": 0,
    "start_time": "2023-10-10T16:52:48.266Z"
   },
   {
    "duration": 0,
    "start_time": "2023-10-10T16:52:48.267Z"
   },
   {
    "duration": 0,
    "start_time": "2023-10-10T16:52:48.268Z"
   },
   {
    "duration": 0,
    "start_time": "2023-10-10T16:52:48.269Z"
   },
   {
    "duration": 0,
    "start_time": "2023-10-10T16:52:48.270Z"
   },
   {
    "duration": 0,
    "start_time": "2023-10-10T16:52:48.271Z"
   },
   {
    "duration": 0,
    "start_time": "2023-10-10T16:52:48.272Z"
   },
   {
    "duration": 0,
    "start_time": "2023-10-10T16:52:48.273Z"
   },
   {
    "duration": 0,
    "start_time": "2023-10-10T16:52:48.274Z"
   },
   {
    "duration": 0,
    "start_time": "2023-10-10T16:52:48.275Z"
   },
   {
    "duration": 0,
    "start_time": "2023-10-10T16:52:48.276Z"
   },
   {
    "duration": 0,
    "start_time": "2023-10-10T16:52:48.277Z"
   },
   {
    "duration": 0,
    "start_time": "2023-10-10T16:52:48.278Z"
   },
   {
    "duration": 0,
    "start_time": "2023-10-10T16:52:48.280Z"
   },
   {
    "duration": 0,
    "start_time": "2023-10-10T16:52:48.281Z"
   },
   {
    "duration": 0,
    "start_time": "2023-10-10T16:52:48.282Z"
   },
   {
    "duration": 0,
    "start_time": "2023-10-10T16:52:48.282Z"
   },
   {
    "duration": 0,
    "start_time": "2023-10-10T16:52:48.283Z"
   },
   {
    "duration": 0,
    "start_time": "2023-10-10T16:52:48.284Z"
   },
   {
    "duration": 0,
    "start_time": "2023-10-10T16:52:48.347Z"
   },
   {
    "duration": 0,
    "start_time": "2023-10-10T16:52:48.348Z"
   },
   {
    "duration": 0,
    "start_time": "2023-10-10T16:52:48.349Z"
   },
   {
    "duration": 0,
    "start_time": "2023-10-10T16:52:48.351Z"
   },
   {
    "duration": 0,
    "start_time": "2023-10-10T16:52:48.352Z"
   },
   {
    "duration": 0,
    "start_time": "2023-10-10T16:52:48.353Z"
   },
   {
    "duration": 0,
    "start_time": "2023-10-10T16:52:48.354Z"
   },
   {
    "duration": 0,
    "start_time": "2023-10-10T16:52:48.355Z"
   },
   {
    "duration": 0,
    "start_time": "2023-10-10T16:52:48.356Z"
   },
   {
    "duration": 0,
    "start_time": "2023-10-10T16:52:48.358Z"
   },
   {
    "duration": 1266,
    "start_time": "2023-10-10T16:57:23.034Z"
   },
   {
    "duration": 30,
    "start_time": "2023-10-10T16:57:24.302Z"
   },
   {
    "duration": 18,
    "start_time": "2023-10-10T16:57:24.334Z"
   },
   {
    "duration": 44,
    "start_time": "2023-10-10T16:57:24.354Z"
   },
   {
    "duration": 22,
    "start_time": "2023-10-10T16:57:24.400Z"
   },
   {
    "duration": 45,
    "start_time": "2023-10-10T16:57:24.424Z"
   },
   {
    "duration": 84,
    "start_time": "2023-10-10T16:57:24.471Z"
   },
   {
    "duration": 14,
    "start_time": "2023-10-10T16:57:24.556Z"
   },
   {
    "duration": 28,
    "start_time": "2023-10-10T16:57:24.572Z"
   },
   {
    "duration": 26,
    "start_time": "2023-10-10T16:57:24.603Z"
   },
   {
    "duration": 28,
    "start_time": "2023-10-10T16:57:24.631Z"
   },
   {
    "duration": 24,
    "start_time": "2023-10-10T16:57:24.661Z"
   },
   {
    "duration": 11,
    "start_time": "2023-10-10T16:57:24.687Z"
   },
   {
    "duration": 67,
    "start_time": "2023-10-10T16:57:24.700Z"
   },
   {
    "duration": 68,
    "start_time": "2023-10-10T16:57:24.769Z"
   },
   {
    "duration": 55,
    "start_time": "2023-10-10T16:57:24.839Z"
   },
   {
    "duration": 27,
    "start_time": "2023-10-10T16:57:24.896Z"
   },
   {
    "duration": 36,
    "start_time": "2023-10-10T16:57:24.925Z"
   },
   {
    "duration": 24,
    "start_time": "2023-10-10T16:57:24.963Z"
   },
   {
    "duration": 38,
    "start_time": "2023-10-10T16:57:24.989Z"
   },
   {
    "duration": 36,
    "start_time": "2023-10-10T16:57:25.029Z"
   },
   {
    "duration": 21,
    "start_time": "2023-10-10T16:57:25.066Z"
   },
   {
    "duration": 19,
    "start_time": "2023-10-10T16:57:25.088Z"
   },
   {
    "duration": 10,
    "start_time": "2023-10-10T16:57:25.109Z"
   },
   {
    "duration": 48,
    "start_time": "2023-10-10T16:57:25.120Z"
   },
   {
    "duration": 17,
    "start_time": "2023-10-10T16:57:25.170Z"
   },
   {
    "duration": 28,
    "start_time": "2023-10-10T16:57:25.189Z"
   },
   {
    "duration": 32,
    "start_time": "2023-10-10T16:57:25.224Z"
   },
   {
    "duration": 47,
    "start_time": "2023-10-10T16:57:25.258Z"
   },
   {
    "duration": 48,
    "start_time": "2023-10-10T16:57:25.307Z"
   },
   {
    "duration": 66,
    "start_time": "2023-10-10T16:57:25.357Z"
   },
   {
    "duration": 179,
    "start_time": "2023-10-10T16:57:25.425Z"
   },
   {
    "duration": 199,
    "start_time": "2023-10-10T16:57:25.607Z"
   },
   {
    "duration": 6,
    "start_time": "2023-10-10T16:57:25.808Z"
   },
   {
    "duration": 187,
    "start_time": "2023-10-10T16:57:25.816Z"
   },
   {
    "duration": 7,
    "start_time": "2023-10-10T16:57:26.005Z"
   },
   {
    "duration": 276,
    "start_time": "2023-10-10T16:57:26.013Z"
   },
   {
    "duration": 6,
    "start_time": "2023-10-10T16:57:26.291Z"
   },
   {
    "duration": 49,
    "start_time": "2023-10-10T16:57:26.298Z"
   },
   {
    "duration": 42,
    "start_time": "2023-10-10T16:57:26.349Z"
   },
   {
    "duration": 39,
    "start_time": "2023-10-10T16:57:26.392Z"
   },
   {
    "duration": 17,
    "start_time": "2023-10-10T16:57:26.433Z"
   },
   {
    "duration": 61,
    "start_time": "2023-10-10T16:57:26.452Z"
   },
   {
    "duration": 96,
    "start_time": "2023-10-10T16:57:26.515Z"
   },
   {
    "duration": 45,
    "start_time": "2023-10-10T16:57:26.613Z"
   },
   {
    "duration": 174,
    "start_time": "2023-10-10T16:57:26.660Z"
   },
   {
    "duration": 433,
    "start_time": "2023-10-10T16:57:26.836Z"
   },
   {
    "duration": 8,
    "start_time": "2023-10-10T16:57:27.271Z"
   },
   {
    "duration": 34,
    "start_time": "2023-10-10T16:57:27.281Z"
   },
   {
    "duration": 38,
    "start_time": "2023-10-10T16:57:27.317Z"
   },
   {
    "duration": 34,
    "start_time": "2023-10-10T16:57:27.357Z"
   },
   {
    "duration": 36,
    "start_time": "2023-10-10T16:57:27.393Z"
   },
   {
    "duration": 36,
    "start_time": "2023-10-10T16:57:27.431Z"
   },
   {
    "duration": 42,
    "start_time": "2023-10-10T16:57:27.469Z"
   },
   {
    "duration": 185,
    "start_time": "2023-10-10T16:57:27.513Z"
   },
   {
    "duration": 14,
    "start_time": "2023-10-10T16:57:27.700Z"
   },
   {
    "duration": 59,
    "start_time": "2023-10-10T16:57:27.716Z"
   },
   {
    "duration": 67,
    "start_time": "2023-10-10T16:57:27.777Z"
   },
   {
    "duration": 169,
    "start_time": "2023-10-10T16:57:27.846Z"
   },
   {
    "duration": 0,
    "start_time": "2023-10-10T16:57:28.018Z"
   },
   {
    "duration": 0,
    "start_time": "2023-10-10T16:57:28.019Z"
   },
   {
    "duration": 0,
    "start_time": "2023-10-10T16:57:28.020Z"
   },
   {
    "duration": 0,
    "start_time": "2023-10-10T16:57:28.021Z"
   },
   {
    "duration": 0,
    "start_time": "2023-10-10T16:57:28.023Z"
   },
   {
    "duration": 0,
    "start_time": "2023-10-10T16:57:28.023Z"
   },
   {
    "duration": 0,
    "start_time": "2023-10-10T16:57:28.025Z"
   },
   {
    "duration": 0,
    "start_time": "2023-10-10T16:57:28.026Z"
   },
   {
    "duration": 0,
    "start_time": "2023-10-10T16:57:28.027Z"
   },
   {
    "duration": 0,
    "start_time": "2023-10-10T16:57:28.028Z"
   },
   {
    "duration": 0,
    "start_time": "2023-10-10T16:57:28.047Z"
   },
   {
    "duration": 0,
    "start_time": "2023-10-10T16:57:28.048Z"
   },
   {
    "duration": 0,
    "start_time": "2023-10-10T16:57:28.049Z"
   },
   {
    "duration": 0,
    "start_time": "2023-10-10T16:57:28.050Z"
   },
   {
    "duration": 0,
    "start_time": "2023-10-10T16:57:28.051Z"
   },
   {
    "duration": 0,
    "start_time": "2023-10-10T16:57:28.053Z"
   },
   {
    "duration": 0,
    "start_time": "2023-10-10T16:57:28.054Z"
   },
   {
    "duration": 0,
    "start_time": "2023-10-10T16:57:28.055Z"
   },
   {
    "duration": 0,
    "start_time": "2023-10-10T16:57:28.056Z"
   },
   {
    "duration": 0,
    "start_time": "2023-10-10T16:57:28.058Z"
   },
   {
    "duration": 0,
    "start_time": "2023-10-10T16:57:28.059Z"
   },
   {
    "duration": 0,
    "start_time": "2023-10-10T16:57:28.060Z"
   },
   {
    "duration": 0,
    "start_time": "2023-10-10T16:57:28.061Z"
   },
   {
    "duration": 0,
    "start_time": "2023-10-10T16:57:28.062Z"
   },
   {
    "duration": 0,
    "start_time": "2023-10-10T16:57:28.064Z"
   },
   {
    "duration": 0,
    "start_time": "2023-10-10T16:57:28.065Z"
   },
   {
    "duration": 0,
    "start_time": "2023-10-10T16:57:28.066Z"
   },
   {
    "duration": 0,
    "start_time": "2023-10-10T16:57:28.067Z"
   },
   {
    "duration": 1,
    "start_time": "2023-10-10T16:57:28.068Z"
   },
   {
    "duration": 0,
    "start_time": "2023-10-10T16:57:28.070Z"
   },
   {
    "duration": 0,
    "start_time": "2023-10-10T16:57:28.071Z"
   },
   {
    "duration": 0,
    "start_time": "2023-10-10T16:57:28.072Z"
   },
   {
    "duration": 0,
    "start_time": "2023-10-10T16:57:28.073Z"
   },
   {
    "duration": 0,
    "start_time": "2023-10-10T16:57:28.074Z"
   },
   {
    "duration": 0,
    "start_time": "2023-10-10T16:57:28.075Z"
   },
   {
    "duration": 0,
    "start_time": "2023-10-10T16:57:28.076Z"
   },
   {
    "duration": 0,
    "start_time": "2023-10-10T16:57:28.077Z"
   },
   {
    "duration": 1,
    "start_time": "2023-10-10T16:57:28.078Z"
   },
   {
    "duration": 0,
    "start_time": "2023-10-10T16:57:28.079Z"
   },
   {
    "duration": 0,
    "start_time": "2023-10-10T16:57:28.081Z"
   },
   {
    "duration": 0,
    "start_time": "2023-10-10T16:57:28.082Z"
   },
   {
    "duration": 0,
    "start_time": "2023-10-10T16:57:28.083Z"
   },
   {
    "duration": 0,
    "start_time": "2023-10-10T16:57:28.085Z"
   },
   {
    "duration": 0,
    "start_time": "2023-10-10T16:57:28.147Z"
   },
   {
    "duration": 0,
    "start_time": "2023-10-10T16:57:28.148Z"
   },
   {
    "duration": 0,
    "start_time": "2023-10-10T16:57:28.150Z"
   },
   {
    "duration": 0,
    "start_time": "2023-10-10T16:57:28.151Z"
   },
   {
    "duration": 0,
    "start_time": "2023-10-10T16:57:28.152Z"
   },
   {
    "duration": 0,
    "start_time": "2023-10-10T16:57:28.154Z"
   },
   {
    "duration": 0,
    "start_time": "2023-10-10T16:57:28.156Z"
   },
   {
    "duration": 0,
    "start_time": "2023-10-10T16:57:28.157Z"
   },
   {
    "duration": 0,
    "start_time": "2023-10-10T16:57:28.159Z"
   },
   {
    "duration": 0,
    "start_time": "2023-10-10T16:57:28.160Z"
   },
   {
    "duration": 0,
    "start_time": "2023-10-10T16:57:28.161Z"
   },
   {
    "duration": 11,
    "start_time": "2023-10-10T16:59:04.652Z"
   },
   {
    "duration": 13,
    "start_time": "2023-10-10T16:59:05.333Z"
   },
   {
    "duration": 21,
    "start_time": "2023-10-10T16:59:08.548Z"
   },
   {
    "duration": 16,
    "start_time": "2023-10-10T16:59:15.029Z"
   },
   {
    "duration": 9,
    "start_time": "2023-10-10T17:00:13.230Z"
   },
   {
    "duration": 11,
    "start_time": "2023-10-10T17:00:13.806Z"
   },
   {
    "duration": 8,
    "start_time": "2023-10-10T17:00:27.593Z"
   },
   {
    "duration": 20,
    "start_time": "2023-10-10T17:00:28.886Z"
   },
   {
    "duration": 6,
    "start_time": "2023-10-10T17:00:33.654Z"
   },
   {
    "duration": 22,
    "start_time": "2023-10-10T17:00:34.783Z"
   },
   {
    "duration": 230,
    "start_time": "2023-10-10T17:00:49.766Z"
   },
   {
    "duration": 323,
    "start_time": "2023-10-10T17:05:56.876Z"
   },
   {
    "duration": 213,
    "start_time": "2023-10-10T17:08:25.359Z"
   },
   {
    "duration": 213,
    "start_time": "2023-10-10T17:09:16.560Z"
   },
   {
    "duration": 280,
    "start_time": "2023-10-10T17:10:57.841Z"
   },
   {
    "duration": 264,
    "start_time": "2023-10-10T17:12:21.707Z"
   },
   {
    "duration": 275,
    "start_time": "2023-10-10T17:12:31.235Z"
   },
   {
    "duration": 301,
    "start_time": "2023-10-10T17:12:51.635Z"
   },
   {
    "duration": 11,
    "start_time": "2023-10-10T17:15:58.726Z"
   },
   {
    "duration": 10,
    "start_time": "2023-10-10T17:16:11.687Z"
   },
   {
    "duration": 11,
    "start_time": "2023-10-10T17:16:21.567Z"
   },
   {
    "duration": 10,
    "start_time": "2023-10-10T17:17:36.784Z"
   },
   {
    "duration": 10,
    "start_time": "2023-10-10T17:17:37.391Z"
   },
   {
    "duration": 8,
    "start_time": "2023-10-10T17:17:37.775Z"
   },
   {
    "duration": 1341,
    "start_time": "2023-10-10T17:31:19.599Z"
   },
   {
    "duration": 33,
    "start_time": "2023-10-10T17:31:20.942Z"
   },
   {
    "duration": 13,
    "start_time": "2023-10-10T17:31:20.977Z"
   },
   {
    "duration": 36,
    "start_time": "2023-10-10T17:31:20.992Z"
   },
   {
    "duration": 13,
    "start_time": "2023-10-10T17:31:21.029Z"
   },
   {
    "duration": 38,
    "start_time": "2023-10-10T17:31:21.044Z"
   },
   {
    "duration": 73,
    "start_time": "2023-10-10T17:31:21.084Z"
   },
   {
    "duration": 18,
    "start_time": "2023-10-10T17:31:21.158Z"
   },
   {
    "duration": 27,
    "start_time": "2023-10-10T17:31:21.178Z"
   },
   {
    "duration": 33,
    "start_time": "2023-10-10T17:31:21.208Z"
   },
   {
    "duration": 39,
    "start_time": "2023-10-10T17:31:21.242Z"
   },
   {
    "duration": 29,
    "start_time": "2023-10-10T17:31:21.282Z"
   },
   {
    "duration": 23,
    "start_time": "2023-10-10T17:31:21.314Z"
   },
   {
    "duration": 38,
    "start_time": "2023-10-10T17:31:21.338Z"
   },
   {
    "duration": 37,
    "start_time": "2023-10-10T17:31:21.378Z"
   },
   {
    "duration": 15,
    "start_time": "2023-10-10T17:31:21.417Z"
   },
   {
    "duration": 15,
    "start_time": "2023-10-10T17:31:21.434Z"
   },
   {
    "duration": 8,
    "start_time": "2023-10-10T17:31:21.451Z"
   },
   {
    "duration": 14,
    "start_time": "2023-10-10T17:31:21.461Z"
   },
   {
    "duration": 13,
    "start_time": "2023-10-10T17:31:21.477Z"
   },
   {
    "duration": 33,
    "start_time": "2023-10-10T17:31:21.491Z"
   },
   {
    "duration": 19,
    "start_time": "2023-10-10T17:31:21.526Z"
   },
   {
    "duration": 45,
    "start_time": "2023-10-10T17:31:21.547Z"
   },
   {
    "duration": 30,
    "start_time": "2023-10-10T17:31:21.593Z"
   },
   {
    "duration": 50,
    "start_time": "2023-10-10T17:31:21.624Z"
   },
   {
    "duration": 31,
    "start_time": "2023-10-10T17:31:21.675Z"
   },
   {
    "duration": 21,
    "start_time": "2023-10-10T17:31:21.707Z"
   },
   {
    "duration": 9,
    "start_time": "2023-10-10T17:31:21.733Z"
   },
   {
    "duration": 36,
    "start_time": "2023-10-10T17:31:21.744Z"
   },
   {
    "duration": 8,
    "start_time": "2023-10-10T17:31:21.782Z"
   },
   {
    "duration": 10,
    "start_time": "2023-10-10T17:31:21.792Z"
   },
   {
    "duration": 191,
    "start_time": "2023-10-10T17:31:21.803Z"
   },
   {
    "duration": 205,
    "start_time": "2023-10-10T17:31:21.996Z"
   },
   {
    "duration": 8,
    "start_time": "2023-10-10T17:31:22.205Z"
   },
   {
    "duration": 149,
    "start_time": "2023-10-10T17:31:22.215Z"
   },
   {
    "duration": 6,
    "start_time": "2023-10-10T17:31:22.366Z"
   },
   {
    "duration": 199,
    "start_time": "2023-10-10T17:31:22.373Z"
   },
   {
    "duration": 7,
    "start_time": "2023-10-10T17:31:22.574Z"
   },
   {
    "duration": 12,
    "start_time": "2023-10-10T17:31:22.583Z"
   },
   {
    "duration": 26,
    "start_time": "2023-10-10T17:31:22.597Z"
   },
   {
    "duration": 18,
    "start_time": "2023-10-10T17:31:22.625Z"
   },
   {
    "duration": 22,
    "start_time": "2023-10-10T17:31:22.645Z"
   },
   {
    "duration": 11,
    "start_time": "2023-10-10T17:31:22.669Z"
   },
   {
    "duration": 19,
    "start_time": "2023-10-10T17:31:22.681Z"
   },
   {
    "duration": 8,
    "start_time": "2023-10-10T17:31:22.701Z"
   },
   {
    "duration": 32,
    "start_time": "2023-10-10T17:31:22.711Z"
   },
   {
    "duration": 186,
    "start_time": "2023-10-10T17:31:22.745Z"
   },
   {
    "duration": 17,
    "start_time": "2023-10-10T17:31:22.933Z"
   },
   {
    "duration": 11,
    "start_time": "2023-10-10T17:31:22.951Z"
   },
   {
    "duration": 16,
    "start_time": "2023-10-10T17:31:22.965Z"
   },
   {
    "duration": 22,
    "start_time": "2023-10-10T17:31:22.983Z"
   },
   {
    "duration": 33,
    "start_time": "2023-10-10T17:31:23.008Z"
   },
   {
    "duration": 27,
    "start_time": "2023-10-10T17:31:23.044Z"
   },
   {
    "duration": 26,
    "start_time": "2023-10-10T17:31:23.074Z"
   },
   {
    "duration": 212,
    "start_time": "2023-10-10T17:31:23.102Z"
   },
   {
    "duration": 12,
    "start_time": "2023-10-10T17:31:23.316Z"
   },
   {
    "duration": 45,
    "start_time": "2023-10-10T17:31:23.329Z"
   },
   {
    "duration": 26,
    "start_time": "2023-10-10T17:31:23.376Z"
   },
   {
    "duration": 44,
    "start_time": "2023-10-10T17:31:23.404Z"
   },
   {
    "duration": 44,
    "start_time": "2023-10-10T17:31:23.450Z"
   },
   {
    "duration": 60,
    "start_time": "2023-10-10T17:31:23.496Z"
   },
   {
    "duration": 29,
    "start_time": "2023-10-10T17:31:23.558Z"
   },
   {
    "duration": 32,
    "start_time": "2023-10-10T17:31:23.588Z"
   },
   {
    "duration": 62,
    "start_time": "2023-10-10T17:31:23.621Z"
   },
   {
    "duration": 61,
    "start_time": "2023-10-10T17:31:23.685Z"
   },
   {
    "duration": 56,
    "start_time": "2023-10-10T17:31:23.747Z"
   },
   {
    "duration": 245,
    "start_time": "2023-10-10T17:31:23.805Z"
   },
   {
    "duration": 250,
    "start_time": "2023-10-10T17:31:24.052Z"
   },
   {
    "duration": 294,
    "start_time": "2023-10-10T17:31:24.304Z"
   },
   {
    "duration": 233,
    "start_time": "2023-10-10T17:31:24.600Z"
   },
   {
    "duration": 277,
    "start_time": "2023-10-10T17:31:24.834Z"
   },
   {
    "duration": 375,
    "start_time": "2023-10-10T17:31:25.113Z"
   },
   {
    "duration": 8,
    "start_time": "2023-10-10T17:31:25.490Z"
   },
   {
    "duration": 19,
    "start_time": "2023-10-10T17:31:25.500Z"
   },
   {
    "duration": 25,
    "start_time": "2023-10-10T17:31:25.521Z"
   },
   {
    "duration": 27,
    "start_time": "2023-10-10T17:31:25.547Z"
   },
   {
    "duration": 129,
    "start_time": "2023-10-10T17:31:25.576Z"
   },
   {
    "duration": 0,
    "start_time": "2023-10-10T17:31:25.708Z"
   },
   {
    "duration": 0,
    "start_time": "2023-10-10T17:31:25.711Z"
   },
   {
    "duration": 0,
    "start_time": "2023-10-10T17:31:25.712Z"
   },
   {
    "duration": 0,
    "start_time": "2023-10-10T17:31:25.713Z"
   },
   {
    "duration": 0,
    "start_time": "2023-10-10T17:31:25.714Z"
   },
   {
    "duration": 0,
    "start_time": "2023-10-10T17:31:25.716Z"
   },
   {
    "duration": 0,
    "start_time": "2023-10-10T17:31:25.717Z"
   },
   {
    "duration": 0,
    "start_time": "2023-10-10T17:31:25.718Z"
   },
   {
    "duration": 0,
    "start_time": "2023-10-10T17:31:25.719Z"
   },
   {
    "duration": 0,
    "start_time": "2023-10-10T17:31:25.721Z"
   },
   {
    "duration": 0,
    "start_time": "2023-10-10T17:31:25.722Z"
   },
   {
    "duration": 0,
    "start_time": "2023-10-10T17:31:25.747Z"
   },
   {
    "duration": 0,
    "start_time": "2023-10-10T17:31:25.748Z"
   },
   {
    "duration": 0,
    "start_time": "2023-10-10T17:31:25.749Z"
   },
   {
    "duration": 0,
    "start_time": "2023-10-10T17:31:25.750Z"
   },
   {
    "duration": 0,
    "start_time": "2023-10-10T17:31:25.751Z"
   },
   {
    "duration": 0,
    "start_time": "2023-10-10T17:31:25.752Z"
   },
   {
    "duration": 0,
    "start_time": "2023-10-10T17:31:25.753Z"
   },
   {
    "duration": 0,
    "start_time": "2023-10-10T17:31:25.754Z"
   },
   {
    "duration": 0,
    "start_time": "2023-10-10T17:31:25.755Z"
   },
   {
    "duration": 0,
    "start_time": "2023-10-10T17:31:25.757Z"
   },
   {
    "duration": 0,
    "start_time": "2023-10-10T17:31:25.758Z"
   },
   {
    "duration": 0,
    "start_time": "2023-10-10T17:31:25.759Z"
   },
   {
    "duration": 0,
    "start_time": "2023-10-10T17:31:25.760Z"
   },
   {
    "duration": 0,
    "start_time": "2023-10-10T17:31:25.761Z"
   },
   {
    "duration": 0,
    "start_time": "2023-10-10T17:31:25.762Z"
   },
   {
    "duration": 0,
    "start_time": "2023-10-10T17:31:25.763Z"
   },
   {
    "duration": 0,
    "start_time": "2023-10-10T17:31:25.764Z"
   },
   {
    "duration": 0,
    "start_time": "2023-10-10T17:31:25.765Z"
   },
   {
    "duration": 0,
    "start_time": "2023-10-10T17:31:25.766Z"
   },
   {
    "duration": 0,
    "start_time": "2023-10-10T17:31:25.767Z"
   },
   {
    "duration": 0,
    "start_time": "2023-10-10T17:31:25.768Z"
   },
   {
    "duration": 0,
    "start_time": "2023-10-10T17:31:25.769Z"
   },
   {
    "duration": 0,
    "start_time": "2023-10-10T17:31:25.771Z"
   },
   {
    "duration": 0,
    "start_time": "2023-10-10T17:31:25.772Z"
   },
   {
    "duration": 0,
    "start_time": "2023-10-10T17:31:25.773Z"
   },
   {
    "duration": 0,
    "start_time": "2023-10-10T17:31:25.774Z"
   },
   {
    "duration": 0,
    "start_time": "2023-10-10T17:31:25.775Z"
   },
   {
    "duration": 4,
    "start_time": "2023-10-10T17:32:48.190Z"
   },
   {
    "duration": 1008,
    "start_time": "2023-10-10T17:32:49.797Z"
   },
   {
    "duration": 3,
    "start_time": "2023-10-10T17:32:50.807Z"
   },
   {
    "duration": 13,
    "start_time": "2023-10-10T17:32:54.618Z"
   },
   {
    "duration": 4,
    "start_time": "2023-10-10T17:33:01.026Z"
   },
   {
    "duration": 156,
    "start_time": "2023-10-10T17:33:03.722Z"
   },
   {
    "duration": 9,
    "start_time": "2023-10-10T17:33:05.039Z"
   },
   {
    "duration": 13,
    "start_time": "2023-10-10T17:33:05.725Z"
   },
   {
    "duration": 5,
    "start_time": "2023-10-10T17:34:53.552Z"
   },
   {
    "duration": 5,
    "start_time": "2023-10-10T17:35:51.520Z"
   },
   {
    "duration": 5,
    "start_time": "2023-10-10T17:36:34.330Z"
   },
   {
    "duration": 5,
    "start_time": "2023-10-10T17:53:05.390Z"
   },
   {
    "duration": 3,
    "start_time": "2023-10-10T17:53:05.810Z"
   },
   {
    "duration": 4,
    "start_time": "2023-10-10T17:53:06.357Z"
   },
   {
    "duration": 12,
    "start_time": "2023-10-10T17:53:07.581Z"
   },
   {
    "duration": 1392,
    "start_time": "2023-10-10T17:53:37.114Z"
   },
   {
    "duration": 30,
    "start_time": "2023-10-10T17:53:38.508Z"
   },
   {
    "duration": 14,
    "start_time": "2023-10-10T17:53:38.540Z"
   },
   {
    "duration": 23,
    "start_time": "2023-10-10T17:53:38.555Z"
   },
   {
    "duration": 20,
    "start_time": "2023-10-10T17:53:38.581Z"
   },
   {
    "duration": 16,
    "start_time": "2023-10-10T17:53:38.604Z"
   },
   {
    "duration": 42,
    "start_time": "2023-10-10T17:53:38.622Z"
   },
   {
    "duration": 19,
    "start_time": "2023-10-10T17:53:38.666Z"
   },
   {
    "duration": 16,
    "start_time": "2023-10-10T17:53:38.687Z"
   },
   {
    "duration": 18,
    "start_time": "2023-10-10T17:53:38.706Z"
   },
   {
    "duration": 37,
    "start_time": "2023-10-10T17:53:38.726Z"
   },
   {
    "duration": 19,
    "start_time": "2023-10-10T17:53:38.766Z"
   },
   {
    "duration": 25,
    "start_time": "2023-10-10T17:53:38.788Z"
   },
   {
    "duration": 37,
    "start_time": "2023-10-10T17:53:38.817Z"
   },
   {
    "duration": 4,
    "start_time": "2023-10-10T17:53:38.857Z"
   },
   {
    "duration": 16,
    "start_time": "2023-10-10T17:53:38.862Z"
   },
   {
    "duration": 23,
    "start_time": "2023-10-10T17:53:38.880Z"
   },
   {
    "duration": 10,
    "start_time": "2023-10-10T17:53:38.905Z"
   },
   {
    "duration": 30,
    "start_time": "2023-10-10T17:53:38.917Z"
   },
   {
    "duration": 9,
    "start_time": "2023-10-10T17:53:38.950Z"
   },
   {
    "duration": 10,
    "start_time": "2023-10-10T17:53:38.962Z"
   },
   {
    "duration": 11,
    "start_time": "2023-10-10T17:53:38.974Z"
   },
   {
    "duration": 16,
    "start_time": "2023-10-10T17:53:38.986Z"
   },
   {
    "duration": 20,
    "start_time": "2023-10-10T17:53:39.004Z"
   },
   {
    "duration": 13,
    "start_time": "2023-10-10T17:53:39.046Z"
   },
   {
    "duration": 6,
    "start_time": "2023-10-10T17:53:39.062Z"
   },
   {
    "duration": 10,
    "start_time": "2023-10-10T17:53:39.070Z"
   },
   {
    "duration": 17,
    "start_time": "2023-10-10T17:53:39.082Z"
   },
   {
    "duration": 17,
    "start_time": "2023-10-10T17:53:39.102Z"
   },
   {
    "duration": 9,
    "start_time": "2023-10-10T17:53:39.148Z"
   },
   {
    "duration": 6,
    "start_time": "2023-10-10T17:53:39.159Z"
   },
   {
    "duration": 235,
    "start_time": "2023-10-10T17:53:39.167Z"
   },
   {
    "duration": 192,
    "start_time": "2023-10-10T17:53:39.404Z"
   },
   {
    "duration": 7,
    "start_time": "2023-10-10T17:53:39.599Z"
   },
   {
    "duration": 143,
    "start_time": "2023-10-10T17:53:39.608Z"
   },
   {
    "duration": 7,
    "start_time": "2023-10-10T17:53:39.753Z"
   },
   {
    "duration": 199,
    "start_time": "2023-10-10T17:53:39.762Z"
   },
   {
    "duration": 6,
    "start_time": "2023-10-10T17:53:39.963Z"
   },
   {
    "duration": 31,
    "start_time": "2023-10-10T17:53:39.972Z"
   },
   {
    "duration": 40,
    "start_time": "2023-10-10T17:53:40.007Z"
   },
   {
    "duration": 26,
    "start_time": "2023-10-10T17:53:40.056Z"
   },
   {
    "duration": 17,
    "start_time": "2023-10-10T17:53:40.085Z"
   },
   {
    "duration": 32,
    "start_time": "2023-10-10T17:53:40.103Z"
   },
   {
    "duration": 9,
    "start_time": "2023-10-10T17:53:40.138Z"
   },
   {
    "duration": 20,
    "start_time": "2023-10-10T17:53:40.149Z"
   },
   {
    "duration": 21,
    "start_time": "2023-10-10T17:53:40.171Z"
   },
   {
    "duration": 203,
    "start_time": "2023-10-10T17:53:40.194Z"
   },
   {
    "duration": 9,
    "start_time": "2023-10-10T17:53:40.399Z"
   },
   {
    "duration": 17,
    "start_time": "2023-10-10T17:53:40.411Z"
   },
   {
    "duration": 19,
    "start_time": "2023-10-10T17:53:40.431Z"
   },
   {
    "duration": 19,
    "start_time": "2023-10-10T17:53:40.453Z"
   },
   {
    "duration": 11,
    "start_time": "2023-10-10T17:53:40.474Z"
   },
   {
    "duration": 8,
    "start_time": "2023-10-10T17:53:40.487Z"
   },
   {
    "duration": 13,
    "start_time": "2023-10-10T17:53:40.498Z"
   },
   {
    "duration": 202,
    "start_time": "2023-10-10T17:53:40.514Z"
   },
   {
    "duration": 16,
    "start_time": "2023-10-10T17:53:40.718Z"
   },
   {
    "duration": 19,
    "start_time": "2023-10-10T17:53:40.746Z"
   },
   {
    "duration": 17,
    "start_time": "2023-10-10T17:53:40.767Z"
   },
   {
    "duration": 174,
    "start_time": "2023-10-10T17:53:40.786Z"
   },
   {
    "duration": 30,
    "start_time": "2023-10-10T17:53:40.962Z"
   },
   {
    "duration": 121,
    "start_time": "2023-10-10T17:53:40.994Z"
   },
   {
    "duration": 17,
    "start_time": "2023-10-10T17:53:41.117Z"
   },
   {
    "duration": 14,
    "start_time": "2023-10-10T17:53:41.136Z"
   },
   {
    "duration": 20,
    "start_time": "2023-10-10T17:53:41.152Z"
   },
   {
    "duration": 7,
    "start_time": "2023-10-10T17:53:41.173Z"
   },
   {
    "duration": 24,
    "start_time": "2023-10-10T17:53:41.182Z"
   },
   {
    "duration": 250,
    "start_time": "2023-10-10T17:53:41.208Z"
   },
   {
    "duration": 260,
    "start_time": "2023-10-10T17:53:41.460Z"
   },
   {
    "duration": 324,
    "start_time": "2023-10-10T17:53:41.722Z"
   },
   {
    "duration": 254,
    "start_time": "2023-10-10T17:53:42.049Z"
   },
   {
    "duration": 304,
    "start_time": "2023-10-10T17:53:42.305Z"
   },
   {
    "duration": 373,
    "start_time": "2023-10-10T17:53:42.612Z"
   },
   {
    "duration": 9,
    "start_time": "2023-10-10T17:53:42.987Z"
   },
   {
    "duration": 27,
    "start_time": "2023-10-10T17:53:42.998Z"
   },
   {
    "duration": 20,
    "start_time": "2023-10-10T17:53:43.027Z"
   },
   {
    "duration": 9,
    "start_time": "2023-10-10T17:53:43.050Z"
   },
   {
    "duration": 37,
    "start_time": "2023-10-10T17:53:43.061Z"
   },
   {
    "duration": 1068,
    "start_time": "2023-10-10T17:53:43.101Z"
   },
   {
    "duration": 5,
    "start_time": "2023-10-10T17:53:44.171Z"
   },
   {
    "duration": 26,
    "start_time": "2023-10-10T17:53:44.177Z"
   },
   {
    "duration": 21,
    "start_time": "2023-10-10T17:53:44.206Z"
   },
   {
    "duration": 267,
    "start_time": "2023-10-10T17:53:44.229Z"
   },
   {
    "duration": 6,
    "start_time": "2023-10-10T17:53:44.500Z"
   },
   {
    "duration": 31,
    "start_time": "2023-10-10T17:53:44.508Z"
   },
   {
    "duration": 20,
    "start_time": "2023-10-10T17:53:44.542Z"
   },
   {
    "duration": 22,
    "start_time": "2023-10-10T17:53:44.564Z"
   },
   {
    "duration": 27,
    "start_time": "2023-10-10T17:53:44.588Z"
   },
   {
    "duration": 14,
    "start_time": "2023-10-10T17:53:44.617Z"
   },
   {
    "duration": 22,
    "start_time": "2023-10-10T17:53:44.634Z"
   },
   {
    "duration": 28,
    "start_time": "2023-10-10T17:53:44.658Z"
   },
   {
    "duration": 19,
    "start_time": "2023-10-10T17:53:44.688Z"
   },
   {
    "duration": 14,
    "start_time": "2023-10-10T17:53:44.710Z"
   },
   {
    "duration": 16,
    "start_time": "2023-10-10T17:53:44.728Z"
   },
   {
    "duration": 15,
    "start_time": "2023-10-10T17:53:44.748Z"
   },
   {
    "duration": 15,
    "start_time": "2023-10-10T17:53:44.767Z"
   },
   {
    "duration": 34,
    "start_time": "2023-10-10T17:53:44.784Z"
   },
   {
    "duration": 27,
    "start_time": "2023-10-10T17:53:44.821Z"
   },
   {
    "duration": 24,
    "start_time": "2023-10-10T17:53:44.850Z"
   },
   {
    "duration": 16,
    "start_time": "2023-10-10T17:53:44.877Z"
   },
   {
    "duration": 20,
    "start_time": "2023-10-10T17:53:44.895Z"
   },
   {
    "duration": 8,
    "start_time": "2023-10-10T17:53:44.917Z"
   },
   {
    "duration": 19,
    "start_time": "2023-10-10T17:53:44.928Z"
   },
   {
    "duration": 19,
    "start_time": "2023-10-10T17:53:44.950Z"
   },
   {
    "duration": 25,
    "start_time": "2023-10-10T17:53:44.972Z"
   },
   {
    "duration": 72,
    "start_time": "2023-10-10T17:53:44.999Z"
   },
   {
    "duration": 36,
    "start_time": "2023-10-10T17:53:45.073Z"
   },
   {
    "duration": 13,
    "start_time": "2023-10-10T17:53:45.111Z"
   },
   {
    "duration": 326,
    "start_time": "2023-10-10T17:53:45.126Z"
   },
   {
    "duration": 4,
    "start_time": "2023-10-10T17:53:45.454Z"
   },
   {
    "duration": 14,
    "start_time": "2023-10-10T17:53:45.460Z"
   },
   {
    "duration": 7,
    "start_time": "2023-10-10T17:53:45.476Z"
   },
   {
    "duration": 18,
    "start_time": "2023-10-10T17:53:45.485Z"
   },
   {
    "duration": 6,
    "start_time": "2023-10-10T17:53:45.506Z"
   },
   {
    "duration": 11,
    "start_time": "2023-10-10T17:53:45.514Z"
   },
   {
    "duration": 20,
    "start_time": "2023-10-10T17:53:45.526Z"
   },
   {
    "duration": 29,
    "start_time": "2023-10-10T17:53:45.550Z"
   },
   {
    "duration": 21,
    "start_time": "2023-10-10T17:53:45.581Z"
   },
   {
    "duration": 11,
    "start_time": "2023-10-10T17:53:45.605Z"
   },
   {
    "duration": 6,
    "start_time": "2023-10-10T17:54:32.327Z"
   },
   {
    "duration": 4,
    "start_time": "2023-10-10T17:54:33.214Z"
   },
   {
    "duration": 3,
    "start_time": "2023-10-10T17:54:33.463Z"
   },
   {
    "duration": 3,
    "start_time": "2023-10-10T17:54:34.366Z"
   },
   {
    "duration": 5,
    "start_time": "2023-10-10T17:54:34.768Z"
   },
   {
    "duration": 4,
    "start_time": "2023-10-10T17:54:59.882Z"
   },
   {
    "duration": 6,
    "start_time": "2023-10-10T17:55:00.216Z"
   },
   {
    "duration": 3,
    "start_time": "2023-10-10T17:55:00.648Z"
   },
   {
    "duration": 120,
    "start_time": "2023-10-10T17:55:00.958Z"
   },
   {
    "duration": 7,
    "start_time": "2023-10-10T18:01:00.276Z"
   },
   {
    "duration": 8,
    "start_time": "2023-10-10T18:01:56.500Z"
   },
   {
    "duration": 1443,
    "start_time": "2023-10-10T18:19:00.646Z"
   },
   {
    "duration": 33,
    "start_time": "2023-10-10T18:19:02.093Z"
   },
   {
    "duration": 23,
    "start_time": "2023-10-10T18:19:02.128Z"
   },
   {
    "duration": 40,
    "start_time": "2023-10-10T18:19:02.154Z"
   },
   {
    "duration": 26,
    "start_time": "2023-10-10T18:19:02.196Z"
   },
   {
    "duration": 57,
    "start_time": "2023-10-10T18:19:02.225Z"
   },
   {
    "duration": 74,
    "start_time": "2023-10-10T18:19:02.285Z"
   },
   {
    "duration": 24,
    "start_time": "2023-10-10T18:19:02.363Z"
   },
   {
    "duration": 37,
    "start_time": "2023-10-10T18:19:02.390Z"
   },
   {
    "duration": 50,
    "start_time": "2023-10-10T18:19:02.430Z"
   },
   {
    "duration": 21,
    "start_time": "2023-10-10T18:19:02.483Z"
   },
   {
    "duration": 46,
    "start_time": "2023-10-10T18:19:02.506Z"
   },
   {
    "duration": 23,
    "start_time": "2023-10-10T18:19:02.555Z"
   },
   {
    "duration": 30,
    "start_time": "2023-10-10T18:19:02.580Z"
   },
   {
    "duration": 29,
    "start_time": "2023-10-10T18:19:02.612Z"
   },
   {
    "duration": 29,
    "start_time": "2023-10-10T18:19:02.644Z"
   },
   {
    "duration": 47,
    "start_time": "2023-10-10T18:19:02.676Z"
   },
   {
    "duration": 35,
    "start_time": "2023-10-10T18:19:02.726Z"
   },
   {
    "duration": 23,
    "start_time": "2023-10-10T18:19:02.764Z"
   },
   {
    "duration": 18,
    "start_time": "2023-10-10T18:19:02.790Z"
   },
   {
    "duration": 34,
    "start_time": "2023-10-10T18:19:02.811Z"
   },
   {
    "duration": 30,
    "start_time": "2023-10-10T18:19:02.847Z"
   },
   {
    "duration": 107,
    "start_time": "2023-10-10T18:19:02.880Z"
   },
   {
    "duration": 99,
    "start_time": "2023-10-10T18:19:02.989Z"
   },
   {
    "duration": 49,
    "start_time": "2023-10-10T18:19:03.090Z"
   },
   {
    "duration": 20,
    "start_time": "2023-10-10T18:19:03.142Z"
   },
   {
    "duration": 19,
    "start_time": "2023-10-10T18:19:03.164Z"
   },
   {
    "duration": 9,
    "start_time": "2023-10-10T18:19:03.193Z"
   },
   {
    "duration": 19,
    "start_time": "2023-10-10T18:19:03.204Z"
   },
   {
    "duration": 22,
    "start_time": "2023-10-10T18:19:03.227Z"
   },
   {
    "duration": 18,
    "start_time": "2023-10-10T18:19:03.251Z"
   },
   {
    "duration": 200,
    "start_time": "2023-10-10T18:19:03.272Z"
   },
   {
    "duration": 204,
    "start_time": "2023-10-10T18:19:03.474Z"
   },
   {
    "duration": 10,
    "start_time": "2023-10-10T18:19:03.680Z"
   },
   {
    "duration": 149,
    "start_time": "2023-10-10T18:19:03.691Z"
   },
   {
    "duration": 9,
    "start_time": "2023-10-10T18:19:03.842Z"
   },
   {
    "duration": 271,
    "start_time": "2023-10-10T18:19:03.854Z"
   },
   {
    "duration": 7,
    "start_time": "2023-10-10T18:19:04.127Z"
   },
   {
    "duration": 90,
    "start_time": "2023-10-10T18:19:04.147Z"
   },
   {
    "duration": 66,
    "start_time": "2023-10-10T18:19:04.239Z"
   },
   {
    "duration": 29,
    "start_time": "2023-10-10T18:19:04.307Z"
   },
   {
    "duration": 9,
    "start_time": "2023-10-10T18:19:04.338Z"
   },
   {
    "duration": 15,
    "start_time": "2023-10-10T18:19:04.349Z"
   },
   {
    "duration": 22,
    "start_time": "2023-10-10T18:19:04.366Z"
   },
   {
    "duration": 20,
    "start_time": "2023-10-10T18:19:04.391Z"
   },
   {
    "duration": 29,
    "start_time": "2023-10-10T18:19:04.413Z"
   },
   {
    "duration": 182,
    "start_time": "2023-10-10T18:19:04.444Z"
   },
   {
    "duration": 21,
    "start_time": "2023-10-10T18:19:04.628Z"
   },
   {
    "duration": 13,
    "start_time": "2023-10-10T18:19:04.651Z"
   },
   {
    "duration": 24,
    "start_time": "2023-10-10T18:19:04.666Z"
   },
   {
    "duration": 28,
    "start_time": "2023-10-10T18:19:04.692Z"
   },
   {
    "duration": 16,
    "start_time": "2023-10-10T18:19:04.722Z"
   },
   {
    "duration": 11,
    "start_time": "2023-10-10T18:19:04.739Z"
   },
   {
    "duration": 30,
    "start_time": "2023-10-10T18:19:04.753Z"
   },
   {
    "duration": 288,
    "start_time": "2023-10-10T18:19:04.785Z"
   },
   {
    "duration": 18,
    "start_time": "2023-10-10T18:19:05.076Z"
   },
   {
    "duration": 24,
    "start_time": "2023-10-10T18:19:05.096Z"
   },
   {
    "duration": 45,
    "start_time": "2023-10-10T18:19:05.122Z"
   },
   {
    "duration": 29,
    "start_time": "2023-10-10T18:19:05.169Z"
   },
   {
    "duration": 19,
    "start_time": "2023-10-10T18:19:05.201Z"
   },
   {
    "duration": 43,
    "start_time": "2023-10-10T18:19:05.223Z"
   },
   {
    "duration": 20,
    "start_time": "2023-10-10T18:19:05.269Z"
   },
   {
    "duration": 37,
    "start_time": "2023-10-10T18:19:05.292Z"
   },
   {
    "duration": 42,
    "start_time": "2023-10-10T18:19:05.332Z"
   },
   {
    "duration": 23,
    "start_time": "2023-10-10T18:19:05.377Z"
   },
   {
    "duration": 65,
    "start_time": "2023-10-10T18:19:05.403Z"
   },
   {
    "duration": 335,
    "start_time": "2023-10-10T18:19:05.470Z"
   },
   {
    "duration": 267,
    "start_time": "2023-10-10T18:19:05.807Z"
   },
   {
    "duration": 403,
    "start_time": "2023-10-10T18:19:06.077Z"
   },
   {
    "duration": 302,
    "start_time": "2023-10-10T18:19:06.482Z"
   },
   {
    "duration": 283,
    "start_time": "2023-10-10T18:19:06.786Z"
   },
   {
    "duration": 337,
    "start_time": "2023-10-10T18:19:07.072Z"
   },
   {
    "duration": 10,
    "start_time": "2023-10-10T18:19:07.411Z"
   },
   {
    "duration": 40,
    "start_time": "2023-10-10T18:19:07.424Z"
   },
   {
    "duration": 25,
    "start_time": "2023-10-10T18:19:07.467Z"
   },
   {
    "duration": 19,
    "start_time": "2023-10-10T18:19:07.495Z"
   },
   {
    "duration": 7,
    "start_time": "2023-10-10T18:19:07.517Z"
   },
   {
    "duration": 999,
    "start_time": "2023-10-10T18:19:07.527Z"
   },
   {
    "duration": 5,
    "start_time": "2023-10-10T18:19:08.529Z"
   },
   {
    "duration": 47,
    "start_time": "2023-10-10T18:19:08.546Z"
   },
   {
    "duration": 6,
    "start_time": "2023-10-10T18:19:08.595Z"
   },
   {
    "duration": 174,
    "start_time": "2023-10-10T18:19:08.609Z"
   },
   {
    "duration": 7,
    "start_time": "2023-10-10T18:19:08.785Z"
   },
   {
    "duration": 27,
    "start_time": "2023-10-10T18:19:08.794Z"
   },
   {
    "duration": 22,
    "start_time": "2023-10-10T18:19:08.823Z"
   },
   {
    "duration": 40,
    "start_time": "2023-10-10T18:19:08.848Z"
   },
   {
    "duration": 7,
    "start_time": "2023-10-10T18:19:08.891Z"
   },
   {
    "duration": 17,
    "start_time": "2023-10-10T18:19:08.900Z"
   },
   {
    "duration": 16,
    "start_time": "2023-10-10T18:19:08.920Z"
   },
   {
    "duration": 25,
    "start_time": "2023-10-10T18:19:08.938Z"
   },
   {
    "duration": 11,
    "start_time": "2023-10-10T18:19:08.966Z"
   },
   {
    "duration": 14,
    "start_time": "2023-10-10T18:19:08.978Z"
   },
   {
    "duration": 5,
    "start_time": "2023-10-10T18:19:08.993Z"
   },
   {
    "duration": 42,
    "start_time": "2023-10-10T18:19:08.999Z"
   },
   {
    "duration": 10,
    "start_time": "2023-10-10T18:19:09.044Z"
   },
   {
    "duration": 12,
    "start_time": "2023-10-10T18:19:09.056Z"
   },
   {
    "duration": 31,
    "start_time": "2023-10-10T18:19:09.069Z"
   },
   {
    "duration": 35,
    "start_time": "2023-10-10T18:19:09.102Z"
   },
   {
    "duration": 15,
    "start_time": "2023-10-10T18:19:09.139Z"
   },
   {
    "duration": 11,
    "start_time": "2023-10-10T18:19:09.156Z"
   },
   {
    "duration": 10,
    "start_time": "2023-10-10T18:19:09.169Z"
   },
   {
    "duration": 8,
    "start_time": "2023-10-10T18:19:09.181Z"
   },
   {
    "duration": 27,
    "start_time": "2023-10-10T18:19:09.191Z"
   },
   {
    "duration": 22,
    "start_time": "2023-10-10T18:19:09.220Z"
   },
   {
    "duration": 7,
    "start_time": "2023-10-10T18:19:09.244Z"
   },
   {
    "duration": 10,
    "start_time": "2023-10-10T18:19:09.253Z"
   },
   {
    "duration": 5,
    "start_time": "2023-10-10T18:19:09.266Z"
   },
   {
    "duration": 6,
    "start_time": "2023-10-10T18:19:09.273Z"
   },
   {
    "duration": 316,
    "start_time": "2023-10-10T18:19:09.281Z"
   },
   {
    "duration": 2,
    "start_time": "2023-10-10T18:19:09.599Z"
   },
   {
    "duration": 12,
    "start_time": "2023-10-10T18:19:09.603Z"
   },
   {
    "duration": 13,
    "start_time": "2023-10-10T18:19:09.617Z"
   },
   {
    "duration": 14,
    "start_time": "2023-10-10T18:19:09.633Z"
   },
   {
    "duration": 11,
    "start_time": "2023-10-10T18:19:09.650Z"
   },
   {
    "duration": 14,
    "start_time": "2023-10-10T18:19:09.663Z"
   },
   {
    "duration": 9,
    "start_time": "2023-10-10T18:19:09.679Z"
   },
   {
    "duration": 6,
    "start_time": "2023-10-10T18:19:09.689Z"
   },
   {
    "duration": 8,
    "start_time": "2023-10-10T18:19:09.697Z"
   },
   {
    "duration": 20,
    "start_time": "2023-10-10T18:19:09.707Z"
   },
   {
    "duration": 24,
    "start_time": "2023-10-10T18:19:09.730Z"
   },
   {
    "duration": 19,
    "start_time": "2023-10-10T18:19:09.756Z"
   },
   {
    "duration": 11,
    "start_time": "2023-10-10T18:19:09.778Z"
   },
   {
    "duration": 8,
    "start_time": "2023-10-10T18:19:09.792Z"
   },
   {
    "duration": 12,
    "start_time": "2023-10-10T18:19:09.803Z"
   },
   {
    "duration": 7,
    "start_time": "2023-10-10T18:19:09.817Z"
   },
   {
    "duration": 4,
    "start_time": "2023-10-10T18:19:38.908Z"
   },
   {
    "duration": 4420,
    "start_time": "2023-10-10T18:24:30.334Z"
   },
   {
    "duration": 51,
    "start_time": "2023-10-10T18:24:34.758Z"
   },
   {
    "duration": 19,
    "start_time": "2023-10-10T18:24:34.812Z"
   },
   {
    "duration": 56,
    "start_time": "2023-10-10T18:24:34.834Z"
   },
   {
    "duration": 7,
    "start_time": "2023-10-10T18:24:34.893Z"
   },
   {
    "duration": 15,
    "start_time": "2023-10-10T18:24:34.902Z"
   },
   {
    "duration": 44,
    "start_time": "2023-10-10T18:24:34.920Z"
   },
   {
    "duration": 18,
    "start_time": "2023-10-10T18:24:34.967Z"
   },
   {
    "duration": 15,
    "start_time": "2023-10-10T18:24:34.987Z"
   },
   {
    "duration": 18,
    "start_time": "2023-10-10T18:24:35.006Z"
   },
   {
    "duration": 48,
    "start_time": "2023-10-10T18:24:35.027Z"
   },
   {
    "duration": 22,
    "start_time": "2023-10-10T18:24:35.078Z"
   },
   {
    "duration": 17,
    "start_time": "2023-10-10T18:24:35.103Z"
   },
   {
    "duration": 41,
    "start_time": "2023-10-10T18:24:35.122Z"
   },
   {
    "duration": 10,
    "start_time": "2023-10-10T18:24:35.166Z"
   },
   {
    "duration": 27,
    "start_time": "2023-10-10T18:24:35.178Z"
   },
   {
    "duration": 42,
    "start_time": "2023-10-10T18:24:35.208Z"
   },
   {
    "duration": 9,
    "start_time": "2023-10-10T18:24:35.254Z"
   },
   {
    "duration": 30,
    "start_time": "2023-10-10T18:24:35.266Z"
   },
   {
    "duration": 24,
    "start_time": "2023-10-10T18:24:35.299Z"
   },
   {
    "duration": 36,
    "start_time": "2023-10-10T18:24:35.352Z"
   },
   {
    "duration": 31,
    "start_time": "2023-10-10T18:24:35.391Z"
   },
   {
    "duration": 41,
    "start_time": "2023-10-10T18:24:35.425Z"
   },
   {
    "duration": 31,
    "start_time": "2023-10-10T18:24:35.469Z"
   },
   {
    "duration": 15,
    "start_time": "2023-10-10T18:24:35.504Z"
   },
   {
    "duration": 50,
    "start_time": "2023-10-10T18:24:35.521Z"
   },
   {
    "duration": 54,
    "start_time": "2023-10-10T18:24:35.577Z"
   },
   {
    "duration": 24,
    "start_time": "2023-10-10T18:24:35.648Z"
   },
   {
    "duration": 58,
    "start_time": "2023-10-10T18:24:35.676Z"
   },
   {
    "duration": 44,
    "start_time": "2023-10-10T18:24:35.737Z"
   },
   {
    "duration": 52,
    "start_time": "2023-10-10T18:24:35.785Z"
   },
   {
    "duration": 327,
    "start_time": "2023-10-10T18:24:35.840Z"
   },
   {
    "duration": 533,
    "start_time": "2023-10-10T18:24:36.170Z"
   },
   {
    "duration": 42,
    "start_time": "2023-10-10T18:24:36.706Z"
   },
   {
    "duration": 322,
    "start_time": "2023-10-10T18:24:36.750Z"
   },
   {
    "duration": 10,
    "start_time": "2023-10-10T18:24:37.075Z"
   },
   {
    "duration": 541,
    "start_time": "2023-10-10T18:24:37.087Z"
   },
   {
    "duration": 28,
    "start_time": "2023-10-10T18:24:37.630Z"
   },
   {
    "duration": 20,
    "start_time": "2023-10-10T18:24:37.662Z"
   },
   {
    "duration": 22,
    "start_time": "2023-10-10T18:24:37.685Z"
   },
   {
    "duration": 9,
    "start_time": "2023-10-10T18:24:37.709Z"
   },
   {
    "duration": 31,
    "start_time": "2023-10-10T18:24:37.720Z"
   },
   {
    "duration": 24,
    "start_time": "2023-10-10T18:24:37.753Z"
   },
   {
    "duration": 17,
    "start_time": "2023-10-10T18:24:37.780Z"
   },
   {
    "duration": 35,
    "start_time": "2023-10-10T18:24:37.801Z"
   },
   {
    "duration": 38,
    "start_time": "2023-10-10T18:24:37.838Z"
   },
   {
    "duration": 295,
    "start_time": "2023-10-10T18:24:37.878Z"
   },
   {
    "duration": 11,
    "start_time": "2023-10-10T18:24:38.175Z"
   },
   {
    "duration": 190,
    "start_time": "2023-10-10T18:24:38.188Z"
   },
   {
    "duration": 52,
    "start_time": "2023-10-10T18:24:38.381Z"
   },
   {
    "duration": 52,
    "start_time": "2023-10-10T18:24:38.435Z"
   },
   {
    "duration": 32,
    "start_time": "2023-10-10T18:24:38.491Z"
   },
   {
    "duration": 61,
    "start_time": "2023-10-10T18:24:38.526Z"
   },
   {
    "duration": 36,
    "start_time": "2023-10-10T18:24:38.590Z"
   },
   {
    "duration": 278,
    "start_time": "2023-10-10T18:24:38.629Z"
   },
   {
    "duration": 15,
    "start_time": "2023-10-10T18:24:38.909Z"
   },
   {
    "duration": 27,
    "start_time": "2023-10-10T18:24:38.926Z"
   },
   {
    "duration": 27,
    "start_time": "2023-10-10T18:24:38.958Z"
   },
   {
    "duration": 17,
    "start_time": "2023-10-10T18:24:38.988Z"
   },
   {
    "duration": 16,
    "start_time": "2023-10-10T18:24:39.008Z"
   },
   {
    "duration": 80,
    "start_time": "2023-10-10T18:24:39.026Z"
   },
   {
    "duration": 32,
    "start_time": "2023-10-10T18:24:39.108Z"
   },
   {
    "duration": 18,
    "start_time": "2023-10-10T18:24:39.142Z"
   },
   {
    "duration": 43,
    "start_time": "2023-10-10T18:24:39.164Z"
   },
   {
    "duration": 9,
    "start_time": "2023-10-10T18:24:39.209Z"
   },
   {
    "duration": 38,
    "start_time": "2023-10-10T18:24:39.221Z"
   },
   {
    "duration": 335,
    "start_time": "2023-10-10T18:24:39.265Z"
   },
   {
    "duration": 293,
    "start_time": "2023-10-10T18:24:39.604Z"
   },
   {
    "duration": 457,
    "start_time": "2023-10-10T18:24:39.900Z"
   },
   {
    "duration": 360,
    "start_time": "2023-10-10T18:24:40.362Z"
   },
   {
    "duration": 363,
    "start_time": "2023-10-10T18:24:40.724Z"
   },
   {
    "duration": 403,
    "start_time": "2023-10-10T18:24:41.089Z"
   },
   {
    "duration": 10,
    "start_time": "2023-10-10T18:24:41.494Z"
   },
   {
    "duration": 15,
    "start_time": "2023-10-10T18:24:41.506Z"
   },
   {
    "duration": 41,
    "start_time": "2023-10-10T18:24:41.523Z"
   },
   {
    "duration": 17,
    "start_time": "2023-10-10T18:24:41.568Z"
   },
   {
    "duration": 12,
    "start_time": "2023-10-10T18:24:41.587Z"
   },
   {
    "duration": 1270,
    "start_time": "2023-10-10T18:24:41.602Z"
   },
   {
    "duration": 3,
    "start_time": "2023-10-10T18:24:42.875Z"
   },
   {
    "duration": 25,
    "start_time": "2023-10-10T18:24:42.881Z"
   },
   {
    "duration": 3,
    "start_time": "2023-10-10T18:24:42.909Z"
   },
   {
    "duration": 234,
    "start_time": "2023-10-10T18:24:42.919Z"
   },
   {
    "duration": 24,
    "start_time": "2023-10-10T18:24:43.156Z"
   },
   {
    "duration": 17,
    "start_time": "2023-10-10T18:24:43.184Z"
   },
   {
    "duration": 4,
    "start_time": "2023-10-10T18:24:43.204Z"
   },
   {
    "duration": 11,
    "start_time": "2023-10-10T18:24:43.210Z"
   },
   {
    "duration": 14,
    "start_time": "2023-10-10T18:24:43.223Z"
   },
   {
    "duration": 32,
    "start_time": "2023-10-10T18:24:43.239Z"
   },
   {
    "duration": 4,
    "start_time": "2023-10-10T18:24:43.273Z"
   },
   {
    "duration": 15,
    "start_time": "2023-10-10T18:24:43.279Z"
   },
   {
    "duration": 18,
    "start_time": "2023-10-10T18:24:43.296Z"
   },
   {
    "duration": 149,
    "start_time": "2023-10-10T18:24:43.316Z"
   },
   {
    "duration": 10,
    "start_time": "2023-10-10T18:24:43.467Z"
   },
   {
    "duration": 21,
    "start_time": "2023-10-10T18:24:43.480Z"
   },
   {
    "duration": 13,
    "start_time": "2023-10-10T18:24:43.503Z"
   },
   {
    "duration": 21,
    "start_time": "2023-10-10T18:24:43.518Z"
   },
   {
    "duration": 27,
    "start_time": "2023-10-10T18:24:43.542Z"
   },
   {
    "duration": 50,
    "start_time": "2023-10-10T18:24:43.572Z"
   },
   {
    "duration": 17,
    "start_time": "2023-10-10T18:24:43.625Z"
   },
   {
    "duration": 20,
    "start_time": "2023-10-10T18:24:43.644Z"
   },
   {
    "duration": 10,
    "start_time": "2023-10-10T18:24:43.666Z"
   },
   {
    "duration": 9,
    "start_time": "2023-10-10T18:24:43.678Z"
   },
   {
    "duration": 28,
    "start_time": "2023-10-10T18:24:43.689Z"
   },
   {
    "duration": 20,
    "start_time": "2023-10-10T18:24:43.719Z"
   },
   {
    "duration": 19,
    "start_time": "2023-10-10T18:24:43.741Z"
   },
   {
    "duration": 6,
    "start_time": "2023-10-10T18:24:43.763Z"
   },
   {
    "duration": 6,
    "start_time": "2023-10-10T18:24:43.770Z"
   },
   {
    "duration": 5,
    "start_time": "2023-10-10T18:24:43.779Z"
   },
   {
    "duration": 413,
    "start_time": "2023-10-10T18:24:43.786Z"
   },
   {
    "duration": 4,
    "start_time": "2023-10-10T18:24:44.201Z"
   },
   {
    "duration": 16,
    "start_time": "2023-10-10T18:24:44.206Z"
   },
   {
    "duration": 8,
    "start_time": "2023-10-10T18:24:44.224Z"
   },
   {
    "duration": 24,
    "start_time": "2023-10-10T18:24:44.233Z"
   },
   {
    "duration": 11,
    "start_time": "2023-10-10T18:24:44.264Z"
   },
   {
    "duration": 5,
    "start_time": "2023-10-10T18:24:44.286Z"
   },
   {
    "duration": 4,
    "start_time": "2023-10-10T18:24:44.294Z"
   },
   {
    "duration": 14,
    "start_time": "2023-10-10T18:24:44.301Z"
   },
   {
    "duration": 7,
    "start_time": "2023-10-10T18:24:44.317Z"
   },
   {
    "duration": 16,
    "start_time": "2023-10-10T18:24:44.326Z"
   },
   {
    "duration": 168,
    "start_time": "2023-10-10T18:40:54.734Z"
   },
   {
    "duration": 12,
    "start_time": "2023-10-10T18:41:43.279Z"
   },
   {
    "duration": 10,
    "start_time": "2023-10-10T18:41:47.991Z"
   },
   {
    "duration": 7,
    "start_time": "2023-10-10T18:42:22.305Z"
   },
   {
    "duration": 6,
    "start_time": "2023-10-10T18:43:40.928Z"
   },
   {
    "duration": 1396,
    "start_time": "2023-10-11T06:43:15.937Z"
   },
   {
    "duration": 73,
    "start_time": "2023-10-11T06:43:17.335Z"
   },
   {
    "duration": 11,
    "start_time": "2023-10-11T06:43:17.409Z"
   },
   {
    "duration": 15,
    "start_time": "2023-10-11T06:43:17.422Z"
   },
   {
    "duration": 9,
    "start_time": "2023-10-11T06:43:17.438Z"
   },
   {
    "duration": 14,
    "start_time": "2023-10-11T06:43:17.449Z"
   },
   {
    "duration": 81,
    "start_time": "2023-10-11T06:43:17.464Z"
   },
   {
    "duration": 13,
    "start_time": "2023-10-11T06:43:17.547Z"
   },
   {
    "duration": 13,
    "start_time": "2023-10-11T06:43:17.562Z"
   },
   {
    "duration": 21,
    "start_time": "2023-10-11T06:43:17.578Z"
   },
   {
    "duration": 10,
    "start_time": "2023-10-11T06:43:17.601Z"
   },
   {
    "duration": 51,
    "start_time": "2023-10-11T06:43:17.613Z"
   },
   {
    "duration": 11,
    "start_time": "2023-10-11T06:43:17.666Z"
   },
   {
    "duration": 11,
    "start_time": "2023-10-11T06:43:17.678Z"
   },
   {
    "duration": 18,
    "start_time": "2023-10-11T06:43:17.691Z"
   },
   {
    "duration": 10,
    "start_time": "2023-10-11T06:43:17.711Z"
   },
   {
    "duration": 9,
    "start_time": "2023-10-11T06:43:17.722Z"
   },
   {
    "duration": 9,
    "start_time": "2023-10-11T06:43:17.733Z"
   },
   {
    "duration": 9,
    "start_time": "2023-10-11T06:43:17.744Z"
   },
   {
    "duration": 5,
    "start_time": "2023-10-11T06:43:17.754Z"
   },
   {
    "duration": 12,
    "start_time": "2023-10-11T06:43:17.761Z"
   },
   {
    "duration": 10,
    "start_time": "2023-10-11T06:43:17.774Z"
   },
   {
    "duration": 19,
    "start_time": "2023-10-11T06:43:17.785Z"
   },
   {
    "duration": 15,
    "start_time": "2023-10-11T06:43:17.805Z"
   },
   {
    "duration": 19,
    "start_time": "2023-10-11T06:43:17.821Z"
   },
   {
    "duration": 9,
    "start_time": "2023-10-11T06:43:17.843Z"
   },
   {
    "duration": 8,
    "start_time": "2023-10-11T06:43:17.855Z"
   },
   {
    "duration": 13,
    "start_time": "2023-10-11T06:43:17.867Z"
   },
   {
    "duration": 17,
    "start_time": "2023-10-11T06:43:17.882Z"
   },
   {
    "duration": 11,
    "start_time": "2023-10-11T06:43:17.901Z"
   },
   {
    "duration": 11,
    "start_time": "2023-10-11T06:43:17.915Z"
   },
   {
    "duration": 180,
    "start_time": "2023-10-11T06:43:17.928Z"
   },
   {
    "duration": 205,
    "start_time": "2023-10-11T06:43:18.110Z"
   },
   {
    "duration": 7,
    "start_time": "2023-10-11T06:43:18.317Z"
   },
   {
    "duration": 159,
    "start_time": "2023-10-11T06:43:18.326Z"
   },
   {
    "duration": 6,
    "start_time": "2023-10-11T06:43:18.487Z"
   },
   {
    "duration": 175,
    "start_time": "2023-10-11T06:43:18.495Z"
   },
   {
    "duration": 6,
    "start_time": "2023-10-11T06:43:18.671Z"
   },
   {
    "duration": 8,
    "start_time": "2023-10-11T06:43:18.678Z"
   },
   {
    "duration": 11,
    "start_time": "2023-10-11T06:43:18.688Z"
   },
   {
    "duration": 11,
    "start_time": "2023-10-11T06:43:18.700Z"
   },
   {
    "duration": 3,
    "start_time": "2023-10-11T06:43:18.712Z"
   },
   {
    "duration": 16,
    "start_time": "2023-10-11T06:43:18.716Z"
   },
   {
    "duration": 3,
    "start_time": "2023-10-11T06:43:18.750Z"
   },
   {
    "duration": 6,
    "start_time": "2023-10-11T06:43:18.755Z"
   },
   {
    "duration": 14,
    "start_time": "2023-10-11T06:43:18.763Z"
   },
   {
    "duration": 171,
    "start_time": "2023-10-11T06:43:18.780Z"
   },
   {
    "duration": 7,
    "start_time": "2023-10-11T06:43:18.953Z"
   },
   {
    "duration": 10,
    "start_time": "2023-10-11T06:43:18.961Z"
   },
   {
    "duration": 4,
    "start_time": "2023-10-11T06:43:18.973Z"
   },
   {
    "duration": 5,
    "start_time": "2023-10-11T06:43:18.979Z"
   },
   {
    "duration": 5,
    "start_time": "2023-10-11T06:43:18.986Z"
   },
   {
    "duration": 12,
    "start_time": "2023-10-11T06:43:18.992Z"
   },
   {
    "duration": 18,
    "start_time": "2023-10-11T06:43:19.005Z"
   },
   {
    "duration": 172,
    "start_time": "2023-10-11T06:43:19.024Z"
   },
   {
    "duration": 11,
    "start_time": "2023-10-11T06:43:19.197Z"
   },
   {
    "duration": 36,
    "start_time": "2023-10-11T06:43:19.209Z"
   },
   {
    "duration": 16,
    "start_time": "2023-10-11T06:43:19.246Z"
   },
   {
    "duration": 15,
    "start_time": "2023-10-11T06:43:19.264Z"
   },
   {
    "duration": 31,
    "start_time": "2023-10-11T06:43:19.281Z"
   },
   {
    "duration": 33,
    "start_time": "2023-10-11T06:43:19.314Z"
   },
   {
    "duration": 22,
    "start_time": "2023-10-11T06:43:19.349Z"
   },
   {
    "duration": 22,
    "start_time": "2023-10-11T06:43:19.372Z"
   },
   {
    "duration": 17,
    "start_time": "2023-10-11T06:43:19.396Z"
   },
   {
    "duration": 10,
    "start_time": "2023-10-11T06:43:19.414Z"
   },
   {
    "duration": 24,
    "start_time": "2023-10-11T06:43:19.426Z"
   },
   {
    "duration": 197,
    "start_time": "2023-10-11T06:43:19.452Z"
   },
   {
    "duration": 201,
    "start_time": "2023-10-11T06:43:19.651Z"
   },
   {
    "duration": 246,
    "start_time": "2023-10-11T06:43:19.854Z"
   },
   {
    "duration": 193,
    "start_time": "2023-10-11T06:43:20.102Z"
   },
   {
    "duration": 245,
    "start_time": "2023-10-11T06:43:20.296Z"
   },
   {
    "duration": 276,
    "start_time": "2023-10-11T06:43:20.542Z"
   },
   {
    "duration": 7,
    "start_time": "2023-10-11T06:43:20.820Z"
   },
   {
    "duration": 24,
    "start_time": "2023-10-11T06:43:20.828Z"
   },
   {
    "duration": 12,
    "start_time": "2023-10-11T06:43:20.854Z"
   },
   {
    "duration": 36,
    "start_time": "2023-10-11T06:43:20.867Z"
   },
   {
    "duration": 22,
    "start_time": "2023-10-11T06:43:20.904Z"
   },
   {
    "duration": 845,
    "start_time": "2023-10-11T06:43:20.927Z"
   },
   {
    "duration": 3,
    "start_time": "2023-10-11T06:43:21.773Z"
   },
   {
    "duration": 29,
    "start_time": "2023-10-11T06:43:21.779Z"
   },
   {
    "duration": 4,
    "start_time": "2023-10-11T06:43:21.810Z"
   },
   {
    "duration": 144,
    "start_time": "2023-10-11T06:43:21.819Z"
   },
   {
    "duration": 6,
    "start_time": "2023-10-11T06:43:21.965Z"
   },
   {
    "duration": 83,
    "start_time": "2023-10-11T06:43:21.973Z"
   },
   {
    "duration": 9,
    "start_time": "2023-10-11T06:43:22.058Z"
   },
   {
    "duration": 7,
    "start_time": "2023-10-11T06:43:22.068Z"
   },
   {
    "duration": 11,
    "start_time": "2023-10-11T06:43:22.077Z"
   },
   {
    "duration": 6,
    "start_time": "2023-10-11T06:43:22.089Z"
   },
   {
    "duration": 14,
    "start_time": "2023-10-11T06:43:22.097Z"
   },
   {
    "duration": 13,
    "start_time": "2023-10-11T06:43:22.113Z"
   },
   {
    "duration": 11,
    "start_time": "2023-10-11T06:43:22.127Z"
   },
   {
    "duration": 11,
    "start_time": "2023-10-11T06:43:22.139Z"
   },
   {
    "duration": 10,
    "start_time": "2023-10-11T06:43:22.152Z"
   },
   {
    "duration": 11,
    "start_time": "2023-10-11T06:43:22.163Z"
   },
   {
    "duration": 16,
    "start_time": "2023-10-11T06:43:22.176Z"
   },
   {
    "duration": 7,
    "start_time": "2023-10-11T06:43:22.194Z"
   },
   {
    "duration": 11,
    "start_time": "2023-10-11T06:43:22.202Z"
   },
   {
    "duration": 28,
    "start_time": "2023-10-11T06:43:22.214Z"
   },
   {
    "duration": 17,
    "start_time": "2023-10-11T06:43:22.244Z"
   },
   {
    "duration": 11,
    "start_time": "2023-10-11T06:43:22.262Z"
   },
   {
    "duration": 34,
    "start_time": "2023-10-11T06:43:22.275Z"
   },
   {
    "duration": 14,
    "start_time": "2023-10-11T06:43:22.310Z"
   },
   {
    "duration": 21,
    "start_time": "2023-10-11T06:43:22.325Z"
   },
   {
    "duration": 70,
    "start_time": "2023-10-11T06:43:22.348Z"
   },
   {
    "duration": 12,
    "start_time": "2023-10-11T06:43:22.420Z"
   },
   {
    "duration": 7,
    "start_time": "2023-10-11T06:43:22.434Z"
   },
   {
    "duration": 7,
    "start_time": "2023-10-11T06:43:22.443Z"
   },
   {
    "duration": 5,
    "start_time": "2023-10-11T06:43:22.452Z"
   },
   {
    "duration": 252,
    "start_time": "2023-10-11T06:43:22.460Z"
   },
   {
    "duration": 4,
    "start_time": "2023-10-11T06:43:22.714Z"
   },
   {
    "duration": 4,
    "start_time": "2023-10-11T06:43:22.720Z"
   },
   {
    "duration": 24,
    "start_time": "2023-10-11T06:43:22.726Z"
   },
   {
    "duration": 16,
    "start_time": "2023-10-11T06:43:22.751Z"
   },
   {
    "duration": 19,
    "start_time": "2023-10-11T06:43:22.768Z"
   },
   {
    "duration": 11,
    "start_time": "2023-10-11T06:43:22.789Z"
   },
   {
    "duration": 10,
    "start_time": "2023-10-11T06:43:22.801Z"
   },
   {
    "duration": 10,
    "start_time": "2023-10-11T06:43:22.812Z"
   },
   {
    "duration": 6,
    "start_time": "2023-10-11T06:43:22.824Z"
   },
   {
    "duration": 9,
    "start_time": "2023-10-11T06:43:22.831Z"
   },
   {
    "duration": 6,
    "start_time": "2023-10-11T06:49:21.668Z"
   },
   {
    "duration": 90,
    "start_time": "2023-10-11T06:49:47.906Z"
   },
   {
    "duration": 1176,
    "start_time": "2023-10-11T06:53:47.758Z"
   },
   {
    "duration": 27,
    "start_time": "2023-10-11T06:53:48.937Z"
   },
   {
    "duration": 43,
    "start_time": "2023-10-11T06:53:48.966Z"
   },
   {
    "duration": 36,
    "start_time": "2023-10-11T06:53:49.011Z"
   },
   {
    "duration": 66,
    "start_time": "2023-10-11T06:53:49.049Z"
   },
   {
    "duration": 16,
    "start_time": "2023-10-11T06:53:49.117Z"
   },
   {
    "duration": 68,
    "start_time": "2023-10-11T06:53:49.134Z"
   },
   {
    "duration": 39,
    "start_time": "2023-10-11T06:53:49.204Z"
   },
   {
    "duration": 24,
    "start_time": "2023-10-11T06:53:49.245Z"
   },
   {
    "duration": 56,
    "start_time": "2023-10-11T06:53:49.273Z"
   },
   {
    "duration": 35,
    "start_time": "2023-10-11T06:53:49.332Z"
   },
   {
    "duration": 45,
    "start_time": "2023-10-11T06:53:49.370Z"
   },
   {
    "duration": 44,
    "start_time": "2023-10-11T06:53:49.417Z"
   },
   {
    "duration": 59,
    "start_time": "2023-10-11T06:53:49.463Z"
   },
   {
    "duration": 50,
    "start_time": "2023-10-11T06:53:49.524Z"
   },
   {
    "duration": 58,
    "start_time": "2023-10-11T06:53:49.576Z"
   },
   {
    "duration": 45,
    "start_time": "2023-10-11T06:53:49.636Z"
   },
   {
    "duration": 50,
    "start_time": "2023-10-11T06:53:49.683Z"
   },
   {
    "duration": 53,
    "start_time": "2023-10-11T06:53:49.734Z"
   },
   {
    "duration": 43,
    "start_time": "2023-10-11T06:53:49.789Z"
   },
   {
    "duration": 69,
    "start_time": "2023-10-11T06:53:49.834Z"
   },
   {
    "duration": 52,
    "start_time": "2023-10-11T06:53:49.904Z"
   },
   {
    "duration": 48,
    "start_time": "2023-10-11T06:53:49.958Z"
   },
   {
    "duration": 48,
    "start_time": "2023-10-11T06:53:50.009Z"
   },
   {
    "duration": 138,
    "start_time": "2023-10-11T06:53:50.060Z"
   },
   {
    "duration": 30,
    "start_time": "2023-10-11T06:53:50.200Z"
   },
   {
    "duration": 81,
    "start_time": "2023-10-11T06:53:50.232Z"
   },
   {
    "duration": 59,
    "start_time": "2023-10-11T06:53:50.317Z"
   },
   {
    "duration": 56,
    "start_time": "2023-10-11T06:53:50.378Z"
   },
   {
    "duration": 26,
    "start_time": "2023-10-11T06:53:50.436Z"
   },
   {
    "duration": 73,
    "start_time": "2023-10-11T06:53:50.464Z"
   },
   {
    "duration": 153,
    "start_time": "2023-10-11T06:53:50.539Z"
   },
   {
    "duration": 151,
    "start_time": "2023-10-11T06:53:50.694Z"
   },
   {
    "duration": 6,
    "start_time": "2023-10-11T06:53:50.846Z"
   },
   {
    "duration": 114,
    "start_time": "2023-10-11T06:53:50.853Z"
   },
   {
    "duration": 5,
    "start_time": "2023-10-11T06:53:50.969Z"
   },
   {
    "duration": 158,
    "start_time": "2023-10-11T06:53:50.976Z"
   },
   {
    "duration": 5,
    "start_time": "2023-10-11T06:53:51.136Z"
   },
   {
    "duration": 12,
    "start_time": "2023-10-11T06:53:51.150Z"
   },
   {
    "duration": 25,
    "start_time": "2023-10-11T06:53:51.163Z"
   },
   {
    "duration": 19,
    "start_time": "2023-10-11T06:53:51.190Z"
   },
   {
    "duration": 10,
    "start_time": "2023-10-11T06:53:51.210Z"
   },
   {
    "duration": 8,
    "start_time": "2023-10-11T06:53:51.221Z"
   },
   {
    "duration": 5,
    "start_time": "2023-10-11T06:53:51.231Z"
   },
   {
    "duration": 25,
    "start_time": "2023-10-11T06:53:51.237Z"
   },
   {
    "duration": 57,
    "start_time": "2023-10-11T06:53:51.263Z"
   },
   {
    "duration": 168,
    "start_time": "2023-10-11T06:53:51.321Z"
   },
   {
    "duration": 7,
    "start_time": "2023-10-11T06:53:51.490Z"
   },
   {
    "duration": 27,
    "start_time": "2023-10-11T06:53:51.498Z"
   },
   {
    "duration": 14,
    "start_time": "2023-10-11T06:53:51.527Z"
   },
   {
    "duration": 25,
    "start_time": "2023-10-11T06:53:51.543Z"
   },
   {
    "duration": 27,
    "start_time": "2023-10-11T06:53:51.570Z"
   },
   {
    "duration": 25,
    "start_time": "2023-10-11T06:53:51.599Z"
   },
   {
    "duration": 33,
    "start_time": "2023-10-11T06:53:51.626Z"
   },
   {
    "duration": 173,
    "start_time": "2023-10-11T06:53:51.661Z"
   },
   {
    "duration": 15,
    "start_time": "2023-10-11T06:53:51.836Z"
   },
   {
    "duration": 23,
    "start_time": "2023-10-11T06:53:51.852Z"
   },
   {
    "duration": 9,
    "start_time": "2023-10-11T06:53:51.877Z"
   },
   {
    "duration": 32,
    "start_time": "2023-10-11T06:53:51.888Z"
   },
   {
    "duration": 9,
    "start_time": "2023-10-11T06:53:51.921Z"
   },
   {
    "duration": 69,
    "start_time": "2023-10-11T06:53:51.931Z"
   },
   {
    "duration": 42,
    "start_time": "2023-10-11T06:53:52.002Z"
   },
   {
    "duration": 25,
    "start_time": "2023-10-11T06:53:52.046Z"
   },
   {
    "duration": 37,
    "start_time": "2023-10-11T06:53:52.074Z"
   },
   {
    "duration": 31,
    "start_time": "2023-10-11T06:53:52.113Z"
   },
   {
    "duration": 63,
    "start_time": "2023-10-11T06:53:52.146Z"
   },
   {
    "duration": 216,
    "start_time": "2023-10-11T06:53:52.210Z"
   },
   {
    "duration": 196,
    "start_time": "2023-10-11T06:53:52.427Z"
   },
   {
    "duration": 249,
    "start_time": "2023-10-11T06:53:52.624Z"
   },
   {
    "duration": 201,
    "start_time": "2023-10-11T06:53:52.874Z"
   },
   {
    "duration": 238,
    "start_time": "2023-10-11T06:53:53.076Z"
   },
   {
    "duration": 238,
    "start_time": "2023-10-11T06:53:53.315Z"
   },
   {
    "duration": 7,
    "start_time": "2023-10-11T06:53:53.554Z"
   },
   {
    "duration": 6,
    "start_time": "2023-10-11T06:53:53.562Z"
   },
   {
    "duration": 7,
    "start_time": "2023-10-11T06:53:53.569Z"
   },
   {
    "duration": 8,
    "start_time": "2023-10-11T06:53:53.577Z"
   },
   {
    "duration": 9,
    "start_time": "2023-10-11T06:53:53.587Z"
   },
   {
    "duration": 881,
    "start_time": "2023-10-11T06:53:53.597Z"
   },
   {
    "duration": 3,
    "start_time": "2023-10-11T06:53:54.481Z"
   },
   {
    "duration": 23,
    "start_time": "2023-10-11T06:53:54.486Z"
   },
   {
    "duration": 4,
    "start_time": "2023-10-11T06:53:54.511Z"
   },
   {
    "duration": 146,
    "start_time": "2023-10-11T06:53:54.520Z"
   },
   {
    "duration": 6,
    "start_time": "2023-10-11T06:53:54.668Z"
   },
   {
    "duration": 14,
    "start_time": "2023-10-11T06:53:54.675Z"
   },
   {
    "duration": 15,
    "start_time": "2023-10-11T06:53:54.690Z"
   },
   {
    "duration": 8,
    "start_time": "2023-10-11T06:53:54.706Z"
   },
   {
    "duration": 5,
    "start_time": "2023-10-11T06:53:54.715Z"
   },
   {
    "duration": 14,
    "start_time": "2023-10-11T06:53:54.721Z"
   },
   {
    "duration": 18,
    "start_time": "2023-10-11T06:53:54.736Z"
   },
   {
    "duration": 7,
    "start_time": "2023-10-11T06:53:54.756Z"
   },
   {
    "duration": 6,
    "start_time": "2023-10-11T06:53:54.764Z"
   },
   {
    "duration": 6,
    "start_time": "2023-10-11T06:53:54.771Z"
   },
   {
    "duration": 27,
    "start_time": "2023-10-11T06:53:54.778Z"
   },
   {
    "duration": 14,
    "start_time": "2023-10-11T06:53:54.807Z"
   },
   {
    "duration": 11,
    "start_time": "2023-10-11T06:53:54.822Z"
   },
   {
    "duration": 13,
    "start_time": "2023-10-11T06:53:54.834Z"
   },
   {
    "duration": 15,
    "start_time": "2023-10-11T06:53:54.848Z"
   },
   {
    "duration": 14,
    "start_time": "2023-10-11T06:53:54.864Z"
   },
   {
    "duration": 11,
    "start_time": "2023-10-11T06:53:54.879Z"
   },
   {
    "duration": 4,
    "start_time": "2023-10-11T06:53:54.891Z"
   },
   {
    "duration": 6,
    "start_time": "2023-10-11T06:53:54.896Z"
   },
   {
    "duration": 5,
    "start_time": "2023-10-11T06:53:54.903Z"
   },
   {
    "duration": 5,
    "start_time": "2023-10-11T06:53:54.909Z"
   },
   {
    "duration": 8,
    "start_time": "2023-10-11T06:53:54.915Z"
   },
   {
    "duration": 5,
    "start_time": "2023-10-11T06:53:54.924Z"
   },
   {
    "duration": 20,
    "start_time": "2023-10-11T06:53:54.930Z"
   },
   {
    "duration": 12,
    "start_time": "2023-10-11T06:53:54.952Z"
   },
   {
    "duration": 5,
    "start_time": "2023-10-11T06:53:54.965Z"
   },
   {
    "duration": 234,
    "start_time": "2023-10-11T06:53:54.971Z"
   },
   {
    "duration": 2,
    "start_time": "2023-10-11T06:53:55.207Z"
   },
   {
    "duration": 8,
    "start_time": "2023-10-11T06:53:55.210Z"
   },
   {
    "duration": 8,
    "start_time": "2023-10-11T06:53:55.219Z"
   },
   {
    "duration": 8,
    "start_time": "2023-10-11T06:53:55.228Z"
   },
   {
    "duration": 21,
    "start_time": "2023-10-11T06:53:55.237Z"
   },
   {
    "duration": 12,
    "start_time": "2023-10-11T06:53:55.259Z"
   },
   {
    "duration": 5,
    "start_time": "2023-10-11T06:53:55.273Z"
   },
   {
    "duration": 6,
    "start_time": "2023-10-11T06:53:55.279Z"
   },
   {
    "duration": 9,
    "start_time": "2023-10-11T06:53:55.286Z"
   },
   {
    "duration": 9,
    "start_time": "2023-10-11T06:53:55.296Z"
   },
   {
    "duration": 1509,
    "start_time": "2023-10-11T15:40:55.030Z"
   },
   {
    "duration": 80,
    "start_time": "2023-10-11T15:40:56.542Z"
   },
   {
    "duration": 13,
    "start_time": "2023-10-11T15:40:56.624Z"
   },
   {
    "duration": 14,
    "start_time": "2023-10-11T15:40:56.639Z"
   },
   {
    "duration": 10,
    "start_time": "2023-10-11T15:40:56.655Z"
   },
   {
    "duration": 9,
    "start_time": "2023-10-11T15:40:56.666Z"
   },
   {
    "duration": 99,
    "start_time": "2023-10-11T15:40:56.677Z"
   },
   {
    "duration": 12,
    "start_time": "2023-10-11T15:40:56.778Z"
   },
   {
    "duration": 18,
    "start_time": "2023-10-11T15:40:56.792Z"
   },
   {
    "duration": 14,
    "start_time": "2023-10-11T15:40:56.812Z"
   },
   {
    "duration": 26,
    "start_time": "2023-10-11T15:40:56.828Z"
   },
   {
    "duration": 55,
    "start_time": "2023-10-11T15:40:56.856Z"
   },
   {
    "duration": 13,
    "start_time": "2023-10-11T15:40:56.913Z"
   },
   {
    "duration": 8,
    "start_time": "2023-10-11T15:40:56.929Z"
   },
   {
    "duration": 13,
    "start_time": "2023-10-11T15:40:56.939Z"
   },
   {
    "duration": 11,
    "start_time": "2023-10-11T15:40:56.954Z"
   },
   {
    "duration": 11,
    "start_time": "2023-10-11T15:40:56.967Z"
   },
   {
    "duration": 8,
    "start_time": "2023-10-11T15:40:56.980Z"
   },
   {
    "duration": 34,
    "start_time": "2023-10-11T15:40:56.990Z"
   },
   {
    "duration": 7,
    "start_time": "2023-10-11T15:40:57.026Z"
   },
   {
    "duration": 37,
    "start_time": "2023-10-11T15:40:57.035Z"
   },
   {
    "duration": 7,
    "start_time": "2023-10-11T15:40:57.074Z"
   },
   {
    "duration": 20,
    "start_time": "2023-10-11T15:40:57.083Z"
   },
   {
    "duration": 24,
    "start_time": "2023-10-11T15:40:57.105Z"
   },
   {
    "duration": 46,
    "start_time": "2023-10-11T15:40:57.131Z"
   },
   {
    "duration": 33,
    "start_time": "2023-10-11T15:40:57.179Z"
   },
   {
    "duration": 14,
    "start_time": "2023-10-11T15:40:57.214Z"
   },
   {
    "duration": 23,
    "start_time": "2023-10-11T15:40:57.230Z"
   },
   {
    "duration": 63,
    "start_time": "2023-10-11T15:40:57.255Z"
   },
   {
    "duration": 18,
    "start_time": "2023-10-11T15:40:57.320Z"
   },
   {
    "duration": 14,
    "start_time": "2023-10-11T15:40:57.340Z"
   },
   {
    "duration": 160,
    "start_time": "2023-10-11T15:40:57.357Z"
   },
   {
    "duration": 180,
    "start_time": "2023-10-11T15:40:57.519Z"
   },
   {
    "duration": 6,
    "start_time": "2023-10-11T15:40:57.700Z"
   },
   {
    "duration": 121,
    "start_time": "2023-10-11T15:40:57.707Z"
   },
   {
    "duration": 6,
    "start_time": "2023-10-11T15:40:57.830Z"
   },
   {
    "duration": 177,
    "start_time": "2023-10-11T15:40:57.838Z"
   },
   {
    "duration": 11,
    "start_time": "2023-10-11T15:40:58.017Z"
   },
   {
    "duration": 11,
    "start_time": "2023-10-11T15:40:58.030Z"
   },
   {
    "duration": 12,
    "start_time": "2023-10-11T15:40:58.043Z"
   },
   {
    "duration": 23,
    "start_time": "2023-10-11T15:40:58.061Z"
   },
   {
    "duration": 4,
    "start_time": "2023-10-11T15:40:58.086Z"
   },
   {
    "duration": 5,
    "start_time": "2023-10-11T15:40:58.092Z"
   },
   {
    "duration": 14,
    "start_time": "2023-10-11T15:40:58.098Z"
   },
   {
    "duration": 16,
    "start_time": "2023-10-11T15:40:58.114Z"
   },
   {
    "duration": 35,
    "start_time": "2023-10-11T15:40:58.132Z"
   },
   {
    "duration": 154,
    "start_time": "2023-10-11T15:40:58.169Z"
   },
   {
    "duration": 8,
    "start_time": "2023-10-11T15:40:58.326Z"
   },
   {
    "duration": 17,
    "start_time": "2023-10-11T15:40:58.336Z"
   },
   {
    "duration": 20,
    "start_time": "2023-10-11T15:40:58.355Z"
   },
   {
    "duration": 26,
    "start_time": "2023-10-11T15:40:58.377Z"
   },
   {
    "duration": 27,
    "start_time": "2023-10-11T15:40:58.405Z"
   },
   {
    "duration": 8,
    "start_time": "2023-10-11T15:40:58.434Z"
   },
   {
    "duration": 30,
    "start_time": "2023-10-11T15:40:58.444Z"
   },
   {
    "duration": 151,
    "start_time": "2023-10-11T15:40:58.476Z"
   },
   {
    "duration": 12,
    "start_time": "2023-10-11T15:40:58.629Z"
   },
   {
    "duration": 29,
    "start_time": "2023-10-11T15:40:58.642Z"
   },
   {
    "duration": 11,
    "start_time": "2023-10-11T15:40:58.673Z"
   },
   {
    "duration": 82,
    "start_time": "2023-10-11T15:40:58.685Z"
   },
   {
    "duration": 90,
    "start_time": "2023-10-11T15:40:58.769Z"
   },
   {
    "duration": 264,
    "start_time": "2023-10-11T15:40:58.861Z"
   },
   {
    "duration": 97,
    "start_time": "2023-10-11T15:40:59.126Z"
   },
   {
    "duration": 43,
    "start_time": "2023-10-11T15:40:59.224Z"
   },
   {
    "duration": 29,
    "start_time": "2023-10-11T15:40:59.268Z"
   },
   {
    "duration": 30,
    "start_time": "2023-10-11T15:40:59.298Z"
   },
   {
    "duration": 30,
    "start_time": "2023-10-11T15:40:59.329Z"
   },
   {
    "duration": 213,
    "start_time": "2023-10-11T15:40:59.360Z"
   },
   {
    "duration": 220,
    "start_time": "2023-10-11T15:40:59.575Z"
   },
   {
    "duration": 275,
    "start_time": "2023-10-11T15:40:59.797Z"
   },
   {
    "duration": 232,
    "start_time": "2023-10-11T15:41:00.074Z"
   },
   {
    "duration": 281,
    "start_time": "2023-10-11T15:41:00.308Z"
   },
   {
    "duration": 511,
    "start_time": "2023-10-11T15:41:00.591Z"
   },
   {
    "duration": 21,
    "start_time": "2023-10-11T15:41:01.105Z"
   },
   {
    "duration": 114,
    "start_time": "2023-10-11T15:41:01.128Z"
   },
   {
    "duration": 95,
    "start_time": "2023-10-11T15:41:01.244Z"
   },
   {
    "duration": 92,
    "start_time": "2023-10-11T15:41:01.340Z"
   },
   {
    "duration": 39,
    "start_time": "2023-10-11T15:41:01.435Z"
   },
   {
    "duration": 963,
    "start_time": "2023-10-11T15:41:01.476Z"
   },
   {
    "duration": 4,
    "start_time": "2023-10-11T15:41:02.441Z"
   },
   {
    "duration": 51,
    "start_time": "2023-10-11T15:41:02.446Z"
   },
   {
    "duration": 41,
    "start_time": "2023-10-11T15:41:02.498Z"
   },
   {
    "duration": 175,
    "start_time": "2023-10-11T15:41:02.541Z"
   },
   {
    "duration": 131,
    "start_time": "2023-10-11T15:41:02.718Z"
   },
   {
    "duration": 139,
    "start_time": "2023-10-11T15:41:02.850Z"
   },
   {
    "duration": 286,
    "start_time": "2023-10-11T15:41:02.991Z"
   },
   {
    "duration": 382,
    "start_time": "2023-10-11T15:41:03.279Z"
   },
   {
    "duration": 289,
    "start_time": "2023-10-11T15:41:03.663Z"
   },
   {
    "duration": 299,
    "start_time": "2023-10-11T15:41:03.954Z"
   },
   {
    "duration": 164,
    "start_time": "2023-10-11T15:41:04.255Z"
   },
   {
    "duration": 236,
    "start_time": "2023-10-11T15:41:04.421Z"
   },
   {
    "duration": 130,
    "start_time": "2023-10-11T15:41:04.659Z"
   },
   {
    "duration": 113,
    "start_time": "2023-10-11T15:41:04.791Z"
   },
   {
    "duration": 130,
    "start_time": "2023-10-11T15:41:04.907Z"
   },
   {
    "duration": 65,
    "start_time": "2023-10-11T15:41:05.039Z"
   },
   {
    "duration": 36,
    "start_time": "2023-10-11T15:41:05.106Z"
   },
   {
    "duration": 116,
    "start_time": "2023-10-11T15:41:05.144Z"
   },
   {
    "duration": 0,
    "start_time": "2023-10-11T15:41:05.262Z"
   },
   {
    "duration": 0,
    "start_time": "2023-10-11T15:41:05.263Z"
   },
   {
    "duration": 0,
    "start_time": "2023-10-11T15:41:05.264Z"
   },
   {
    "duration": 0,
    "start_time": "2023-10-11T15:41:05.265Z"
   },
   {
    "duration": 0,
    "start_time": "2023-10-11T15:41:05.266Z"
   },
   {
    "duration": 0,
    "start_time": "2023-10-11T15:41:05.267Z"
   },
   {
    "duration": 0,
    "start_time": "2023-10-11T15:41:05.268Z"
   },
   {
    "duration": 0,
    "start_time": "2023-10-11T15:41:05.269Z"
   },
   {
    "duration": 0,
    "start_time": "2023-10-11T15:41:05.270Z"
   },
   {
    "duration": 0,
    "start_time": "2023-10-11T15:41:05.271Z"
   },
   {
    "duration": 0,
    "start_time": "2023-10-11T15:41:05.272Z"
   },
   {
    "duration": 0,
    "start_time": "2023-10-11T15:41:05.273Z"
   },
   {
    "duration": 0,
    "start_time": "2023-10-11T15:41:05.274Z"
   },
   {
    "duration": 0,
    "start_time": "2023-10-11T15:41:05.276Z"
   },
   {
    "duration": 0,
    "start_time": "2023-10-11T15:41:05.277Z"
   },
   {
    "duration": 0,
    "start_time": "2023-10-11T15:41:05.278Z"
   },
   {
    "duration": 0,
    "start_time": "2023-10-11T15:41:05.279Z"
   },
   {
    "duration": 0,
    "start_time": "2023-10-11T15:41:05.280Z"
   },
   {
    "duration": 0,
    "start_time": "2023-10-11T15:41:05.281Z"
   },
   {
    "duration": 0,
    "start_time": "2023-10-11T15:41:05.282Z"
   },
   {
    "duration": 0,
    "start_time": "2023-10-11T15:41:05.283Z"
   },
   {
    "duration": 0,
    "start_time": "2023-10-11T15:41:05.284Z"
   },
   {
    "duration": 0,
    "start_time": "2023-10-11T15:41:05.324Z"
   },
   {
    "duration": 0,
    "start_time": "2023-10-11T15:41:05.325Z"
   },
   {
    "duration": 5,
    "start_time": "2023-10-11T15:42:06.921Z"
   },
   {
    "duration": 3,
    "start_time": "2023-10-11T15:42:08.593Z"
   },
   {
    "duration": 4,
    "start_time": "2023-10-11T15:42:10.288Z"
   },
   {
    "duration": 164,
    "start_time": "2023-10-11T15:44:45.740Z"
   },
   {
    "duration": 228,
    "start_time": "2023-10-11T15:45:05.853Z"
   },
   {
    "duration": 134,
    "start_time": "2023-10-11T15:45:29.485Z"
   },
   {
    "duration": 216,
    "start_time": "2023-10-11T15:45:37.797Z"
   },
   {
    "duration": 149,
    "start_time": "2023-10-11T15:46:12.093Z"
   },
   {
    "duration": 146,
    "start_time": "2023-10-11T15:46:38.157Z"
   },
   {
    "duration": 337,
    "start_time": "2023-10-11T15:49:30.287Z"
   },
   {
    "duration": 303,
    "start_time": "2023-10-11T15:50:00.688Z"
   },
   {
    "duration": 81,
    "start_time": "2023-10-11T15:50:42.050Z"
   },
   {
    "duration": 310,
    "start_time": "2023-10-11T15:50:56.177Z"
   },
   {
    "duration": 330,
    "start_time": "2023-10-11T15:51:33.248Z"
   },
   {
    "duration": 458,
    "start_time": "2023-10-11T15:51:50.241Z"
   },
   {
    "duration": 1269,
    "start_time": "2023-10-11T15:52:14.639Z"
   },
   {
    "duration": 35,
    "start_time": "2023-10-11T15:52:15.911Z"
   },
   {
    "duration": 14,
    "start_time": "2023-10-11T15:52:15.948Z"
   },
   {
    "duration": 15,
    "start_time": "2023-10-11T15:52:15.965Z"
   },
   {
    "duration": 15,
    "start_time": "2023-10-11T15:52:15.982Z"
   },
   {
    "duration": 26,
    "start_time": "2023-10-11T15:52:16.000Z"
   },
   {
    "duration": 40,
    "start_time": "2023-10-11T15:52:16.029Z"
   },
   {
    "duration": 12,
    "start_time": "2023-10-11T15:52:16.071Z"
   },
   {
    "duration": 9,
    "start_time": "2023-10-11T15:52:16.085Z"
   },
   {
    "duration": 9,
    "start_time": "2023-10-11T15:52:16.097Z"
   },
   {
    "duration": 18,
    "start_time": "2023-10-11T15:52:16.108Z"
   },
   {
    "duration": 17,
    "start_time": "2023-10-11T15:52:16.128Z"
   },
   {
    "duration": 10,
    "start_time": "2023-10-11T15:52:16.147Z"
   },
   {
    "duration": 9,
    "start_time": "2023-10-11T15:52:16.159Z"
   },
   {
    "duration": 13,
    "start_time": "2023-10-11T15:52:16.169Z"
   },
   {
    "duration": 22,
    "start_time": "2023-10-11T15:52:16.183Z"
   },
   {
    "duration": 11,
    "start_time": "2023-10-11T15:52:16.207Z"
   },
   {
    "duration": 7,
    "start_time": "2023-10-11T15:52:16.220Z"
   },
   {
    "duration": 10,
    "start_time": "2023-10-11T15:52:16.229Z"
   },
   {
    "duration": 6,
    "start_time": "2023-10-11T15:52:16.240Z"
   },
   {
    "duration": 16,
    "start_time": "2023-10-11T15:52:16.248Z"
   },
   {
    "duration": 6,
    "start_time": "2023-10-11T15:52:16.266Z"
   },
   {
    "duration": 28,
    "start_time": "2023-10-11T15:52:16.273Z"
   },
   {
    "duration": 17,
    "start_time": "2023-10-11T15:52:16.302Z"
   },
   {
    "duration": 33,
    "start_time": "2023-10-11T15:52:16.320Z"
   },
   {
    "duration": 13,
    "start_time": "2023-10-11T15:52:16.355Z"
   },
   {
    "duration": 11,
    "start_time": "2023-10-11T15:52:16.369Z"
   },
   {
    "duration": 8,
    "start_time": "2023-10-11T15:52:16.384Z"
   },
   {
    "duration": 14,
    "start_time": "2023-10-11T15:52:16.393Z"
   },
   {
    "duration": 12,
    "start_time": "2023-10-11T15:52:16.408Z"
   },
   {
    "duration": 14,
    "start_time": "2023-10-11T15:52:16.421Z"
   },
   {
    "duration": 154,
    "start_time": "2023-10-11T15:52:16.437Z"
   },
   {
    "duration": 171,
    "start_time": "2023-10-11T15:52:16.593Z"
   },
   {
    "duration": 5,
    "start_time": "2023-10-11T15:52:16.766Z"
   },
   {
    "duration": 126,
    "start_time": "2023-10-11T15:52:16.772Z"
   },
   {
    "duration": 7,
    "start_time": "2023-10-11T15:52:16.900Z"
   },
   {
    "duration": 181,
    "start_time": "2023-10-11T15:52:16.909Z"
   },
   {
    "duration": 6,
    "start_time": "2023-10-11T15:52:17.092Z"
   },
   {
    "duration": 7,
    "start_time": "2023-10-11T15:52:17.100Z"
   },
   {
    "duration": 22,
    "start_time": "2023-10-11T15:52:17.108Z"
   },
   {
    "duration": 10,
    "start_time": "2023-10-11T15:52:17.132Z"
   },
   {
    "duration": 5,
    "start_time": "2023-10-11T15:52:17.143Z"
   },
   {
    "duration": 21,
    "start_time": "2023-10-11T15:52:17.149Z"
   },
   {
    "duration": 16,
    "start_time": "2023-10-11T15:52:17.172Z"
   },
   {
    "duration": 17,
    "start_time": "2023-10-11T15:52:17.190Z"
   },
   {
    "duration": 8,
    "start_time": "2023-10-11T15:52:17.209Z"
   },
   {
    "duration": 158,
    "start_time": "2023-10-11T15:52:17.219Z"
   },
   {
    "duration": 7,
    "start_time": "2023-10-11T15:52:17.379Z"
   },
   {
    "duration": 14,
    "start_time": "2023-10-11T15:52:17.388Z"
   },
   {
    "duration": 11,
    "start_time": "2023-10-11T15:52:17.403Z"
   },
   {
    "duration": 8,
    "start_time": "2023-10-11T15:52:17.417Z"
   },
   {
    "duration": 5,
    "start_time": "2023-10-11T15:52:17.426Z"
   },
   {
    "duration": 5,
    "start_time": "2023-10-11T15:52:17.433Z"
   },
   {
    "duration": 18,
    "start_time": "2023-10-11T15:52:17.440Z"
   },
   {
    "duration": 169,
    "start_time": "2023-10-11T15:52:17.459Z"
   },
   {
    "duration": 10,
    "start_time": "2023-10-11T15:52:17.630Z"
   },
   {
    "duration": 13,
    "start_time": "2023-10-11T15:52:17.642Z"
   },
   {
    "duration": 11,
    "start_time": "2023-10-11T15:52:17.657Z"
   },
   {
    "duration": 15,
    "start_time": "2023-10-11T15:52:17.669Z"
   },
   {
    "duration": 43,
    "start_time": "2023-10-11T15:52:17.686Z"
   },
   {
    "duration": 29,
    "start_time": "2023-10-11T15:52:17.731Z"
   },
   {
    "duration": 22,
    "start_time": "2023-10-11T15:52:17.762Z"
   },
   {
    "duration": 8,
    "start_time": "2023-10-11T15:52:17.786Z"
   },
   {
    "duration": 30,
    "start_time": "2023-10-11T15:52:17.796Z"
   },
   {
    "duration": 6,
    "start_time": "2023-10-11T15:52:17.827Z"
   },
   {
    "duration": 25,
    "start_time": "2023-10-11T15:52:17.835Z"
   },
   {
    "duration": 214,
    "start_time": "2023-10-11T15:52:17.862Z"
   },
   {
    "duration": 213,
    "start_time": "2023-10-11T15:52:18.078Z"
   },
   {
    "duration": 272,
    "start_time": "2023-10-11T15:52:18.293Z"
   },
   {
    "duration": 207,
    "start_time": "2023-10-11T15:52:18.566Z"
   },
   {
    "duration": 293,
    "start_time": "2023-10-11T15:52:18.775Z"
   },
   {
    "duration": 310,
    "start_time": "2023-10-11T15:52:19.070Z"
   },
   {
    "duration": 9,
    "start_time": "2023-10-11T15:52:19.382Z"
   },
   {
    "duration": 52,
    "start_time": "2023-10-11T15:52:19.393Z"
   },
   {
    "duration": 52,
    "start_time": "2023-10-11T15:52:19.447Z"
   },
   {
    "duration": 85,
    "start_time": "2023-10-11T15:52:19.501Z"
   },
   {
    "duration": 56,
    "start_time": "2023-10-11T15:52:19.587Z"
   },
   {
    "duration": 979,
    "start_time": "2023-10-11T15:52:19.645Z"
   },
   {
    "duration": 3,
    "start_time": "2023-10-11T15:52:20.626Z"
   },
   {
    "duration": 41,
    "start_time": "2023-10-11T15:52:20.631Z"
   },
   {
    "duration": 20,
    "start_time": "2023-10-11T15:52:20.674Z"
   },
   {
    "duration": 171,
    "start_time": "2023-10-11T15:52:20.700Z"
   },
   {
    "duration": 8,
    "start_time": "2023-10-11T15:52:20.873Z"
   },
   {
    "duration": 161,
    "start_time": "2023-10-11T15:52:20.882Z"
   },
   {
    "duration": 83,
    "start_time": "2023-10-11T15:52:21.044Z"
   },
   {
    "duration": 57,
    "start_time": "2023-10-11T15:52:21.128Z"
   },
   {
    "duration": 10,
    "start_time": "2023-10-11T15:52:21.188Z"
   },
   {
    "duration": 113,
    "start_time": "2023-10-11T15:52:21.201Z"
   },
   {
    "duration": 139,
    "start_time": "2023-10-11T15:52:21.316Z"
   },
   {
    "duration": 53,
    "start_time": "2023-10-11T15:52:21.457Z"
   },
   {
    "duration": 205,
    "start_time": "2023-10-11T15:52:21.512Z"
   },
   {
    "duration": 160,
    "start_time": "2023-10-11T15:52:21.720Z"
   },
   {
    "duration": 70,
    "start_time": "2023-10-11T15:52:21.882Z"
   },
   {
    "duration": 84,
    "start_time": "2023-10-11T15:52:21.954Z"
   },
   {
    "duration": 75,
    "start_time": "2023-10-11T15:52:22.041Z"
   },
   {
    "duration": 88,
    "start_time": "2023-10-11T15:52:22.118Z"
   },
   {
    "duration": 198,
    "start_time": "2023-10-11T15:52:22.208Z"
   },
   {
    "duration": 124,
    "start_time": "2023-10-11T15:52:22.408Z"
   },
   {
    "duration": 107,
    "start_time": "2023-10-11T15:52:22.535Z"
   },
   {
    "duration": 56,
    "start_time": "2023-10-11T15:52:22.644Z"
   },
   {
    "duration": 25,
    "start_time": "2023-10-11T15:52:22.702Z"
   },
   {
    "duration": 78,
    "start_time": "2023-10-11T15:52:22.729Z"
   },
   {
    "duration": 41,
    "start_time": "2023-10-11T15:52:22.810Z"
   },
   {
    "duration": 41,
    "start_time": "2023-10-11T15:52:22.854Z"
   },
   {
    "duration": 34,
    "start_time": "2023-10-11T15:52:22.898Z"
   },
   {
    "duration": 38,
    "start_time": "2023-10-11T15:52:22.935Z"
   },
   {
    "duration": 30,
    "start_time": "2023-10-11T15:52:22.975Z"
   },
   {
    "duration": 49,
    "start_time": "2023-10-11T15:52:23.007Z"
   },
   {
    "duration": 98,
    "start_time": "2023-10-11T15:52:23.058Z"
   },
   {
    "duration": 307,
    "start_time": "2023-10-11T15:52:23.158Z"
   },
   {
    "duration": 3,
    "start_time": "2023-10-11T15:52:23.467Z"
   },
   {
    "duration": 35,
    "start_time": "2023-10-11T15:52:23.472Z"
   },
   {
    "duration": 35,
    "start_time": "2023-10-11T15:52:23.509Z"
   },
   {
    "duration": 51,
    "start_time": "2023-10-11T15:52:23.546Z"
   },
   {
    "duration": 47,
    "start_time": "2023-10-11T15:52:23.599Z"
   },
   {
    "duration": 145,
    "start_time": "2023-10-11T15:52:23.648Z"
   },
   {
    "duration": 47,
    "start_time": "2023-10-11T15:52:23.795Z"
   },
   {
    "duration": 64,
    "start_time": "2023-10-11T15:52:23.844Z"
   },
   {
    "duration": 42,
    "start_time": "2023-10-11T15:52:23.910Z"
   },
   {
    "duration": 46,
    "start_time": "2023-10-11T15:52:23.954Z"
   },
   {
    "duration": 2,
    "start_time": "2023-10-11T16:01:44.989Z"
   },
   {
    "duration": 3,
    "start_time": "2023-10-11T16:01:45.213Z"
   },
   {
    "duration": 3,
    "start_time": "2023-10-11T16:01:45.598Z"
   },
   {
    "duration": 127,
    "start_time": "2023-10-11T16:01:46.020Z"
   },
   {
    "duration": 1229,
    "start_time": "2023-10-11T16:02:16.740Z"
   },
   {
    "duration": 31,
    "start_time": "2023-10-11T16:02:17.971Z"
   },
   {
    "duration": 71,
    "start_time": "2023-10-11T16:02:18.004Z"
   },
   {
    "duration": 23,
    "start_time": "2023-10-11T16:02:18.076Z"
   },
   {
    "duration": 16,
    "start_time": "2023-10-11T16:02:18.101Z"
   },
   {
    "duration": 42,
    "start_time": "2023-10-11T16:02:18.119Z"
   },
   {
    "duration": 45,
    "start_time": "2023-10-11T16:02:18.163Z"
   },
   {
    "duration": 13,
    "start_time": "2023-10-11T16:02:18.209Z"
   },
   {
    "duration": 28,
    "start_time": "2023-10-11T16:02:18.224Z"
   },
   {
    "duration": 34,
    "start_time": "2023-10-11T16:02:18.254Z"
   },
   {
    "duration": 29,
    "start_time": "2023-10-11T16:02:18.290Z"
   },
   {
    "duration": 22,
    "start_time": "2023-10-11T16:02:18.321Z"
   },
   {
    "duration": 10,
    "start_time": "2023-10-11T16:02:18.344Z"
   },
   {
    "duration": 24,
    "start_time": "2023-10-11T16:02:18.357Z"
   },
   {
    "duration": 13,
    "start_time": "2023-10-11T16:02:18.383Z"
   },
   {
    "duration": 9,
    "start_time": "2023-10-11T16:02:18.398Z"
   },
   {
    "duration": 12,
    "start_time": "2023-10-11T16:02:18.409Z"
   },
   {
    "duration": 17,
    "start_time": "2023-10-11T16:02:18.423Z"
   },
   {
    "duration": 11,
    "start_time": "2023-10-11T16:02:18.442Z"
   },
   {
    "duration": 23,
    "start_time": "2023-10-11T16:02:18.454Z"
   },
   {
    "duration": 34,
    "start_time": "2023-10-11T16:02:18.478Z"
   },
   {
    "duration": 6,
    "start_time": "2023-10-11T16:02:18.514Z"
   },
   {
    "duration": 20,
    "start_time": "2023-10-11T16:02:18.521Z"
   },
   {
    "duration": 9,
    "start_time": "2023-10-11T16:02:18.543Z"
   },
   {
    "duration": 19,
    "start_time": "2023-10-11T16:02:18.554Z"
   },
   {
    "duration": 15,
    "start_time": "2023-10-11T16:02:18.575Z"
   },
   {
    "duration": 14,
    "start_time": "2023-10-11T16:02:18.592Z"
   },
   {
    "duration": 13,
    "start_time": "2023-10-11T16:02:18.608Z"
   },
   {
    "duration": 19,
    "start_time": "2023-10-11T16:02:18.623Z"
   },
   {
    "duration": 8,
    "start_time": "2023-10-11T16:02:18.644Z"
   },
   {
    "duration": 5,
    "start_time": "2023-10-11T16:02:18.653Z"
   },
   {
    "duration": 166,
    "start_time": "2023-10-11T16:02:18.660Z"
   },
   {
    "duration": 173,
    "start_time": "2023-10-11T16:02:18.828Z"
   },
   {
    "duration": 6,
    "start_time": "2023-10-11T16:02:19.003Z"
   },
   {
    "duration": 147,
    "start_time": "2023-10-11T16:02:19.010Z"
   },
   {
    "duration": 6,
    "start_time": "2023-10-11T16:02:19.159Z"
   },
   {
    "duration": 192,
    "start_time": "2023-10-11T16:02:19.166Z"
   },
   {
    "duration": 5,
    "start_time": "2023-10-11T16:02:19.360Z"
   },
   {
    "duration": 20,
    "start_time": "2023-10-11T16:02:19.367Z"
   },
   {
    "duration": 20,
    "start_time": "2023-10-11T16:02:19.389Z"
   },
   {
    "duration": 8,
    "start_time": "2023-10-11T16:02:19.414Z"
   },
   {
    "duration": 13,
    "start_time": "2023-10-11T16:02:19.426Z"
   },
   {
    "duration": 18,
    "start_time": "2023-10-11T16:02:19.441Z"
   },
   {
    "duration": 22,
    "start_time": "2023-10-11T16:02:19.461Z"
   },
   {
    "duration": 29,
    "start_time": "2023-10-11T16:02:19.485Z"
   },
   {
    "duration": 30,
    "start_time": "2023-10-11T16:02:19.516Z"
   },
   {
    "duration": 186,
    "start_time": "2023-10-11T16:02:19.548Z"
   },
   {
    "duration": 14,
    "start_time": "2023-10-11T16:02:19.736Z"
   },
   {
    "duration": 35,
    "start_time": "2023-10-11T16:02:19.752Z"
   },
   {
    "duration": 12,
    "start_time": "2023-10-11T16:02:19.789Z"
   },
   {
    "duration": 14,
    "start_time": "2023-10-11T16:02:19.803Z"
   },
   {
    "duration": 22,
    "start_time": "2023-10-11T16:02:19.819Z"
   },
   {
    "duration": 10,
    "start_time": "2023-10-11T16:02:19.843Z"
   },
   {
    "duration": 34,
    "start_time": "2023-10-11T16:02:19.855Z"
   },
   {
    "duration": 190,
    "start_time": "2023-10-11T16:02:19.891Z"
   },
   {
    "duration": 12,
    "start_time": "2023-10-11T16:02:20.083Z"
   },
   {
    "duration": 35,
    "start_time": "2023-10-11T16:02:20.096Z"
   },
   {
    "duration": 27,
    "start_time": "2023-10-11T16:02:20.133Z"
   },
   {
    "duration": 31,
    "start_time": "2023-10-11T16:02:20.162Z"
   },
   {
    "duration": 27,
    "start_time": "2023-10-11T16:02:20.194Z"
   },
   {
    "duration": 29,
    "start_time": "2023-10-11T16:02:20.223Z"
   },
   {
    "duration": 35,
    "start_time": "2023-10-11T16:02:20.254Z"
   },
   {
    "duration": 13,
    "start_time": "2023-10-11T16:02:20.291Z"
   },
   {
    "duration": 40,
    "start_time": "2023-10-11T16:02:20.306Z"
   },
   {
    "duration": 13,
    "start_time": "2023-10-11T16:02:20.348Z"
   },
   {
    "duration": 25,
    "start_time": "2023-10-11T16:02:20.363Z"
   },
   {
    "duration": 226,
    "start_time": "2023-10-11T16:02:20.390Z"
   },
   {
    "duration": 222,
    "start_time": "2023-10-11T16:02:20.628Z"
   },
   {
    "duration": 292,
    "start_time": "2023-10-11T16:02:20.851Z"
   },
   {
    "duration": 218,
    "start_time": "2023-10-11T16:02:21.145Z"
   },
   {
    "duration": 319,
    "start_time": "2023-10-11T16:02:21.365Z"
   },
   {
    "duration": 326,
    "start_time": "2023-10-11T16:02:21.685Z"
   },
   {
    "duration": 26,
    "start_time": "2023-10-11T16:02:22.013Z"
   },
   {
    "duration": 54,
    "start_time": "2023-10-11T16:02:22.042Z"
   },
   {
    "duration": 66,
    "start_time": "2023-10-11T16:02:22.098Z"
   },
   {
    "duration": 24,
    "start_time": "2023-10-11T16:02:22.165Z"
   },
   {
    "duration": 31,
    "start_time": "2023-10-11T16:02:22.191Z"
   },
   {
    "duration": 1038,
    "start_time": "2023-10-11T16:02:22.224Z"
   },
   {
    "duration": 3,
    "start_time": "2023-10-11T16:02:23.264Z"
   },
   {
    "duration": 74,
    "start_time": "2023-10-11T16:02:23.269Z"
   },
   {
    "duration": 35,
    "start_time": "2023-10-11T16:02:23.345Z"
   },
   {
    "duration": 221,
    "start_time": "2023-10-11T16:02:23.382Z"
   },
   {
    "duration": 6,
    "start_time": "2023-10-11T16:02:23.605Z"
   },
   {
    "duration": 31,
    "start_time": "2023-10-11T16:02:23.612Z"
   },
   {
    "duration": 52,
    "start_time": "2023-10-11T16:02:23.645Z"
   },
   {
    "duration": 56,
    "start_time": "2023-10-11T16:02:23.699Z"
   },
   {
    "duration": 35,
    "start_time": "2023-10-11T16:02:23.757Z"
   },
   {
    "duration": 18,
    "start_time": "2023-10-11T16:02:23.794Z"
   },
   {
    "duration": 107,
    "start_time": "2023-10-11T16:02:23.814Z"
   },
   {
    "duration": 59,
    "start_time": "2023-10-11T16:02:23.927Z"
   },
   {
    "duration": 48,
    "start_time": "2023-10-11T16:02:23.987Z"
   },
   {
    "duration": 52,
    "start_time": "2023-10-11T16:02:24.038Z"
   },
   {
    "duration": 56,
    "start_time": "2023-10-11T16:02:24.091Z"
   },
   {
    "duration": 61,
    "start_time": "2023-10-11T16:02:24.148Z"
   },
   {
    "duration": 61,
    "start_time": "2023-10-11T16:02:24.211Z"
   },
   {
    "duration": 100,
    "start_time": "2023-10-11T16:02:24.274Z"
   },
   {
    "duration": 17,
    "start_time": "2023-10-11T16:02:24.376Z"
   },
   {
    "duration": 42,
    "start_time": "2023-10-11T16:02:24.395Z"
   },
   {
    "duration": 35,
    "start_time": "2023-10-11T16:02:24.439Z"
   },
   {
    "duration": 23,
    "start_time": "2023-10-11T16:02:24.475Z"
   },
   {
    "duration": 40,
    "start_time": "2023-10-11T16:02:24.500Z"
   },
   {
    "duration": 40,
    "start_time": "2023-10-11T16:02:24.542Z"
   },
   {
    "duration": 56,
    "start_time": "2023-10-11T16:02:24.583Z"
   },
   {
    "duration": 58,
    "start_time": "2023-10-11T16:02:24.641Z"
   },
   {
    "duration": 38,
    "start_time": "2023-10-11T16:02:24.700Z"
   },
   {
    "duration": 22,
    "start_time": "2023-10-11T16:02:24.740Z"
   },
   {
    "duration": 50,
    "start_time": "2023-10-11T16:02:24.765Z"
   },
   {
    "duration": 21,
    "start_time": "2023-10-11T16:02:24.817Z"
   },
   {
    "duration": 41,
    "start_time": "2023-10-11T16:02:24.840Z"
   },
   {
    "duration": 310,
    "start_time": "2023-10-11T16:02:24.883Z"
   },
   {
    "duration": 3,
    "start_time": "2023-10-11T16:02:25.195Z"
   },
   {
    "duration": 38,
    "start_time": "2023-10-11T16:02:25.200Z"
   },
   {
    "duration": 33,
    "start_time": "2023-10-11T16:02:25.240Z"
   },
   {
    "duration": 22,
    "start_time": "2023-10-11T16:02:25.275Z"
   },
   {
    "duration": 27,
    "start_time": "2023-10-11T16:02:25.298Z"
   },
   {
    "duration": 29,
    "start_time": "2023-10-11T16:02:25.327Z"
   },
   {
    "duration": 28,
    "start_time": "2023-10-11T16:02:25.359Z"
   },
   {
    "duration": 16,
    "start_time": "2023-10-11T16:02:25.390Z"
   },
   {
    "duration": 19,
    "start_time": "2023-10-11T16:02:25.408Z"
   },
   {
    "duration": 119,
    "start_time": "2023-10-11T16:02:25.434Z"
   },
   {
    "duration": 0,
    "start_time": "2023-10-11T16:02:25.555Z"
   },
   {
    "duration": 0,
    "start_time": "2023-10-11T16:02:25.556Z"
   },
   {
    "duration": 0,
    "start_time": "2023-10-11T16:02:25.557Z"
   },
   {
    "duration": 0,
    "start_time": "2023-10-11T16:02:25.558Z"
   },
   {
    "duration": 3,
    "start_time": "2023-10-11T16:05:10.179Z"
   },
   {
    "duration": 3,
    "start_time": "2023-10-11T16:05:10.621Z"
   },
   {
    "duration": 3,
    "start_time": "2023-10-11T16:05:10.980Z"
   },
   {
    "duration": 3,
    "start_time": "2023-10-11T16:05:11.380Z"
   },
   {
    "duration": 4,
    "start_time": "2023-10-11T16:05:12.123Z"
   },
   {
    "duration": 41,
    "start_time": "2023-10-11T16:08:19.081Z"
   },
   {
    "duration": 212,
    "start_time": "2023-10-11T16:29:20.926Z"
   },
   {
    "duration": 368,
    "start_time": "2023-10-11T16:29:34.769Z"
   },
   {
    "duration": 262,
    "start_time": "2023-10-11T16:29:46.512Z"
   },
   {
    "duration": 163,
    "start_time": "2023-10-11T16:29:52.680Z"
   },
   {
    "duration": 218,
    "start_time": "2023-10-11T16:30:00.816Z"
   },
   {
    "duration": 1351,
    "start_time": "2023-10-11T16:34:45.186Z"
   },
   {
    "duration": 30,
    "start_time": "2023-10-11T16:34:46.539Z"
   },
   {
    "duration": 12,
    "start_time": "2023-10-11T16:34:46.570Z"
   },
   {
    "duration": 16,
    "start_time": "2023-10-11T16:34:46.585Z"
   },
   {
    "duration": 5,
    "start_time": "2023-10-11T16:34:46.603Z"
   },
   {
    "duration": 6,
    "start_time": "2023-10-11T16:34:46.610Z"
   },
   {
    "duration": 32,
    "start_time": "2023-10-11T16:34:46.623Z"
   },
   {
    "duration": 10,
    "start_time": "2023-10-11T16:34:46.657Z"
   },
   {
    "duration": 13,
    "start_time": "2023-10-11T16:34:46.669Z"
   },
   {
    "duration": 11,
    "start_time": "2023-10-11T16:34:46.685Z"
   },
   {
    "duration": 15,
    "start_time": "2023-10-11T16:34:46.697Z"
   },
   {
    "duration": 18,
    "start_time": "2023-10-11T16:34:46.724Z"
   },
   {
    "duration": 10,
    "start_time": "2023-10-11T16:34:46.743Z"
   },
   {
    "duration": 8,
    "start_time": "2023-10-11T16:34:46.755Z"
   },
   {
    "duration": 14,
    "start_time": "2023-10-11T16:34:46.765Z"
   },
   {
    "duration": 14,
    "start_time": "2023-10-11T16:34:46.780Z"
   },
   {
    "duration": 16,
    "start_time": "2023-10-11T16:34:46.795Z"
   },
   {
    "duration": 16,
    "start_time": "2023-10-11T16:34:46.813Z"
   },
   {
    "duration": 15,
    "start_time": "2023-10-11T16:34:46.830Z"
   },
   {
    "duration": 5,
    "start_time": "2023-10-11T16:34:46.847Z"
   },
   {
    "duration": 22,
    "start_time": "2023-10-11T16:34:46.853Z"
   },
   {
    "duration": 23,
    "start_time": "2023-10-11T16:34:46.878Z"
   },
   {
    "duration": 11,
    "start_time": "2023-10-11T16:34:46.903Z"
   },
   {
    "duration": 12,
    "start_time": "2023-10-11T16:34:46.916Z"
   },
   {
    "duration": 9,
    "start_time": "2023-10-11T16:34:46.931Z"
   },
   {
    "duration": 11,
    "start_time": "2023-10-11T16:34:46.942Z"
   },
   {
    "duration": 7,
    "start_time": "2023-10-11T16:34:46.955Z"
   },
   {
    "duration": 7,
    "start_time": "2023-10-11T16:34:46.966Z"
   },
   {
    "duration": 23,
    "start_time": "2023-10-11T16:34:46.974Z"
   },
   {
    "duration": 26,
    "start_time": "2023-10-11T16:34:46.999Z"
   },
   {
    "duration": 5,
    "start_time": "2023-10-11T16:34:47.027Z"
   },
   {
    "duration": 164,
    "start_time": "2023-10-11T16:34:47.034Z"
   },
   {
    "duration": 169,
    "start_time": "2023-10-11T16:34:47.200Z"
   },
   {
    "duration": 5,
    "start_time": "2023-10-11T16:34:47.371Z"
   },
   {
    "duration": 125,
    "start_time": "2023-10-11T16:34:47.378Z"
   },
   {
    "duration": 6,
    "start_time": "2023-10-11T16:34:47.505Z"
   },
   {
    "duration": 160,
    "start_time": "2023-10-11T16:34:47.523Z"
   },
   {
    "duration": 6,
    "start_time": "2023-10-11T16:34:47.684Z"
   },
   {
    "duration": 6,
    "start_time": "2023-10-11T16:34:47.691Z"
   },
   {
    "duration": 25,
    "start_time": "2023-10-11T16:34:47.699Z"
   },
   {
    "duration": 7,
    "start_time": "2023-10-11T16:34:47.726Z"
   },
   {
    "duration": 2,
    "start_time": "2023-10-11T16:34:47.735Z"
   },
   {
    "duration": 7,
    "start_time": "2023-10-11T16:34:47.739Z"
   },
   {
    "duration": 4,
    "start_time": "2023-10-11T16:34:47.748Z"
   },
   {
    "duration": 9,
    "start_time": "2023-10-11T16:34:47.754Z"
   },
   {
    "duration": 11,
    "start_time": "2023-10-11T16:34:47.765Z"
   },
   {
    "duration": 236,
    "start_time": "2023-10-11T16:34:47.778Z"
   },
   {
    "duration": 11,
    "start_time": "2023-10-11T16:34:48.015Z"
   },
   {
    "duration": 45,
    "start_time": "2023-10-11T16:34:48.028Z"
   },
   {
    "duration": 11,
    "start_time": "2023-10-11T16:34:48.075Z"
   },
   {
    "duration": 14,
    "start_time": "2023-10-11T16:34:48.088Z"
   },
   {
    "duration": 23,
    "start_time": "2023-10-11T16:34:48.104Z"
   },
   {
    "duration": 28,
    "start_time": "2023-10-11T16:34:48.130Z"
   },
   {
    "duration": 10,
    "start_time": "2023-10-11T16:34:48.160Z"
   },
   {
    "duration": 165,
    "start_time": "2023-10-11T16:34:48.173Z"
   },
   {
    "duration": 11,
    "start_time": "2023-10-11T16:34:48.339Z"
   },
   {
    "duration": 29,
    "start_time": "2023-10-11T16:34:48.352Z"
   },
   {
    "duration": 10,
    "start_time": "2023-10-11T16:34:48.383Z"
   },
   {
    "duration": 23,
    "start_time": "2023-10-11T16:34:48.395Z"
   },
   {
    "duration": 10,
    "start_time": "2023-10-11T16:34:48.419Z"
   },
   {
    "duration": 20,
    "start_time": "2023-10-11T16:34:48.430Z"
   },
   {
    "duration": 13,
    "start_time": "2023-10-11T16:34:48.451Z"
   },
   {
    "duration": 18,
    "start_time": "2023-10-11T16:34:48.466Z"
   },
   {
    "duration": 32,
    "start_time": "2023-10-11T16:34:48.486Z"
   },
   {
    "duration": 8,
    "start_time": "2023-10-11T16:34:48.520Z"
   },
   {
    "duration": 19,
    "start_time": "2023-10-11T16:34:48.530Z"
   },
   {
    "duration": 211,
    "start_time": "2023-10-11T16:34:48.550Z"
   },
   {
    "duration": 299,
    "start_time": "2023-10-11T16:34:48.764Z"
   },
   {
    "duration": 189,
    "start_time": "2023-10-11T16:34:49.065Z"
   },
   {
    "duration": 195,
    "start_time": "2023-10-11T16:34:49.256Z"
   },
   {
    "duration": 281,
    "start_time": "2023-10-11T16:34:49.453Z"
   },
   {
    "duration": 320,
    "start_time": "2023-10-11T16:34:49.736Z"
   },
   {
    "duration": 8,
    "start_time": "2023-10-11T16:34:50.058Z"
   },
   {
    "duration": 35,
    "start_time": "2023-10-11T16:34:50.068Z"
   },
   {
    "duration": 33,
    "start_time": "2023-10-11T16:34:50.105Z"
   },
   {
    "duration": 37,
    "start_time": "2023-10-11T16:34:50.140Z"
   },
   {
    "duration": 13,
    "start_time": "2023-10-11T16:34:50.179Z"
   },
   {
    "duration": 955,
    "start_time": "2023-10-11T16:34:50.193Z"
   },
   {
    "duration": 4,
    "start_time": "2023-10-11T16:34:51.149Z"
   },
   {
    "duration": 50,
    "start_time": "2023-10-11T16:34:51.154Z"
   },
   {
    "duration": 9,
    "start_time": "2023-10-11T16:34:51.206Z"
   },
   {
    "duration": 160,
    "start_time": "2023-10-11T16:34:51.221Z"
   },
   {
    "duration": 7,
    "start_time": "2023-10-11T16:34:51.383Z"
   },
   {
    "duration": 83,
    "start_time": "2023-10-11T16:34:51.391Z"
   },
   {
    "duration": 33,
    "start_time": "2023-10-11T16:34:51.476Z"
   },
   {
    "duration": 46,
    "start_time": "2023-10-11T16:34:51.511Z"
   },
   {
    "duration": 142,
    "start_time": "2023-10-11T16:34:51.559Z"
   },
   {
    "duration": 46,
    "start_time": "2023-10-11T16:34:51.703Z"
   },
   {
    "duration": 25,
    "start_time": "2023-10-11T16:34:51.751Z"
   },
   {
    "duration": 65,
    "start_time": "2023-10-11T16:34:51.777Z"
   },
   {
    "duration": 135,
    "start_time": "2023-10-11T16:34:51.843Z"
   },
   {
    "duration": 39,
    "start_time": "2023-10-11T16:34:51.980Z"
   },
   {
    "duration": 35,
    "start_time": "2023-10-11T16:34:52.021Z"
   },
   {
    "duration": 28,
    "start_time": "2023-10-11T16:34:52.058Z"
   },
   {
    "duration": 25,
    "start_time": "2023-10-11T16:34:52.087Z"
   },
   {
    "duration": 112,
    "start_time": "2023-10-11T16:34:52.115Z"
   },
   {
    "duration": 87,
    "start_time": "2023-10-11T16:34:52.228Z"
   },
   {
    "duration": 98,
    "start_time": "2023-10-11T16:34:52.317Z"
   },
   {
    "duration": 40,
    "start_time": "2023-10-11T16:34:52.417Z"
   },
   {
    "duration": 18,
    "start_time": "2023-10-11T16:34:52.459Z"
   },
   {
    "duration": 45,
    "start_time": "2023-10-11T16:34:52.479Z"
   },
   {
    "duration": 16,
    "start_time": "2023-10-11T16:34:52.526Z"
   },
   {
    "duration": 12,
    "start_time": "2023-10-11T16:34:52.544Z"
   },
   {
    "duration": 14,
    "start_time": "2023-10-11T16:34:52.557Z"
   },
   {
    "duration": 39,
    "start_time": "2023-10-11T16:34:52.573Z"
   },
   {
    "duration": 42,
    "start_time": "2023-10-11T16:34:52.614Z"
   },
   {
    "duration": 12,
    "start_time": "2023-10-11T16:34:52.658Z"
   },
   {
    "duration": 32,
    "start_time": "2023-10-11T16:34:52.672Z"
   },
   {
    "duration": 10,
    "start_time": "2023-10-11T16:34:52.705Z"
   },
   {
    "duration": 264,
    "start_time": "2023-10-11T16:34:52.716Z"
   },
   {
    "duration": 3,
    "start_time": "2023-10-11T16:34:52.981Z"
   },
   {
    "duration": 44,
    "start_time": "2023-10-11T16:34:52.986Z"
   },
   {
    "duration": 30,
    "start_time": "2023-10-11T16:34:53.032Z"
   },
   {
    "duration": 23,
    "start_time": "2023-10-11T16:34:53.064Z"
   },
   {
    "duration": 33,
    "start_time": "2023-10-11T16:34:53.088Z"
   },
   {
    "duration": 45,
    "start_time": "2023-10-11T16:34:53.123Z"
   },
   {
    "duration": 19,
    "start_time": "2023-10-11T16:34:53.169Z"
   },
   {
    "duration": 24,
    "start_time": "2023-10-11T16:34:53.190Z"
   },
   {
    "duration": 14,
    "start_time": "2023-10-11T16:34:53.215Z"
   },
   {
    "duration": 151,
    "start_time": "2023-10-11T16:34:53.230Z"
   },
   {
    "duration": 119,
    "start_time": "2023-10-11T16:34:53.383Z"
   },
   {
    "duration": 125,
    "start_time": "2023-10-11T16:34:53.504Z"
   },
   {
    "duration": 44,
    "start_time": "2023-10-11T16:34:53.630Z"
   },
   {
    "duration": 59,
    "start_time": "2023-10-11T16:34:53.675Z"
   },
   {
    "duration": 112,
    "start_time": "2023-10-11T16:34:53.735Z"
   },
   {
    "duration": 41,
    "start_time": "2023-10-11T16:34:53.849Z"
   },
   {
    "duration": 1308,
    "start_time": "2023-10-12T03:41:32.167Z"
   },
   {
    "duration": 77,
    "start_time": "2023-10-12T03:41:33.477Z"
   },
   {
    "duration": 99,
    "start_time": "2023-10-12T03:41:33.556Z"
   },
   {
    "duration": 37,
    "start_time": "2023-10-12T03:41:33.657Z"
   },
   {
    "duration": 187,
    "start_time": "2023-10-12T03:41:33.696Z"
   },
   {
    "duration": 46,
    "start_time": "2023-10-12T03:41:33.885Z"
   },
   {
    "duration": 122,
    "start_time": "2023-10-12T03:41:33.933Z"
   },
   {
    "duration": 12,
    "start_time": "2023-10-12T03:41:34.057Z"
   },
   {
    "duration": 29,
    "start_time": "2023-10-12T03:41:34.071Z"
   },
   {
    "duration": 17,
    "start_time": "2023-10-12T03:41:34.102Z"
   },
   {
    "duration": 45,
    "start_time": "2023-10-12T03:41:34.121Z"
   },
   {
    "duration": 80,
    "start_time": "2023-10-12T03:41:34.168Z"
   },
   {
    "duration": 11,
    "start_time": "2023-10-12T03:41:34.249Z"
   },
   {
    "duration": 69,
    "start_time": "2023-10-12T03:41:34.261Z"
   },
   {
    "duration": 23,
    "start_time": "2023-10-12T03:41:34.332Z"
   },
   {
    "duration": 24,
    "start_time": "2023-10-12T03:41:34.356Z"
   },
   {
    "duration": 23,
    "start_time": "2023-10-12T03:41:34.382Z"
   },
   {
    "duration": 19,
    "start_time": "2023-10-12T03:41:34.407Z"
   },
   {
    "duration": 40,
    "start_time": "2023-10-12T03:41:34.428Z"
   },
   {
    "duration": 30,
    "start_time": "2023-10-12T03:41:34.470Z"
   },
   {
    "duration": 24,
    "start_time": "2023-10-12T03:41:34.502Z"
   },
   {
    "duration": 28,
    "start_time": "2023-10-12T03:41:34.528Z"
   },
   {
    "duration": 29,
    "start_time": "2023-10-12T03:41:34.557Z"
   },
   {
    "duration": 67,
    "start_time": "2023-10-12T03:41:34.587Z"
   },
   {
    "duration": 31,
    "start_time": "2023-10-12T03:41:34.656Z"
   },
   {
    "duration": 27,
    "start_time": "2023-10-12T03:41:34.689Z"
   },
   {
    "duration": 35,
    "start_time": "2023-10-12T03:41:34.718Z"
   },
   {
    "duration": 17,
    "start_time": "2023-10-12T03:41:34.757Z"
   },
   {
    "duration": 39,
    "start_time": "2023-10-12T03:41:34.776Z"
   },
   {
    "duration": 26,
    "start_time": "2023-10-12T03:41:34.816Z"
   },
   {
    "duration": 26,
    "start_time": "2023-10-12T03:41:34.843Z"
   },
   {
    "duration": 206,
    "start_time": "2023-10-12T03:41:34.870Z"
   },
   {
    "duration": 201,
    "start_time": "2023-10-12T03:41:35.078Z"
   },
   {
    "duration": 6,
    "start_time": "2023-10-12T03:41:35.281Z"
   },
   {
    "duration": 159,
    "start_time": "2023-10-12T03:41:35.288Z"
   },
   {
    "duration": 7,
    "start_time": "2023-10-12T03:41:35.449Z"
   },
   {
    "duration": 221,
    "start_time": "2023-10-12T03:41:35.457Z"
   },
   {
    "duration": 6,
    "start_time": "2023-10-12T03:41:35.680Z"
   },
   {
    "duration": 56,
    "start_time": "2023-10-12T03:41:35.687Z"
   },
   {
    "duration": 86,
    "start_time": "2023-10-12T03:41:35.745Z"
   },
   {
    "duration": 31,
    "start_time": "2023-10-12T03:41:35.832Z"
   },
   {
    "duration": 58,
    "start_time": "2023-10-12T03:41:35.865Z"
   },
   {
    "duration": 28,
    "start_time": "2023-10-12T03:41:35.925Z"
   },
   {
    "duration": 57,
    "start_time": "2023-10-12T03:41:35.954Z"
   },
   {
    "duration": 34,
    "start_time": "2023-10-12T03:41:36.013Z"
   },
   {
    "duration": 53,
    "start_time": "2023-10-12T03:41:36.049Z"
   },
   {
    "duration": 241,
    "start_time": "2023-10-12T03:41:36.104Z"
   },
   {
    "duration": 8,
    "start_time": "2023-10-12T03:41:36.347Z"
   },
   {
    "duration": 25,
    "start_time": "2023-10-12T03:41:36.356Z"
   },
   {
    "duration": 22,
    "start_time": "2023-10-12T03:41:36.382Z"
   },
   {
    "duration": 32,
    "start_time": "2023-10-12T03:41:36.406Z"
   },
   {
    "duration": 32,
    "start_time": "2023-10-12T03:41:36.440Z"
   },
   {
    "duration": 47,
    "start_time": "2023-10-12T03:41:36.474Z"
   },
   {
    "duration": 37,
    "start_time": "2023-10-12T03:41:36.523Z"
   },
   {
    "duration": 190,
    "start_time": "2023-10-12T03:41:36.562Z"
   },
   {
    "duration": 12,
    "start_time": "2023-10-12T03:41:36.753Z"
   },
   {
    "duration": 37,
    "start_time": "2023-10-12T03:41:36.766Z"
   },
   {
    "duration": 26,
    "start_time": "2023-10-12T03:41:36.805Z"
   },
   {
    "duration": 57,
    "start_time": "2023-10-12T03:41:36.834Z"
   },
   {
    "duration": 28,
    "start_time": "2023-10-12T03:41:36.893Z"
   },
   {
    "duration": 37,
    "start_time": "2023-10-12T03:41:36.923Z"
   },
   {
    "duration": 30,
    "start_time": "2023-10-12T03:41:36.962Z"
   },
   {
    "duration": 34,
    "start_time": "2023-10-12T03:41:36.994Z"
   },
   {
    "duration": 49,
    "start_time": "2023-10-12T03:41:37.030Z"
   },
   {
    "duration": 40,
    "start_time": "2023-10-12T03:41:37.081Z"
   },
   {
    "duration": 60,
    "start_time": "2023-10-12T03:41:37.122Z"
   },
   {
    "duration": 283,
    "start_time": "2023-10-12T03:41:37.184Z"
   },
   {
    "duration": 313,
    "start_time": "2023-10-12T03:41:37.468Z"
   },
   {
    "duration": 200,
    "start_time": "2023-10-12T03:41:37.783Z"
   },
   {
    "duration": 226,
    "start_time": "2023-10-12T03:41:37.985Z"
   },
   {
    "duration": 318,
    "start_time": "2023-10-12T03:41:38.213Z"
   },
   {
    "duration": 344,
    "start_time": "2023-10-12T03:41:38.534Z"
   },
   {
    "duration": 9,
    "start_time": "2023-10-12T03:41:38.880Z"
   },
   {
    "duration": 22,
    "start_time": "2023-10-12T03:41:38.891Z"
   },
   {
    "duration": 8,
    "start_time": "2023-10-12T03:41:38.915Z"
   },
   {
    "duration": 26,
    "start_time": "2023-10-12T03:41:38.925Z"
   },
   {
    "duration": 4,
    "start_time": "2023-10-12T03:41:38.953Z"
   },
   {
    "duration": 967,
    "start_time": "2023-10-12T03:41:38.958Z"
   },
   {
    "duration": 4,
    "start_time": "2023-10-12T03:41:39.927Z"
   },
   {
    "duration": 31,
    "start_time": "2023-10-12T03:41:39.932Z"
   },
   {
    "duration": 7,
    "start_time": "2023-10-12T03:41:39.965Z"
   },
   {
    "duration": 158,
    "start_time": "2023-10-12T03:41:39.979Z"
   },
   {
    "duration": 8,
    "start_time": "2023-10-12T03:41:40.139Z"
   },
   {
    "duration": 31,
    "start_time": "2023-10-12T03:41:40.149Z"
   },
   {
    "duration": 25,
    "start_time": "2023-10-12T03:41:40.182Z"
   },
   {
    "duration": 14,
    "start_time": "2023-10-12T03:41:40.208Z"
   },
   {
    "duration": 18,
    "start_time": "2023-10-12T03:41:40.224Z"
   },
   {
    "duration": 18,
    "start_time": "2023-10-12T03:41:40.244Z"
   },
   {
    "duration": 36,
    "start_time": "2023-10-12T03:41:40.264Z"
   },
   {
    "duration": 41,
    "start_time": "2023-10-12T03:41:40.303Z"
   },
   {
    "duration": 18,
    "start_time": "2023-10-12T03:41:40.346Z"
   },
   {
    "duration": 23,
    "start_time": "2023-10-12T03:41:40.366Z"
   },
   {
    "duration": 48,
    "start_time": "2023-10-12T03:41:40.391Z"
   },
   {
    "duration": 20,
    "start_time": "2023-10-12T03:41:40.441Z"
   },
   {
    "duration": 22,
    "start_time": "2023-10-12T03:41:40.462Z"
   },
   {
    "duration": 40,
    "start_time": "2023-10-12T03:41:40.486Z"
   },
   {
    "duration": 33,
    "start_time": "2023-10-12T03:41:40.528Z"
   },
   {
    "duration": 16,
    "start_time": "2023-10-12T03:41:40.563Z"
   },
   {
    "duration": 16,
    "start_time": "2023-10-12T03:41:40.581Z"
   },
   {
    "duration": 15,
    "start_time": "2023-10-12T03:41:40.599Z"
   },
   {
    "duration": 15,
    "start_time": "2023-10-12T03:41:40.616Z"
   },
   {
    "duration": 15,
    "start_time": "2023-10-12T03:41:40.633Z"
   },
   {
    "duration": 7,
    "start_time": "2023-10-12T03:41:40.650Z"
   },
   {
    "duration": 22,
    "start_time": "2023-10-12T03:41:40.658Z"
   },
   {
    "duration": 9,
    "start_time": "2023-10-12T03:41:40.682Z"
   },
   {
    "duration": 30,
    "start_time": "2023-10-12T03:41:40.693Z"
   },
   {
    "duration": 4,
    "start_time": "2023-10-12T03:41:40.724Z"
   },
   {
    "duration": 19,
    "start_time": "2023-10-12T03:41:40.729Z"
   },
   {
    "duration": 6,
    "start_time": "2023-10-12T03:41:40.750Z"
   },
   {
    "duration": 281,
    "start_time": "2023-10-12T03:41:40.758Z"
   },
   {
    "duration": 2,
    "start_time": "2023-10-12T03:41:41.047Z"
   },
   {
    "duration": 10,
    "start_time": "2023-10-12T03:41:41.050Z"
   },
   {
    "duration": 24,
    "start_time": "2023-10-12T03:41:41.062Z"
   },
   {
    "duration": 19,
    "start_time": "2023-10-12T03:41:41.088Z"
   },
   {
    "duration": 17,
    "start_time": "2023-10-12T03:41:41.109Z"
   },
   {
    "duration": 30,
    "start_time": "2023-10-12T03:41:41.128Z"
   },
   {
    "duration": 20,
    "start_time": "2023-10-12T03:41:41.160Z"
   },
   {
    "duration": 36,
    "start_time": "2023-10-12T03:41:41.182Z"
   },
   {
    "duration": 36,
    "start_time": "2023-10-12T03:41:41.220Z"
   },
   {
    "duration": 34,
    "start_time": "2023-10-12T03:41:41.257Z"
   },
   {
    "duration": 35,
    "start_time": "2023-10-12T03:41:41.293Z"
   },
   {
    "duration": 54,
    "start_time": "2023-10-12T03:41:41.329Z"
   },
   {
    "duration": 9,
    "start_time": "2023-10-12T03:41:41.385Z"
   },
   {
    "duration": 21,
    "start_time": "2023-10-12T03:41:41.396Z"
   },
   {
    "duration": 39,
    "start_time": "2023-10-12T03:41:41.419Z"
   },
   {
    "duration": 16,
    "start_time": "2023-10-12T03:41:41.460Z"
   },
   {
    "duration": 1321,
    "start_time": "2023-10-12T03:44:28.269Z"
   },
   {
    "duration": 30,
    "start_time": "2023-10-12T03:44:29.592Z"
   },
   {
    "duration": 21,
    "start_time": "2023-10-12T03:44:29.624Z"
   },
   {
    "duration": 50,
    "start_time": "2023-10-12T03:44:29.647Z"
   },
   {
    "duration": 48,
    "start_time": "2023-10-12T03:44:29.699Z"
   },
   {
    "duration": 33,
    "start_time": "2023-10-12T03:44:29.749Z"
   },
   {
    "duration": 43,
    "start_time": "2023-10-12T03:44:29.784Z"
   },
   {
    "duration": 13,
    "start_time": "2023-10-12T03:44:29.828Z"
   },
   {
    "duration": 38,
    "start_time": "2023-10-12T03:44:29.842Z"
   },
   {
    "duration": 27,
    "start_time": "2023-10-12T03:44:29.883Z"
   },
   {
    "duration": 20,
    "start_time": "2023-10-12T03:44:29.912Z"
   },
   {
    "duration": 36,
    "start_time": "2023-10-12T03:44:29.933Z"
   },
   {
    "duration": 20,
    "start_time": "2023-10-12T03:44:29.971Z"
   },
   {
    "duration": 58,
    "start_time": "2023-10-12T03:44:29.993Z"
   },
   {
    "duration": 62,
    "start_time": "2023-10-12T03:44:30.053Z"
   },
   {
    "duration": 101,
    "start_time": "2023-10-12T03:44:30.117Z"
   },
   {
    "duration": 99,
    "start_time": "2023-10-12T03:44:30.219Z"
   },
   {
    "duration": 110,
    "start_time": "2023-10-12T03:44:30.320Z"
   },
   {
    "duration": 60,
    "start_time": "2023-10-12T03:44:30.432Z"
   },
   {
    "duration": 157,
    "start_time": "2023-10-12T03:44:30.494Z"
   },
   {
    "duration": 51,
    "start_time": "2023-10-12T03:44:30.653Z"
   },
   {
    "duration": 53,
    "start_time": "2023-10-12T03:44:30.707Z"
   },
   {
    "duration": 55,
    "start_time": "2023-10-12T03:44:30.762Z"
   },
   {
    "duration": 89,
    "start_time": "2023-10-12T03:44:30.820Z"
   },
   {
    "duration": 181,
    "start_time": "2023-10-12T03:44:30.911Z"
   },
   {
    "duration": 547,
    "start_time": "2023-10-12T03:44:31.094Z"
   },
   {
    "duration": 53,
    "start_time": "2023-10-12T03:44:31.643Z"
   },
   {
    "duration": 54,
    "start_time": "2023-10-12T03:44:31.701Z"
   },
   {
    "duration": 24,
    "start_time": "2023-10-12T03:44:31.757Z"
   },
   {
    "duration": 25,
    "start_time": "2023-10-12T03:44:31.783Z"
   },
   {
    "duration": 28,
    "start_time": "2023-10-12T03:44:31.809Z"
   },
   {
    "duration": 198,
    "start_time": "2023-10-12T03:44:31.839Z"
   },
   {
    "duration": 191,
    "start_time": "2023-10-12T03:44:32.039Z"
   },
   {
    "duration": 6,
    "start_time": "2023-10-12T03:44:32.232Z"
   },
   {
    "duration": 132,
    "start_time": "2023-10-12T03:44:32.247Z"
   },
   {
    "duration": 5,
    "start_time": "2023-10-12T03:44:32.381Z"
   },
   {
    "duration": 219,
    "start_time": "2023-10-12T03:44:32.388Z"
   },
   {
    "duration": 7,
    "start_time": "2023-10-12T03:44:32.608Z"
   },
   {
    "duration": 59,
    "start_time": "2023-10-12T03:44:32.616Z"
   },
   {
    "duration": 33,
    "start_time": "2023-10-12T03:44:32.677Z"
   },
   {
    "duration": 26,
    "start_time": "2023-10-12T03:44:32.712Z"
   },
   {
    "duration": 26,
    "start_time": "2023-10-12T03:44:32.739Z"
   },
   {
    "duration": 32,
    "start_time": "2023-10-12T03:44:32.767Z"
   },
   {
    "duration": 49,
    "start_time": "2023-10-12T03:44:32.801Z"
   },
   {
    "duration": 28,
    "start_time": "2023-10-12T03:44:32.851Z"
   },
   {
    "duration": 22,
    "start_time": "2023-10-12T03:44:32.881Z"
   },
   {
    "duration": 242,
    "start_time": "2023-10-12T03:44:32.905Z"
   },
   {
    "duration": 9,
    "start_time": "2023-10-12T03:44:33.148Z"
   },
   {
    "duration": 37,
    "start_time": "2023-10-12T03:44:33.159Z"
   },
   {
    "duration": 161,
    "start_time": "2023-10-12T03:44:33.198Z"
   },
   {
    "duration": 320,
    "start_time": "2023-10-12T03:44:33.361Z"
   },
   {
    "duration": 102,
    "start_time": "2023-10-12T03:44:33.683Z"
   },
   {
    "duration": 16,
    "start_time": "2023-10-12T03:44:33.787Z"
   },
   {
    "duration": 24,
    "start_time": "2023-10-12T03:44:33.805Z"
   },
   {
    "duration": 172,
    "start_time": "2023-10-12T03:44:33.830Z"
   },
   {
    "duration": 11,
    "start_time": "2023-10-12T03:44:34.003Z"
   },
   {
    "duration": 23,
    "start_time": "2023-10-12T03:44:34.016Z"
   },
   {
    "duration": 14,
    "start_time": "2023-10-12T03:44:34.040Z"
   },
   {
    "duration": 12,
    "start_time": "2023-10-12T03:44:34.056Z"
   },
   {
    "duration": 16,
    "start_time": "2023-10-12T03:44:34.069Z"
   },
   {
    "duration": 23,
    "start_time": "2023-10-12T03:44:34.087Z"
   },
   {
    "duration": 42,
    "start_time": "2023-10-12T03:44:34.112Z"
   },
   {
    "duration": 10,
    "start_time": "2023-10-12T03:44:34.155Z"
   },
   {
    "duration": 29,
    "start_time": "2023-10-12T03:44:34.167Z"
   },
   {
    "duration": 24,
    "start_time": "2023-10-12T03:44:34.198Z"
   },
   {
    "duration": 35,
    "start_time": "2023-10-12T03:44:34.224Z"
   },
   {
    "duration": 225,
    "start_time": "2023-10-12T03:44:34.261Z"
   },
   {
    "duration": 306,
    "start_time": "2023-10-12T03:44:34.488Z"
   },
   {
    "duration": 204,
    "start_time": "2023-10-12T03:44:34.796Z"
   },
   {
    "duration": 241,
    "start_time": "2023-10-12T03:44:35.002Z"
   },
   {
    "duration": 328,
    "start_time": "2023-10-12T03:44:35.247Z"
   },
   {
    "duration": 342,
    "start_time": "2023-10-12T03:44:35.577Z"
   },
   {
    "duration": 8,
    "start_time": "2023-10-12T03:44:35.920Z"
   },
   {
    "duration": 22,
    "start_time": "2023-10-12T03:44:35.930Z"
   },
   {
    "duration": 40,
    "start_time": "2023-10-12T03:44:35.954Z"
   },
   {
    "duration": 36,
    "start_time": "2023-10-12T03:44:35.997Z"
   },
   {
    "duration": 18,
    "start_time": "2023-10-12T03:44:36.035Z"
   },
   {
    "duration": 958,
    "start_time": "2023-10-12T03:44:36.055Z"
   },
   {
    "duration": 4,
    "start_time": "2023-10-12T03:44:37.015Z"
   },
   {
    "duration": 30,
    "start_time": "2023-10-12T03:44:37.021Z"
   },
   {
    "duration": 9,
    "start_time": "2023-10-12T03:44:37.054Z"
   },
   {
    "duration": 155,
    "start_time": "2023-10-12T03:44:37.070Z"
   },
   {
    "duration": 7,
    "start_time": "2023-10-12T03:44:37.227Z"
   },
   {
    "duration": 12,
    "start_time": "2023-10-12T03:44:37.246Z"
   },
   {
    "duration": 30,
    "start_time": "2023-10-12T03:44:37.260Z"
   },
   {
    "duration": 15,
    "start_time": "2023-10-12T03:44:37.291Z"
   },
   {
    "duration": 10,
    "start_time": "2023-10-12T03:44:37.308Z"
   },
   {
    "duration": 27,
    "start_time": "2023-10-12T03:44:37.320Z"
   },
   {
    "duration": 14,
    "start_time": "2023-10-12T03:44:37.349Z"
   },
   {
    "duration": 23,
    "start_time": "2023-10-12T03:44:37.364Z"
   },
   {
    "duration": 16,
    "start_time": "2023-10-12T03:44:37.388Z"
   },
   {
    "duration": 14,
    "start_time": "2023-10-12T03:44:37.405Z"
   },
   {
    "duration": 24,
    "start_time": "2023-10-12T03:44:37.421Z"
   },
   {
    "duration": 19,
    "start_time": "2023-10-12T03:44:37.447Z"
   },
   {
    "duration": 19,
    "start_time": "2023-10-12T03:44:37.469Z"
   },
   {
    "duration": 19,
    "start_time": "2023-10-12T03:44:37.490Z"
   },
   {
    "duration": 30,
    "start_time": "2023-10-12T03:44:37.510Z"
   },
   {
    "duration": 18,
    "start_time": "2023-10-12T03:44:37.542Z"
   },
   {
    "duration": 18,
    "start_time": "2023-10-12T03:44:37.562Z"
   },
   {
    "duration": 16,
    "start_time": "2023-10-12T03:44:37.582Z"
   },
   {
    "duration": 15,
    "start_time": "2023-10-12T03:44:37.599Z"
   },
   {
    "duration": 34,
    "start_time": "2023-10-12T03:44:37.616Z"
   },
   {
    "duration": 63,
    "start_time": "2023-10-12T03:44:37.652Z"
   },
   {
    "duration": 47,
    "start_time": "2023-10-12T03:44:37.717Z"
   },
   {
    "duration": 24,
    "start_time": "2023-10-12T03:44:37.766Z"
   },
   {
    "duration": 53,
    "start_time": "2023-10-12T03:44:37.792Z"
   },
   {
    "duration": 22,
    "start_time": "2023-10-12T03:44:37.847Z"
   },
   {
    "duration": 36,
    "start_time": "2023-10-12T03:44:37.871Z"
   },
   {
    "duration": 33,
    "start_time": "2023-10-12T03:44:37.908Z"
   },
   {
    "duration": 303,
    "start_time": "2023-10-12T03:44:37.943Z"
   },
   {
    "duration": 3,
    "start_time": "2023-10-12T03:44:38.248Z"
   },
   {
    "duration": 210,
    "start_time": "2023-10-12T03:44:38.252Z"
   },
   {
    "duration": 286,
    "start_time": "2023-10-12T03:44:38.464Z"
   },
   {
    "duration": 35,
    "start_time": "2023-10-12T03:44:38.752Z"
   },
   {
    "duration": 87,
    "start_time": "2023-10-12T03:44:38.789Z"
   },
   {
    "duration": 64,
    "start_time": "2023-10-12T03:44:38.878Z"
   },
   {
    "duration": 29,
    "start_time": "2023-10-12T03:44:38.944Z"
   },
   {
    "duration": 7,
    "start_time": "2023-10-12T03:44:38.975Z"
   },
   {
    "duration": 14,
    "start_time": "2023-10-12T03:44:38.983Z"
   },
   {
    "duration": 8,
    "start_time": "2023-10-12T03:44:38.998Z"
   },
   {
    "duration": 10,
    "start_time": "2023-10-12T03:44:39.008Z"
   },
   {
    "duration": 37,
    "start_time": "2023-10-12T03:44:39.020Z"
   },
   {
    "duration": 3,
    "start_time": "2023-10-12T03:44:39.059Z"
   },
   {
    "duration": 39,
    "start_time": "2023-10-12T03:44:39.064Z"
   },
   {
    "duration": 16,
    "start_time": "2023-10-12T03:44:39.105Z"
   },
   {
    "duration": 8,
    "start_time": "2023-10-12T03:44:39.123Z"
   },
   {
    "duration": 1475,
    "start_time": "2023-10-12T16:36:48.092Z"
   },
   {
    "duration": 84,
    "start_time": "2023-10-12T16:36:49.571Z"
   },
   {
    "duration": 14,
    "start_time": "2023-10-12T16:36:49.658Z"
   },
   {
    "duration": 33,
    "start_time": "2023-10-12T16:36:49.674Z"
   },
   {
    "duration": 6,
    "start_time": "2023-10-12T16:36:49.709Z"
   },
   {
    "duration": 42,
    "start_time": "2023-10-12T16:36:49.716Z"
   },
   {
    "duration": 77,
    "start_time": "2023-10-12T16:36:49.760Z"
   },
   {
    "duration": 13,
    "start_time": "2023-10-12T16:36:49.839Z"
   },
   {
    "duration": 21,
    "start_time": "2023-10-12T16:36:49.857Z"
   },
   {
    "duration": 41,
    "start_time": "2023-10-12T16:36:49.880Z"
   },
   {
    "duration": 38,
    "start_time": "2023-10-12T16:36:49.923Z"
   },
   {
    "duration": 80,
    "start_time": "2023-10-12T16:36:49.962Z"
   },
   {
    "duration": 14,
    "start_time": "2023-10-12T16:36:50.045Z"
   },
   {
    "duration": 68,
    "start_time": "2023-10-12T16:36:50.061Z"
   },
   {
    "duration": 45,
    "start_time": "2023-10-12T16:36:50.130Z"
   },
   {
    "duration": 35,
    "start_time": "2023-10-12T16:36:50.177Z"
   },
   {
    "duration": 60,
    "start_time": "2023-10-12T16:36:50.213Z"
   },
   {
    "duration": 57,
    "start_time": "2023-10-12T16:36:50.275Z"
   },
   {
    "duration": 35,
    "start_time": "2023-10-12T16:36:50.333Z"
   },
   {
    "duration": 38,
    "start_time": "2023-10-12T16:36:50.370Z"
   },
   {
    "duration": 46,
    "start_time": "2023-10-12T16:36:50.410Z"
   },
   {
    "duration": 32,
    "start_time": "2023-10-12T16:36:50.460Z"
   },
   {
    "duration": 56,
    "start_time": "2023-10-12T16:36:50.494Z"
   },
   {
    "duration": 10,
    "start_time": "2023-10-12T16:36:50.555Z"
   },
   {
    "duration": 51,
    "start_time": "2023-10-12T16:36:50.567Z"
   },
   {
    "duration": 30,
    "start_time": "2023-10-12T16:36:50.620Z"
   },
   {
    "duration": 35,
    "start_time": "2023-10-12T16:36:50.655Z"
   },
   {
    "duration": 49,
    "start_time": "2023-10-12T16:36:50.692Z"
   },
   {
    "duration": 42,
    "start_time": "2023-10-12T16:36:50.743Z"
   },
   {
    "duration": 36,
    "start_time": "2023-10-12T16:36:50.787Z"
   },
   {
    "duration": 37,
    "start_time": "2023-10-12T16:36:50.824Z"
   },
   {
    "duration": 206,
    "start_time": "2023-10-12T16:36:50.862Z"
   },
   {
    "duration": 190,
    "start_time": "2023-10-12T16:36:51.070Z"
   },
   {
    "duration": 7,
    "start_time": "2023-10-12T16:36:51.262Z"
   },
   {
    "duration": 147,
    "start_time": "2023-10-12T16:36:51.270Z"
   },
   {
    "duration": 5,
    "start_time": "2023-10-12T16:36:51.419Z"
   },
   {
    "duration": 183,
    "start_time": "2023-10-12T16:36:51.426Z"
   },
   {
    "duration": 5,
    "start_time": "2023-10-12T16:36:51.611Z"
   },
   {
    "duration": 44,
    "start_time": "2023-10-12T16:36:51.617Z"
   },
   {
    "duration": 36,
    "start_time": "2023-10-12T16:36:51.663Z"
   },
   {
    "duration": 30,
    "start_time": "2023-10-12T16:36:51.701Z"
   },
   {
    "duration": 25,
    "start_time": "2023-10-12T16:36:51.732Z"
   },
   {
    "duration": 37,
    "start_time": "2023-10-12T16:36:51.759Z"
   },
   {
    "duration": 59,
    "start_time": "2023-10-12T16:36:51.798Z"
   },
   {
    "duration": 21,
    "start_time": "2023-10-12T16:36:51.859Z"
   },
   {
    "duration": 48,
    "start_time": "2023-10-12T16:36:51.881Z"
   },
   {
    "duration": 238,
    "start_time": "2023-10-12T16:36:51.931Z"
   },
   {
    "duration": 6,
    "start_time": "2023-10-12T16:36:52.171Z"
   },
   {
    "duration": 37,
    "start_time": "2023-10-12T16:36:52.179Z"
   },
   {
    "duration": 24,
    "start_time": "2023-10-12T16:36:52.218Z"
   },
   {
    "duration": 37,
    "start_time": "2023-10-12T16:36:52.244Z"
   },
   {
    "duration": 25,
    "start_time": "2023-10-12T16:36:52.283Z"
   },
   {
    "duration": 49,
    "start_time": "2023-10-12T16:36:52.310Z"
   },
   {
    "duration": 39,
    "start_time": "2023-10-12T16:36:52.361Z"
   },
   {
    "duration": 212,
    "start_time": "2023-10-12T16:36:52.402Z"
   },
   {
    "duration": 11,
    "start_time": "2023-10-12T16:36:52.616Z"
   },
   {
    "duration": 36,
    "start_time": "2023-10-12T16:36:52.628Z"
   },
   {
    "duration": 37,
    "start_time": "2023-10-12T16:36:52.666Z"
   },
   {
    "duration": 25,
    "start_time": "2023-10-12T16:36:52.705Z"
   },
   {
    "duration": 28,
    "start_time": "2023-10-12T16:36:52.732Z"
   },
   {
    "duration": 36,
    "start_time": "2023-10-12T16:36:52.761Z"
   },
   {
    "duration": 56,
    "start_time": "2023-10-12T16:36:52.799Z"
   },
   {
    "duration": 53,
    "start_time": "2023-10-12T16:36:52.859Z"
   },
   {
    "duration": 52,
    "start_time": "2023-10-12T16:36:52.914Z"
   },
   {
    "duration": 36,
    "start_time": "2023-10-12T16:36:52.967Z"
   },
   {
    "duration": 32,
    "start_time": "2023-10-12T16:36:53.005Z"
   },
   {
    "duration": 229,
    "start_time": "2023-10-12T16:36:53.039Z"
   },
   {
    "duration": 291,
    "start_time": "2023-10-12T16:36:53.270Z"
   },
   {
    "duration": 213,
    "start_time": "2023-10-12T16:36:53.563Z"
   },
   {
    "duration": 234,
    "start_time": "2023-10-12T16:36:53.778Z"
   },
   {
    "duration": 304,
    "start_time": "2023-10-12T16:36:54.014Z"
   },
   {
    "duration": 420,
    "start_time": "2023-10-12T16:36:54.319Z"
   },
   {
    "duration": 21,
    "start_time": "2023-10-12T16:36:54.741Z"
   },
   {
    "duration": 22,
    "start_time": "2023-10-12T16:36:54.766Z"
   },
   {
    "duration": 37,
    "start_time": "2023-10-12T16:36:54.790Z"
   },
   {
    "duration": 44,
    "start_time": "2023-10-12T16:36:54.829Z"
   },
   {
    "duration": 8,
    "start_time": "2023-10-12T16:36:54.875Z"
   },
   {
    "duration": 916,
    "start_time": "2023-10-12T16:36:54.885Z"
   },
   {
    "duration": 3,
    "start_time": "2023-10-12T16:36:55.803Z"
   },
   {
    "duration": 46,
    "start_time": "2023-10-12T16:36:55.807Z"
   },
   {
    "duration": 3,
    "start_time": "2023-10-12T16:36:55.861Z"
   },
   {
    "duration": 191,
    "start_time": "2023-10-12T16:36:55.866Z"
   },
   {
    "duration": 7,
    "start_time": "2023-10-12T16:36:56.059Z"
   },
   {
    "duration": 21,
    "start_time": "2023-10-12T16:36:56.068Z"
   },
   {
    "duration": 37,
    "start_time": "2023-10-12T16:36:56.091Z"
   },
   {
    "duration": 32,
    "start_time": "2023-10-12T16:36:56.129Z"
   },
   {
    "duration": 6,
    "start_time": "2023-10-12T16:36:56.162Z"
   },
   {
    "duration": 7,
    "start_time": "2023-10-12T16:36:56.170Z"
   },
   {
    "duration": 19,
    "start_time": "2023-10-12T16:36:56.178Z"
   },
   {
    "duration": 22,
    "start_time": "2023-10-12T16:36:56.198Z"
   },
   {
    "duration": 13,
    "start_time": "2023-10-12T16:36:56.221Z"
   },
   {
    "duration": 17,
    "start_time": "2023-10-12T16:36:56.236Z"
   },
   {
    "duration": 12,
    "start_time": "2023-10-12T16:36:56.257Z"
   },
   {
    "duration": 31,
    "start_time": "2023-10-12T16:36:56.270Z"
   },
   {
    "duration": 8,
    "start_time": "2023-10-12T16:36:56.303Z"
   },
   {
    "duration": 24,
    "start_time": "2023-10-12T16:36:56.312Z"
   },
   {
    "duration": 20,
    "start_time": "2023-10-12T16:36:56.338Z"
   },
   {
    "duration": 9,
    "start_time": "2023-10-12T16:36:56.359Z"
   },
   {
    "duration": 59,
    "start_time": "2023-10-12T16:36:56.370Z"
   },
   {
    "duration": 30,
    "start_time": "2023-10-12T16:36:56.431Z"
   },
   {
    "duration": 16,
    "start_time": "2023-10-12T16:36:56.462Z"
   },
   {
    "duration": 27,
    "start_time": "2023-10-12T16:36:56.479Z"
   },
   {
    "duration": 15,
    "start_time": "2023-10-12T16:36:56.508Z"
   },
   {
    "duration": 19,
    "start_time": "2023-10-12T16:36:56.525Z"
   },
   {
    "duration": 9,
    "start_time": "2023-10-12T16:36:56.546Z"
   },
   {
    "duration": 12,
    "start_time": "2023-10-12T16:36:56.556Z"
   },
   {
    "duration": 7,
    "start_time": "2023-10-12T16:36:56.570Z"
   },
   {
    "duration": 10,
    "start_time": "2023-10-12T16:36:56.578Z"
   },
   {
    "duration": 10,
    "start_time": "2023-10-12T16:36:56.589Z"
   },
   {
    "duration": 262,
    "start_time": "2023-10-12T16:36:56.600Z"
   },
   {
    "duration": 2,
    "start_time": "2023-10-12T16:36:56.864Z"
   },
   {
    "duration": 13,
    "start_time": "2023-10-12T16:36:56.868Z"
   },
   {
    "duration": 19,
    "start_time": "2023-10-12T16:36:56.883Z"
   },
   {
    "duration": 11,
    "start_time": "2023-10-12T16:36:56.904Z"
   },
   {
    "duration": 10,
    "start_time": "2023-10-12T16:36:56.916Z"
   },
   {
    "duration": 12,
    "start_time": "2023-10-12T16:36:56.928Z"
   },
   {
    "duration": 13,
    "start_time": "2023-10-12T16:36:56.942Z"
   },
   {
    "duration": 12,
    "start_time": "2023-10-12T16:36:56.957Z"
   },
   {
    "duration": 23,
    "start_time": "2023-10-12T16:36:56.971Z"
   },
   {
    "duration": 9,
    "start_time": "2023-10-12T16:36:56.996Z"
   },
   {
    "duration": 8,
    "start_time": "2023-10-12T16:36:57.007Z"
   },
   {
    "duration": 39,
    "start_time": "2023-10-12T16:36:57.017Z"
   },
   {
    "duration": 3,
    "start_time": "2023-10-12T16:36:57.058Z"
   },
   {
    "duration": 12,
    "start_time": "2023-10-12T16:36:57.063Z"
   },
   {
    "duration": 21,
    "start_time": "2023-10-12T16:36:57.076Z"
   },
   {
    "duration": 28,
    "start_time": "2023-10-12T16:36:57.099Z"
   },
   {
    "duration": 1284,
    "start_time": "2023-10-12T16:47:09.332Z"
   },
   {
    "duration": 40,
    "start_time": "2023-10-12T16:47:10.618Z"
   },
   {
    "duration": 11,
    "start_time": "2023-10-12T16:47:10.660Z"
   },
   {
    "duration": 35,
    "start_time": "2023-10-12T16:47:10.674Z"
   },
   {
    "duration": 30,
    "start_time": "2023-10-12T16:47:10.711Z"
   },
   {
    "duration": 44,
    "start_time": "2023-10-12T16:47:10.743Z"
   },
   {
    "duration": 43,
    "start_time": "2023-10-12T16:47:10.789Z"
   },
   {
    "duration": 21,
    "start_time": "2023-10-12T16:47:10.834Z"
   },
   {
    "duration": 25,
    "start_time": "2023-10-12T16:47:10.857Z"
   },
   {
    "duration": 24,
    "start_time": "2023-10-12T16:47:10.885Z"
   },
   {
    "duration": 23,
    "start_time": "2023-10-12T16:47:10.910Z"
   },
   {
    "duration": 31,
    "start_time": "2023-10-12T16:47:10.935Z"
   },
   {
    "duration": 28,
    "start_time": "2023-10-12T16:47:10.967Z"
   },
   {
    "duration": 51,
    "start_time": "2023-10-12T16:47:10.997Z"
   },
   {
    "duration": 23,
    "start_time": "2023-10-12T16:47:11.050Z"
   },
   {
    "duration": 81,
    "start_time": "2023-10-12T16:47:11.075Z"
   },
   {
    "duration": 13,
    "start_time": "2023-10-12T16:47:11.158Z"
   },
   {
    "duration": 35,
    "start_time": "2023-10-12T16:47:11.173Z"
   },
   {
    "duration": 13,
    "start_time": "2023-10-12T16:47:11.209Z"
   },
   {
    "duration": 13,
    "start_time": "2023-10-12T16:47:11.225Z"
   },
   {
    "duration": 33,
    "start_time": "2023-10-12T16:47:11.240Z"
   },
   {
    "duration": 16,
    "start_time": "2023-10-12T16:47:11.274Z"
   },
   {
    "duration": 29,
    "start_time": "2023-10-12T16:47:11.291Z"
   },
   {
    "duration": 31,
    "start_time": "2023-10-12T16:47:11.322Z"
   },
   {
    "duration": 21,
    "start_time": "2023-10-12T16:47:11.355Z"
   },
   {
    "duration": 13,
    "start_time": "2023-10-12T16:47:11.377Z"
   },
   {
    "duration": 25,
    "start_time": "2023-10-12T16:47:11.392Z"
   },
   {
    "duration": 14,
    "start_time": "2023-10-12T16:47:11.421Z"
   },
   {
    "duration": 26,
    "start_time": "2023-10-12T16:47:11.437Z"
   },
   {
    "duration": 26,
    "start_time": "2023-10-12T16:47:11.464Z"
   },
   {
    "duration": 28,
    "start_time": "2023-10-12T16:47:11.492Z"
   },
   {
    "duration": 192,
    "start_time": "2023-10-12T16:47:11.522Z"
   },
   {
    "duration": 165,
    "start_time": "2023-10-12T16:47:11.716Z"
   },
   {
    "duration": 5,
    "start_time": "2023-10-12T16:47:11.882Z"
   },
   {
    "duration": 128,
    "start_time": "2023-10-12T16:47:11.889Z"
   },
   {
    "duration": 5,
    "start_time": "2023-10-12T16:47:12.018Z"
   },
   {
    "duration": 176,
    "start_time": "2023-10-12T16:47:12.024Z"
   },
   {
    "duration": 6,
    "start_time": "2023-10-12T16:47:12.202Z"
   },
   {
    "duration": 15,
    "start_time": "2023-10-12T16:47:12.209Z"
   },
   {
    "duration": 37,
    "start_time": "2023-10-12T16:47:12.226Z"
   },
   {
    "duration": 8,
    "start_time": "2023-10-12T16:47:12.265Z"
   },
   {
    "duration": 10,
    "start_time": "2023-10-12T16:47:12.275Z"
   },
   {
    "duration": 42,
    "start_time": "2023-10-12T16:47:12.286Z"
   },
   {
    "duration": 35,
    "start_time": "2023-10-12T16:47:12.330Z"
   },
   {
    "duration": 21,
    "start_time": "2023-10-12T16:47:12.367Z"
   },
   {
    "duration": 32,
    "start_time": "2023-10-12T16:47:12.390Z"
   },
   {
    "duration": 250,
    "start_time": "2023-10-12T16:47:12.424Z"
   },
   {
    "duration": 8,
    "start_time": "2023-10-12T16:47:12.675Z"
   },
   {
    "duration": 25,
    "start_time": "2023-10-12T16:47:12.684Z"
   },
   {
    "duration": 18,
    "start_time": "2023-10-12T16:47:12.711Z"
   },
   {
    "duration": 28,
    "start_time": "2023-10-12T16:47:12.730Z"
   },
   {
    "duration": 6,
    "start_time": "2023-10-12T16:47:12.759Z"
   },
   {
    "duration": 15,
    "start_time": "2023-10-12T16:47:12.766Z"
   },
   {
    "duration": 17,
    "start_time": "2023-10-12T16:47:12.783Z"
   },
   {
    "duration": 177,
    "start_time": "2023-10-12T16:47:12.802Z"
   },
   {
    "duration": 11,
    "start_time": "2023-10-12T16:47:12.980Z"
   },
   {
    "duration": 66,
    "start_time": "2023-10-12T16:47:12.992Z"
   },
   {
    "duration": 16,
    "start_time": "2023-10-12T16:47:13.064Z"
   },
   {
    "duration": 21,
    "start_time": "2023-10-12T16:47:13.081Z"
   },
   {
    "duration": 15,
    "start_time": "2023-10-12T16:47:13.104Z"
   },
   {
    "duration": 17,
    "start_time": "2023-10-12T16:47:13.121Z"
   },
   {
    "duration": 21,
    "start_time": "2023-10-12T16:47:13.140Z"
   },
   {
    "duration": 99,
    "start_time": "2023-10-12T16:47:13.163Z"
   },
   {
    "duration": 44,
    "start_time": "2023-10-12T16:47:13.266Z"
   },
   {
    "duration": 15,
    "start_time": "2023-10-12T16:47:13.312Z"
   },
   {
    "duration": 52,
    "start_time": "2023-10-12T16:47:13.328Z"
   },
   {
    "duration": 199,
    "start_time": "2023-10-12T16:47:13.382Z"
   },
   {
    "duration": 323,
    "start_time": "2023-10-12T16:47:13.583Z"
   },
   {
    "duration": 189,
    "start_time": "2023-10-12T16:47:13.907Z"
   },
   {
    "duration": 208,
    "start_time": "2023-10-12T16:47:14.098Z"
   },
   {
    "duration": 346,
    "start_time": "2023-10-12T16:47:14.308Z"
   },
   {
    "duration": 335,
    "start_time": "2023-10-12T16:47:14.658Z"
   },
   {
    "duration": 7,
    "start_time": "2023-10-12T16:47:14.995Z"
   },
   {
    "duration": 110,
    "start_time": "2023-10-12T16:47:15.004Z"
   },
   {
    "duration": 123,
    "start_time": "2023-10-12T16:47:15.116Z"
   },
   {
    "duration": 69,
    "start_time": "2023-10-12T16:47:15.241Z"
   },
   {
    "duration": 32,
    "start_time": "2023-10-12T16:47:15.312Z"
   },
   {
    "duration": 927,
    "start_time": "2023-10-12T16:47:15.354Z"
   },
   {
    "duration": 3,
    "start_time": "2023-10-12T16:47:16.283Z"
   },
   {
    "duration": 17,
    "start_time": "2023-10-12T16:47:16.287Z"
   },
   {
    "duration": 3,
    "start_time": "2023-10-12T16:47:16.306Z"
   },
   {
    "duration": 174,
    "start_time": "2023-10-12T16:47:16.316Z"
   },
   {
    "duration": 7,
    "start_time": "2023-10-12T16:47:16.493Z"
   },
   {
    "duration": 21,
    "start_time": "2023-10-12T16:47:16.502Z"
   },
   {
    "duration": 35,
    "start_time": "2023-10-12T16:47:16.524Z"
   },
   {
    "duration": 31,
    "start_time": "2023-10-12T16:47:16.561Z"
   },
   {
    "duration": 142,
    "start_time": "2023-10-12T16:47:16.593Z"
   },
   {
    "duration": 25,
    "start_time": "2023-10-12T16:47:16.737Z"
   },
   {
    "duration": 15,
    "start_time": "2023-10-12T16:47:16.764Z"
   },
   {
    "duration": 26,
    "start_time": "2023-10-12T16:47:16.781Z"
   },
   {
    "duration": 76,
    "start_time": "2023-10-12T16:47:16.808Z"
   },
   {
    "duration": 6,
    "start_time": "2023-10-12T16:47:16.886Z"
   },
   {
    "duration": 18,
    "start_time": "2023-10-12T16:47:16.893Z"
   },
   {
    "duration": 15,
    "start_time": "2023-10-12T16:47:16.912Z"
   },
   {
    "duration": 32,
    "start_time": "2023-10-12T16:47:16.929Z"
   },
   {
    "duration": 60,
    "start_time": "2023-10-12T16:47:16.963Z"
   },
   {
    "duration": 61,
    "start_time": "2023-10-12T16:47:17.025Z"
   },
   {
    "duration": 36,
    "start_time": "2023-10-12T16:47:17.087Z"
   },
   {
    "duration": 34,
    "start_time": "2023-10-12T16:47:17.125Z"
   },
   {
    "duration": 31,
    "start_time": "2023-10-12T16:47:17.161Z"
   },
   {
    "duration": 53,
    "start_time": "2023-10-12T16:47:17.194Z"
   },
   {
    "duration": 98,
    "start_time": "2023-10-12T16:47:17.259Z"
   },
   {
    "duration": 34,
    "start_time": "2023-10-12T16:47:17.359Z"
   },
   {
    "duration": 36,
    "start_time": "2023-10-12T16:47:17.394Z"
   },
   {
    "duration": 53,
    "start_time": "2023-10-12T16:47:17.432Z"
   },
   {
    "duration": 34,
    "start_time": "2023-10-12T16:47:17.486Z"
   },
   {
    "duration": 32,
    "start_time": "2023-10-12T16:47:17.522Z"
   },
   {
    "duration": 28,
    "start_time": "2023-10-12T16:47:17.556Z"
   },
   {
    "duration": 30,
    "start_time": "2023-10-12T16:47:17.586Z"
   },
   {
    "duration": 290,
    "start_time": "2023-10-12T16:47:17.618Z"
   },
   {
    "duration": 3,
    "start_time": "2023-10-12T16:47:17.909Z"
   },
   {
    "duration": 26,
    "start_time": "2023-10-12T16:47:17.914Z"
   },
   {
    "duration": 38,
    "start_time": "2023-10-12T16:47:17.942Z"
   },
   {
    "duration": 75,
    "start_time": "2023-10-12T16:47:17.981Z"
   },
   {
    "duration": 20,
    "start_time": "2023-10-12T16:47:18.058Z"
   },
   {
    "duration": 28,
    "start_time": "2023-10-12T16:47:18.080Z"
   },
   {
    "duration": 20,
    "start_time": "2023-10-12T16:47:18.110Z"
   },
   {
    "duration": 27,
    "start_time": "2023-10-12T16:47:18.132Z"
   },
   {
    "duration": 36,
    "start_time": "2023-10-12T16:47:18.161Z"
   },
   {
    "duration": 21,
    "start_time": "2023-10-12T16:47:18.198Z"
   },
   {
    "duration": 15,
    "start_time": "2023-10-12T16:47:18.221Z"
   },
   {
    "duration": 59,
    "start_time": "2023-10-12T16:47:18.237Z"
   },
   {
    "duration": 9,
    "start_time": "2023-10-12T16:47:18.297Z"
   },
   {
    "duration": 49,
    "start_time": "2023-10-12T16:47:18.307Z"
   },
   {
    "duration": 22,
    "start_time": "2023-10-12T16:47:18.358Z"
   },
   {
    "duration": 39,
    "start_time": "2023-10-12T16:47:18.382Z"
   },
   {
    "duration": 1424,
    "start_time": "2023-10-13T07:54:51.497Z"
   },
   {
    "duration": 40,
    "start_time": "2023-10-13T07:54:52.923Z"
   },
   {
    "duration": 14,
    "start_time": "2023-10-13T07:54:52.964Z"
   },
   {
    "duration": 38,
    "start_time": "2023-10-13T07:54:52.981Z"
   },
   {
    "duration": 49,
    "start_time": "2023-10-13T07:54:53.020Z"
   },
   {
    "duration": 38,
    "start_time": "2023-10-13T07:54:53.070Z"
   },
   {
    "duration": 88,
    "start_time": "2023-10-13T07:54:53.110Z"
   },
   {
    "duration": 14,
    "start_time": "2023-10-13T07:54:53.202Z"
   },
   {
    "duration": 38,
    "start_time": "2023-10-13T07:54:53.218Z"
   },
   {
    "duration": 40,
    "start_time": "2023-10-13T07:54:53.259Z"
   },
   {
    "duration": 77,
    "start_time": "2023-10-13T07:54:53.301Z"
   },
   {
    "duration": 46,
    "start_time": "2023-10-13T07:54:53.380Z"
   },
   {
    "duration": 71,
    "start_time": "2023-10-13T07:54:53.428Z"
   },
   {
    "duration": 33,
    "start_time": "2023-10-13T07:54:53.501Z"
   },
   {
    "duration": 24,
    "start_time": "2023-10-13T07:54:53.536Z"
   },
   {
    "duration": 191,
    "start_time": "2023-10-13T07:54:53.562Z"
   },
   {
    "duration": 702,
    "start_time": "2023-10-13T07:54:53.755Z"
   },
   {
    "duration": 37,
    "start_time": "2023-10-13T07:54:54.460Z"
   },
   {
    "duration": 283,
    "start_time": "2023-10-13T07:54:54.498Z"
   },
   {
    "duration": 89,
    "start_time": "2023-10-13T07:54:54.782Z"
   },
   {
    "duration": 18,
    "start_time": "2023-10-13T07:54:54.874Z"
   },
   {
    "duration": 46,
    "start_time": "2023-10-13T07:54:54.894Z"
   },
   {
    "duration": 15,
    "start_time": "2023-10-13T07:54:54.942Z"
   },
   {
    "duration": 57,
    "start_time": "2023-10-13T07:54:54.959Z"
   },
   {
    "duration": 33,
    "start_time": "2023-10-13T07:54:55.019Z"
   },
   {
    "duration": 30,
    "start_time": "2023-10-13T07:54:55.054Z"
   },
   {
    "duration": 31,
    "start_time": "2023-10-13T07:54:55.086Z"
   },
   {
    "duration": 20,
    "start_time": "2023-10-13T07:54:55.127Z"
   },
   {
    "duration": 34,
    "start_time": "2023-10-13T07:54:55.149Z"
   },
   {
    "duration": 23,
    "start_time": "2023-10-13T07:54:55.185Z"
   },
   {
    "duration": 27,
    "start_time": "2023-10-13T07:54:55.210Z"
   },
   {
    "duration": 279,
    "start_time": "2023-10-13T07:54:55.239Z"
   },
   {
    "duration": 210,
    "start_time": "2023-10-13T07:54:55.520Z"
   },
   {
    "duration": 6,
    "start_time": "2023-10-13T07:54:55.732Z"
   },
   {
    "duration": 157,
    "start_time": "2023-10-13T07:54:55.745Z"
   },
   {
    "duration": 8,
    "start_time": "2023-10-13T07:54:55.905Z"
   },
   {
    "duration": 295,
    "start_time": "2023-10-13T07:54:55.915Z"
   },
   {
    "duration": 6,
    "start_time": "2023-10-13T07:54:56.212Z"
   },
   {
    "duration": 1750,
    "start_time": "2023-10-13T07:54:56.219Z"
   },
   {
    "duration": 21,
    "start_time": "2023-10-13T07:54:57.971Z"
   },
   {
    "duration": 19,
    "start_time": "2023-10-13T07:54:57.994Z"
   },
   {
    "duration": 16,
    "start_time": "2023-10-13T07:54:58.014Z"
   },
   {
    "duration": 19,
    "start_time": "2023-10-13T07:54:58.032Z"
   },
   {
    "duration": 23,
    "start_time": "2023-10-13T07:54:58.053Z"
   },
   {
    "duration": 7,
    "start_time": "2023-10-13T07:54:58.078Z"
   },
   {
    "duration": 24,
    "start_time": "2023-10-13T07:54:58.086Z"
   },
   {
    "duration": 216,
    "start_time": "2023-10-13T07:54:58.111Z"
   },
   {
    "duration": 7,
    "start_time": "2023-10-13T07:54:58.328Z"
   },
   {
    "duration": 7,
    "start_time": "2023-10-13T07:54:58.344Z"
   },
   {
    "duration": 14,
    "start_time": "2023-10-13T07:54:58.352Z"
   },
   {
    "duration": 22,
    "start_time": "2023-10-13T07:54:58.367Z"
   },
   {
    "duration": 11,
    "start_time": "2023-10-13T07:54:58.391Z"
   },
   {
    "duration": 20,
    "start_time": "2023-10-13T07:54:58.404Z"
   },
   {
    "duration": 55,
    "start_time": "2023-10-13T07:54:58.426Z"
   },
   {
    "duration": 191,
    "start_time": "2023-10-13T07:54:58.483Z"
   },
   {
    "duration": 12,
    "start_time": "2023-10-13T07:54:58.675Z"
   },
   {
    "duration": 234,
    "start_time": "2023-10-13T07:54:58.689Z"
   },
   {
    "duration": 336,
    "start_time": "2023-10-13T07:54:58.925Z"
   },
   {
    "duration": 31,
    "start_time": "2023-10-13T07:54:59.264Z"
   },
   {
    "duration": 13,
    "start_time": "2023-10-13T07:54:59.297Z"
   },
   {
    "duration": 26,
    "start_time": "2023-10-13T07:54:59.312Z"
   },
   {
    "duration": 60,
    "start_time": "2023-10-13T07:54:59.339Z"
   },
   {
    "duration": 19,
    "start_time": "2023-10-13T07:54:59.401Z"
   },
   {
    "duration": 25,
    "start_time": "2023-10-13T07:54:59.422Z"
   },
   {
    "duration": 24,
    "start_time": "2023-10-13T07:54:59.449Z"
   },
   {
    "duration": 35,
    "start_time": "2023-10-13T07:54:59.474Z"
   },
   {
    "duration": 272,
    "start_time": "2023-10-13T07:54:59.511Z"
   },
   {
    "duration": 311,
    "start_time": "2023-10-13T07:54:59.786Z"
   },
   {
    "duration": 223,
    "start_time": "2023-10-13T07:55:00.099Z"
   },
   {
    "duration": 220,
    "start_time": "2023-10-13T07:55:00.324Z"
   },
   {
    "duration": 412,
    "start_time": "2023-10-13T07:55:00.547Z"
   },
   {
    "duration": 345,
    "start_time": "2023-10-13T07:55:00.961Z"
   },
   {
    "duration": 8,
    "start_time": "2023-10-13T07:55:01.307Z"
   },
   {
    "duration": 1279,
    "start_time": "2023-10-13T07:55:01.317Z"
   },
   {
    "duration": 44,
    "start_time": "2023-10-13T07:55:02.598Z"
   },
   {
    "duration": 55,
    "start_time": "2023-10-13T07:55:02.645Z"
   },
   {
    "duration": 40,
    "start_time": "2023-10-13T07:55:02.702Z"
   },
   {
    "duration": 1045,
    "start_time": "2023-10-13T07:55:02.745Z"
   },
   {
    "duration": 5,
    "start_time": "2023-10-13T07:55:03.792Z"
   },
   {
    "duration": 38,
    "start_time": "2023-10-13T07:55:03.798Z"
   },
   {
    "duration": 23,
    "start_time": "2023-10-13T07:55:03.837Z"
   },
   {
    "duration": 203,
    "start_time": "2023-10-13T07:55:03.866Z"
   },
   {
    "duration": 10,
    "start_time": "2023-10-13T07:55:04.071Z"
   },
   {
    "duration": 42,
    "start_time": "2023-10-13T07:55:04.083Z"
   },
   {
    "duration": 14,
    "start_time": "2023-10-13T07:55:04.127Z"
   },
   {
    "duration": 50,
    "start_time": "2023-10-13T07:55:04.143Z"
   },
   {
    "duration": 20,
    "start_time": "2023-10-13T07:55:04.195Z"
   },
   {
    "duration": 7,
    "start_time": "2023-10-13T07:55:04.217Z"
   },
   {
    "duration": 9,
    "start_time": "2023-10-13T07:55:04.226Z"
   },
   {
    "duration": 5,
    "start_time": "2023-10-13T07:55:04.238Z"
   },
   {
    "duration": 10,
    "start_time": "2023-10-13T07:55:04.245Z"
   },
   {
    "duration": 10,
    "start_time": "2023-10-13T07:55:04.257Z"
   },
   {
    "duration": 12,
    "start_time": "2023-10-13T07:55:04.269Z"
   },
   {
    "duration": 9,
    "start_time": "2023-10-13T07:55:04.283Z"
   },
   {
    "duration": 21,
    "start_time": "2023-10-13T07:55:04.294Z"
   },
   {
    "duration": 10,
    "start_time": "2023-10-13T07:55:04.317Z"
   },
   {
    "duration": 8,
    "start_time": "2023-10-13T07:55:04.329Z"
   },
   {
    "duration": 8,
    "start_time": "2023-10-13T07:55:04.339Z"
   },
   {
    "duration": 11,
    "start_time": "2023-10-13T07:55:04.349Z"
   },
   {
    "duration": 7,
    "start_time": "2023-10-13T07:55:04.363Z"
   },
   {
    "duration": 13,
    "start_time": "2023-10-13T07:55:04.373Z"
   },
   {
    "duration": 70,
    "start_time": "2023-10-13T07:55:04.389Z"
   },
   {
    "duration": 20,
    "start_time": "2023-10-13T07:55:04.461Z"
   },
   {
    "duration": 29,
    "start_time": "2023-10-13T07:55:04.483Z"
   },
   {
    "duration": 39,
    "start_time": "2023-10-13T07:55:04.514Z"
   },
   {
    "duration": 19,
    "start_time": "2023-10-13T07:55:04.555Z"
   },
   {
    "duration": 48,
    "start_time": "2023-10-13T07:55:04.576Z"
   },
   {
    "duration": 22,
    "start_time": "2023-10-13T07:55:04.626Z"
   },
   {
    "duration": 17,
    "start_time": "2023-10-13T07:55:04.650Z"
   },
   {
    "duration": 264,
    "start_time": "2023-10-13T07:55:04.670Z"
   },
   {
    "duration": 10,
    "start_time": "2023-10-13T07:55:04.936Z"
   },
   {
    "duration": 11,
    "start_time": "2023-10-13T07:55:04.950Z"
   },
   {
    "duration": 39,
    "start_time": "2023-10-13T07:55:04.963Z"
   },
   {
    "duration": 34,
    "start_time": "2023-10-13T07:55:05.005Z"
   },
   {
    "duration": 24,
    "start_time": "2023-10-13T07:55:05.042Z"
   },
   {
    "duration": 31,
    "start_time": "2023-10-13T07:55:05.068Z"
   },
   {
    "duration": 48,
    "start_time": "2023-10-13T07:55:05.101Z"
   },
   {
    "duration": 17,
    "start_time": "2023-10-13T07:55:05.151Z"
   },
   {
    "duration": 14,
    "start_time": "2023-10-13T07:55:05.171Z"
   },
   {
    "duration": 19,
    "start_time": "2023-10-13T07:55:05.187Z"
   },
   {
    "duration": 35,
    "start_time": "2023-10-13T07:55:05.208Z"
   },
   {
    "duration": 31,
    "start_time": "2023-10-13T07:55:05.245Z"
   },
   {
    "duration": 29,
    "start_time": "2023-10-13T07:55:05.278Z"
   },
   {
    "duration": 12,
    "start_time": "2023-10-13T07:55:05.309Z"
   },
   {
    "duration": 18,
    "start_time": "2023-10-13T07:55:05.323Z"
   },
   {
    "duration": 35,
    "start_time": "2023-10-13T07:55:05.342Z"
   },
   {
    "duration": 1455,
    "start_time": "2024-06-21T08:26:29.763Z"
   },
   {
    "duration": 74,
    "start_time": "2024-06-21T08:26:31.221Z"
   },
   {
    "duration": 792,
    "start_time": "2024-06-21T08:26:31.300Z"
   },
   {
    "duration": 661,
    "start_time": "2024-06-21T08:26:32.094Z"
   },
   {
    "duration": 118,
    "start_time": "2024-06-21T08:26:32.757Z"
   },
   {
    "duration": 69,
    "start_time": "2024-06-21T08:26:32.877Z"
   },
   {
    "duration": 137,
    "start_time": "2024-06-21T08:26:32.948Z"
   },
   {
    "duration": 12,
    "start_time": "2024-06-21T08:26:33.087Z"
   },
   {
    "duration": 73,
    "start_time": "2024-06-21T08:26:33.102Z"
   },
   {
    "duration": 43,
    "start_time": "2024-06-21T08:26:33.176Z"
   },
   {
    "duration": 65,
    "start_time": "2024-06-21T08:26:33.221Z"
   },
   {
    "duration": 73,
    "start_time": "2024-06-21T08:26:33.289Z"
   },
   {
    "duration": 11,
    "start_time": "2024-06-21T08:26:33.364Z"
   },
   {
    "duration": 39,
    "start_time": "2024-06-21T08:26:33.376Z"
   },
   {
    "duration": 32,
    "start_time": "2024-06-21T08:26:33.416Z"
   },
   {
    "duration": 56,
    "start_time": "2024-06-21T08:26:33.450Z"
   },
   {
    "duration": 63,
    "start_time": "2024-06-21T08:26:33.508Z"
   },
   {
    "duration": 33,
    "start_time": "2024-06-21T08:26:33.573Z"
   },
   {
    "duration": 68,
    "start_time": "2024-06-21T08:26:33.607Z"
   },
   {
    "duration": 143,
    "start_time": "2024-06-21T08:26:33.676Z"
   },
   {
    "duration": 55,
    "start_time": "2024-06-21T08:26:33.822Z"
   },
   {
    "duration": 69,
    "start_time": "2024-06-21T08:26:33.879Z"
   },
   {
    "duration": 101,
    "start_time": "2024-06-21T08:26:33.949Z"
   },
   {
    "duration": 51,
    "start_time": "2024-06-21T08:26:34.051Z"
   },
   {
    "duration": 63,
    "start_time": "2024-06-21T08:26:34.104Z"
   },
   {
    "duration": 65,
    "start_time": "2024-06-21T08:26:34.169Z"
   },
   {
    "duration": 47,
    "start_time": "2024-06-21T08:26:34.238Z"
   },
   {
    "duration": 53,
    "start_time": "2024-06-21T08:26:34.286Z"
   },
   {
    "duration": 47,
    "start_time": "2024-06-21T08:26:34.341Z"
   },
   {
    "duration": 70,
    "start_time": "2024-06-21T08:26:34.390Z"
   },
   {
    "duration": 68,
    "start_time": "2024-06-21T08:26:34.462Z"
   },
   {
    "duration": 214,
    "start_time": "2024-06-21T08:26:34.532Z"
   },
   {
    "duration": 180,
    "start_time": "2024-06-21T08:26:34.748Z"
   },
   {
    "duration": 6,
    "start_time": "2024-06-21T08:26:34.929Z"
   },
   {
    "duration": 208,
    "start_time": "2024-06-21T08:26:34.946Z"
   },
   {
    "duration": 27,
    "start_time": "2024-06-21T08:26:35.156Z"
   },
   {
    "duration": 364,
    "start_time": "2024-06-21T08:26:35.185Z"
   },
   {
    "duration": 6,
    "start_time": "2024-06-21T08:26:35.551Z"
   },
   {
    "duration": 225,
    "start_time": "2024-06-21T08:26:35.559Z"
   },
   {
    "duration": 115,
    "start_time": "2024-06-21T08:26:35.787Z"
   },
   {
    "duration": 103,
    "start_time": "2024-06-21T08:26:35.904Z"
   },
   {
    "duration": 58,
    "start_time": "2024-06-21T08:26:36.009Z"
   },
   {
    "duration": 271,
    "start_time": "2024-06-21T08:26:36.069Z"
   },
   {
    "duration": 9,
    "start_time": "2024-06-21T08:26:36.342Z"
   },
   {
    "duration": 58,
    "start_time": "2024-06-21T08:26:36.352Z"
   },
   {
    "duration": 68,
    "start_time": "2024-06-21T08:26:36.412Z"
   },
   {
    "duration": 70,
    "start_time": "2024-06-21T08:26:36.481Z"
   },
   {
    "duration": 76,
    "start_time": "2024-06-21T08:26:36.552Z"
   },
   {
    "duration": 145,
    "start_time": "2024-06-21T08:26:36.629Z"
   },
   {
    "duration": 159,
    "start_time": "2024-06-21T08:26:36.775Z"
   },
   {
    "duration": 213,
    "start_time": "2024-06-21T08:26:36.935Z"
   },
   {
    "duration": 10,
    "start_time": "2024-06-21T08:26:37.149Z"
   },
   {
    "duration": 75,
    "start_time": "2024-06-21T08:26:37.161Z"
   },
   {
    "duration": 63,
    "start_time": "2024-06-21T08:26:37.238Z"
   },
   {
    "duration": 47,
    "start_time": "2024-06-21T08:26:37.303Z"
   },
   {
    "duration": 37,
    "start_time": "2024-06-21T08:26:37.352Z"
   },
   {
    "duration": 62,
    "start_time": "2024-06-21T08:26:37.391Z"
   },
   {
    "duration": 78,
    "start_time": "2024-06-21T08:26:37.455Z"
   },
   {
    "duration": 70,
    "start_time": "2024-06-21T08:26:37.535Z"
   },
   {
    "duration": 179,
    "start_time": "2024-06-21T08:26:37.607Z"
   },
   {
    "duration": 152,
    "start_time": "2024-06-21T08:26:37.788Z"
   },
   {
    "duration": 584,
    "start_time": "2024-06-21T08:26:37.945Z"
   },
   {
    "duration": 469,
    "start_time": "2024-06-21T08:26:38.532Z"
   },
   {
    "duration": 320,
    "start_time": "2024-06-21T08:26:39.003Z"
   },
   {
    "duration": 229,
    "start_time": "2024-06-21T08:26:39.324Z"
   },
   {
    "duration": 225,
    "start_time": "2024-06-21T08:26:39.555Z"
   },
   {
    "duration": 311,
    "start_time": "2024-06-21T08:26:39.782Z"
   },
   {
    "duration": 326,
    "start_time": "2024-06-21T08:26:40.094Z"
   },
   {
    "duration": 23,
    "start_time": "2024-06-21T08:26:40.423Z"
   },
   {
    "duration": 9,
    "start_time": "2024-06-21T08:26:40.448Z"
   },
   {
    "duration": 18,
    "start_time": "2024-06-21T08:26:40.459Z"
   },
   {
    "duration": 9,
    "start_time": "2024-06-21T08:26:40.479Z"
   },
   {
    "duration": 8,
    "start_time": "2024-06-21T08:26:40.490Z"
   },
   {
    "duration": 1002,
    "start_time": "2024-06-21T08:26:40.500Z"
   },
   {
    "duration": 4,
    "start_time": "2024-06-21T08:26:41.503Z"
   },
   {
    "duration": 36,
    "start_time": "2024-06-21T08:26:41.508Z"
   },
   {
    "duration": 20,
    "start_time": "2024-06-21T08:26:41.546Z"
   },
   {
    "duration": 163,
    "start_time": "2024-06-21T08:26:41.567Z"
   },
   {
    "duration": 14,
    "start_time": "2024-06-21T08:26:41.732Z"
   },
   {
    "duration": 14,
    "start_time": "2024-06-21T08:26:41.748Z"
   },
   {
    "duration": 27,
    "start_time": "2024-06-21T08:26:41.770Z"
   },
   {
    "duration": 20,
    "start_time": "2024-06-21T08:26:41.799Z"
   },
   {
    "duration": 5,
    "start_time": "2024-06-21T08:26:41.821Z"
   },
   {
    "duration": 26,
    "start_time": "2024-06-21T08:26:41.828Z"
   },
   {
    "duration": 11,
    "start_time": "2024-06-21T08:26:41.856Z"
   },
   {
    "duration": 19,
    "start_time": "2024-06-21T08:26:41.869Z"
   },
   {
    "duration": 34,
    "start_time": "2024-06-21T08:26:41.890Z"
   },
   {
    "duration": 10,
    "start_time": "2024-06-21T08:26:41.926Z"
   },
   {
    "duration": 5,
    "start_time": "2024-06-21T08:26:41.938Z"
   },
   {
    "duration": 12,
    "start_time": "2024-06-21T08:26:41.944Z"
   },
   {
    "duration": 15,
    "start_time": "2024-06-21T08:26:41.958Z"
   },
   {
    "duration": 24,
    "start_time": "2024-06-21T08:26:41.974Z"
   },
   {
    "duration": 21,
    "start_time": "2024-06-21T08:26:41.999Z"
   },
   {
    "duration": 18,
    "start_time": "2024-06-21T08:26:42.021Z"
   },
   {
    "duration": 65,
    "start_time": "2024-06-21T08:26:42.041Z"
   },
   {
    "duration": 6,
    "start_time": "2024-06-21T08:26:42.108Z"
   },
   {
    "duration": 7,
    "start_time": "2024-06-21T08:26:42.115Z"
   },
   {
    "duration": 17,
    "start_time": "2024-06-21T08:26:42.123Z"
   },
   {
    "duration": 6,
    "start_time": "2024-06-21T08:26:42.142Z"
   },
   {
    "duration": 11,
    "start_time": "2024-06-21T08:26:42.149Z"
   },
   {
    "duration": 36,
    "start_time": "2024-06-21T08:26:42.161Z"
   },
   {
    "duration": 8,
    "start_time": "2024-06-21T08:26:42.199Z"
   },
   {
    "duration": 4,
    "start_time": "2024-06-21T08:26:42.208Z"
   },
   {
    "duration": 10,
    "start_time": "2024-06-21T08:26:42.214Z"
   },
   {
    "duration": 23,
    "start_time": "2024-06-21T08:26:42.225Z"
   },
   {
    "duration": 270,
    "start_time": "2024-06-21T08:26:42.250Z"
   },
   {
    "duration": 3,
    "start_time": "2024-06-21T08:26:42.523Z"
   },
   {
    "duration": 20,
    "start_time": "2024-06-21T08:26:42.528Z"
   },
   {
    "duration": 13,
    "start_time": "2024-06-21T08:26:42.550Z"
   },
   {
    "duration": 4,
    "start_time": "2024-06-21T08:26:42.565Z"
   },
   {
    "duration": 7,
    "start_time": "2024-06-21T08:26:42.570Z"
   },
   {
    "duration": 4,
    "start_time": "2024-06-21T08:26:42.579Z"
   },
   {
    "duration": 5,
    "start_time": "2024-06-21T08:26:42.585Z"
   },
   {
    "duration": 13,
    "start_time": "2024-06-21T08:26:42.592Z"
   },
   {
    "duration": 8,
    "start_time": "2024-06-21T08:26:42.606Z"
   },
   {
    "duration": 35,
    "start_time": "2024-06-21T08:26:42.616Z"
   },
   {
    "duration": 7,
    "start_time": "2024-06-21T08:26:42.653Z"
   },
   {
    "duration": 27,
    "start_time": "2024-06-21T08:26:42.662Z"
   },
   {
    "duration": 2,
    "start_time": "2024-06-21T08:26:42.691Z"
   },
   {
    "duration": 38,
    "start_time": "2024-06-21T08:26:42.694Z"
   },
   {
    "duration": 8,
    "start_time": "2024-06-21T08:26:42.733Z"
   },
   {
    "duration": 8,
    "start_time": "2024-06-21T08:26:42.742Z"
   }
  ],
  "kernelspec": {
   "display_name": "Python 3 (ipykernel)",
   "language": "python",
   "name": "python3"
  },
  "language_info": {
   "codemirror_mode": {
    "name": "ipython",
    "version": 3
   },
   "file_extension": ".py",
   "mimetype": "text/x-python",
   "name": "python",
   "nbconvert_exporter": "python",
   "pygments_lexer": "ipython3",
   "version": "3.9.5"
  },
  "toc": {
   "base_numbering": 1,
   "nav_menu": {},
   "number_sections": true,
   "sideBar": true,
   "skip_h1_title": true,
   "title_cell": "Table of Contents",
   "title_sidebar": "Contents",
   "toc_cell": false,
   "toc_position": {},
   "toc_section_display": true,
   "toc_window_display": false
  }
 },
 "nbformat": 4,
 "nbformat_minor": 5
}
